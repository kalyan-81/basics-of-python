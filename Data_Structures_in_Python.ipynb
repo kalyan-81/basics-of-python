{
  "nbformat": 4,
  "nbformat_minor": 0,
  "metadata": {
    "colab": {
      "name": "Data Structures in Python.ipynb",
      "provenance": [],
      "collapsed_sections": [],
      "authorship_tag": "ABX9TyOeF+l+oXcHjVvDdDpVT9Hz",
      "include_colab_link": true
    },
    "kernelspec": {
      "name": "python3",
      "display_name": "Python 3"
    },
    "language_info": {
      "name": "python"
    }
  },
  "cells": [
    {
      "cell_type": "markdown",
      "metadata": {
        "id": "view-in-github",
        "colab_type": "text"
      },
      "source": [
        "<a href=\"https://colab.research.google.com/github/kalyan-81/basics-of-python/blob/main/Data_Structures_in_Python.ipynb\" target=\"_parent\"><img src=\"https://colab.research.google.com/assets/colab-badge.svg\" alt=\"Open In Colab\"/></a>"
      ]
    },
    {
      "cell_type": "markdown",
      "source": [
        "# lecture 19: Data structures\n",
        "Python provides data structures like arrays, lists, tuples sets and dictionaries. These data structures stores the elements in various models. Basically, data structures represents arrangement of elements in memory in  particular model.**Data structures are also known as abstract data types(ADTs).**\n",
        "when we want to strore the data in memory and apply some logic to get the results instantly. here we should use data structures.\n",
        "\n",
        "example:\n",
        "customer queue at the billing counter in a shopping mall.\n",
        "\n",
        "in this we will  implement fundamental data structures with the help of lists.\n",
        "* linked lists\n",
        "* stacks\n",
        "* queues\n",
        "* deques"
      ],
      "metadata": {
        "id": "L2BOKNqEj4p5"
      }
    },
    {
      "cell_type": "markdown",
      "source": [
        "# linked lists\n",
        "linked lists contains group of elements in the form of nodes. Each node will have a three fields.\n",
        "* the data field that contains data.\n",
        "* a link field that contains reference to the previous node.\n",
        "* another field that contains reference to the next node.\n",
        "\n",
        "link fields store  references, i.e memory locations. These link fields are useful to move from one node to another node in the linked list so that any operation can be done in a minimum amount of time.\n",
        "\n",
        "* linked list is very convenient to store data. The operaions like inserting elements, removing elements, searching for an element etc. are done by very quickly and almost in the same amount of time. linked list is one of the fastest data structure.. Hence, linked lists is used where time  critical operations are to be performed.\n",
        "\n",
        "Python provides list data type that can be used to implement linked lists. The following are the operations that are generally performed on liked lists.\n",
        "* Traversing the linked list\n",
        "* appending elements to the linked list\n",
        "* inserting elements to the linked list\n",
        "* removing elements from the linked list\n",
        "* replacing elements in the linked lists\n",
        "* searching for an element location in the linked list\n",
        "* size of the linked list\n"
      ],
      "metadata": {
        "id": "RjgIUtYVtaVQ"
      }
    },
    {
      "cell_type": "markdown",
      "source": [
        "\n",
        "\n"
      ],
      "metadata": {
        "id": "DvaFBFLE0kBY"
      }
    },
    {
      "cell_type": "markdown",
      "source": [
        ""
      ],
      "metadata": {
        "id": "p3-mvlEz0kM2"
      }
    },
    {
      "cell_type": "code",
      "execution_count": null,
      "metadata": {
        "colab": {
          "base_uri": "https://localhost:8080/"
        },
        "id": "Bzumjx22jd9o",
        "outputId": "20a9ace8-75e2-45b8-e221-a00a273f4b5c"
      },
      "outputs": [
        {
          "output_type": "stream",
          "name": "stdout",
          "text": [
            "linked list elements ['hyderabad', 'secunderabad', 'dilsukhnagar']\n"
          ]
        }
      ],
      "source": [
        "#create an empty linked list \n",
        "list1=[]\n",
        "# adding some string type elements to list1 \n",
        "list1.append('hyderabad')\n",
        "list1.append('secunderabad')\n",
        "list1.append('dilsukhnagar')\n",
        "# display the elements \n",
        "print('linked list elements',list1)"
      ]
    },
    {
      "cell_type": "code",
      "source": [
        "#traversing the list means visiting every node and display it\n",
        "for node in list1:\n",
        "  print(node)\n"
      ],
      "metadata": {
        "colab": {
          "base_uri": "https://localhost:8080/"
        },
        "id": "SxU4LCOk3eaN",
        "outputId": "76417a10-a938-49d2-bcc7-5b820dbea856"
      },
      "execution_count": null,
      "outputs": [
        {
          "output_type": "stream",
          "name": "stdout",
          "text": [
            "hyderabad\n",
            "secunderabad\n",
            "dilsukhnagar\n"
          ]
        }
      ]
    },
    {
      "cell_type": "code",
      "source": [
        "#inserting nodes into list\n",
        "element= input('enter element')\n",
        "ref=int(input('at what position you want to insert:')) #position is nothing but\n",
        "list1.insert(ref,element)\n",
        "print(list1)"
      ],
      "metadata": {
        "colab": {
          "base_uri": "https://localhost:8080/"
        },
        "id": "FCeNFA3q4BIO",
        "outputId": "3235d5e0-bcd6-4c36-fd7d-a94db74f90e4"
      },
      "execution_count": null,
      "outputs": [
        {
          "output_type": "stream",
          "name": "stdout",
          "text": [
            "enter elementuppal\n",
            "at what position you want to insert:2\n",
            "['hyderabad', 'secunderabad', 'uppal', 'dilsukhnagar']\n"
          ]
        }
      ]
    },
    {
      "cell_type": "code",
      "source": [
        "#remove the elements from the list\n",
        "try:\n",
        "  element=input('enter the element you want to remove:')\n",
        "  list1.remove(element)\n",
        "except:\n",
        "  print('element not found')\n",
        "  "
      ],
      "metadata": {
        "colab": {
          "base_uri": "https://localhost:8080/"
        },
        "id": "CNHQTgWI4CCP",
        "outputId": "c673eabf-866d-4aca-b3ef-e6a7def5522c"
      },
      "execution_count": null,
      "outputs": [
        {
          "name": "stdout",
          "output_type": "stream",
          "text": [
            "enter the element you want to remove:hyderabad\n"
          ]
        }
      ]
    },
    {
      "cell_type": "code",
      "source": [
        "print(list1)"
      ],
      "metadata": {
        "colab": {
          "base_uri": "https://localhost:8080/"
        },
        "id": "nmleucgA6WA3",
        "outputId": "ecf890ec-fe62-4844-822a-2b0ba6b1f4d8"
      },
      "execution_count": null,
      "outputs": [
        {
          "output_type": "stream",
          "name": "stdout",
          "text": [
            "['secunderabad', 'uppal', 'dilsukhnagar']\n"
          ]
        }
      ]
    },
    {
      "cell_type": "code",
      "source": [
        "# replace elements\n",
        "element=input('enter the element you want to insert')\n",
        "pos=int(input('enter the position at where you want to insert'))\n",
        "list1.pop(pos)\n",
        "list1.insert(pos,element)\n",
        "print(list1)"
      ],
      "metadata": {
        "colab": {
          "base_uri": "https://localhost:8080/"
        },
        "id": "_y0bqe8H6cAD",
        "outputId": "a01830b1-19b1-4c1b-f9ed-c5787a2f84de"
      },
      "execution_count": null,
      "outputs": [
        {
          "output_type": "stream",
          "name": "stdout",
          "text": [
            "enter the element you want to insertkothapet\n",
            "enter the position at where you want to insert0\n",
            "['kothapet', 'uppal', 'dilsukhnagar']\n"
          ]
        }
      ]
    },
    {
      "cell_type": "code",
      "source": [
        "#searching for the element\n",
        "element=input('enter element you want ot search')\n",
        "try:\n",
        "  pos=list1.index(element)\n",
        "  print('element found at position',pos)\n",
        "except:\n",
        "  print('element not found')"
      ],
      "metadata": {
        "colab": {
          "base_uri": "https://localhost:8080/"
        },
        "id": "RUHSeDk78OZz",
        "outputId": "b4ad834c-38dc-4b2c-c37b-b3c1a0a50604"
      },
      "execution_count": null,
      "outputs": [
        {
          "output_type": "stream",
          "name": "stdout",
          "text": [
            "enter element you want ot searchuppal\n",
            "element found at position 1\n"
          ]
        }
      ]
    },
    {
      "cell_type": "markdown",
      "source": [
        "# Stacks\n",
        "A stack represents a group of elements stored in LIFO (Last In Fist Out) order.\n",
        "This means that the element which is stored as a last element into the stack will be the first element to be removed from the stack.\n",
        "\n",
        "**push**: Inserting elements(objects) into the stack is called push operation.\\\n",
        "**pop**: Removing elements from the stack is called pop operation.\\\n",
        "**peep**: searching for the element and returning it without removing it from the stack is called peep operation. It returns the topmost element.\n",
        "**also called peek** operation.\n",
        "* insertion and deletion of elements take place only from one side of the stack called 'top' of the stack. other side of the stack is called 'bottom' of the  stack which is closed and thus does not allow any operation.\n",
        "\n",
        "**searching Operation**: knowing the position of an element in the stack from the top of the stack. index() method is used.\n",
        "\n",
        "**Empty stack or not**: stack == [] that returns True if empty else False will return.\n",
        "\n",
        "Applications of stacks:\n",
        "* stack is internally used by the operating system to save the  program execution environment. it means that when the programming is running, the state of the variables and information about the execution status are stored in a stack.\n",
        "* stack is used in expression evaluation. While evaluating expressions like ax+by*5. they are converted into postfix or prefix notations using a stack and stored into the stack. later they are retrieved from the stack and evaluated according to certain rules.\n"
      ],
      "metadata": {
        "id": "wIC3aDhw-gog"
      }
    },
    {
      "cell_type": "code",
      "source": [
        "# python program to create a stack class and methods to perform above mentioned operations\n",
        "class stack:\n",
        "  def __init__(self):\n",
        "    self.st=[]\n",
        "  def  isempty(self):\n",
        "    return self.st==[]\n",
        "  def push(self,element):\n",
        "    self.st.append(element)\n",
        "  def pop(self):\n",
        "    if self.isempty():\n",
        "      return -1\n",
        "    else:\n",
        "      return self.st.pop()\n",
        "  def peep(self):\n",
        "    n=len(self.st)\n",
        "    return self.st[n-1]\n",
        "  def search(self,element):\n",
        "    if self.isempty():\n",
        "      return -1\n",
        "    else:\n",
        "      try:\n",
        "        n=self.st.index(element)\n",
        "        return len(self.st)-n\n",
        "      except:\n",
        "        return -2\n",
        "  def display(self):\n",
        "    return self.st"
      ],
      "metadata": {
        "id": "zz6TzbKm959y"
      },
      "execution_count": null,
      "outputs": []
    },
    {
      "cell_type": "code",
      "source": [
        "# creat an object for the above class stack and do operations\n",
        "\n",
        "#creat an empty stack object\n",
        "s=stack()\n",
        "#display menu\n",
        "choice=0\n",
        "while choice<5:\n",
        "  print('stack operations')\n",
        "  print('1 for Push element')\n",
        "  print('2 for pop element')\n",
        "  print('3 for peep element')\n",
        "  print('4 search for element')\n",
        "  print('5 for exit')\n",
        "  choice=int(input('your choice:'))\n",
        "  # performing taks depending on choice\n",
        "  if choice==1:\n",
        "    element=int(input('enter element:'))\n",
        "    s.push(element)\n",
        "  elif choice==2:\n",
        "    element=s.pop()\n",
        "    if element == -1:\n",
        "      print('the stack is empty')\n",
        "    else:\n",
        "      print('popped element=',element)\n",
        "  elif choice ==3:\n",
        "    element =s.peep()\n",
        "    print('topmost element=',element)\n",
        "  elif choice==4:\n",
        "    element =int(input('enter element:'))\n",
        "    pos=s.search(element)\n",
        "    if pos == -1:\n",
        "      print('the stack is empty')\n",
        "    elif pos==-2:\n",
        "      print('element not found in the stack')\n",
        "    else:\n",
        "      print('element found at the position',pos)\n",
        "  else:\n",
        "    break\n",
        "  #display the content of stack object\n",
        "  print('stack=',s.display())\n"
      ],
      "metadata": {
        "colab": {
          "base_uri": "https://localhost:8080/"
        },
        "id": "RVCteSUqn413",
        "outputId": "fd8a5a75-1c5c-4a8b-f631-07f1a0bcf09b"
      },
      "execution_count": null,
      "outputs": [
        {
          "name": "stdout",
          "output_type": "stream",
          "text": [
            "stack operations\n",
            "1 for Push element\n",
            "2 for pop element\n",
            "3 for peep element\n",
            "4 search for element\n",
            "5 for exit\n",
            "your choice:1\n",
            "enter element:10\n",
            "stack= [10]\n",
            "stack operations\n",
            "1 for Push element\n",
            "2 for pop element\n",
            "3 for peep element\n",
            "4 search for element\n",
            "5 for exit\n",
            "your choice:1\n",
            "enter element:20\n",
            "stack= [10, 20]\n",
            "stack operations\n",
            "1 for Push element\n",
            "2 for pop element\n",
            "3 for peep element\n",
            "4 search for element\n",
            "5 for exit\n",
            "your choice:1\n",
            "enter element:30\n",
            "stack= [10, 20, 30]\n",
            "stack operations\n",
            "1 for Push element\n",
            "2 for pop element\n",
            "3 for peep element\n",
            "4 search for element\n",
            "5 for exit\n",
            "your choice:4\n",
            "enter element:20\n",
            "element found at the position 2\n",
            "stack= [10, 20, 30]\n",
            "stack operations\n",
            "1 for Push element\n",
            "2 for pop element\n",
            "3 for peep element\n",
            "4 search for element\n",
            "5 for exit\n",
            "your choice:5\n"
          ]
        }
      ]
    },
    {
      "cell_type": "markdown",
      "source": [
        "# Queues\n",
        "If we arrang the elements in memory in such  a way that the first element will come out of first(FIFO), then that arrangment is called QUEUE.\n",
        "* deletion of elements done from the front of the queue.\n",
        "* insertion of elements should be done only at its end.\n",
        "* it is not possible to do any operations in the middle of the queue\n",
        "\n",
        "**operations**\n",
        "* adding a new element\n",
        "* deleting an element\n",
        "* searching the position of an element\n"
      ],
      "metadata": {
        "id": "Du5mqKcrtJFg"
      }
    },
    {
      "cell_type": "code",
      "source": [
        "from re import escape\n",
        "# create a queue class using list \n",
        "class queue:\n",
        "  def __init__(self):\n",
        "    self.q=[]\n",
        "  def isempty(self):\n",
        "    return self.q==[]\n",
        "  def add(self,element):\n",
        "    self.q.append(element)\n",
        "  def delete(self):\n",
        "    if self.isempty():\n",
        "      return -1\n",
        "    else:\n",
        "      return self.q.pop(0)# first element is deleted\n",
        "  def search(self,element):\n",
        "    if self.isempty():\n",
        "      return -1\n",
        "    else:\n",
        "      try:\n",
        "        n=self.q.index(element)\n",
        "        return n+1\n",
        "      except:\n",
        "        return -2\n",
        "  def display(self):\n",
        "    return self.q\n",
        "  \n"
      ],
      "metadata": {
        "id": "3U3VvCiu3SKp"
      },
      "execution_count": null,
      "outputs": []
    },
    {
      "cell_type": "code",
      "source": [
        "# create an object for queue class and perform operations\n",
        "Q=queue()  # object created\n",
        "#display menu\n",
        "choice=0\n",
        "while choice<4:\n",
        "  print('queue operations')\n",
        "  print('1 for add element')\n",
        "  print('2 for delete element')\n",
        "  print('3 for search eleemnt')\n",
        "  print('4 for exit')\n",
        "  choice=int(input('enter your choice'))\n",
        "  if choice==1:\n",
        "    element=float(input('enter element'))\n",
        "    Q.add(element)\n",
        "  elif choice==2:\n",
        "    element=Q.delete()\n",
        "    if element==-1:\n",
        "      print('queue is empty')\n",
        "    else:\n",
        "      print('remove element=',element)\n",
        "  elif choice ==3:\n",
        "    element =float(input('enter element'))\n",
        "    pos=Q.search(element)\n",
        "    if pos == -1:\n",
        "      print('queue is empty')\n",
        "    elif pos ==-2:\n",
        "      print('element not found in the queue')\n",
        "    else:\n",
        "      print('element at the positon',pos)# not the index it is postion index+1.\n",
        "  else:\n",
        "    break\n",
        "\n",
        "  #display the contents of queue object\n",
        "  print('queue=',Q.display())\n"
      ],
      "metadata": {
        "colab": {
          "base_uri": "https://localhost:8080/"
        },
        "id": "_i7mjUaq4m2t",
        "outputId": "e4a430d2-eba4-4f6f-d3cb-ca117232b976"
      },
      "execution_count": null,
      "outputs": [
        {
          "name": "stdout",
          "output_type": "stream",
          "text": [
            "queue operations\n",
            "1 for add element\n",
            "2 for delete element\n",
            "3 for search eleemnt\n",
            "4 for exit\n",
            "enter your choice1\n",
            "enter element1\n",
            "queue= [1.0]\n",
            "queue operations\n",
            "1 for add element\n",
            "2 for delete element\n",
            "3 for search eleemnt\n",
            "4 for exit\n",
            "enter your choice1\n",
            "enter element2\n",
            "queue= [1.0, 2.0]\n",
            "queue operations\n",
            "1 for add element\n",
            "2 for delete element\n",
            "3 for search eleemnt\n",
            "4 for exit\n",
            "enter your choice1\n",
            "enter element3\n",
            "queue= [1.0, 2.0, 3.0]\n",
            "queue operations\n",
            "1 for add element\n",
            "2 for delete element\n",
            "3 for search eleemnt\n",
            "4 for exit\n",
            "enter your choice1\n",
            "enter element4\n",
            "queue= [1.0, 2.0, 3.0, 4.0]\n",
            "queue operations\n",
            "1 for add element\n",
            "2 for delete element\n",
            "3 for search eleemnt\n",
            "4 for exit\n",
            "enter your choice1\n",
            "enter element4\n",
            "queue= [1.0, 2.0, 3.0, 4.0, 4.0]\n",
            "queue operations\n",
            "1 for add element\n",
            "2 for delete element\n",
            "3 for search eleemnt\n",
            "4 for exit\n",
            "enter your choice2\n",
            "remove element= 1.0\n",
            "queue= [2.0, 3.0, 4.0, 4.0]\n",
            "queue operations\n",
            "1 for add element\n",
            "2 for delete element\n",
            "3 for search eleemnt\n",
            "4 for exit\n",
            "enter your choice3\n",
            "enter element4\n",
            "element at the positon 3\n",
            "queue= [2.0, 3.0, 4.0, 4.0]\n",
            "queue operations\n",
            "1 for add element\n",
            "2 for delete element\n",
            "3 for search eleemnt\n",
            "4 for exit\n",
            "enter your choice4\n"
          ]
        }
      ]
    },
    {
      "cell_type": "markdown",
      "source": [
        "# Deques or double-ended queue\n",
        "In deque we can add elements at the front and  at the end as well. similarly, we can remove the elements from the front and from the rear side(end) also.\n",
        "\n",
        "In python, a class by the name 'deque' is provided in'collections' module to work with deques. Python people used arrays internally in implementing lists which form the basis for creating queues. But in case of deques, they used doubly linked lists to implement the deques.\n",
        "* hence, deques are faster than the normal queues. To create a deque we should simply create an object to deque class.\n",
        "\n",
        "# operations perfromed on deques\n",
        "* adding element at the front using appendleft()\n",
        "* deleting element at the front using popleft()\n",
        "* adding element at the rear using append()\n",
        "* deleting element at the rear using pop()\n",
        "* deleting element at any place using remove()\n",
        "* searchin for element using count()\n",
        "* reversing the deque using reverse()\n",
        "\n",
        "\n",
        "\n",
        "\n"
      ],
      "metadata": {
        "id": "G5jAbFP7CgZp"
      }
    },
    {
      "cell_type": "code",
      "source": [
        "# python program to create and use deque\n",
        "from collections import deque\n",
        "# create an empty deque\n",
        "d=deque()\n",
        "#display menu\n",
        "choice=0\n",
        "while choice<7:\n",
        "  print('deque operations')\n",
        "  print('1 add element at front')\n",
        "  print('2 remove element at front')\n",
        "  print('3 add element at rear')\n",
        "  print('4 remove element at rear')\n",
        "  print('5 remove element at any where')\n",
        "  print('6 search for element')\n",
        "  print('7 exit')\n",
        "  choice=int(input('enter your choice'))\n",
        "  # perform task depending on user choice\n",
        "  if choice==1:\n",
        "    element =input('enter element:')\n",
        "    d.appendleft(element)\n",
        "  elif choice==2:\n",
        "    if len(d)==0:\n",
        "      print('deque is empty')\n",
        "    else:\n",
        "      d.popleft()\n",
        "  elif choice==3:\n",
        "    element =input('enter element')\n",
        "    d.append(element)\n",
        "  elif choice==4:\n",
        "    if len(d)==0:\n",
        "      print('deque is empty')\n",
        "    else:\n",
        "      d.pop()\n",
        "  elif choice==5:\n",
        "    element=input('enter element')\n",
        "    try:\n",
        "      d.remove(element)\n",
        "    except:\n",
        "      print('element not found')\n",
        "  elif choice == 6:\n",
        "    element = input('enter element:')\n",
        "    c=d.count(element)\n",
        "    print('no of times the element found:',c)\n",
        "  else:\n",
        "    break\n",
        "\n",
        "  # display the deque elements using for loop \n",
        "  print('deque=',end='')\n",
        "  for i in d:\n",
        "    print(i,' ',end='')\n",
        "  print() # move the cursor to the next line\n"
      ],
      "metadata": {
        "colab": {
          "base_uri": "https://localhost:8080/"
        },
        "id": "o6DCXq5J8jGM",
        "outputId": "c6061fd1-9d56-410b-9275-4a47abefd73e"
      },
      "execution_count": null,
      "outputs": [
        {
          "name": "stdout",
          "output_type": "stream",
          "text": [
            "deque operations\n",
            "1 add element at front\n",
            "2 remove element at front\n",
            "3 add element at rear\n",
            "4 remove element at rear\n",
            "5 remove element at any where\n",
            "6 search for element\n",
            "7 exit\n",
            "enter your choice1\n",
            "enter element:A\n",
            "deque=A  \n",
            "deque operations\n",
            "1 add element at front\n",
            "2 remove element at front\n",
            "3 add element at rear\n",
            "4 remove element at rear\n",
            "5 remove element at any where\n",
            "6 search for element\n",
            "7 exit\n",
            "enter your choice1\n",
            "enter element:B\n",
            "deque=B  A  \n",
            "deque operations\n",
            "1 add element at front\n",
            "2 remove element at front\n",
            "3 add element at rear\n",
            "4 remove element at rear\n",
            "5 remove element at any where\n",
            "6 search for element\n",
            "7 exit\n",
            "enter your choice1\n",
            "enter element:C\n",
            "deque=C  B  A  \n",
            "deque operations\n",
            "1 add element at front\n",
            "2 remove element at front\n",
            "3 add element at rear\n",
            "4 remove element at rear\n",
            "5 remove element at any where\n",
            "6 search for element\n",
            "7 exit\n",
            "enter your choice1\n",
            "enter element:D\n",
            "deque=D  C  B  A  \n",
            "deque operations\n",
            "1 add element at front\n",
            "2 remove element at front\n",
            "3 add element at rear\n",
            "4 remove element at rear\n",
            "5 remove element at any where\n",
            "6 search for element\n",
            "7 exit\n",
            "enter your choice1\n",
            "enter element:D\n",
            "deque=D  D  C  B  A  \n",
            "deque operations\n",
            "1 add element at front\n",
            "2 remove element at front\n",
            "3 add element at rear\n",
            "4 remove element at rear\n",
            "5 remove element at any where\n",
            "6 search for element\n",
            "7 exit\n",
            "enter your choice3\n",
            "enter elementD\n",
            "deque=D  D  C  B  A  D  \n",
            "deque operations\n",
            "1 add element at front\n",
            "2 remove element at front\n",
            "3 add element at rear\n",
            "4 remove element at rear\n",
            "5 remove element at any where\n",
            "6 search for element\n",
            "7 exit\n",
            "enter your choice2\n",
            "deque=D  C  B  A  D  \n",
            "deque operations\n",
            "1 add element at front\n",
            "2 remove element at front\n",
            "3 add element at rear\n",
            "4 remove element at rear\n",
            "5 remove element at any where\n",
            "6 search for element\n",
            "7 exit\n",
            "enter your choice4\n",
            "deque=D  C  B  A  \n",
            "deque operations\n",
            "1 add element at front\n",
            "2 remove element at front\n",
            "3 add element at rear\n",
            "4 remove element at rear\n",
            "5 remove element at any where\n",
            "6 search for element\n",
            "7 exit\n",
            "enter your choice1\n",
            "enter element:E\n",
            "deque=E  D  C  B  A  \n",
            "deque operations\n",
            "1 add element at front\n",
            "2 remove element at front\n",
            "3 add element at rear\n",
            "4 remove element at rear\n",
            "5 remove element at any where\n",
            "6 search for element\n",
            "7 exit\n",
            "enter your choice6\n",
            "enter element:A\n",
            "no of times the element found: 1\n",
            "deque=E  D  C  B  A  \n",
            "deque operations\n",
            "1 add element at front\n",
            "2 remove element at front\n",
            "3 add element at rear\n",
            "4 remove element at rear\n",
            "5 remove element at any where\n",
            "6 search for element\n",
            "7 exit\n",
            "enter your choice7\n"
          ]
        }
      ]
    },
    {
      "cell_type": "code",
      "source": [
        ""
      ],
      "metadata": {
        "id": "DhZ75Lk_J3wR"
      },
      "execution_count": null,
      "outputs": []
    },
    {
      "cell_type": "markdown",
      "source": [
        "# summary\n",
        "* A data struture represents logical arrangement of elements in memory in a particular model.\n",
        "* data structures also known as abstract data types(ADTs)\n",
        "* stacks, linked lists and queues are important data structures.\n",
        "* To create stacks, linked list and queues, we can use lists available in Python.\n",
        "* A linked list is a set of nodes such tha techa node contains a data field to store data and two link fields to refer to the previous node and text node.\n",
        "* insertion, deletion and replacing the elements are important operations in case of a linked list.\n",
        "* stack represents group of elements arranged in memory in LIFO manner\n",
        "* push,pop and peep(or peek) are the operations in stack\n",
        "* queue represents group of elements arranged in memory in FIFO manner\n",
        "* in queue, the elements are added at the rear(or back) side of the queue and they are removed from the front of the queue\n",
        "* adding elements and removing elements are important in queues\n",
        "* a double ended queue or deque is a queue where elements can be inserted or deleted from both ends\n",
        "* deques are more efficient than the normal queues in terms of memory usage and speed\n"
      ],
      "metadata": {
        "id": "sK8xKqgtLJ6B"
      }
    }
  ]
}