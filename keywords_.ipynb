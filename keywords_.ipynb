{
  "nbformat": 4,
  "nbformat_minor": 0,
  "metadata": {
    "colab": {
      "name": "keywords .ipynb",
      "provenance": [],
      "collapsed_sections": [],
      "authorship_tag": "ABX9TyPnEvFr407BBcoooIOa4lDm",
      "include_colab_link": true
    },
    "kernelspec": {
      "name": "python3",
      "display_name": "Python 3"
    },
    "language_info": {
      "name": "python"
    }
  },
  "cells": [
    {
      "cell_type": "markdown",
      "metadata": {
        "id": "view-in-github",
        "colab_type": "text"
      },
      "source": [
        "<a href=\"https://colab.research.google.com/github/kalyan-81/basics-of-python/blob/main/keywords_.ipynb\" target=\"_parent\"><img src=\"https://colab.research.google.com/assets/colab-badge.svg\" alt=\"Open In Colab\"/></a>"
      ]
    },
    {
      "cell_type": "markdown",
      "source": [
        "# **keywords in python**"
      ],
      "metadata": {
        "id": "CSbvm0KmAep6"
      }
    },
    {
      "cell_type": "code",
      "source": [
        "# importing \"keyword\" for keyword operations\n",
        "import keyword\n",
        "  \n",
        "# printing all keywords at once using \"kwlist()\"\n",
        "print(\"The list of keywords is : \")\n",
        "print(keyword.kwlist)"
      ],
      "metadata": {
        "id": "z10BSauO72Lg"
      },
      "execution_count": null,
      "outputs": []
    },
    {
      "cell_type": "code",
      "source": [
        "import keyword\n",
        "#checking whether the word is keyword or not using iskeyword()\n",
        "\n",
        "print(keyword.iskeyword('False'))\n",
        "print(keyword.iskeyword('master python'))"
      ],
      "metadata": {
        "colab": {
          "base_uri": "https://localhost:8080/",
          "height": 0
        },
        "id": "fVBw_ht08BmO",
        "outputId": "f33456e1-80fa-405d-f550-4b40638ab5ff"
      },
      "execution_count": 8,
      "outputs": [
        {
          "output_type": "stream",
          "name": "stdout",
          "text": [
            "True\n",
            "False\n"
          ]
        }
      ]
    },
    {
      "cell_type": "markdown",
      "source": [
        "# **True, False, None**"
      ],
      "metadata": {
        "id": "IbYQid8r_olH"
      }
    },
    {
      "cell_type": "code",
      "source": [
        "print(False == 0)\n",
        "print(True == 1)\n",
        "  \n",
        "print(True + True + True)\n",
        "print(True + False + False)\n",
        "  \n",
        "print(None == 0)\n",
        "print(None == [])"
      ],
      "metadata": {
        "colab": {
          "base_uri": "https://localhost:8080/",
          "height": 0
        },
        "id": "6yJr4rPF_vNm",
        "outputId": "2291c9e1-4820-4cff-c74d-0f5ea19cf5ca"
      },
      "execution_count": 9,
      "outputs": [
        {
          "output_type": "stream",
          "name": "stdout",
          "text": [
            "True\n",
            "True\n",
            "3\n",
            "1\n",
            "False\n",
            "False\n"
          ]
        }
      ]
    },
    {
      "cell_type": "markdown",
      "source": [
        "# **and, or, not, in, is**"
      ],
      "metadata": {
        "id": "myI07cZLAlGy"
      }
    },
    {
      "cell_type": "code",
      "source": [
        "print(3 and 0)"
      ],
      "metadata": {
        "colab": {
          "base_uri": "https://localhost:8080/",
          "height": 0
        },
        "id": "RYsaL0svB4NU",
        "outputId": "154cb101-27ce-4883-abdb-daec6fb58bbb"
      },
      "execution_count": 10,
      "outputs": [
        {
          "output_type": "stream",
          "name": "stdout",
          "text": [
            "0\n"
          ]
        }
      ]
    },
    {
      "cell_type": "code",
      "source": [
        "print(3 and 10)"
      ],
      "metadata": {
        "colab": {
          "base_uri": "https://localhost:8080/",
          "height": 0
        },
        "id": "PtclHv4QB8MB",
        "outputId": "0f7eab8f-b3fb-43f3-bcb2-f1091da2c777"
      },
      "execution_count": 11,
      "outputs": [
        {
          "output_type": "stream",
          "name": "stdout",
          "text": [
            "10\n"
          ]
        }
      ]
    },
    {
      "cell_type": "code",
      "source": [
        "print(3 or 0)"
      ],
      "metadata": {
        "colab": {
          "base_uri": "https://localhost:8080/",
          "height": 0
        },
        "id": "SNa1OgO6CDbq",
        "outputId": "4bce273d-9309-48ce-dfcd-330efb3027e7"
      },
      "execution_count": 12,
      "outputs": [
        {
          "output_type": "stream",
          "name": "stdout",
          "text": [
            "3\n"
          ]
        }
      ]
    },
    {
      "cell_type": "code",
      "source": [
        "print(3 or 10)"
      ],
      "metadata": {
        "colab": {
          "base_uri": "https://localhost:8080/",
          "height": 0
        },
        "id": "K-U-IpIgCIL5",
        "outputId": "c8ec4ee8-4cd9-4db8-c35a-40874e88c0f1"
      },
      "execution_count": 13,
      "outputs": [
        {
          "output_type": "stream",
          "name": "stdout",
          "text": [
            "3\n"
          ]
        }
      ]
    },
    {
      "cell_type": "code",
      "source": [
        "print(not 0)"
      ],
      "metadata": {
        "colab": {
          "base_uri": "https://localhost:8080/",
          "height": 0
        },
        "id": "9DBZ3LbICP6N",
        "outputId": "f8b0bf48-d9da-455c-abb3-9e43386288de"
      },
      "execution_count": 15,
      "outputs": [
        {
          "output_type": "stream",
          "name": "stdout",
          "text": [
            "True\n"
          ]
        }
      ]
    },
    {
      "cell_type": "code",
      "source": [
        "print(not 10)"
      ],
      "metadata": {
        "colab": {
          "base_uri": "https://localhost:8080/",
          "height": 0
        },
        "id": "S8xY2hirCXV1",
        "outputId": "d4ff5038-ed87-4ade-fd64-af3ef0e39bc9"
      },
      "execution_count": 16,
      "outputs": [
        {
          "output_type": "stream",
          "name": "stdout",
          "text": [
            "False\n"
          ]
        }
      ]
    },
    {
      "cell_type": "code",
      "source": [
        "# showing logical operation\n",
        "# or (returns True)\n",
        "print(True or False)\n",
        "  \n",
        "# showing logical operation\n",
        "# and (returns False)\n",
        "print(False and True)\n",
        "  \n",
        "# showing logical operation\n",
        "# not (returns False)\n",
        "print(not True)\n",
        "  \n",
        "# using \"in\" to check\n",
        "if 's' in 'master python tutorials':\n",
        "    print(\"s is part of master python tutorials\")\n",
        "else:\n",
        "    print(\"s is not part of master python tutorials\")\n",
        "  \n",
        "# using \"in\" to loop through\n",
        "for i in 'geeksforgeeks':\n",
        "    print(i, end=\" \")\n",
        "  \n",
        "print(\"\\r\")\n",
        "  \n",
        "# using is to check object identity\n",
        "# string is immutable( cannot be changed once allocated)\n",
        "# hence occupy same memory location\n",
        "print(' ' is ' ')\n",
        "  \n",
        "# using is to check object identity\n",
        "# dictionary is mutable( can be changed once allocated)\n",
        "# hence occupy different memory location\n",
        "print({} is {}) \n",
        "\n"
      ],
      "metadata": {
        "id": "E6H_QaufBgGP"
      },
      "execution_count": null,
      "outputs": []
    },
    {
      "cell_type": "markdown",
      "source": [
        "# **for, while, break, continue**"
      ],
      "metadata": {
        "id": "5fVznu4YSjMg"
      }
    },
    {
      "cell_type": "code",
      "source": [
        "# Using for loop\n",
        "for i in range(10):\n",
        "  \n",
        "    print(i, end = \" \")\n",
        "      \n",
        "    # break the loop as soon it sees 6\n",
        "    if i == 6:\n",
        "        break"
      ],
      "metadata": {
        "id": "feyjq-2aSl0G"
      },
      "execution_count": null,
      "outputs": []
    },
    {
      "cell_type": "code",
      "source": [
        "# loop from 1 to 10\n",
        "i = 0\n",
        "while i <10:\n",
        "      \n",
        "    # If i is equals to 6,\n",
        "    # continue to next iteration\n",
        "    # without printing\n",
        "    if i == 6:\n",
        "        i+= 1\n",
        "        continue\n",
        "    else:\n",
        "        # otherwise print the value\n",
        "        # of i\n",
        "        print(i, end = \" \")\n",
        "          \n",
        "    i += 1"
      ],
      "metadata": {
        "id": "NF5EdEN8Ruy8"
      },
      "execution_count": null,
      "outputs": []
    },
    {
      "cell_type": "markdown",
      "source": [
        "# **Conditional keywords – if, else, elif**"
      ],
      "metadata": {
        "id": "bvj_tt0BTD74"
      }
    },
    {
      "cell_type": "code",
      "source": [
        "# Python program to illustrate if-elif-else ladder\n",
        "  \n",
        "i = 20\n",
        "if (i == 10):\n",
        "    print (\"i is 10\")\n",
        "elif (i == 20):\n",
        "    print (\"i is 20\")\n",
        "else:\n",
        "    print (\"i is not present\")"
      ],
      "metadata": {
        "id": "eN9vGvEPTG2S"
      },
      "execution_count": null,
      "outputs": []
    },
    {
      "cell_type": "code",
      "source": [
        ""
      ],
      "metadata": {
        "id": "vlyVpHVgTRcv"
      },
      "execution_count": null,
      "outputs": []
    },
    {
      "cell_type": "markdown",
      "source": [
        "# **def keyword**"
      ],
      "metadata": {
        "id": "8w4YSoNaTXP2"
      }
    },
    {
      "cell_type": "code",
      "source": [
        "def fun():\n",
        "    print(\"Inside Function\")\n",
        "      \n",
        "fun()"
      ],
      "metadata": {
        "id": "GVlHjh5xTZvZ"
      },
      "execution_count": null,
      "outputs": []
    },
    {
      "cell_type": "markdown",
      "source": [
        "# **Return Keywords – Return, Yield**"
      ],
      "metadata": {
        "id": "Ac6p84EpTmdj"
      }
    },
    {
      "cell_type": "code",
      "source": [
        "# Return keyword\n",
        "def fun():\n",
        "    S = 0\n",
        "      \n",
        "    for i in range(10):\n",
        "        S += i\n",
        "    return S\n",
        "  \n",
        "print(fun())"
      ],
      "metadata": {
        "id": "goj_3MuCTskP"
      },
      "execution_count": null,
      "outputs": []
    },
    {
      "cell_type": "code",
      "source": [
        "# Yield Keyword\n",
        "def fun():\n",
        "    S = 0\n",
        "      \n",
        "    for i in range(10):\n",
        "        S += i\n",
        "        yield S\n",
        "  \n",
        "for i in fun():\n",
        "    print(i)"
      ],
      "metadata": {
        "id": "JleYdtOxT3Rb"
      },
      "execution_count": null,
      "outputs": []
    },
    {
      "cell_type": "markdown",
      "source": [
        "# **Class Keyword**"
      ],
      "metadata": {
        "id": "rETAh5ZlT-u8"
      }
    },
    {
      "cell_type": "code",
      "source": [
        "# demonstrate instantiating\n",
        "# a class\n",
        "  \n",
        "  \n",
        "class Dog:\n",
        "      \n",
        "    # A simple class\n",
        "    # attribute\n",
        "    attr1 = \"mammal\"\n",
        "    attr2 = \"dog\"\n",
        "  \n",
        "    # A sample method\n",
        "    def fun(self):\n",
        "        print(\"I'm a\", self.attr1)\n",
        "        print(\"I'm a\", self.attr2)\n",
        "  \n",
        "# Driver code\n",
        "# Object instantiation\n",
        "Rodger = Dog()\n",
        "  \n",
        "# Accessing class attributes\n",
        "# and method through objects\n",
        "print(Rodger.attr1)\n",
        "Rodger.fun()"
      ],
      "metadata": {
        "id": "dgw23t84UA6S"
      },
      "execution_count": null,
      "outputs": []
    },
    {
      "cell_type": "markdown",
      "source": [
        "# **as Keyword**"
      ],
      "metadata": {
        "id": "GLPBQfduUJKG"
      }
    },
    {
      "cell_type": "code",
      "source": [
        "import math as gfg\n",
        "  \n",
        "print(gfg.factorial(5))"
      ],
      "metadata": {
        "id": "XgtbeD0OUOZQ"
      },
      "execution_count": null,
      "outputs": []
    },
    {
      "cell_type": "markdown",
      "source": [
        "# **Pass Keyword**"
      ],
      "metadata": {
        "id": "e5RTA1FhUVsd"
      }
    },
    {
      "cell_type": "code",
      "source": [
        "n = 10\n",
        "for i in range(n):\n",
        "      \n",
        "# pass can be used as placeholder\n",
        "# when code is to added later\n",
        "pass"
      ],
      "metadata": {
        "id": "n6FtzQAWUX_b"
      },
      "execution_count": null,
      "outputs": []
    },
    {
      "cell_type": "code",
      "source": [
        ""
      ],
      "metadata": {
        "id": "xDSJR163Ub6z"
      },
      "execution_count": null,
      "outputs": []
    },
    {
      "cell_type": "markdown",
      "source": [
        "# **Lambda Keyword**"
      ],
      "metadata": {
        "id": "qlZPSdmjUe0N"
      }
    },
    {
      "cell_type": "code",
      "source": [
        "# Lambda keyword\n",
        "g = lambda x: x*x*x\n",
        "  \n",
        "print(g(7))"
      ],
      "metadata": {
        "id": "TsXcPIRYUkeX"
      },
      "execution_count": null,
      "outputs": []
    },
    {
      "cell_type": "markdown",
      "source": [
        "# Import, From Keyword"
      ],
      "metadata": {
        "id": "ml1DDlCMUmPq"
      }
    },
    {
      "cell_type": "code",
      "source": [
        "\n",
        "# import keyword\n",
        "import math\n",
        "print(math.factorial(10))\n",
        "  \n"
      ],
      "metadata": {
        "id": "wK0S3pUNUrIj"
      },
      "execution_count": null,
      "outputs": []
    },
    {
      "cell_type": "code",
      "source": [
        "# from keyword\n",
        "from math import factorial\n",
        "print(factorial(10))"
      ],
      "metadata": {
        "id": "Jh18KrAlU38t"
      },
      "execution_count": null,
      "outputs": []
    },
    {
      "cell_type": "markdown",
      "source": [
        "# **Exception Handling Keywords – try, except, raise, finally, and assert**"
      ],
      "metadata": {
        "id": "6r8ORW-QU-jE"
      }
    },
    {
      "cell_type": "code",
      "source": [
        "# initializing number\n",
        "a = 4\n",
        "b = 0\n",
        "  \n",
        "# No exception Exception raised in try block\n",
        "try:\n",
        "    k = a//b # raises divide by zero exception.\n",
        "    print(k)\n",
        "  \n",
        "# handles zerodivision exception\n",
        "except ZeroDivisionError:\n",
        "    print(\"Can't divide by zero\")\n",
        "  \n",
        "finally:\n",
        "    # this block is always executed\n",
        "    # regardless of exception generation.\n",
        "    print('This is always executed')\n",
        "  \n",
        "# assert Keyword  \n",
        "# using assert to check for 0\n",
        "print (\"The value of a / b is : \")\n",
        "assert b != 0, \"Divide by 0 error\"\n",
        "print (a / b)"
      ],
      "metadata": {
        "id": "28P0MsQzVBOL"
      },
      "execution_count": null,
      "outputs": []
    },
    {
      "cell_type": "markdown",
      "source": [
        "# **del Keyword**"
      ],
      "metadata": {
        "id": "tH8bjsfyVJWv"
      }
    },
    {
      "cell_type": "code",
      "source": [
        "my_variable1 = 20\n",
        "my_variable2 = \"master python tutorials\"\n",
        "  \n",
        "# check if my_variable1 and my_variable2 exists\n",
        "print(my_variable1)\n",
        "print(my_variable2)\n",
        "  \n"
      ],
      "metadata": {
        "id": "9RLoayoQVUm1"
      },
      "execution_count": null,
      "outputs": []
    },
    {
      "cell_type": "code",
      "source": [
        "# delete both the variables\n",
        "del my_variable1\n",
        "del my_variable2\n",
        "  \n",
        "# check if my_variable1 and my_variable2 exists\n",
        "print(my_variable1)\n",
        "print(my_variable2)"
      ],
      "metadata": {
        "id": "cvyq9SA4VmGI"
      },
      "execution_count": null,
      "outputs": []
    },
    {
      "cell_type": "markdown",
      "source": [
        "# **Global and nonlocal keywords**"
      ],
      "metadata": {
        "id": "m9mQS1ueVrJZ"
      }
    },
    {
      "cell_type": "code",
      "source": [
        "# global variable\n",
        "a = 15\n",
        "b = 10\n",
        "  \n",
        "# function to perform addition\n",
        "def add():\n",
        "    c = a + b\n",
        "    print(c)\n",
        "  \n",
        "# calling a function\n",
        "add()\n",
        "  \n",
        "# nonlocal keyword\n",
        "def fun():\n",
        "    var1 = 10\n",
        "  \n",
        "    def gun():\n",
        "        # tell python explicitly that it\n",
        "        # has to access var1 initialized\n",
        "        # in fun on line 2\n",
        "        # using the keyword nonlocal\n",
        "        nonlocal var1\n",
        "          \n",
        "        var1 = var1 + 10\n",
        "        print(var1)\n",
        "  \n",
        "    gun()\n",
        "fun()"
      ],
      "metadata": {
        "id": "Ka6c4JBhVyP1"
      },
      "execution_count": null,
      "outputs": []
    }
  ]
}