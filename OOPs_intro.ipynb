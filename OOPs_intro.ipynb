{
  "nbformat": 4,
  "nbformat_minor": 0,
  "metadata": {
    "colab": {
      "name": "OOPs intro",
      "provenance": [],
      "collapsed_sections": [],
      "authorship_tag": "ABX9TyMw1ZlTsMCPgzwXXEp5B056",
      "include_colab_link": true
    },
    "kernelspec": {
      "name": "python3",
      "display_name": "Python 3"
    },
    "language_info": {
      "name": "python"
    }
  },
  "cells": [
    {
      "cell_type": "markdown",
      "metadata": {
        "id": "view-in-github",
        "colab_type": "text"
      },
      "source": [
        "<a href=\"https://colab.research.google.com/github/kalyan-81/basics-of-python/blob/main/OOPs_intro.ipynb\" target=\"_parent\"><img src=\"https://colab.research.google.com/assets/colab-badge.svg\" alt=\"Open In Colab\"/></a>"
      ]
    },
    {
      "cell_type": "markdown",
      "source": [
        "# chapter 14\n",
        "#Procedure oriented programming\n",
        "The languages like C, Pascal, Fortran etc.., are called Procedure oriented programming languages.\n",
        "\n",
        "since in these languages a programmer uses procedures or functions to perform task.\n",
        "\n",
        "while developing a software, the main task is divided into several subtasks and each subtask is represented as a procedure or function. This approach  is called procedure oriented approach.\n",
        "\n",
        "#Object oriented programming\n",
        "\n",
        "the languages like c++, Java, and Python uses classes and objects in their programs and are called Object oriented programming languages.\n",
        "\n",
        "The main task is subdivided into several subtasks, and these are reperesented as classes.\n",
        "\n",
        "Each class can perform several inter-related tasks for which several methods are written in a class. This method is called Object Oriented approach.\n",
        "\n",
        "#problems in procedure oriented approach\n",
        "\n",
        "In procedure oriented approach the programmer concentrates on a specific task, and writes a set of functions to acheive it.\n",
        "\n",
        "whenever he wants to perform a new task, he would be writing a new set of functions. Thus theres is no reusability of an already existing code.\n",
        "\n",
        "this wastes programmer's time and effort.\n",
        "\n",
        "\n",
        "Every task and subtask is represented as function and one function may depend on another function. Hence an error in the software needs examination of all the functions. Thus debugging or removing the errors will become difficult.\n",
        "\n",
        "#Specialty of Python\n",
        "\n",
        "Even though, python is object oriented programming language like java, it does not force the programmers to write programs in complete object oriented way.\n",
        "\n",
        "unlike java, python has a blend of both the object oriented and procedure oriented features.\n",
        "\n",
        "Hence Python programmers can write programs using procedure oriented approach (like c) or object oriented approach (like java) depending on their requirements. this is definitely an advantage for Python programmers.\n",
        "\n",
        "#Features of OOPS\n",
        "\n",
        "five important features:\n",
        "\n",
        "1. classes and objects\n",
        "2. Encapsulation\n",
        "3. Abstraction\n",
        "4. Inheritance\n",
        "5. Polymorphism\n"
      ],
      "metadata": {
        "id": "wEel8RjIWcaL"
      }
    },
    {
      "cell_type": "markdown",
      "source": [
        "# Lecture 15: **Python Classes and Objects**\n",
        "* A class is a user-defined blueprint or prototype from which objects are created. \n",
        "* Classes provide a means of bundling data and functionality together. \n",
        "* Creating a new class creates a new type of object, allowing new instances of that type to be made. \n",
        "* Each class instance can have attributes attached to it for maintaining its state. \n",
        "* Class instances can also have methods (defined by their class) for modifying their state.\n",
        "\n",
        "**Class** creates a user-defined data structure, which holds its own data members and member functions, which can be accessed and used by creating an **instance of that class**. A class is like a blueprint for an object."
      ],
      "metadata": {
        "id": "4BLyHcLcmsXP"
      }
    },
    {
      "cell_type": "markdown",
      "source": [
        "**Some points on Python class:**  \n",
        "\n",
        "* **Classes** are created by *keyword* **class**.\n",
        "* **Attributes** are the **variables** that belong to a **class**.\n",
        "\n",
        "* **Attributes** are always **public** and can be accessed using the **dot (.)** operator. Eg.: **Myclass.Myattribute**\n",
        "\n",
        "**Class Definition Syntax:**\n",
        "\n",
        "*class* **ClassName:**\n",
        "    # Statement-1\n",
        "    .\n",
        "    .\n",
        "    .\n",
        "    # Statement-N"
      ],
      "metadata": {
        "id": "KIAfeb-3oow8"
      }
    },
    {
      "cell_type": "code",
      "source": [
        "#creating a class\n",
        "class Person:# this is class\n",
        "#these are attributes of class or class variables\n",
        "    name='kalyan'\n",
        "    age=24\n",
        "\n",
        "    #actions means methods(functions) or class methods\n",
        "    \n",
        "    def talk(self):\n",
        "      print(self.name)\n",
        "      print(self.age)\n",
        "\n"
      ],
      "metadata": {
        "id": "iUUJQTW3dDJd"
      },
      "execution_count": null,
      "outputs": []
    },
    {
      "cell_type": "code",
      "source": [
        "#creating an object for the above class\n",
        "p1=Person()#object created\n",
        "# accessing the attributes of object p1\n",
        "print(p1.name)\n",
        "print(p1.age)\n",
        "#accessing the methods of object p1\n",
        "p1.talk()\n",
        "\n"
      ],
      "metadata": {
        "colab": {
          "base_uri": "https://localhost:8080/"
        },
        "id": "5dzfSZukeATn",
        "outputId": "45b89a6f-cfd1-4f54-cf95-5b1fac0a95c3"
      },
      "execution_count": null,
      "outputs": [
        {
          "output_type": "stream",
          "name": "stdout",
          "text": [
            "kalyan\n",
            "24\n",
            "kalyan\n",
            "24\n"
          ]
        }
      ]
    },
    {
      "cell_type": "code",
      "source": [
        "# calling the attibutes using class name\n",
        "print(Person.name)\n",
        "print(Person.age)"
      ],
      "metadata": {
        "colab": {
          "base_uri": "https://localhost:8080/"
        },
        "id": "V-PFXQLZep0Z",
        "outputId": "3d68e9a3-ee5d-4677-91cd-b5433cd16224"
      },
      "execution_count": null,
      "outputs": [
        {
          "output_type": "stream",
          "name": "stdout",
          "text": [
            "kalyan\n",
            "24\n"
          ]
        }
      ]
    },
    {
      "cell_type": "code",
      "source": [
        "#calling class method using class name\n",
        "Person.talk()"
      ],
      "metadata": {
        "colab": {
          "base_uri": "https://localhost:8080/",
          "height": 190
        },
        "id": "nEj8ga6e9Aui",
        "outputId": "d78b7bdf-1f74-4409-d28d-c046c1f7b8a6"
      },
      "execution_count": null,
      "outputs": [
        {
          "output_type": "error",
          "ename": "TypeError",
          "evalue": "ignored",
          "traceback": [
            "\u001b[0;31m---------------------------------------------------------------------------\u001b[0m",
            "\u001b[0;31mTypeError\u001b[0m                                 Traceback (most recent call last)",
            "\u001b[0;32m<ipython-input-21-42e510af0d14>\u001b[0m in \u001b[0;36m<module>\u001b[0;34m()\u001b[0m\n\u001b[1;32m      1\u001b[0m \u001b[0;31m#calling class method using class name\u001b[0m\u001b[0;34m\u001b[0m\u001b[0;34m\u001b[0m\u001b[0;34m\u001b[0m\u001b[0m\n\u001b[0;32m----> 2\u001b[0;31m \u001b[0mPerson\u001b[0m\u001b[0;34m.\u001b[0m\u001b[0mtalk\u001b[0m\u001b[0;34m(\u001b[0m\u001b[0;34m)\u001b[0m\u001b[0;34m\u001b[0m\u001b[0;34m\u001b[0m\u001b[0m\n\u001b[0m",
            "\u001b[0;31mTypeError\u001b[0m: talk() missing 1 required positional argument: 'self'"
          ]
        }
      ]
    },
    {
      "cell_type": "code",
      "source": [
        "#calling class method using class name\n",
        "Person.talk(p1)"
      ],
      "metadata": {
        "colab": {
          "base_uri": "https://localhost:8080/"
        },
        "id": "ZduCVANi9foQ",
        "outputId": "021bcdf3-5d1b-4e14-f041-ef5cb55d38ee"
      },
      "execution_count": null,
      "outputs": [
        {
          "output_type": "stream",
          "name": "stdout",
          "text": [
            "kalyan\n",
            "24\n"
          ]
        }
      ]
    },
    {
      "cell_type": "code",
      "execution_count": null,
      "metadata": {
        "id": "aNkbbXd-h45c"
      },
      "outputs": [],
      "source": [
        "\n",
        "# simple exmaple for class\n",
        "class Dog:\n",
        "     \n",
        "    # A simple class\n",
        "    # attribute\n",
        "    attr1 = \"mammal\"\n",
        "    attr2 = \"dog\"\n",
        " \n",
        "    # A sample method\n",
        "     \n",
        "    def fun(self):\n",
        "        print(\"I'm a\", self.attr1)\n",
        "        print(\"I'm a\", self.attr2)\n",
        " \n"
      ]
    },
    {
      "cell_type": "code",
      "source": [
        "#creating an object for the dog class\n",
        "dog1=Dog()"
      ],
      "metadata": {
        "id": "7MgO3eIB5t7b"
      },
      "execution_count": null,
      "outputs": []
    },
    {
      "cell_type": "code",
      "source": [
        "#accessing attributes of object\n",
        "print(dog1.attr1)\n",
        "print(dog1.attr2)"
      ],
      "metadata": {
        "colab": {
          "base_uri": "https://localhost:8080/"
        },
        "id": "Gzx36AHs6BTj",
        "outputId": "bbb03618-e626-4db6-8e24-1dfe03acabb3"
      },
      "execution_count": null,
      "outputs": [
        {
          "output_type": "stream",
          "name": "stdout",
          "text": [
            "mammal\n",
            "dog\n"
          ]
        }
      ]
    },
    {
      "cell_type": "code",
      "source": [
        "#accessing attributes using class name(because attr1 and attr2 are class variables)\n",
        "print(Dog.attr1)\n",
        "print(Dog.attr2)"
      ],
      "metadata": {
        "colab": {
          "base_uri": "https://localhost:8080/"
        },
        "id": "G24AmF2u6zF5",
        "outputId": "e075d8fc-ff22-497e-c7f9-4d8c649792ef"
      },
      "execution_count": null,
      "outputs": [
        {
          "output_type": "stream",
          "name": "stdout",
          "text": [
            "mammal\n",
            "dog\n"
          ]
        }
      ]
    },
    {
      "cell_type": "code",
      "source": [
        "#accessing method of object\n",
        "dog1.fun()"
      ],
      "metadata": {
        "colab": {
          "base_uri": "https://localhost:8080/"
        },
        "id": "1nSZPxvk6gtN",
        "outputId": "ebaeecd5-c09d-4a4b-c769-dd7787add421"
      },
      "execution_count": null,
      "outputs": [
        {
          "output_type": "stream",
          "name": "stdout",
          "text": [
            "I'm a mammal\n",
            "I'm a dog\n"
          ]
        }
      ]
    },
    {
      "cell_type": "code",
      "source": [
        "#accessing method of object using class name:\n",
        "Dog.fun()"
      ],
      "metadata": {
        "colab": {
          "base_uri": "https://localhost:8080/",
          "height": 190
        },
        "id": "ggxXbVN76xQy",
        "outputId": "446ea548-9a0c-4885-a670-6efa26c585cb"
      },
      "execution_count": null,
      "outputs": [
        {
          "output_type": "error",
          "ename": "TypeError",
          "evalue": "ignored",
          "traceback": [
            "\u001b[0;31m---------------------------------------------------------------------------\u001b[0m",
            "\u001b[0;31mTypeError\u001b[0m                                 Traceback (most recent call last)",
            "\u001b[0;32m<ipython-input-10-db07a255c2e3>\u001b[0m in \u001b[0;36m<module>\u001b[0;34m()\u001b[0m\n\u001b[1;32m      1\u001b[0m \u001b[0;31m#accessing method of object using class name:\u001b[0m\u001b[0;34m\u001b[0m\u001b[0;34m\u001b[0m\u001b[0;34m\u001b[0m\u001b[0m\n\u001b[0;32m----> 2\u001b[0;31m \u001b[0mDog\u001b[0m\u001b[0;34m.\u001b[0m\u001b[0mfun\u001b[0m\u001b[0;34m(\u001b[0m\u001b[0;34m)\u001b[0m\u001b[0;34m\u001b[0m\u001b[0;34m\u001b[0m\u001b[0m\n\u001b[0m",
            "\u001b[0;31mTypeError\u001b[0m: fun() missing 1 required positional argument: 'self'"
          ]
        }
      ]
    },
    {
      "cell_type": "code",
      "source": [
        "#accessing method of object using class name:\n",
        "Dog.fun(dog1)"
      ],
      "metadata": {
        "colab": {
          "base_uri": "https://localhost:8080/"
        },
        "id": "nRK1xg52EJTx",
        "outputId": "28110887-891e-4f18-ef3a-7da1bdebfcb7"
      },
      "execution_count": null,
      "outputs": [
        {
          "output_type": "stream",
          "name": "stdout",
          "text": [
            "I'm a mammal\n",
            "I'm a dog\n"
          ]
        }
      ]
    },
    {
      "cell_type": "markdown",
      "source": [
        "# we can't access the object methods using  class name, **self** keyword in parenthesis indicates object. which is must be the first parameter in object methods.\n",
        "\n",
        "# In class methods **cls** keyword is must be present as first parameter."
      ],
      "metadata": {
        "id": "u9SuBZbj7huy"
      }
    },
    {
      "cell_type": "markdown",
      "source": [
        "# **Objects**\n",
        "* An **Object** is an **instance** of a *Class*. \n",
        "* A class is like a blueprint while an **instance is a copy of the class with actual values**. \n",
        "* It’s **not an idea** anymore, it’s an **actual dog**, like a dog of breed pug who’s seven years old. \n",
        "* You can have **many dogs** to create many **different instances**, but without the class as **a guide**, you would be lost, not knowing what information is required.\n",
        "\n",
        "**An object consists of :**\n",
        "\n",
        "**State:** It is represented by the **attributes** of an object.\n",
        "\n",
        "**Behavior:** It is represented by the **methods** of an object.\n",
        "\n",
        "**Identity:** It gives a **unique name** to an object.\n",
        "\n",
        "![image.png](data:image/png;base64,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)\n",
        "\n",
        "**Declaring Objects** (Also called **instantiating** a class)\n",
        "When an **object** of a class is created, the **class** is said to be **instantiated**. \n",
        "* All the instances share the attributes and the behavior of the class. \n",
        "* But the **values** of those attributes, i.e. the state are unique for each object. \n",
        "* **A single class may have any number of instances.**\n",
        "\n",
        "Example:\n",
        " \n",
        "![image.png](data:image/png;base64,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)\n"
      ],
      "metadata": {
        "id": "Li_qi8PFx0Vj"
      }
    },
    {
      "cell_type": "code",
      "source": [
        "# Object instantiation\n",
        "Rodger = Dog()\n",
        " \n",
        "# Accessing class attributes and method through objects\n",
        "print(Rodger.attr1)\n",
        "print(Dog.attr1)\n",
        "print(Rodger.attr2)\n",
        "print(Dog.attr2)\n",
        "Rodger.fun()"
      ],
      "metadata": {
        "id": "Ce-X3vByimW1",
        "colab": {
          "base_uri": "https://localhost:8080/"
        },
        "outputId": "37cf24d2-94c2-4f98-d64d-c85de034770a"
      },
      "execution_count": null,
      "outputs": [
        {
          "output_type": "stream",
          "name": "stdout",
          "text": [
            "mammal\n",
            "mammal\n",
            "dog\n",
            "dog\n",
            "I'm a mammal\n",
            "I'm a dog\n"
          ]
        }
      ]
    },
    {
      "cell_type": "code",
      "source": [
        "# simple exmaple for class and object\n",
        "class dog:\n",
        "     \n",
        "    # A simple class\n",
        "    # attribute\n",
        "    attr1 = \"mammal\"\n",
        "    attr2 = \"dog\"\n",
        " \n",
        "    # A sample method\n",
        "   \n",
        "    def fun(self):\n",
        "        print(\"I'm a\", self.attr1)\n",
        "        print(\"I'm a\", self.attr2)\n",
        "\n",
        "# Object instantiation\n",
        "Rodger = dog()\n",
        " \n",
        "# Accessing class attributes and method through objects\n",
        "print(Rodger.attr1)\n",
        "print(dog.attr1)\n",
        "print(Rodger.attr2)\n",
        "print(dog.attr2)\n",
        "Rodger.fun()\n",
        "#dog.fun() #raises an error"
      ],
      "metadata": {
        "id": "Fl4xuAb7iwi6",
        "colab": {
          "base_uri": "https://localhost:8080/"
        },
        "outputId": "587665dd-fc30-4531-9359-d3c363b3ffbd"
      },
      "execution_count": null,
      "outputs": [
        {
          "output_type": "stream",
          "name": "stdout",
          "text": [
            "mammal\n",
            "mammal\n",
            "dog\n",
            "dog\n",
            "I'm a mammal\n",
            "I'm a dog\n"
          ]
        }
      ]
    },
    {
      "cell_type": "markdown",
      "source": [
        "# Lecture: 16\n",
        "# classes and objects\n"
      ],
      "metadata": {
        "id": "yyUZhkyF_VwT"
      }
    },
    {
      "cell_type": "markdown",
      "source": [
        "# **The self**\n",
        "* object **methods** must have an extra **first** parameter in the **method definition** that is **self**. \n",
        "* **We do not give a value for this parameter** when we call the method, Python provides the memory location(reference) of object.\n",
        "\n",
        "* If we have a method that takes no arguments, then we still have to have one argument i.e **self**.\n",
        "\n",
        "When we call a method of this object as **myobject.method(arg1, arg2)**, this is automatically converted by Python into **MyClass.method(myobject, arg1, arg2)**."
      ],
      "metadata": {
        "id": "orusgVjt7j_6"
      }
    },
    {
      "cell_type": "markdown",
      "source": [
        "# **__ init __  method**\n",
        "\n",
        "* The __ init __ method is similar to constructors. \n",
        "* Constructors are used to initializing the object’s state.\n",
        "* Like methods, a constructor also contains a collection of statements(i.e. instructions) that are executed at the time of Object creation. \n",
        "* It runs as soon as an object of a class is instantiated. \n",
        "\n",
        "**The method is useful to do any initialization you want to do with your object.**"
      ],
      "metadata": {
        "id": "exqvg-0Z_bZE"
      }
    },
    {
      "cell_type": "markdown",
      "source": [
        "# **Constructors in Python**\n",
        "\n",
        "---\n",
        "\n",
        "\n",
        "\n",
        "* The task of constructors is to initialize(assign values) to the data members of the class when an object of the class is created. \n",
        "* In Python the **__ init __()** method is called the constructor and is always called when an object is created.\n",
        "\n",
        "**Syntax of constructor declaration :** \n",
        "\n",
        "def **__ init __**(self):\n",
        "\n",
        "    # body of the constructor\n",
        "\n",
        "**Types of constructors :** \n",
        "\n",
        "**default constructor:** The default constructor is a simple constructor which doesn’t accept any arguments. \n",
        "\n",
        "Its definition has only one argument which is a reference to the instance being constructed.\n",
        "\n",
        "**parameterized constructor:** constructor with parameters is known as parameterized constructor.\n",
        "\n",
        "The parameterized constructor takes its first argument as a reference to the instance being constructed known as self and the rest of the arguments are provided by the programmer."
      ],
      "metadata": {
        "id": "o1mLkiSwQMkJ"
      }
    },
    {
      "cell_type": "code",
      "source": [
        "class Student:# another way is class Student(object):\n",
        "  '''this is called doc string.\n",
        "  this describes about the class'''\n",
        "\n",
        "#attributes inside the class are called class variables\n",
        "   #name='kalyan'\n",
        "   #age=34\n",
        "\n",
        "  def __init__(self):\n",
        "    #the attributes inside the  __init__() method are called instance(object) variables.\n",
        "    self.name='kalyan'\n",
        "    self.age=24\n",
        "    self.marks=900\n",
        "  \n",
        "  def talk(self):\n",
        "    print('hi iam ',self.name)\n",
        "    print('my age is ',self.age)\n",
        "    print('my marks are ',self.marks)\n",
        "\n",
        "\n",
        "\n"
      ],
      "metadata": {
        "id": "V4VLJA6dAlZe"
      },
      "execution_count": null,
      "outputs": []
    },
    {
      "cell_type": "code",
      "source": [
        "#object creation for the above student class\n",
        "std=Student()"
      ],
      "metadata": {
        "id": "qovGgU0jDCpS"
      },
      "execution_count": null,
      "outputs": []
    },
    {
      "cell_type": "code",
      "source": [
        "print(id(std))"
      ],
      "metadata": {
        "colab": {
          "base_uri": "https://localhost:8080/"
        },
        "id": "jrm0xXYSDm8P",
        "outputId": "6cf6a36a-93be-4913-e7b4-cbd2c22084bd"
      },
      "execution_count": null,
      "outputs": [
        {
          "output_type": "stream",
          "name": "stdout",
          "text": [
            "139684767543440\n"
          ]
        }
      ]
    },
    {
      "cell_type": "code",
      "source": [
        "print(std)"
      ],
      "metadata": {
        "id": "ht0ACge3D287",
        "outputId": "4c9a2959-983a-4e5b-bc92-da7d4d6a23e0",
        "colab": {
          "base_uri": "https://localhost:8080/"
        }
      },
      "execution_count": null,
      "outputs": [
        {
          "output_type": "stream",
          "name": "stdout",
          "text": [
            "<__main__.Student object at 0x7f0ae4f33090>\n"
          ]
        }
      ]
    },
    {
      "cell_type": "code",
      "source": [
        "#calling object(instance) variables\n",
        "print(std.name)\n",
        "print(std.age)\n",
        "print(std.marks)\n"
      ],
      "metadata": {
        "colab": {
          "base_uri": "https://localhost:8080/"
        },
        "id": "vlJeKJqdDPTI",
        "outputId": "32d8cce7-4aad-4bc0-b855-e38a31dbeffc"
      },
      "execution_count": null,
      "outputs": [
        {
          "output_type": "stream",
          "name": "stdout",
          "text": [
            "kalyan\n",
            "24\n",
            "900\n"
          ]
        }
      ]
    },
    {
      "cell_type": "code",
      "source": [
        "#calling object(instance) method\n",
        "std.talk()"
      ],
      "metadata": {
        "colab": {
          "base_uri": "https://localhost:8080/"
        },
        "id": "N-iFXRrMDdUL",
        "outputId": "38945025-c44e-413a-d7ff-ab1fa71db9db"
      },
      "execution_count": null,
      "outputs": [
        {
          "output_type": "stream",
          "name": "stdout",
          "text": [
            "hi iam  kalyan\n",
            "my age is  24\n",
            "my marks are  900\n"
          ]
        }
      ]
    },
    {
      "cell_type": "code",
      "source": [
        "#calling object(instance) method using class name\n",
        "Student.talk()"
      ],
      "metadata": {
        "colab": {
          "base_uri": "https://localhost:8080/",
          "height": 182
        },
        "id": "wjC1EtVXDmVT",
        "outputId": "1818dde6-236a-42aa-841d-e32e9b8356ee"
      },
      "execution_count": null,
      "outputs": [
        {
          "output_type": "error",
          "ename": "TypeError",
          "evalue": "ignored",
          "traceback": [
            "\u001b[0;31m---------------------------------------------------------------------------\u001b[0m",
            "\u001b[0;31mTypeError\u001b[0m                                 Traceback (most recent call last)",
            "\u001b[0;32m<ipython-input-33-01186a7f2d8a>\u001b[0m in \u001b[0;36m<module>\u001b[0;34m()\u001b[0m\n\u001b[1;32m      1\u001b[0m \u001b[0;31m#calling object(instance) method using class name\u001b[0m\u001b[0;34m\u001b[0m\u001b[0;34m\u001b[0m\u001b[0;34m\u001b[0m\u001b[0m\n\u001b[0;32m----> 2\u001b[0;31m \u001b[0mStudent\u001b[0m\u001b[0;34m.\u001b[0m\u001b[0mtalk\u001b[0m\u001b[0;34m(\u001b[0m\u001b[0;34m)\u001b[0m\u001b[0;34m\u001b[0m\u001b[0;34m\u001b[0m\u001b[0m\n\u001b[0m",
            "\u001b[0;31mTypeError\u001b[0m: talk() missing 1 required positional argument: 'self'"
          ]
        }
      ]
    },
    {
      "cell_type": "code",
      "source": [
        "#calling object(instance) method using class name\n",
        "Student.talk(std)"
      ],
      "metadata": {
        "colab": {
          "base_uri": "https://localhost:8080/"
        },
        "id": "MVXB9v8bD8bq",
        "outputId": "0288eb05-5079-4e2f-8d12-6d43aa415e99"
      },
      "execution_count": null,
      "outputs": [
        {
          "output_type": "stream",
          "name": "stdout",
          "text": [
            "hi iam  kalyan\n",
            "my age is  24\n",
            "my marks are  900\n"
          ]
        }
      ]
    },
    {
      "cell_type": "code",
      "source": [
        "#example for self keyword explanation\n",
        "class arithmetic:\n",
        "  def add(self,a,b):\n",
        "    self.a=a\n",
        "    self.b=b\n",
        "    return self.a + self.b\n",
        "\n",
        "  def sub(self,a,b):\n",
        "    self.a=a\n",
        "    self.b=b\n",
        "    return self.b-self.a\n",
        "  \n",
        "arith=arithmetic()\n",
        "print(arith.add(2,3))\n",
        "print(arith.sub(2,5))\n",
        "print(arithmetic.add(arith,5,9))"
      ],
      "metadata": {
        "colab": {
          "base_uri": "https://localhost:8080/"
        },
        "id": "NRtSXjbZ3OmQ",
        "outputId": "4b4ae763-d040-47f5-83ad-bec0a507ecfd"
      },
      "execution_count": null,
      "outputs": [
        {
          "output_type": "stream",
          "name": "stdout",
          "text": [
            "5\n",
            "3\n",
            "14\n"
          ]
        }
      ]
    },
    {
      "cell_type": "markdown",
      "source": [
        ""
      ],
      "metadata": {
        "id": "9x1JNY9OJQpB"
      }
    },
    {
      "cell_type": "code",
      "source": [
        "# A Sample class with init method\n",
        "class Person:\n",
        "   \n",
        "    # init method or constructor \n",
        "    def __init__(self):\n",
        "        self.name = \"kalyan\"\n",
        "    \n",
        "   \n",
        "    # Sample Method \n",
        "    def say_hi(self):\n",
        "        print('Hello, my name is', self.name)\n",
        "   \n",
        "p = Person()\n",
        "p.say_hi()\n",
        "p2=Person()\n",
        "p2.name=\"Ram\"\n",
        "print(p2.name)\n",
        "p2.say_hi()\n"
      ],
      "metadata": {
        "colab": {
          "base_uri": "https://localhost:8080/"
        },
        "id": "AzrKyPzGiwlt",
        "outputId": "c6f418c2-3a31-48ea-fe64-311c33fa09de"
      },
      "execution_count": null,
      "outputs": [
        {
          "output_type": "stream",
          "name": "stdout",
          "text": [
            "Hello, my name is kalyan\n",
            "Ram\n",
            "Hello, my name is Ram\n"
          ]
        }
      ]
    },
    {
      "cell_type": "code",
      "source": [
        "# example for parameterized constructor\n",
        "class Person:\n",
        "   \n",
        "    # init method or constructor \n",
        "    def __init__(self,name,age):\n",
        "        self.name =name\n",
        "        self.age=age\n",
        "    \n",
        "   \n",
        "    # Sample Method \n",
        "    def say_hi(self):\n",
        "        print('Hello, my name is', self.name)\n",
        "        print(\"my age is \",self.age)\n",
        "   \n",
        "p1 = Person(\"kalyan\",24)\n",
        "p1.say_hi()\n",
        "\n",
        "p2=Person(\"ram\",26)\n",
        "print(p2.name)\n",
        "p2.say_hi()\n"
      ],
      "metadata": {
        "id": "-hrD8W4ji0u0",
        "colab": {
          "base_uri": "https://localhost:8080/"
        },
        "outputId": "7ec02724-1a36-4e07-82a9-e818300b3558"
      },
      "execution_count": null,
      "outputs": [
        {
          "output_type": "stream",
          "name": "stdout",
          "text": [
            "Hello, my name is kalyan\n",
            "my age is  24\n",
            "ram\n",
            "Hello, my name is ram\n",
            "my age is  26\n"
          ]
        }
      ]
    },
    {
      "cell_type": "code",
      "source": [
        "#calling init() method \n",
        "p3=Person('kali',25)\n",
        "p3.init()"
      ],
      "metadata": {
        "colab": {
          "base_uri": "https://localhost:8080/",
          "height": 200
        },
        "id": "o19TLa9yFLSd",
        "outputId": "5d11f8f8-f670-4393-df04-5b1b4ea7841a"
      },
      "execution_count": null,
      "outputs": [
        {
          "output_type": "error",
          "ename": "AttributeError",
          "evalue": "ignored",
          "traceback": [
            "\u001b[0;31m---------------------------------------------------------------------------\u001b[0m",
            "\u001b[0;31mAttributeError\u001b[0m                            Traceback (most recent call last)",
            "\u001b[0;32m<ipython-input-48-79119ca6437c>\u001b[0m in \u001b[0;36m<module>\u001b[0;34m()\u001b[0m\n\u001b[1;32m      1\u001b[0m \u001b[0;31m#calling __init__() method\u001b[0m\u001b[0;34m\u001b[0m\u001b[0;34m\u001b[0m\u001b[0;34m\u001b[0m\u001b[0m\n\u001b[1;32m      2\u001b[0m \u001b[0mp3\u001b[0m\u001b[0;34m=\u001b[0m\u001b[0mPerson\u001b[0m\u001b[0;34m(\u001b[0m\u001b[0;34m'kali'\u001b[0m\u001b[0;34m,\u001b[0m\u001b[0;36m25\u001b[0m\u001b[0;34m)\u001b[0m\u001b[0;34m\u001b[0m\u001b[0;34m\u001b[0m\u001b[0m\n\u001b[0;32m----> 3\u001b[0;31m \u001b[0mp3\u001b[0m\u001b[0;34m.\u001b[0m\u001b[0minit\u001b[0m\u001b[0;34m(\u001b[0m\u001b[0;34m)\u001b[0m\u001b[0;34m\u001b[0m\u001b[0;34m\u001b[0m\u001b[0m\n\u001b[0m",
            "\u001b[0;31mAttributeError\u001b[0m: 'Person' object has no attribute 'init'"
          ]
        }
      ]
    },
    {
      "cell_type": "markdown",
      "source": [
        "# Note:\n",
        " The init() method has two underscores before and after, this indicates that this method is internally defined and we cannot access this method explicitly(outside the class)."
      ],
      "metadata": {
        "id": "OuDfLko-Gy0B"
      }
    },
    {
      "cell_type": "code",
      "source": [
        ""
      ],
      "metadata": {
        "id": "q90Gnc6vGTHL"
      },
      "execution_count": null,
      "outputs": []
    },
    {
      "cell_type": "markdown",
      "source": [
        "# what happens when an object is created?\n",
        "When we create an instance the following steps will take place internally.\n",
        "\n",
        "1. first of all, a block of memory is allocated on heap. How much memory is allocated is decided from the attributes and methods available in the Student class.\n",
        "2. After allocating the memory block, the special method by the name__init__(self) is called internally. This method stores the initial data into the variables. Since this method is useful to construct the instance, it is called **constructor**\n",
        "3. Finally, the allocated memory location address of the instance is returned into 's1' variable."
      ],
      "metadata": {
        "id": "ZmOu3cROJcfQ"
      }
    },
    {
      "cell_type": "markdown",
      "source": [
        "# Lecture 17\n",
        "## **Types of variable in OOPs**\n",
        "* instance variables\n",
        "* class or static varibales\n",
        "\n",
        "\n",
        "* Instance **variables** are for **data**, **unique** to each **instance** and **class variables** are for **attributes** and **methods** **shared by** all **instances of the class**. \n",
        "* Instance variables are **variables whose value is assigned inside a constructor or method with self** \n",
        "* whereas class variables are variables whose value is assigned in the class.\n",
        "\n",
        "* modification of instance variable in one instance, will not affect(change) in other instances.\n",
        "* modification of class variable will modify all the instance variables and class variable.\n",
        "\n",
        "Defining **instance variable** using a **constructor**. "
      ],
      "metadata": {
        "id": "H1VvsoxuLFRV"
      }
    },
    {
      "cell_type": "markdown",
      "source": [
        ""
      ],
      "metadata": {
        "id": "pC-7be4jOVOg"
      }
    },
    {
      "cell_type": "code",
      "source": [
        "#example to understand the instance varibles\n",
        "class sample:\n",
        "  def __init__(self):\n",
        "    self.x=10\n",
        "  \n",
        "  def modify(self):\n",
        "    self.x=20\n",
        "#creating objects\n",
        "s1=sample()\n",
        "s2=sample()\n",
        "print('x in s1=', s1.x)\n",
        "print('x in s2=', s2.x)"
      ],
      "metadata": {
        "colab": {
          "base_uri": "https://localhost:8080/"
        },
        "id": "gJ9MCUavOr6u",
        "outputId": "032b52fe-e348-4b27-d7aa-09325b8d458f"
      },
      "execution_count": null,
      "outputs": [
        {
          "output_type": "stream",
          "name": "stdout",
          "text": [
            "x in s1= 10\n",
            "x in s2= 10\n"
          ]
        }
      ]
    },
    {
      "cell_type": "code",
      "source": [
        "#calling modify method\n",
        "s1.modify()\n",
        "print('x in s1=',s1.x)\n",
        "print('x in s2=',s2.x)"
      ],
      "metadata": {
        "colab": {
          "base_uri": "https://localhost:8080/"
        },
        "id": "Pim8z-C2Pq2x",
        "outputId": "bc5b249d-1b8f-4ee9-818d-9b8d0d5e6e02"
      },
      "execution_count": null,
      "outputs": [
        {
          "output_type": "stream",
          "name": "stdout",
          "text": [
            "x in s1= 20\n",
            "x in s2= 10\n"
          ]
        }
      ]
    },
    {
      "cell_type": "code",
      "source": [
        "#exmaple to undestand class variables or static variables\n",
        "class sample:\n",
        "  x=10 # this is class(static) variable\n",
        "  def modify(self):\n",
        "    self.x=20\n",
        "  \n",
        "#creating objects\n",
        "s1=sample()\n",
        "s2=sample()\n",
        "print('x in s1=',s1.x)\n",
        "print('x in s2=',s2.x)"
      ],
      "metadata": {
        "colab": {
          "base_uri": "https://localhost:8080/"
        },
        "id": "VjyxMExaQE8Y",
        "outputId": "20029b4d-0a42-4124-b420-56992f1844a8"
      },
      "execution_count": null,
      "outputs": [
        {
          "output_type": "stream",
          "name": "stdout",
          "text": [
            "x in s1= 10\n",
            "x in s2= 10\n"
          ]
        }
      ]
    },
    {
      "cell_type": "code",
      "source": [
        "sample.x=30\n",
        "s1=sample()\n",
        "s2=sample()\n",
        "print('x in s1=',s1.x)\n",
        "print('x in s2=',s2.x)"
      ],
      "metadata": {
        "colab": {
          "base_uri": "https://localhost:8080/"
        },
        "id": "wZqA3BDLRay-",
        "outputId": "8fb172cb-4f2c-4e92-912f-45224391a536"
      },
      "execution_count": null,
      "outputs": [
        {
          "output_type": "stream",
          "name": "stdout",
          "text": [
            "x in s1= 30\n",
            "x in s2= 30\n"
          ]
        }
      ]
    },
    {
      "cell_type": "code",
      "source": [
        ""
      ],
      "metadata": {
        "colab": {
          "base_uri": "https://localhost:8080/"
        },
        "id": "d0i50bpGQ-Uv",
        "outputId": "a0ced317-0089-49c4-f744-2e396498cf61"
      },
      "execution_count": null,
      "outputs": [
        {
          "output_type": "stream",
          "name": "stdout",
          "text": [
            "20\n"
          ]
        },
        {
          "output_type": "execute_result",
          "data": {
            "text/plain": [
              "10"
            ]
          },
          "metadata": {},
          "execution_count": 56
        }
      ]
    },
    {
      "cell_type": "code",
      "source": [
        ""
      ],
      "metadata": {
        "id": "MabQjUhSQDrM"
      },
      "execution_count": null,
      "outputs": []
    },
    {
      "cell_type": "code",
      "source": [
        "#example for default constructor\n",
        "class masterpython:\n",
        " \n",
        "    # default constructor\n",
        "    def __init__(self):\n",
        "        self.a = \"master_python\"\n",
        " \n",
        "    # a method for printing data members\n",
        "    def print_a(self):\n",
        "        print(self.a)\n",
        " \n",
        " \n",
        "# creating object of the class\n",
        "obj = masterpython()\n",
        " \n",
        "# calling the instance method using the object obj\n",
        "obj.print_a()"
      ],
      "metadata": {
        "id": "nN-NSbBK7heK",
        "colab": {
          "base_uri": "https://localhost:8080/"
        },
        "outputId": "0fcb8e18-d09d-4705-9f2a-9207a80b4179"
      },
      "execution_count": null,
      "outputs": [
        {
          "output_type": "stream",
          "name": "stdout",
          "text": [
            "master_python\n"
          ]
        }
      ]
    },
    {
      "cell_type": "markdown",
      "source": [
        "**Example of the parameterized constructor :**"
      ],
      "metadata": {
        "id": "PRTx7GoMFz9F"
      }
    },
    {
      "cell_type": "markdown",
      "source": [
        "\n",
        "\n",
        "---\n",
        "\n",
        "# **Destructors in Python**\n",
        "\n",
        "---\n",
        "**Destructors** are called when an object gets destroyed.\n",
        "\n",
        "The __del__() method is a known as a destructor method in Python. It is called when all references to the object have been deleted.\n",
        "\n",
        "**Syntax of destructor declaration :**\n",
        "\n",
        "**def __ del__(self):**\n",
        "  #body of destructor\n",
        "\n"
      ],
      "metadata": {
        "id": "YmLJxDIzGtPG"
      }
    },
    {
      "cell_type": "code",
      "source": [
        "# Python program to illustrate destructor\n",
        "class Employee:\n",
        "  \n",
        "    # Initializing\n",
        "    def __init__(self):\n",
        "        print('Employee created.')\n",
        "  \n",
        "    # Deleting (Calling destructor)\n",
        "    def __del__(self):\n",
        "        print('Destructor called, Employee deleted.')\n",
        "  \n",
        "obj = Employee()\n",
        "#obj1=Employee()\n",
        "#del obj"
      ],
      "metadata": {
        "id": "uX4NLX_ojqnS",
        "colab": {
          "base_uri": "https://localhost:8080/"
        },
        "outputId": "81716cf1-2298-4ee8-988b-bb22311e764f"
      },
      "execution_count": null,
      "outputs": [
        {
          "output_type": "stream",
          "name": "stdout",
          "text": [
            "Employee created.\n",
            "Destructor called, Employee deleted.\n"
          ]
        }
      ]
    },
    {
      "cell_type": "markdown",
      "source": [
        "**Note :** A reference to objects is also deleted when the object goes out of reference or when the **program ends**."
      ],
      "metadata": {
        "id": "6LmL4j7pNfo6"
      }
    },
    {
      "cell_type": "code",
      "source": [
        "# Python program to illustrate destructor\n",
        "  \n",
        "class Employee:\n",
        "  \n",
        "    # Initializing \n",
        "    def __init__(self):\n",
        "        print('Employee created')\n",
        "  \n",
        "    # Calling destructor\n",
        "    def __del__(self):\n",
        "        print(\"Destructor called\")\n",
        "  \n",
        "def Create_obj():\n",
        "    print('Making Object...')\n",
        "    obj = Employee()\n",
        "    print('function end...')\n",
        "    return obj\n",
        "  \n",
        "print('Calling Create_obj() function...')\n",
        "obj = Create_obj()\n",
        "print('Program End...')"
      ],
      "metadata": {
        "id": "h4YxBHlajq4l",
        "colab": {
          "base_uri": "https://localhost:8080/"
        },
        "outputId": "81c979c3-eac5-4df2-bafb-f10d7644008f"
      },
      "execution_count": null,
      "outputs": [
        {
          "output_type": "stream",
          "name": "stdout",
          "text": [
            "Calling Create_obj() function...\n",
            "Making Object...\n",
            "Employee created\n",
            "function end...\n",
            "Program End...\n",
            "Destructor called, Employee deleted.\n"
          ]
        }
      ]
    },
    {
      "cell_type": "markdown",
      "source": [
        " **Now, consider the following example :**"
      ],
      "metadata": {
        "id": "3U_79I8CQATx"
      }
    },
    {
      "cell_type": "code",
      "source": [
        "# Python program to illustrate destructor\n",
        "  \n",
        "class A:\n",
        "    def __init__(self, bb):\n",
        "        self.b = bb\n",
        "  \n",
        "class B:\n",
        "    def __init__(self):\n",
        "        self.a = A(self)\n",
        "    def __del__(self):\n",
        "        print(\"die\")\n",
        "  \n",
        "def fun():\n",
        "    b = B()\n",
        "  \n",
        "fun()"
      ],
      "metadata": {
        "id": "PeFwITxi7jIt"
      },
      "execution_count": null,
      "outputs": []
    },
    {
      "cell_type": "code",
      "source": [
        ""
      ],
      "metadata": {
        "id": "jP4a_X7L7jX3"
      },
      "execution_count": null,
      "outputs": []
    },
    {
      "cell_type": "markdown",
      "source": [
        "In this example when the function **fun()** is called, it creates an instance of **class B** which passes itself to **class A**, which then sets a reference to **class B** and resulting in a circular reference."
      ],
      "metadata": {
        "id": "pV0KMqJ1Rbh9"
      }
    },
    {
      "cell_type": "markdown",
      "source": [
        "Simply, it doesn’t know the order in which to destroy the objects, so it leaves them. Therefore, if your instances are involved in circular references they will live in memory for as long as the application run."
      ],
      "metadata": {
        "id": "CgsuY04iRpUO"
      }
    },
    {
      "cell_type": "code",
      "source": [
        "# Python program to illustrate destructor\n",
        "  \n",
        "class A:\n",
        "    def __init__(self, bb):\n",
        "        self.b = bb\n",
        "  \n",
        "class B:\n",
        "    def __init__(self):\n",
        "        self.a = A(20)\n",
        "    def __del__(self):\n",
        "        print(\"die\")\n",
        "  \n",
        "def fun():\n",
        "    b = B()\n",
        "  \n",
        "fun()"
      ],
      "metadata": {
        "id": "vC5pTHAd7jck",
        "colab": {
          "base_uri": "https://localhost:8080/"
        },
        "outputId": "47639716-2ba4-4f02-b217-b0797c274158"
      },
      "execution_count": null,
      "outputs": [
        {
          "output_type": "stream",
          "name": "stdout",
          "text": [
            "die\n"
          ]
        }
      ]
    },
    {
      "cell_type": "code",
      "source": [
        ""
      ],
      "metadata": {
        "id": "mkTexO0cUhhb"
      },
      "execution_count": null,
      "outputs": []
    },
    {
      "cell_type": "markdown",
      "source": [
        "# Types of Methods\n",
        "* instance methods\n",
        "  1. accessor methods or getter methods\n",
        "  2. mutator methods or setter methods\n",
        "* class methods\n",
        "* static methods"
      ],
      "metadata": {
        "id": "3rTa3J8uUj-C"
      }
    },
    {
      "cell_type": "code",
      "source": [
        "#example for instance method\n",
        "class Student:\n",
        "  def __init__(self,n='',m=0):\n",
        "    self.name=n\n",
        "    self.marks=m\n",
        "\n",
        "  #this is instancemethod\n",
        "  def display(self):\n",
        "    print('hi', self.name)\n",
        "    print('your marks',self.marks)\n",
        "\n",
        "std=Student()\n",
        "std.display()"
      ],
      "metadata": {
        "colab": {
          "base_uri": "https://localhost:8080/"
        },
        "id": "BPx9wQa8ZIPl",
        "outputId": "8cbfc9f5-5601-47ae-dc9d-2adf89385775"
      },
      "execution_count": null,
      "outputs": [
        {
          "output_type": "stream",
          "name": "stdout",
          "text": [
            "hi \n",
            "your marks 0\n"
          ]
        }
      ]
    },
    {
      "cell_type": "code",
      "source": [
        "#write a python program using student class with instance methods to process the data of several students\n",
        "class student:\n",
        "  def __init__(self,n='',m=0):\n",
        "    self.name=n\n",
        "    self.marks=m\n",
        "  def display(self):\n",
        "    print('name:',self.name)\n",
        "    print('marks:',self.marks)\n",
        "  \n",
        "  def cal(self):\n",
        "    if (self.marks>=600):\n",
        "      print('A grade')\n",
        "    elif (self.marks>=500):\n",
        "      print('B grade')\n",
        "    elif (self.marks>=350):\n",
        "      print('C grade')\n",
        "    else:\n",
        "      print('Failed')\n",
        "\n",
        "  "
      ],
      "metadata": {
        "id": "ao4O62e_aZEu"
      },
      "execution_count": null,
      "outputs": []
    },
    {
      "cell_type": "code",
      "source": [
        "#create instances with some data from the user\n",
        "n=int(input('number of students:'))\n",
        "i=1\n",
        "while i<=n:\n",
        "    name=input('enter name:')\n",
        "    marks=int(input('enter marks:'))\n",
        "#creating instance \n",
        "    s=student(name,marks)\n",
        "    print('***student',i,'***')\n",
        "    s.display()\n",
        "    s.cal()\n",
        "    i+=1\n",
        "    "
      ],
      "metadata": {
        "colab": {
          "base_uri": "https://localhost:8080/"
        },
        "id": "EU_tiA_zd-el",
        "outputId": "8bcda8d2-3bdb-4d40-9b2d-0007d7ea52c8"
      },
      "execution_count": null,
      "outputs": [
        {
          "output_type": "stream",
          "name": "stdout",
          "text": [
            "number of students:3\n",
            "enter name:kalyan\n",
            "enter marks:400\n",
            "***student 1 ***\n",
            "name: kalyan\n",
            "marks: 400\n",
            "C grade\n",
            "enter name:kali\n",
            "enter marks:600\n",
            "***student 2 ***\n",
            "name: kali\n",
            "marks: 600\n",
            "A grade\n",
            "enter name:ram\n",
            "enter marks:500\n",
            "***student 3 ***\n",
            "name: ram\n",
            "marks: 500\n",
            "B grade\n"
          ]
        }
      ]
    },
    {
      "cell_type": "markdown",
      "source": [
        "#accessor or getter method:\n",
        "this methods simply access or read data of the variables.\\\n",
        "they do not modify the data in the variables.\n",
        "generally written in the form of **getXXX()**.\n",
        "\n",
        "#mutator or setter method:\n",
        "this methods not only read the data but also modifies the data.\\\n",
        "generally written in the form of **setXXX()**."
      ],
      "metadata": {
        "id": "XKvvYxaVfmJW"
      }
    },
    {
      "cell_type": "code",
      "source": [
        "#example for getter and setter methods\n",
        "class std1():\n",
        "  #mutator or setter method\n",
        "  def setName(self,name):\n",
        "    self.name=name\n",
        "  #accessor or getter method\n",
        "  def getName(self):\n",
        "    return self.name\n",
        "  # mutator method\n",
        "  def setMarks(self,marks):\n",
        "    self.marks=marks\n",
        "  # accessor method\n",
        "  def getMarks(self):\n",
        "    return self.marks\n"
      ],
      "metadata": {
        "id": "NtytsM_1d7k3"
      },
      "execution_count": null,
      "outputs": []
    },
    {
      "cell_type": "code",
      "source": [
        "#create instances with some data from the user\n",
        "n=int(input('Enter the number of students:'))\n",
        "i=1\n",
        "while i<=n:\n",
        "  std=std1()\n",
        "  name=input('enter the name:')\n",
        "  std.setName(name)\n",
        "  marks=int(input('enter the marks:'))\n",
        "  std.setMarks(marks)\n",
        "\n",
        "  #retrive the data\n",
        "  print('***student',i,'***')\n",
        "  print('hi',std.getName())\n",
        "  print('your marks',std.getMarks())\n",
        "  i+=1"
      ],
      "metadata": {
        "colab": {
          "base_uri": "https://localhost:8080/"
        },
        "id": "8wkaojsIh8Na",
        "outputId": "27b4ec8b-f316-4048-c72e-d699f8a23591"
      },
      "execution_count": null,
      "outputs": [
        {
          "output_type": "stream",
          "name": "stdout",
          "text": [
            "Enter the number of students:3\n",
            "enter the name:kali\n",
            "enter the marks:500\n",
            "***student 1 ***\n",
            "hi kali\n",
            "your marks 500\n",
            "enter the name:klayan\n",
            "enter the marks:56\n",
            "***student 2 ***\n",
            "hi klayan\n",
            "your marks 56\n",
            "enter the name:ram\n",
            "enter the marks:45\n",
            "***student 3 ***\n",
            "hi ram\n",
            "your marks 45\n"
          ]
        }
      ]
    },
    {
      "cell_type": "markdown",
      "source": [
        "#class method\n",
        "* these methods act on the class variables or static variabls\n",
        "* are written using **@classmethod** decorator above them.\n",
        "* default first parameter for class methods is **cls** which refers to the class itself."
      ],
      "metadata": {
        "id": "UG2C6NbIk3uW"
      }
    },
    {
      "cell_type": "code",
      "source": [
        "#example for the classmethod to handle the common features of all instances of Bird class\n",
        "class Bird:\n",
        "  wings=2  #this is class or static varible\n",
        "  @classmethod\n",
        "  def fly(cls,name):\n",
        "    print('{} flies with {} wings'.format(name,cls.wings))\n",
        "\n",
        "#display the information for 2 birds()\n",
        "Bird.fly('Sparrow')\n",
        "Bird.fly('Pigeon')\n",
        "#NOTE: we are not created any object"
      ],
      "metadata": {
        "colab": {
          "base_uri": "https://localhost:8080/"
        },
        "id": "YGQddRTwl2QE",
        "outputId": "d31a4f84-062a-44ff-e4ce-3bb163a71d28"
      },
      "execution_count": null,
      "outputs": [
        {
          "output_type": "stream",
          "name": "stdout",
          "text": [
            "Sparrow flies with 2 wings\n",
            "Pigeon flies with 2 wings\n"
          ]
        }
      ]
    },
    {
      "cell_type": "markdown",
      "source": [
        "# static method\n",
        "* these methods are used when some processing is related to the class but does not need the class or its instances to perform any work.\n",
        "* written with  a decorator **@staticmethod** above them\n",
        "\n"
      ],
      "metadata": {
        "id": "iNrkFQR9ojbY"
      }
    },
    {
      "cell_type": "code",
      "source": [
        "#example for static method\n",
        "class myclass:\n",
        "  n=0\n",
        "  #constructor that increments n when an instance is created\n",
        "  def __init__(self):\n",
        "    myclass.n+=1\n",
        "  #this is the static method to display the number of instances\n",
        "  @staticmethod\n",
        "  def no_objcts():\n",
        "    print('number of objects created:',myclass.n)\n",
        "    "
      ],
      "metadata": {
        "id": "4NQiPYi8pvmr"
      },
      "execution_count": null,
      "outputs": []
    },
    {
      "cell_type": "code",
      "source": [
        "#creare object for the above class\n",
        "ob1=myclass()\n",
        "ob2=myclass()\n",
        "ob3=myclass()\n",
        "ob4=myclass()"
      ],
      "metadata": {
        "id": "5pFPxYo4qejw"
      },
      "execution_count": null,
      "outputs": []
    },
    {
      "cell_type": "code",
      "source": [
        "#calling static method\n",
        "myclass.no_objcts()"
      ],
      "metadata": {
        "colab": {
          "base_uri": "https://localhost:8080/"
        },
        "id": "2ErrkrGhqvZB",
        "outputId": "52642e76-35a6-4647-cb7c-fa97a2f76aa0"
      },
      "execution_count": null,
      "outputs": [
        {
          "output_type": "stream",
          "name": "stdout",
          "text": [
            "number of objects created: 4\n"
          ]
        }
      ]
    },
    {
      "cell_type": "code",
      "source": [
        "#example bank problem where deposits and withdraws can be handled by instance methods\n",
        "import sys\n",
        "class Bank:\n",
        "  '''bank related transaction'''\n",
        "  def __init__(self, name,balance=0.0):\n",
        "    self.name=name\n",
        "    self.balance=balance\n",
        "\n",
        "  def deposit(self,amount):\n",
        "    self.balance+=amount\n",
        "    return self.balance\n",
        "\n",
        "  def withdraw(self,amount):\n",
        "    if self.balance < amount:\n",
        "      print('insufficient balance')\n",
        "    else:\n",
        "      self.balance-=amount\n",
        "    return self.balance\n",
        "\n",
        "#creating object\n",
        "name=input('enter the name')\n",
        "b=Bank(name)\n",
        "while True:\n",
        "  print('d-deposit,w-withdraw,e-exit')\n",
        "  choice=input('enter your option')\n",
        "  if choice == 'e' or choice =='E':\n",
        "    sys.exit()\n",
        "  amt=float(input('enter the amount'))\n",
        "  if choice == 'd' or choice =='D':\n",
        "    print('balance after deposit:',b.deposit(amt))\n",
        "  elif choice == 'w' or choice =='W':\n",
        "    print('balance after withdrew:',b.withdraw(amt))\n",
        "   \n",
        "  \n",
        "  \n"
      ],
      "metadata": {
        "id": "b4AGZQsEoaa9",
        "colab": {
          "base_uri": "https://localhost:8080/",
          "height": 358
        },
        "outputId": "569c59b4-d777-4b0e-a21a-208f55b371dc"
      },
      "execution_count": null,
      "outputs": [
        {
          "name": "stdout",
          "output_type": "stream",
          "text": [
            "enter the namekalyan\n",
            "d-deposit,w-withdraw,e-exit\n",
            "enter your optiond\n",
            "enter the amount500\n",
            "balance after deposit: 500.0\n",
            "d-deposit,w-withdraw,e-exit\n",
            "enter your optionw\n",
            "enter the amount40\n",
            "balance after withdrew: 460.0\n",
            "d-deposit,w-withdraw,e-exit\n",
            "enter your optione\n"
          ]
        },
        {
          "output_type": "error",
          "ename": "SystemExit",
          "evalue": "ignored",
          "traceback": [
            "An exception has occurred, use %tb to see the full traceback.\n",
            "\u001b[0;31mSystemExit\u001b[0m\n"
          ]
        },
        {
          "output_type": "stream",
          "name": "stderr",
          "text": [
            "/usr/local/lib/python3.7/dist-packages/IPython/core/interactiveshell.py:2890: UserWarning: To exit: use 'exit', 'quit', or Ctrl-D.\n",
            "  warn(\"To exit: use 'exit', 'quit', or Ctrl-D.\", stacklevel=1)\n"
          ]
        }
      ]
    },
    {
      "cell_type": "markdown",
      "source": [
        "#Passing members of one class to another class\n"
      ],
      "metadata": {
        "id": "hkKTLBv_oa2N"
      }
    },
    {
      "cell_type": "code",
      "source": [
        "#class 1\n",
        "class emp:\n",
        "  def __init__(self,id,name,salary):\n",
        "    self.id=id\n",
        "    self.name=name\n",
        "    self.salary=salary\n",
        "  def display(self):\n",
        "    print('ID=',self.id)\n",
        "    print('Name=',self.name)\n",
        "    print('Salary=',self.salary)\n",
        "#object creation\n",
        "e=emp(10,'kalyan',15000)\n"
      ],
      "metadata": {
        "id": "C6p_qMXqojXD"
      },
      "execution_count": null,
      "outputs": []
    },
    {
      "cell_type": "code",
      "source": [
        "#class 2\n",
        "class myclass:\n",
        "  @staticmethod\n",
        "  def mymethod(e):\n",
        "    e.salary+=1000\n",
        "    e.display()\n",
        "\n",
        "\n"
      ],
      "metadata": {
        "id": "Xe2oipqLtZ2i"
      },
      "execution_count": null,
      "outputs": []
    },
    {
      "cell_type": "code",
      "source": [
        "#call static method of myclass and pass e\n",
        "myclass.mymethod(e)"
      ],
      "metadata": {
        "colab": {
          "base_uri": "https://localhost:8080/"
        },
        "id": "2cIDItXZufsY",
        "outputId": "732daa82-dd09-4987-c372-3e00d6d9b047"
      },
      "execution_count": null,
      "outputs": [
        {
          "output_type": "stream",
          "name": "stdout",
          "text": [
            "ID= 10\n",
            "Name= kalyan\n",
            "Salary= 17000\n"
          ]
        }
      ]
    },
    {
      "cell_type": "markdown",
      "source": [
        "Note: static methods are use when the class variables or instance variables are not disturbed. we have to use static method when we want to pass some values from outside and perform some calculation in the method.\n",
        "* hence for static methods **self** and **cls** keywords are not required."
      ],
      "metadata": {
        "id": "iUEGwCHIvXm9"
      }
    },
    {
      "cell_type": "markdown",
      "source": [
        "#Inner class or nested class\n",
        "writing a class within another class is called creating another class or nested class.\n",
        "\n"
      ],
      "metadata": {
        "id": "tvw5EcbgwLr7"
      }
    },
    {
      "cell_type": "code",
      "source": [
        "#create a Dob class within the person class\n",
        "class person:\n",
        "  def __init__(self):\n",
        "    self.name='kalyan'\n",
        "    self.db=self.Dob()\n",
        "  def display(self):\n",
        "    print('name=',self.name)\n",
        "\n",
        "  class Dob:\n",
        "    def __init__(self):\n",
        "      self.dd=10\n",
        "      self.mm=5\n",
        "      self.yy=2014\n",
        "    def display(self):\n",
        "      print('Dob={}/{}/{}'.format(self.dd,self.mm,self.yy))\n",
        "\n",
        "#creating person class object\n",
        "p=person()\n",
        "p.display()\n",
        "\n",
        "#create inner class object\n",
        "x=p.db\n",
        "x.display()"
      ],
      "metadata": {
        "colab": {
          "base_uri": "https://localhost:8080/"
        },
        "id": "nJL4_8cew5ql",
        "outputId": "6cb7f580-1489-426f-8f20-3953e173d556"
      },
      "execution_count": null,
      "outputs": [
        {
          "output_type": "stream",
          "name": "stdout",
          "text": [
            "name= kalyan\n",
            "Dob=10/5/2014\n"
          ]
        }
      ]
    },
    {
      "cell_type": "markdown",
      "source": [
        "Note: it is not compulsory to create inner class object inside outer class. that means we need not write the following statement in the person class constructor.\n",
        "i.e\\\n",
        "self.db=self.Dob()\n",
        "if we do  not write this then there is no relation between the outer class object and inner class object.\n",
        "\n",
        "then how to refer to inner class members is the question.\n",
        "\n",
        "in this case we have to create the outer class object and then using dot operator, we should mention the inner class object."
      ],
      "metadata": {
        "id": "-czqKXjD0s0r"
      }
    },
    {
      "cell_type": "code",
      "source": [
        "#create a Dob class within the person class\n",
        "class person:\n",
        "  def __init__(self):\n",
        "    self.name='kalyan'\n",
        "  def display(self):\n",
        "    print('name=',self.name)\n",
        "\n",
        "  class Dob:\n",
        "    def __init__(self):\n",
        "      self.dd=10\n",
        "      self.mm=5\n",
        "      self.yy=2014\n",
        "    def display(self):\n",
        "      print('Dob={}/{}/{}'.format(self.dd,self.mm,self.yy))\n",
        "\n",
        "#creating person class object\n",
        "p=person()\n",
        "p.display()\n",
        "\n",
        "#create inner class object\n",
        "x=person().Dob()\n",
        "x.display()\n",
        "print(x.yy)"
      ],
      "metadata": {
        "colab": {
          "base_uri": "https://localhost:8080/"
        },
        "id": "OqFENr4SvFuT",
        "outputId": "68ef11e5-a8fc-4570-d828-708f941be03a"
      },
      "execution_count": null,
      "outputs": [
        {
          "output_type": "stream",
          "name": "stdout",
          "text": [
            "name= kalyan\n",
            "Dob=10/5/2014\n",
            "2014\n"
          ]
        }
      ]
    },
    {
      "cell_type": "code",
      "source": [
        ""
      ],
      "metadata": {
        "id": "80L5XCK51Q6T"
      },
      "execution_count": null,
      "outputs": []
    },
    {
      "cell_type": "markdown",
      "source": [
        "\n",
        "# chapter 14\n",
        "---\n",
        "# **Types of inheritance Python**\n",
        "\n",
        "* **Inheritance** is defined as the capability of one class to derive or inherit the properties from some other class and use it whenever needed. \n",
        "* Inheritance provides the following properties: \n",
        "\n",
        "* It represents real-world relationships well. \n",
        "* It provides reusability of code. We don’t have to write the same code again and again. Also, it allows us to add more features to a class without modifying it. \n",
        "* It is transitive in nature, which means that if class B inherits from another class A, then all the subclasses of B would automatically inherit from class A.\n"
      ],
      "metadata": {
        "id": "x_JOQwBNSL5o"
      }
    },
    {
      "cell_type": "code",
      "source": [
        "#try it in jupyter notebook\n",
        "#create a teacher class and store it as teacher.py\n",
        "class Teacher:\n",
        "  def setid(self,id):\n",
        "    self.id=id\n",
        "  def getid(self):\n",
        "    return self.id\n",
        "  def setname(self, name):\n",
        "    self.name=name\n",
        "  def getname(self):\n",
        "    return self.name\n",
        "  def setaddress(self,address):\n",
        "    self.address=address\n",
        "  def getaddress(self):\n",
        "    return self.address\n",
        "  def setsalary(self,salary):\n",
        "    self.salary=salary\n",
        "  def getsalary(self):\n",
        "    return self.salary"
      ],
      "metadata": {
        "id": "0FR5lgKsoY09"
      },
      "execution_count": null,
      "outputs": []
    },
    {
      "cell_type": "code",
      "source": [
        "#use the Teacher class by importing(try in jupyter notebook)\n",
        "#from teacher import Teacher #from teacher.py we are importing Teacher class\n",
        "\n",
        "t=Teacher()\n",
        "\n",
        "t.setid(10)\n",
        "t.setname('kalyan')\n",
        "t.setaddress('Hno:5-98, hyderabad, telangana')\n",
        "t.setsalary(35000)\n",
        "\n",
        "\n",
        "print(t.getid())\n",
        "print(t.getname())\n",
        "print(t.getaddress())\n",
        "print(t.getsalary())\n"
      ],
      "metadata": {
        "colab": {
          "base_uri": "https://localhost:8080/"
        },
        "id": "TbnBXlEA6ekn",
        "outputId": "a60e2da3-cf9d-4e77-d8f2-fca4bdb450a0"
      },
      "execution_count": null,
      "outputs": [
        {
          "output_type": "stream",
          "name": "stdout",
          "text": [
            "10\n",
            "kalyan\n",
            "Hno:5-98, hyderabad, telangana\n",
            "35000\n"
          ]
        }
      ]
    },
    {
      "cell_type": "code",
      "source": [
        "#inheritance example\n",
        "class Teacher: #super class or base class\n",
        "  def setid(self,id):\n",
        "    self.id=id\n",
        "  def getid(self):\n",
        "    return self.id\n",
        "  def setname(self, name):\n",
        "    self.name=name\n",
        "  def getname(self):\n",
        "    return self.name\n",
        "  def setaddress(self,address):\n",
        "    self.address=address\n",
        "  def getaddress(self):\n",
        "    return self.address\n",
        "  def setsalary(self,salary):\n",
        "    self.salary=salary\n",
        "  def getsalary(self):\n",
        "    return self.salary"
      ],
      "metadata": {
        "id": "A_BOL0_THvaY"
      },
      "execution_count": null,
      "outputs": []
    },
    {
      "cell_type": "code",
      "source": [
        "class student(Teacher):# derived class or subclass\n",
        "  def setmarks(self,marks):\n",
        "    self.marks=marks\n",
        "  def getmarks(self):\n",
        "    return self.marks\n",
        "#creating instance for the derived class(subclass)\n",
        "s=student()\n",
        "s.setid(200)\n",
        "s.setname('kalyan')\n",
        "s.setaddress('Hno:5-98,suryapet, telangana')\n",
        "s.setmarks(970)\n",
        "\n",
        "print(s.getid())\n",
        "print(s.getname())\n",
        "print(s.getaddress())\n",
        "print(s.getmarks())\n"
      ],
      "metadata": {
        "colab": {
          "base_uri": "https://localhost:8080/"
        },
        "id": "A9zS0FoJH4Qa",
        "outputId": "9fe778f3-da0e-480d-94b6-54ad89e9f695"
      },
      "execution_count": null,
      "outputs": [
        {
          "output_type": "stream",
          "name": "stdout",
          "text": [
            "200\n",
            "kalyan\n",
            "Hno:5-98,suryapet, telangana\n",
            "970\n"
          ]
        }
      ]
    },
    {
      "cell_type": "code",
      "source": [
        "# inheritance \n",
        " \n",
        " \n",
        "# Base class or Parent class\n",
        "class father:\n",
        " \n",
        "    # Constructor\n",
        "    def __init__(self, name):\n",
        "        self.name = name\n",
        " \n",
        "    # To get name\n",
        "    def getName(self):\n",
        "        return self.name\n",
        " \n",
        "    # To check if this person is student\n",
        "    def isStudent(self):\n",
        "        return False\n",
        " \n",
        "# Derived class or Child class\n",
        "class son(father):\n",
        " \n",
        "    # True is returned\n",
        "    def isStudent(self):\n",
        "        return True\n",
        " \n",
        "  \n",
        "# Driver code\n",
        "# An Object of father\n",
        "std = father(\"Ram\")\n",
        "print(std.getName(), std.isStudent())\n",
        " \n",
        "# An Object of son\n",
        "std = son(\"Shivam\")\n",
        "print(std.getName(), std.isStudent())"
      ],
      "metadata": {
        "id": "6Xx2VOG37jgq",
        "colab": {
          "base_uri": "https://localhost:8080/"
        },
        "outputId": "1b84fc98-451c-4000-8cdc-b4dd87efaccb"
      },
      "execution_count": null,
      "outputs": [
        {
          "output_type": "stream",
          "name": "stdout",
          "text": [
            "Ram False\n",
            "Shivam True\n"
          ]
        }
      ]
    },
    {
      "cell_type": "markdown",
      "source": [
        "# **constructors in Inheritance**\n"
      ],
      "metadata": {
        "id": "40skBbHUKBL3"
      }
    },
    {
      "cell_type": "code",
      "source": [
        "class father:\n",
        "  def __init__(self):\n",
        "    self.property=800000.00\n",
        "  def display(self):\n",
        "    print(\"father's property=\",self.property)\n",
        "class son(father):\n",
        "  pass\n",
        "\n",
        "s=son()\n",
        "s.display()"
      ],
      "metadata": {
        "colab": {
          "base_uri": "https://localhost:8080/"
        },
        "id": "iyHwCzPrKN8T",
        "outputId": "f0b614e7-eeba-4bcb-c8ba-5927b7162f3d"
      },
      "execution_count": null,
      "outputs": [
        {
          "output_type": "stream",
          "name": "stdout",
          "text": [
            "father's property= 800000.0\n"
          ]
        }
      ]
    },
    {
      "cell_type": "markdown",
      "source": [
        "#overriding super class constructors and methods\n",
        "\n",
        "when the programmer writes a constructor in the subclass, the super class construtor is not available to the sub class.\n",
        "\n",
        "in this case only sub class constructor is accessible from the sub class object.\n",
        "\n",
        "that means the sub class constructor is replacing the super class constructor. this is called **constructor overriding**.\n",
        "\n",
        "similarly\n",
        "\n",
        "in the subclass, if we write  a method with exactly same name as that of super class method, it will override tehe super class method. This is called **method overriding.**"
      ],
      "metadata": {
        "id": "0SVMDxJ3MwgG"
      }
    },
    {
      "cell_type": "code",
      "source": [
        "#example for overriding the base class constructor and method in sub class\n",
        "class father:\n",
        "  def __init__(self):\n",
        "    self.property=8000000.0\n",
        "  def display(self):\n",
        "    print(\"father's property:\",self.property)\n",
        "class son(father):\n",
        "  def __init__(self):\n",
        "    self.property=20000.0\n",
        "  def display(self):\n",
        "    print(\"child's property:\",self.property)\n",
        "\n",
        "#create sub class instance and display father's property\n",
        "s=son()\n",
        "s.display()"
      ],
      "metadata": {
        "colab": {
          "base_uri": "https://localhost:8080/"
        },
        "id": "BCJTZLQAM6Wl",
        "outputId": "27e6e1f7-9f82-4376-9901-f2ea8e0c6ddd"
      },
      "execution_count": null,
      "outputs": [
        {
          "output_type": "stream",
          "name": "stdout",
          "text": [
            "child's property: 20000.0\n"
          ]
        }
      ]
    },
    {
      "cell_type": "markdown",
      "source": [
        "#Super() method\n",
        "any constuctor written in the super class is not available to the sub class if the sub class has a constructor. Then how can we initialize super class instance variables and use them in sub class?. In this case we will use **super()** method\n",
        "\n",
        "**super()** is a built-in method which is useful to call the super class constructor or methods from the sub class.\n",
        "\n",
        "\n"
      ],
      "metadata": {
        "id": "7VKce1fwRLBb"
      }
    },
    {
      "cell_type": "code",
      "source": [
        "#example for super() method\n",
        "class father:\n",
        "  def __init__(self,property=0):\n",
        "    self.property=property\n",
        "  def display(self):\n",
        "    print(\"fahter's property\", self.property)\n",
        "class son(father):\n",
        "  def __init__(self, property1=0, property=0):\n",
        "    super().__init__(property)\n",
        "    self.property1=property1\n",
        "\n",
        "  def display(self):\n",
        "    print(\"child's total property:\",self.property1 + self.property)\n",
        "\n",
        "#create instance for sub class\n",
        "s=son(20000,80000)\n",
        "s.display()\n",
        "\n"
      ],
      "metadata": {
        "colab": {
          "base_uri": "https://localhost:8080/"
        },
        "id": "_pHXcHWPTR6W",
        "outputId": "d17137d2-899a-4bcf-99d0-747639939823"
      },
      "execution_count": null,
      "outputs": [
        {
          "output_type": "stream",
          "name": "stdout",
          "text": [
            "child's total property: 100000\n"
          ]
        }
      ]
    },
    {
      "cell_type": "code",
      "source": [
        "# example problem \n",
        "class square:\n",
        "  def __init__(self,x):\n",
        "    self.x=x\n",
        "  def area(self):\n",
        "    print('Area of square',self.x * self.x)\n",
        "class rectangle(square):\n",
        "  def __init__(self,x,y):\n",
        "    super().__init__(x)\n",
        "    self.y=y\n",
        "  def area(self):\n",
        "      super().area()\n",
        "      print('area of rectangle=',self.x *self.y)\n",
        "\n",
        "#find the area of square and rectangle\n",
        "a,b=[float(x) for x in input('enter height and width:').split()]\n",
        "r=rectangle(a,b)\n",
        "r.area()"
      ],
      "metadata": {
        "colab": {
          "base_uri": "https://localhost:8080/"
        },
        "id": "7tvleeZWXnPX",
        "outputId": "8ff31657-3709-4ded-ddae-2c3b93b5f104"
      },
      "execution_count": null,
      "outputs": [
        {
          "output_type": "stream",
          "name": "stdout",
          "text": [
            "enter height and width:50 5\n",
            "Area of square 2500.0\n",
            "area of rectangle= 250.0\n"
          ]
        }
      ]
    },
    {
      "cell_type": "markdown",
      "source": [
        "# **Types of Inheritance in Python**\n",
        "\n",
        "---\n",
        "\n",
        "\n",
        "Types of Inheritance depends upon the number of child and parent classes involved. \n",
        "**There are five types of inheritance in Python:**\n",
        "\n",
        "* Single Inheritance\n",
        "* Multiple Inheritance\n",
        "* Multilevel Inheritance\n",
        "* Hierarchical Inheritance\n",
        "* Hybrid Inheritance\n"
      ],
      "metadata": {
        "id": "Zd01etFfU_3I"
      }
    },
    {
      "cell_type": "markdown",
      "source": [
        "# **Single Inheritance:** \n",
        "Single inheritance enables a derived class to inherit properties from a single parent class, thus enabling code reusability and the addition of new features to existing code.\n",
        "\n",
        "![image.png](data:image/png;base64,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)"
      ],
      "metadata": {
        "id": "mzrjepEsWdyP"
      }
    },
    {
      "cell_type": "code",
      "source": [
        "# Python program to demonstrate\n",
        "# single inheritance\n",
        " \n",
        " \n",
        "# Base class\n",
        "class Parent:\n",
        "     def func1(self):\n",
        "          print(\"This function is in parent class.\")\n",
        " \n",
        "# Derived class\n",
        "class Child(Parent):\n",
        "     def func2(self):\n",
        "          print(\"This function is in child class.\")\n",
        " \n",
        "# Driver's code\n",
        "object = Child()\n",
        "object.func1()\n",
        "object.func2()"
      ],
      "metadata": {
        "colab": {
          "base_uri": "https://localhost:8080/"
        },
        "id": "-aGS4htcWdIb",
        "outputId": "968aa82b-ae0a-481d-afc8-5d67ce1864ef"
      },
      "execution_count": null,
      "outputs": [
        {
          "output_type": "stream",
          "name": "stdout",
          "text": [
            "This function is in parent class.\n",
            "This function is in child class.\n"
          ]
        }
      ]
    },
    {
      "cell_type": "code",
      "source": [
        "#single inheritance\n",
        "class Bank:\n",
        "  cash=10000\n",
        "  @classmethod\n",
        "  def available_cash(cls):\n",
        "    print(cls.cash)\n",
        "\n",
        "class AndhraBank(Bank):\n",
        "  pass\n",
        "\n",
        "class StateBank(Bank):\n",
        "  cash=8000\n",
        "  @classmethod\n",
        "  def available_cash(cls):\n",
        "    print(cls.cash + Bank.cash)\n",
        "\n",
        "#create an object\n",
        "a=AndhraBank()\n",
        "a.available_cash()\n",
        "\n",
        "s=StateBank()\n",
        "s.available_cash()"
      ],
      "metadata": {
        "colab": {
          "base_uri": "https://localhost:8080/"
        },
        "id": "ER7esjA3aJ3P",
        "outputId": "626db716-4deb-495d-8b57-0a42e755b35a"
      },
      "execution_count": null,
      "outputs": [
        {
          "output_type": "stream",
          "name": "stdout",
          "text": [
            "10000\n",
            "18000\n"
          ]
        }
      ]
    },
    {
      "cell_type": "markdown",
      "source": [
        "**# Multiple Inheritance:** \n",
        "\n",
        "When a class can be derived from more than one base class this type of inheritance is called multiple inheritance. In multiple inheritance, all the features of the base classes are inherited into the derived class. \n",
        "\n",
        "![image.png](data:image/png;base64,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)\n",
        " "
      ],
      "metadata": {
        "id": "UWWeWLZ6XdSI"
      }
    },
    {
      "cell_type": "code",
      "source": [
        "# multiple inheritance\n",
        " \n",
        " \n",
        "# Base class1\n",
        "class Mother:\n",
        "    mothername = \"\"\n",
        "    def mother(self):\n",
        "        print(self.mothername)\n",
        " \n",
        "# Base class2\n",
        "class Father:\n",
        "    fathername = \"\"\n",
        "    def father(self):\n",
        "        print(self.fathername)\n",
        " \n",
        "# Derived class\n",
        "class Son(Mother, Father):\n",
        "    def parents(self):\n",
        "        print(\"Father :\", self.fathername)\n",
        "        print(\"Mother :\", self.mothername)\n",
        " \n",
        "# Driver's code\n",
        "s1 = Son()\n",
        "s1.fathername = \"RAM\"\n",
        "s1.mothername = \"SITA\"\n",
        "s1.parents()"
      ],
      "metadata": {
        "id": "VdI6aIwH7jyv"
      },
      "execution_count": null,
      "outputs": []
    },
    {
      "cell_type": "markdown",
      "source": [
        "#problems in multiple Inheritance\n",
        "\n"
      ],
      "metadata": {
        "id": "JldkphwsbwKs"
      }
    },
    {
      "cell_type": "code",
      "source": [
        "#program to prove that only one class constructor is available to sub class in multiple inheritance\n",
        "class A:\n",
        "  def __init__(self):\n",
        "    self.a='A'\n",
        "    print(self.a)\n",
        "class B:\n",
        "  def __init__(self):\n",
        "    self.b='B'\n",
        "    print(self.b)\n",
        "\n",
        "class C(A,B):\n",
        "  def __init__(self):\n",
        "    self.c='C'\n",
        "    print(self.c)\n",
        "    super().__init__()\n",
        "\n",
        "#create an object for class c\n",
        "ob=C()"
      ],
      "metadata": {
        "colab": {
          "base_uri": "https://localhost:8080/"
        },
        "id": "OlfvkSRAc9JC",
        "outputId": "59689580-1a96-4459-cf00-c1467fcc041c"
      },
      "execution_count": null,
      "outputs": [
        {
          "output_type": "stream",
          "name": "stdout",
          "text": [
            "C\n",
            "A\n"
          ]
        }
      ]
    },
    {
      "cell_type": "code",
      "source": [
        "#program to prove that only one class constructor is available to sub class in multiple inheritance\n",
        "class A:\n",
        "  def __init__(self):\n",
        "    self.a='A'\n",
        "    print(self.a)\n",
        "class B:\n",
        "  def __init__(self):\n",
        "    self.b='B'\n",
        "    print(self.b)\n",
        "\n",
        "class C(B,A):\n",
        "  def __init__(self):\n",
        "    self.c='C'\n",
        "    print(self.c)\n",
        "    super().__init__()\n",
        "\n",
        "#create an object for class c\n",
        "ob=C()"
      ],
      "metadata": {
        "colab": {
          "base_uri": "https://localhost:8080/"
        },
        "id": "aq9wOARkfE5O",
        "outputId": "1e7ea0ff-c31c-4bc8-8d72-445ef39e9ab3"
      },
      "execution_count": null,
      "outputs": [
        {
          "output_type": "stream",
          "name": "stdout",
          "text": [
            "C\n",
            "B\n"
          ]
        }
      ]
    },
    {
      "cell_type": "markdown",
      "source": [
        "#What is the problem in multiple inheritance?\n",
        "\n",
        "The problem we should understand is that the class c is unable to access constructors of both the super classes.\n",
        "\n",
        "**solution:**\n",
        "if C wants to access instance variables of both of it's super classes then it is required to use **super().\\__init__()** in every class.\n"
      ],
      "metadata": {
        "id": "Hl8zkrS9fNre"
      }
    },
    {
      "cell_type": "code",
      "source": [
        "class A:\n",
        "  def __init__(self):\n",
        "    self.a='A'\n",
        "    print(self.a)\n",
        "    super().__init__()\n",
        "class B:\n",
        "  def __init__(self):\n",
        "    self.b='B'\n",
        "    print(self.b)\n",
        "    super().__init__()\n",
        "\n",
        "class C(A,B):\n",
        "  def __init__(self):\n",
        "    self.c='C'\n",
        "    print(self.c)\n",
        "    super().__init__()\n",
        "\n",
        "#create an object for class c\n",
        "ob=C()"
      ],
      "metadata": {
        "colab": {
          "base_uri": "https://localhost:8080/"
        },
        "id": "pyczaj7LgJgI",
        "outputId": "9f9e2b61-b26c-4146-b204-d03118238121"
      },
      "execution_count": null,
      "outputs": [
        {
          "output_type": "stream",
          "name": "stdout",
          "text": [
            "C\n",
            "A\n",
            "B\n"
          ]
        }
      ]
    },
    {
      "cell_type": "markdown",
      "source": [
        "#Method Resolution Order(MRO)\n",
        "In the multiple inheritance, any specified attribute or method is searched first in current class. If not found, the search continue into parent classes in depth-first, left to right fashion(C(A,B)) without searching the same class twice.\n",
        "searching in this way is called Method Resolution Order(MRO).\n"
      ],
      "metadata": {
        "id": "AibPsU3YiKuE"
      }
    },
    {
      "cell_type": "markdown",
      "source": [
        "**there are three principles followed by MRO**\n",
        "* first is to search for the sub class before going for its base classes. If class B is inherited from A, it will search B first and then goes to A.\n",
        "* second is that when a class is inherited from several classes, it searches in the order from left to right in the base classes.\n",
        "example:\\\n",
        "if class C is inherited from A and B as class C(A,B), then it will search in A and then in B.\n",
        "\n",
        "* third principle is that it will not visit any class more than once.\n",
        "\n",
        "and to know the MRO we can use mro() method as **classname.mro()**\n"
      ],
      "metadata": {
        "id": "vmkYWAoXk-Dj"
      }
    },
    {
      "cell_type": "code",
      "source": [
        "C.mro()"
      ],
      "metadata": {
        "colab": {
          "base_uri": "https://localhost:8080/"
        },
        "id": "ORt-YBqjm0J3",
        "outputId": "5bcec23e-cf59-481f-f1d2-2e7749ed2f71"
      },
      "execution_count": null,
      "outputs": [
        {
          "output_type": "execute_result",
          "data": {
            "text/plain": [
              "[__main__.C, __main__.A, __main__.B, object]"
            ]
          },
          "metadata": {},
          "execution_count": 55
        }
      ]
    },
    {
      "cell_type": "markdown",
      "source": [
        "# **Multilevel Inheritance**\n",
        "\n",
        "In multilevel inheritance, features of the base class and the derived class are further inherited into the new derived class. This is similar to a relationship representing a child and grandfather. \n",
        "\n",
        "![image.png](data:image/png;base64,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)"
      ],
      "metadata": {
        "id": "_ApgfKOFY1mu"
      }
    },
    {
      "cell_type": "code",
      "source": [
        "# multilevel inheritance\n",
        " \n",
        "# Base class\n",
        "class Grandfather:\n",
        " \n",
        "    def __init__(self, grandfathername):\n",
        "        self.grandfathername = grandfathername\n",
        " \n",
        "# Intermediate class\n",
        "class Father(Grandfather):\n",
        "    def __init__(self, fathername, grandfathername):\n",
        "        self.fathername = fathername\n",
        " \n",
        "        # invoking constructor of Grandfather class\n",
        "        Grandfather.__init__(self, grandfathername)\n",
        " \n",
        "# Derived class\n",
        "class Son(Father):\n",
        "    def __init__(self,sonname, fathername, grandfathername):\n",
        "        self.sonname = sonname\n",
        " \n",
        "        # invoking constructor of Father class\n",
        "        Father.__init__(self, fathername, grandfathername)\n",
        " \n",
        "    def print_name(self):\n",
        "        print('Grandfather name :', self.grandfathername)\n",
        "        print(\"Father name :\", self.fathername)\n",
        "        print(\"Son name :\", self.sonname)\n",
        " \n",
        "#  Driver code\n",
        "s1 = Son('Prince', 'Rampal', 'Lal mani')\n",
        "print(s1.grandfathername)\n",
        "s1.print_name()"
      ],
      "metadata": {
        "id": "7x3GloMr7j0Y",
        "colab": {
          "base_uri": "https://localhost:8080/"
        },
        "outputId": "c2932473-ea69-4c41-9d29-5af751b85200"
      },
      "execution_count": null,
      "outputs": [
        {
          "output_type": "stream",
          "name": "stdout",
          "text": [
            "Lal mani\n",
            "Grandfather name : Lal mani\n",
            "Father name : Rampal\n",
            "Son name : Prince\n"
          ]
        }
      ]
    },
    {
      "cell_type": "markdown",
      "source": [
        "# **Hierarchical Inheritance:** \n",
        "When more than one derived classes are created from a single base this type of inheritance is called hierarchical inheritance. In this program, we have a parent (base) class and two child (derived) classes.\n",
        "\n",
        "![image.png](data:image/png;base64,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)\n",
        " "
      ],
      "metadata": {
        "id": "jwqA7AKuZyV1"
      }
    },
    {
      "cell_type": "code",
      "source": [
        "# Hierarchical inheritance\n",
        " \n",
        " \n",
        "# Base class\n",
        "class Parent:\n",
        "      def func1(self):\n",
        "          print(\"This function is in parent class.\")\n",
        " \n",
        "# Derived class1\n",
        "class Child1(Parent):\n",
        "      def func2(self):\n",
        "          print(\"This function is in child 1.\")\n",
        " \n",
        "# Derivied class2\n",
        "class Child2(Parent):\n",
        "      def func3(self):\n",
        "          print(\"This function is in child 2.\")\n",
        "  \n",
        "# Driver's code\n",
        "object1 = Child1()\n",
        "object2 = Child2()\n",
        "object1.func1()\n",
        "object1.func2()\n",
        "object2.func1()\n",
        "object2.func3()"
      ],
      "metadata": {
        "id": "SpBURy2x7j1f"
      },
      "execution_count": null,
      "outputs": []
    },
    {
      "cell_type": "markdown",
      "source": [
        "# **Hybrid Inheritance:** \n",
        "Inheritance consisting of multiple types of inheritance is called hybrid inheritance."
      ],
      "metadata": {
        "id": "CHXfPYwVaR3S"
      }
    },
    {
      "cell_type": "code",
      "source": [
        "# hybrid inheritance\n",
        " \n",
        " \n",
        "class School:\n",
        "     def func1(self):\n",
        "         print(\"This function is in school.\")\n",
        "  \n",
        "class Student1(School):\n",
        "     def func2(self):\n",
        "         print(\"This function is in student 1. \")\n",
        "  \n",
        "class Student2(School):\n",
        "     def func3(self):\n",
        "         print(\"This function is in student 2.\")\n",
        "  \n",
        "class Student3(Student1, School):\n",
        "     def func4(self):\n",
        "         print(\"This function is in student 3.\")\n",
        "  \n",
        "# Driver's code\n",
        "object = Student3()\n",
        "object.func1()\n",
        "object.func2()"
      ],
      "metadata": {
        "id": "1A1Yj2027j2r"
      },
      "execution_count": null,
      "outputs": []
    },
    {
      "cell_type": "markdown",
      "source": [
        "\n",
        "\n",
        "---\n",
        "\n",
        "# **Encapsulation in Python**\n",
        "\n",
        "It describes the idea of **wrapping** **data** and the **methods** that work on data **within one unit**. This puts **restrictions** on **accessing variables** and methods directly. Those types of variables are known as **private**.\n",
        "\n",
        "A class is an example of encapsulation as it encapsulates all the data that is member **functions**, **variables**, etc.\n",
        "![image.png](data:image/png;base64,iVBORw0KGgoAAAANSUhEUgAAAfkAAADzCAYAAACFWm82AAAgAElEQVR4nOy96ZIkOY4m+IHmHlnVt0jvSE/LdM9O7/u/0MrubFXlEZffp11KYn8AIEEqVU3N3TzC82Cmh5mp8gRJfAAIkvT8/MzMjPPzc5yfn+P9BNa/+kkdSP8OZOO+9mOPc34XoVNZAurqjsmUX9hjmsrM4nAdv8rbFUwAQAQiAmiC7vaY298lM27jWDwGKOl7Gr0qaTQvnw9xSceJgcT18HD1YauPDgjWtpFlGBzFuKSR7KhUiko89m1wFTf6jqjrGmSkYTCIadRTpMQfv9FU+ph7r3t5AWBmDHFAjBGrsMJqtcp18PFcU+QpkTZ7XJilZd/XuV6kdK5zponPUd48Gp3dd/adpsbnNwrHlj/ZPhvvR7CoXtmnokcC9zjF4nq8RRoLLQ2nxoL//b3HyVuE/X6P/X4PIsJqtcLZ965QLzDz9GxvwqJoLMPSMyfPiOEYnyZYkilm+I5k3WWGTTqaZ84VS2T/HBM//GOPtP3KWhUZApT1y9ED90w/3SRRFj8Spvq1yMgm7ee6Lr6fshxDcADf1I0AJgXDoPXqCArsyjXBwCY6WSEK4OQbQr02+TZIv1o55KjPTcdRGYwSk5RmrADaCArI0T2Yac4s45Zr4tbltsKaCmoUCIGCfq/ksEw+KwdMLkIprBXDc5u5QzyVpvyb8t0EBF+Hw8yYmd8t015al7YNzUuMBt8Lyp4TkpZnWsZOL/TKeCnQL6mvz7ul4RRN39P4+Fbh3YH8MUB7sLu8FEzlYaWNzSaee3u4fj3LwUjaPFCSL8eYroAheflkQU0mgge4Vp6YUO1N882I1NS3hYKitAoYWd6kfcMuT9NaJzVw4iy0cdONpskTtfqixWOw1YoBJE0cNA/ToqlkXEB7TItsEYBpOMgWASYu2GgN0Q4LZCKA11+5EraqMkfAWDRmo3ca9QMynfKnWgpCCKAQgAAEBAQhWqZtARWpZwX0vox2LNN4XjC7Njbjy4uHPSFzFvws198A027BqXl5LL6/XbCh0aH5kr5qw1z8Q0C/ZFy06X8LY+Ul4V2BfGvmm4c/skTtk26yWhEas+2lJijOsEXu90z1fMVGxTKYqGprh1VXiUTDIgSMeO4LA7dFuGI76qG1u1N2gRyIVu0zJFKAtd8ibhXNvYC9rwQ5OhpEizm9Vjt9LWvAq+tfvQslDoGc8t+OQ/+t9Ds72tlvywdwoEc+NSPBhBBrVRO8wONpkVNxlbe0qyQucUw6oFxbgpnNOY+lpPViZiRmFUCCfKqgLO3Stvs5R2U81HXORUvuKke0PUOuzi9QWF8UlmiJJ9F8XZgDmEkzc8VEDoel5uoXB9UyUjwy2YnBdYmGvkSTZ+YXCSe/tvBuQL43qQ7p0sLjfKeNtYHJzJzquhTgLZ2snaKkN9ULRYsThp9VRBjQUVWm/ds8yyqqleVVW8Umqtt+bMiA2cuDJn908in5OR0zp63gtxUayNrlaVFyc6INDEazab3SsXv5TOXm8ynPyq9S5zoHZwHKkN6MIRK4JBbpIbk4PiaZ+aAqwZfNKsiFqv4BBZQZKY+B2npCMFEiZSGgiC5mvCAwguZZ2spFCOIkFpEZkM/MkYpg47usJzcm992mvDOcvHk4BN7G+N+i3CkNeOp3HnMLqmPpcnrmKlkI4fVgxkDiw2vyJ1mmmMhvad5L8/09AP27Afl+oM43DQbw3Iu9JNs29iHbgQcMHeZkjFEZrgG8PidKpnNnUK2nsL1B/Y18WQA5IULeH67todBqqMcOcafLVU9rBsAOXjwQl9htbj3Bi1CoVZdY518LGm0Zdc2piVV/r7X2Xrz8jUQoq3wEKFV9W4QpLxIZ3PmyynsRA5Iry4BfhIekv9tWmzhRWRpcLPlFVnUFcPlOkKWEACqWGHL1y2BsGqajBxetvZK/XLRs9rd/uVCi7o/58FIQnnVuy1/rudaNtCh0tMj2MTcjqv2tH1Nzs25OWVaZauYJML4zw9oyqPt79Lw3nnr6hkvfy+u16+6/ZXC38I5BvuNl3OHXk5r7dLao1Yx66M6bwGvwhTLbpCBctCIuHs/OkDparxzBkmfFnh2Kc5YPyXPRIwOP/jUIPpxfq6tD01HzvnD5qd8e4uQbZRhrS6gpQtVzE59Mb+4LFD4twWC0pXvdOmpaNm6P1oB8K8p3g3pb906ujLqn6/yLbcLnC6fJl1IIvt5ek2/HaqGUtSpxROIESozAwDmd4cPqHBSK6JTTZqIbiCsiqSYkSwNKrYCRI6BoTJbMA1pS8O1P5K6Fr+NN/5JQtN76eTULcpTjylnm91PKqGaVgbVUcjrZjBWgfo5M41cZKagea9WrCbCdAnlz+Gzzr3gQjUE+hFD97jlevpcdFu8lvGOQPxxo8seBVFNx3fMWjkeAkDU4ZLOoj2Hm+sLrajj1YFDnXD/zgFN+1UDz0tCmntOmxuJNnYNbCYYBVjYhFi6WU2eMcPBKLCbqGgCFsAak3nqTHc8UaBIX97c8wSuP8LbrS52tPgkANB/pPxIg69DGg1Wuh+YlZs2kjpKU6cFISFzGCFrQM8BzAJryGm1pUh4rjsatxlzilL4TC4H2VopIKeE8rHAeVvjHP/8D/vkf/hE/nP+QBQ2wCNIrilhhlZ95kLdHeRmCAM7+DqWvwHXdc9vVEtYLs+bs1kTdhINM3tFeEqC7hdEiHwOQ/Z010xWZ0sonU0wCev3cL7G8dhkij69Os+Y863vaPSvPzM9aWlGJ6/84cd4Z0ubvQb8nAPxew68a5HM4ZkJl7lXgM4MS6mlVwKaFNnGesrX3zE6pTZdQr70auJNLV3RLr595EG310raeqH77N1Q9o1FOtegxFRyMOGD2QO/1RtVXM0NPWYszpsqsZmguzIeRnO9BActchDMbk4EoJ6SUkBIjpoSUIlKKIAogqte8x3ZSx/wUjBNKvlJH0U6tDQWICz0KHicRMpKAckoqdChIJwfYuc2c8veU9FmSsmNMSFHbxwktuGWm3eRra6aeqVvdoWQMpFanBFBi/N2f/oy//9Of8W//x39D/Ld/xz/+/T+oICC0DgysaCUgr3kRczNmqNCrml+dkVQNUdb45eGSLVpLtPmjvb2dIFiNlpz960ByKvQAvefcOPW+DbPe+q8IxQdj/O6QxaV+4QS9qoDpcolku2cKSawAXIDf1820fQ/wv3egfxcg3x0Mh9BH+Va1DrgkNBp3W2QLWQZrln1yK6IJCgBNPkn/i4MwawMNy4kBx4wNJArYsAkD2YxpDLTULzV0k/RApXWyAaYRrGi3Ra/zrcfkM9ZSc+5c06d8L6CeUAMZktY9g5PUxeJJVlTl6U+8EZFItWIFvwzysYB8yCAvvVFEpdImVqlMwNyAuAfyUJBNlaACRwcfxwA+g71aGKIDfDZAbwBf0mm7YnRtcoKR0d6l9cKF1cH6OHEBedPgA8Q8TwkICfinv/9H/NM//CMQCP/0L/+MD3/+ASsErJiAxCBmnGEFxsoGa2X2L8PFhCJU82w2EBzQ+xE4Macz0cuywWQ5zMYgFlWD3ec4q+PB8tg0PavFIYFnTgCYOwTmRUF5rc/GuiPvnOgILEVKIpjJvx9vCuVZz8BgEAcwMSi5g5mcph8oICEd3J73ewpvCvLHmEtGkquCnfahvnBaic1fJ11mT0kz1zZFF+jOEFJBXULWQ3OMlGNJ2oiIhAjRhQJYAR0AAlZgAAMidrzD82aNp8dnOVksDardaTmq+cUooBBZAMrAhpOKCgaOXCZH4oQI0/wKcKSkQIIEJAZzMRGLhogMGOwnngOtfOpb1q6Kdp20IpbUzON5vc8DfgaiAvJecwekfgZGAvKUtZqKdTOpJq/1MUFAAa0tS7zG1eExr5c3K9xqNSiCidEYGfjZhA6WkZFM7vKjx238twNxYHnpq6SCTBaMipRU6pTBWOmRQbs8K3MFjm414Gdrkv6OKlgEIpyFFVYAEBMQEygyQgLWuy02ww7/+t/+FTEwVh/OsMIKgYG0H5D2SejYTuUyLcpwcXVcbKy27m0zzxhdSwAm6JEy/ikoJffv0pBZzdROgoXhJQB/aF27jXtKT/PFoekP0s5n+MOjpkSl8q4SvHOfzgQb54hahPJ3t1YfSM9+oLJWNLVmv4R+p7IQfe/w5pr8UqAfT6aiCpRpbBMPJS7VeYgTECuTbyZHDUNuz7Q6IsGAPun7VJk/E0cMvMee9wCLd5FoaQPAhCAsFFvssElb3N7c4fbmFrv9Dvu4RzSQ56SgnjDEhGFIiGnAkAaklCSeaXSq4RXtt2iIUU27KbGYdmPKebM0RoEiZo03RVaHq1jM49bGIlbBOHf5LTCfzdYJSIhFw/XUzVYFOJAvgopp7V7yr9KMxK8iiHiho2RSAJxQ1vaz8EI1yLMTFrLw0OSTnylzSWaJMWaj6Ui1V1GNdSzZpnCiDPReVKyCY3ALZkn5l0t+WcCBOTSVeg5qRTgLK3w4O8MKBN4PwD6CIoMiYx8j9iniYfuMSAw6XyHQCiECHKM4lqrGXVg05Sq1AH8sC8xHEvuWGt/QxtZbJz34nZ7hTjlyfcswxzdfaoZ+G3ByY9cJmPP9UoSAJdvj/LKT8Qk2Kw0BpOb57LNLfeHIfpvz3lyZv6XwLsz13aD4HdVsKdJa7YQBIHe4MbqYJG4iqJcwZRNRqjbrVMbnLFkygIiEARExRQwpYjfssNmusd6usdmtsd6tsdvusd3usdlusdmtEYcIToTEjAED9mmPp6dnPD0+C6Czig4scSIUkJOt32oc0+TZvPaTauRKF2eeFHOsafQQM7AtH5gWCq6AFkmXEzi5vf6cKWGOR3mdlNQoy4Vi2bKQHd2clpmBHhmwS32a322+CpAMLqpdZcc1NDAhxOdb4hAr0KJo8iMAb0HeCTM+TtkWyUXTpyIqylagWnMhCgXgqexjz+T2g9w9OsRuBO94RBYxiBjTTCKwErIgGJFwpnU5gwgktEJeb99xxHbYYRcH7MGIBJAuD2AVsDo/k73/TKXNhvvkdTDb1HcE9Fo3mDA0oTkb6PnPLo1eCchTeX8PoD91+JZtOFhWR3tfUr/KoU41eUkMsWRCBHKL26YNFMArFs3feepPldWrW1vP9y4ovFuQt0kfY8JuOyAEwuosYLUKWJ2t4CwyuWNFC04CTAEIHPJgEiN7hPwqe9dthV1ZOgiEPRL2iNjxHvu4x9PmCXcPN7h7vMPD0wMeHh/x8KB/j494eHrAZruVNfiUMmDvdntsd3txOF7ZwSaUy0xwGi4VoE0m4RAge+Rrq4QMVjIlPGt2BQPr7WictVVjwimbjzMYNjRgBUjJxZwSzXys2WWQ1wlLBZwLyGMMxh7ARbKAuDLq3ivqx7EGkjl3+XybOEiFFpZP1kKzjEBVHGJ3eBHB0ZBRzMJ+D7oXDqztlLWa5DT5vOWxww8WswgG6jP7KReda6fjIjKQSITJmBLOCQAiIgICMUIghCD9uecBm/0e2zhgAGMwgjKwCoTV+TlCZCBqf0DNnfm/Up/ROv2hoCAv2XJh2tbkhrnOAf0pQKynQZ9CcPgth5fQ58hRImlaj3kDeROkWcdop27epC+7RER4P2bJY06wfO3yzluGdwvygPTfahVw/uEsm2CYqICj6WZsp3sRaCXr4hwgpkdIPNHOk+5ZZkRO2PMe2/0WT+s11psNdrsd9rs9nndrPG3X2O132A07rHdrPG6e8LR5wvPmGc+bNdbrDdabDTYb0eT3Q9R1VGTQ2seIPUc9ZkzAwKAhwbTDAqD+eBRm04kAOy7E4KSY2aHvkQ8zMXMWoUwkM6d7ABfXQYujdYFp8gXICGZ+hntm7fFOhwQ7oc/1oK7l1rpd2Q6HnC+UyZO9z2mUoWcQRRWHq3yUEDoWRvnANGAFYyr1kTxSFYcQQE6QMQHAeiXTwn5bPvkQG7MMIY9PRy1HpWWhpi1kvGt9U+Z7QssdGHuGirYJHyCrmR/AWAFYgRGQxAkv7oE9YbPfYR8HDCkCiXTZQ7YrifWGM63rqhSLxHhtndBWG2gEMMvB1hmmgrcatAIB82I6Hgw+74l8D8FalWbG9M4zZfwawvewcFQa9kw92mcp6aFlkWRWcMonAbZa/ZR/xKH2vidwt/CuQR4AwlnA+SoUszRUWOOsW2ZTPdFKnC5IddVsVgUGJAxgdY0D9hyxSTvcb59wdXuF65sbPDw+4v7hAfcP97i7v8dmt8F2v8Vu2GGb9vI37LAddohDRByirHnaYc66Hgr1+hyQEANn0PBrw2y/FaiMUSdrmgFf1gTN1Q9dRhioA+C2TSyDIYkzlf9NyPUp2qvmo6bvKk5QQYANQD3oWY8Y02bV1LgounAg74QUA/naHO0O/DULhUhAGdC9+FBtxQqWjxMoLI7m4y0fgLapKls97NX72wNYWc4AiLkqm3RNUixMQCT5E5pKXUKL16MerYOntAFicXoqx8Ua6G/A2IIRKSFRwp8IYNXkzwGcKcgTJyAKQ9wMO+ziHvsUQYkQOOAsH4dq4qfUoAV7225Xg7yp6H2YbG8S7AH9LNN8S4CZyVuE4QNlV8sYyIKDf7Ykn9e28NewzHAMcFZ74iV1tWZ/KF9xSpa5FJJuydM1fb9W35brn72WpkuXJU4V3iXIm3SbtVrjKOTeO81Snsn7FLwDnfzFFLHeb7Heb7Db7LDb7vC8XeNh84j75wfc3t3i/uEBz+tnPK/XYoJ/fMRuv8U+DtilAXsM2HPEPg3Yp5i9n4t6TaoJUga3GKw+fqMd5TaZLsiqdaqvHKCfSYE/m4CA7E7oNXXAHXCibfdMuKc9cue3xckgz6b91/0iwoGpjlz4P/kesY5za9e5nLZGzvpgk9fvi88xtKepWBpMMJHiPOiTEwK4AJLijl3QkoUFdhYDLc/T15yJqqlHhR7eGmEtNPAdQGLp1t/Zjw0Hghf2HNUKVYqgkkFe27QDY583fKa8/h7B+MCMcwYCJ6xYHSwSYzfssRtkiSrwCisy/42Q6+rYLYqd3VXZ/aTSZePg+sPHyX3yjoOTbWbjjELH+nCKsn6N4ZBvxVw4tJwydxAOszg1g1UBSMjr86uwgj9op7cP3+f/kvA9hK73B/JKy3wwCRwkUIGKZFpxRgczHscC7ogYOGKX9rh9vsPtwx2urq9xdXWFm7tb3Dzc4en5CdvdBrthnx3itpstNtstBo5Iaubfs5jeB0QMlIAVCQwENWc6c7zqbKLFgRBZtjJ5gSWDoQJRyvUvTFsYdTmz3Ph9ALCCXVRDFQMuAFsATH8W4AcVD2wPsJwjlPq1Y5JEoAgOXKni5k7fNPM9N4btap0VWVCw9X94jbwyzfmJy74k98S2x5Rn2uIsGEq25FKoJq5CifkrWLp6YtYmY+94572KTWCLEJAfTMAomD0OI9Bj972Nk0UZ2NY5E0NM0Ets0J8wAHhmYMcJHxg4Z8ZZSjhPCWLAZ2zjHtu4xz4OOCMgIeh2zSibB8iPE4xAfrTNea6tVZwiJL2GCX4rU+kxW4N7aV/zHvh27Xzr8HqA5y7AAxhp5a1vR+SyeG8gz4GFnyfKz3qH64zr4RSxCcFi7vdb9+e7AvmKlzkF0TTmvLzqNJvkACFyElAfBmyHHTa7Ddb7NZ42z7i6vcbV7Q0uri5xcXWJu/s7PDw+Yr3dICbZUoZA4ECIMWIYoggSAYiUsGcB+4iESKIrs4IlqXptXv75uJzsBMUYkmnzQUHFBBgzsdfXoEYAW4gTFAEIbj92gHRccIx+ipa9eURKS3+gDtmLnG60AizxWAalWQ5AaqYtJSrDLnveTS8ulgU34Vz/iYWgd1IduWft71JvqbOdk3A4HwHwVIG6jDvbFkhOu3fCgla50mqzeCchgYqpXoW9+VDqUGU0EdUR000MH4fLH8p20MiElGQ8nnPCoJo88Uq86+NetnKuVmJdYhMWCKvcp3OhAf05oG+0+KrRL+F7p1CSfhv4+fsIec7OA7A965n1/RkTnDhr8avVqjLhv3Tb4ls4hx4b3hXIA8hMy4AkKouVA1/EcSKsZO3bTJEGqnveY5f2eHh+wPXdLa7vbnB5c4Wr22vc3N/i5u4O690G650Ce2Dwh4A4DNgNCfthwD4OGZAYQErqpUzAQAr0bFo6/EXesnecgUHjn4eAD1ghgjGQpYnKezmvwSev2QMASJ8bAAlgGMgTFyfS2SXLied5rb6K1YJEDcYWh8wSoM545fAcr80DxTSpIoytzbp4tbuROQL6a1wqvbmkcMsABtb2PgO489kA0WQ+YmlQ850JJVzn7elEI2TqCB0oDpbMlJ3iZoOXYfwzj5IG7q22n9P5d7lBGkekUdk7L+A9qLmeEhCYZSkqRtkhYj4NGjewY3LNsPDj1qvzYhzpN34kz2QZx+j+knAaBvrt2fDbhF/DevyxYdymYrWb8nBfsv0t6eFjdpJeSrJWv1qtqs823dTvQ3Wfsga9hVb/zkDeMc5skpRnooWkwuQJGFjM8fs4YJ8GrPdrrPcbXN1e4fPFV3y6+IxPXz7jy8VX3D894v7xATgLoLOAsw/n+OGHD8C5mFJ3URzx1rsdaBUQVgGs2lgKYjGIpHvoWc68iwaEdlxrFK19H4CBgD/TCkl3A0QwIjGiHlBja+0RpuX5wee5OBcAENTok6wXFo+XTsSshbdxDKyR+6FboexApX+VttlW2to5QrhxGq/FTsVpkZIBuzilzgcKhsllx67ezmy0tKz8jOrHBo5dswu7+gCj4dB7BqqBnFwZlueoHLFQRJZxShC70hlHnEWZA0OKcgQvKUCzpzSVsnrDkFuhrAyTUSCfrl4aok7+3zT8BrT53yLAt8Gm1VSHLdWivTZv6/C2ds/MWK1WOW4IndvzltR1RtB46/AuQN4IDCBr0Gb2lo4krCggrBQwKWFIAzb7Lda7De4e73H3eI/b+1vcPNzi9uEOt/rs7vEeT/sN9oigD2fgFYFXhBgYmzSACYghIZ3LhiIggIkwhHIcaaQC8glAXOmBH0y2TVP0T0ogNkO+rKfLnvlyYprEK5qoMbmGIuXTr1sUdbNW4Xn0RX92QHWE29OMe/TbAzs5sB8Fbspu0I3bSjigGmXYQbsMwnNx3HMDd+40sjJro/4kX9c59G1/dwhndJua3ybATcXpAbyvb64zjX+77WCWHAGitQTCEBPWibFjWY7KR9iqrwkxgWKtwU/JK6NqT0TyIiNTsZf8JhD2j/DqMAek7HggTwzEKSDtaeAG5j6tafIppSq+CQIe7A85Ai4B+Ldcl/+mIL/koAAjgZngRTcIWOnpdQMiBoiD0NPuGfdPD/h08QWfvn7G569f8PniMx6en7CNsu0te8MTQD+sgCCHlAzESDwI0OpaPCMAFPR8eWBQ60GEAjxRdvgLJH/ZC5PFeSumlLcS7QFsoJed2GAJoQaPDN6omTBQM3L/lwF2gtmPCV+XZaECgOnko86xdHOu0Evq0wZfn4OVmCuD63dF5O/XpQfw3fwPou9EHO2vORrPZT1FEi8YzIXKqiK/xYtYzPARjE2K2HKU5THdMih7J+UmgGxs4eUAPxd8HsoqtXbHaznv8QCSP8LLwyKAlx/deb0ESD1Ae+3dpzWA92v53mxvQN87DKdXl+9lXXkXmnwv2H7tRCwHeiRZC3/ebfC4fsDt4z0ubi5xcX2Fi2txprt/esD98wM2w07M+Byx5wF7PdBEjvoUHXpgFnM/xJQ+MGOXBuxiFH6WvTQF8PckoM8KCqbMZiWR3Zny0DPqicpJXtbBaQakpgZBBTrsBAOn9o009FEmHcsyT06URcHXl0aZj8sfvWrbfwAIX1KvuSr14p9sHh6RUc84MGcwaBN74asVFH0BOU/btkmIeRXDHZH80qa8sPv+gOY/gg+Ldy9MWYkOpO0dV+sPxOnl4QHfPO9bD3yfXy+Pb7UG34bvDvKT0o1JRpBtbTveYzvscf98j8vrK3y5/IKfPv2Cnz9/xO3dLW7ub8Upjhgx6Pq3bn0bkLLpP6qFYMcRuzhgyxE7FlPlXj+hDPA8BPwQ5PicLbMIC3JFnAC9aVL6lyU+lQC40nYbRnsMEHHL8RuAr7TzNp+OSZ2B+mSXJay5yWcE8Au03NaS0P6uFmpfE/gEeZwg8OjL4fi9biX3bjIRxv2Ylz+4jqvPU5AT/Uw4iMzZj9TpH+Dpwkc1mTLPt8GG3x8A/0fohSXauFl+RE8Za+nHlOP3xPs8Ku97lp07doDOKqzAK86e+G1+33qr3FT4RiDvZjRzxct0RzkSGXsRiShCmM7T7hnPuzXuHkV7v7q5wsXlBS6uL3F5c43ruxtshh1iUGe2UE59s3O4B07YJ7l0JpGc5LZnFk0fIhAkAAiEFZ3pzV0M6CEiDBLTfbKDQ1LdNq7XbSqmOwnmC0C+lzaPk6UoZvbVQ5r2gnx8u9q13170EcgfavOJkHnJUkF3wp1wEo78Dg7Fd58++qIqdUDYCxgqFxZbOyOfVmgCGjn/EDX6ELNefJSAFEAJ+fKf6tyBvMMCtfDYrY+1i2tZjLjiDVX7R2mbZ1mYORBnQT7fVTZ8D4LpryhI99WduNjU3+ZFZUy3mn7eGq18P3AQZe8MKjMX079Pt1Tw+M3sky+Hv8gve5aobIMTXiGevRGMPSLu1ve4vLvGpy+f8fHLJ3y5+IqLywvcPdyrd33C6odz/Pmf/0FM9GkAxwFIe7mnPcnJX9s0YDvspTzzlg+EqNr2GRHOVwSEgPV+wGbYIzJjm+RSm2QM0oC+7NsQmz6zrGHaM6DS8htiTFJpHuhp/HXp+Dj1etCiNrVaeyfit2Js7Vqehd4Es0dzdZuLM/IH6MWZydtr8JPlK3NbIhjaWcnJNPkC7HU55fAiyuOdwZHBepa9yAfFyuYtAxn0O5ajOY/5fIGS8gbmcmyu8Qx/X5FvfgXwM3EYdR2m4nwv08LvwRv+lMFOxvR3Hi65WKj3LP1+G5MAACAASURBVF+25E66s+dyRXdxzLODdIgIiMjLyhRolKf31u/V71sFB/IKRj2p+AWhELPseS7/2qlcekYdCcxHThhSwj4NeN7v8LRd4/PlV3y++oqPXz7h4+fPuLq+wt39HdbbNWi1Qjhf4RwE0Bn2LLfH7RH14BpGorKP3rzkk2owieA+gXyyHJWaR68B+T+Ll39TYTpeK7O0IwItfGYFeYb23mycs5rz6Msryzr4QEMHVUZA7+MYknhav1FYQoqD5bcA7dL58Wc/EqsFSkHe1u8tjqVLcigIEoMSg2SPJwjlvH9T2GXYuzX8RhM+2AQT+O1UxmzqRJFf7Htj3WBXZb+c4YG6jWOy+SjO9wb4uXd/OBPmMAWS1dM5ftORPyW97pLK/5VcKb+nsfDOqLT8FszfiyNoAXnPEHIYV/IYPy3mVCYw/LlhnEE+iVsdIiVs4w7Puw3u10+4uL3Gxd01Pl9c4PPlV9ze3+H+/gGbuEH6gXB2/oMeG8rYxy0en3aILPt8xSQPXZcXb+FwFvBhdabAL4APQA/RkT9EOZZmSKz9Sb4xxWnOwLulmx9gM5pLHbf3jAoD1GFmHxXxv/UYmgLYAxNrJoM3qAMqzfSgUFCpeA3Q98ISmrcOcMdqabMafPvd1xvjecxAPqUpMfIdzaY9V9YmzuM8Az0TVlzfmSBmdbtjoAb7Vj6qzulvhy4DlXk/r4OWwqyMniZfl4/RUJiMQ02cVoiYC3O7NF4RjgHzY45QXZJPG741OL1m33nuUp1nlZGu0sbQ+V66UwRXEzaBjFRs50kQWC8/gwoFIQQ5dZQBRJYbwQHBmxknvrn2LI1/TFCQ5/KXZ6mbEaMKNWOdDbbteVFx6/8k2JlmBvK7tMcu7vC4fcbN0z0u7q/x89fP+OXii3rPX2O73WK/34MJWH1YAXSOFAcMMWEXB+zioCfRJTGbrwI4lPPgSdfbS+nmKQ8MnLBt19urNWf/Z5xkDuRdmOqvNm49Ot3ItWfkXs7k+01C096ugGjvTgDsh/LrLR3QxLtRRA0ZmJX4k8zc572gvr2ylkTNxffq4YSXjJZTeem4zmOXUXccoxrLFo+hIC9HKgcAdncE2Xwnu2yJM0hWQM9z7LV+4GtEnby4E9dA/CVxPMWo86wXlmz9/S2E15zN/z1CNQW65vi5tK7znUA+cpqD9X/R0ktavayMSc/cKifmHQvw9vu73kLnl5vlCwpggtUS6C6cQDl+1r6bY5x9PmyecPN4g4u7a1zcXuHrzRW+3Fzh6801nrYbbNMegx5By8zYISJFxhAHOYKTGHS2UqkqqHUgISbVLgh6slwpM6pzXeSyLa5aP29NM8kzSnTAnRfM9KbjpgDI2xCpfcaHrQRzoeJuL8zDZ+Tzm2vPKcMhoG9Na1OhdR7sORO2+fRoP1VUO4aWhNzfTpLwQkXbZ60wMDIpNuPWQN0tQQnrUt1c529Aub7YYohvrB3BrPuKgfJHwgsmfTJ5XP18tDH52w/Gn61ctSROJkEnDibi/JrCa9bx35MPwKm02NfS4/j0svzFeiiaTC07g6K1GHw/oelVjnfCK8z7UA59CYEQ5IqyLGKl/B/nLWwG8syMh/UTPl1/xc9fP+Lj18/4fHWJ64d73D49gs8CsFqBVgBRQIoRu0GP39S/sDpDOFvBOHCKLHe9p1TtB5brPqWucna33lnXBXb3rOJkHcY9BQgAarbigGQOqDKYTwG9L/yI0K3eTH2OiXMqgB+B6gvKXrKmtMTs2u2j+Wz79VmQZhS314aOIEkNtPUEEA/wrZoMGV7BBHTN0g57souI/Hq8mTNZh2nK2THs3JwsGlCrabmqeQGl6bMlctShOC9J83sI3xPgDx1ctFSLnTuf/jX1WhL8wTnt+juro12AKJt+K913drzTKdlbmOo8YnvONrXdf0RVNgnugA0qd4NHZtw+3uHu8RYfLz7jp68f8fnyKy5vrnD9cIen7Qb7OIBola//I70Vq1JGKYA5YRhY72RXkz0BIbjrTowZ2cE4zPk5l8y0gR7gG5CviNDEPXWYBPqX5DX1bEG9DwJ4B2RfEpaY4l+S13InkuPKn1RZffplRU/WxywHU004RqAwc2Pud85zeBxXTZn6aRr9QWbIpQhjEVaEOetlYwgDZU1+DPR/hNOHpWD2Fib7U5V97Clyp25Le8JdBnIDfxXGA5djce2I3KVOeaesc+14Z+htE9WtUWjN6tRkAJoy+BI4O5GYpp6vXuWgZjnR6G8eb/G3zz/h588f8cvnT7i8ucbd0z0eN8/YM2NAwlkgrJwpJbnvtkaYOInZHuJNL/XwJhStQwZ2b03otM2b7s1M311AXADwXjt/SegC/cuy6ue/IM5IoWy13Qmg+J4mQQ8Y/vtcPxwD8r0lgWPaewxpjrXeVNFce71a7aXbbrYG8BiNO2Zdg+9cUGQMrtLeXfLMUnKTqJl6Lx8zL90jfUw+v5ZwCm39FEDz0nqc2tqwpC3HtHcK6DMKJlsaLmeo+Gtrl9bHwmv6oTHX15O2bJOxCVqQJsvfVM7BBiOvy1lzE5XIkcRJ7vb5HjdPd/jx08/426ef8PXqEtcPt3jcPmObBqQgxwSe0Qq0knM3U2LEWI63zccMQvbCD/noWi52wrx+iFxnu7ddlg0m4akJXttYTtx+VhPaSgucvfXiOY3uLUNrSUDn+9yzY+IcO5gPCVgt0C+l/5Jyl2jyU8HNi5OGUZ6zZgD7X2RZs5L5PLyD0Wur4h9+w7F8KsD4tTikvZf19rl6vCdavtacXqcrCm7ihJBCBfbt/fTH1PGl9Ssg7xfkpJb2j5oiAAZVvIlVzKdACHbnuYJ8XnMHAxSgJ9BjPWzw5fYCP335GT99+gU/ffoFd0+PeNqusU0D+Czg7OwDOJCm05vf0h67YY8hxuwsR0EYkJxQZyVaeyBLB6iBXABe1+dNI2mEmzc3GS7RAKeAfi7NW4Qp60FlxWhEpZcC/VKHuWOCt6R4oD9UpyWm42PqWvWd/jMF9EuGX1s3v3TCM/FGoTjNykc51SKnfCuB5MThlGAO9Blxy2y/BaAeczzqqbfQvWX73gPQv1Zbrs3vNnNKvgkJSMhr9ABGN9j1lh+WjL2lYazJj3JGtcbmH9vsF296WTNn1ZA9yDMYm/0Wd+sHXN5f48ePP+EvH3/E1+tLXN7eYhN32POASCzH0poWTnqPfOK8Bz6miKhFB/lH73O3P/H8BZtZvrYsMKNcIAPVYAg+A2e+cKaMLmH856HQU114Pvn3AvaqDpg214/qc6A9h+KoMPk6Fe9ABSbBmzvf30rd5OrjcHTu98HIh2SqqEa46QhuMtQL0C/qyhOGRkx81+FbgtMpQPslZX7L9n1voAdeB/DuiX465ZiBSLKvK6gbKxN32/1W/gWdNXnM8jWuGF+RXISJBDAVX3pb905IuF8/4sePYp7/8csv+PnLJzztNnjabwXcVyEfZyv73SNSTHkNfp9kH7ws66v1gAKI5LY3SsUCYSZ8A3C73Kw43Am4R5gzngMtA3YGsvuwta8iVu+z/lpLRVPq0FzHNlpnL4u5/n7JnD+Ef/mZo9novPIpTXlBxSbpdGQYtcMN7snJ1KN1B2APhV4fcROhJ1P04prQw03ErkWizdeB+ui5/rH/k7lQ/3Xac+LArm3fG+inbihrwyFT9FuGpWDw2jJO7azmw5S14HsB/il8NrJ+wmV93nxU7M+fjz917O6pnfIE5Cvm2yTuKvcSj/OvwkwymEIAezvssN6t8fXmEn/79BP+949/xaerr/h8dYm0AtIZgc5WoBAQCXKsLSekNCBG3fTGAvx26EYIBFKTR66eMSolQkq2ZCBWhrwvX8HdbtyydXmfvuyJt0Z5DajRYufWchlOOHjJpOvkZ8EvqywF5qVFHrTwtjQA7IKRg2kWVeAUYaoRx+Tv27dwUnWXXprqHNK8W9N+79KXVvicXALiseBk9fEyKiPPAQ/ywqPodN3yzsNrwe29rIefInwPLfsty3xLL/sSZGKZgzdX2FEU1HYL3rF1PaYtzdn1rp4qkZCZ+tpCUBzf/H8tB7m9v8NPn3/GT59/wU+ff8Hl7TXu10/Ypr2A++osn0w3pIht3GMfI1iuv1K+I9vjsNK7e1fqpa9gPqSEvWr9gDPFE+Wlg8R2CI7cTBfZzPcNSPu/gvQ1feYAvtK832CN2ec7Jz+8Ja8ZtbVR96ba/K0Y4Fuu7b82/pQQYKGt+0sMG9W4HBWAMpbrcd5q8UgMZu81XGu2i4+C/YahB7KvdXI6tCb+LTT3l1yfemzcJRaLl9By7vkp156X1ucUOwa69dZ33JtLQSIQi9U5hNAF+rewcHQOw3FqR7E/lJ03+qW454z/A6CHzSTc3N3if//1/8NfP/6Iq/tb3Dze4WG3wTYNOEPAWSCkIN7uuxSxGfbYxSGflW2NzSb6EEDqoWhlDClhF2PRyEnX80H5GlkP9APbMYQd7acxX44YbJdJdwDe1eXkwQD+0Fx+Ce9ZlO8BkO/FXRpewjB7TmjfSgNZYr0w4J5tW0cjt76Y0tar5DMSX5VOx7VtnWnGvK3LT5nsp8yM7yHMAcopvZnb7VNvGSz/pW34Hmv4r8l/EjDfEdD3BJLpPMYAb3+2T77dM5/x7Y3m1qIT7/yNU8QAE2ejRNYCUI6LTUj4en2JrzeX+OvHn/D15gr3z0942m2w44Tw4Rx/+uEMMTB2PCAlQgokGraCsTW6OL4TmIEhRuyGQZzxkm6pS1KuD+JZb1q9aO4G8t0wYsKZw6LSfHz83ue3Ck4Wm3z/JvlOCTSddEsA8BShB+rfAuiXtm9RW2cIf6icWcvFSEqt+9ALtPZ6BPQ2118PDG5GFWEDoka8JudD9XoLoH/rwA1FlphwF+fdiXvK9eC27i/J8z075fX3yNvc6Vs/fBpOYp1OlF7cxqX0qUHezPSdUA6mKkDvAV5APokXPEd8ub7A//2X/xcfLz7j68017p6f8LTdYpsiVn/+gD//6QOedmtsd3skEBACBiTRssHiVBeClEN6uACzgPx+wN7tmQcRoEJB0EYnIHvn+z+r8az2nZvWrsePqNzP4y1CW8aLzLidZy9Zzx8BGDtJ8ED8uee9AbskjsWb3Fa2IH0v3VzcOYvOXJypQL0OPcIPwPtozNbL1te5icylL02rV6DPwA/bRPu6kLVTWxIsJrs3XmValvsyje1leb82LC3npfWZM6O/Nu9D5b5noPeht1xjW+jMUbylI7n5yUnBPVF2wrNtdcdaiJbQR0C+iuN+GDNomAKZ+T4/kc8hRtw83uH28S7vgb+6kzX4TdwjBoBXAbsUEbdr7DgirUi096Rb5GBOeykzGhDLbZnJttMJMwirgIAAhACoM4No63Be9PIsgjFAnAG74NzTTFvNnTBOe6gzlgDGodAFFCzGgBx/6vlR+UzQbCqfpQA/F/dQnJ45+xSMYcoacCzAV4LikULKUQ5/1PyGm6BeVTcwx2hcFBnXL8m9AZOlRk791pawI8IpNeg/wq8/9MZDXotPzhG9k45JDslxB+HJ+nzPufZAmUtD5zCcKmudhbUpHBCgr9mK3Ap3dXONv336CT99+hmfvnzC/eYJ2zTILXLnARRWWO+3eN5uEc5XoPMzJCTs04CBox5NC4BTdQoX6x3vieU9rQJWq4CzsAJWBATCboiIw4CUkhx2kwrgDwD2tl4iVPMULJ+N6bJoqk283udUOIUjWAVgrn5H5+O+L8mHOsDhv7Nq8eDpfOba/lq69Gg79exQeK3gcQjoidxaeJPHyOHuJYJLB9jzGLZPBsz6xXW/sc/GXmn6UuXXa1ZyrgYK0L8zjDxmDfa3CvBLNPpT5/tWZS4JvbLnHCy7yx0ZX8o7r53ndIzquFuJWGv0U3V81WE4VjUqD+ov1H4vb4c44HG7xs3jHT5ffMGPH3/G58uvuHm8w/OwQwwM1lviBhItfc9R7qnW0+qSmQdV0EjGXPKf8ixiuS8eEHN+oKyxD2w3ywG2ja+ccMeFrF2wainaiUe9iAtCTvvSwduCxwuz6rXxIG4s0Vpn8nlrJnisBuzfnVLwOkVerUA1tfwwuSzRE8imBBAfr2Ze3puebCksx6VuNpPNsqb8BrDwPZqOfw/h1HR/O4c+5Lkj27upAnmCHbPOyGZ7vakOCVitVi6vw0Ll1PtWACn75D2oZY2Dy5yuPgsDYQCb3RYXN5f4ePEJP33+Gb98/oir+xs87TbYcgRDj7xNsq2NA+Hs/Fw86veDArvddUXZaQ7w11hiBJQRsu1uYNlGN3C5Qx4kAsPA6mFv7Rtp4Wg+qaZDxVidkMPNZ0Vpn6HLF/xynB+V8UKu6ZP1loG7Zc9YIowuvTYvCVOWgmNCT2t/7Xr6S8tu62FxjrUkTNF8kZOdK9f6xco32pgK7a1XrVCteYUQ9LApp5XksV/ilnX7/KrIGFYNa2ZuxvsFzZ4D1asdDxem/9ZH506F92KpmKrHHGAfA+ansdKU7XPZady0cx3n3jEvcdLbVal7pr33urffL7F2uBPvZD0BwfOjVr+3qSwhcsIuRTxunvH1+gI/ff4Fny6+4OLmEvfbZ2zSHgMxktxWDTAhMWVze4wDtkMEBcIq+E1zAGDH/+liwahNJB7zibHXLXQRotGbEx4DiATEkQbbAr0xxbaMnibfvusNhJlnjNevF58C4P3vl2jzo3zeBzPI4ZA2/9q83yJum27OH2BOCBilgS7FUTOVHcCjbPNJKTlmApDdNtebHx0h18u/3br4SL+jcKz3+3vervhH6AfRQ1VzVxwi1CZ7mTYFsNvtdQDy797WuiltfmqsnEmZ6pyWIgKpM5sl0rvZtTpgTtmEtxt2eNg+4/LuCp8vv+Djl0+4vr/F836LPRJwJg4FKRCSYjgTMETGLg3YD1HujE8BHAREE+RkOyGE50haH6cd1YqPML3oFI3SBvdXKOKy5pr5TOG3N222gsIo3kQ4xfr8oTIm00w8fHV15gSe7xTa/n5pHm+Zzkdb6uBncafeLRa4dCy7MZ1Yb3qMEWB2yn4CqyVKpiCdZtj8EWbDHwD/uvCtl1cMpBmotW8DdCp96j9jjBnoY4x5Xd4A32vvc2Ni6n21Jh9ZbnoJaktjvdnNGEHxuBXT3Xa/xd3jHS5vLvH54gs+ff2Mu80z1sMOe0rglRxKEwlIxNClBwycsI8R+xgxxATSpQEKpABvYF7M9pkVcf3bK6OyZU4+g+YxVj4c85/T5DOxWmbYAfeWsN9yci4xF5fIfW3s9ZV43aJra6Z+dXVORP9TLh9U7/H2CLlECGi0eU4JMQ5IKRaBmvXgqCrrsiT2ewp/rMn/+sK37TNCCGPMSXaGywgmxpo8EWG1WuHs7CyDdusM2AK5j9M6+gENyIumLWAvoOnW8VD2wg9pwD5FuVHu0y/4yy8/4tPFF1w93GGTBuyRMJBo1XtmbGNETMCKGEDQ2+SkvFUICERYhXL4DQPZK95o03rFM8QMHxkYwOLQZxjGLHWf0uJdPjXhcwbutwP3Cvibr9w+mAi2IHmScExZbwXwJwjWV++Jgb61Ft9Ld5L2t+OrEUrJC7RjZhGjmOtB0DMnagbzXobM9wrMC88KaOW6ljF3CHmKMwh+LeHQQUO/RmFqqYtTjt8AdkrF4z6EkI++7aU7JrgtdAD0DHmYoTyos43krBBP2MaI9X6Dy/sb/PjpZ/z15x/x8fILru5vwR9W4POVeLSTXDizHfaIBJwFBmGlh9gIM1oFQiBgRXqQjfIRORQH2dnAgB72DAbw5c9I5OOONO5Kk++RpAX4Nl4HLHOSpV18Ak65pJ87jLy8m3j+vebW95zUL1r6eAO0O5TnEpN+68ho2voCq45fkwf0EiidVH5dMXvf21r97ywsOrKHa5Nt9Wqin80r+/cSfnNAL0DZTEEefe9p5v6PiPI8NKDvaehLQwb54gUI2DAW7V493qHe7Eh4WD/i8v4GHy+/4OPlF1zcXuNpt0EKAJ2tsPrhHInlktmYGHvIvnUwYwXbYqBlqhBBtm7hlGly64Ut2IvZv4D7yAI6Z07HKHL9e9YU3+bTESbee5ir60sNDac0UHzL8NJ+e6lvxWuGSbusMTmuuX1Q/26tSU64lvV3zo+n+/T3CfDHhmPX1X+V4PaK8FqgP1WcUwRmZH8ybz4/5BHfe+4dYOdM9kedeBcoYBUUgvVaVwFPzjA8IGGPiLv1Iz5dfsHPF5/x6eorrh5usR524POA1YcznP3wAUMcwHEQkz3klLqABHBxTFgR4UwllZQ8iNvk0IagvMsn2LFcGTtMUdt/5h4wzaaJ1+NWSybnJMD3TOMnDJT/GddnqQPXnCZ/bN0PHYbzWw1LGUcFzqiMRa8OVT+S9gU1472N48quluTauWfi/Ti8ZJj83sJSDX4u3SnB6RSOfG8BlocOyFkC4ha+t2WgV5cph7gpjd6+97T5Nr4vd6p9lbmebOaqg1xEUv4gU/05brEeNvh6d4OfLz7jy80l7jZP2PCAYQUwrcAruWwmJZb0BISVmv11/Z2VeQTbF8+6VS4VC0L2itfLcKp4bCbDso5lzYtLe8MSec0nf/dc2H3vafgHrQRvEEba2szzKctD+x04Aed+ZcNPOQknhRg6HOetwpyC3T5btBzTEy5bDXtCk6/KIve2T5O8//cP9f2bhlOB06k89b+HpeGYMr/vEgAfZdE8VNf2DzjsYd8L9X3y4KwlmiQxgIEQEJnxsF3jdn2HzzeX+OnLZ1zc3WLDEXx+BiABxIhB1u73nLDjCCbG+dkZmICz1UrX3Qlydq3SJUFO/0nKTFCOBiQWb/98ShAKjyIAK8eUFre90mTsuwdtpYOzJkxaB6YK/iYA0nOwap4fU7e5Ks8NXE+z14RvQbPvsaxiZR6jxS+tZldL5/LXzdeBfMNkPIhnZ9echMvzKWvSH2EUekz5mMNd3ttWureyCBzS6I/J53tr9FNl+zDlPe/jmzbfmv2PaUdz1WxBPobewQ7xqd9xxN36AZ+uL/Dp+gKfry9w8/SALUekcxECBk2FOMg++DQggbFalRt2SGov6niQ2+WykswtyPOodszmed8lo6foRJM7DHekuU9p8hNZjor4FmCV/5l62Xk8I5TMhYMaPmP2FrqjyjrBBJxtnwPCbx3miuy9O0SKqWWiylrRxLW+zEnzYnz1jJup4A/vqPL+A+ePDu8NtL9HKMvAb5T/dwF6Wy57ffAafM9kf4xG371PPmvRIQAsR+nv4oDLuxv85eNP+HT1BddP93gaNogrwhAYu5SwTxEpDkgDsE8DdnFACAGrMwF5trvfh6QHbgC0CrnDiYDAQQ7EcYAPFIHDrvLLt825eue74ufW5P3vqbhChJeF9zqBD7V3Kiwx4Z9qgfaU4DuVjRdG3ltXNUr5dP0mhNm8Pa4D/sZQK9XcnPc6BGH1zWHSeHWOcvz0XGN+f2EJ0z0Up6ftnSq8qzV5Zxlq8z2GBq9dzz91mGrHiyw3XE6+S7GciOeBfkk4A5wwbvPeme1BhMgRm2GLK90y9/n6EnfrJ2wRQaszRCJskbDjQbbHRbl0JjLjjChLEsne6R+BQMGZKmC8RL4V5cL26Lu74QFE5mYNfokmj3GcLvBx9+ts/r81gAeWaWun0ui+BfneaReN6jVH0ykrDrt5m/uYm7xsUjXavin6YmrLmrvNQYaddqdaxFGN++2HUwD8VJr3tCb/VuGtNO9vCfSUMbPQe2oL3Vxb83ebg+7++WNN9YDfQmf8gRVQSeSsfRxwv33Cxf01vt5e48v1Fe7Wz9gGxo4ZMQ6IiTGwrN8nQBzvWB3liPMm/xgj4pCQYgKSHFjDKWTANgBnVr9+dsZ7ZgQwVhn5uWjuWu9ppthqb06r5+oFChNs3lX4P2MR6MXJRD7xYHtJGdy05VBYpMmXPnnXYY4274EJLtHkD/avy6g3Tkkvp2C4saDzgbk/5CsBwNXvjwDgeIAXkvfnbo+s7wmg39Ia8BqgP7RN7dj83iK0Gnhbfu83sxw3D0IG+Rdp8m2Q+S/3tu9ixP36CZf317i4ucKXqyuseY8dMXZgbFPEYEfoEOetd7bJliFe80iMIUbR4CMryAdwSrrnnRGz9sB2pY00Uo8FJGY5VZ9tq0HDxLzGMjJdNgytfdd+LgHvYwDenp/M3PWCMpzGlj+XaOltaNMwTrYW9aZhijbvgYn2NPk22HJGb8191Cdc3nfbrVIEuz9NN165Kg9qLeQd0O07hxdp8Nzfw0Asis9vXX56KZifek/8twb6JeDcrrn7bXUxxpHJHjgs4OgFNc40oPESGDse8Lh7wpebC/z4+RdcPtxiHXfYhYS4IkSQnDqn4Mq6944VoAPJbzkT3zGPQGr3k7KLCd6ce+Q76T3zuSHM2dpAVvFKi7S1Q22EN1F67SaDPcrzKSGgB+o5ywmQr/I7ccjtPUIrbYWZzPhRC0alkPk69NLYVbqj5NzEmQhzFoPc2UfUbyrqewD0UwVuvh/LryqAV00eZWmszE3oMh4tKobgLINtkaRDuCOnVD3TCo1LHAAsjYtbZKDptQ8fm3vxJgRY9iUwTWye4NEt03MtOaYL21rNGVqEZdQpqKHp3MyYF+vGpZX4fSnUDkQrD6jEmThJsfD86fKp+mWRD4/a7lulz3joTSlYAOnNqbnUGc95+2zjeEG6t5XOb6lbEtzZ9XKinQwGucZ1l/Z43D7hy9VX/PjpZ1zd38j1sauAtAqIFDCkhMj1EGBmnAEICGDI2jy76ythjbBN/6qty2GahQjZXJ+ZUYfALTDDDxADd3/gbZuu/eywHGOCbbaHQL6tLtFykOnNDdPk2nwX5cd1vXNfoKbdXKgm5cx730abmTzT9swdqZlRXOrnZ/hBGpJDk5m4h+Z+V+vv1P17hKkh160Pub8mpDK32H0yozi3MuQkL+PBM9XyysIUDQAAIABJREFUAO/vk6+quQDgubLSLdBuycGJShEMwwuqwTsPJz0utEwMfd0Bvx7QcxlmRJxBs7TJ18kNY0Dv+Rxld1ygznBsp57l3dDU6toVBuaLbOI0ihUKTdmJhaN8CXUfg3S8KP/uCXUk+RUWSKB2XGueVPXCskla6ybCQ4ru4jBupHT4dOPMpjzibRnbnuU75XO7XLbM1Ql4L9pCJ0OcEMGIiNilPZ6HLe7Wj/h6e4VPl1/xsHkGnwVEAnaI2HHCnlnX4lWC4YSgJvgAgJI4DhCzKvByBE7w0guMMXgg53IjnXaTKLEyfFJX2GtBQvPKAKezMmO+G7IVkPtPdjOHTTxz6Zuy7LMrQB5ijz6LRnampm7dibCQTVRC0Fy6ae2nG69VWXr5t3UecQ3fboJcdWx0Zxe3gxTdKo7Z0jiO1bkdVK4DuZOulzXlf2Yq95ZhCum5roqBO1DFz9t2YH8EDkAi6s8598zzvgz06HdZVTN2tSab7w3daPRlHHSOsAJFYfcFCLwcKjxFy2rGbDUNycN1Uye2cVoQV3YecNMKdnRSwcLPBRtmxo6oPO6NpjZvqAYJAgILiJPrXnHD4CpfA7KKdlRvbSN28VH6yU8dIFTTnrR2VkOjRd1WP/6kH8ByHzmbADLB3oz1FYBvBbiGZ7ZTIgs4ZUyYw6lvLXkBpiNQ1diAEtfX1Y8Rj29crnLODnv5X0ZpXUnHpiwn6+8G6CfYuQN5AhMhUsIOEeu0w9PuGbfPD/h6d43P15fYBUY4P8PAA9ZxwE619D3kLzHjLCWcxyKhhASsErBi8aRfqRYf1EOXWQSBFUlHS8qUpUCmAvDB6AUSc77nIuZMVK3FcyZoIQDXgztTZYJCAfVzhm7Sp1KmhWqguFE/5qXjUA0Qny/VAO+PLfWMr7U29AK5AVgJDU26UZvadnTK6Z205pdSuG2Xz5Sav7ZAn9e4upOm3CzEtR3RTkwNoYPY1RLNlHA3Tlb/qBna0cFP5CnpvWriiEDj8e8ZmI/JdkKFCNIcCqDY+VXBW+Ss+AkMLDyPO33f8kUH8J12cNa6XVpfnnWXAZ4DeCZqtFebz5xjwY7ytimmdSq7jZqSq8cGqg7qCEVbZVILg75V6wSZxcHlLEYvGfOtRkcQgasayYbT2m5mQkhA0A4zK4z0pQKvgUhuCuW62mfWk/1V3GoxKUAvvFTao3eSsBdBRFAkE3qUR9ZxfOuKjaMGe65iWcM5g0BOlccO6+1KpEJIFSqgd+POv+eiURudPVse8RMbgO5nlWX+znmskLHNHLembgDybbDEojBzSmAihFAElblQQJ5kEosmn/C82+Dq7hZfry9x83CHx+0z+MMZ+MMZ9jFhnQbsdA1/ALDnJO53STzgbZ19pbfHkLrSJZIl+aQDWfa614CcFNwTcdbwq8HmadEFNg/slq9SOQWUmezeV0CK+l1bBrWPnJTWs1F2+4Gbl+63ZeE7nlInrcWfqGdb8Ggpok3jGbG1qQPeuZ0+O6rrPKKh/9q2GW6kt8HVqfJHKMyzSMqdtKNsXV1G5aMWhKwhmVxNOW0X+ufeOa03RF8SZncHLHhRCbuo+8210wM9E2XeYElsWa3AmctzropTspjvJu3aFgAkay1gsgyuu0t/VLJlx0xNJXbmNyNM6MwTn1M9HWypwKXSYVpBkoIj/JBz5VgfBO9j4JQZe5/5g2NdlSYPwPwt/O/R9Ce7Z7S0iW2pxLPHVjOvCSX82niEW8aoeUOPX1nVCgCbJkxExdoLFJ2uiGgOI4QQxZLRlDNS8ixeoY1WPZdh97iMtpi0zt89/jD+URU31sa5iWdmfhlEKSYECqLRB67GIXfo6jT5lAE3AXh8esKPv/yMv/38Ex6fnxHOzrADY7ffYcMD1ilirySQdTtxriOtNDF7miGBMaQE8Y+Xd2bi52qtISFCLAMDRGA4Y+CMiyafclq7f84TKTmCuz/WZ5zaWa/vuQD03EDkib9R3EOc3XNbKnlUDiiuHq0myM2XzuAYF+XKrOK3aMXdn+VZW58J4cv6IGuPE3VrnSdztr5+rsyWc45FbNcGbmjV0IA6r9roLZmmQmZihFF/nSLM5dnrq/y7YeiVsFxoKlqg5+al65jGZu+RPEvzJDpMEQOmCYaoc6Obj1m4DCqp7TyM0ppQYeCbGWkrHLDL2W4Z83MqD1/KdMrlkznelZKlvIn5QEWjhpFC65VbRIBBdi6nsTiZX0UO6lyRq50ApAQ284wuSXDwTl0BIalQZ8NEyyuUbWjMAKNYTcqbcXsrbGMG9BA00bxJ/Rx8aqNpydLsCn55yAxy1bJNpURMKROaF7J8ov1uuJZjljZoe0+9u6jdZ1+vwxNSiqBEsFV8L2m3bCKDvIB7wsBykM3j8zM+ffmCj18+42nzDKwCIu+xjQO2HLHliMETjhmBnSsEkf4ulU6AALqVqdo+6Z852Q2Q7Xl7MM7ZJpUIDsxyCU3K62QeoBxYsLSqAgibMB7kGSIFj1G75NMy0Gq2uTKdD8FhluY5h8/fMRqla5Vf4TbNxO6UV8W19owKbH6XSV9n5Mrp8qeGOJ5u9px9m+x9G3GC9t0iNUJuUxu5ba8vg8vX/LjpkGYoVHS0UGknvfZ9ozDqyol2e9Nr1WUOhFBroMl9z03tNHFuxC9igUpjau2ccCAD0946hY8WkG1OWhRukhhQ1tm0Tnq5DmaqVnoJCFAl7JT0ZsKs1/wZqrk1w48ZUGyrh3Q1hEu9xMpiLdCzP7Ux3uUtx2cGR+Q+lPtCkgNjM/VznUZ5pfV7D+RlWdUe8KjOtjTA5qVYN6W0yCkFArQjtzpkB0sHakZxD/StvwP7H52vllNweQQu8yCgWE7M0uNN7ovG98JgYN4CPFCc9VIikB4oV2G8b4w+rBzvEhibYYvH3TPunx+w3q6x2+0wDANiinJgDayLoQCnBA6EQCETOjAjka45eL6iwM4oB+AQ1MQPIBJjgAC5ATpsQKuUuwcwwJ9213CszLTcX8XIuGbOXuqnTlw/qny21aG6rgpw8asXLROyqH4W2XvPXdiLlS6iyydL9Ja54xiWhy+ralcj4eafOlu7I6htoz7vTWIiVy9GZcqu8vRE4NLuklFd14pebd3mH1WBeNwnbdu6ZbXlNLSqyl3IBk65j5+bMVLNC6+WtIhT/k7JvMbBxkUz7txaaB1PDvLhvI7tYpHdmGnrsIVBUjWugg57GVu6yJiVE8mbMriRxhWfgpSHZMhD1FDZkU+VBkIShzJ5WuYbMTiQLB2C6q5B6+RHJR0KsBaeZQAviyiytJJAATCHONZ2UQoqdECVKlGWfKmFs3hfAa8kuDcmMFSdJzw7kFhsS/OpGdqdFfm85MAgBAVcJ9hQqqlDkD7JVHE+G+xW2xOE3pamXsdwa+eU0xqNixOfDhkTdE0A0HYWKec0M2bqMht7lxIjhKLd5y13OUFJW+2TTwA2+y3unu8F5Dcb7PZ77IcBQ0yIlBCJC7RxAQHCCiEQQrL1mGKyt7+8Bq/gPrDdM69aPAFbkFgItLYR4ieQgLzGtYccnJO9FrIEqK3JJkhH9K4G64EU9fsqDwcso0nbpPPZToFPNYc7oNiCxUic1TpVWO/bSnXC/NMhGev+B/bvfFwPfHMD14O3tcUP9h4qtvl10MXnQS4fPxmrr648D1wWp61O/m1ldQSWgzsBmiZkQeBtoXFRaK08mZzknjWCa9M4zvnMSTYvDQXgW5AY6W9MAAfYEVnZgUvB3ph0Nt26+pf1ddvvI3zDNOHOIoSSroA3YNqbEIoYCMkAXgDUnKPYzPNIIk54HqS1yubdfEGXCS7slhlKG5hDnZ4M3B3Iiyuy1J+CWDqDLU2SGjUagV9rU5YWjArebc6djeCmuFeMhC5B22/XhzdUVfAGExB6K8fqtIfksIMQuGxjM+GJDW3JnZfikSbTi0ohCWDvWGtpXTtLXiiJcitq+UCaF1y50L5ObSavDi3Ay2fSv+AjyhJHoyiMNPnnzRrXN9e4ubvF8+YZu/0eQ4yyR28FUCBQqskDQE6uY0ZkIOY1ITeBepjYBDYGmRlOAVsTQgAZLKHEaOriAV9i13NsqhYt92+fN6+sjlX0Jm2eHR0AQe8dO4moV4WXMltHl34FG5DqRB2F8RioBKA2SlveZD3dJBlp8i5eD4B9ueziVnUxhgbMN7IVolw5k8m4fLy4qwqzfXE4tIwz6uzm1TcPfo7xqFYCikUoMAGBC7o32RQwzr8VeNk0TC+3+yggiHHW8Y0M9FJ2WQYnV5rz5/XCccdxwbaUeb+lypo4ip+/IcMuM0DqQZULLYBuMbPAlOknNZUlBLU45KbODFyCCEe9adek5fpFEQ4YssPA9AvPmvN8LHTOYJ37QQG+wommLpyN6VVS6DvX0WMW6yvuTPX+ld/uZse2V3V4wfyZ2vM+f4wvykqxRJ7AmmZNPoLxtH7G1fU1bm5v8LR+xm7YYx/l4hkOBKIgYmzMI08BPcrpdggYFORlnZ7GO5OmKk3KvFu81dbkQwNynT0vtwnvTOi509peHU+k8XdHwW79iwDScIk6Pz+KszjcYazUPJ/sXy81njiYBSFjgNF0RvCpaOnijSZhh65TQsAIgJu+Mnr7fKq+tdnIJe4oNAJEZvoTQl2vKVWcZkxVVa5BbDac0mlvKp9Mk/EgKzrWd0B7B/DM9Zw0oGfbS01F42bYASyecUj9yY1piV72BuRYaskhtmNIqOpW29InfNQd2pJLMu9r1caZRaMyfmTryLbMoFqo6YGZ1nlZrh6XspSt7clavGhy5DT4ssxBeQcEK+MnLr4O4tEfHWtkN4WUFhkwCv9U0WQS6D2r8webZR8GH89oSLqLKveIASiUllYz4UN2KmuxKJSP7LTp+4bqvRKsW/36QK810DK9VYXzHLbCNY7jL9OQfDj0Tr7zoT0Br4xxriCuF0Yn3q03G1zd3uDm9lZAfr8TgHfTP4sRdS1lDb0yc+vavMc/tl3w6kCXq2ouJD59KUfGiRsANoInGW4TMk0aYM6g0TJizxl8/LZ+roApXPKBXB16dZwLBn5VPK4+6ueOhr5cx6T6ANpm5VF0ajQ5RtWLyp16OjJXA6TN1hc/l8+oOm1jZgjsBZwctQe4vcL0+SnA2efxGo1+coz5MT8dpTCvfh2m3yytn/zDbv7lrmbuU3g0dSvpbpR3ZvW+suyHf22s95GM0Rv4kCoa9jRzArLfNSOipkzRgv0RMRO7BIAiFAAilBiCqfYugkpE1ughSxmkAlABueLlbm0t080EA60m+eo6EFPzuX9SHd7CAYFFLbd2pSykMxpvOPj+qn/1Zmt/Jz25sW3OeZ4PJy/INfjQnVKswM5OTCR0lk7U69+2+BGDKNVtMDpO7SaaCT2N3oN7HRc1RM5MSAfy8t/zdo3rm1vc3N3h6fkZ2/0OkVgPUkCRJFjXgvz6DtslMzpQXB97SnBVonRlJHtmETxI+caQHNaVRyUV6ZfhWoy6QP+4E8WRtXRQm58HjtHafDNcD20ZGz0/II5Z4paYgGt7C9zeqtF2AHXoMAUM6NStMz29KW0mu/zcA7x9tkJbC7xtX7b5eE141C8u47wTon2lGbWe9t0GHPvuiPBmGr0j1gRp7GPS0q9jfjTVOsN37oztsZuMB9saDEq9WNfAZ/maDkFzyiKXnor8boqCiQO5WLaYGeCDGxdMQMzuLI5fWAlmpmdh0havkEvBwoNsJkExAcvvJF5+DPUhSACJemS8NYEArCDmbTt9jiua+jooRJXdAdZeBzB5Sxs1eWTHPQAcBGSj2zJHkG14gQv9ibM7RCYZAM6I6GhZehCWg6uVE2wM8F3/qZaf1+xhNKbcFwVOyvgipgJlpGMst8EGDokQ5dfAQxRf0IohiT+CHa380nDooh6AHRZr+a3Sq0Ed7+Ts+F3a43m7xt3jPR6eH7Eb9rK1Tp1JIhh7Fm2dqxluTJ4U6IFqwSCDigeaZhJ77lIWveAj5e0cJjUyFWk+R7WZyi2vKOVWlogOq+AmTzfxS35W3xGnmseGOexYFJrEk4tA1j+ubRn8Wpr1wG7pAHVEahl6Ty5oyXWwmIam1UJeL58DfVCNs/YVj+tYTbQDHTd67R4cq5UbLU+1Pp/bxaX/W4mKi+AN982S2zczeoyLmnjRi+vL94wavSy8HZFqxQK1qbmAgP9DztVk5PK0I1k2czrr6VwLGMnWuZuDWnxDWN+b9dFEB9Mcc1wA1LTLSENmooZo1tlrnwuQFUe3vvDWLEeXuKP2jylbTQfYdrkCoOS0WwFTcwZkEVKqcWE9bMDsIVzoY8u7snRf+2hUfhbZ2kIuvQlJBFAopbHiz8R8Ej2xEEn6t4qhxwXrL7J85WG1NyELj6cJlJem3PhgONO9vuo6EJsmz8A+7fE8bPC4fcbD+hGb3RYcCKvzMxCJf/tAjA1YrpY1TciDaz7Wz54b0zRQ6QBjKyxUIGgiX+lAG+qFQTRsyEmehWk75s1NPSohwcnULbNv2R2333086r/rAryfZNVwbvLkrB3UbW3aN8rb09oD/kS7Ru2ZCRXHrBljF+AP5oUOvaYQpUlXPe8kaLk70DBze+bGTo8hzNVl6sFLNfJTafM8MQYm4/tpaWNNNQd4k2+vqOn61u+OZYJWIWX9hq9s1kB31oVbMmLfj27NunyiMy+KeCOWA6s7Ze/5zEq0j0LLt6Can+ZkGGPOcMwKzMlRgwFKCnWEotGrt7nxcfMLyFv90LAGlzbXyCtVZGWSEzzMpmpUdKDtmzWajkVQIK2gF9lKrpm4NSu2XT2OpelmQAH4XI32YByjRcnXXnIG6oR8pC0D5rWfW0d1fqWMZpumQYTzl7Cjdq3fStmvC2MNXmmrAO4PqxrdSkf9I5ayJr/d7/DIj3jcPuF5s8Y27sErAq0CwAmJgT0StkkOzMmDKJ/jPqpuDSQt8I+bZ610jSvPuY1XU8Yl6SKpe8aomZ5n5g6YW+zLs5DH7ybL8u3ANGccJZsAF5vlVfwJEKwy7IG7ZTg3LA8xYpc+FzWTX4+mh2hSJejUy9K3eY6iczOkeuPIPicqRZ3Hc2Oh1caXAvax8ZeEQ1098U6ScUVnZq6czxYVP9mWzIFnKlIAt+5L0drM4YpR9kzXQI/MoliZePGUrxlj3Sxv13CgW/0J/yh+R2r+5pBTljzKdrDiTF8OZtWt7lp1P68KwJdnDlEUMfM2P1suaBvWgiEhjzWrW/EtyBHsV9VNJVXVRW4JvrS94t6ev9t40vTt1PWWpLodTtD06WxMqGJgNQi5DfU4K/QsAo1ZKYSkbmeDyduUPIUc36Fcib5HyfLggd72wBcHRDgNvgZ54paCEs4s0dPzE74+XeD+8QH7FNU0n7BPYq4Hyf72IUXEyhOcZXQmLpTO5bQF8vz3Cqw7aavn1cW05W8kJLgwCSoTHJAn4pTFmyazpv6VG+hccJXKNLTRZRwhTdAFrs3+HdVg0ZpoK0bgaOaYeZ1XW9+WZlN0cK8nAdgn9WVx/d3i52Y41K0wosk0t6lTr7adbfrKkjCH8vrdj/2qnGaMT4VTH4k75Wnkl2y4gNf03B0/Z9/eGb7WBXgDr1xoOcSGkdR5ytJTHqeCi+oMRlBTNgOIeiKdmew1re1lNtbgBJN8uplrc2qAXPIQjdLO6kjVfLBDaHRLHxMIwV2mZXRid8OWn+tQUOHyzNacMwDquGMGEGrTrdGGGMzqytwMUxFkkoofnNuULNsM7kXwkb6gfMlNXlvPfNaWHFKmaaYcMwKn0u7MmhvId05zXt8vVedGs3WLM+xO0VMy5KN87buq4Nnym+lWaiGkM+lKW0oAOJQyMu9Jddex0Na2Q1p6mcIvB/r2Tnl5NmYLrSZPeWzVEc8AOSrv8ekJF1cK8qwgnxL2lBCDrsmnhH0cwCsCgvOkYAZiFKAPAXrcUnnvGfVownP1kb+3zN2+VwOtF0cL9A32AFDRYKIuQMUMcnkjLdrNkhaQyug9IrgR5HE7oJTdc7LLAMZ1VtTEmxp4Fa2pqbMTFnIc/1kVhprYrwjdqvrx5Op5cN16pi5Wbb9G2ktevZoA+qlxdQxo9+K+1su+t2WzNx4MeA/2na3Le2FImWGb5YwGX/aZy9jNU5OaOjhALQe+kE49ViZtXud6vKvuRS/ZaDogM29h8KSaXikveq9qzSL7JhmFspAJMMpBPZRB0gBfeR6xAOKIB1OxjAQRWoplQmicDzxRPjPytAar4NPS2AE2K50yqOulQyosicAkjmUEf12t7udXviNV4cwO88lvVV8Z4Ejb+6xwfGhOke8N/Guexi5t7p6WD+YeUoGGyZn/LXf5Xe9WTJA1/OIoCS6nsQh95TNbKxy9egzrlRzQgb0IDdXJdo02b8/ykcmOZ2VNfr1Z4/r2Bo/PT9gPeyROSEiIkDvj5VpZPT4xEbJ3snUEAXlhKjV71Q+BasaNaYZQgUveTmIjZy6fnjDgAakDWjnPBjhHzXAzxn4vMue3mXkxjeo2VfWYq0vneVUPEyB67Wx/N0DN6AN9W8XRQG/HQStAtEU5oM3VcG0/QIqcX68M/6wV1nJ+jLFwR508fXqr14gYnUq8MEz5B7zH4IbP7Pq8+76kZXl45F+F3uUYWXvrgceYngJKBj1xpApI4ryulZADbQLKyXWMoIzdyiVKCiGixUnpQdJxOeWFOnxopLuMaGQCghFGfntTvVxLkvKD4o9gOQRQCgqAtr0tlJgkx9kmY1++HBh4Fz5UVqftZL2YhRniAErmeQ61qgQkChCLTC0kAEYes7o48YvdgUOw7YYh8x8npuX2lh4vrfckJffn+6KKw6hjOQGuSYW8x14lksKminNlW6OXhPG6vLbU+1Y4LT6lhNVqla0lPmSQf16vcXV7i4enJwzDgJTkylc5Sz5hRxGRI7LLfswlSQWCiYdcg3yHxDXw+nzcZxu/5e55C1Sqo8B/clO0B7Ae0NtXRsW0e9YDN5lHVc1ld9hXa743j5zMjKwcKuWSr0OVmXzka6IOgAtzHSVbBdo0bjZaFqMlAS4fRgeiuv2OMY4EIuMm9iNz8UbAqKrFhSu5bHMercyWd2n4OM3vdtyM1uP1d25b239wskw7Pi0rL8QdEY45RKeX5juEyoQ/FWfK52EyT2hXKaMrSORipKLZwFZFy1xn73RnAM+yNS5ArQqmKTEpSNlSAEAUdTiJdzsoggAkrFQjlYNsbSubnGaXEDjlfeW21l4DfUOHrFZbhNKGeg05oFw/nfJ3AvQu+YCQZEsdIyASEIPsYRegpwzyBu6Z1WSgNQc1dkAdpe26LEGJBeT1HH4QIwVGUr8td8kd7IIfaYLx7aCHAgmttAUw60iiVW6ziSrIQMtlSpqVxfhQpqfWnakcCmfEz9PV8R/bMdEdw47p+J0QzhqBXAeL//LgNffWXO8vsbHjbae23RVNfrvB7f0dnjfrvCafIGfL7zjJrXMpCYATqdbu2l5/qUNZnOpHmQJ4I1Q22zQcubo9ToN/5HEc/tPELYcKJhBkQGu5v8W3jJzE7dZj8oUFU+ifca0acShWESrvs4DhTXENg2wBinSgggA7HKMq15XVTghPo67pmuuIFViGUjUja1VmWwjX9M8Av3L0L9rKOPh2eRDuVNfTrtdmi+vb05aVx5NjwFPjuZURjgS1kradDwvyqFSUXju1LiNaCRiFEPRyEb0+2oSnkmnJ+gU8rNbup/hFKacdvuWOdscXyH3XRPLL5kH5tHvJwQlPjw/45W9/xedffsIwJAwx4V/+/X/gX//zf+Lv/uVf8OFPf8b5hzOAB9GDOSIgIe7X4LjB14sL/PTzJ1zdrrHnv0M4/2f8j//8L/zHf/wXflgBP+j0C0gKjsUxkBq62jAp9bbGk2sPK2gZYAVQSJCLW3Y6ZRhXX+7x6S8XuL14xJAAWp3j3/7rP/Hf/+s/Ef50DvrhrHiHc4Idr7tiWxnk/JcHOWk5IYJpDyAAKeDrL5f45f+5xP3tMyIYH/7+T/j3/+vf8W//9d8FXUJACCrs5D6D0x/kd4gRIQ64urzGjz99xOX1A7bpDDj7E/7jf/4v/Mf/+b/wp/OAD0EsK9b/eSw4emari7F0bVc5DVX4pHekDJ7OBJTb9hp84P+fuPd80iO57zw/mVn12O6nfaPhZzADYAzJEUlRdNpb8WRWuntzcf/mRdxG7G7EasWTaEbkcIgxAMbBe6B9P95VVWbei8ysqufpxsxwSEmFeNDd9WRlpf19fz6LTItuFh3tCbNa1PinumZpR9khLzTLGIuQxiUlOmHL5yA/mU7p9vsMJ2NSq/3Rsy65zdQYJpgC5Oft7vkK9YR7JiHJPFGZB05K5ebKBEDKgbcUb5Kr7EuSvC61ISf+4QEK8JMhk8U8oQ5gbf2CsCXwKG+8IMWLYmcWDWNG8s7bLor35dWVAcOWxqBUHmbrKg9RuV7jn5cB5CUINTs3OXcZ+idmP8cI99wczfxRYpTm7dkFtXoJwFN8Yctt8Mk88jba2UfKYzzPfc+jQfm5+XtfuQdLbczL+7YGjVW54vn1MzNPYf3/kRv/D3XIC+WPPRc6JGbLGU/opUIqr3o1hSTr+lUOPLNfYxy/7LInz09opfdsLvNHOdD5/RBCtuaHvSC4RUa7YCeXuQRs6HUO+eD3v+G3v/4l43HCZDzlWz/6S773n/+Gc69dZmm1hohjFM6pTWHBanQyIh13eHj7U/7ll+9y695zpqZFffEsf/U3f8/SynlsXRJVHcA79bb2fba5R79AODJqiiygxoOIEHLGFmus11RYkKEv0iCkAAyGBKEtNrNsP3nKu//rfW598oBJplH1Oj/5h7/mJ5sb1GNFrCSRFMjMnf4pjPupBKjgrGYDiPrxlk57YWXmQF47X4HH9x7yq//2Ox49eMGUjKWtNf7TP/wVC6c3UHWBiiWRDHZ576BNYQr3nqSbAAAgAElEQVQJMyZMikoT9p485Nf//C6f3HrAYBoha8v87O/+noX1iyw1JKoiELLwwzBhHP36hIJc4mdfAlL400+tRahQVuTPmwDYBENCmJHi46BGFKRJCoRUZVbg5LX8Fcz5l5m1wlYtF5FSztRrrcEagfX9KpNDKJ1Cl6Ypo/GIaZKQaRcml1pDiiYVhhSXnhZKFXjO5mQwOIGavlQlb4+XKdvbc449gGq4V8q4FxZN8PKfkexK7QtuslAwA+E9QuTZpWaAUZQ7LIs6TKktliKp/ozkN9ev+S7PSNXMjWeo1/9tSs+EBZe/T8xqMfKr1Ec5Nw5lKacsWcxswFLbT3I8nAf5E7UxkOsJ58cnn+d58IZcK3GMufFlTOm5XDsz1/Zj+0vM9iOvk+PjNvO8b4fmeHtyfskzKKbk4XyShuGbXPkcfDnBmCk/A/BhHZT3oC197+HQHxldhFYV///bXLNEZX7p5X+WwL7gD8K+mXdGc/vUxZEXJ4UJv5aEtQ58Tcpk1KNzuMve7iG7e4dUljdYf/VNqssbVJrL1JoRAp2r8YWw6HTKZNBjf/sF9764xRdfPMVWN1k5peh1hxgUOTAIg8Q4VbVPgRqmIWz38tYNzH+QX0I/xQlrNMyNIUjzTirvd3s8efCEW5/cYpRkxAtNLn33O4xTjbJhjgupXVmLsgaJdGeo5/R1LghQuEZZ4TeBMXTbRzy6+5Bbnz1gTMZa5xRX//zbTDNDbJwwKEXZXGI8+fJObMKZTIRNkSZh3Dvi+aP73P70czqTCrK+zpVv/YDRFBoVianAjIZPhFbK8gBSZuzCFi3ksdIeyrdIgPuw9N3ZAAUZcOaJAkr8GrOQO/lhv7GGa/7K7e2+BzOJb2ZLeh49vH8O4cmT4VgyrUmSlCR1h9FkxjA1GVM0mXR2FtevggDMdOYYkTzhb8EMUTlWrvydsQVLFghWbvc3YDS5xBxmJiRaCi8LBHYejM3c90BuAzfCJ9W3eTUFAS8Ryjyp00mg5tsdQCo4LELOQc4Q2bx/yj1v7Gzd4TCgsoQcFnSYCyOKFE06FDClMp6aiNK9Wc+b2f6W56vsH5DPWWkNlOdPlO6VJXHj28gJ75qpaw6gpSAXd8pLJ1DGY5tqpkFz90s/jzEO5eIlILSAkr4dpfZJX4nxazVEnNgMtHHfR8qvWcuxdfJNr69bTxngj4F9QcTLY+62kTj2AU9IrbddW3uMT/pjLlFm9GzxI3els8USCdGrYm6uAqETAoQMp8j5nO7Cz40vL4RFKlhoVnnlwhn+7NtvcFPcZv/giMFgyIvtPZa2jlg5dZYlIXNVrhSgrECnKaPBgPFgTDLSKFuhtbTO6TNnWVlZpV6tUolSIpmgpCHyrw6ZQo2BYMe1wqlYQ1ieIxnezmoswrdf+X1aTJc79RNjMJK8HncynShkoPyfRPgMcCFlrcIQ+Y/EIkzwa3BzYX2DrPAgYv2hOsKxFtZYrAnq/iLWQltDZjUSQSSD85ws9gou74oRFhk81oVBiQyFRgnXHmkEQkcYrUi1QAe/Cek0MrkjoPBytwWBQgiF02S6cdBlGisKIBd+4Qh8Vj5rEModmZ5Zg7UZWOnqEwpQDujzMbD+rBZL4R8RSHKxQb4sRe1JV5gDYwwh292xxDfHH3ppfbkkr7X2x8pmZNZJ8onRJGh0oBFhs+TtPYl4+V34ZQS2YIdK9ZQbW/rkf5fYXW2L1+QzllMGb7OSfkIDsFu3aawt5iPY9/LmOOphjcCasApEUT+i0MQbm2enyolQWcVIqW0BYKFYXTn1ogQknlMMZpFyPch8IR63l/v6TcjuVGIKPNErhGRR9CkAr52tahbkQz0BMHxn5zHTlh4IY5CPc4mZmH9XeJkVOR+R3/YSgM2f9623AadCX0ptztt00qKfYyDKDEnow/yaDFMclcYU6yNMKJi9fA36cc3X9DEu5N/nCkQtbzP5GLo+zXFIvq2COZAHjg2uPSGE7o+9RCnbGOUREzNTElpzzGeT4DEd7KTe6cz63z2zFSQuiaFeizl3doPJm5fY3dvni0gwGA7ZebHL2tkjzo8TtBXIHBxcuN10ktBt9+l3hqQjTUXWWF/b4ML5C6ytrlCrRsQqRZGhRIb0edyNDkTa+yZLXGpckW9VZPDBsQa0Y1okygOSl0qtcaDmzSm5F7qnz9V6g5W1NbbOnGaiDXGzSWupRaQUSgiE8aBqMyKbobDeJCExxjEejowElzifZsdKb98WJbCx87PkwI/MOS+GJWYCyOPmRbj058rTYCEMUhikcKYNaY2j40b5dsnClIFjhFxGPDdeIlSNAFT+0+BNHRikCHPp6SguU6HwxEq4lqGEdJFlntZa72QIEQjl15fFmAxjM6AwDL1sS3wToA/PFA52duZ+KFcufxLYF0fNWos2Gu2TGAR7fEZI/iDI2bgAvjnolKjzDBG3s3+XG3Hsfvlvine4ipx0lEvXwSfAFs8GgmtBGkFs3VQTBkkL0JYIRYSzVRvjuOEwxQ6HBKmFzMw2ybXCEgtnzxJGgw7Zj9wYaeHOhnKafFGiRgJEVHT6JBCyOA2CE0l8n2QBHIFTZ278w7NW4o0yM+PqvIgdjdN4bjh/SDCXoDkf7uLn8VGYl/4lRWIRcKBsjPNQdrdsUf4Eh77cRumtL0oIlJIYIUiN8WchuGeVkCjchndzFNSwYSbKnSg4ERHaHUAhaID80nV9mIWtABbagknLljdRjFFgNFILmXaLTipXobFgdcEo/Xtd8+Ae2lxmXMoRGWWNS4kXnadadq7oH8q7fKntkdK8FNy7U7kKMdvEnCiXpCcrPdBIpPfMDmsxvFsQjmbVGDJUbFlbWyS5sMnqepO4LhhPh+zs7LKxe8CwPyFLQMUWG1kvfQp6/THPnh1wsNsjnVgWagtcOHuON668xqmNFrFKiMQUyQRMhrXaL4FwwEmElQojY5CxJwcG4Smu9PZ/JUFoZw4PA2RCLgDpiJ0L3YsKPlPCqfMX+U9/9zPe+tafOSalUuXsW6/TataJpERlhgopkUkd0OPohCECGZNZgfbhgEKonC4Crj9kCL8XhfDhhjnQWYTUIDMQPqTQSNACYWKXyh4Q0rgPzlvfPelRx2YY78MgECgkkVAOyHWGERlKZgiRgXBJkMJRw4H5N4ExQGJQWCGIhEBIibWp8wHwz0oMUrpT/aTMENJpTqx1z4f6BMrRceE2g/EaCeElv+MM8fH1Pw/0L9sT4f48wH9VfSdhS+kUOqdiMdZgpEvTmOG4LZvbRj3QB2Avq/1ykBel3/PWlFpQIvjz3+Vts6XGeoKqLSTareJKSQ0ayuZSqSCy0DCCCoDyIO8noioUVRlhtUXrDG1N/qj2mDcFJl4FVO6nwlKLFFUpETabkfw0glQIMiQZIcLQtc1KWSQPMqWxojSuRpckeMc8FM954pCrHQN4lBisEL6TmzWcSUN5xkQKSI0lzecgjG3JA798lcP3SsTUf1l6RhAhiJC5ZGeFIUOjMcVUh8UYmBY/Pi60xgG98kq4SEhiqTDCMLaCNJdADRURU5ERmYFE+OzUvg+OOQ1tL9abwLsj+FfnZUrdVkBEUMaFoVEgFZkxZMY5ox7zS8iBUIPRbu9IhZUGTOaSRJWYkH+XqyzFlxtb1vDk++s4kSnseifU4X8WqWu+Xr++CuDdi60vW37/vK3Vvd99O8vEBOcrEfxm/Lg7xYqXd4XP/mFTotiystokMhusri1QrSsm0xG7O7ts7Rww6E1JU0vseWeL27693ohnTw/Y3+uRTi3NhUXOnz3DlcuvsrnWoqISlJ0izQSrp6QmxVjQxGgq3j1FYpXxJganeVRoL3tqhHCmAas1dmoIudSNsBil0dKijUUb0NKgNSgUkYhYP3OWU2vnkJlEELs1XJGksXBcQ6aJbOrbmGI9DdRU0QgSI0m1ASKEkE49riRCBZnfh71J/N4LO8/RCisyrEjQxpKmGpFFiMSp3ZVVjoZFBhGXtZUhKa+bH4v2c+b2txIKYQ1Ga4zwFFZmjukQOhgcyLRAa0lmfH42IbAqQkZO3S6FclpdnTkpXlmk0Cgc02CsIUsNlgqWCto43t14h00hrR8LibUZ1jrtSxE/P79Wj++Dlx0fWy5TDpE7SQMwX8+MFB+2tX8sB3k8l4MUOU1Snvtx+CG8x/2JrTrh3twvM6qEQHFPAvjys6JUXEIUqLSYLes/yggiI7i0cZY/e/Uq59Y2cxFTeuZXeZWN8I5z1jonEGeKd3kBtBXutGZbkDOsj4KVlkiCMBppgoLI8bA6/wTlj29ibgAKfSv8NqUnSi7WMdi3gtgisdKrrD1DIIIJwqv0TLBVW+U5zdAig7DetuXVrpn19inCeixI5SzBDM0NoDYHBn4hh5qcw06wXOI5e982UX66FEDkx8HLa94M4gpHUqKkBGFJbebyM/g1ooQiEgptXX/K1sBi2djSnaK/MzhHyXPcOhWk8j8DbluvMdI2aHyK+mypXgfxjqm5t/2IG49us989IGfiviYQ/kmvlwF96UcO9DmzHEB21vmKmZ4D5P71pWVdqnteuPhKgM8p/QksB+SjfOKXovCyD0BswvqTft+Qj0WYvRBXpWJFpV5habnF1tYGu52Ybn9A9/CIztER/U6HeNnQjDXoFK2ntNs9njzb46A9grjB4uoaq2urrK+2aNYV0k6ZDDp0Bwc8f/qYB/fvc9TuoKVCi4iMChkVIEaICmfPnePV1y6xubHMYlPSqApSo0nThLuf3efep/eYDKfozFCp11hYX8RWFfvdIw4HXWfuloJXL1zk9VdeIxskbN9/RmevjTUQxVUufesKl96+SqUqiWJBMh0y7B/R3t3m4f2HvHi+Q0ZEhiKzMZmNEMQoYtbWVrl0+RXOXTjFwqKguRiR2RSbZaQixVY0VDUmS0n1hH6vw86LFzzbec6zneeIkaGaKGIdoWzM0vIKr759lQtXX4WKQFYVWsvcQimlREkB0mKF9qF7FqEskbIoZRAiYzwZcNA+YP/AhTI+e7qDthW0iR1I25jFpTXOXHyFrbPn2FhbZW11xeVGEBrhTQNJMmY07HJ0uM+9ew949PAJRiisUGQmJjMVrK0iqLG8usEb336Ly1dfJ44NcSRdsqSCopdW88n7/uswvPOhcmVAf/kRtH7vzt2fAXmk9CEZzlYRSTzIu0+GA8Rit5wsCcy+lZPL5FzHXJkZAlTqjBDObh3YaV0MZWhGpAVVI7m0eY6//9Ff890rb2Nx9qfICmKkhx6X4jBInw4yDU5JZHAOFo59DwAYkls4z1IdZIzcRgU+f7UH/CJ3sfDpMF1NYeK9VQ3p5ddAlkJMp0DMOJFr/2S5xWBxGQ2cPC2tyolZnoiDgtgHf0JRqqVo2TzI21yqnQ8lKViAMD7Sy8BFVqoiOxal1pZhPZQjvxPaI/2oCGF9rHZIZwohzK7Iw3X8KliXYjHN8Fi+xvJ2EDO9CGWlMz3MAXx5TDyMkKBJMfzjtV/x/Gif/faBb4iclf7/Pa9cxy3m9hXH/7DFM7lPtbXFKInZuS9eMTsmdt5E99WNnHm+xF66ps8UKwO9Wz2FLbSUC82GACiRC/TlivLQQGmJYkm1VmV5ucXW1ib98ZC9/QG9wyM6h0f0ul1a9QjZFNgsQacJnXaPJ0/32G8PkZU6rdX1HOQrFYm0U8aDLke7O9z46Dr/8vNf8ODxI7QSZFIwpUJCTKSrKFPhz3/4Q372t39DpC4TRwvUqhWMzUiSMTc/vcE//td/pLPfJR1ntNaWOXP5ArJZ4fbD+9x/9gSrFCjF//aTv4SfKYaHPa796j0e3LpHlmTUGw3+4f/+P9m6uIWUNaI4IpkO6Rztc/vWF/zzP/2Sa9eukwIZAm2rGKpIKsRUeP3y6/z13/2Meq2KVE2arQbaJKQ6JSPFVjVUMqxJSfWYXq/Nzovn/Pa93/Due79Bd6dUJ5JYx8RUOX/xEv/FCjbOXURaQRQptJFo4+imlAKpBAjrpXoDwiClRSmLkgaJZjIe8Oz5Mz67dYvfv/cR7//uQ7SNMJ55kqLK2QuX+MFP/hPvfM8QScnK8rITgIRBSI0QGcl0xOHRAXfu3uHn//MX/OoX/+qsKkqQmiqZrmJtHUWdi69e5v8ygjPnL7LQFFQr3rEzMMbCOVvkEd7fQIM3L8F/mUSfr+ovYRxKIO8+BrwK21WqvERjRXDaDq2fA+Uvu76yTJkCFeDoW1/YqLElrLEF4fE2YoFAWkFVVWk1Wqy3Vr1FxniVcqGNKADTMTXOWcTmLEAhowVCEqDKfQRipq1l6Cp6VCRHKMNJcceWoKVs8Z2XQ4uRKX8TGAN3FZ6fQfsQCGBRc5Ffe7aWQvItj/4sMM63pujj7Fgx9+7iY/LnCpCXpTHB98iNiM8JbYseWRGsqgWMF6M63/bjqCZKfxVaKetHJg+SycsW/PmMNb7Ue0PIwpVgSTEs1xaIhXLLRJUTI30FQ/zvcZ30+rCXsB7g818pwb0DfOG33Z+6WTktEaUfFuwJbxJFO52fhWtQiCHPHb1EsaaCvRYCk+v6gpSIOCKuVVlaW+Xs+XPst/eQzw9Jp1PGgx6TQQc7qRFnMeNhj/GgR7fdod0ZkdqI1ZVNVrbO0FxapFIRWDNhOpzy+NEDbn1yk09ufMazZy84PGijY5d1bmoViY2IdY1Y13h69yHXF66hpyPs916n2thCWE0mNaN0TK/fodM9ZDKc0E/6DEWCrVV4tr/DUbuLiCJEFJFMUqSNEKlk2k4Y7o1I0inZYsp0NAabkmZgJrC984w7N6/z2cc3efDoMQeHRyQSEgmWCsZWiWyFqq3y4kmNmx/eAJPx9vdfp7F8ycWpxxIRC0SkQSVYMWE0tjy4d4+x1Ny784DD3Q52OKE6NcRaoagiVcRH165jRI0rb7zClauvEEmFDU521jPhCohx5gmbONogp/T7B7QPnvP4ySNu3r7Dp7fucufhY/Y6/dxsK4VCiBgl4YubC2RJyqhzRDoacGqjxqnNOkanTLIxO3s7fPLZ51y//gm37z9h96DnnPMlZKaCthWsHaGoEVfq3Lh5g+bKAldeP8vVy+eIIxcl4BS2Abe+WvL+JlcA/JOulznfRTN/Sbehg3pSCIGSAiudXCattxl/lWTypV8flwZmHwqA7ss4rmMW5PMrgK7KpRVhJcI69bFCUcFJ8BE4D1IXtZoTLyeNlUFPesl5HjicLFqAcikXtC/jZH9BGdpNDqtlcAfyt5L/Hd5UZinwQKhKYxS+K1I9FOMV3unuFKDv3iC9Na0M8KGeAv5zu3TennAdB6wC6MutKEC6DLWm1PvQ4+LJok7XhjAvAmyQqJ1zY/BnLd42z5blEPDSK7hgFXXMSvGzIF+M4QmueflHIomtCD5RFMlzTFHpfwTQlzd9eW8VN4rfbGlmbel7Ua7nTw3zpWrDO/P3lemFn4mSJ37+kAU7H6YqCr2RFM5Ob70A42y1CiFjVK3G0toaZ85f5PFzTRT30FnKZNRnMujAdJEorZD22nQP9ukedegNJljVoLW+xdrpMzRbTaQyTKcjpqMu9+/c4d13f8uTB4/ptnuFaw8WrPbROTHSWPafbvPhYEoyGbK82WD93CpxZDARGGUR0mJFhhYT+qOE7tOELIoZ6wQhFEpFqCiiWqnRrC1gZUY9bVAdV7FWo7RytEkaUj1hPJ7y6Nkj3rv2e764/imHu223rxSksRt3azOUVqAN3Xabmx9cp3t4QGURzl09Tb0iqVUiZEUilAaZYMWI4XDA7c9vcffJNr3JAD2FyAikdXZ0A7S7h3z4/oc8fXLEf/k//pazWxepNxRWupTAuSZGWaiAkRmZnWLQCKZ0Ott8/vkNbn72KR/fuscXD54yGKSkUYUocxEDwmoEKYPODrc/tRzuHjJsH5IMO3z7OxfZXHsFIxJG4x7Ptp9x7aMb/O796+xtH5JScVZeDRZFOObVYugNOty8+TG9aQ+T/ZSLZ9eR9QgRlQPPZrVRfwzQfx3V/rGjZ/O3u3fOgHzuVR9CNAR5GI2jT9aB/Et8tQqpQJQIQvlnmXCUy1D6br4+U5Szcxs+l+aDNOskpwCTCksMVGxQ8jo4kCIok03+VBlsnMKlyIFUBiAn8alcogwAEIiJgjwdpIXcHl6SKwBKdZeGKG95UP27OpQ1qFKCFSPCu0VBg0UBow68ZGkk3FuVV4PnYRcUwlIhXc+CfNm6XQb4Mps0e7laJGW5ODAUduapMO525tkA2tYxbEYWII/IcxGFVgSAL6vaZ5dmedsVbQn6mHKpwnUwgPw8SxNgvQD8MlPhFXXhJaX9QHHv3wgfv/Iqd6J8L//upH1aYgbn2h7+/KNZFlGswYDtM5OAa5uYm8FjjOYxYlis/rwX1npJ3u8vIbEoiGIWWstsnTnL8mqbau0ZWTame7RLe2+VZPMUMl1i0G2z/fw57XaHyVTTXGmysnmGtdNnqS8uICOQ3pFrYaHB5sYmkYg4f/4C2mpMbNESUu18iDsvRnRejEhHU/ZGO7w4vcJhu01/MqJRj1AKT4MtQnijnVJU63UWl5Y5t7pEY3kRFUmkUly5/Dpryyvo3QkxEUp7w1c+wAakkzhrjRora2ucu3iB01vnyDJLEgumMVjtpOrh/ojesz7T3oSj/UOkhP39Q3qjIcgalVrN+zy5ttmQ1c+CJObs6fNcWVmkaqdUkyGjbp/9/S7dXsrhwR79geXZk232d3tU1yyNhZJRTOByTyiw3javsynT6YDD/V3u37vDndt3eLF9wHiq2dg6y9W3T1M1CRWTOoHUWgaDlN3dIXs7z3lQjxEmYXVFcPnyOlJmDEYDDo+OePr0Oc+fvkBnkoXWEhvr62xurCOjCkZEuOioClGlRq21SGu5RbVWw6nmhc/dT55P49hq/AZA/3W98cspbovVX2yfIoTOEz5tXXygFriNICnUZwFYjzPXoQXMgPcxCcL/YufLzDMEeHD378mPiQrU3T8T4sNCshkRQEkjhUaSIa1P3YiT8HPH3RwevCcjjkwLEaJOj0NPAQUql6Sd414RXSj8IhcWhBQFcxSMBKIsDfpxCKrGcD+YcYVwvgBaI3TqF70MPug5k4G1SDRSZHmrvY+u70nBoKh8+AJFDSEwbvy9L3/OtsyS08J0EeTgsud9KBPeNeOILkJ98+MaQD9Ahvv40GKE9gd+kCtrMKqQsgNjFYUZ8uM2/44CpYtWl7UwhSQ/C/QFUzILfkEFHBJjZjOAUlqngTkLCPbHoOKfikHIJ9TO7r85AlLesiGrXM40+kdngw1m/Rxmmv41Cdyshr5UX0jidKyNzsE0T3ULYZsVK9hqtI9aCeeMW+EMeRkKYSPqzRabpwxLq0+pNiOSbMD+7hN2n1YZX6hgszqddpvHT59y2O6Saag1W6xtnWX99FkaCwuoSFCrxVREnT9759ucPXWWySRxoboYTGQwwqIzQTq1vP/L6/zuFzc46nQZZwlJmjIYj+iPhqi4Qb0qvTbCEk60W2y12Lr8OmcvX+XVq69z7rVXCDbmM60NTq9s0H90QCTLu9itR2Mt1TimWo95/crrrDQWGHUGhDPRs0iQRhKTCnQm+OLaHX7/zx/wdPSMRCdkVjNKpnQHA+JY0GjEZNadgObAR1KtVjl1/iJbr73Bq1de5dLlV2nIhGra4+Hdu7z32w/54tYTRiOBNhndbo+nz17QEHVWqn5PC+F8w4JCRjphKU2nDNMuB3u7PHn4mJ0Xu2Bizmyd58//4id8/wc/oSZTatJJ8mjLo4cvePfXH/HF5w842N9jMhpy6fV1Ot3XiGLo9Yf0+yPGgyF6mlBvLrHYWuNHP/4hP/zRX1BrLmJVjJUVjIhBxagoplqpcmFrnVqtgVLO7dppQEqb5hvu15NC5U66yqr7cCTtSVcphM4tgpCz3uJBnhJBLAHSDPc/47p/AtDPEJRQcJ7ilb/znxAzGzLdhcbY0vfS5Db7IMUaErAJOhnR7/fpDIdkCaSpxQiFlhFEESKOqdWqtJp1mrWKB+kQf2tIphMmozGTyZTJNCNNDZYYS4xREVbF1JoNGotNqpWYaG4upPUTkXsBBBCZ55Ac8QwJ98Lw5E591oDNPHMkgdgNi5WlTFQaaVN6vR79Xp9pJkhslajaYHFpiWazQcA/4edJELjOMiNQlqeL+S8DX044SvM3y6YJH3M+K/rZUMEJV8FmWMKhGdPhlP5hm1E/zZmz2lqL+loLETkTjQv+CMeGFnia5x46/qL8ZpmtCI53ZU1AkOZn+2h9/wIvETQXsy6F5PNmi8r+o68yuAMlNc6xrZj3NTji5eNWDOA86fnG/EvIKXFigw1FWJy3pQfuwoZYcQ/wojxHOOcqQZFoLfelcRK8xWJMBMTUGy3W1iqsriyz2KrSbvfpHjxj/0XEsHeKNF3nqH3EwyfPOOr2MVJRb7VYObXF6uYpqg0XPx3FCimrXHzlPK9efI3gdTJJJvSHXUajETqBdGJ4tPKCWlxDigHWQpplTJIpo+mEhq5Qo+LInPHr0yoWmi3OXbjIW+98h7e+9w5XvvUmwiQImxJNDNHYUolknuAvrE58IhkVKSq1iK0zpzm/seVU6UJijaUzHtEZjUinlnRqaT/q0Kg18hBVbS1JljJOpkzTOqm2PupXgFFIG1OpLnDm7AXeeucd3vrOG7z17TdZjCZUsy5ry3W2t1+wvXtAZmA0TukNeuzs7rG1vIw+teBTg3hDqMcO6WPydZoxToZ0j9rs7+xztNdGLqyxsNJgfW2DixdfoRZnVFXqGD9jmaSWhVYTi6HTaXN0eMju3gHdwYhaLWKaaNJUYxKNyDJiIWjUKqyvr3DhlfM0WkvYqIJVFYyoIKM6jXqTRq1BQwmiCITN/HotTkLkZUv6T3yVgT54159ok3c03/pEOC720aVWdCFXqYUUWzi027zGE5ziXvPnw3EAACAASURBVAbwFPfySua+m8mqZsBqHxeuCo/6XCoKMXHegm41mU+8kJoRhjG97i73r1/n8WdfcLTf5+hgQEqVlDrV5RWa6+tcuHSe77/zBm+8dt5z/QZLCiLlYO8xj+7c5dHDpzx5vs/uQd/FuVKl2lyl2lzlje+8wXd/+B22Tq35g/mCX34A7ADr8zb4MBmW8iEgAVgcX+z9ylXoL7jc0RJDVKKNFkwKZsSt6x/w+9++z14noZ/W2br4Gj/8y5/w5ttvUvdh90rY/BDBmSxz5ZVZCjnKpyf/3zruf0ZiLvtGz85wXqZA1PwddqakzecAbdl9+oLf/8tH3L5x39nhI8V3f/Yj3vmrH9JcWkBVimM+59H7mNtIuRP2ONdbguZj9/P//ZQFrYLL8RO0O0GbE9Ko+k/wrv9TeNj/wVXYE38t9mixBnN4tKUHytv3j2x/WeKY/SIMJBSjP88YeSD3XsxOhijisstq+ZwH8NKrxEdHWHzGs8jHNTtbq7YaYQyVSsRyq87GyhJn1xbQow7JYJf2vqTXu0p/NOHFQYe7T7Y5HBnEQoPG2gqt9RUWlltEcYLWqVsbSvolrF07Dezv7fLhBx9w+9ZdsoklGVnu39vmsNtmkqZoE1a/xfqEN3nyOw1CxyjqNKpLrK2eYm39FLV6A22NTwObIXzkj8uGoQkutc7M5fwPIML6nBuR8gCgLYPegJsf3+D3168zGmZMhhnbj/d5/uIF0yxxeSKEX+/S+y0ZMJlCZFVkVieyEY3KCltb53n96lVWN9cQFQsyIxIZC4uKra0lzpxZZTIdMhhnjJIh7cEh47SCUA0XHmdTyBJEokFZZCqIjILMko4TknFGOjYkoxSddpmmT3jv17/m0bMXLpWwSAj0oH3Q5+HdZwyGQ7Q2CCTjxDIYgYorxHGLRn2JZr1BLVLoyYDOzjPe/+2veLrzCFltYKMKUEXaGisrp3jzW9/h6ptvs9ZqUF1qglBO4ypKDApujZbX+9dV2b/Mu/6r99csNQ3XjLpeB69VLyFZHMhnFpJ8U/lqcoAvffI3iBPunQD0M+r8MoC7Frl0T7jNnclCrAoERxqQ2gEcqYtRN4LUjrF2wqC3xxc3P+C3//T/8eT+Lk8e7DC1C0xZZOH0OdYvvcr3f/Q9Tp1a5/XXziNw9m9EimXC0cEzbt18n2vvf8xHN+9z59Euqa2TiTpLqxdorZ7n76YZ566+yuqpNXzGZISPxbczxEWELeylVbeDS5F2nkCFEDxK31lEZNBaY7RX/QnlEmgIz1SYDJuOufvpDf7x//1/uP+8z+FkgTe+/2NWTl/k4uU3URFUfRpmmZ8MJWaALP+1hJnlRSPAxbOXiuWS0wkLrJjfk79066z8ZFhbmoMXu7z383/lF//910yx2EqMqde4+N1vEzUaVCNJpMJac0CUaw9O4jbC2vSvE3NdPukSc78J74STC/H56AU3QUGeaCLkR/iPCKGbJwplLJ9ZXOXvPdM5A/AvmbgTri+d/698cv4qMfwl8C8cIPMgOWa8J/IGCD/H3mykLSjl8toLz0pbMEYjrKVaEUQVwcbyEmfXW/QPBNs7+3QOMjqdI476I17sd7j/dJdULRG1NljYcCDfbC2gZA+tJ0jpmPHUJCSpwWYWa+D58+e89+57/Osvf0MysiRjS0YVTc1nyXQMoQsUKkXHGHy2uIjISmqVFsvLG6yubVCp1zFYlHCmOsKHlMJtF1zKWwfyFukSvFhDqg020ZhpRmfvkJsffMx//6//jUE/YdBPQEdE1IAod1ZESUSksEKiNVgtEVkFpesoE1OLW2xunOGVS5eoLylE7FTZSmY0m4qNzUW2tpbZ2UvRe33GyYjuqMMkXUJIg5IWQQY6hVQ7VX0mUEZiU0s6TUknGenUkowyEvokvSHb+4ckH36MZYpl6p2wFFJHqCRGpjECiYpiJomhPzY0mjGNao2F5jLLi0u0mnWGgyG9bpvd9ja/+fh3aBmhZQVpa8S6zrkzrzEZZSwurhGd3WSp2SSKXOY/5yzs9J4vy/jwhwB9+efLrpkQVuv/nnt1lG8eSy7JC+niyRNrmGLIjF8uIa1sANucaJyABic36WSAz4E9VOhtbKL8TLBpiyI0yVqX1sgzCFKAiIQDMJGB527DKVC+p1hctrtpMmU8nTJONNPMJQOKZQxMwWqy6ZhRr8O41yObJJCJ4iASFMLGGBORGZdiVbvsjbngJnDZkGRQPZXnS8xGovst7frh50kYzxX6s5y3Xzzj6eMnZLZBpblFa2mdjfUlVhZrWKsRJkXYFGETRzaEs91bK3LTcH7WytegxiEbXdl/38XdF4RflFT9FPJsEcrECSTcUjTAdZRAqIOToHOQVMRUiKmSkaGDi51P9xucE5G2JCwHUPiSzVHCja/ebpQYFDdwM853trSdw4Ysm7Vm4sZfMiB/Kh4gx8I/oMKcGXftFJbibAdvegtrOYQIlXIbntiEPzlLU6pQ5O0qPvPMSPCusOAO+bDS2ah9ukODSzxlrMsSJ1SFkGlyfXWJt668QjrqMWgfMeyOuX//CaLa5OHjHXr9lPULq5y+9BavvPYqreUmKvInzRlNMhkzSQbcunOfW7fvMeiN0Ilh7/ku927fIxlPyDKF8V4/3j3XRWaomEatzkKjSaUSl/jEUsyOEAipEDJCiIjiyO+QKc/HgFNoN/D9tVaTJC7b36MXz3l66y7tF/uYSUK/3efTz79g3B+gpxZlw5NO2LJKoiqSSq1Co9mkUqkipRNrnLznkgWHBFhKKpcnPrTOQPD8nnHBFdZl8bMaYzTWFfTrzLvTWuHPtTFOyCkJnIHiSO2MjkYKrIxwqhSDNRpro/ytWMt4MqHb6bGytMhaa5GL5y/y0x//mJVmjc8//4xbd26TYpDWurPBhMVal2633zvk0xsfkqRTvv+976LEd1lqNVloVolj5fdJOW7nm19fF+CP5a+f24Fzuesd2Lv8vpBYzdQGaTMQrvInDHO53hKQU7o327qTf8/LemqThxkHq7BXf0pvfQ0g7xeWkAKXF8J61VXqFn7wKvC6PIshMwXITxLDJIM4Ui5WzQoH8smYcb/DuN8lmyQI7d7hpIEIbIw1itT4fPcWYrxVwUAkrc+GFJx+cACV83khPj7IgP6n8CWMdX2Xrv3Pnz/j2vvvk9oFWutXOHM+pVKJWV50oTJCu5zMkhSJcSkcUVjjsklhHcgXBPprcJS2wC5R+hRzGghQCDgsEtUEhuXYMgh67/yG8RujFKgmBIKIiAoVqiS4zN75wSP+EA0EM293N18W/jHT7KKPJ3wdmpnfzJ8LHNIs0BdSvQgicPGZscvb2Zd8SbuO3fuqMse2kj1eLvRh/p4trzmbE47cnCMKo1OYcXviS/94oD+RAfVjamfGtNCKBZONwHGlIYbeGvL0q9YKjLb+9DYX2yxl5NIX2xRrDGurS7x99VWG7UPu37rHs50D7t17QntiePhom14/4eLiKpffepNXXr9Ea7lJFFuUNpBlTMcjJoMO1z/+mP/xP/+J3ReHpGONmaSIJMVmLmWqoZL7PgU/gVjFNOoNFpoNKpXIhYGJgi5YT/+EjJAqdu0W0s+dKQBe2NyBuCTWOJBPUybJmNu37/Av/+MfufvJF2SjBD1OSVP3wVZQNvb+8horBTISyIqgWq/SbDapRDFSendXaz3T5EDeyWEuiqk4RS0sLTu37EIOeIPRGdZ4d2ExYwTLpVRjDNaYwmwG3jnZC0WRdGe8W8BkhFThwXBhMUwmE9rdLmeTTWq1OqsXLrJWjzmzvkSSDHn45C7TDOfwnAs0GmNSet0jPrn+IU+ePEIJy9bWGeAUlWqVKFIuO1/OBP8Re+AEgH+pyas8mnPjCzPqehd/nHruMcOFatmyWs8ym2kuB34KIhcIXJlAuhZ+ze6FZ4TXGPi6ytx7rg2QYD3X5tVvrngBmsFXXgpBJGFpqcna0iZZtcFED+n324wmE5IMEilIfaCZsIrpJKPb6TOdJKwsL0Flhc7E0kncIsbik2qQn9lihI+Xl+SMRuG6KFx78ZuTws1vll8vDm5I0jHPnt7l6dO7fPzxTT766CaNpXO8Gp1m/bQhNY7bFEKCUhjpP8Klyg3OX7k0Vpora738HPgnymVCtrzjiXJs/rvwfQjhaMeVVMHkWkysZ1yE5zryEMiC5BncYGobJJ6CvRBWgJEII0qSu5c2cgZRIYjy52wgNGXtgiX3S8iXHMUGCf07eTuVYaxcQhZMqfF9DLHb8NV74CR+90Tw/vJqCiaj1D4R3l/utM2nJKwJKUQRGeEBX+B/z53gAr8y25D5LX9i0+bUlTNN/bL+BQKXf12aoUCITZhjv5iDP4xnYIre23xRhm4KHDA2mjU2T62yeWqZ1nId9gx7+x2OxpLDwwmCOouLK5w+vcXG+hKNqiBiSmQTpJ4w7nU43NvmYH+fg6MOibG01tZZX1rhzPoqKwuLJFNIJpbHj/d59PCAaZL5CB3r026Ho3J9P4Uosl8GwDQ271/hMDrL/VlCsGiGtBmKlNGgz+HwkN29PXaOunSnmpXFFVZOtzi1tsrm+ipZ6rTlz7cPePj4Be3+AHy8fjgbzPHaBpTGRik2mmJMwjQdsL+3zaN799k8u8ZmZc2ZCXSF8Rj2Dgbs7HYYjqZIIalVarQWWjRqdZSMCHlIBOoYE6miiKheo1KvENckqirRRNSrTV6/eIWzr1wmqgmiKk5osBqMQJiqOxxHCKRUXH3zMpcvXWBzfZlGPaKmIFpb5sKlV/nhT/+S+vIyIwtDY9FCopEMukMOXxxwtNeh0x0w6h3S67Zp93q0VpdZMpZKHnEz53T8FXvgq8p8rXMf8lnn2L4sjpoVkAp3yIqgOKwlp/55QU8dRWnVYfHsM8eBvgz4X9LY/LtCVizqoqjrZSDvCas1gZp7qdKfKS2lIFawvL7I6itnaCeGx/tH9PqHjCYTphlUI3cYSmQVETHJVNNpD0imKetrG6xutXiy22NyMEBJSR6L4F27TWlfSiwIDSTYPJu9KpyCvDQamKuixcYnjkhBZiRpl9tf3ODXv/g5t+4+4da9J5y/JFg/P8UldxRkCKSUSBVhVYSWMUakXi3pbI4h2rAsJRlC/ncCLXH52y3O8VKEdoc5DlcAcxfIG9oxs1ZKs1kAjH+r9XG1jv2mCOD0B2D4U5+0VWhb5AQQfs6FEV6lLHwv3OldgXEQIsB9OFDDzU0gkFh3DEI4tCYssHKynkKGmBP5S0vTPVbuc5CQPSNj9dy6/gNBfv5eSPKS74ESgOf3/ftnHA7EHMCLAtxNMbfF8bJufPOjlD0jZY11zJ8oFPblPX1SCF3e+zkHpFLjZn9+1RhQcposj7v1rGfez1nYc2Gy1t+zpalykn1ggmv1KtX1JVY3WrSWa8jIsn/YZbibklqFkk0WF5Y5tbnO2uoC9aolZkpsp4hswrh3xP72CzrtNqNJQn1xhYuXr/DW1Tf47ttXeeXsaYbdCf2jEb/6+TWOtn9PJxmQ+R1EaLWF3Awqy0BfDlnDq7RFTvOKBFj4PaVxyWpTIpswGXQ52N3m4OCI7jjBVptsXrjEm6+9zjtvX+Wdt64yGU0YDydc+/11RuN3GYyHmNzp18+y8D5TKsVWEkw8xWYTpkmXnRdPufPZF0j5Bhvr64i4ArbOaAQ7u32evThkMLBIUaVeq7PcWqZZaxLLyBkurAubBc/6CzcGUSUmlnVqzSqVuiSqSbStUF9e47s/+Av+97/5B5rNmGZTuVO7rcZl0KsQ5FkpBYsLNVqLNeq1iHpFEglLLBqcis/yk+Vlvv3nf0EiJFOh8mCu50+f8OnH1/n808+5d+cxuzttJpMRnX6ftcmUxFq0z0MircSKYj5Pur4MuF8G7vP568t7Kv/9hHqjfFlJ71Bh3QErWVCBzW0wl9bH/wzZ72bijAIAU/ppT3x5XsiWCpeJ4oytf5bguPsCrJrBfovxDv/e5i0UQiifCQ8WF+qcOb2K6A15uj9hNOzQ6bQ5POqiVmo0azWySQqjIb2jEd3OhDSBxYVFaktrtEcZUXuIVICyLlEDOZuDs9Y7SXzUazMaHNA5POLo8IjpJHNDbiMXcxnVWFrfYGl9ncWFJgsLdSqRC4ebjPvs7T7n6eP73PzoY25++AlPd4/Y2esgq9s8uHWXimowGrQ5OtjgwnrM+bUIY4U/xzlIOC6UZDwY8+DpCyadF+gsQeuEjAgtKiy0ltk4fYrV1WUa1Yh6JcIGbYKXsqeTMcPBgG63x8FRh3anTzi7zViJsZJ6s8nS8pL7LLVYWGwW5NYbe12dmuGox8H+DkftA8ajMaPx2B/goWg1V1hd2uTgsM14muQgHwh0rpoEdJYwmA6Y9tvs7e5wsL+PQWGtwooIS+TGXEQ0GoucPnOGzc1NiEBF5JqNEpTlMuLLt2FpjZYlx7Am8zV9bAO9/Crvl3l+QLzsu1Lj81ulPTUjLfj1EJiA/GfBmboMl6pQtYL3dfAIKL06ME8n/TJItzN/8VXewSUVyww/+NLyYUzE7D3IZy/0KwBmiA6YcQXxv+QzJVwIXKSqLLYWWFlfobW8RG/PMOgn1BaWWWwts7S0zHJrgcV6haoyRKRE3ilEpynj4YhkkqATQxJnDKcJneGQ3fYRcUUx7o4ZdUb0R120cQmRHXin6DQhnSZUZQWvX/Bx/UU7nXZCOCZMl4ifKebHCI2R7qRKiUV6xlOnCdPxhOlkSppmJJlhNEno9cccHHbZ2d1nOh4zGY3p9jpkqfNPco9rdJqQTBMqAmwksdJgI41VGVakTKdDdp4/Qd5YYDwa0D1q06xkVO2Iu3dv8+jRDp3uhMw2qC0usLK2xpkzp1larqNUYPBFPh8i92aGOK7QqC6wtLLC+uY6K3sHHPYtSWboD4bs7x8wHkjGdYEUeDOAwogqiApxJaJSiVloxDRqFSSa8ajPoNvhYHeffrfnzYCSVEakMpxfYjncP2DQa5NOBlg9RUqXS19KJ0B6+0Kx/78U4r9ieX8NSf8PuSIgt6FU4oiRUWitnae9d0bxVBr80ZvF5VeeMPkiy3fOjMQ904O53TUH9DPEbm4TBwlJlBkA4bg+6wYnSH4mP7nNAb21EqOhUa2wsbrIxKRUZEYy7nG4v8eLF9vU4g3WV2uM+iPGewcc7nbpdTLSRFGr1VhqNajVIjfByiAi6yR4r42XEmJhXaock3C0t8uzh3f49Man3PzoUw4POzg3PEVGjKot8J0//yHf+f5fcPHVs1y4sEXskafbaXPjg/f54P3fcuvTuzx9sMPReMo01ext73F9co0XD7fZOH+KV187w1//+ApnfnTFzVnwlvM+OUYbeu0eH//2PW68/y9MRn3GwwFG1LBykVcvv8GP/vKnvP3OW2ysNalVlZeGi/DEYb/D00ePuXPnHteuf8ont+7iDmeNXXYaLTlz9hxX3rzKlbeucvXNyzQWm/nUKWFQ0p1FjdV0Ovt8fO0aN69fZ2dnn92dAxIlSJXgyuW3+P63f8Bkb0qvPywl9XG1CekcKgWWZDpmcHTAs4f3eO9ff8O1318jM04jY0UMIkaJGpGoc+H8Jf76b/+GpZ9uomruxOKyAJxrYmYW4vxmK0mBc5J0kBQLpjRfyKWfc9WfdM1/V25KeZ+Umzbv55KHm5XaGMDUuBDFcDRzqF9IiVKKKIpyoJc2dNnm5hFjilyBM7yNBYSd2ZrH2nasrx62Qq7vLxmW42MyV9rOMmYzLI4tsR62YOHKxigLIJ3DV71RZ31zg41TpzgaDpC9hMZCi5WNLZaXl1loVKnFklhkKAyxEogoRkoHVNbnX+62e9y9/4Ddg30+/+w6C9UYM9GYseZwd0BvOsDp3ARaJznA1pVCRBGYYFYrzqlQUhIJ6chu5g9wsRarvUMhGqMyrNJO2MYfmOJPzSybY0aDAY8fPqG72+bh7du8v9TEZAk6S2gf9dnf66Cz1LcvJZlMGPeHVAWYSuzlLItVBis1yXTE9rOntLtTHj64y+/eW6QiM2Km9LodXuweMB4b4kaNhbU1Tp05xSuvnmdtySDjEdqGjKsGoUDEEqmckBBXKjSrLdY2Njl/8SJ77T79RwfsHHT58NqHPHuyQ1WlVJXT6jmyHGFlHRk1aC42abUW+OkPv0frR99DiJTBoM39O3e49t4H3Ltzz5mond6DVEQgBULBdDRg2Dlg2OsyGCbE1Qr1eoXFZoN6rUIcC+cqVg5C+ze6/lAGILfJSymJlEIIL2t5rrBwesMHWatC7xm8sgJBCRuvLG2U1QEzUsbc3+Fnwf7Psdtlohm868Mt4Te4KFVTOILhVcDWQqNW5dTqEqN0SiMWJOmEbqfN3v4+m+sNNOuMRhPa+1267SHjYQYiptVaZGNjicbzbRBTkBlERV+FsUTCIvSU0ajLuHvE/du3+PzmTT743cdce+8j9vcPMFinYhcVonqLwdiS6SrT8YRYCsxGi9aCYDwe8eTxIz67cYNnj/c52usxxB2J2+/0mBw+4GC7TWtnm073kLcvLmH16wVj5tXF4+GA7afPqMmIa++/z29+8c+MB33G/T5WNEEusb3dpd5YptFYJBJnWFquOe5fWCajIaNBj6ePHnLr5md8fP0Tfv37j7h283MQMULESC2QWnD+4kX2jw7oj4cgBapSpbXYpNVqItBIkTAZ9eh329y/+wUff/ghv3v3fZ492+XZ8z3SyJJGhr0XB9iRoZLUOOgckpCRBqul0AiZYO0EraHbPeLJg4d8dv0TfvOv7/PuL98lsYYEixURiAqRaFBlgdcv7bG+doatrfOc3mpR2WqhVBEuGlbXy6/jLMDsdQJDMIvQJ5T5BtfLgH5mT5QA/qTnQ36L0n5zNksnmeQOX4G5LikobMhGOcfk2FKFAfS/kt5Z4Rznvka3v/ZVHp7SEDiSc/xNhSRfaP/qjQU2T22xdbrHs93nSJnRWlri9LmzrK0u06zGVBVEWJ8XQyJUTLXWZHFplaWlFVaWlkjaPdr7B+zv7fLAZChhaUQ1GlGNiqyzsNpkOkkYjcakesx4NGLcH9Oq1BGyClbmfjthfJ3FOkjywURVsgRLg1Eao3ycPiHYUFGp1FlcWGJlaZm1pUW6e22GvQ693QOeC8dK16oxtVpEJapSrdWIKhUGyQiTJSTjMaPekEYcY+tNJ3kLgVUC68N2jElJkwFPH+3SHQ0QJkN5J0KDorawzOrmJudfe41zr5zl1NYqC/EYoadoIdBCYKRwrksqaO00URRRqTRYWzvFpdcv0xsldMeKo94zdraf8eThYyKmKDEFLMYKUFVEvEitucKZM2c4d/4sw/4Ynbm+ZtOUfq/PzvYL7t69Q7c3oD8YkoiIBOUyjCqJEpbYZtTiiNbyGuunznB66xTra0ssNmvEyptaTzRv/sdeOcgHtapj9H36x7CRczrlAV34xWXmOjLDuc/t8BmQPuHvouAsAcmJVS5SkHvK54/bgkGwJQkLnyjF2Fz1uFCvc2ptlWGasLLQpDMVTCdj2t0Ow8kpNDBONJ3BlNHE8diNZoWtM6ucfWWTxQd3MaaPYertUt7ebQxKJqTjIx7d+YwHtz7j+vU7XP/oNs+e7tAeGhKqWBKnOlRgyHh8/wHpCHp7BwwPurzx1kWuXN1ydk/lsvIhXLSDtM6WnA+DxR2baVxyGol0mZ50ik2nmKlk9+ljfv3z/8WNVounjz+l2+1g0oxg+7bGcLR/yKcf3yCSglrtB5y5sEasDFLB3vY2D774nFuffs4nNz7j1p2H7O4cIqlihcIqhfXxuZ3eNrduZwwmPY66A55v93jnz67ynXeuImWGZMLOiwd8+tGH3PzwEz75+DZPnuzTHSRk1JA2pWZTOtvbXH//t6isxtH+iB4JFohFBSunCDlGG0kyTnj67D7vvfc+H/3uYx492CXLKhiZgfJZqIQBozEmo3NwyEe//wCjNT/+yXdZXvoutVqEivAmwEAmZ6W82QVeBu3SkhUlJv5Pp2mbvV4mrc8Wevnz+bYQRVdyj0T3e37La/JskQcaxwiQl59VJNhv2G+f7fHrlPwadsw/5JlSE7xJQWD9UaW1xhKnTp/nzLkxzfsdhGqzut7itSvnObW5SjNWVKw7+1FYQWYk2ArL66d5La6zfTTioNOn/uAJz7f36A2maCGJazW2zp7n3JlzLNQaLNQaPH/6lHt37pCmQ8aDPqPukKyxhKpVEKiZlAZBbJFBXZ9ZZCSJZOTUx8qglEREFhNpUp0xJSMVEiOrLC1vUlloMZlk9A87VLRm+/EOB+M2VkRkMmZp8wznzp1hZbFFq16n3+ty595thv8/e+/9JFmS3Pl9Ip5IWVp1tZbTMz1aYbHgHha7dsDxQDPA7Gjkn0iz++Fo5A/8CSRPUCwWu1hx2FmsHNHTI1pUl66synwvgj9EeES8l1nVYnoWAxijLbtSxAvp4V93Dw+P8SEnB0ccbB8w1xlghmAq7bfGMlSW05/vcO3mVc5fvsqvf/sbfvXbbSbHtbP2qZwsK1hYWuL1N17lnW//CbduXqHXy3zgL4XRGeQdVF5iKwuMgbE7FmwAq1leXOPVO29Rdueosz42z/ni3pd88emX/vpY6+k2J8t69PqLrG1c4t13/oj33n+fW9cuMDdcRXNCJ9e8dOMW9ckxS0tDfvbTX/CLX/wa/B32Vucy4ihV0p1f4ZXX3+bNN9/lzutvc+3yJv1Bjw4WXU8CyH8dLODJQXHUTJ6QN7O4DNb4YyazCtHaAbxNgPXUJKjbAvZmwOv4m2092kTy+DfltemzNrLpxKbqo1+6gR90O6wuLbB/PGJxbsioPuH4eMT2zg5HJ8fUwNFJxc7eMUfHFVYp+oMOaxtLbF5YYTjMMOYQF3DBG5KtJbM1mT3h+HCLT373C374//wnfvrzT/nJzz/FmJyiGNBb6IE6bczW5QAAIABJREFUdqbmvEDpgscPH3L/4y1OdkdM9ifktubcxhxZmVH2+vTn5un0dsmznKKunalUZ+Rll96gz2DQY9DvUZaF08KwLjBONcaMM7buf8nu1jZ5lpHlx+hcU+Y9sl7GZJxzcqLYfbzNr3/xjyhruHH7AieTV1G2JlOGB198yT/8/U/4yd/9lH/4r7/m3pdbmO6Q+eEKttDYQpOZY7L6iMnkgLufPubB1iMebZ3w4MGE/rDPrVeuo/ITMnXEgy8+5id/+1/40Q9+zocf7/HFgxN00aM3XKXMT+gUJ3B8zKe//y31JGcy6VLTIcN53ho1RuljqrpmNDnii88/4ad//zN++IOfcnI0Adun0zX0+wZ3qUROVncoqh7KGO5+/BFVPeHixTXeffcN8jJPFuTTLM1WnoQ0G/Flvi6gh+Z6moog5/+bFelHNH/ZzjHJ2gxWMBteJjiz+Rwe4FW6sc0TWMBTd+nsfcinifj1PPuYaUhQ56ibYSjo9OfZOHeBi5ePWVn7nPnFbc5dWOX6rcucW1+iV2QU1nqQ11TGgcDc0gaLK+s82Npjd2/fRdw7HpMZxSQr6c4vcfn6S9y58yqLwx6Lwy6DXxRs735J2VXYumIymmAniswWlGWP/mDIydyEPBszGAzoFCW51mQe6F3Y18zvE2cUZU5vrstgsYc+rih7PfJuF7Iuc3M9lns59XjC8fY2+ckx+ckEMxoxznpMdI9zl69z684dzq8sszbfZ+v+5xwdbvPZF/fIDEyOxpgTA1VGrrt0ukP6c4sURZe5uSG379zk1Tdew+gjHm7fZXRgsFUXrTvovODc5nleff0Of/Kd9xn2C7pdha7AWI3qdOnNLTBcWKIuc1SnpFsqcu/WhtEszK+wtLjIYG6eo8pwYibkqma0t+2MzRqMzTF1QdldZG5pk8uXb/DW23/E9773b+gXln7HktkRw05BJ1PMz5UsLQ84Ojji3qefM8oUowysKpB7TLXKWNm4xKtvvM+ffvf7bJ4/z+bmKtYaqmqMMoYY9e7FavJPjn4XUc+2gD7GrrcWU3sNXrJrLzemTEXMwRKEpsEBmKFZfNU0a49Tfmou6gxFZhWF1W7x4c34zhYXgudpZel2S5aWFjioD5mMj9l+/Ijj0REWODwa83Brn8PjmrI/ZDDfo9Mp3f0w/qWswdY1ipoig4wJ1fEue9tf8tknn/C7X/2OoyPD0uoy1268zJ3X3mBpeZ5MT9zZeaU5Oa742Q9/xc//7lcc7Ozzmw9+zcrakJffuMKlayvcef0tOmXBT+d/jK4MDx/tsfV4n4X1DS7ffJeLN17iwrUNrl3b4PbtDVSeoTIXt1pr19DhcIHzF69w4dJ5Ll9c4uKFBSbHE6rjMb/94FN+8ZMP2dsZUe2NGO3sMT46pKpGHNVjRicTPrt/n1/9/i4ff/aAg+OaxeUNbrzxFldfuUNvrkd/vgfjXezxDh99+Dt++vN/4OHDI/YfPuSz7CM+/PU1/vHmPTYWTlifG7G/vc3Wo8ds7+4zqiyd+SVuv/oWL995k6V5xfKCYnJ4yMH2Lvc+uc8vf3mPTz99jNP4LMYaKjthXBlGo0OOjg45PjjCnEwYdLusLQ15+a2XeOWt25TdHlrnaFugq5wi69Dt95lbnOeVO7cpejlKbvpq75e397Pl7yzlflb65ljrpgVp7ffitfF3Kru1bqylqiomkwl1UWNzbwHTTU9eOUYXPsJU2FthNk8Fu227+oz0ZAC3Deb3NIA/dREI/vCq1eRFj4WlVW68lPOvmePWm+9z8ep1Ll67zNrKAt0iI5NtD0CRozJ30qe2hs3NC7z3ruHyxcu8+8577B+NmagOujtk49wG6+c26JWafqFYWZnnytUL6KLgwrUbbF64xNL8EmVe8tqd1+j/O83RwYjJ2LCwtsHll15iaWGeTrdDgSIzuP14H+dk8/x5/uz73+X2S68wqUAXHW69cYdeb47MISDLC0u8/sorbC4u8vrLr7L1eI8T1eNE9djYOMfGxiYLvQ5zhWJ0/hyrK0vsHuxy/vp1zl29xuLCIsPeHDdvvIT6i3/L9tvvYaoxnU7OhUvn2dhcp9MtuHb9KuNxhjVdUCU6K5hfWebWndv0ezlFYUFNXBROVXL+8hX+9Hvf5/rtNzmcFNhsjlfuvM7iXJ9uYdGqwpgKaw293pBbN27SGw547eVX2PrTLXcCxFisLbCUZMWQorvI/NIGN25c975Glsq4beiMnKLss7iwwo3rN/jzv1Bcv3mTcZ4zzgsM7m4Da92x6vm5BW7fus3axjr9fhdbj1HKkHuFz9He12+ub3vWi5F9VmqAfG2MP38JwYMeAfZEK/cBBsJeXWoGZJYJ8bm64dsR1A8nXLTjXAdTvlNOnNylghlN9uulmRrH4xzIz7NzYhmPj9l5vMVodIS1lsPRCQ+39jk6rin7AwYLQ8qyJG+AvMXWLppekVs0YybHu+w/vu9B/vdkc+dYWt3k3W+/z1/9u/+ea9euUOaWTFmoLXvb+/xP6j/w8S8/52Bnn+2Hj1nfXGRr6x2uv3yZO6+9xdWrl9C1Yffh56DgYP+IjY0N3vrjP+LNb32b269c4OqVZQYcouwBOvN7qj5oz2Bxnmuv3OKd997h2390h/ffuc3Bzh4HO3v87//rf+Hxx4eMHn5CVY0Ybe8xHjmQr+oRVX3MZ/cf8Kvff8LH9x5SHVvOX9rg/W/9Cd/77/6SlbUFVtcXqUcPqQ6+5P/6z/+R3e37bD/4NfsPHlDvdfjw5l3OX79HdcHSO1ext73N40ePebyzz6jqU84v89q73+Kv/vp/4OK5Hhc3uxw+fsSDu/f40Q9+xs7Of+Lep1uBKiw1ta3cRRnHh4wODzg+dDdIDeYWOX/+HN/70z/jr/7Hv2Zufp4sd+EsrT9yp7RCZwqdZegsj6fShOq8FouxyLWRQo5Pnb5JAC8ptZQpHeMFqdpLORHkq6qKx7QUSUAWsfQnEe9sFJIS9SCY4J9qKFKniOdOzdqe3TLg+ISxDuSzssdCZ0B/cZ3N63c4NoXbPstyOlrRzUDb2oEKCuVD5lpTY03F5uYFzm+sY4yhMpaJzRjTpdYdsiInK3O0PSGzY27dvoap3sOSobMuSnfQxl3y9NqdV3nj1m2ssdQGapVTZV1sXrjongrnOV8JyCvOnd/k3Np5bK0xyp0yMUVOXRRYJth6wvL8EhcWBujbLzGpDOMKRnQZ0aPIOxRFl8JUFNUxqh7z5huvYWyNLTvYokOW52RFzs3rL3H9whUXa95HGM1y55999fpVJlVNbTsYes4RVudurApQuSXTFUpAPis5f+kK6xsXmVSKE9NhYjt0ih6dskdmnMneGHcGptsdcvPGTa7fuu7mWkE9ttRjd5GY0h2s7lLTxVAioacthto7j2qVUZZ9Oh0XQ+Xy1av8mTXUeZc662IoqMkxRmON8+8qspwiy9DKYOoxWWbJvYfqE43bLzA97Tl6B/Ji6rb+UJTyzreSK5jmExP9FPOT3j3lHtipWVs6QgD69OvWSHpGrfHnvPGMSGm00mTaX2QCzltSZ5SdDnNzQzrbRzze3uFoAjtbe5wcwqMH+3z88RfsbB2A7tPvL9HrDOlkHUqdJ9eaKjAKU8NkUjMejdg/OODo4JjRQQX2AFs/5INf/pyi32V1bdVFwcMtypODY37285+yd7TDqDqhMhX71Yjto2P2jmsW57p0uosUeZdcOcElA3KtKYuSbqdDr9ul2+2QVcdQxRCfWmmyvGRufolLV25y8+VXWd88R3/QI8PQKzRL80MGeUkHTWUrtJ2gzRhtjpmMRxydHHJweMLBgaW2fQZLC6xduM75S5e5eHGD+bkOc8MOphxQdxbZPL/BzWtXeXz/iC8/g9HxCXsH+9zf2mJlkLE/VBwenrB/UDGpCroLayxfuMza5fOsXV1jYaGgP1eQY9E1bJ57yHJ/kSFdf4peoVQOWQedQ9bpUnY79HoZ3bLGnOyz9/Bz/uuPfwhqQqc/QGWlE/tMxvzcItdu3ODSlUt0BprukMZ9SlgXPU3jLCG6hRHtcO9tolZyGsH7agTafOHGrTMEaRX+S5omwrlfuMo6oJds3mJnIIC8XK6htSZTmS+m5SCXLvlkjToWYSXLjObPaN9X3N+Y6VB3CtBP57Xeg12hVIYJAaA0Wmd0cmeuFSNs5jW1RlSFRA/SVruLcHK/fWYtWmVkWQejynDETYMLuZuV6LLEbRd4BxELGEteFBR5EaavQpGRUSuL1cbTq/Xn5b0QlmtU5qNdenew2vtSOf1Ik5OhVYnWhjJXZFajKcmsC1erlbv7K0OTZQWqdFAxURmVdgIN1p/G6HZQJgPjIoxm2gXOyTLolIraFlSqxJBjtMTnr9x2p3aheI21VAY0GVmeo7OMnC61gLOdOCXPKscFlYtiqDPjAvWEzisoFIhwo5yhv8aFMjfG31bojz4brxpqeihVUHotsNYZlc6d3xEZxrqYK+DvIVFy9Y9b62LJCpQlp0Wecxvp+ZK3uJ22J++WufMULXAejlW6n+5a7M+LkdgGbBASnkmDPzNrS4IQzV2lHNM2s4Y+kITedHtVmXaXuQiBC8gP54aU5WP29x5wON5nZ2uP4314dH+fDz+8R320x8p8j35viX45pJd36aicAvw2QAT58bhmfHTM/sGI0VHFeGQ4qfY4Pjri73404he/+TV52XF7+MaiJgZ7UnGwe8zBwYhagdWaI3PCzuiYncMJvV6fUvdQ5FC751zcnXi1aux8PL/sLM0ZeV4yN7/MxSs3uH7rFRaXNVYZyk5OqboMux36WU4XzQmW3NZk1oF8NT7iYHTI4WjCaKRBLzC/cpmNSzfZOH+ejfUliqymVDW2VJi8w9r6KjdvXOPx/RGjg0ccjCoORoc83N5ie7HLwVHJweGEwwNLVXcZLG6wduUqyxfXWdico5uDzSyd/oBiPWNtbYOl7iJz9DjxN7ZnyknoutQUZkxn0KU/zOmVNfXxDlv7O/y//3GLH//4h9i8i9UdFB0y0+Xyhev8xX/7b+nmyyxv9ukMc5SHZmUtunbSfZa542NtC36bbFUc+uABrFQC8i8a6J9lSyy13wXhXE7K6FY+F8LMWKjqmrp256J18LZ3AYisEf/u1toXvqLknHb8yedKqmvtKcrafuHbfNL1s8uV390ltNoPm1cIJMCMdbErZOyU91eQEE0SpVl5wUgC0hgLNYbK+oBZyqCyitrUVLULvZThotyhfSwPtB8K4b1yRwPu4hrlthvdOnfBrrS1ZP4+B3nVVgdhS47eOX4IygecqY07JOsuxnGKUC4BpWyNRKa0gFLJvRHe6uExVyLruiZ7wUDiLGirsHKrqao8sFq3XpQPG6ssxlgmtUX7QFdaOYtkphWmNtS1XOcK+Mu5lNZYamxdu2N3pqbICnKdY5VywcCU2x61KgvKocyRte44s+uLdk5z1jk429piKgO6BmUdP/C397m6VQB4uSzJkYy3HCv7tQH97LJUsEq2deLoeOcZgYSMd1JmkjM4t0Xie27OddZjIepDy4Qn1aXVhu9s4Liy6GKzrWdOnkG5oAB0yw6r6+usbh9SfPgFx4d77D3e4tH9B2w9eMzjR/vMdQuWV86ztnGRfm/OR6NT6Bp/xjjIz267ozbUVU1dW0wNlaoY24rR9hZbO4dYNFjjYixXxl+y5/aM3aU7mpPJCXsHh+weHLG0MKQote92CO/jtxyinTnKkN6/O4xfRp536A+HzC3MU3Zd4I1MW7Ic8kyROxGCCndkLvMvY2om1YRJZahqhVIFRWdApzek2+3RLQt/+U7lrb2aTlkw7A8YDvoUZY7VY2pTManGTKqMSZVR1YaqtljlHQvn5+kMeuS9HOWvuMgyRdkp6HRKyiynIKPCUANO2ykospJBF86fu8Bbb7xGfnjC3Q/vcu/jz3i8dcTowQNq1cHoDpouueky2h2zvLTmQlu+fZ2Xulfp9bt0ypzcR5DSYaxpjW+UZeMvtH6xyfinuZ7H5v8U6ZTF3lg4qT9N2vhU8/Evi3UxMuram+rjsTrlz2sHsEkGQ9hByhYaFpJUWJphJlcvQJN/EcmtoCS6ove4d1ZCGb8YwDlhO16mU+FpidEh42UUfq9WokjWXln36ohcuGktynjqkzkBN77EwM/OG732ggUetAwiehj80TZpH9ZbFUTEU17ESGLD+7K9aEO4NVM5vqlU/AXrxQfrTvArD2Ra+7sraqlXIhTaKPgqC0oCbRF1OYlOqpzN0kVedFvDgUaURPQTENXhwJcTtuLVPDJX7m+V7FLlYZnWVmbMaeyZzJ2t0Kby7faxR5R1Qo6SOXbmGxMWQ+Qa1jb9Ub5OjT6OsZ+b1vZXw7s+OL83vmy9T/fnX1Q6tagZqlT4WsX3rWw2vHFgVdW18zXAEatRmt7cHJs6Y+vgmPnB77n/5WP2dx7x+acf8vjRQ473T1hbWOf8petcuHSJ/mCIrXcc8da40KpOZnWSoVbu2lelw3an0KTXEUKIfefpr7yHsydIY8HWjI/H7O3vs7u/z/F4gX5ZgMbdrNcQ1l2dTmIVovcSpfLEXrmgHDpT6AIfWt3fSEWNsjVynUyMKqD8xTY4H43GmeiWA1YqdCUxYyVABrlFZdbfCphMogadKfIipygKdOZDz2Koqf3VmU6LUInEZlGOERhNqXv0yy43L99i4buKS4sr/J9/839w/8vPOBl7MsV6PuJiBuzubvH3P/oBXz64x/fq7zPcmGNtbYmlpSFFnrvLjRpaFAFI2xSfMs+mVKniXxul+T8MwJ/yWyqgz8rrAV8uAHH78dFiJ/udEdUT32Er9AZtTT4y73aVDdQnhqM9I1/I/vR851meFxKv3TKKLknCZjygKxF+gjQTf9Oy7rBOmSDzkScdH3CnFvyJHFn7NsYkyazxHMXXleEvU4tHhi3RwVDJvRTJONfGhyPXXqFJOigx/OUZpd26c+vcgbaL4S8mabxwkeheySqwxrh9emq0shQ6c8JG7W6LC7QjVgxkXF1d1lsJBKxRLgKAVu7+EGd8cg7e0TXLBxO3DvizTAce7M7YKYzxVs3EuomHcrEwhLH0Gr3yYpDCWwmss3pYK8KI8F/jl5LyQo6nf1lGbmY80LfuaZB5+4pgPyUwCI1KA1ok3tDklby8HOUv+otKwCyt4EWlKS6qputQRKZ5yjiFxegfdhNiI/gpRa00Za/Pcq/P2tYug26Jrk843HnEl/c+Zm9ri/HxhLLos7K2ycr6Jp2eYXK4mwikykncXmLTSlFkOWWeUxSavIA8c6bOhcVVFpfP0yl9kBnfFgVgnNemdPXajassLS1QFrkP1GLIcih7OXmum/228U/AYWRxK6y0TwTgEHc6lagNCcv2RO+c0vKiIM8zstyCHTM52Wd0uMvo8IDR0TFlYdFFhqnBVDXHRyfs7h6wu7/PuJqgck130GVxcZ7hoKBTaIpcU+QKpWqq4yOO9/Y5OThifDimU9RQ1IzHI44ODtnb3+FoPGJMRYXFoMMWSa5L+kXOcHWT1bLHQrfP451ddg4OOTyBgzGIh+3kuOZk/4TR4TEPHtxja+cBl+9c4eUHb9DpdZib72MLiGY2AnjJoNrmkIe1NE2GfsW3pc8/VAoyxVl1z+hFoKXk+Jw1zALfWERcYyBA776w6d/2ow1zfdPy1s73VRjiNJN9imcQYdKTgBJNKbZTeKQk0W+l02F3RL7SGqvceHqnbrSY4D09h0WcbvG40rymmNbm8oagKzKFUi/JXHhQc3wxKmgi0ssn44Ffe6gTqnex6p1BGiVBn1XgqVbuNJCTWL55xliUd2qxvkEC8oQbJ12AKwLAOsc2uRMj3EUSuq4iD0vWp4hcmR9TcT2JlcveufTMBD8AuTNDK+dpVftHdFTNPCE4bEzNUyqMnqwBlcjCNozT16XBp2WnVpZ2bc1gOH7PN8eZiAocwddALRTfWNEBUVu1v4AepEHF03Knxssm+d1nlRCU1gqVaciUi76KZkKGyjv0ypLBYECvzMjNmOP9x2x9cZfD3R1MVZHlBd3+HJ3BHFk5YnKsULlC5X5h1BbrPRRzlVGWHeZ6PQa9nF7fOZyMbcnLL73Bt7/zrzl/YZNOoSjyeAWAscrvDbmeLKwssX7hPGvryyzNd8nqI3q9jLmFHmW/8EednPRvPNHFi1S8+uFjKYdFJgHwrCdJH/iFTKRZ74RiFbXRVCajKHrMz8NwrkOvb9h9vMPuY8P9e12+/Pxl7j94zNLCgHyxTz1WVKOKrYe7/P6je3z48Wfs7hvyYsjqyjI3rl1hc2nCwvCYYa+g31HoasTu55+R6yFbr77C/pe7dBc0eiljf2+bL+9+yod3f8/9g0fsc0yNJre5M4PJC02ed8gHi2xcvsmf/nnJ9Zff4cTASQ3WusDXDz5/wIe//C0f/eZDPrl7j539Q0ZHB2xtb7O0tsBKXdO1ltz6hRM57hSlTbNbT6NBjPbMLvxtP/UV0vPuW4s9M5Qj3/vfsIFANE4otMYdqTU+Xr0A3RO8D194ehbN/Xmft56J45mm0h7E/MutVa+hG6/pCtxZMV/HYEgO3K3XVCNfqo3BYMkyd9e69VKAs55pf5jDzUWoH6I27T8odODFKu0DBEtfkFODoGqD3CqbUc5LHe9fQLBEpoKtVXFX3wkuSWRRr6honbltS7FKtgRk4ckYuTxKFAzXYKs1qnZjYWs/Tqmso3C8THmBR9noN2pjTBeldJCvrWjxKuoz4klrvXKDUl4Tl4FSTrCtHQbmON8AJzwYbF1hjUFl2llmwhaGpAiGqbn+NI3+tPS0xz+fVnhINPm4F59ZJ08VKtzE/nRJqVMYkWgMz5IS8J7a3DulrCQIQWC5SqEyB3pW4R0KHch3+4MI8nbMaGeLL+9+xP7OFnVVkecF3cGQ7mCOrKwJlxB4vyVbW3/rnSXXGZ2yy3DQZ36+x/xCh/qkYHRccv7cJd5794956aWb9PuaTkdFkMebCDON1YqiKCg7HcpcUagxJ/v7dDoZ/bkORScHpRhPJhwdHrK/s8vezhz7izkUY4pMgN5fZStmxRCOzUYm5Mcj3CoFWOTmt4Ki7DOfFSzM91lYyNn60sWsfvh5wad3P+LDDz9hY22F8XiZ+mib8f4j7t29z4cf3ePu5/epzAKDxR6rqytcu3qJje4eC/kOw36XuX5BQcX21kOqccmXv/+EL377KWyU5JOC+5/d5Xe/+kd+8+FvuL/3kANO0JSAvx7BAjWYyjA2hmpcY7Iel2/e4crN190cq0gxH/36d3QwHO/vsrX1gN29HcaTYw4ODxmdnFBZ64fH+jGKJtCnI1M/xg2gbwmoLwronzXNWpMioItwkgSLimfiozZvvVqoVKqp8AK7NFN6/4OkKYbrQR7jtvqccu1A2HjzrPZbEsHB16oEBF1vQqz5ALpRaHAgFdemRpMp7cfWcVw37rJv4LdSLIAIA4QpjLpkSrcyx44PeL0SK0KczG/gs66PufgRWGcWx5dvEIuCCvlF4HCx8ZU/YWDBm88DfwnbC6IU2yB8hM1C7/xm/Jl/N+aO37qqrDt0oGSrwTs8eiVLab9tqsAoG6wocmxO5Arwv+Gc/8JnlWGpneKWWLOVHxdrvaLrnSvxdanER0D5fgSNvkVnL8IqNRXboaHNE9uW5Imx670Ul/mGhr3aMDiSUW6fS7ioq20GwD8BlKVlQq2NvCIY2Pi28Uw7v3xSnr+KA4oDhvBCY3WBLjp0egP6/QG9TocMw9b9zxjtHrD1wFBNDEVRMpgb0h8OyPIjajSVVVSC9zlkmdu7yfOCcjDP3PIG5y9d4eatG/zu3j5b9/b49S8+4H9R/57l1RWKDmS5QnumasmwSlMO+nTn+ly9foXX33iFixfWQNX+YBPhZjkLPLz/JT/94d9y/8EjfvnBJtdubPLOnQ3eurNOVSsqW1DbClspF/bSRG1fo/3FdLW/yKLGZCY5R56jsw5lWVCWNefW17h96yrm6IjPP73PztZ9fvS3P+DLR9sM+z2GvT52soc52eHjux/z+48+Z1JrhsuLbF6+yOaFNTbXF1jINYMM5leWWDu3yuraA05MzdHRLr/4yY8YHx8ynLPMzRkO93bYfvCQLz59zP0H29TELQWB0NHoiL39EZ/fvcsHP/sH7n3yqdNw0Fjtwu2CY9C7j7a4/9Fd7t/7nO2dx+hc0e/3WFleYm4woNA6aLAIA00YZ5OWTyHxb0oSPhzVuKjepSqeMRGR/HNK4bRMf4dFqs36gsCDVapFftUGp3vyf7jjRu2UaKHGabc20UZT9ibALivYeP4lgBu3w0RYcs9pJc6dGh220hw4yqU/StnIqK12ICxjkxyKEGFdGqasmNZljbi5tf5EheuF9u31/VAtODKWGhHqIrC7kwGyxRDrkK0W5elBTl9kClSmghBhPfh4rAZ/IyhYJ6zXBmXEc90pZToq+i2BhwjSqMDX3PirqaBMMmNayVi6floll/1EJz2sE/Cco6nz+K+td4T0+/0uxLj1l/34dSL088LWxOz0vFYtdwsdAvLuZSAc0WrcQe6lyqi1hOpnvJ1C5um8tH62T/O7/xBUilRIUE7iQ7n7wxETmkXucrAqw6qCLO/S7fXp9dwtQjmGrfuf88nOh2BXsXaVoiwcyM8Nyapd5xNrFJVxWxl5ppyzloa8KOgUcwyX1zh/6TI3b93k8eFH2I93+PUHH/Cbf/w9ZBqb+wGtQdWgfICIhbVlFtaX+c6ffZvVtSU2zy1BJkdMCGYyCzy6f58vH/4tv/zlb1naWOfarSv07bd59eYyk1pR2RxjMmwF1Dac6NLBtGixtYvMVWtDnYnDlAZdoPIuRWkpunBufZ3bN68w2tpi98EWd+894Ec//Ft+8Pc/R/mLaTTHaDtiYiecGENvYYXh4iKbV86zeX6NzbUIJQi0AAAgAElEQVQFulpTWsvc8jKrG6usrC6yvbvL9s4uH/z0R3zw85+hsmNUPnIAVFlsXWBMH+h5rSKCzeh4xPbOQ37685/xP//7/8CPf/Cj8JvKC1RW4Nkxujbkk4rMWNAZw4UlBoMeK0tLzPX7PrAF0Smn4XMStZdUi30mTf8PiluJht5IAvJe2k2P0/n+auSq2Sw87zBEABjc0VET+jWts3zF1j+HxvOiHJoco/bWC/fRlQ/B+CH54jG5RBsm0aq9wCiAZHGmXxG0lQnUSYg2iiVzZ9y8w5oC79wmwJ/2Wf4pvP+EGwSk6bIX7ta2Chq9Fa9zAV4R/ozx7fA8M5jHnebszN2+N0kEUQFOcW7WuQqBgWqZG5TfonBCiTta57eEjHEBfVCgdeBTSvwHjKW2tdfWnZ3eWjndEDZOQp9F2AlzJXRqxWnOOxn646EWb7bHuCBZaBTueKKLTeC9F2QMre+r8paCQCCIFBOJ5yumWbR9+hpJrG1JauzJZ0r2h6LTnQqatGcQErf+ya3zf2e1RT1dGdN9kMKnFS2/QGuHn8hRCqMUtfavTDuNGIVSObkqGfSGbKytc/HieT6v73Pw+JDBQp/Bwjorm4sMFkrKrkaPciwFVvZ9dA3ZGKUqbzPQQJdef5Urt16nJqfq/JwTW/L5F1s8erTLaDzGWL/E6hxlczr9Hp3BHDdefonX3n2dt995nY31dQqdu4AUWcnK8jrXr73MZx8dkBefYuyEup5wcnzE/s42O4/6HBwccVJrJlZTqYJaOc9e0Xzb8QMU7qwn/my6Md4o5zUZRUamNOfOnefN996l2+0zXFhk5Vcf8vvPHnL3y8dok6NM7o4WkjG/uMTlcxtcun6dl994k1def52Xrl+m1JZcZSjVZf38Vd77zp9R9tcph7/CZh+zu3fA3t4+xtQYU7OxtsGlC5fQtuThF7vsbh1hK1BMUFRgDb1Ol3x5lds3b/Ld7/wx82XOh7/9iLsf38VWFUZPnEavcsdQ6ozh3AI3bt/m9p1XeOedt7l0boXFuR69TIeFEBhGS4gNn1qLK5pKxdoQRctT7518PoH8KZM6nb8oFU0hQSj2H4x4agujUKE4IGj0TkGNdPUvNnktPgCg54OOLiQwitem426823NWDQN6FE0TIds9LOOeqkA21kdCX4GdmmBhsMr4Q90groAqbErTdJrGYgLtevO9NMwLCBb8CRxP8UGucIUoI9YNaZmLLmCV0I2QlqWylTebC2/U/tSCFzJFQLHu8JryFcvzhL1yG49sasIzQsjp2aBEBAltlr64GYo+MsoLKo7XuZBBrmzrtC8/t9EvUgS3KCyBhlq2QlpK7azF8RzYf5Z3fhvsgyAYtg1dagXD8Zq8UiFynE6zNySWsPpPB+yzgPxpgP5JecJKcm1x8casv0teY5XGKEXlAb7OMowEdbAZmSoYdAec29jg8qULHO2MuM995haHrF85x+qFZYaLBUVHYScFVpVYH23JRWs6AT1xjbAZSnXo9la5+tKbrJ6/RKV7nFQTOr/4FcejHcbVyEuhXvrUJZ3hgPnVFe688zp/+dd/yY3rl1ka9t2tUgpUVrK6co5bN1/hV/9wjzwvsYyxGOrqhNHBLgc7fY5Gx5zUirHNmKg8gDzK8YHMRrBXPviJgDy5wVbe21S0Out2285tXmBlaY7VtTVWVpeZW1rg4P/+MR9/9jnYLhkZ1rupLC5d4M6dN3nrvbd471tv8+obL9Pvdyi0ROTqsnH+OvOL6yyuXGY0LtndPcJ+OmFv7yGGjIqMlXMXeftb3yG3OR/85JfUxx9xcniCrcfIOeNBr0dnYY6egrlcc2Flkb8xf8ODj+86C0U9xlBSZ+6SGkPGcPEcb7//3/C9P/8+125c4NLmij/FEI8tWT8+NgB78CduMOwmERqa4G5b72FqdZ9G119VG23IJm2m0xIA5DvPVAPr9Aw7LU6O1yl0PF7VsHg8f4NFq3zuEhKm99zPkrI022yT94x3TnnOXtwEeXCBkOQIq/VHdaMpVxS8GF/AeBLR8XiYb4gAu/XaZQB9vwXjTOAehANyBHRO5DgbKBGlnFZuxYKQChM20L6VvXTX7AaJEHojSYAexFfANdMfvY3yRkBM5W3a4bieL1Bb2TtPwFkZ0IlXmB+oIKD4Mo33go8+EQ3tz4kiyfZKqDeMuzgEAtRuX93Ptdi7wgNKKNZF/At78Mo3yrqypJ9pki2GMIi2SbMiYKcppW0B9Vn0Lg6jzp+kMUkJyFtQ1nnXZx7sBRgiyAvAp1PdWlhq+qvTU5pZ+UFqDgLCTNIq02oTb1+Lu6tdTjb2BkOu3bzF+HDMzZuPefTgMW+/9x4bG+cYDgYUWcFwMMeNm7ewkxGb565w48bLLJ67zuLmDe68dpPFpSFFmUO3x/zyOq+++Q47oxH5YIOsf45XX7nJ4lyfTCsgQ+WKXrFA0etw4/ZtxtUxqxurXLl2mf2DI2oyDDnGdkB16S0s0V9c5J333uLqtUusrixRKsgwaKVBl8wtrGIvVLzxzvscHGm2do6pbQ+rS3SesbS8wPUb1yjKHlevv8S/+u732XrlmJPDgstXb3HpyhqdjvKOee6IitIF5y5d5P3vfItz568wHhuW11a5cv0KRZGTaXdWNe906XY0mxcvOLNa2UX3Fti8dA1FicKF41RWce7CeW6+dItbt29y4/oV1leWUar2crQGm1N2h3S6Ay5fM7z93i5F0ePB/Qc8ePCQSudUOuPGzZd44403yW3O2tIqX9y8wXg0xtQ1d169zfxwSLfs0C0LsqVl1PVr5MoyHo2Zn19wpwRQGF1Q6xJrc5TNOLexyXvffpdbr9xkeXlIvyz93emRpOSlAkNoElz72zTZRglpie38Zwmu9qsD/VlJ+XUmWon7MtFOQsZT9uWfQx15cqNecHlPnxraUGBF7rP8P2ub13oNOtWAgrYnZQlSEvmrmHaDidfaFivzDwbe12hYWlOLbt0DOp0mnxzft4jHdwTJeJJEoD4F+NjZtFb5LbiapZ31dJVuYbTGNoyHEukjmNNVEHBkwDzAN8hDMMKL3qH4iCVNCFLBqkvyq7RbBUC0iXuYDdsCEEPqCO4FS1f07kOOUqOSuTslRcHy6YXSFOTbwmy6ldOwwvnUPCdv/LWppOfkW4/I3sksMG9/l2ritpXJznqwBfqNLDL57TwqWRfuPGetXNym+YVF3nrnXW5ff4nxcc3Jcc386ioLa2v0en3yImc4N8ftV+9w8dIGR/vHHB0ck3UXyXuLzC8usrQ8T15kZP0ha5uX+Fff/wtefustbD7E5kMWlpZZXl2kCKdavMdpVnLpylXmF/u8+uZrHO4fUE0AVWJwcZxrVaDKAoqSldVlFueH8RIcX47KSgZzy5Rlh299d4Gbd97iZAzWlqBy0Iqik7O6Pk+3N8dbb7/H5cu3ODkxVFVGbzjH+rl1+n0oMgn2UKCU4vpLt5kbbHC0d4KpoOx0WLm4TrfbQecy/k5jGQznuHT1GosrG9y4/Qa7eyOcBp+FBdTt9Zibn2N+bsjC3ABtxZkoHhNUNkMpWFpa5933/4ibN29zfDzm+GRMrTIqpRnOzbGwsERmFa+/8jInByNM5S4DWb20zsriImWZo7Wi7HRYXlml2y1ZWVvnj//Vd3BH5zJqm2Gst94oRaffY2V1laXlRXplHmgnWGRp/k0PE82iSnvK+zPTczrPvNikYke8M5Mc93Cti2BlcU5hmY1eX86syTN0+pudGkxThsYz7hSkQ/5Eq/PftP5KuZJNCMyBuvg52QTUGsFmLM6sbU8TJ9N2JKBvcVt0JmmeZ5chEE7S5KbwYpM2xK4EmUXAq9FLGxquGjST5rARvCVmhwXrtW8B90Y7ZICmvL6TfoW2JLRMBF8lbSbJh4yBiuVgg8wbBBeBKM/P8eMqxGEF6JO2vGi5vA3o4fpnY5xjoGyr+Xa1fTbS1NTkvRc2yl+GYp2pNxXUXObkb+N8XSLGCsCne1ozwbz9+Cwh4BSAn57/ZLkpOt0eCxfm6VxwwVuVzamUc6QQZquzLv3uOc6tr4J1pnxDSU2RmLsNmepQFjlXFxe4eusWFQWVkksrVGNbQ0IzLiwtM780QA6qK5uj6GL9nnmtNBW+PT75UBCeeBTYjKIzoCg7XJlb5cpVCRiRA3LZg8WYMbWdcOH8PJcu5Vi037bwI66cyVyGUaFYXltnZfkC1Bpqz9ALMDnJAnPCRtnpUXb6LCytcelyNIEbCaiRCvLgAV6e94vayl6uptfLuXBpyIWLEU5rJT4ThC25/KK32PmOmBxsTji/m+UFRT6kP+iztr7pJyBHkWGMxhhvNnXWtUAfwQqYkmRCR2et2elHvFaROAHFSChJ5m8KKAqABXO0Ci+L9V7Csh/tPIkbXstPVlb+mSfV+KtsC+hVE8YanCfMufOOl+fDSSUQdA/Ph9j0NL4OrLM9zvGoFukTce860JoKnyOQRfBr7n1Ps/nobRgXt7Xp+OAFkZZ9OIqKoZ4YGTIdS+EH0uAWuM/0lI99i9DcTNrGTQxXahwraZkEvZKVG9vjAyGFeAFRkQzlNMjDBoFCpX04Iz3ttlKar63JR7N+tCycth4bYW1lwKPjnQevBhcXiUbF7wKYCyWp5ndhQGb9Ngv4VRwoK3UmbQgAHycaFdsupCP3M4UDZF7oy3w/JHKV8gggEZfc2cikelQ03/jYxc5J2R9PUeLSlnZV4bwcXEgh1z4PzirAeAB0kYMaZ2CDRJ4RApFIv6XbVp7L/JlSf52ip7W4RMWTVjQyHwpSx9Wt/FBrnc6EBnK/kJtj7nqYfJ2UQzIisg2UHL4hjG7yUadOJsKYknWGH36ZfmNxRE9OQ0tRmZtPpVDa3cWVmvXSJWZbL4gavMyDZ6uNZyIDThonT1t/zoeQ6ZsD8BBBHeIalO9smsW7EhqnXakwGTaC2b/U1Oif8kAfYSuYpL3GLWss0L11V8ViI4WEc9pYD7TxxMy0zi60Y5NvxOSerK1ApO5llFuzMUKfaJzxfD/ENtsE/UXAS1oQ+FKTlhNAEb+BODJB2I3P4nsYI+alY2wFdEM/QqDuxtJyJv7UUyzZXgh1pMPm2ulOCcTWyf69MM8oxDmLo8IzQXE9DwJxKrZ44UbHrZMGdztleaQA3Qbx006HpFtm0852hP34J2vyPo87C5kCvA3nICOKeXAwqoXNKagn70OvW5zuNKBvt7XxWLvc5DGVLAAVo7IbQkiEBjC5hSAg76KjocRQHqt2Y6dwTneOMNyCsEFwaDgohnaL1i1tEj1dh+fkWSHvAGy+cututkjA2TZrS5yEMi0igxsQJZp8GF7V+D1OehxjiY8fl66iKYqkIC9LOV30YXAbFK+S31QyZ+4LxywbQoPPE/Imr4aYkGikkUS1lwZEg8Df3BUZasqaUj0kVmOn6S4w8bSu+KQz7QlzEEeo1Hb6DUrt5djQJv2cKuWORsmROZ0+03Aj+oqpLfz9U6eEiQYbthCeHyGV/FXCsJt7tcroUJpKGbp4jctnhKXNAvomwCjwQB8nIxw1S/dQVCJgJA5vNGbZhvoFvNMUvM0hmfd0/fu6bVKvJ6woTMe96uAZb1N+lvRWuVVpMYERNuPvez7ux6QhnIt1wqYAn647+UH4tqxv6Z84ZHveajRWLi9IhQAtToBxHsUS4ooUgfDp6Tk1ybeBXqIeNvqa5I0vfWqNMRgO7rqVzINigx7SJACvtLPlexCayndqjyAOgCBam6H6PFP7MU32mhKcY7ImgHoK8G4v2DY8PqO+L+Dr+yTMTdrXpnFPYJmKAEccsWb7jfLHRlSIQidmNoXbe2+UrdJeKb9Pmh7fSvueLC5lEyFOJk2H/DJqzvpAw1IR1pqKjzWrc9DbdGyJgkL0rpUC00Xpxss2yiMI/8JiRLCAtj5jhas55xmLi14oLQhCSxxDY204794ck2iJcMtfx3lWKVXJCYMzJOuZ3zKDBr6hSYhhhmVo9loU4JfUFG++amNsIIpvVlLJWk0d1ISe4lE5m/BAD2JhrzpgwMwBk6hycXlFUBHLaFMAUJHiE0HNpmsnwR75zfUnAfgZbZli9bNHhbBgTsnVBKQItOJXHcWA9CERhiPDlVPbs6hNdENHxsIHIyiKcJMKALHFsaz0OF4clGmQDm2Xwq2niQZ/ju1O63mW2A8zj8XNWBupl308Gz+7jhgMB0XuQV4p5fdBxUSABwA/Q0GT16DqJnWctVZnAfkUkSc/RXhqEZVt5rOyDCPAS6+k6UY8WkPZfrYUQOaBPilW2YaAGj1anSCgcVeypv+aBnvlgKzCRctR3lJgI6CcOe8qATEj/VfhXGwEeNmwbnoFqATgpbe1cUVpH3c5LL4sGdJ2m6wIPymDE8HBNh9sSd2pHBLKlum0cUFqD/Sxpel7t5AE5LHxtH+UR1y9RhZ4IguJ8OAD1xJiZHmL1XR/8XTv7D/tSTqdvKVz/xyAPqWhlGYTfpJ2YxYAt9frv7CUmnDF3C3dDVo8NgZe8QKxaJFhZI0D11QGkGQRM3LEobBiLUTv7WnAUeFnQZ7WZljQsH2lYppO+amansJZUzpN0TI2s39NywkGkCAIOR8ENUVTzmrgTPdeJA+LualRxy4mgk4cwFMEkBbQ+3mVSZEYBnIk7qxlnPpmSLkpn00B9ywt/azUNumf9mRTm5+dJ08z60yj63hGWOMC5JQoKqWpFdTpZrWY8V/IYhfxaAb3aOz/S17/vUyIEmuEirGUSfR1kXaa4mOcIi82Wmtp+Fw02qeaVjtZkjYZYL/6nISZoTIV4irLogpEb5J6AqcgtDe0UhGIP3QhbAIl5GVs/GwtzuFPhXFSEK7PDCOcLDbpV9IKn3c2R48MJY6P+xj3ymQ607xxa1chYTynj4VI320oQCXMCsR6HCSGsKcfRsRJd75pciRGhVcYz1TeS/NMzX/agTRZ4k1X6fl4S1OL+Iag4tSajYDQnNOWyNUQClIaknlqFfk0gsA3ZEhCSp0l0zeNgRGRf7rxMkLpa5YAKBgui64pFCQg1GQQ4ekG3lnHrVXjc+Ru6YSLt3hwPFORjTe63UqBvXlAbQgjaA/eCQ63teewjy8MoanLK0+DDmil/LjlGtqQEFXgw/4rmwB9WIGRWUdMsDRfsQW+DwZ3hbfjnbJlEFhPigGz1kkorcknZh2Be+rLahIwl042AX4KsEJqxq7XGq0VtZFBVOGimo5SjLW74MUNqj2dIp4lBUJOKG4mqJzCMZLVpMDfx5we/oumW4m9HAneV+sRyRjcLVP4CI6NcUtBzIsPnirChMs2rOeZEjbRPa7SP14rteG7sMfvCSulEassRpkQsa4haEhe6zsgN99Y62++UaCiE5pozLKFIUso7PhbT4xeMLGhzykINE2DDTNXEGZscNkIOJ30SXBXBIjowynCjICw9Z6rUoVq1K+s9TGzvSeJSubDxPCTutWfhklM2pcKEo09Q8e9rM/ctNrIGCZAL1JNIqB8s1KLAdnwX6Q5ZNsiAkPjWXkmBXPlLX/Nn5+QVBsP/smTMq0JSzi6SoTMmc2W9ZOa62MhINRiTdNpTOF5iY3Wg4bAEReOW/8JXVlQyRFHGXc5hteoIxQSf3fA6nZeZ9FqIGUps/kLGDEFps58Sb7ENyB+ZRuCYXDlEn6iFFbJRTdNJ77IhWN/4xzJe7keN7Inub0ynNBL+iXPWG1DhDsrAC/8yAjPFz+oWKVNmVvozzSFnOV458Y34UuJQOC2WOM2pVLQAPgzrAS5L4FMZ5R5wXE1prYmhEHNlaZQUGvrbvYSgPeSV0wtoG70rw3iM9LUb/IMibTmGXBjYuRN3CmWTyr9zkagiosjylxBSvBXGrb3IIWEGxJsHSjfEZNNhDshGpU0U1KjWzY8GHevxQQoi0baECbA5RAQTaS9qUYEanQ/axJTWNq7IFf4OtIplGI94bpt8TaHIrbZM/4gRfu8qeEi8iwb9+ksAaSD7OJ/iHt5xu/TReedFPDbYy3lyCUirm497buZzpOVtpAsnjhG4XNSd0PwSX7/Z5M880o/p5q7gH7DqtPqYkM+/8YJNs+XIpzbhC94wCcZshSIfZqpzTWejjWE95bmK5q9YrlhHuRzFJRsWga2uQZptjFsLaQ84jS6DUIIyT65H53AuhOe3eoZ6Tg1POmTCoL11X0OQnmj+XEdh9FNhtixQOGNqtHPJs9L8EZ+ku1Xb2VwPMyXFcz4KiJGMn5nbV08KT2NNq88Q2rswyvtXxHnmvujLoU9+SzTdIqCYpIzqWsULupdrjS1hkLDWCZGPLhkrzgloHSlpxOfAn3s3TS4Nz6r5I/MbBjR1ki5jCHAQgPqXQabVh8mXgUOL3eUW1Vj5Vai5gNILaH/AYAjn5zlXBl2IcLilbZYMPECCtcs50Dornv07QpXGiqBeJz7mJSvnBZvrNPow36yWBLaYxW/bgiBKo4i0hdppo9vruXO+kbnXOeNv4nKJsGBZPZFetYhmFQClA1G02xk0FwAFzITlL8xMTwWLCrJPAVpwVJbJxxonQVyClJ1Y2ys9wGyWLkONDCuJsS3hs2/2lz6OVKDUP9QqdnWxn3m4TuXr2E+/Ref3DyGi1dFA02VDVnwIguQ0Lvsyfo1K54hQTtF8NhGWvMjHKpIeVCYkNSaJfXbBnhZAdSp/WqVvGxgy265JDOegKkwrKbHvWoW54fC8UEPSkkfVWgfjZMA0tfIbOL1sMjyTPotqQH0Aanba9VjQPCxSBqJapj4ZW6DQ2W05Yf+K69tNMY+AXiZryZLebb9+PS5UHsD3FUA/Ka5nplsJ5jri7yg1+lyNDnhpJr428VUiGefK7dDoj2ztM62nRTVAvOZqfWbAPqZZvrk2dS2kq6QIAHa4ECRAvzM4VUKOfLQaJ5Izi0njzCFU8QmqyMZ37TSNhq0U7DtNyryjwZ4bPyQAj3EiyiESagguEw/G8xUOEBKzY/SALmUQzT+kDepMyVsGt9JC5tTBGCVP/ijYlsQoVFKs3I0KAXXuICCjBSmojXHIsmq+Ov03rD8lixwVFMbmaKc6XFqpumxbjz6rGv8Dwr0SQNt+C/5TBj05CRyfOqU/j2ViNMW6P+J06n6g3/XXv5Bg275K0xbLEVLjDAe1rDQXfuRM/YxhP5l/Ge7fqQrZka/EiczLxbENRlrQlZ/bGckiojNrp7giyNH5SAAe6goLtaUM/nfU4eoZtsbFJKwhtD2tNuqlS9d6rQsUontPmJ20zLXVB7dN8r7YsW4+HFMwrg+o+PdaflSkPe1T4N8m135z7k8WJYlg+GAw8kxo5MTf5GJy+xupoPMOze5OMieOcvmdTDRnwLiKSieqrkTiUFmp/25MSLTjFa2GaZ/SafH/W99320qkQJOC55m2Qo/aXK3caanMk3xu/ZCPXWio/d60H6VC6rScMKb+quCKRpj/UUPKeCk0gdew5bwQK4v0QQZ9/zT4VDWBaEUQtKNzUTCvDu/B6KZKwXLxFIhi0haHyxDZARhTwndaJxlQxqjG/MnLW2QmBsMX70bjUz5filfZ5g3D1ixYaGfLXk8rSC0IbINOcnRipQVBj4Z0H+KJGtTCH1K8InZzrYeupMO0bJCXNJ+T75d9lnFhZLOqPR5tKCvkgJwC4okQk1q4m08A2Hwprft8H41BFAMfu4BhJoLKgCF8Fr/Od2LD0BvSSwG0yn4uXhpNygPKl1Djp/rsBCED6XMzT3vQM2Gdd7eX1fWnTcXcFcpuSUCgbRW9spTgA9QIqZ3ZaGlNQswp4AutB0dr5MsKU1q4SkC8O7V1N7juMoJi8gXnMeaCDPC18P27AySfRaghyawp882wF3rcA3waTJhAPlOWTLsD9g/OmQ/Owx3Hws4CnhmeLN3Guoy7M/aOJAztXQZ6TaHacxS86tQDnEEG52JIOYmIoXzZrbm90HvbWSLUJcGn/FGb2v9hYR+wHWrnilG3oLkwC+S1S4AGBZWo/PMChpBkkfM+VgbLBNWJWJOE5tCG7Ucu5Hzqbj2NHwIBGsRAk/KbIQzTloV1mmzYqvEDpCcmxdP9LDhn9BPWMgpkCZjYv1oWb8YUnVdJeMeTPKyx+e+n23dEvN/i4IapsXmfmja1ugzEdvcSN8IoE8aMrWW2sTi0qwmC7ikxaaAP+WkfkaTnuR497zmzudO6XJVOI03Yj2RTj23ENINJnf/m7A+ZGWnmnxSniWCRQLiAO39WhvFotBGlQx4qN0PatNPogHpDUECQFtvim+5kQvWQvMnKcWoiAUhdHUAbi+A+22DVJURgUFa7oQCnfTf55lJRSk9NMcDudEu5V8pwKcm+RTktfwemtta2elGlUKO84qOH4c6IaCvmGYBvbz0lLneTtELhD15RVEU9PsDumWXUufkSpN5T0RtLcootHJnw41/ERh/oPIoxpwG8KkndoOpJ1+fJgjETar4dWMDvD2qcR8sygiO8ML5f98HrVpuMn6mZVGl0pUAwfSMxO7HHpvkZ9XKLDX6B5RJlrBvo79IMQJUs5+uPutuU/PCSQPgk+GJW/QWG7zAVZwTD6g2ofs45ikI6xkCjvQnHfuUjUTgdR4D8RsnMJHQBgmvU+3c8Y9nCCHAkIp9SOdn+jx8G9Yt7flM/QCaT5xGbYFlJB9lFGcwqdk8albBs9OsYk97bsrLUL6zuCN/Tc9syZJaxMT/YxbTTAtuj9jZXVFPlgJCF74eoG+bp2eavVOHu2RrKYVbwUaVPtcCbCD48UTcTdZq4yU8Z0afG20+ZUxSVitbYOm2oKxKWU6+Xi2WCN8ROUsSOkmS31ekve9Qyubl1Y6wIUutAbo2bgU2OWQ81x+4s9JJ/2f3XdjqLA1+apACwXs4T9hLSuehay1WYgPOTTfnaWLUn5anHeymfc2s8DolgJN0p11iLj0oi5JBr0+v06XICncUzbqgOLDT6EMAACAASURBVE4RsmhlyZWLBVyTEL6CeH92wmSn9qnaPWxxqsbHM6S3YDk4DdwbfU7gBoKsbcHWzmyrMz3FQKy0TyXEJ4ymddhc6pnmQW2gS4C+IQ20ObaK5Vob9rLTUUkMpm7ElUZnzckO76VdwRlOlq4c2ZM6VQMPIj/wDMJ60/opAg4BZKXXAiBeUApLGR+bUI6iCL0ogk1TCk3WUHuMlErmwE9AA+iT+pocKE2Jw9MMGlCNwTwbtGwCAmFAAlc4Y8Gn0z+rgnbTU7J/Aq8/raVReIuREdtVaGGUfmjcLRCnmwWFHT8dcisaQt3TtPprAXo7DexnNT8Zk4ZhMWWFtEdTyratcjx9ttZr257XgpVWsbJ90uxCfDOD7mdmBmWEFOT0TnxW/FXSsQoAaGWlNQt2ICkjEQfIgXqLZBuCS1qHjRKIorW+ZidZbtL8MylGyFCl/SUskdjOxH9Ctdtuo6XSC1J2Rl+eJ7X34l3diQafNOa0GoMmX2Ylg3JAN+9S6oKczN1AZ8Sb1C36XEEVTNXWUQa4EUkty4J6Kdik7wN3jvB3akoD8GCjqTglYk/oGS4onApTQ4CTRi1KoTIdyxAakm6FypN3wbmh2VYVi5j6pRFjWibEtp/W4Xcx/YDTya1KQtDSjHMvtU35G6SNmDmsEstfTWVKgbPxm2wbzOh/M6/1vdahjdFlRTXyzJiVqSa55qRMTEH6OZmSdquarDKO1bQE1GQ5tvW3jalRvHL/WwjbOIEJz2JGZ9mlZw7pKWMz1dKzCrNpw5lGMdd6ea9VEoLEWLSx3icjMmbt14wlrpe2H0dzDc1Oz8oGXfNP5xWz8P9MvJ4J6Ml4JXW2+YHggrTGtsoI932Ep1wZwjYjC4xPp1aSJqnED9OOcVLE2aMZRNlWuQmON/hkWnVYHQGc0xXhLuJJLZACBSkHFtBvONmGkhIY9XhiPfYk7D2pg/h9+sG/n+Gq1RwL1eAgyZKY5vq28Y2s+IRfpJJOIoic7nrVLBGvpRvrLWWi8Cj81k6aX8Bdh+izDYtjc1pCio53HuR7eZdCF2TKOxUYz8IU6EyRK0WmcJv9geBscnmFiiu+YYqyyWAKV5BV0uIQKTVKp+V7357GbHtuo6277SwSmOvtrF2dYPqQH7xN/xT2MZuDpD+f8kMElcaKZ/qDCyjRgKJkPzrl0ykBtuFv9ofmd9HL4vT+NFLg4PqUDNMPy7ZBBOjUiSddrs0F2ibQdH88nVOaWabS1Hw3FrFKuGgsz069InNq+fy3coAN/0hofQZAn6UGt/NOMfQWeM/qadMDsVVHA7ma+fzVwIHHeMuN0+6iQCbX77juqbCUQ0mW1nzN7nLb7PlsaUaBatobxzbA+VmKa0ooYbiE17R+s0A8SmWl8kgHxP6GR236R0XwmwHwT/JZADvTKJKOhrWRu4TuTaM+RnlHV58hNctLmapFk4rUcTWupubKatelolk9Afl0e1Pyu8CdKuZtmNbjnKSKnQq/S3WzB1E85KfWa9rs8HXKiz3IyqgmfkBue9c/Ib5AfvslesfjaNZaauvuiVdaB5q1SkY6PmexZEqjMo3SCdAT67IKVN3sRwD54WDA+uo6j3e26XV6lFlBmeUUJsNqhcEwrg0nGCpxumtrtjJQM8czqXjm72Gmkr9hr8Cfybce5MWr3Xmfy5aCVspb0lXYUhBjsQJqItSopD7VWoFtafGshj+NxXE6y2mrVs3IcfYKPw0CvlqaxUTbWZ6mhbNA6Yxn4rm4GXWeAmoz03SeAFyn5E+PNMlFl2kPHcDZsE+duO1gcLRWYaiVwWrlt3RMC1jPSKkU1/7+SamJbC2ppy3lyxi3kEqlb+MtlJokQpjfO41eixY7Q8JyFkvPCk8ZcjF3hxZ+ReJ1AWKSNqSNOS3Z6TzPIxQ4rLTTeVK5vikhThdok3ytsl9EepptjphFE/fIm0L1NHkq4rHXWUmEF9sAy7jXPcVYmu9tmieRDFv9aZfTWEqndF0lvZwS3k4HAZ+3yatbUQ9m15cCvPwVJzqtmxFS/Xi1j+DNPBufNDU130vKwYX8nJubZ3NQ8HDrEf1Oj05R0pkUjO0EpQyGmrquOaomGG2w2jpJInXAMlbcvePAtVuRjoxD2NbgSCNbmqa1UIm6reWWFSA6BGYKtG+TAWoMmgyNpfI1aMSzPBKwErEvlVVoN3/6m/Zg2tlfMzvX06RnyTsjPReHeAqAb2k6Z5Vzeg+CDvOEuiT304kSs54MWwPT9B9KTsHdIAbs1LfAkKHIQ32id7jXhJoxhkoZTObXhcXfCHRmA0/vyJmflaDpjC7bRraG91CDebVeoi2Ft9GVU1ucJTW1cQeP3hmyWUOza/8aj0g1r2r96qlRyqwyp76y08v6GZpyartnLaMZckAYmzPq/EOdLJgFm/EY4aw8foXYNsSq+OtM4EzziHR5qgTkn1WN7C8qNcb2VDllGkynTVECxu59Y0TOarMHeKxt3nFi8SefYjunAuK03p+Wwp58t+ywkBcM+wO6nS5lUVBkOUWVYTTkWOdtb/zlooqUG0SG0/DMaHdwhobRUGHaqkzUGAK4CxdKS1IEn61KufC7Ne4le4kSzlW3tPtkrBuyWPOEmADSNBXYqXdNae3rSM/DDr9qe56uzifleppSXlyeVNZO7+hrMyTRyQXc08gBUVQJ5xGQ2IMWE/JXXps38lTATsUzocazpLP5ok+zBNMWY0vWaeo7obwAHK8+iWZI0TKmTy64MoO/1Jno5fM+ldB4dnJVPWEw7FOYvqXtz1Txc6YXJNg8bzq9j6eD+lQ6S+N9qhYkmtUpRTS2HZ6jlhef2pzEtt7PyOlN9jNLUvE4HHiAj5cQNzR3uYNjljafav1pCt71ucroqJxOXtIpS8q8IFMarTSZsuTa0lUZfZVzoi3HWXTIa5xzlkXfEN7V9OyosMKT8WlJP6mZXmkoshi2Vb63yh/fsIy9CnGCofJMufIaV0Y0QUZdQmTpSGxt5t7igU9Byl8vGX4Vr81p09iLq/N5y/46UrqXLklgS97Hv6mu3gb5eAqB5HudfJL8NQqD9ocQfDTIXHmzvaUZHfIFpnCKJUmzjsyFvO0v06JUIPZUm09lbXcFsx+f5CTFzFN68ncGc2v7274oTf6s9CQKTa/1fJ7mfF19eBHlvkhrwB9irv4lpOC9kBy/dh9t4z0zwDoJ/xW86LXHYwH6YNp/Qoqx61VGqTXdosOg36fX7ZEf5C4AjtYUGkoy+mRYbam0CQA6fUyJ2cDe+C3V3mm+tyTauvWmEX+FmrYe4I2oE1j8FbjWYI1l92TEZ9sP+fDLe+RAZmkBfDOJV2m4JFQkorTJrWdPs0lMPZdoPo3PSZfbMs5peRxjtc8tR0yZkJ6y7ieB/Ndvu3jW5ATQBsgnAqSiPZ8qAHytIriLx7ycD8/wpzd8HWC9xchSKUWt4MH2FuPxsStNachEUOVrGCKZxATon8SAU00+jY+gZlE2QWaXuqxX0UN10QQQU5CS7enObza1Bnx1Tf6FpSjhP9tjXxvAv5iheVHHD/9/gH8x6bSodsZarDVT4K+07Nu7vwLwp1kI0pSnHxTQ7/ZYWV7h8f4Oj3Yfo3D3s2dKUaiMUmXUPkjMCYaJqalRiWhOIsarhJsmBGYTxpSC+dT+iBcUrHE3vpk6aWwCuZ5xGauoMstHj77gf/u7/8xPfvMBpbUUFncMyKZlx71E0dUq3N59gLX4XzNoBfGonsFfqWrj1quBEBtGXFJEj0vPuwvf17Z5PPysPLJX/NUMBm5eUhN22j6VtCeVRM9Mp0k6s6Shr9na4egtkYRboKaIgC3J4I6GBqc75dpplTsOJV7PmZXoj250Kty2kMkUJlN8/MUnPNrb8vXXnhj8wy+837ZBo65zbZA+o84U8GUJ+zKDcc6X6X6K2ke8YGW2Ji/Nc881BflUgHxRmvyLADCJGvZ1k+ezJvsC2vQ0YPDU7fkGzNU3Lc26Kjb9raG5n/KM9V72oskrCICutf7/2HvzL0mS40zsM/fIzKrq+5r7AAiC4BLkcgkspbdcSXs87a709J7e0/8qSiuJAMnlKYLULhYkAcwMBoPBTE/P9N1dV2ZGuOkHd3M39/CIjKyqPmZQNlOdmREefoW7fWbm5uaw1kYtvsxjjCLIC2Tu7e7i5vUbuPvoHhbzedyr3RAwI4MZWb8SSR5xOnboIlhrwIYamJQzFF+7XAPp9Y2gDEWNPa37UzpxDQhavh/EHRM+vn8HH9/7HNYxdhxjEUz7FNJHcyMnoHfwp+ylk/aQGhDrkZrXMMMGMGyRgMMwok+ADYIFk3j2yx5+rzG68Izl9LtMw/CgotNkATRKEB0zMeg0RDFfRgJ1XVYn76lGuqwpaXR9NMfa1IapaTSZ2v2IYiAGZoByovPvrCXybY5KbQDnsKuDHOIWTRsm4Rr+/WNG/o8YMSGzckR9VrQpb9qcRgnhfliJSV4CLVE+FThCddTkuXg/sh4fp7f81uuOJGOZx9/nBDq7QDkT+uu50ssldJyFoFCC3klPaHvRwsJYHdKpcP2xnQE9QkRZAE6BvA+Hn9bhrbUw1mRa/FQqNHnC3s4ebl67gZtXr+PS3gUsZnMsqUXrWh8hznUw1j9oSbSk8CcalIjq6lbpgZnwv3o1ATgIIKvyReo0I0JC+NNRGBhgQ1g7hpNITlFYSLgk3pDeVCsArz+RpAC1t9+pWzEJKxBW16Q75DdJVqH8TlpAedNjnGtmdIxMzhjUnMtrQ4AZNDGpXyor1cdXdCKA18rW12rZjKWZkk81zRhgcOSZHQAdKcwRQqhm0Ww5G7uw8IGhXHDAIwouI2GciJlINpKfNf+pMZNt+a0skQnCSr76jwHZ0ytLYTEIRyhzqFi5T8W1UWNCqMqm7prS1IzpThm2lTRlEJvRiqnJODZVTk5nl+GYprltHmdNMTTsyH0/NE8nGJwVTRFS5KCmAC8REyoJ43xj5zzIQ805okyb3xbggUyT9xxtb3cPN+x13HhwHZf2LmJnNkfXOiw7B3QOcA6GCI2lcJ63YhA+IzUxEtDr7Uss93qDRnWWhFA1sl0OiYto7Z/Ip3USiz1xGQdg7QjrtNge5YEMncMXf8iC7G1W5Uh01niWCydwTI9DLSbENCVllwi9NFymgRz5qto8Za5NmAQCdr2yVP22KmuKBl6rxFlo8r1rXAw4zm55R7mcm3vBRl3zruXxOzuAuzB6A5izOIKK+YVIpN805s4c8YHe3Bl832Wna0FGPRs1eQXwUSCUbCg+Vh0WStbZBO5Z1WvVLFswsQuzM7gH6tCTCbm4qQFxQxvK8s7CtP4s6eVdUx+fJ5kLV1SQXhzYT7JGiEyNYkudykOs2c65qMlrsNRmemv9AmM1uM5IXRpdILODNQY78wUu7F7AlctXcOniJSyfrNEdtSBizMh6dugIDQMzBhwIjrxZPztUBUqpiUqwbzlTjBWk8DfCv5dg5CSjwJCjVpyxGeEqScv2v/0XNhqwOQPqzAoAIN7UIM+cDk/RoJHNZflR1Ku0Yca6qzqOpuH88tR8BoPKbFP2Fmm2oQxwh9T1U6TJ2loCvdbykik5jh1NpD9DPnEshXElKKLDLNaimbwIvtpjOrVKVLT5IrWffeWG0zxNiZG6yb0ARJqXVxj3IG0rK03pcz31Kw9uApEqYL6sGHpOz4Uy8PcXeuNWHzgTEUisZwi6xYAGv0moqd1X5voAzoYwpxku7O7h6uUruHLpMh7tP0a3WsPMCPOZD7/K7NA4YB7wpGWgE8cl8ofbiHOTDRO5Iw7rzhz/dfDabKdNpQwfeIRSJPeWgTWU0UM0eA3yGkBEA3Gc1kcjYGvg14HwwzXSn/Et5D1XhrGETqOlAAU2JVjThDTxYywfKZsqv1EAj6TRZetbfMI0RZ3FVqXLjoKSK9LIc6QmRZnPFmm02Sjb3qDqmgZSXVDJ2ilWIqjgT5zaT6wCQ8m4kvpoweIMqbZ1Tq5n33UfqfRUpM98arIMxwWVkGd81RVML8tN6/FI721Mw5QuPEkfTgX7fnGhzGmFvrwa8jk9b8rW3AmoLZVEoA/pWV0nStHvyn3xJ6HM8c6AYMmHjN3b2cWNa9dx8/oN3Hv0AI1pYAzBGgKjhWOGBTBjD9YWBh17x6WOgQYUtxtZCI9NQfiJvVc6s3fyMqzPGfcVa5SmnzVPa+3sQgxfYbJag+tLUTmXLzl+CfAFU+x5F0FxKlR+c/pNyJklFWmqUcmKa0NptIDU+62eQ/lM0ZZSzepppVI+pT6KbZBK6T6j/L4GZlZ5aWGBavmo8kfTqPcdf0vZZZ9A9WkpapeJynuhbBE2eoHJnxPFMTkGMOq+CMIC6LELKSUlCYJD/c0unML/xtdIad5GvJYcRbBWlJldATXfhltw1vj5TP0gz+m5Um/MCVE/zbMqO9MxqqnCt6H1e8Cb6aE0eGujmX5oHX4q6EeQNwGOycezw4XFHl65fguPD57i83tf4Iv7u2gtY229E1jrHBo2mMFr244Jjoz3tkc6YDTycNGwgBADO8UKb4BQapB4lIDQgdGyMuQHRhTBU9QCQ0AQUPx1dYhN7IsSYCo9EsGrYF0CCDrPCB5Fnj2NSTG7qDFV0gw9U0uj61cKBXEZomygulam4UreY/mUJu7qeBur/zZpsCHNQN3ju5B3qNNRf1zkhaQZrD6yH1m/a+lC3okWKs6QzfTGxUDeWhDL6kFKYM2FJfGxIZlnKbPkP8KknEA5NlfjdVZqRZOXqiRfwM3vfese5LwevSiXzxjsT6Ldv2iP8S8jxSN/azI8pTRnTRGGyOObH/upoLTXXf1G5R3LdQAU1t5t02Rb5spn9JbISWFtESR3Qylg5+58getXr+HVw1u4fvU6Ll+6hKNuBXQrdOjQksWMOITm9hK+Y3htXpmKpRM4ADdDfJSUVqA+pbEmCAhiYTfkLQfiFR6nT1xLDK9VPO71mbGZtsOJG9UApaoYsdKC1H0N8JpnlkAvNaaiHmUZ1broQgvmzgPPDYLvluXrBo/lMzrICmFJa8CDaSbmU97S5yCUgs9JSOM2RKCTdw7FQWr1VFU9az1Co+M27dMAr4dUKfuIeVCxrLRmKAdoyEc62lPXyMtiMs8SJT8IyWNiMJyzAOTQZ6NFnRHwn5vvnzOVuAnFsp+l3KTHPmndov7+e3vj5Y85muittWiaBk3T9PbFb6Jaub198jLpmqbBpQsXcePqdbx64ybuPbyF+08fYvV0hQYGO6YJjKDDmh1aZrRR1NcxwRBzlX3gXvLxPRLnfGEbFJOgAdAEpmPhtfo1+zjh0fNeWuCQAuZQqAer9dSeNqd7R/cEDzBA9Rb1czXHLY36eqRt1ETV76G8NaOssiyq/CzTbfqtro0ClaSZKDRkOL5BQNmUj3wf6wLtIT1prkh75LkgxMiBM3E8Uc5FmCtVVcLmiVTRsWpmcKqKZHVftan4mXwU0p/wAArv23uXh3ka8Tq1haWN8qHktwzLFbJT/lRiks8FFEfmv6YTVuWs9pB/GWlbC8RULfRFb5c7C6oFIoq/OW2hk7QC9Nba0fX4WoCd2u9exDuB46axuNhcwPXL1/DKjVu4//g+Vt0KD588xIwMjDUgZ0COQNwCYRO/rOUxRxkdjBToRWRp0d3HKFg7MAsA7yidv9uBAWuBxqRY9uC0ET2a7hVo+55RnKi4FwsuNUXFJLXGrn+Dcg5XcrqTUFlWeX1yPqecJGc5ybZUPsfzGcmoBLUxKhGHdMczJNgSgDTOtHNfRCrtxIk0jrTGf6b8akpnEjJfClU9/12hs+qHGMdeLjNHkCfZGcNqh4ySB2MzmYsmM7Td9CyD4Uyi0MaxHiP173ZZfznB+azoWYDxNn36IoSBoa1xg+lDHfVnmlsp8NRQdLuTUuZdD4g0n7a/LWYzXLtyFa/eehUPnzz2XvPkT83pAqhSx0Hbtujg1+wdkjk+7kcOH3Lijus6dM4HOpADZKTzfAX8AxI61gUekY4/ZA/w2gYYDwSJPZszMJZn5YfqRL1ww6Z4TqO8FgBQ+U55nUqqjt3NrOdE4NjDgS0HzVagPCXvCUg3qbwTIObGfEOe2RqyaPAKjBQA+sdEzVUQVwoO1eKKCp2FMNbLg4uuEuFEtUWtz4uQnmSYPP68gKCXkU/PgDK/yBE6yZrq5DV3Ln++WMB+0ZrrSQWWoec2RoUboOr93qU0uMcC0wwGrBmrx5CSpYqOQF9j85wLAWU4WiIRlBH3x4sGLwfR1J7tVbPIt6SmdyW0zUMlYd7Mce3qNby2OsQnn90GOcAaAlGDFg7UMdBxCLtHIMcgdn7fPBBi8LrgbOf5mjEe5LnzIXEtkz97JvZdcMqLOKuPAUX/DHtAaQNeTEkaCkQVmQB2ijn3+qoUDErBoXxm4KUMTiAauXcK0lmehHlMrdLkvMfSbVCztslnwqWNzyaPGWUh0hNajy9Vr8Gxo4up1ZGn9yMVYzAuB6k6p4xTHbRwQpQOV+jV1/95+cY/r53yznKkPguAn5r3y+Zp/6IBXupwlpaJGshu285s77nO2xeQma6nAH0ZQ773DIUyuS/0ZcIBIxyGlecdw0LL3FF9OhjEBgRrm+BRf/Itc4PBcGKCwLQk3dw2uLJ3GaurK9y8ch3XL1/F0XqJ424NahkNDBzZcAKs1+itsVi7DuuugzUG89kcjhnL9QqrtsW66yLPXDSNd6wTbck3Obecpp8gpINFHPtwpDlDU1ysB7qbBq5mnEOcTGlrkiBeekZA/atCZ9Z1epAX7+ikVDPM1PKrXivAe2yMTAH6sfX2+gP1S5kckBhQckpVQozqxnM6p+dJZyX4aDP59MJ1Bqk+WR6ZXqDA3jG6cOx0XFcXoUEghAhN02A2m2M+n6OZNXEt/iS0IRiOOmnK+cL9Ee4zXNm9BHLArSs+pv39Jw+xfLIEdQ4zsoAB1q4Dd4ymMaDGols5cOdgrMXufA4HRtu16Jix7ByWzuHCbIbd2QzkGK7r0hqFqnAya/jeNACaAPot9cPC5i1WXya/2FITqths4rp+qteZAH1VC/uS0EtXZy2MqUvbUK1NNWFBrg1ZgTI/kC3K3TjRJ9i5pX5VU74ujyLA+9C2yYomR9VEvjShCbUqnNM5vWg68bbGQqMvwVT7o8lcYgCuc+hCJFljrUITr+0bYzBv5pgtFtGjnk6hxdcogXx0rPHb12StwRDBWMLuYgc3rlzFW6+9DmbG4cEhuq7zawjOgJ1D13VoGgtrLFzTBDOKQdd1PniOMdiZzcDUgbsOM2PQmBAUnk00DTKg1t6lA5GW6QOz9CHlk3Nf3Vw+wOQjSKvPUiuqBRrp9X14LqvA0AvikXuqXs+KJYoQ8pUm3X+nVd8rzw9lNwm8Mf3VnsX6/DYObcopTZsbU7vGKz96LtAp6WUzqZ/TdnRawNIhYCO71cqfkudJpany9Fr99DPltTKdrleZpmAXFOrunAtyNoXlrmSqJ2Ngmwbz+TwFvjljHt2k6jJ8SBqGMQQGRbBn+HX4q1eu4t0338Hx8RIPHjzwJ+ZYA9utsV6tse78+vqcDMxsgflsjqP1CgdHx3DMWMxnuLSzi3nbYtV1fg0+SBaGCGxM1CQcOB1pC/jz4GMf+tj3Jmj2rlw1yazpQy+50K6oeLaWPjI9DewYuFbjTEOaVPynn+bUGnIpuJwyuxdNoxNAvbzYztNMGEbvzIKxLE8rU8R8Ruoc196LsvQz2qoE9Cs1WM+ovkNU+WS+r9dJM8NaipNq/r18GFutzQ8JBucCwzSasrXtLPKZShJYRnu0l0Cf3q0ar2HgjNZCJe1dzqYQ5VNOBOFYx1C/ipYvYG+s95g3ZECGYK3X8E0jJno6u0kTqL8mTz7ELMi/IL/1zZsbrl66jPbVN/Do0SN8/sXnAIC1c3CdP7imhYVlAoLZvmksVu0a7XoNx4yd2QyzsN7QGIO269B1XXJahpgUg7NeNLNT9BHyjny+jh7kVSdDMLEQ7TLQl4aGH1wkiCZ4UpyF+/nFEtXzPd+AqTTARM9Mq/8qae+b2nKWXHwADceKGMDV7N5okRMBXj7LcgYF1JFnFPmRzmou9ZPXhuXzGGHnAP3y0JS17TN3IhSgrznK1fxeAi/fWI1amhpmoKIvFdqlWMJiYvIKLOQ6+36Rs+F9ZDsT0jybWdQHeagwfOqaNRaX9i7CWov7N+7j3q17ABMePn4M6hx27By0IKxch+PDI9j5DM1iDuOAORm0cHBdh/W6BRlC01i0rsPadYBDOLYW0SxPIBg2fvsdORgGHFHS/skvK8jhX3ISbCddrU3tBKWRVThX72WSeqY0WYZKZmZ+qOshXe19Dc2JoXX8TaNzijQ9uD3kqwT8QhNNFmOyU5nFKOhukTcVn1NoyjualOaE90aSnOPtOb0MOwE0nXir3Bb5lcJN6TVf3pNtcBH8CbBGItrN0DQNrLH+yOpwjoYvkbbjFSM0APISqkbcbQBLBhd29rC3s4dXbryC1195gOPjFfafHsA4wryZgWDRHh+gPV4BCNIKA3NrQY7AzmHdrtHMZmjI6+De+9CXbENYXR1O05DEtQcMcwb0cviNdGILOd8sD5PrL3EsJwPraIKHAm8ogBfAL0W6IWDGCJiP3RvIb4w2PfM8Af6ssjw1ekxQVcce3aaYseJ1NU4C8GdNY4rCRNkIEManLFeVsfRysf5z+lWisw6KU9vuJtQLbKNAXrzpDRHIWjjnt4uLFu896mdoZrNYDiDQs02Inc3USMaEEIymZwZBABLZBmBw5eJlvPXamzg+PsaTp09wvFpixS1c5zA3DXZmczAI3aqFsYS9nR2snMPxeoXVukXnHNZrA+ccGmPijh3vSCcSjJZkRE9HPJ/akI+CR6B4RHzcWgfR6EMDNIhn67aaC5daenhu8NQNRdsA9BhDPSnQP8v0U+mlUu0KfrdO5wAAIABJREFUszYXn4OPcP5M7Z0XKzRTqtH7PoWmeNaPNWjD7Xp5yTtYLnnLGo3KCEPFa8NZ7/4WdXuW++SBrWScc3pJqIweN+XeaTV6fd572gCTlyNAT0Rw4jAegN2vwYeDZ6yN17zbi3dSxxkDPFAcUEMx5rwyaTMAdmB2MMZH4rly8TLwOnBweIA7X3yOx0+fgFd+i9zcWjAtsOxaHK9bWDPD7mIHlh2W7Rrr9drvfQsNt9aDfOc4KdpiSRDzNycjRvpgEBMc2B9vC8CGDuogJ4BrTVwaVHC/DPjV9QjsCuBrIDxkup9CNUZ8knwml/crpGNt09YS4OXa0GvYBuhj/ltQWfdSWNGCcG+sDFieNlUwrpPpWNlqzm0hwxIwyds+c4vZkO5ZRbwrs91WNjqnF0cnAXp9b0r+QB/IRRjuHTaj5hwHzZWCg51YyJvGR7SzxoCsBRnjTfU6r20l6g3UAB4MnevQOUS3fqkUABgWM7o/kHZ3tgD2LuPVG6/ga2+9i845fHrnNvYPDkDWm+4dAV3nuaBrO4AY86bB7s4OVm2LVdt6kDc24Kc32+edz0qyCf8Gk73gqomKOme4rM34/UmrmVfJsTXnVtcyU34lu1o2UyhLywPXarpGyfnH0tTyGkpzWhqqz6b6TUXMTWU9JxoD+rNGCl3GWFNr9zalz/JO58gHvEdaOisyKiz158B4Ts+avJ5WXyLaFuin0qZwsuUafAb4DHA4QqVpGljboGn8eryRgDdhvkHi1D8DVuY1eQYcO7jOoTENLJnoEQgQbNDwA/RjZzbHzM7wyvVb3lTfrvHw0UN0qzXsjl9ncAR0xGjB6NZrOEuYz2Y+UM7REbr1GjMQbHBMEOCOHSTE7LfXQQ61obg2n4Dee9w7IFrZgxzlNfoeB9JgTYBeY8w4dIHa8Sf3NXsdhFvSRJGMVSUqICuapK5nFEDKutRQZUMaqpXNquwyj6FrI2l6MQV0X5b1G0lDQ2WVal8tn2dIUwS72v2zLH8KwFPlWi+Bqpho7CV/UdcxxnxO0PWZe8w5fWnprLbZbUMC9FNj1J8G6KekH3PM02v01losFotw8ExQpGWt31CAi2czIbKId9FcF66I2d6fM+8r77Vyv2/+4u4FvHbjVRwdHeHe/Xt4eriPo3blz51nDkIBR6nGkNfcG2MxE5OFWAsChDu1/UCAOjnRpU4gtUXCRAxmOPi1+hApH23IJe1oLAde7TcX9yqDVUA4nk0/kG4jpx/RrgeBYijPEvg2pKFauiFTxBA4D+VfG7BlP5WAM1aWpOEK0BdlbTNXMnDcApnHAP4k9YjPTHioJlDU8ukJlgPmAGm7VuHjLcqT6DkYPrdh5QOixjl9yWgqAD7v0/lOqrVv89ymtNpRz8qxsU2DZtbAGJvmEQMcDmgLGUfd8SwlYA/yBH9gvTVh8R8KcH2DLAjrbo22bQHr1+8X8xluXr2Otmvx+OAJVtzi088/w9MvPoMLrm/el8BbAOQgzsYaLGZ+fyCkAlFTk2A4AeCjlg2QdsCLIEtx/c//pUElcfhb9qfYZSFzenjI6g+V77U0mjZcKwEslllquyPPRc2+ooFz+XypfRX1I5WufC5r75j2rcs6iYBTozFBYGpZ26qWUPlWnq29mhrAD8o1E/thaC1+KK0sHw3dK/PRqBwZSRIouZaWhGnlQvY5fbXprDzUnxXQb1pzl7JPkqfQ2PNDQJ9FsyPy4N6EePTWgoxaSGb2R7SLh6uwcvLa/VlNt6jJy54+gpjNOTIR2Tsfg9Ow/2xsg1kzx/Wr1/D2G29j5Vos1yvcfeD30DP7tXgYRkdeamEwLAhz24AkhB8jCgBy1jyFxvaZqlgH0gDS3r9GafEMxG12WynEPSAeS1wD/QmDuqrKlJpXCW7pa1/DLfLL0tQAfqjsIaCfmmZTvs8yDbZI85xIwHQTo9sG4HWa7J1XHhLH0vJWTaYN8yoPZ5vKyuUZBnM+Jku5s0Zx5Lwkr+ecnj09a6B/FjTVMS9LJ1gZYs9LsJsI8rL+Hpaa2XE83ZLCyaqJc50dDwtb6OT8+GCSl21qci9MZGsM0Mz8BCUKR786zBdzvHrrVcASnjx9ii/u3cX+6gj7yyOs4TCzjJXr0K1X4K6FIcLc2HAeNcUodg5AZo4N5gvEtY3ElRJvqaKlT0M+Mh6TgQm2BZ9vjenWuGDIuwee8vwptdeexkWR2Wbl6WulY6JOQ/qhSpqsbEwoa2IaFGmqv59DGo0ceuG3pnWj8nuMpmjuY/Nya2//ifmM/ab4slSmakxrgC/+JE5GGp7CIVTX1oqsyBMlnQP8OZ0lPSuwr22/q5WtHgCC5VrOhW9mPuiNMTbozVzjzohWaREEzlBJSZo8/D55B70ubkBqRhoyIEseIwGAHBwxZrMZbl67jsVigbv37uGL+3dx7/FD8OOHWHYrtOTADKwcwXQI6rXX132M/OA0B1ZCBYdO8MzGx6dPAC8AWS7P5np3sEAIs4cSIKpcWzFEAbIy7O2IULEVwAvVTKsDfHmoqpPT9Mo+ZZqXmlmzEpoqdFKAr/V7Uewz6xdhOlS+9MkZ9AEdQJzQHEA63ks6Rf58zqjG5J6Xeoic03Ohs9fhdeYcNOPNQL+tMFAGwplijZA98aLBy5/U0fMHSnK26CCsTrE7Yy/7IuKdh3obKsSO0fmd+v6uMcErMPEIwwCTh9/FbIF333wXzWyG9z/6GfDzn+Hh/mMcLI/QdISLs13sNAscr5dYrlZ+G0HjI985BjomdAhH8IEBCtBOAAVTf3KElyMxA8MxUmcKAkEQWIC4vu/3M0hHm1wjFaaWMTjN8SYM1SGNUWhokGRgxHWtbwr3nMRhX2a2W0hqVcvEhOf1M/F9V5JPyXaKFaD2vRA+Yya1MmuGiV55JcDX6krDY0zyFc7CAGAQj5Z2DHLwf+w3y0Ynu97wJ/hDP9IGu7gxpfcOtGAt17anZxW3fmq22+yr3va5F0lDXupVQItjEDnvfE6UjQFWwxjja+llsJqxrW+SpvZsSdGLPvxrjI0AbxsJeBP2wqupz04kao+4UOXH9jwrTT7ujSd/Dq7rOn/SnGwDaAjGescBH/qWYINk7wjYmS3w7pvv4M033wIc8PD+A6yOjrFsj+AcYW93ATYGj1qH5fIIdmFgLSDBc1ufFYx4rQeA52ADjOuFsTsC8Ivk4+Ad7Dh8ghLIc2opSF9QHKznBIA+T0rcrE5Z3uW9ESYci6b8mlRx6NpJ07yUVPSPSL1nkG2v7dtq8ttcKzEtG2sDAtwY0E8F+MF7qGjwFLikP/kRHYO6APAc7HoU98fEx4Je45lQOA/aiGxctdW/3CA3haYCdQ08XjTVArWU92rXqyCv96hvkCd7eU5POp6PsGrmuLLr2UTSuIeC05RA38tbtVtHrpN7ZZqYDoB4gpGxMLYJfzYqxkCYH8xg56RAwFCvzmcd8y6CPDODO+cLVQAXg+OQ1+QlyH6KtRuM/J1Dxw5kgMZYvHrrVXz7W9/GxYuX8PHtT/Dg8UMs2zWOl0tYR7gw341e+g4+rq8FYUYEQxadcX6vPRgdA/7MeRc5jTE+xC5AcM75JQYi783P3tlOFAsCwRDDgkM0PImuFxicaOxsEtD3wF0yo3yws7oWtf8xMN8A9FOvj2mWzzvNacbkKPgOaL5DlE3c4sGxfLbpdy5+THGYE5ClkUQl0GdNmdAJkziuVEL+/CXDgGWGZY4xJ6JcGAFc6pjXhXovMG9Guf5+fpLc86Mp27y2Jz+GnvfWuJJICRt6rmgrRBlLXj5L4C7jzusyhg6pybR/8s52xhqYqMWbAPIUcFQqi7DnO/2c6tF/UorBcOAYTMn07fvOSxqyeV/0aN8hvpKGTNgJ0KFzHSz8/vdXb76C3b097OzuwnUOXdvh7sP7WB0uYRuDC/NddOTQEaOLqrYvx5A/074zBGYH57pQzaRPEBk01sIYi3Xbwq3XsZNEsyAOLwreE9gRYw3GGsKIBJS5AHuk33ApsygADAC9MFF9r6Shexz/GQadIRB4Gegk9akqtgMAuKnws9YghwCeKj+mTMxa/SKSjpQZk2+pOvWo7OzEHS0zZgw0AeSTlSzMAGJvsevll1cPQNzVF5R8f+0c6J87nRbghywAnk09nxc4CfBMnk4DvBONWeUnp8KVmrk/8pxz8I7p8rljQnwXY/xxscYakJWlbP/dSmz6oK0DStZXzXoe1p60Jp8J92GmGgIxxy0BsakB9Fg6CuEEObKBGTnsLnbRNDMsX3sTXdtivlig+WQOEOFodYzj1RJoCLaRQDsAg2DIwG8l7HyAf+fHlAFhZmwyjwSfAccurHGkM+fFLciBvXLuCH2XYCgtHOkNaLDVzFcvqghlgF1FrOH05UTRkt6QXX1ME3yRFAfFSZ4raFSz3yKfqfXRz5ZgqyegoFeVyndJo7d75ZZa/FheZ0EmWKy6pM2XZ2DLX1gQC5YvSvNG0vbqO67Jl/RV87Q/bRjVeqbbzq0QG7RXhcCjJubHotwUeT8b6ue7qR97NSvAuaaBl+lqZnlZ/k3fy99ImrsRrT2Y5ckk3zXTr7s29z+v5ZwYDEc+s/NcCIHJhIb1OJNsewNmpoE1Bi06tNz5qHbU4PUbr+Li3gVcvnwFZmbRocNnn9/Bg0cPsNhZYG4Xnn86b4I3xsIZQucY6Do/0hzDGoPGGjhmrNsOrXNouw7MXWAUFMzyYkD0iO2BnuFYTqvjfgRWAdioxHBomNbw83ZHKjXzMS1+UpoJwkKtHi+azqI6o0C6dWbTk9ZAViT4TJCfkqd6Th4ZA/HRrKZYCAbS9LQtZXXwa2/e2xWIfiuOADbw/ngGCKaw+LRijepTCb+U+MZYc192YD+JFvzM1uKJk9K1KWlZpyrIb9v/iZuml3o27cvAdqj0MatBUL4YHLXrmjl+KK/ynWVafsC+bEubTAJD8Y9ssD4HLR4B4E1FyHhRpDR5io1Kl/x3CY6RrUEA4KBFM7xkY8l67Zudh1xjsLe7h8XeDpwB9peHWDsfaHa5WqqOBGC8WZCZwA4wDrAgdDCwxDAMEJMXBuDj6XuvfgrCCSXzIIL2TxJYxyGuHRIl5w2gMLUj3aDit3+4uKA1GyqSVAZnzczfT1QWOpDm5RhAAFRVTmnGE6vKafPZ9vlq8syMs2VmEzT5bBxMzLo02Y8NgXKsCaNCYFARnP38lZMbo7YeBH4N4P52AniJUZF6iHp16vXeSQWe50TPZh37lDRVk6cR3nGSOaqbe5LxWskGqPfj1sNCAa8G9956uaKaU51cK834Aualhp+Z6dUfkdLeRZCu0FTP/bOkbAvd4DpMKaWG3845v5YBwMJ7Ehp4sO/YoXPr4OUO7O3t4Z2338FibwcXLlzAhQsX8ODhAzx4eB8dGcybGVrucNyu4dYtyDIa40PsWhi0bYt22XqpjQyaYCahoN13zOjYoRUnvECG4JcSglejYX9N0uRSrWjtnINN9iIKJh41tQIUImDpywXAn1ibf1lB/ixoqiWjeCTWg/NrU6hWXO+9FmWN5scpnViHemkKwK5aEirpswW9iXVB8YxY57zkDCaGg/M7TA1FrQhiFQv9SlmjpFphGS8IBdmyHoq3qabGl402MeMa7zwLBs50UiCgrJ858jPa2P8prcpNA/y29SkMPttQFayByAKTFj0M8GM7C6Y4vQ0Buz9sJmnwyUo2XG45Pp4H0GdhbceoenZuAE4HkXTgQZmMP9WOXdQOdhYLvHbrFVy6dAmzZobFYge/+PgjtGvvce/YgdoV1tzCOICsgTH+mNsWDswd1p13pLANoTE2RhXq2KEDY9V1cE4Oo/FavEEI3sPeh8DAb9FjYWC9AS3APqTJFTNHbmdMW7gZci6n09T6O3s+L6rPLV8iTjkU831bmpoNF1/OWjs8bXOqmnuR55A5vaQM1Ctq8ibSgk+hlfth5EFetHYyXnCGxM4mKHMxp6HHlfzUz2IkR2G6NJp9GWgbJnzWjFu2MG79VFE+URm9cOTpLG3v5vbvj7B5ab9SpWofhmEp8d0FcP31YjsaEOdZvqdd5zU87wgJ4G1w8ra20ODDgTMAKS2+3h4u6iJtfNZAn2+hq3gXjkX9ITJomgadc34bm+tgbQPTWFgyYGPRIUTQY2BGFheaHbx+/RUs7ByLZo7FfIE7n9/B53e/gGsZu4sd7JgdrNFhhRbL1h+KY2Gw28wDnhLgGN2yRUtrUPBktBwcAJmCiR4AfLvEz5Lh1x5d/MVInvRcgDuQedX3wKUE/IK99cBiRI2pafa1pCT/vEQgD+BsVLQauhYCjxasssdqApICpylE5fdC/ai9z03ERf2HE4Z0Cg313zZlCsXxqL2MyQO4ON8opkTGwMwsTGNBek0+BJpy4Ij9IiDobPN2FFWRf3p9SKU57aWgMa2upNrWqxdHQ5r6Zg1+KK3W7KNPU0wJ1LZRZsQonqHIHnVGhVgCyG4vfZMAFgCWnV9hjkRjgwgpAdOcKKTZFFNOdRClNfwkygQIAfim8Z9GOdaRaLaZ4Dz9/Z/FmfebqKldzDbma8moGMzGEAw1QNehXa2w7joP/GhgKQTk5w5r14EANGQwb3awuP4qbl67iZ3FHDs7C7Bj3Lt7H3CM3cUemvkMx+0xzPoYHXdYtYyGDIxtAPIvre06rNZrtF2H2WKOZjGHBaGBBciFWDopGG5ch/fyAeIGIYloF4Ee6oUpoJaBXnoWs06bJa6oNNR/XvKoqTi6DNIXXxKQrwoh0tGVNJvwqSq5l2hBFaAPHVTbsXCa/VoD8oYvcqrgIHXbplyK4BqOcdyuzH6GRd4oAN5/kjUwYY+v10o43vM8Mx2FSZKXbljG6DZXxbdp6MaLo20AXq6/6H3jnjY5e23TxyltMkCG4GTlYGYez7m4GQOY9dLlzCIplykfNknDJpIt1ybzH9HRUCWYW6acwgsHWd0YIZhT2KWlAN7/+fC0Rg6aCdaDkj9tY3V5Xhp9FeRra/K17QhiDiH4TmmYYeTFoHSQ853rw9/4dfZrF66CXgMaNri4ewF3H9zDk/2neHrwFMetQ3e8QsOEC7OdKF0554IwQTCNQWed73DvOu+3/BWSGxD19CixVe4UoCxgMgAyNaWzzBaVNMIYqwA+QFUNSN/cIq8pabYhbaoXQaa2VHGyzLMPoMxTvbCyLKnXaezDYxMuW57ZmNF2ZZYAT6ofTtQUg2xAEuWavCq6sRa2semESNWFwgQlSF7YqJU9D/RfxWiVo/B7knadPZ2UyZ4p0FP5fVAyyhI+SwOC13f6x4EJ4G5tYCr19pHKR23X//BjUPmFRYCvyg1FhDqVp1wgorinvb/mLiZ6m6399zJUbXtJhnKkHsgPSRPV68oMbom82TwwPyKKZplyDhv4YDbXL17F1b3LuHLhMl595VV8fPuXeP9nH+D48Ai0dmiPV2jmc+zMdyLDabsO5NZ+q1wDOCLvcMcdyHEC+aB1cxicCJJdQPp+T0RQUsxbGKz+LcDvuC4EAH0uVy1MPpTQEblpnizLbwjoyzTlTBzMh/J05XNlV2XXOLUh64cKOA/WXdFQnXvPF4JESTRQn21oyiN9m+ZwZtVxUuEQg384ndCUFUUJPKJa7uNhiNZCpSNREJrYsBqiBKpYShTsB1lipNLZYv3LSVOBv7+cefI2MZCmEeV3uLIHeGhP+MkKr+mjCeB7WQ+wwTGqAf14lcL4I8R546+4XM8QE7o2MIXKOVmShrrtEPe8i9auAT6tvSdnVN3uviWrXOqYBvnP11xP4uiRpqaYO6LXbSAX96r7t2yDp6EB+Q4Nsp+hELs3NQkOXmsg2+DKhUs+FCAIM1hcuXAJd+7ewecPvsDh8TGOlsfoYtAbA9PMQ7hbRgeHZbtG13pgJ+bkUU/iERy25smyAyhsGQon15cAnxoe+6TfT7Ep4fkTjHSdj75QXessfw+gfg3oN+axKd1YmjMcmDUgK6/12iUX9Eznet1PW7eNxPWfQ33UsxKFfzJtvhSYtpGUaunF/E/pM1YnBPiwFM6u4UzQiL0cH6lIHQUg1SQxz6gpb9LLpP4UTYqtrHV9r7tPK43V65CKIv9eMlFKVWNL8KyXrZz9Ng2nrG6jSaZllOVZsQlx/ts7VLs0MDsVoz5Io6yFlmJuEZkYgtbapgB7H5bWkBnuVxr8UXW0exGUg7x0DiNI6PLbr22U6/POObTrFsxA08xgZzamiaFvEU6hDu0PkIt4rCyAeTPHJUOY35rhxqVrePf1t/CLz36Jj2//Er+8/Qk++exTrEIAnMYa2FkDGMKqbbHs1mi5BXUBssnvjzfG+PfIPua9sDMiBzBhzcAa3v/ei6IyqMUK4BLo+85RHI7VSy9f4BlM8Oyd1K6VKKiqUrmV/d5UvbHne9fpTJtatTTUAF73fQTGUis+i/qIkCdljCbu/6w6A26gqDnLp85iCsCXacI1bYUiQjyRMZYR5k4j3vUB5A3gA47Ab6bXdappMhkPrgN8Ol6TkL/TF08k/w4CPWUXuerzQfGZsyJGwrfxFfCzmZMc+V3x/gbqVcp204b6+BKHYIV6Ilhp02+5z0DU0vsF6c8A8GJ6NyY4btsA9PLdA39fcy/yrQrqSTGW72W7e1V8hpasvrledZpezqxXIh1m4wPPmIw3pTmfhAdA1u3ljt8Pb4z3tr+0ewEX9y7ANg12d3axt9jF3mIHT/af4uDw0Hvbuw6rrvWBcTpgBgNu5jDcoYWDM/Ax9wn+6Ez4SHgW5APqEMGwg4E/AIfB8dAav3/eIS48Av1RXHaOZlLx+8gUz27pvBnRTleCbcYIR0Bj01ipYUB5fVRzrqQ5K1VsqD018Nc/CBVOcwbkkSgB7kYqAK9mCZrE/ZDAWD+z8dkMfXVF1JgNf3opIDB0z/QIxiqTYwR6ZGuf5TCvOsjHnSn9NL46pWb24im3VBRUY+jPWkmjBKRDRWVvm/rXTlX2xIy21+Q35CftVX3up0V/PMVTEjnVIw9i4/PJgtlQ7j3fNI3X5NXWODk9zhcSkDF0SFoSUMyp0vBNWvyUffqnpQYQiSlUSHiAKtiE0+fKShhjMJvPPIMwRk364IwXMvISG9Cx947zGGyS9EWAgd9b3zGjsQY3r1zHxZ09vHL9Jr7xjV/D559/gTuf38GdL77A5/e+wMHRAbquhXMO81mDxWKBlQuaPTo4Agz8QTf+9DmDjh0MHBp2mMGhZYcWfo99B394jd9uQYDedFcGN6HsS6IRRWo4jRoEY0BVXheptHq9yHqo/CENaizP6rVnoIoNCRfV8skD0RiVedW4UrW/eDNI9xBPpy3UmqGJrJkBxX8GChyhXswCVqqzqkOJ2OGXobQkF7dLEaptKFduSxCv3YtpQnRLOsnug5eIhnYenRVpDf4k5IcSRZCKv6uFTfMNP6v146E+4yBUp2lAQc4WwTSrcqR8iFJcnzdk4lY7KgCeSIO8jXiXS0veKi2xYXLykQyiooEwb7h/st1QsJ7nFgxH5KEg//QqUauI30Jno0CjzSVa/hKLj2Cld7wjf7hMVBF8WseMxvh1+WuXruDmzRtYo8Xtq5/h8t4lLJoF2Pn1+aPlEsftyu/tnVvYdgUCsGZCy86fZgfAEoc1fAMLhwYOHXfomNCC0AaAB9J2C3+qrUhvotmI+SX1meqlzQArnZBfUBpfcWtoxgXJtHp97Hd5rQZ4J6IzUmlq9a+ZyORLKegUEzN/juoWipq5dRCUCb0BHt+zAisCkm/HBgGhrF9v4JyAAWTbGEkJqTliZ3IJe3ZlAlPMSvUmr2gQ0LLoNm+9B1YC9Fvk8atKG/tZQDB81zc8/pAakwOyarY8mfLtz8ENb2wCOxhUC5RASRrQFfBn4ctRVFmeDfvcrQnr7eIvZkw8VdXImrxRp8aB8nLjoOcgBEmYtbDXgH1gNYq8ZNpofp6xFBqg5JHCFPrrJaVpgZ0/CS5JLR74xUknZ3YSREveEIcTXikbeA3ZpCE4B0N+f/21S1dg3zK4cuky3njjddx9cB9f3L+Hu/fv4/HBEzzefwpygGUCc5DIAsh3CPHrTQB9EDoGOvZb/DzwMxo2WJBD23ntvmVG8Ofz1gdQ0PqLUZyZ7lVjhoSBkmK/aq1eJR0E+wGRdhuSAV0C4yC4DmY0/OyG5IPXR+dMRVpJg07dL0C2l99A++PtiuTRK5rV9cAUsrUuSTfSiTWhIN4bqLM8lyUMhcWlJnUt3vMChVjifdwIz/AspRgX0nwKh4B07EAQRojhPsuqOjyQxmbFFG2xDNr1LGgbz/pnUwGk4T1ShB86SnhTJGAofHkIgyVNuqDHdSJTPlPmU7LGeC1ZE7xMO63POGQQVKykgHHa5ASC0tqDdh6c6WxjYdVWOB08J33XuCUCe9JOpW8ozO00VbXUlHq2DCCnFeXnHSwpC2srJ7j5vyCxjE42BrOD61zat8i+I2MfCeMLAC/MIUYYCgUyIZ7cw+Q99x27cBQv4erFy7h68Spef+11LNslHjx+hJ//4hf46ONf4ONPf4nDg0MwHECAJYeWvCnesPMATwYUD7Rhr8Vzhy6AewfGHA4dCCtirEFYQnYJAA159uYjfzlkL5fVfmE9g0TIAQ0DVglq+row0d6sHBAUtmV0et1XV5BVmScZj2PCCakvm/KuApn0cwXEew9KGdS/lZEC2BqHyrLWkxoK0OMPFAMgCVJFkdV8geH3qMdD9oKUYFGe0iRtIoLfd2+8Xwr7M+ItIwitBgYWlvwfRVZOsUrRS9nIdqotxltsnq9TZhEostEOS1MD0zyLgDQvInJdr0wF8hFsRp4pn6/GT59emd5Y1I7VUr2hMkTwEDxB4J8MLyhM7d5kUUVmAneOI8j7dXSPMXqdvWlm4bOJ2+OilKHy9/+LGJH+TQ1PfTIWyCdnH1T9fN5UDYYDQPGnsQqKucP/Yua0nxAZpEN6AAAgAElEQVSKF5VMjiT7tM/WD4HELGXNXo6HldFuqIGxwLW9y+DX3salxUW8/urr+Mav/zoe7T/B4/0neLT/GI/2n+DJwVPsHx2hW63BNqzRWCT/AQDEfm1ehA6GD85DoQ4z6+snT8yI0frRBmYXmZ/fzsfh9E6OLUIQXkyYLyI0SDuhv5dgHjngEEhx+szAZoAG3mHoiCKd+j2osRWAlwF3KeHW6q2/qnaONYM3JRirC8XhKHlFBpQBKNebW9aj1jYCMh+O+A51m8cElOHLmbe+vCN1KlwmAGWafBiDMBD4tgzMjEHTWLi5BXOHS4sd7M7nmNkGJhxLx+BwsmQyU3au83ID16tadh33rgWhmKkiz+QCZn8blSRTAVKKUqMxrdLlOvLlUBoRcqOGqLo9r834OIzZDZRdXsvENlJpSSoxvrQxBPBThJ+p0fzKdeZeev1ZyTPtvAr5UNEmhRW1nQtaIzbWC6eyji7r6x7gLWzTRG0+HboUG1LoDicXEKeA94sCeGAE5HXXjw0AIoC1FyKFQP0K5zJpVJUQpbt4Rf8jh8iwirztY9M3xmK+O8elxSW8eesNHLpjHLolPrv7OT794jY++ew2Prn9CdpVi8ODY7THa1BjQTMDCwtDBo5SpfyyA6KE2TDBwGIWvPQ5zHhvsoT3xJffzjPBNXM4rCc0XECXfAjFJjgvts47F/rmKDCorstzMVGU6uOkgzXbIXWtyEz6VWuiMakuRwEIijRcvlSdr3qWqF9eRoKuqq+UUJSBVeXR7HMQjfv9ltac0x0X32eoD6t+LbOuySo9oBfw1ekc+mhG6LV3MilmRZX3nZXt/yEQGhBmAGaOMCNgZoA5hfoRe5CfLTC3DeBcYIR+q6wNa+c6DrgdqLfIYYUIG/fHpwupspqhi/Agz1BY2oM8Lvkwpy15ZZcrYNVpMCFNFPpUVWWqSnAfw6rOSt7SWwSJKQN0XYfye3lNt5WNL2SbUVID+CFwrllBhqwDEia2dl8rd5vqGgPTUOmMpvlAv566LL++nkLN+t9WhaJNwWwyDZ45xFxBEjSo3g+b6GUHeECDvPA3hEpxGlajJnuTHOt6MveGtiUHBvT4ogYui1Q3MZRbItjGYtbMYNFgB7tAx5jZBhcXF3Hzyg28/foDPHj6GI8PnuB4vcLxeonleonlaonleoXjdoVVu8KaAEt+jb4DwYHh2JfEMrnDdbGIiiRqjQd5w/7Eu1ZOwQsDisgH5rGh/6zxSwAOcn63DDYFNrE3FUURP/SNdBo0o9HITUU6BNBUcQGyd6qBInE/A79MIUKO+F7IGls0BfekufJ7QYqTUziIwv+ltIwYrRixk4quITKwEE01HJXO1MsHIW8ib5WJpjlK1hURJ+VXz8qeCTTqHhVlZa+OAfIlUkwhLR2aIBsnTqhHT+LpizwEgMUXxQuwMwZmTJgTYU4GZP393WaGGVkYGLBjkJeA4pgz1vioksIgR2qawE0fV4vAZKHGzEg+AnJFu+OJeVrejPnm3aPT9GJMDaUpQv72jFyh0nHKqfxyea8YKLqhQ5+Q7iaV31YLIz69sIIgsHNZiE7dw9Q6yDLgt5Uxh6ZR+J/0k6kOQBQIhXdkRWQAn7a6yb2YNGjhxgZHOuVER5SHm5XtbyYEsYkR8Hr9K5lL7ZPwMBXovwwAD5SavEySiodHNVyjmsjZz94PDCpcFGdxRNPERMMLiEvELEF0FOMmHyXPwuD63lXsznZx68pNHL+1wuHqGE+X+3hy9BT3Hj3A/XB+/f2HD/Bk/yns4QFMcNZbM6GDQxeOyO2CsxE7giNGFwZ1tuxJQdNhhnV+v78jh84BXZgIRAh79L0kyURwDLRgdKof2gD8pZk1AqlGD8k461i5xvk1SRO5kEHS/gj+uDFO/R/z8h+GCDOJWBi2OHbB4dJre07lEzumKF8NBj1mghBkKDg2cnDqYYlZEGoWpQrJH5EJGyI0RJiFz4YIhimO4ZKxCEtKR08KpHOIgChWmiQ4pOcpftQ9mUM3EpI2CMCQCAwpCFTuRbUdIyBVl3JicdghkglwBB9ExPl1+JkjNDCYw2JGBtYSLBEWZu5nEvsxSh0AJq/oGwNrLMS2poG+JGGiimNk3zOrUXymwnP68kDotiQcJM05WBCliJBA8fK8uwbT5JH4GAnkI6gHwYDBWb6aL8kTpPohTk8pW/LSfaW6RpSgOFYnDpNeXtImXY6uKPV+xuigPZK+jgCP1LlK8GeX1t8ZLp5EKr5eEklONGgI4Eu+WmMPhybptXVrLEh4DidhQTvVZcJ3/Kp5YQ/CYpmnpZcB3IV65vpNRqFxsEeOMZOJ82ciP6fI4KNwHYa+UUmDvy/mdgYiws58B2yAlh2OuiMcrI5w/fJV3L9yDQ+vXMfDqw/x5OApnh7u4+D4EEfLYxwuj3C8PMbxconlaoXVauW32cEDfAeGI5FIkTRaBOc8kgFt0BmvlUu3iENhbB4xWqAH8jMGnNgFhQMhMOhCnYhrdb3pCXWt+B25ZUU14Xzwy4cNwEkAHBlvcSD29TQMci4wBArMohg/GVPmNL7URDQgWAogL+uhEFO6BCiCEnyStmMJGcj7NWeK3cfxS97sCFHxlgRE4gjSstWzbEom+3N5U1ljwjsT8SeCfB8FCxqag/l7LacdZGwG5MgYTdh2Suy1+IYNZmQwg8HMNJhbi7ltYBhABxhHALyTnlhGYmARzeBrtY/AC0i0vLwXTfoqfYF+P9d6goqb+qd6Qb0ei2VlaStp0H8tZZgBf62vXTPSWAKCpU7LplpuJxEUBtKEhKzH5ES+OuiIR5Qixm2BQWOA5euv5mVcWknSk1jbYrHRtK41cO/fJVq37IkXDd6Eg5MaiUwXvOTZUZQEqfL+fU0qHffyYPAzp2HHu4I2re3kA2FLlNfMt3DGYMdwrgvn95q4DS9K8RDdgsFdh7Zde+bfNJgbC9gd2IXF7FqDK3uXcXzjNSxXKxytjnC4PsLTw6d49OQxHj5+hIePHuLhw4d4ur+Pp/tPsQrR9Vq4uBbvneuc9+x0Tk3sZBbS2sbQYMpN8/CCRIVxUOW7MBKtS4nJy3+f0N1clBUnJEWGJnEPej4phlKgCcj6GpR2nErSbRQfDAGLBBwhL/amYM3ItUah65VVBwk6iCgaKii0E5VnUqVSP8RlllDvDMR95xSyVg0pQjoloBHg25UlHAH52vsr+9HlgJc8hFPgqnyLGcG5DsYBDYwH+iAYLWYNdmZzzE0D6gBuHYgpLNUgWEb6zUyCBGd1DjwXsj2WelaLHHh6Kqrm08oqocd/vK+sLVpwG+u/6m91bZB7lXMmInQ/W3/L4eQkvESLDVKNeg1LcK/GNyl+b+blfaphgf4UITutk3sze9qbrua8NdCBaSiAfTTbA/Fa0v61iZ+SQFkCfKYUpO+1fjmNc+K2aZ43ZSA/VMHypUq6oZPptsX4jArGKWvfSQJNAoBIwk4GA8OHsTXeKchLhg0aY7HTzNHtXZJssXZrHLsl9o/28fDRIzx49AD379/HvQv38OTpEzx+8hjH6yVWrsO6a7HuOqxdh7br0HYt1m2Ldr1G58TEn3WCmv9qTQppMHLBjBy0g2Hqi2hC1FIqJ60T0OO6D/IVPpTqB71OlgNvMrUJUKdASZLGqLROPBeRM+FYklJZRMPz+KDK5QAIpJhULE/12xBpzU7GBMn4TU9S8UxfT1M9pRozNn2TqTE58VCosR+X5Zp86itkIwPDUpqMJ6mYFoYF5NkLnlEzCve9YNqBBOTJ+BgRZHzo6J1d7C32YNmAnLeIWCIJ8x2Ya9iGGn2YFMhnfaGrG0A8oXIf1PuqV7zKesyEi7nIoPvg9MTgvlAr96gQeElmBetLqTJnYfY1/kCaMqchcI5/ChCHKRfCSXeyyrMsN81lRN4mTpr+6SAghsAz1tiwnm7juJTyjAkHxMhRrvqI5axt+fvl7FuljWcxGL4i1DfXKwCvXRvaUhfT94XyTASv9b3WmLT1GPBx7ikeFEDQSBhZdxD2Z8bCzBZwgbszi2GQM6Dw5cxgDNAsCDtX5ri2cxlvXHkVR68deS1/dYhlt8batThaLXFwdITD4yMcL5fevH9wiMODAxwvlzheLrFerbDuOnRd64E/mEfFGzU6w6vG6j420hbVK2yK/o4gVmhDoY2cvqZfnPooyz9+1VpVEKAD6GpunZzuwi4C9tYNDtq3z0/W2CmZ4qJgkgQOn5dLfeAV0+j1LlI6C4hQ+A6fN4gyjSCGrIx/nk9k4FACKRRAUPpEbDtShePY8T9rbFMzVn82tWdwBt5EamR852poUS8lnWRvpy+8ZUgoV2RpC1DakU/jXAB5JsyMRUM2Lm3s7exhb7GLm1euY3e2gwbWb68z3lxvHMEav7PFu3AogU9PXlXphANprHqQrIF8TmmcyK+0plw0Ob9HVH0325C2SA0S1cdADo7570HOt6HCRMiiz+h5Xc2OlLZrkkBee6BsZgnyfQEhMqBcGNXCZ3iatPBeWhVUdQTY0xY3ioKyyjp64yeLgYysoGiAIGch9IQVUsuEse2lYHp6gexlpSwYjqZN2ypGSTMe9dyQFpYvBytuGji/j53fH5TCCQJvhjEWMzuDA4dAN0m7FM1ThoYlr83szOe4PL8Uqu3/W2ONFmusuMWaWxwcH+HRkyd48nQfB4cH2D84wJPHj/H48SPs7x/gYP8AR0dH3mt/tfJaftei6xy6rgsMNgUMYoiGqM3cWvv31eTQfgomzQwKTNFXQJ6XTLzeNfWaykmt+kBAShi530rll046dN65sHPoOmXapSS9+8AqAeyIEuNmF7zZ/ZKHjjUQtY9QOdJgLszCmAikYga0wetW6py2U/UtIfGTlXk/MhYxBZaAmluPagzTe/KaeIqVeAEbY2AY6cC3ONZLqDKpnIoWI3XP11iTdUBGlrxjKV9OlnUcTpIEYWYaNGRB8Jr63nwXu4tdvHLtFvbmu5jbGeZBEKBgqjdiuYHuX90pA6gTtHjGdiBf1VRDZwwKWRpITkhj+8AH17oHfp+JeVedDCz1G8ktjhG93h25xIRnU51q9Ze5YrL29a25scD4vWbWZ+YM3EWRyUsEHFzk/87l7yeOyUw4IC1bVvv4WUVIfBkpgnzZ6JN0QtUpbwJlYKO/B/UnOnD3sgzSm7rJwYAWWFjwmDZhrEVWHTzpOe1rlwkCRhNyAHwcMNMQ5hcaXGkuYnlxheVqieMbxzg+XmK1WmK1WmG1XmPdtlh3a6xb/9eug1m/bdF1nf9zPkJgx14A6NoWbeuXALq2Dfe7sM2OkZzVKOuDZDnpS/aZiTNK8QrgpKspGNaIgoUsgJKApdbGdVmAX28NZChoeQLKMQ9TMBuKZYH05ExMMdNCwm9DJgg7yNbkpLx8nS8IKqJJCCNSTCsKM6zuC8hLP8e+1MJPuK5NJkjPl22PSxqSR6l8qy8q94xS35fPyM8I7/l11R9y3/tY+HdlVF/M7AyzZo7LFy/h6uUr2F3soAnbPsVJ0AN7qKWuQ+wCVhd0A8O8lEEXtfuCePRnren99o7c34bUCtZgWZuo7xPRn6fU68xaRgOmo4EeSgJhMd8xrGTlqSDSVL/YKG3UAV63sVzyoCDoR6sC67EkdeX+OIh8KixbFMonxXy2e/s1JfarSv2jZjc0fMhMXxMSTiXJhhHg44jIdjTqM5jIZJN5T+LMy952LyOIEOA/DQMEtVVOnhMpFhYGhAaMnWaGy81F0AXy4Bwi5HmlzmujDj62d+s6D/Rr76G/XK6wXq+xbldYr1v/FzT9dbvG8niJ1XKF5dLv31+v11iv18kCIM47aXuB136d3vyVtmXJrhLRxhOAy2/ZthJAHcFcZkUjbrznaogQaCgd2kBWDn2QbSwSfEKvtyXBIZquxYwtaYOnrM+jgbHBAUfKMsnb1pINTpeUzI96jABqr7OIcj66W87o0pMatPVvKFtPBKfwTenZVZ6bANBE7SLlPQ5QeQ7DpOw9RT1yJ0zJLQl4OgcqnmPfW0Q+pK0JZnxS9RY1XO+WrNYOKEOv9oWX4vdZ8dnT+gLVaAoIb0NlHSuaa78OQ1aSzUTZP1PymNLW8dEs3vWsBOgoNGRCbfkgonTF0RafUsncLwqTSXEi+lUB+gzkNwFzD+DBAXTCpzCRwBmFQZZOZmPUc49SvMoVYE+EZOp3aUwQgqYZBhzFRIjPCRRYUNqPG1m9ASNsE4tasOdsXruWkDxp8oiHv2OH1rXouqTFt2Gtvg3mba/Rd3Bdh3YdNPn1OqT1Zn4BeHGk4uj1E4AsTAp5B1HgIVZ+TqborwBVAvIBjmLcZ6WJUuDyCbTlPkXTtGiuVmn/UAArAoSPKa3WqW2KTmWMhVfUfaVSWX3BRISX8AUisolJOSGSAvUIVjkylaOc1FMoxmASBmTJB700/hurPGjguTEq885peAqVQJ7KlWs1PVu3Qbff92nis0Qe4Fmbjv0ky+uuQq8qGwfqva2+ngWfjVL+WTHtDQC8qZjqs9JHE8uIyU4raDA2n8Ws0w5WpJoqE+EyYI8XNxerhwTlAZSGMSkMnqHbE8xBX+W1eKFJmvxYR/htRwnovO8DRQFSKVjJ+7KSX+4oBlCIyOYBntKaIhGMSXkQIQuLRmGyE/t91hKhS/TeqCEar7kIwCuxNwJ2zD/WEeFOxuli7UXhYWPhaAZnGW7GYU0p1IElXncIdRo0JGa9Ph1qwUmkSLHYUhQ6irVKAm2qSXx5SPaLwMrjPFR+CqKBST+ogN1KAFefQXxj5Win/jOw0SQMiPBYCG4QzT/lGVsT+Z/AD6ty8zblcQgkB4q55dpk6hvdc7mNoAaUSVhI3cCxFknEleqn/pP17HFKY2+c8+t7fUEjr3v6lo+Pvk4P+c26JhR2O1CRH5R0Xa9b2WvPhdQcfqYkwsQo0FcA/ET1O117mEVJmZIXZ8twY+kib1d1HLXKZvUZSEbF+KlkF58ewZKUUGn6OsOvPq5ntHGf/FZr64F7U1Ilt+7PxIQKcCEkZlPLtBQkImsPp8chsq0QVS3VjpOtPw5ek1oEwG9ByjethbZGoJfr7GPuS3AcA+QmzD5I9Q1RmuHnIC89Y2PJiWnrZ3Q++neamDmwsXq67FTu5SNzKC0V6LX7aC4HpfqwlK+sEQr4hyA4taPwTyjakL+Hup6dt6nMFyqX1M9Q+UbtNstTRXOrjEu/hc4Vb1jnQtnl/K3WSOUlY7hobG/bubqfiySp4LxNnPIdmmsUCho92OM03LTMt9/OYX3yOdELBIttlkMF6DdTPocm16XM/QT9MqUtW9VMDeNqRr9CQD+4hW7od3av8k04SU0rOikxvJneykLhwBuK69QRg73Wz2QhW4ui+TFULRv/od4RhuQ3O1DQtCleF7kjig0xE7EbiLk4aVGxmAltlj6k7FkNTzlpQKqNYn2txhzlfplPmUb9Jsh27aImCbgZ+iwdF7DBlxUD4UZNkSSyfkXcyIUBuSbg3Ke8XeJA1h+NStCI9eDYsFhq5lRUCk0yICSfKHGGzw5avPKL2kahMWX8ldW40a1FcCOFlMnkg0RICkIuYCL4roaMRHD1QqeM0yRmxalVBmTXFWGkDCPQq2sjNJiCso/Qb8UYLevQO5FmA+ceunUS9lTrl6nlnYCGtN8xy2hWlW0UtQ1pq2JV5K3bNXoSsOu2a02/fLbWRYXy9ixp6rt4ETQaDGdahZNZNENLdf90QJ8YivaOrlRDbRejxASEFyizsORTeryGq4rZybhKOl00aQbNlSRuclZjMeQm/bJkW9U2jqZJDdW6aCpRgZX6nnJN8FAXBLQentJwLx+dBorX1WquzX+qjcEEbNibsjlIX2kJQvowb60WQ/LaqL7hvMbZmOQhgQARsLIRnI2LOMAUoGjgFr8AqZXU2AHowNxidbzCarnEwf4xnu4fY9U6AEaNFJ8PCLhw6QouXbmKxe4CTWNgLUDKpkPMePxgH4/uPcXqeA1mYLa7wOWb13Dh6iWk03rCV6laDJus61lo8qNTVs8ZScv9Z0KG2lO9ChD9nAFSwa90V/algfQZGfo0kDoTVvwC+flUTf6s6bTcPOazLcBvzBADQD/x2leYNmry4yQAr7QJQM3szXkP7knN8lFMtVa/wPkpPuIPjYFTvEzWbUv8A4f/OSoQes1aso/e2gWj8UCPLFPKGCfFutUp779B5qcF2gi+OcvS4Fd7Lz1wJEAHBU256PpQLDEvaYP2AAAs0bryknWtZatbbS2Qev+mkvvMmhWIcz/FRACIccoZEGcPH9lPEjn1LrQAoRZOKIAxdQB3ALVwboWHd2/ji09u48c/+RA/+ocPcP/RPjqyYNgQ+pVAxgLG4rd/97v4zu//Ad5453VcujrH3q6BhUODFuAOzA7v/f2P8Fff+1t8cech1i3jlTffwD//t3+Ab//+76KZGzSLBPK+al5A4eT+nARe5FCvg9T1ZRdWQyB84ZS/AK7Ys+KCCOVCW75UlMhnW0aey+ed8oJJKbTmVlCqfp5gUOgrin2RVNZxLCjZ86lPeWF6Hc7SqtB/YLvkZ0kvowYvlAXDOVlFi2dOuSWhWgdBOaLERGpVMB40JPBMOiwB3rOckIAeesJzrHd0VMnAedu+KVZgOWea9cqP5MZ91hS1SVIAXirnNbVFKT3JCqGBsQRwUu2hapqaEJ1AgZRnfIL5DDh0NYs6U/lb2tBLU26H0Z1BmBSAJVQwPckApwN4ckii4qVqQYjhjzRqwbzEenWE5dFT3P7lh/jw73+Mv/jzH+D7f/o3+Pize2hNA4cG5AjkDNDMQHaGf/v5IWa7r8OZBV6jK6BmgR3bwZoW4Bbk1vjovffx/f/9/8GH732C41WHX/v2b+Hqm2/ha7/zO1hYwg5CJMUotXD8jMta2fE5/T6Rbo7vK0qcZX+GQeU4Gx4RikmPnFynz+QH+AgVFJ4hNc51UUA+fzPhu2gIq/T1LYgDY+Ml5dsvM6Cc08tHkw+oeZGUeV1OdDYBEIF66DlxSqnlf3KhZ6BOG01JWm8qP/r6Rgwqoe9QweGo9yVPQ1GcUemo/0z8XRMC+logSkZaVCmyZMqv6y/VqlfTFJqc6hNZt45KvPLF0C2SHx5YEmBQCDcmx7SGQkI+snO+ELSieb4DcYuDp0/xwU9+jA9+/GN8+NMP8eFPP8QHH/0ST4+PwDMfzavjNWyIGsjOO1p+9P57+P4f/h+488nH+PZ3/gm+8Rtv4bVbO7h1fQ7/lAM6hl0R7JpgnIn15bAFydshOGC7h1AKy1gEiYLXeutB2F6Zw6/uc05/ugOR5AcA/rxxTRTfROwfQqdy933JqmwHAlgiH/bHkB72ya+AlY9HnrROQdyUZZaSznH0nL4i9NKBfG+9vHJvah7lRB0CevmsRewbq8+pKSopuZqS1WPg0WxLWn5nQsFTn6sB/ZQnxw+SOVv+WZbll5C86TZo4IRoLo4VELwK3ZjEA1L5kAfFYB5nIg9iKm//cBAEoq7ogR7c4ejpU/z4v/wI3/+P/xd+/uGn+PBnn+Koa7G2AGYExx1c52CdL9E5RucIP3//fdz+8DPc/uWnWK07NLbB3uwWbl6fBbO4A3UMswLM2kSRQ8AyfQL+nABB4RA1DD6efeucP+rXmswAHn0HY7cx/DKEuhk6jRHOiSD4fzToZ8PUix4UDlmW2JRanOBQqENyzMx8+wopxOfI1S2KYwCfrBTKtKXyPadz+qrQmYP8aaIIlRr1ScLkDqU7SfS9sfqcFdXWBDeV9WUw1z3PaFK90JpRyFOAXfJxlaRYEVCJVOJ4opf/01Zrrz164PXgvsb+kwf4/NNP8cFP38d//dEH+MkHd3H/wQqH3S7e/Po7+OZv/wau3LwCWAYZh6ZrgdUSH/3iM/ziozt4+rDF/uMW9z67g7//wX+GxRoX9n4Hr7y1izkxZmQ8tLGBhGkS73uvrMu2QAeiLt735AUVQ4TGNACZTCiIbY8//PID0KrO8e58LOHvDCHbQ6CAOeXsfB60TnmoJTVZFtGpif0OASurC0E6S+e5iy1qWrAXNVKivSZfw5qUzTmd05eGnokmf1YgtE0+5RaGZwGEzxNcvwxAvomedxvypZfCmkMFblWSDJKKAIigtUbzd3yaweQAbgGs8eTRffz0H/8Bf/c3P8R//dHP8N7PH6GDhTOX8fXf/D38L//b/4pv/ubXsNghzGcdLA6xPn6C//T9v8Cf/vFf4qMPHmJ9dICH9+7i73/w/2G93Mc737yCb333XVyYNTBNA47nyAGiIRt2sOAQthkgcgD5dXywhHiyABoY08Bwg45SPCnBOYYIQgL/HZjXyh5u4NmHLA94/bwLeCkpTDAAELwDIrAGY+2tH9EU4C0jRAZMBBcMJbIMYIPVxcIjPpNvh4+AaWIf1LZZ9l93Zq9AtkDxFZhz53ROJb105vqT0K9C/OFz2kwSfGejx/RWtlml6WVPVvYvKE3+4OAJPv7FR3jvJ+/hzmcPcHRk8Pq7X8cb7/4afue7f4Bv/tZv4xu//gZ2F4x508LgAOvVEzx59ASu7bDX/AxHDz9Eu5rhtdfewNfefgtXL19FYxoQhaOXlX9F3CYX6kEhOPPy+BBHR0/w8IvPcefTT7G/f+DjRpAFs4VjC4Z3/rt56xW8/sYbuHr1Mha7MyzmBgQH5g7L4wMsj/fx+Z0vcPvTz3BweAxnLFwQGHyeDZgavPH663j7nbdx+eIFLAxAslmfOxwvD7FcHuDO7Tu4ffsOjo/W/nk06LhBRw1gLGAt3nr7bbz19ju4tLNAo/cBknwEaWBsa+3oe5XPc3A/p68uvdQgP2Uv6GlOy/sya8tnIdh8mds/REMAz9m3su8qz7C6HjRav74dbpdLAuzN4cwtgBbHR09x5/ZtfPzRx3j6GJjZi/jWt34P//J//J/w7X/2ddx87RXMF77p3X8AABwwSURBVDNY00Ec0Zqmwa9/89dx4+pNuOOL+OX7j7GYX8F/+y/+JX739/8pvvHNN3FxsQdLKSiObCUz4b9oog+r2of7T/H07m388Ad/h7/44z/Hxx99DLYER4TWGXSOQNgFsIfvfOf38T/863+Db/2Tb+D6rQvYmS/gnfxa7B88xaP7X+Bv/vpv8Kd/9J/wyWd3sDaEzhgAcxBmaJo92GYX/+pf/Wv8u39/CTvv7mG2Q+FAR39M8eH+Ph49uIu//rO/wp98789w78EDwBowLNpujo4XsLMdmPkO/t1/+Pf4D//zDey8usB8gRg7P20hDeZ9ziF7DLPrkQe/evPgnM5J6KUFeX263WnX48+pTi8qoMbLQD0tXDP6UgZQNmxZB46mewjohFXkbg3uDrE6eILHD+7h0YMHaNdXsbt3GW+++3X803/+Xbzz9Wu4fNmiaVw4DJlAaGDMDm7degOv3HgLn/78AB+//xB7e9fw3/zBd/Cbv/MtXH51jkVjwzb8VtVHewp0cNyidQ60bnHnzm384if/gL/7wd/ir//8r/Dzn30ENj5QXuv8n8ElGFxCd0i4vHMdFsA3zdvY3bsOxgpdd4xPb3+Cn73/Hn7wg7/Fn//FX+IXn3yKVUPoyMJgBsIC8+YCZvYCLu5ewRuvv42GOrz9xhXMrizg3BLL5QE+/eRT/Oz99/GD//c/4y/+7G9w995dYAY4MmjXc3Rujma+h2a+hxvXX8E7b/8a3PpreOP1q7h8aeGV+WDFINYBkyq+LZVXiR7In9M5fbXppQX5qTQ1ctK22/BedvoqtOGZ0Yg1Xq87+9vZKnTVJVuc7ATg/Z7vtG/eK/3hQKH1MdzBI7gnD+GODoGuw87uDnZ3r+PyzQu4dLPB7kWDWQMV4c+AsAAhmOKNwW/81m9jNruG2WyB1996E9dvXcB8r0PDLeD89jkK2/rCpj20cOi4xZpXWK9aMHf4x/d+jL/63h/jvR/+Ax4+fKQ82oJDGwALgwYWdz7+FH/2R9/H4f59LHb/O1y90aDlJY5X+/jh3/8If/y9P8GP//GnuLf/BOvGgK0BjDf7kwNc28Ktl/jwvZ/ie//3/4nDJ7cx/+9/F5d2X8N6fYTHDx/gh//lh/jeH/0Z3v/JR3h64OCwA6DzPgHG7wRw7RqdW+L9H/8E//EP/xAP7n8X/+JffheznTcxbwiN9SINBbN9jHJYbJHs+2HITgzFC+Sdn0+nc/qK0pce5DfR+Xr9ryhVGHfucqWTDQN8fJYR4sJTlo8NufjgMg6uPUa7/xjt08foAsjPd+dYXLmMi1d3ceFag50LBo3VAW0t0pFDBkQW73z91/DO174RVHQGqAPjyDu/sQMcw4i1C34bmYNDhw4Oa6y7JVpe4fO7X+CDDz7EvfsPsbO7i1uvzqPdgdkHym0P51gfzfHg87t4cOcujF3ht37vXXzjt97Eyh1i//gxfvL+e/jTP/9L3L/3AMt1i9mFXexcuIjZfAfEFuQa2LaBXTdYHR/iZx/8BK+9uoPv/LM30bWXsDx8iicP7+KnP/4J/uRP/hKH+y3+//bO/DePI73zn6rq4715SaIoiaJu67Bo2Rofu44zQHYSLDLBArPJv7jYxWKBBJvFIpPBrGfiRTA7dmx5bMmibimWZUnUS/K9j+6q/aGqj/clKTkDxxlR/RUovm+/3dXV1S/7+9zPeARhZYZSzUMFkjgWGC2Rxkdon36nzdr1a+xbnOPcxddYigxCCRdvkAXSTZYTfpFGv8OXYpfvS4ECewEvBcn/kGblV9mEvVexkxd+W5ne57rqsxS8/E82drYlisYM+l163R7DXsRoCF4ZApcLJmSmcCZ0lXjSbTS5RLsa+lIkZ0h09aRcLml0enK8RCKFRHkCFQh8L0R4Pj968zL7/Aq9rTZ6rDHajmMwEAt0LLjym5tc+c1NtlpthnrEKI7oDgZsdTqM4h6dQYdur8doOMT3PGrVGssrx3j90pssHzuGEj4SD7QELSmVQsqVEseO7mfp8BJaCPrDAa32Ft1Om1G/h+eFVKsNjp86zsVLF1g6fBAhlbVkGAlGEZTLhOUyy8ePsnhoPzKQaCmISOL6k6V4XqOifwEKoi+wB/FSkDz8MOT7+8QB/L7nKASJHx7beXwXdT+PxOSbi66fTDXLN0c2xNGYfr9Dv9tl2I8YD0BEiUnfBo6LTA1NtVJjXCEbY63xUiZpbEn6WgRCp9kDGblZqhe4vvWewAskYeARBIq337rMv199y2WRS5vPRoRBIyKFHgr+i//XfH11g353yNCMGMVjuoO+I/kunX6bXq/HaDgg8HzmZ+dYvfA6P/vZz3jnvfdQKkApnyQbXyLwBCgxxhcDBr0NS/KtLXrdDsNej1qjzNx8g9U3LvKXf/WfWb20ih94KN9LM/q1EWiNlXaUwEhrRYnc8im3Bt8tQ/47oiD6AnsMf7Ak//sWw3nRON9l34KAX2Fsi8syzgfvmq3ky+S6nfLWAE95VMoVKrUKYVnhl0D6Bi01Wpg0Hz05MhvGpeAJ2x45TQ8zls6E0FkcgCuza7S2pWnRxGgiYrTRtsKdsVXgpBIoAVJbH/7603WuX7/K/Xv3GQ9g1NP89jdXedJ5Ri8eERlBjMcIj7EKkb6g7AnKlSqV0GfcGzHY2OTO1a/4+7/5n3z1+Zfg+RjlI3WAMAErx49z8vRJDuyvUa9KhAzxwwqlWo1qtUy9GiD0kN7mU258cYX/7cGVjz8GzwPpI/AAj+OnTnPi9GkaC3XCmo8X5H3pDnnJLV+fdtc/YbH9bXpYEqZf/P0X2Dv4gyV5+P603X/VzkcFvldMC2T/mvdD7PomnY0NqEti501SNEbYIi8iR9SuA4vvechKlWq1Qqnq45UM+AajDFpOknx2YncOoUk6qQktQVsN39aDV7ZYDAJhNCJpwoRxQXex/edK8KahgdbNbycfRzz95hH/8IsP+fWvP6LXjuh1YlrtiK12RKQF2ggiPEYiIFIhpVJIIEIq1SrlwCPa6jLobHBr6wse3LqDLJUZex6x8vHjOkFU44Of/Al/+hdllFwh8EJKYUhQqlCp1anWytRrId32gG6zx1dXWty7sYYKykTCJxYBihKKEn/605/yZ38xx4oMmAskKpgqXjthVsk5UL4rwU9sno7WKFBgb+APmuT3In7Icq+vHPJa2QsypRLt+/mPdKtdJ5HbwkWkp3SSnst5h4VE+CGqVserV/FKHkpphuMB49YWvc0evc0ho7CMLivw8/XWEr+73fLw68c8uPsIT/kcPLjI7HydsBITlJJziaykXG5Stl6MZhwNic2Ix//8kMcPHjJu9WA45v6tO1z5pyvcvXmbfj9m0NdoysRUgABQKOXjl8qE1TrVsiRQEWdPn6X1xz/mzrU17t+6y+Zmm3a3w9AIRr5HpHz8qEYwrvPl57+j3KjS6T7l4uoKhw43QIXMzR/g3LnzbP64ya21O9y+dZdWu0273WZsFGMCNAGKEEWJ3332OeVKnWeb5zjzxgkWD++jVPIpBWqH+wQTzXO+y5egQIFXAC89yX8fJv0fGi/LPP8t8Xuv0fRhz9HqXkzwNuhNuPrs1gdsleK081riEBbOSxyUQNQRtTqy7COkZtjrMOit0366Rftxn36pSsMTGE+lWqSLc0cbm4q3duM6P/9fv6ZcqvHee+9y9txJ5g6EBKUAhMRInK/a+vhl7NLhhI3aH44GDPWA337yW/7h5x+y8egp9Mb0tlo8ffKEXqdHFCciRZATeiSeCihXKtQbDWqhpOzBW5fe4mhjhv87+0t6rQ26vTbxEKTOotxtEt+Qe/du0OpvsNF6iCq9T1g9y3yjzMK+JS5ffodD84v88he/pNls0hsMGBuNjpOeecblCYy5deMrNppNnm4+gZKHKpVZWKgSBMrFK+DSHsgIfiLKPtHMkwK6xd9dgVcPLz3JFyiwDfnn+w4ffXdk9uAso92OkZjdJ73EElQAsoJfrVOfnWNmtkF33TBsbfH4/gPWPv0Cb3yCqn+Ikl9DKYGRNrhO6xEbzSbNjSZffvE7Pv74E8KghlAeIzPirDhCpXEQaYxN3RMgpEAKy/fSGJTWyGhMv9+m2dvk1u3bfPzJFdrrm1RUSL1UYmFxkeWVo8RxTBxp1p+OefpkxDiyV+cpQej7lEohpUBS8STLh1c4MjNHv9Ol+azJwv4lhiPBUAtGSjIUgt7GkP7GkG6/w90769Tnfc69cYxjJw/TqFUoV2c5snKSxfkDbGx2WN9os/jNYwbjiFEs0ASMY0m31afb6tHrdrl98ytmDy5w6puLHFw5TKUW0KA05fJIGu/smh6x652fuIdZy70CBfYMXnqSL7TivYXv7X66YXZ77L9QixdZzHw2UtJ73CBdF5YJgkhivkVIqTLD0tIyKyvH6I82aD5rcefq54zafYatP2J+9sc0qqE16Uvb2CYa97i5do3P/ulTPv3kGt8+esxYP6UTjfh26wmUP+DA8hwBktBIGwooEoXeoIxGxWMYDOg0mzxpPmJjY4veUFOe2cfxYyc4c+IY586ssLy0n1FvyLAz4KMPP+ej//M5W60+MQaJxhMaX2jbAkcYVFhGCY8Lq+/QqC/SareJhWtKI2AQjVm7usb1L9e4c/cud+7dZzjcotPZot3p0h9pYhHglRt4qszqO+8zt3iUTrdHZAyxAYOi1x+ydnWNtatr3L37Nffufs1w3KPVabHV6bBvXCd2d8OWszWkLXAn7kPuTovMLbLj9yGJpDQ5yi8eKwX2CF56ki9Q4EWYdtPnKWBHJALCRKR15u+1feZ3OMgIEAohfCrVWQ4vH+PkySbrz25w7846396/zeMHD5lp+Bw/dQjfM1SrHmFoELrHcLDJl59f4aNf/YpbN5+yvr7JUEu2xkNkzeet5gVGsUYK8NNui06LT0k+RoxHDNptmk/Wabe6DEaa8myVmcWDHD59inNvnee144cZtvoMNrvcu7FO2fuKDn0MMcJECD3GxCNiJCMtibtDdHdIUJrh5JlVuyyesCntaIbDATKOaW0+Zb35EKlGRHGf0WjAYDBkMIzoDTVRb8S416dUm+P0+bl02Sw3CzrtLuiY1sYznjWfIX1DpMcMx0OG4xGRjlOCn7gv+Xs1HSthsl/bPPYTBQ9yBF/E4BXYIyhIvsCexPTDfJLoxQ57scND3frHJ7V/V83GJE1SUh3fBt5hu7o1GvO8du4CRIpvHw+4cf1rRiPDaDTg5toX/PX/iJj/aBYvNPhejBePMaMBd+/c5e6de6xvjBlHmoXFg5y6eJ5Lb69y5Ohx/KBsC8EYAVLaqP9E+BACJRQKBbEhHkXo2Ba/aW40+eqra2xtPuX2jSvsn62iuxFxZ8Ta1a9p9TeJGWEQRNGATmeLjfV1pLD1+G98do2bn11l1B3a9D1c7RthQEIUj/nmmwd8880DHj95gjZjyqWQeq1OqVSh2+tz7959rn76KVc/+wwTxQiXrRALW4dASMV4HPHowTc8fPCQZ81NjIipVEvMzcwwW29Q8gMbBmGzCO2tkNMtY1/8/dhJRitQYC+iIPkCrwTEtlcvynBIItYdgSatzkSm5uWFBxAIoTCu9Wq9MU/jbI1KWOfal/do1ELanSHj4YBba1e5unaVSEXE3ggpIsIIwijTNmNZQcsaC/v3c+mty7zz797myPISQVhBxTFSaxDS1q5LCiwh0jr0xKBHESbWIAzNzSbNzSY31r7ElyM8xsghyIFAiQqKKrblqyQaD+i2WzSfraP1iOGgx68//JCf//e/pbPZgtigjbEldYSx2rwE5UUoL8II21WuUg6p1xuUwjK97oBHm4/4xd//gr/5b/+VeDhEADEwBrS0AX9SeogYiMAvhXilEpVqmdmZBrP1OqUgSGMdk1LD23LbX3Brd7XoFERfYA+iIPkCrzB2J3yTpKkZiS2IkytdM2Evdtq8cIF3KDCut7oS1Ob38fYH76NKde7dfsDd2/f5+tsnfP14nc4wtnXahSKWMPRBCFuk9uiJs5w8s8q5N1a5eHmVoyuHmG3UUag0+M8IgZYQSRgLzRiIhYcKqiwtLaOqZbY2+3RaLe7eecCTb9fpdYYYI5BBjUPLB1laWKLiV6gEFZ48fsqDBw8YRW263Q6D3oi52ToHFw7wzts/wh+MuHH1OrfXbrK5uYXCIIwgNracrTYBhpBjx05w6swZLl2+zNkz5zi8eBCMYV+jxgfvv0toBty4dp1b12/S7naRAnRSNzi21hA8xfHT5zlz/jxvvv0jTp1cZt9chWrouVI5WRCkrXmXvx/Tfvnkk7zLJdmY+Ap2+WoUKPCSoyD5Aq8UJjT6RFPfJUjPaucZgWRuWvdKm1xHukQosH3dAPA8agv7efuD9zn3xiU++cff8sk//j/U59dotlp0h32k8TBGECuIhUAKhRSKo6+d4z/8+U85v3qepaP7WVioU/YECtfYxmiMgFhCJAwjzATJH1oqs3T0CN12m363iW9GjLY2GLRiYu0hyzWWjp7m0sU3ma+UmatW+PKLKzzb/GfGUYdep8OgO6Z6sMHK4UP4PxpxZG6GX5UD1r99yNbmuk0pRGK0IBYSYwI0PssnLvAnf/bnrK6+zsrKYRYWZlEG4vGQ8P13OX5knr/727/j6cNHDHpdPFfCN9ICjQDlgxdy4sx5fvIf/xNnz59i+dgic3MVPGXr4SlsLEKWCDkdST9N8DZBT6CZRK6ZQIECexAFyRd4NZEzxedfbYu+TiKvhet2ZrTT/Cw5pJbiRGYQEozniEOjlKTe8KlUqpw+dxrQzC4ucvT0aVrtHkYpjJTEwvZ4l0KhpGT10mVeXz3LkaNL1GcrlEMfH41w/ecRkuXjK/zRT/6Y0xfOMYrGLC0vsXziOH5QQoWgQjh29CjDwRsszMxwYuU4zWaPWASE5QYnT5zi1PGT1EOfRimgMV+lsVBHhiVeu3iBQ4sHmG00CIMS+w/sp6w03W4LoQxPH68DEm0U2njEwkP79ueNN9/kwsXXObJ8mEajTuj7tmOeNBw4sJ9SaHjv/XcRAjabmy76XRGbEE2AVj5a+bz19ru8duE0S4f206iXCT2Z1f9hMq7O3oYkcE7sJLGlRD+p9ReV7grsbYher2eMMfi+j+/7/9bzKVDge8HzMqYzgjfph7a9jJigfWFcxTvhTL1J9xgj0k4zxjGNSXnFEbHRtqkMsaMSTafdpdPu0O0M6LYHjGMDUqGFJDLWPy0ESClozM4xOzdPqVLG95XTYDUKjdQxUsc0n7RoPtpi0B+htaFULbHv4D5mF2YQXozwYtqdddqddXrdPt3OiOFYEBMiVJlatUq1UiOUhlBAr9eh1drCKEV1dh+VxgxhWCIMA8ywgxl1aG1tsLHRZDiIrDBjPIyWGKOIfUHsSRqzM8zOzVGtlCn5Pr60pXjRMVHUI4p7bDSf0Xy2zngY2RK+eBgRomVAJARjIWnMzTEzN0+1HFINFL6UCGOFLSFsfQCTI2n5PN+8AFtRMGZSLHAulu3fkgIFXkqMx2PG47ENxFWqIPkCexO7kvx06pX70NW2y+9picmYjOS1I3kAoWx0u7Bm+qRzmnDCgUCDiZ15OFeJTTiV3VjDeyIoREYQu2hxIZP55Odv89clBmk00mhErCD2JlO/JLa4jozsDyMMI/ehh8G32jJ+GlvomRhldDpXI6TVzIVMK/spRihGdlbCgFEI7Tuit97xWEGsskJB4MzqibBkNEJGCBFD0rNOC0vyxsNIHyMUYyGIhF0PjTU3Bm4stMtpSJIcwCXMJx35dvkSCLB5CEmvPLuxIPkCew3TJF+Y6wvsQWx7uj9336SmXf5IqxTmacMRddoMXkyNgmsY43ZD2oI5qX3AjWwSJnf947GWAZXsn4sPELvVZhG2tSxSbr9caVx7WsAIjPBtIBtJEKFtdJP0rEkLwDjJwmhbp1ZK6/PO5AerbePiAWxIvcgs3S4kQbl5J0RvkvS4nO87IVbjBCikwLjiPjZl0a6Fy1R0gkKyHjZdzqR3zp17eo2mpLws/0C6e53sIBM/yw4LXaDAy4+C5AvsUfxL/KyTkfLZlpxmaBwxCEjV2yStLuftzWBpRyRMlRJ9YglwKXguSl+6TuzJsakWb0hJ20zMT9qxZd4pnTBhNi+B545z88F2nzeO4LUjTjuZhNXzPdpN6s6wmQNuXY3IiN4NL5OlcYclMoBJrzeZv7QWkjQt0Q3p2ucKJVLd2oVDOMEpXTqSGvdihyC7bQQ/8bF0QoLJfThl4i+IvsAeQkHyBfY8tpvq3ZttXcumdkt4POXzHNGn9CUxzlAvk48dgQtXTjUp1Wu0yRT5VAsVaUCfMQYhRappk/icnVovE4O0AeOYKwk+m5h0IhS4tD7h4g1S64Nx5n+ZtMxN2tJKhMoTnk7J1J7MuGtRVrhAZgxqlwAhndcgT/CQChQyvxaumo2QIrem27XyZLzEKpK02NWO5JMGQnbfKQvLpAmEhMW3tSfa1b9ToMDLjYLkC+xp7EzwTJBKHnmdW1pXsiVFF28nEiZPDcbaatU46hDb6GNiJlbTdUST8q4jPB2DUCRUJXNnSIQHibSd6pziLyYuMFF5k2p8yShyQg5IBAyZsmnOBWGysQwaY7Ql+VSaEE4rl65PvcgMFNL+ljJnqifftS9zDRhjMHFyDYnwIZwwM+2eyN/HROKycyOX4vh8gp+8Dzsir8UXGn2BPYKC5AvsWUyUOt3lib2d5qcOyVmYSbRqnDouEzO6JuEwgUQlpvT0EJ1VpZNJgNiELdtqycqymXaac+o7FrboTMbjzoZtRGYez1V+2+2qrUXCTG6f1rjTdZk0++cXYyI3PZEeEmaWzpRurP6fWMNlfoTEKiKVkx2EyypIAv0EJjbp8Kkgk8xdZAJPYq6fKFS0IzKXh9htR7HtRYECLz0Kki+wJ5E9pndTyXJ+2akjJuAUxcSyb5KI+zRR26qx2hhiY1AolPAtESdn0QZtNFI6TT8l7ESDtiZzpBUX7P/WczxN0gnvCizBm8RM7mLrbPx9ZmlItWInhYgduC1vvci40m5JfPjJRDMfeG5meUEo1d4Ts7rdJoWwwXSJZURIO+f89eWsGlpru7/Mq9bZqW0J3/xcRLrmu19hRu/biL4g+AJ7FAXJF3hFMEn2mTl7kvW2PeKn1NzEz2595SYlHOtDzxMiE4qwFNMjT71PzeHaUbOZ2HNX6km051Tjzo5L5jktLEycPr8s0zbyCSpMNOAdZjJ5ydkmkW2ZuIZp68MOtvlEW58YeJcYiudjp/2nyN3ssE92AQUKvNQoSL7AKw6x6zvhNOXMYp0XEpxKaoQrzGLpXRq5zRQvcqlxkOdVMXX6aatDnjK3E06aU587XT4VMLNUTI2bcyUkoxs5LSI46cGNInJjp+s0weipscCdQkztZEdKeXqHUrKpu10IhHJiRUrCmVCVHTC1fi+S0HZEYqaZRkHwBfYGCpIvsEfxfM15O2lNmnK3KbXp70yjTawBE7HaSbT8hKac9Z/PovTF1LjZCxsNn5XmyeSL52jRYnKEXa5k+6Y80U8cv9MpxOTV5qWCZFN62iQXQeSEjWmhZofLSZdmh/snJt5tFzq2H7GTDWNq4rsdXaDA3sD/Bz4rKmJwRhOBAAAAAElFTkSuQmCC)"
      ],
      "metadata": {
        "id": "8GFm1kv1adRj"
      }
    },
    {
      "cell_type": "code",
      "source": [
        ""
      ],
      "metadata": {
        "id": "-xfUYwWp7j39"
      },
      "execution_count": null,
      "outputs": []
    },
    {
      "cell_type": "markdown",
      "source": [
        "# **Protected members**\n",
        "\n",
        "**Protected** members are those members of the class that **cannot be** accessed outside the class but **can be** accessed from within the class and its subclasses. \n",
        "\n",
        "To accomplish this in Python, just follow the convention by prefixing the name of the member by a single underscore “_”.\n",
        "\n",
        "Although the protected variable can be accessed out of the class as well as in the derived class(modified too in derived class), it is customary(convention not a rule) to not access the protected out the class body."
      ],
      "metadata": {
        "id": "_rm2-ofo5WR2"
      }
    },
    {
      "cell_type": "code",
      "source": [
        "# demonstrate protected members\n",
        " \n",
        "# Creating a base class\n",
        "class Base:\n",
        "    def __init__(self):\n",
        " \n",
        "        # Protected member\n",
        "        self._a = 2\n",
        " \n",
        "# Creating a derived class\n",
        "class Derived(Base):\n",
        "    def __init__(self):\n",
        " \n",
        "        # Calling constructor of\n",
        "        # Base class\n",
        "        Base.__init__(self)\n",
        "        print(\"Calling protected member of base class: \",\n",
        "              self._a)\n",
        " \n",
        "        # Modify the protected variable:\n",
        "        self._a = 3\n",
        "        print(\"Calling modified protected member outside class: \",\n",
        "              self._a)\n",
        " \n",
        " \n",
        "obj1 = Derived()\n",
        " \n",
        "obj2 = Base()\n",
        " \n",
        "# Calling protected member\n",
        "# Can be accessed but should not be done due to convention\n",
        "print(\"Accessing protedted member of obj1: \", obj1._a)\n",
        " \n",
        "# Accessing the protected variable outside\n",
        "print(\"Accessing protedted member of obj2: \", obj2._a)"
      ],
      "metadata": {
        "id": "QXkIY46M7j5I",
        "colab": {
          "base_uri": "https://localhost:8080/"
        },
        "outputId": "a2766628-968b-4ec3-ae6b-91ed2c4555f8"
      },
      "execution_count": null,
      "outputs": [
        {
          "output_type": "stream",
          "name": "stdout",
          "text": [
            "Calling protected member of base class:  2\n",
            "Calling modified protected member outside class:  3\n",
            "Accessing protedted member of obj1:  3\n",
            "Accessing protedted member of obj2:  2\n"
          ]
        }
      ]
    },
    {
      "cell_type": "markdown",
      "source": [
        "# **Private members**\n",
        "Private members are similar to protected members, the difference is that the class members declared private should neither be accessed outside the class nor by any base class.\n",
        "\n",
        "In Python, there is no existence of Private instance variables that cannot be accessed except inside a class.\n",
        "\n",
        "However, to define a private member prefix the member name with double underscore “__”.\n",
        "\n",
        "**Note:** Python’s private and protected member can be accessed outside the class"
      ],
      "metadata": {
        "id": "tVSUwf0hG6_5"
      }
    },
    {
      "cell_type": "code",
      "source": [
        "# demonstrate private members\n",
        " \n",
        "# Creating a Base class\n",
        " \n",
        " \n",
        "class Base:\n",
        "    def __init__(self):\n",
        "        self.a = \"GeeksforGeeks\"\n",
        "        self.__c = \"GeeksforGeeks\"\n",
        " \n",
        "# Creating a derived class\n",
        "class Derived(Base):\n",
        "    def __init__(self):\n",
        " \n",
        "        # Calling constructor of\n",
        "        # Base class\n",
        "        Base.__init__(self)\n",
        "        print(\"Calling private member of base class: \")\n",
        "        print(self.__c)\n",
        " \n",
        " \n",
        "# Driver code\n",
        "obj1 = Base()\n",
        "print(obj1.a)\n",
        " \n",
        "# Uncommenting print(obj1.c) will\n",
        "# raise an AttributeError\n",
        " \n",
        "# Uncommenting obj2 = Derived() will\n",
        "# also raise an AtrributeError as\n",
        "# private member of base class\n",
        "# is called inside derived class"
      ],
      "metadata": {
        "colab": {
          "base_uri": "https://localhost:8080/"
        },
        "id": "6y9ZzEgjHVus",
        "outputId": "b0e3a308-bb1b-4f47-c37f-79d338bccb29"
      },
      "execution_count": null,
      "outputs": [
        {
          "output_type": "stream",
          "name": "stdout",
          "text": [
            "GeeksforGeeks\n"
          ]
        }
      ]
    },
    {
      "cell_type": "markdown",
      "source": [
        "# **Public Members**\n",
        "Public members (generally methods declared in a class) are accessible from outside the class. The object of the same class is required to invoke a public method. This arrangement of private instance variables and public methods ensures the principle of data encapsulation.\n",
        "\n",
        "All members in a Python class are public by default. Any member can be accessed from outside the class environment."
      ],
      "metadata": {
        "id": "GP7xGuiRJLkS"
      }
    },
    {
      "cell_type": "code",
      "source": [
        "class Student:\n",
        "    schoolName = 'XYZ School' # class attribute\n",
        "\n",
        "    def __init__(self, name, age):\n",
        "        self.name=name # instance attribute\n",
        "        self.age=age # instance attribute\n",
        "\n",
        "std = Student(\"Steve\", 25)\n",
        "std.schoolName\n",
        "\n",
        "std.name\n",
        "\n",
        "std.age = 20\n",
        "std.age\n"
      ],
      "metadata": {
        "colab": {
          "base_uri": "https://localhost:8080/"
        },
        "id": "k90Ee0kyJWFs",
        "outputId": "204a6171-b264-4a55-bf6e-0080fda73996"
      },
      "execution_count": null,
      "outputs": [
        {
          "output_type": "execute_result",
          "data": {
            "text/plain": [
              "20"
            ]
          },
          "metadata": {},
          "execution_count": 10
        }
      ]
    },
    {
      "cell_type": "code",
      "source": [
        ""
      ],
      "metadata": {
        "id": "ljTNGwOCJ74O"
      },
      "execution_count": null,
      "outputs": []
    },
    {
      "cell_type": "markdown",
      "source": [
        "\n",
        "\n",
        "---\n",
        "# **Polymorphism in Python**\n",
        "\n",
        "**What is Polymorphism:** The word polymorphism means having many forms. In programming, polymorphism means the same function name (but different signatures) being used for different types.\n",
        "\n",
        "Poly means: many\\\n",
        "morphos means: forms these are two greek words\n",
        "\n",
        "Example: wheat flour\n",
        "\n",
        "Examples for polymorphism in python.\n",
        "* Operator Overloading\n",
        "* method Overloading\n",
        "* method Overriding."
      ],
      "metadata": {
        "id": "dqyVFkGEKPQb"
      }
    },
    {
      "cell_type": "markdown",
      "source": [
        "#Operator Overloading\n",
        "\n",
        "what is operator?.\n",
        " Operator is a symbol tha performs some action.\n",
        " Example:\\\n",
        " '+' is an operator that perform addition operation on number and concatenation  on strings. When an operator can perform different actions , it is calle Operator Overloading."
      ],
      "metadata": {
        "id": "ZG1TE3nIqFHz"
      }
    },
    {
      "cell_type": "code",
      "source": [
        "#example for operator overloading(+ operator)\n",
        "# + operator on numbers\n",
        "a=10\n",
        "b=20\n",
        "print(a+b)\n",
        "\n"
      ],
      "metadata": {
        "colab": {
          "base_uri": "https://localhost:8080/"
        },
        "id": "txj76qKSqzYA",
        "outputId": "97e465ec-8330-479a-9404-771988680c23"
      },
      "execution_count": null,
      "outputs": [
        {
          "output_type": "stream",
          "name": "stdout",
          "text": [
            "30\n"
          ]
        }
      ]
    },
    {
      "cell_type": "code",
      "source": [
        "# + operator on strings\n",
        "a=\"master_\"\n",
        "b='python'\n",
        "print(a+b)"
      ],
      "metadata": {
        "colab": {
          "base_uri": "https://localhost:8080/"
        },
        "id": "f78mvbf_rk7h",
        "outputId": "debe48ee-1410-4e8c-e2cf-3c5232c790fd"
      },
      "execution_count": null,
      "outputs": [
        {
          "output_type": "stream",
          "name": "stdout",
          "text": [
            "master_python\n"
          ]
        }
      ]
    },
    {
      "cell_type": "code",
      "source": [
        "#operator overloading in oops\n",
        "#using + operator on objects\n",
        "class bookA:\n",
        "  def __init__(self,pages):\n",
        "    self.pages=pages\n",
        "class bookB:\n",
        "  def __init__(self,pages):\n",
        "    self.pages=pages\n",
        "\n",
        "b1=bookA(100)\n",
        "b2=bookB(200)\n",
        "print('Total pages=',b1+b2)\n"
      ],
      "metadata": {
        "colab": {
          "base_uri": "https://localhost:8080/",
          "height": 200
        },
        "id": "NJLzvSdWsqYJ",
        "outputId": "89a5d66b-242b-418e-9b45-5fd9d5a1b0c7"
      },
      "execution_count": null,
      "outputs": [
        {
          "output_type": "error",
          "ename": "TypeError",
          "evalue": "ignored",
          "traceback": [
            "\u001b[0;31m---------------------------------------------------------------------------\u001b[0m",
            "\u001b[0;31mTypeError\u001b[0m                                 Traceback (most recent call last)",
            "\u001b[0;32m<ipython-input-63-1a5965cd7aea>\u001b[0m in \u001b[0;36m<module>\u001b[0;34m()\u001b[0m\n\u001b[1;32m     10\u001b[0m \u001b[0mb1\u001b[0m\u001b[0;34m=\u001b[0m\u001b[0mbookA\u001b[0m\u001b[0;34m(\u001b[0m\u001b[0;36m100\u001b[0m\u001b[0;34m)\u001b[0m\u001b[0;34m\u001b[0m\u001b[0;34m\u001b[0m\u001b[0m\n\u001b[1;32m     11\u001b[0m \u001b[0mb2\u001b[0m\u001b[0;34m=\u001b[0m\u001b[0mbookB\u001b[0m\u001b[0;34m(\u001b[0m\u001b[0;36m200\u001b[0m\u001b[0;34m)\u001b[0m\u001b[0;34m\u001b[0m\u001b[0;34m\u001b[0m\u001b[0m\n\u001b[0;32m---> 12\u001b[0;31m \u001b[0mprint\u001b[0m\u001b[0;34m(\u001b[0m\u001b[0;34m'Total pages='\u001b[0m\u001b[0;34m,\u001b[0m\u001b[0mb1\u001b[0m\u001b[0;34m+\u001b[0m\u001b[0mb2\u001b[0m\u001b[0;34m)\u001b[0m\u001b[0;34m\u001b[0m\u001b[0;34m\u001b[0m\u001b[0m\n\u001b[0m",
            "\u001b[0;31mTypeError\u001b[0m: unsupported operand type(s) for +: 'bookA' and 'bookB'"
          ]
        }
      ]
    },
    {
      "cell_type": "code",
      "source": [
        "#operator overloading in oops\n",
        "#using + operator on objects\n",
        "class bookA:\n",
        "  def __init__(self,pages):\n",
        "    self.pages=pages\n",
        "  def __add__(self,other):## this called magic method\n",
        "    return self.pages + other.pages\n",
        "class bookB:\n",
        "  def __init__(self,pages):\n",
        "    self.pages=pages\n",
        " \n",
        "\n",
        "b1=bookA(100)\n",
        "b2=bookB(200)\n",
        "print('Total pages=',b1+b2)"
      ],
      "metadata": {
        "colab": {
          "base_uri": "https://localhost:8080/"
        },
        "id": "l73JOmcet4ZS",
        "outputId": "d9d8bad8-ba0a-404d-e5ab-5f077311edcc"
      },
      "execution_count": null,
      "outputs": [
        {
          "output_type": "stream",
          "name": "stdout",
          "text": [
            "Total pages= 300\n"
          ]
        }
      ]
    },
    {
      "cell_type": "markdown",
      "source": [
        "#important operators and their corresponding internal methods.\n",
        "these are called magic methods\n",
        "\n",
        "'+' ...........> object.\\__add__(self, other)\\\n",
        "'-' ...........> object.\\__sub__(self, other)\\\n",
        "'*' ...........> object.\\__mul__(self, other)\\\n",
        "'/' ...........> object.\\__div__(self, other)\\\n",
        "'//'...........> object.\\__floordiv__(self, other)\\\n",
        "'%' ...........> object.\\__mod__(self, other)\\\n",
        "'<' ...........> object.\\__lt__(self, other)\\\n",
        "'>' ...........> object.\\__gt__(self, other)\\\n",
        "'<='...........> object.\\__le__(self, other)\\\n",
        "'>='...........> object.\\__ge__(self, other)\\\n",
        "'=='...........> object.\\__eq__(self, other)\\\n",
        "'!='...........> object.\\__ne__(self, other)"
      ],
      "metadata": {
        "id": "MI0JdekNv2dl"
      }
    },
    {
      "cell_type": "code",
      "source": [
        "#example for overloading the * operator\n",
        "class emp:\n",
        "  def __init__(self,name,salary):\n",
        "    self.name=name\n",
        "    self.salary=salary\n",
        "  def __mul__(self,other):\n",
        "    return self.salary * other.days\n",
        "class Attendance:\n",
        "  def __init__(self,name,days):\n",
        "    self.name=name\n",
        "    self.days=days\n",
        "x1=emp('kalyan',500)\n",
        "x2=Attendance('kalyan',40)\n",
        "print('this month salary=',x1*x2)\n"
      ],
      "metadata": {
        "colab": {
          "base_uri": "https://localhost:8080/"
        },
        "id": "GVRMf6DIxoSi",
        "outputId": "b9c11e5e-23ac-4171-92f0-895d55620202"
      },
      "execution_count": null,
      "outputs": [
        {
          "output_type": "stream",
          "name": "stdout",
          "text": [
            "this month salary= 20000\n"
          ]
        }
      ]
    },
    {
      "cell_type": "code",
      "source": [
        ""
      ],
      "metadata": {
        "id": "60CoPLqMv0ja"
      },
      "execution_count": null,
      "outputs": []
    },
    {
      "cell_type": "markdown",
      "source": [
        "#Method Overloading\n",
        "If a method is written such that it can perform more than one task , it is called method overloading.\n",
        "\n",
        "* method overloading is not available in python. writing more than one method with the same name is not possible in python.\n",
        "* so we can achieve method overloading by writing same method with several parameters.\n",
        "* the method performs the operation depending on the number of arguments passed in the method call.\n",
        "\n"
      ],
      "metadata": {
        "id": "uKItUXY8zBbm"
      }
    },
    {
      "cell_type": "code",
      "source": [
        "#in java \n",
        "sum(int a,int b)\n",
        "{\n",
        "    a+b\n",
        "}\n",
        "sum(int a, int b, int c)\n",
        "{\n",
        "    a+b+c\n",
        "}"
      ],
      "metadata": {
        "id": "hZed0sGr9mNb"
      },
      "execution_count": null,
      "outputs": []
    },
    {
      "cell_type": "code",
      "source": [
        "#In Python\n",
        "class add:\n",
        "  def sum(self,a=None,b=None,c=None):\n",
        "    if a!=None and b!=None and c!=None:\n",
        "      print('sum of three=',a+b+c)\n",
        "    elif a!=None and b!=None:\n",
        "      print('sum of two=',a+b)\n",
        "    else:\n",
        "      print('please enter two or three arguements')\n",
        "\n",
        "#create an object and call method\n",
        "m=add()\n",
        "m.sum(1,2,3)\n",
        "m.sum(1,2)"
      ],
      "metadata": {
        "colab": {
          "base_uri": "https://localhost:8080/"
        },
        "id": "8P0ALYH8-GIn",
        "outputId": "92fa8add-f224-4772-bd5a-d308b505f638"
      },
      "execution_count": null,
      "outputs": [
        {
          "output_type": "stream",
          "name": "stdout",
          "text": [
            "sum of three= 6\n",
            "sum of two= 3\n"
          ]
        }
      ]
    },
    {
      "cell_type": "markdown",
      "source": [
        "#method overriding\n",
        "\n",
        "we already discussed about the constructor overriding under inheritance.\n",
        "\n",
        "* when there is a method in the super class, writing the same method in the sub class so that it replaces the super class method is called **method overriding**."
      ],
      "metadata": {
        "id": "U2X_rUZ7_UJ0"
      }
    },
    {
      "cell_type": "code",
      "source": [
        "#example for method overriding\n",
        "import math\n",
        "class square:\n",
        "  def area(self,x):\n",
        "    print('square area=%.4f'%(x*x))\n",
        "  \n",
        "class circle(square):\n",
        "  def area(self,x):\n",
        "    print('circle area = %.4f'%(math.pi*x*x))\n",
        "\n",
        "c=circle()\n",
        "c.area(15)"
      ],
      "metadata": {
        "colab": {
          "base_uri": "https://localhost:8080/"
        },
        "id": "vqeO2yyRAL4Y",
        "outputId": "01b6c17a-fec8-4642-f79c-b645e03a05dc"
      },
      "execution_count": null,
      "outputs": [
        {
          "output_type": "stream",
          "name": "stdout",
          "text": [
            "circle area = 706.8583\n"
          ]
        }
      ]
    },
    {
      "cell_type": "code",
      "source": [
        "import math\n",
        "class square:\n",
        "  def area(self,x):\n",
        "    print('square area=%.4f'% (x*x))\n",
        "  \n",
        "class circle(square):\n",
        "  pass\n",
        "\n",
        "c=circle()\n",
        "c.area(15)"
      ],
      "metadata": {
        "colab": {
          "base_uri": "https://localhost:8080/"
        },
        "id": "s_knOD29BMoO",
        "outputId": "82bc4c4e-5192-4ac1-f8e4-50c89b701b03"
      },
      "execution_count": null,
      "outputs": [
        {
          "output_type": "stream",
          "name": "stdout",
          "text": [
            "square area=225.0000\n"
          ]
        }
      ]
    },
    {
      "cell_type": "code",
      "source": [
        "# Python program to demonstrate in-built poly-\n",
        "# morphic functions\n",
        " \n",
        "# len() being used for a string\n",
        "print(len(\"master python\"))\n",
        " \n",
        "# len() being used for a list\n",
        "print(len([10, 20, 30]))"
      ],
      "metadata": {
        "colab": {
          "base_uri": "https://localhost:8080/"
        },
        "id": "wj-nLyJnKuXI",
        "outputId": "b39aa385-3df2-4485-abcd-7e89d1d89755"
      },
      "execution_count": null,
      "outputs": [
        {
          "output_type": "stream",
          "name": "stdout",
          "text": [
            "13\n",
            "3\n"
          ]
        }
      ]
    },
    {
      "cell_type": "code",
      "source": [
        "\n",
        "# A simple Python function to demonstrate\n",
        "# Polymorphism\n",
        " \n",
        "def add(x, y, z = 0):\n",
        "    return x + y + z\n",
        " \n",
        "# Driver code\n",
        "print(add(2, 3))\n",
        "print(add(2, 3, 4))"
      ],
      "metadata": {
        "colab": {
          "base_uri": "https://localhost:8080/"
        },
        "id": "rkzd_JSaKzlo",
        "outputId": "b189be20-0861-42d2-b49c-843f1fb787cf"
      },
      "execution_count": null,
      "outputs": [
        {
          "output_type": "stream",
          "name": "stdout",
          "text": [
            "5\n",
            "9\n"
          ]
        }
      ]
    },
    {
      "cell_type": "markdown",
      "source": [
        "# **Polymorphism with class methods:** \n",
        "The below code shows how Python can use two different class types, in the same way. We create a for loop that iterates through a tuple of objects. Then call the methods without being concerned about which class type each object is. We assume that these methods actually exist in each class. "
      ],
      "metadata": {
        "id": "hiSAtTbcK5UK"
      }
    },
    {
      "cell_type": "code",
      "source": [
        "class India():\n",
        "    def capital(self):\n",
        "        print(\"New Delhi is the capital of India.\")\n",
        " \n",
        "    def language(self):\n",
        "        print(\"Hindi is the most widely spoken language of India.\")\n",
        " \n",
        "    def type(self):\n",
        "        print(\"India is a developing country.\")\n",
        " \n",
        "class USA():\n",
        "    def capital(self):\n",
        "        print(\"Washington, D.C. is the capital of USA.\")\n",
        " \n",
        "    def language(self):\n",
        "        print(\"English is the primary language of USA.\")\n",
        " \n",
        "    def type(self):\n",
        "        print(\"USA is a developed country.\")\n",
        " \n",
        "obj_ind = India()\n",
        "obj_usa = USA()\n",
        "for country in (obj_ind, obj_usa):\n",
        "    country.capital()\n",
        "    country.language()\n",
        "    country.type()"
      ],
      "metadata": {
        "colab": {
          "base_uri": "https://localhost:8080/"
        },
        "id": "WOXg7jGQK73-",
        "outputId": "ef84959c-a5ea-465f-ebd1-10125e4d50ce"
      },
      "execution_count": null,
      "outputs": [
        {
          "output_type": "stream",
          "name": "stdout",
          "text": [
            "New Delhi is the capital of India.\n",
            "Hindi is the most widely spoken language of India.\n",
            "India is a developing country.\n",
            "Washington, D.C. is the capital of USA.\n",
            "English is the primary language of USA.\n",
            "USA is a developed country.\n"
          ]
        }
      ]
    },
    {
      "cell_type": "markdown",
      "source": [
        "# **Polymorphism with Inheritance:** \n",
        "In Python, Polymorphism lets us define methods in the child class that have the same name as the methods in the parent class. In inheritance, the child class inherits the methods from the parent class. However, it is possible to modify a method in a child class that it has inherited from the parent class. This is particularly useful in cases where the method inherited from the parent class doesn’t quite fit the child class. In such cases, we re-implement the method in the child class. This process of re-implementing a method in the child class is known as Method Overriding. "
      ],
      "metadata": {
        "id": "iWV0oQVdLGhp"
      }
    },
    {
      "cell_type": "code",
      "source": [
        "class Bird:\n",
        "  def intro(self):\n",
        "    print(\"There are many types of birds.\")\n",
        "     \n",
        "  def flight(self):\n",
        "    print(\"Most of the birds can fly but some cannot.\")\n",
        "   \n",
        "class sparrow(Bird):\n",
        "  def flight(self):\n",
        "    print(\"Sparrows can fly.\")\n",
        "     \n",
        "class ostrich(Bird):\n",
        "  def flight(self):\n",
        "    print(\"Ostriches cannot fly.\")\n",
        "     \n",
        "obj_bird = Bird()\n",
        "obj_spr = sparrow()\n",
        "obj_ost = ostrich()\n",
        " \n",
        "obj_bird.intro()\n",
        "obj_bird.flight()\n",
        " \n",
        "obj_spr.intro()\n",
        "obj_spr.flight()\n",
        " \n",
        "obj_ost.intro()\n",
        "obj_ost.flight()"
      ],
      "metadata": {
        "colab": {
          "base_uri": "https://localhost:8080/"
        },
        "id": "wCKtN6HFLN7g",
        "outputId": "5a78a7b6-c4f2-4de5-fecc-ea9a3e32e511"
      },
      "execution_count": null,
      "outputs": [
        {
          "output_type": "stream",
          "name": "stdout",
          "text": [
            "There are many types of birds.\n",
            "Most of the birds can fly but some cannot.\n",
            "There are many types of birds.\n",
            "Sparrows can fly.\n",
            "There are many types of birds.\n",
            "Ostriches cannot fly.\n"
          ]
        }
      ]
    },
    {
      "cell_type": "markdown",
      "source": [
        "# **Polymorphism with a Function and objects:**\n",
        "It is also possible to create a function that can take any object, allowing for polymorphism. In this example, let’s create a function called “func()” which will take an object which we will name “obj”. Though we are using the name ‘obj’, any instantiated object will be able to be called into this function. Next, let’s give the function something to do that uses the ‘obj’ object we passed to it. In this case, let’s call the three methods, viz., capital(), language() and type(), each of which is defined in the two classes ‘India’ and ‘USA’. Next, let’s create instantiations of both the ‘India’ and ‘USA’ classes if we don’t have them already. With those, we can call their action using the same func() function: "
      ],
      "metadata": {
        "id": "mz9kAxcELVZi"
      }
    },
    {
      "cell_type": "code",
      "source": [
        "\n",
        "def func(obj):\n",
        "    obj.capital()\n",
        "    obj.language()\n",
        "    obj.type()\n",
        "  \n",
        "obj_ind = India()\n",
        "obj_usa = USA()\n",
        "  \n",
        "func(obj_ind)\n",
        "func(obj_usa)"
      ],
      "metadata": {
        "colab": {
          "base_uri": "https://localhost:8080/"
        },
        "id": "Y7EN1oeMLclS",
        "outputId": "72896c17-ae68-4f37-9645-58cb84ce8ce4"
      },
      "execution_count": null,
      "outputs": [
        {
          "output_type": "stream",
          "name": "stdout",
          "text": [
            "New Delhi is the capital of India.\n",
            "Hindi is the most widely spoken language of India.\n",
            "India is a developing country.\n",
            "Washington, D.C. is the capital of USA.\n",
            "English is the primary language of USA.\n",
            "USA is a developed country.\n"
          ]
        }
      ]
    },
    {
      "cell_type": "markdown",
      "source": [
        "# **Implementing Polymorphism with a Function**"
      ],
      "metadata": {
        "id": "bvNLvBGDLg5a"
      }
    },
    {
      "cell_type": "code",
      "source": [
        "class India():\n",
        "    def capital(self):\n",
        "        print(\"New Delhi is the capital of India.\")\n",
        "  \n",
        "    def language(self):\n",
        "        print(\"Hindi is the most widely spoken language of India.\")\n",
        "  \n",
        "    def type(self):\n",
        "        print(\"India is a developing country.\")\n",
        "  \n",
        "class USA():\n",
        "    def capital(self):\n",
        "        print(\"Washington, D.C. is the capital of USA.\")\n",
        "  \n",
        "    def language(self):\n",
        "        print(\"English is the primary language of USA.\")\n",
        "  \n",
        "    def type(self):\n",
        "        print(\"USA is a developed country.\")\n",
        " \n",
        "def func(obj):\n",
        "    obj.capital()\n",
        "    obj.language()\n",
        "    obj.type()\n",
        "  \n",
        "obj_ind = India()\n",
        "obj_usa = USA()\n",
        "  \n",
        "func(obj_ind)\n",
        "func(obj_usa)"
      ],
      "metadata": {
        "colab": {
          "base_uri": "https://localhost:8080/"
        },
        "id": "OATxdRanLzpE",
        "outputId": "e3952ccf-6668-4574-e215-8c374ae60f53"
      },
      "execution_count": null,
      "outputs": [
        {
          "output_type": "stream",
          "name": "stdout",
          "text": [
            "New Delhi is the capital of India.\n",
            "Hindi is the most widely spoken language of India.\n",
            "India is a developing country.\n",
            "Washington, D.C. is the capital of USA.\n",
            "English is the primary language of USA.\n",
            "USA is a developed country.\n"
          ]
        }
      ]
    },
    {
      "cell_type": "markdown",
      "source": [
        "\n",
        "\n",
        "---\n",
        "\n",
        "# **Class or Static Variables in Python**"
      ],
      "metadata": {
        "id": "RRz2Mm2DMKcE"
      }
    },
    {
      "cell_type": "markdown",
      "source": [
        "All objects share class or static variables. An instance or non-static variables are different for different objects (every object has a copy). For example, let a Computer Science Student be represented by class CSStudent. The class may have a static variable whose value is “cse” for all objects. And class may also have non-static members like name and roll. In C++ and Java, we can use static keywords to make a variable a class variable. The variables which don’t have a preceding static keyword are instance variables. See this for the Java example and this for the C++ example.\n",
        "The Python approach is simple; it doesn’t require a static keyword. "
      ],
      "metadata": {
        "id": "vYwIjslkMU_-"
      }
    },
    {
      "cell_type": "markdown",
      "source": [
        "All variables which are assigned a value in the class declaration are class variables. And variables that are assigned values inside methods are instance variables."
      ],
      "metadata": {
        "id": "ELcTPqJrMgeB"
      }
    },
    {
      "cell_type": "code",
      "source": [
        "# Python program to show that the variables with a value\n",
        "# assigned in class declaration, are class variables\n",
        " \n",
        "# Class for Computer Science Student\n",
        "class CSStudent:\n",
        "    stream = 'cse'                  # Class Variable\n",
        "    def __init__(self,name,roll):\n",
        "        self.name = name            # Instance Variable\n",
        "        self.roll = roll            # Instance Variable\n",
        " \n",
        "# Objects of CSStudent class\n",
        "a = CSStudent('Geek', 1)\n",
        "b = CSStudent('Nerd', 2)\n",
        " \n",
        "print(a.stream)  # prints \"cse\"\n",
        "print(b.stream)  # prints \"cse\"\n",
        "print(a.name)    # prints \"Geek\"\n",
        "print(b.name)    # prints \"Nerd\"\n",
        "print(a.roll)    # prints \"1\"\n",
        "print(b.roll)    # prints \"2\"\n",
        " \n",
        "# Class variables can be accessed using class\n",
        "# name also\n",
        "print(CSStudent.stream) # prints \"cse\"\n",
        " \n",
        "# Now if we change the stream for just a it won't be changed for b\n",
        "a.stream = 'ece'\n",
        "print(a.stream) # prints 'ece'\n",
        "print(b.stream) # prints 'cse'\n",
        " \n",
        "# To change the stream for all instances of the class we can change it\n",
        "# directly from the class\n",
        "CSStudent.stream = 'mech'\n",
        " \n",
        "print(a.stream) # prints 'ece'\n",
        "print(b.stream) # prints 'mech'"
      ],
      "metadata": {
        "colab": {
          "base_uri": "https://localhost:8080/"
        },
        "id": "KUJi5fdRMa7U",
        "outputId": "a7ba17d6-33e3-49b0-bc39-31b67187c583"
      },
      "execution_count": null,
      "outputs": [
        {
          "output_type": "stream",
          "name": "stdout",
          "text": [
            "cse\n",
            "cse\n",
            "Geek\n",
            "Nerd\n",
            "1\n",
            "2\n",
            "cse\n",
            "ece\n",
            "cse\n",
            "ece\n",
            "mech\n"
          ]
        }
      ]
    },
    {
      "cell_type": "markdown",
      "source": [
        "\n",
        "\n",
        "---\n",
        "# **Class method vs Static method in Python**\n",
        "\n",
        "\n",
        "**Class Method**\n",
        "\n",
        "The **@classmethod** decorator is a built-in function decorator that is an expression that gets evaluated after your function is defined. The result of that evaluation shadows your function definition.\n",
        "\n",
        "A class method receives the class as an implicit first argument, just like an instance method receives the instance \n",
        "\n",
        "Syntax: \n",
        "\n",
        "class C(object):\n",
        "\n",
        "    @classmethod\n",
        "    def fun(cls, arg1, arg2, ...):\n",
        "       ....\n",
        "**fun:** function that needs to be converted into a class method\n",
        "returns: a class method for function.\n",
        "\n",
        "A class method is a method that is bound to the class and not the object of the class.\n",
        "\n",
        "They have the access to the state of the class as it takes a class parameter that points to the class and not the object instance.\n",
        "\n",
        "It can modify a class state that would apply across all the instances of the class. For example, it can modify a class variable that will be applicable to all the instances.\n",
        " "
      ],
      "metadata": {
        "id": "Nj0ekmwrMzUb"
      }
    },
    {
      "cell_type": "code",
      "source": [
        ""
      ],
      "metadata": {
        "id": "vOFxaJjkNfFQ"
      },
      "execution_count": null,
      "outputs": []
    },
    {
      "cell_type": "markdown",
      "source": [
        "# **Static Method**\n",
        "\n",
        "A static method does not receive an implicit first argument. \n",
        "\n",
        "Syntax: \n",
        "\n",
        "class C(object):\n",
        "\n",
        "    @staticmethod\n",
        "    def fun(arg1, arg2, ...):\n",
        "        ...\n",
        "**returns**: a static method for function fun.\n",
        "A static method is also a method that is bound to the class and not the object of the class.\n",
        "\n",
        "A static method can’t access or modify the class state.\n",
        "It is present in a class because it makes sense for the method to be present in class."
      ],
      "metadata": {
        "id": "-U-j1Oo8NubU"
      }
    },
    {
      "cell_type": "markdown",
      "source": [
        "# **Class method vs Static Method**\n",
        "A class method takes cls as the first parameter while a static method needs no specific parameters.\n",
        "\n",
        "A class method can access or modify the class state while a static method can’t access or modify it.\n",
        "\n",
        "In general, static methods know nothing about the class state. They are utility-type methods that take some parameters and work upon those parameters. On the other hand class methods must have class as a parameter.\n",
        "\n",
        "We use **@classmethod** decorator in python to create a class method and we use **@staticmethod** decorator to create a static method in python.\n",
        "\n",
        "**When to use what?**\n",
        "\n",
        "We generally use class method to create factory methods. Factory methods return class objects ( similar to a constructor ) for different use cases.\n",
        "We generally use static methods to create utility functions."
      ],
      "metadata": {
        "id": "xJVu7Q0SN2B7"
      }
    },
    {
      "cell_type": "code",
      "source": [
        "# Python program to demonstrate\n",
        "# use of class method and static method.\n",
        "from datetime import date\n",
        "  \n",
        "class Person:\n",
        "    def __init__(self, name, age):\n",
        "        self.name = name\n",
        "        self.age = age\n",
        "      \n",
        "    # a class method to create a Person object by birth year.\n",
        "    @classmethod\n",
        "    def fromBirthYear(cls, name, year):\n",
        "        return cls(name, date.today().year - year)\n",
        "      \n",
        "    # a static method to check if a Person is adult or not.\n",
        "    @staticmethod\n",
        "    def isAdult(age):\n",
        "        return age > 18\n",
        "  \n",
        "person1 = Person('mayank', 21)\n",
        "person2 = Person.fromBirthYear('mayank', 1996)\n",
        "  \n",
        "print (person1.age)\n",
        "print (person2.age)\n",
        "  \n",
        "# print the result\n",
        "print (Person.isAdult(22))"
      ],
      "metadata": {
        "colab": {
          "base_uri": "https://localhost:8080/"
        },
        "id": "IB6dFl8MOEXl",
        "outputId": "bfbfd878-fde4-4741-fea4-2eff9638b4e3"
      },
      "execution_count": null,
      "outputs": [
        {
          "output_type": "stream",
          "name": "stdout",
          "text": [
            "21\n",
            "26\n",
            "True\n"
          ]
        }
      ]
    },
    {
      "cell_type": "markdown",
      "source": [
        "#chapter 15\n",
        "ABSTRACT CLASSES AND INTERFACES"
      ],
      "metadata": {
        "id": "J5pv1imvCgqN"
      }
    },
    {
      "cell_type": "markdown",
      "source": [
        "**Abstract method and Abstract class**\n",
        "an abstract method is a method whose action is redefined in the sub classes as per the requirement of the objects.\n",
        "\n",
        "abstract methods written generally without body since their body will be defined in the sub classes anyhow. But it is possible to write an abstract method with body also.\n",
        "\n",
        "To mark a method as abstract, we should use the decorator @abstractmethod. On the other hand, a concrete method is a method with body.\n",
        "\n",
        "**Abstract class**\n",
        "\n",
        "An Abstract class is a class that generally contains some abstract methods.\n",
        "\n",
        "since abstract class contains abstract methods whose implementation(or body) is later defined in the sub classes, it is not possible to estimate the total memory required to create the object for the abstract class. So PVM cannot create objects to an abstract class.\n",
        "\n",
        "once an abstract class is written, we should create sub classes and all the abstract methods should be implemented(body should be written) in the sub classes. Then it is possible to create objects to the sub classes.\n",
        "\n",
        "\n",
        "\n"
      ],
      "metadata": {
        "id": "8q1n6FjKNhMZ"
      }
    },
    {
      "cell_type": "code",
      "source": [
        "#abstract class example\n",
        "from abc import ABC, abstractmethod\n",
        "class Myclass(ABC):\n",
        "  @abstractmethod\n",
        "  def calculate(self,x):\n",
        "    pass #no body\n",
        "#this is subclass of Myclass\n",
        "class sub1(Myclass):\n",
        "  def calculate(self,x):\n",
        "    print('square value=',x*x)\n",
        "#this is another subclass\n",
        "import math\n",
        "class sub2(Myclass):\n",
        "  def calculate(self,x):\n",
        "    print('square root=',math.sqrt(x))\n",
        "#third subclass for Myclass\n",
        "class sub3(Myclass):\n",
        "  def calculate(self,x):\n",
        "    print('cube value=',x**3)\n",
        "#create sub1 class object and call calculate() method\n",
        "obj1=sub1()\n",
        "obj1.calculate(16)\n",
        "#create sub2 class object and call calculate() method\n",
        "obj2=sub2()\n",
        "obj2.calculate(16)\n",
        "#create sub3 class object and call calculate() method\n",
        "obj3=sub3()\n",
        "obj3.calculate(16)"
      ],
      "metadata": {
        "colab": {
          "base_uri": "https://localhost:8080/"
        },
        "id": "LuzfYEK-XkfU",
        "outputId": "404f86cd-4c61-479e-ddbe-9cec39e7c7ef"
      },
      "execution_count": null,
      "outputs": [
        {
          "output_type": "stream",
          "name": "stdout",
          "text": [
            "square value= 256\n",
            "square root= 4.0\n",
            "cube value= 4096\n"
          ]
        }
      ]
    },
    {
      "cell_type": "code",
      "source": [
        ""
      ],
      "metadata": {
        "id": "i2mw4nNrCnu8"
      },
      "execution_count": null,
      "outputs": []
    },
    {
      "cell_type": "markdown",
      "source": [
        "Our Myclass is abstract class since it is derived from ABC meta class.\n",
        "\n",
        "This class has an abstract method calculate() that does not contain any code.\n",
        "\n",
        "we used @abstractmethod decorator to specify that this is an abstract method.\n",
        "\n",
        "in the above program, the same calculate() method written in the abstract class is implemented differently in three sub classes and it is able to perform different tasks. since the same method is performing various tasks, it is coming under polymorphism."
      ],
      "metadata": {
        "id": "jORFBg1Mbok2"
      }
    },
    {
      "cell_type": "code",
      "source": [
        " #create a car abstract class that contains an instance variable,  a concrete method and two abstract methods\n",
        "from abc import ABC, abstractmethod\n",
        "class Car(ABC):\n",
        "   def __init__(self,regno):\n",
        "     self.regno=regno\n",
        "   def opentank(self):\n",
        "      print('Fill the fuel into the tank')\n",
        "      print('the car regno',self.regno)\n",
        "   @abstractmethod\n",
        "   def steering(self):\n",
        "     pass\n",
        "   @abstractmethod\n",
        "   def braking(self):\n",
        "     pass\n",
        "    "
      ],
      "metadata": {
        "id": "6RsZY4Xffkcn"
      },
      "execution_count": null,
      "outputs": []
    },
    {
      "cell_type": "code",
      "source": [
        "#maruthi sub class implements the abstract methods of the super class,Car\n",
        "#from abc import Car\n",
        "class Maruthi(Car):\n",
        "  def steering(self):\n",
        "    print('maruthi uses manual steering')\n",
        "    print('Drive the car')\n",
        "  def braking(self):\n",
        "    print('maruthi uses hydrualic brakes')\n",
        "    print('apply brakes and stop it')\n",
        "#create object to maruthi and use it features\n",
        "m=Maruthi(1001)\n",
        "m.opentank()\n",
        "m.steering()\n",
        "m.braking()"
      ],
      "metadata": {
        "colab": {
          "base_uri": "https://localhost:8080/"
        },
        "id": "Q1tewDUovVOr",
        "outputId": "ac536f4f-fc1c-45fa-be9a-ad46a35f3fe7"
      },
      "execution_count": null,
      "outputs": [
        {
          "output_type": "stream",
          "name": "stdout",
          "text": [
            "Fill the fuel into the tank\n",
            "the car regno 1001\n",
            "maruthi uses manual steering\n",
            "Drive the car\n",
            "maruthi uses hydrualic brakes\n",
            "apply brakes and stop it\n"
          ]
        }
      ]
    },
    {
      "cell_type": "markdown",
      "source": [
        "#**Interfaces in Python:**\n",
        "Imagine there is a class that contains only abstractmethods and there are no concrete methods. It becomes an interface.\n",
        "\n",
        "This means an interface is an abstract class but it contains only abstract methods.\n",
        "\n",
        "None of the methods in the interface will have body."
      ],
      "metadata": {
        "id": "B1skflW32pL6"
      }
    },
    {
      "cell_type": "code",
      "source": [
        " "
      ],
      "metadata": {
        "id": "EC-erjA7x6Na"
      },
      "execution_count": null,
      "outputs": []
    }
  ]
}