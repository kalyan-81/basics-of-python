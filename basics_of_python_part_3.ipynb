{
  "nbformat": 4,
  "nbformat_minor": 0,
  "metadata": {
    "colab": {
      "name": "basics of python part_3.ipynb",
      "provenance": [],
      "authorship_tag": "ABX9TyMsXquzVARdPsKH1i95PGlg",
      "include_colab_link": true
    },
    "kernelspec": {
      "name": "python3",
      "display_name": "Python 3"
    },
    "language_info": {
      "name": "python"
    }
  },
  "cells": [
    {
      "cell_type": "markdown",
      "metadata": {
        "id": "view-in-github",
        "colab_type": "text"
      },
      "source": [
        "<a href=\"https://colab.research.google.com/github/kalyan-81/basics-of-python/blob/main/basics_of_python_part_3.ipynb\" target=\"_parent\"><img src=\"https://colab.research.google.com/assets/colab-badge.svg\" alt=\"Open In Colab\"/></a>"
      ]
    },
    {
      "cell_type": "markdown",
      "source": [
        "# **Statement, Indentation and Comment in Python**"
      ],
      "metadata": {
        "id": "rZF_pHllyHNo"
      }
    },
    {
      "cell_type": "markdown",
      "source": [
        "# **Statements**\n",
        "\n",
        "* Instructions written in the source code for execution are called statements. \n",
        "* There are different types of statements in the Python programming language like Assignment statements, Conditional statements, Looping statements, etc. \n",
        "* These all help the user to get the required output. For example, n = 50 is an assignment statement.\n",
        "# **Multi-Line Statements:**\n",
        "\n",
        " Statements in Python can be extended to one or more lines using parentheses **()**, braces **{}**, square brackets **[]**, semi-colon **(;)**, continuation character slash **(\\)**. When the programmer needs to do long calculations and cannot fit his statements into one line, one can make use of these characters. "
      ],
      "metadata": {
        "id": "XI2_GkDEyKXz"
      }
    },
    {
      "cell_type": "code",
      "source": [
        "#Declared using Continuation Character (\\):\n",
        "s = 1 + 2 + 3 + \\\n",
        "    4 + 5 + 6 + \\\n",
        "    7 + 8 + 9\n",
        "print(s)"
      ],
      "metadata": {
        "colab": {
          "base_uri": "https://localhost:8080/"
        },
        "id": "YSutZl-Wzr50",
        "outputId": "fa7486e8-e647-46d9-b381-1fc4f4d0d144"
      },
      "execution_count": 1,
      "outputs": [
        {
          "output_type": "stream",
          "name": "stdout",
          "text": [
            "45\n"
          ]
        }
      ]
    },
    {
      "cell_type": "code",
      "source": [
        "#Declared using parentheses () :\n",
        "n = (1 * 2 * 3 + 7 + 8 + 9)\n",
        "print(n)"
      ],
      "metadata": {
        "colab": {
          "base_uri": "https://localhost:8080/"
        },
        "id": "cTL6yFEKzz9j",
        "outputId": "0b3a4ef3-c1c4-4d7a-aede-9190940128ae"
      },
      "execution_count": 2,
      "outputs": [
        {
          "output_type": "stream",
          "name": "stdout",
          "text": [
            "30\n"
          ]
        }
      ]
    },
    {
      "cell_type": "code",
      "source": [
        "#Declared using square brackets [] :\n",
        "footballer = ['MESSI',\n",
        "          'NEYMAR',\n",
        "          'SUAREZ']\n",
        "print(footballer)\n"
      ],
      "metadata": {
        "colab": {
          "base_uri": "https://localhost:8080/"
        },
        "id": "UtFus-swz8pS",
        "outputId": "c2f60695-5975-4d1b-8552-6cd63891654d"
      },
      "execution_count": 4,
      "outputs": [
        {
          "output_type": "stream",
          "name": "stdout",
          "text": [
            "['MESSI', 'NEYMAR', 'SUAREZ']\n"
          ]
        }
      ]
    },
    {
      "cell_type": "code",
      "source": [
        "#Declared using braces {} :\n",
        "x = {1 + 2 + 3 + 4 + 5 + 6 +\n",
        "     7 + 8 + 9}\n",
        "print(x)"
      ],
      "metadata": {
        "colab": {
          "base_uri": "https://localhost:8080/"
        },
        "id": "LjGsZqIM0GTD",
        "outputId": "e82bd931-4290-4d6b-a93f-28ab9a8e498d"
      },
      "execution_count": 5,
      "outputs": [
        {
          "output_type": "stream",
          "name": "stdout",
          "text": [
            "{45}\n"
          ]
        }
      ]
    },
    {
      "cell_type": "code",
      "source": [
        "#Declared using semicolons(;) :\n",
        "flag = 2; ropes = 3; pole = 4\n",
        "print(flag)\n",
        "print(ropes)\n",
        "print(pole)"
      ],
      "metadata": {
        "colab": {
          "base_uri": "https://localhost:8080/"
        },
        "id": "fjO1fVVY0NUZ",
        "outputId": "54125dd5-b8a6-4576-cec8-e1938fed0997"
      },
      "execution_count": 6,
      "outputs": [
        {
          "output_type": "stream",
          "name": "stdout",
          "text": [
            "2\n",
            "3\n",
            "4\n"
          ]
        }
      ]
    },
    {
      "cell_type": "markdown",
      "source": [
        "# **Indentation**\n",
        "\n",
        "A block is a combination of all these statements. Block can be regarded as the grouping of statements for a specific purpose. Most of the programming languages like C, C++, Java use braces **{ }** to define a block of code. One of the distinctive features of Python is its use of indentation to highlighting the blocks of code. **Whitespace** is used for indentation in Python. All statements with the same distance to the right belong to the same block of code. If a block has to be more deeply nested, it is simply indented further to the right. You can understand it better by looking at the following lines of code:"
      ],
      "metadata": {
        "id": "tNSHwtTR0j23"
      }
    },
    {
      "cell_type": "code",
      "source": [
        "# Python program showing\n",
        "# indentation\n",
        " \n",
        "site = 'kalyan tutorials'\n",
        " \n",
        "if site == 'kalyan tutorials':\n",
        "    print('Logging on to kalyan tutorials...')\n",
        "else:\n",
        "    print('retype the URL.')\n",
        "print('All set !')"
      ],
      "metadata": {
        "colab": {
          "base_uri": "https://localhost:8080/"
        },
        "id": "Ahaa3dDK02VA",
        "outputId": "4a617273-36c7-4047-9e7e-55ba7837fbc6"
      },
      "execution_count": 7,
      "outputs": [
        {
          "output_type": "stream",
          "name": "stdout",
          "text": [
            "Logging on to kalyan tutorials...\n",
            "All set !\n"
          ]
        }
      ]
    },
    {
      "cell_type": "markdown",
      "source": [
        "# **Comments**\n",
        "\n",
        "* Comments are the useful information that the developers provide to make the reader understand the source code.\n",
        "\n",
        "* These are often cited as a useful programming convention that does not take part in the output of the program but improves the readability of the whole program.\n",
        "\n",
        "# **Single line comments:** \n",
        "Python single line comment starts with **hashtag** symbol with no white spaces (**#**) and lasts till the end of the line. If the comment exceeds one line then put a hashtag on the next line and continue the comment. Python’s single-line comments are proved useful for supplying short explanations for variables, function declarations, and expressions. \n",
        "\n",
        "**Multi-line string as a comment:** \n",
        "\n",
        "Python multi-line comment is a piece of text enclosed in a delimiter (**“””**) on each end of the comment. Again there should be no white space between delimiter (“””). They are useful when the comment text does not fit into one line; therefore need to span across lines. Multi-line comments or paragraphs serve as documentation for others reading your code."
      ],
      "metadata": {
        "id": "1VE3EBXO20xD"
      }
    },
    {
      "cell_type": "code",
      "source": [
        "\"\"\"\n",
        "This would be a multiline comment in Python that\n",
        "spans several lines and describes python tutorials.\n",
        "It contains\n",
        "well written, well thought\n",
        "and well-explained \n",
        "programming articles,\n",
        "quizzes and more.\n",
        "…\n",
        "\"\"\"\n",
        "print(\"python tutorials\")"
      ],
      "metadata": {
        "colab": {
          "base_uri": "https://localhost:8080/"
        },
        "id": "ud27VLvs4PDs",
        "outputId": "9b2cf428-f6eb-443a-ec58-048df977f131"
      },
      "execution_count": 8,
      "outputs": [
        {
          "output_type": "stream",
          "name": "stdout",
          "text": [
            "python tutorials\n"
          ]
        }
      ]
    },
    {
      "cell_type": "markdown",
      "source": [
        "# **How to assign values to variables in Python**\n",
        "\n"
      ],
      "metadata": {
        "id": "ShzOX9TV4yKT"
      }
    },
    {
      "cell_type": "code",
      "source": [
        "# initialising variable directly\n",
        "a = 5\n",
        " \n",
        "# printing value of a\n",
        "print (\"The value of a is: \" + str(a))"
      ],
      "metadata": {
        "colab": {
          "base_uri": "https://localhost:8080/"
        },
        "id": "LnWSEUr66Yx4",
        "outputId": "be8f6bfd-ac1b-4c53-83b9-6c4065fc1dce"
      },
      "execution_count": 9,
      "outputs": [
        {
          "output_type": "stream",
          "name": "stdout",
          "text": [
            "The value of a is: 5\n"
          ]
        }
      ]
    },
    {
      "cell_type": "code",
      "source": [
        "# Initialising variables using Conditional Operator\n",
        "a = 1 if 20 > 10 else 0\n",
        " \n",
        "# Printing value of a\n",
        "print(\"The value of a is: \" , str(a))"
      ],
      "metadata": {
        "colab": {
          "base_uri": "https://localhost:8080/"
        },
        "id": "Cu3cOoUn6xfd",
        "outputId": "a9ecf5b2-53d3-4c6c-abd7-b6c25276378b"
      },
      "execution_count": 10,
      "outputs": [
        {
          "output_type": "stream",
          "name": "stdout",
          "text": [
            "The value of a is:  1\n"
          ]
        }
      ]
    },
    {
      "cell_type": "markdown",
      "source": [
        "# **How to check if a string is a valid keyword in Python?**\n",
        "\n",
        "Python in its language defines an inbuilt module **“keyword”** which handles certain operations related to keywords. A function **“iskeyword()”** checks if a string is a keyword or not. Returns true if a string is a keyword, else returns false"
      ],
      "metadata": {
        "id": "LLyjasAN7eYS"
      }
    },
    {
      "cell_type": "code",
      "source": [
        "# importing \"keyword\" for keyword operations\n",
        "import keyword\n",
        " \n",
        "# printing all keywords at once using \"kwlist()\"\n",
        "print (\"The list of keywords is : \")\n",
        "print (keyword.kwlist)"
      ],
      "metadata": {
        "colab": {
          "base_uri": "https://localhost:8080/"
        },
        "id": "ErUcdNYx8spD",
        "outputId": "e32f6b90-9602-4197-b383-a77b6b89fb71"
      },
      "execution_count": 11,
      "outputs": [
        {
          "output_type": "stream",
          "name": "stdout",
          "text": [
            "The list of keywords is : \n",
            "['False', 'None', 'True', 'and', 'as', 'assert', 'async', 'await', 'break', 'class', 'continue', 'def', 'del', 'elif', 'else', 'except', 'finally', 'for', 'from', 'global', 'if', 'import', 'in', 'is', 'lambda', 'nonlocal', 'not', 'or', 'pass', 'raise', 'return', 'try', 'while', 'with', 'yield']\n"
          ]
        }
      ]
    }
  ]
}