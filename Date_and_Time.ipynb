{
  "nbformat": 4,
  "nbformat_minor": 0,
  "metadata": {
    "colab": {
      "name": "Date and Time.ipynb",
      "provenance": [],
      "collapsed_sections": [],
      "authorship_tag": "ABX9TyMdSy7TSKW1lwzTrTv676Yd",
      "include_colab_link": true
    },
    "kernelspec": {
      "name": "python3",
      "display_name": "Python 3"
    },
    "language_info": {
      "name": "python"
    }
  },
  "cells": [
    {
      "cell_type": "markdown",
      "metadata": {
        "id": "view-in-github",
        "colab_type": "text"
      },
      "source": [
        "<a href=\"https://colab.research.google.com/github/kalyan-81/basics-of-python/blob/main/Date_and_Time.ipynb\" target=\"_parent\"><img src=\"https://colab.research.google.com/assets/colab-badge.svg\" alt=\"Open In Colab\"/></a>"
      ]
    },
    {
      "cell_type": "code",
      "execution_count": null,
      "metadata": {
        "id": "NqKljD0MOMTt"
      },
      "outputs": [],
      "source": [
        ""
      ]
    },
    {
      "cell_type": "markdown",
      "source": [
        "# Lecture 20: DATE AND TIME\n",
        "Python provide three modules:\n",
        "**datetime**, **time**, **calendar** that help us to deal with dates, times, durations and calendars.\n",
        "## the datetime moudle contains 4 important classes:\n",
        "* **datetime** class handles a combination of date and time. it contains attributes year, month, day, hour, minute, second, microsecond,tzinfo(time zone information)\n",
        "* **date** class handles dates of Gregorian calendar, without taking time zone into consideration, it has the attributes: year, month, and day.\n",
        "* **time** class handles time assuming that every day has exactly 24 x 60 x 60 second. Its attributes: hour, minute, second, microsecond, and tzinfo.\n",
        "* **timedelta** class is useful to handle the duration. The duration may be the difference between two date, time, or datetime instances.\n",
        "# The Epoch\n",
        "epoch is the point where the time starts. This point is taken as the 0.0 hours of january 1st of the current year.\n"
      ],
      "metadata": {
        "id": "CS86ED4bOT36"
      }
    },
    {
      "cell_type": "code",
      "source": [
        "# knowing the time since the epoch\n",
        "import time\n",
        "epoch=time.time() # calling time() function of time module\n",
        "print(epoch)# returns how many seoconds gone since the beginning of the current year to now"
      ],
      "metadata": {
        "colab": {
          "base_uri": "https://localhost:8080/"
        },
        "id": "-m-UATFVa-uh",
        "outputId": "d8ecbf26-d22e-49a5-c5c1-efe21b012b2b"
      },
      "execution_count": null,
      "outputs": [
        {
          "output_type": "stream",
          "name": "stdout",
          "text": [
            "1645618478.7640774\n"
          ]
        }
      ]
    },
    {
      "cell_type": "markdown",
      "source": [
        "# localtime()\n",
        "to convert this seconds into dat and time, we can use **localtime()** function of 'time' module."
      ],
      "metadata": {
        "id": "Qq3GUa_5ccku"
      }
    },
    {
      "cell_type": "code",
      "source": [
        "dt=time.localtime(epoch)\n",
        "print(dt)"
      ],
      "metadata": {
        "colab": {
          "base_uri": "https://localhost:8080/"
        },
        "id": "KptN_mEZbVGP",
        "outputId": "936fa6e6-9f26-4da0-8278-5299a0f7ee51"
      },
      "execution_count": null,
      "outputs": [
        {
          "output_type": "stream",
          "name": "stdout",
          "text": [
            "time.struct_time(tm_year=2022, tm_mon=2, tm_mday=23, tm_hour=12, tm_min=14, tm_sec=38, tm_wday=2, tm_yday=54, tm_isdst=0)\n"
          ]
        }
      ]
    },
    {
      "cell_type": "markdown",
      "source": [
        "dt is the object we can access the attibutes in two ways using index and attibutes"
      ],
      "metadata": {
        "id": "cL71WA1Hcb9K"
      }
    },
    {
      "cell_type": "code",
      "source": [
        "#using index\n",
        "print(dt[0])\n",
        "print(dt[1])\n",
        "print(dt[2])\n",
        "print(dt[3])\n",
        "print(dt[4])\n",
        "print(dt[5])\n",
        "print(dt[6])\n",
        "print(dt[7])\n",
        "print(dt[8])\n",
        "\n"
      ],
      "metadata": {
        "colab": {
          "base_uri": "https://localhost:8080/"
        },
        "id": "5Ev7aPOtdCOO",
        "outputId": "9e2fa8ca-872b-4a5f-c7e8-f5234f595227"
      },
      "execution_count": null,
      "outputs": [
        {
          "output_type": "stream",
          "name": "stdout",
          "text": [
            "2022\n",
            "2\n",
            "23\n",
            "12\n",
            "14\n",
            "38\n",
            "2\n",
            "54\n",
            "0\n"
          ]
        }
      ]
    },
    {
      "cell_type": "code",
      "source": [
        "# using attributes to print current date\n",
        "d=dt.tm_mday\n",
        "m=dt.tm_mon\n",
        "y=dt.tm_year\n",
        "print('current date is : %d - %d - %d'%(d,m,y))"
      ],
      "metadata": {
        "colab": {
          "base_uri": "https://localhost:8080/"
        },
        "id": "d-u4q4DFdDSW",
        "outputId": "4fef0353-42aa-4461-d6cf-69faed80fb21"
      },
      "execution_count": null,
      "outputs": [
        {
          "output_type": "stream",
          "name": "stdout",
          "text": [
            "current date is : 23 - 2 - 2022\n"
          ]
        }
      ]
    },
    {
      "cell_type": "code",
      "source": [
        "# using attributes to print current time\n",
        "h=dt.tm_hour\n",
        "m=dt.tm_min\n",
        "s=dt.tm_sec\n",
        "print('current time is: %d:%d:%d'%(h,m,s))"
      ],
      "metadata": {
        "colab": {
          "base_uri": "https://localhost:8080/"
        },
        "id": "Q5VvfmdyfMDq",
        "outputId": "80ef6935-62a8-4a42-d844-102d7c3db24b"
      },
      "execution_count": null,
      "outputs": [
        {
          "output_type": "stream",
          "name": "stdout",
          "text": [
            "current time is: 12:14:38\n"
          ]
        }
      ]
    },
    {
      "cell_type": "markdown",
      "source": [
        "# Date and Time Now\n",
        "the current  date and time as shown in our computer system can be known using the following:\n",
        "* ctime() function of 'time' module\n",
        "* now() method of  'datetime' class of 'datetime' module\n",
        "* today() method of 'datetime' class of 'datetime' module\n"
      ],
      "metadata": {
        "id": "LYEMOg8yfKWb"
      }
    },
    {
      "cell_type": "code",
      "source": [
        "import time\n",
        "t=time.ctime()\n",
        "print(t) # this running in cloud so the time is different\n",
        "# check in jupyter notebook which is running in local computer"
      ],
      "metadata": {
        "colab": {
          "base_uri": "https://localhost:8080/"
        },
        "id": "ov88aB6zh7MX",
        "outputId": "a57b8566-28a4-47d2-894a-b31f45e4fa20"
      },
      "execution_count": null,
      "outputs": [
        {
          "output_type": "stream",
          "name": "stdout",
          "text": [
            "Wed Feb 23 12:23:48 2022\n"
          ]
        }
      ]
    },
    {
      "cell_type": "code",
      "source": [
        "from datetime import*\n",
        "t=datetime.now()\n",
        "print(t)"
      ],
      "metadata": {
        "colab": {
          "base_uri": "https://localhost:8080/"
        },
        "id": "q-nxV0NYiZvk",
        "outputId": "b67d518c-cae6-44a7-fb1e-46eb0acc0f4b"
      },
      "execution_count": null,
      "outputs": [
        {
          "output_type": "stream",
          "name": "stdout",
          "text": [
            "2022-02-23 12:32:06.255224\n"
          ]
        }
      ]
    },
    {
      "cell_type": "code",
      "source": [
        "#invidually we can access\n",
        "print(t.day)\n",
        "print(t.month)\n",
        "print(t.year)\n",
        "print(t.hour)\n",
        "print(t.minute)\n",
        "print(t.second)"
      ],
      "metadata": {
        "colab": {
          "base_uri": "https://localhost:8080/"
        },
        "id": "NUUpzXznjKbd",
        "outputId": "0a072816-7b61-4111-a73b-071f5071fc06"
      },
      "execution_count": null,
      "outputs": [
        {
          "output_type": "stream",
          "name": "stdout",
          "text": [
            "23\n",
            "2\n",
            "2022\n",
            "12\n",
            "32\n",
            "6\n"
          ]
        }
      ]
    },
    {
      "cell_type": "markdown",
      "source": [
        "# today() method in datetime module"
      ],
      "metadata": {
        "id": "6kT_ROFclBJk"
      }
    },
    {
      "cell_type": "code",
      "source": [
        "#finding todays date and time\n",
        "from datetime import*\n",
        "tdm=datetime.today()\n",
        "print(tdm)"
      ],
      "metadata": {
        "colab": {
          "base_uri": "https://localhost:8080/"
        },
        "id": "Jn1LOMAjlEGP",
        "outputId": "75630ff6-b50b-4160-ba1b-df159c3f2ca1"
      },
      "execution_count": null,
      "outputs": [
        {
          "output_type": "stream",
          "name": "stdout",
          "text": [
            "2022-02-23 12:36:55.146268\n"
          ]
        }
      ]
    },
    {
      "cell_type": "code",
      "source": [
        "td=date.today()\n",
        "td"
      ],
      "metadata": {
        "colab": {
          "base_uri": "https://localhost:8080/"
        },
        "id": "bMxrVIQ2leTb",
        "outputId": "f4090a83-e2b8-4ef2-b394-349af205a897"
      },
      "execution_count": null,
      "outputs": [
        {
          "output_type": "execute_result",
          "data": {
            "text/plain": [
              "datetime.date(2022, 2, 23)"
            ]
          },
          "metadata": {},
          "execution_count": 45
        }
      ]
    },
    {
      "cell_type": "markdown",
      "source": [
        "# combining date and time\n",
        "date and time classes belong to datetime module.\n",
        "we can combine date and time objects using combine() method\n"
      ],
      "metadata": {
        "id": "GYyGwuHwmIxA"
      }
    },
    {
      "cell_type": "code",
      "source": [
        "#combining date and time\n",
        "from datetime import*\n",
        "d=date(2016,4,29)\n",
        "t=time(15,30)\n",
        "dt=datetime.combine(d,t)\n",
        "print(dt)\n"
      ],
      "metadata": {
        "colab": {
          "base_uri": "https://localhost:8080/"
        },
        "id": "tK_YwB6zlkFo",
        "outputId": "542f5f54-24d9-432f-d0f1-640a94af1567"
      },
      "execution_count": null,
      "outputs": [
        {
          "output_type": "stream",
          "name": "stdout",
          "text": [
            "2016-04-29 15:30:00\n"
          ]
        }
      ]
    },
    {
      "cell_type": "code",
      "source": [
        "from datetime import*\n",
        "dt2=datetime(year=2015,month=6, day=24)\n",
        "dt3=datetime(2016,6,24,18,30)\n",
        "dt4=datetime(year=2018,month=5,day=24,hour=8,minute=5)\n",
        "print(dt2)\n",
        "print(dt3)\n",
        "print(dt4)"
      ],
      "metadata": {
        "colab": {
          "base_uri": "https://localhost:8080/"
        },
        "id": "xroyePBdnaUP",
        "outputId": "6d82e85b-8cf2-4a5c-90a3-eba03f137c39"
      },
      "execution_count": null,
      "outputs": [
        {
          "output_type": "stream",
          "name": "stdout",
          "text": [
            "2015-06-24 00:00:00\n",
            "2016-06-24 18:30:00\n",
            "2018-05-24 08:05:00\n"
          ]
        }
      ]
    },
    {
      "cell_type": "markdown",
      "source": [
        "# replace() method\n"
      ],
      "metadata": {
        "id": "gOznXb5VoOUx"
      }
    },
    {
      "cell_type": "code",
      "source": [
        "# replace the date and time of above dt4\n",
        "dt5=dt4.replace(year=2022,month=2,day=14)\n",
        "print(dt5)"
      ],
      "metadata": {
        "colab": {
          "base_uri": "https://localhost:8080/"
        },
        "id": "kiJyrfpgoR66",
        "outputId": "ab05ef6b-7638-4253-eb6b-51d8b6437bf1"
      },
      "execution_count": null,
      "outputs": [
        {
          "output_type": "stream",
          "name": "stdout",
          "text": [
            "2022-02-14 08:05:00\n"
          ]
        }
      ]
    },
    {
      "cell_type": "markdown",
      "source": [
        "# Formatting dates and times\n",
        "**strftime()** method represents string format of time.\n"
      ],
      "metadata": {
        "id": "5NSmr1ZpoosT"
      }
    },
    {
      "cell_type": "code",
      "source": [
        "from datetime import*\n",
        "td=date.today()\n",
        "print(td)\n",
        "# using strftime() method\n",
        "print(td.strftime('%d,%B,%Y'))\n"
      ],
      "metadata": {
        "colab": {
          "base_uri": "https://localhost:8080/"
        },
        "id": "OqdfqzplzJHB",
        "outputId": "d8005b30-beb8-46d5-9348-2b1603dfe38d"
      },
      "execution_count": null,
      "outputs": [
        {
          "output_type": "stream",
          "name": "stdout",
          "text": [
            "2022-02-23\n",
            "23,February,2022\n"
          ]
        }
      ]
    },
    {
      "cell_type": "markdown",
      "source": [
        "# Format codes used in strftime() Method\n",
        "\n",
        "\n",
        "```\n",
        "format code                      meaning                                 example\n",
        "  %a                     week day as an abbreviated name             Sun,Mon,Tue...Sat\n",
        "  %A                     week day as full name                       Sunday, Monday,...Saturday\n",
        "  %w                     weekday  as a decimal number, 0 is Sunday   0, 1, ...6\n",
        "  %d                     Day of the month as a zero-padded decimal   01, 02,...31\n",
        "  %b                     Month as an abbreviated name.               Jan,Feb,...Dec\n",
        "  %B                     Month as full name                          January, February..December\n",
        "  %m                    Month as zero padded decimal number          01, 02,...12\n",
        "  %y                    year without century as a zero padded        00,01,...99\n",
        "  %Y                    year with century as decimal number          0001,0002,...9999\n",
        "  %H                    Hour(24-hr clock) as zero padded decimal     00,01,02,..23\n",
        "  %I                    Hour(12-hr clock) as a zero-padded decimal   01,02,...12\n",
        "  %p                    Either AM or PM                              AM, PM\n",
        "  %M                    Minute as a zero padded decimal number       00,01,...59\n",
        "  %S                    Second as a zero padded decimal number       00,01,....59\n",
        "  %f                    microsecond as a decimal number              000000,000001,....999999\n",
        "  %Z                    time zone name                               (empty), UTC, EST, CST\n",
        "  %j                    Day of the year as a zero-padded decimal    001,002,...366\n",
        "  %U              week number of the year, first sunday in  a new year considered as week 0           00,01,....53\n",
        "  %W              week number of the year, first monday in a new year considered as week 0           00,01,....53\n",
        "  %c              Appropriate data and time representation.     Tue Aug 16 21:30:00  1988\n",
        "  %x              Appropriate date representation                 08/16/88(None), 08/16/1988(en_US)\n",
        "  %X             Appropriate time representation          21:30:00(en_US)\n",
        "\n",
        "  %%             A single % character.                       %                            \n",
        "```\n",
        "\n"
      ],
      "metadata": {
        "id": "FGhV_2hJ0k77"
      }
    },
    {
      "cell_type": "code",
      "source": [
        "# finding the day of the year\n",
        "from datetime import*\n",
        "# get today's date\n",
        "td=date.today()\n",
        "print(td)\n",
        "# %j return the day of the year as 001,002,003..366\n",
        "s1=td.strftime('%j')\n",
        "print('today is ',s1,'the day of the current year')\n",
        "#find the week day name\n",
        "s2=td.strftime(\"%A\")\n",
        "print('It is ',s2)"
      ],
      "metadata": {
        "colab": {
          "base_uri": "https://localhost:8080/"
        },
        "id": "E1yvsUyhzwOr",
        "outputId": "106f68c7-840d-4d83-c402-2ec4e696c92d"
      },
      "execution_count": null,
      "outputs": [
        {
          "output_type": "stream",
          "name": "stdout",
          "text": [
            "2022-02-23\n",
            "today is  054 the day of the current year\n",
            "It is  Wednesday\n"
          ]
        }
      ]
    },
    {
      "cell_type": "code",
      "source": [
        "# formatting the current time\n",
        "from datetime import*\n",
        " #create datetime object with current date and time\n",
        "dt=datetime.now()\n",
        "print(dt)\n",
        "#display only time\n",
        "print('current time:',dt.strftime('%H:%M:%S'))"
      ],
      "metadata": {
        "colab": {
          "base_uri": "https://localhost:8080/"
        },
        "id": "UfempQPA9vqu",
        "outputId": "32b97016-f852-447e-b172-74b4d3876888"
      },
      "execution_count": null,
      "outputs": [
        {
          "output_type": "stream",
          "name": "stdout",
          "text": [
            "2022-02-23 15:30:16.422499\n",
            "current time: 15:30:16\n"
          ]
        }
      ]
    },
    {
      "cell_type": "code",
      "source": [
        "d,m,y=[int(x) for x in input('enter a date:').split('/')]\n",
        "dt=date(y,m,d)"
      ],
      "metadata": {
        "colab": {
          "base_uri": "https://localhost:8080/"
        },
        "id": "bmxH7Zi2NKS1",
        "outputId": "d3ad9b71-c33b-4670-8e88-0c27586702d2"
      },
      "execution_count": null,
      "outputs": [
        {
          "name": "stdout",
          "output_type": "stream",
          "text": [
            "enter a date:24/08/2024\n"
          ]
        }
      ]
    },
    {
      "cell_type": "code",
      "source": [
        "dt"
      ],
      "metadata": {
        "colab": {
          "base_uri": "https://localhost:8080/"
        },
        "id": "nySuz7ZjOxuM",
        "outputId": "26facb68-2823-406b-8ecc-e9b4fc16bbda"
      },
      "execution_count": null,
      "outputs": [
        {
          "output_type": "execute_result",
          "data": {
            "text/plain": [
              "datetime.date(2024, 8, 24)"
            ]
          },
          "metadata": {},
          "execution_count": 64
        }
      ]
    },
    {
      "cell_type": "code",
      "source": [
        "# finding  day of the week\n",
        "from datetime import*\n",
        "#accept date, month and year from the keyboard\n",
        "d,m,y=[int(x) for x in input('enter a date:').split('/')]\n",
        "#store them in date class object 'dt'\n",
        "dt=date(y,m,d)\n",
        "#%w-day number and %A full name of the week day\n",
        "print(dt.strftime('Day %w of the week. This is %A'))\n"
      ],
      "metadata": {
        "colab": {
          "base_uri": "https://localhost:8080/"
        },
        "id": "Lgz0R22rOyh4",
        "outputId": "d5669b3d-62f9-4023-fb41-5044500b0cb2"
      },
      "execution_count": null,
      "outputs": [
        {
          "output_type": "stream",
          "name": "stdout",
          "text": [
            "enter a date:26/08/1997\n",
            "Day 2 of the week. This is Tuesday\n"
          ]
        }
      ]
    },
    {
      "cell_type": "code",
      "source": [
        "#program to find the difference in number of days, weeks and months between two given dates.\n",
        "from datetime import*\n",
        "# enter the two dates from the keyboard\n",
        "d1,m1,y1=[int(x) for x in input('enter first date:').split('/')]\n",
        "d2,m2,y2=[int(x) for x in input('enter second date:').split('/')]\n",
        "\n",
        "#create date class objects with the input\n",
        "dt1=date(y1,m1,d1)\n",
        "dt2=date(y2,m2,d2)\n",
        "#find days difference between these two dates\n",
        "dt=dt1-dt2\n",
        "print('days difference=',dt)\n",
        "#find difference in weeks\n",
        "weeks,days=divmod(dt.days,7)\n",
        "print('weeks difference =',weeks)\n",
        "#find the difference in months\n",
        "months,days=divmod(dt.days,30)\n",
        "print('months difference=',months)#\n"
      ],
      "metadata": {
        "colab": {
          "base_uri": "https://localhost:8080/"
        },
        "id": "Yu0mKdlvQ7Tq",
        "outputId": "41c9edd9-1771-4b4b-9775-0d700f80ccd6"
      },
      "execution_count": null,
      "outputs": [
        {
          "output_type": "stream",
          "name": "stdout",
          "text": [
            "enter first date:22/08/1997\n",
            "enter second date:4/05/2016\n",
            "days difference= -6830 days, 0:00:00\n",
            "weeks difference = -976\n",
            "months difference= -228\n"
          ]
        }
      ]
    },
    {
      "cell_type": "code",
      "source": [
        "d1=datetime(2000,6,25,8,00,25)\n",
        "d2=datetime(2016,5,20,7,55,15)\n",
        "diff=d2-d1\n",
        "diff"
      ],
      "metadata": {
        "colab": {
          "base_uri": "https://localhost:8080/"
        },
        "id": "awB9mBPLXzfa",
        "outputId": "6f3b1965-4211-4a37-82cf-d52e91560f91"
      },
      "execution_count": null,
      "outputs": [
        {
          "output_type": "execute_result",
          "data": {
            "text/plain": [
              "datetime.timedelta(days=5807, seconds=86090)"
            ]
          },
          "metadata": {},
          "execution_count": 69
        }
      ]
    },
    {
      "cell_type": "code",
      "source": [
        "print(diff.days)\n",
        "print(diff.seconds)\n",
        "print(diff.microseconds)"
      ],
      "metadata": {
        "colab": {
          "base_uri": "https://localhost:8080/"
        },
        "id": "PAehoa_SYHQt",
        "outputId": "34afda20-d268-43aa-8af3-35e6146c702b"
      },
      "execution_count": null,
      "outputs": [
        {
          "output_type": "stream",
          "name": "stdout",
          "text": [
            "5807\n",
            "86090\n",
            "0\n"
          ]
        }
      ]
    },
    {
      "cell_type": "code",
      "source": [
        "# difference between two dates along with times\n",
        "from datetime import*\n",
        "#create two datetime objects that store date and time\n",
        "d1=datetime(2000, 6, 25, 8, 00, 25)\n",
        "d2=datetime(2016, 5, 20, 7, 55, 15)\n",
        "# find the difference in days and time\n",
        "diff=d2-d1\n",
        "print(diff)\n",
        "#divide days by 7 to get weeks and remaining days\n",
        "weeks, days=divmod(diff.days,7)\n",
        "#divide seconds by 3600 to get hours and remaining seconds\n",
        "hrs, secs = divmod(diff.seconds,3600)\n",
        "#divide remaining seconds by 60 to get minutes\n",
        "mins = secs//60 #get minutes\n",
        "#take remaining seconds from the remainder of division\n",
        "secs = secs % 60 # get remaining seconds\n",
        "print('difference is %d weeks,%d days, %d hours,%d minutes and %d seconds'%(weeks,days,hrs,mins,secs))"
      ],
      "metadata": {
        "colab": {
          "base_uri": "https://localhost:8080/"
        },
        "id": "BhgewMXWYVMk",
        "outputId": "7c0ba61d-e946-4975-e616-00765fde4281"
      },
      "execution_count": null,
      "outputs": [
        {
          "output_type": "stream",
          "name": "stdout",
          "text": [
            "5807 days, 23:54:50\n",
            "difference is 829 weeks,4 days, 23 hours,54 minutes and 50 seconds\n"
          ]
        }
      ]
    },
    {
      "cell_type": "markdown",
      "source": [
        "# Finding Durations using 'timedelta'\n",
        "the 'datetime' class of 'datetime' module is useful to find the durations like between two dates or finding the date after adding a period to an existing date. It is possible to know the future dates or previous dates using 'timedelta'.\\\n",
        "The 'timedelta' class object is available in the following format:\n",
        "**timedelta(days=0,second=0,microseconds=0,milliseconds=0,minutes=0,hours=0,weeks=0)**\n",
        "\n",
        "All arguments are optional and default to 0. Arguments may be integers or floats, and may be positive or negative.\n",
        "* only days, seconds and microseconds are stored internally in the 'timedelta' object.\n",
        "Arguments are converted to those units as:\n",
        "* a millisecond is converted to 1000 microseconds\n",
        "* a minute is converted to 60 seconds\n",
        "* an hour is converted to 3600 seconds\n",
        "* a week is converted to 7 days\n",
        "\n",
        "\n"
      ],
      "metadata": {
        "id": "oXMURa2Zby1i"
      }
    },
    {
      "cell_type": "code",
      "source": [
        "d1=datetime(2016,4,29,16,45,0)\n",
        "print(d1)"
      ],
      "metadata": {
        "colab": {
          "base_uri": "https://localhost:8080/"
        },
        "id": "PYnXiOlGsl34",
        "outputId": "68a05bfb-84a1-4e0d-a6e6-0ea7deb8f103"
      },
      "execution_count": null,
      "outputs": [
        {
          "output_type": "stream",
          "name": "stdout",
          "text": [
            "2016-04-29 16:45:00\n"
          ]
        }
      ]
    },
    {
      "cell_type": "code",
      "source": [
        "period1=timedelta(days=10,seconds=10,minutes=20,hours=12)\n",
        "print(period1)"
      ],
      "metadata": {
        "colab": {
          "base_uri": "https://localhost:8080/"
        },
        "id": "108HjjzVs6PB",
        "outputId": "86d2c32f-91cb-45df-9899-805274e81bcc"
      },
      "execution_count": null,
      "outputs": [
        {
          "output_type": "stream",
          "name": "stdout",
          "text": [
            "10 days, 12:20:10\n"
          ]
        }
      ]
    },
    {
      "cell_type": "code",
      "source": [
        "# find the future date and time from an existing date\n",
        "from datetime import*\n",
        "d1=datetime(2016,4,29,16,45,0)\n",
        "period1=timedelta(days=10,seconds=10,minutes=20,hours=12)\n",
        "# add the period to d1 existing date\n",
        "future_date=d1+period1\n",
        "print(future_date)"
      ],
      "metadata": {
        "colab": {
          "base_uri": "https://localhost:8080/"
        },
        "id": "2dogbs17tP1P",
        "outputId": "c505f486-e688-4023-b93b-2c13279b1e76"
      },
      "execution_count": null,
      "outputs": [
        {
          "output_type": "stream",
          "name": "stdout",
          "text": [
            "2016-05-10 05:05:10\n"
          ]
        }
      ]
    },
    {
      "cell_type": "code",
      "source": [
        "#write the program to find next 10 days continuous dates\n",
        "from datetime import*\n",
        "# start with today()\n",
        "d=date.today()\n",
        "print(d)\n",
        "# or any other date\n",
        "# d=date(1996,6,29)\n",
        "#add 1 to 9 days and get future dates\n",
        "for x in range(1,10):\n",
        "  next_date=d+timedelta(days=x)\n",
        "  print(next_date)\n",
        "  \n",
        "\n",
        "\n"
      ],
      "metadata": {
        "colab": {
          "base_uri": "https://localhost:8080/"
        },
        "id": "9xVY9giTuHmK",
        "outputId": "6e9609fe-76f9-4aa6-a623-55b905aaf602"
      },
      "execution_count": null,
      "outputs": [
        {
          "output_type": "stream",
          "name": "stdout",
          "text": [
            "2022-02-23\n",
            "2022-02-24\n",
            "2022-02-25\n",
            "2022-02-26\n",
            "2022-02-27\n",
            "2022-02-28\n",
            "2022-03-01\n",
            "2022-03-02\n",
            "2022-03-03\n",
            "2022-03-04\n"
          ]
        }
      ]
    },
    {
      "cell_type": "markdown",
      "source": [
        "# comparing Two dates\n",
        "it is possible to compare two 'date' class objects.\n",
        "similarly it is possible to compare the 'datetime' objects also.\n"
      ],
      "metadata": {
        "id": "EdCxEEOvvMZA"
      }
    },
    {
      "cell_type": "code",
      "source": [
        "#to know who is older\n",
        "from datetime import*\n",
        "#age of person1\n",
        "d1,m1,y1=[int(x) for x in input('enter the date of birth of person1:').split('/')]\n",
        "# age of person2\n",
        "d2,m2,y2=[int(x) for x in input('enter the date of birth of person2:').split('/')]\n",
        "#create date objects\n",
        "b1=date(y1,m1,d1)\n",
        "b2=date(y2,m2,d2)\n",
        "# compare the birth dates\n",
        "if b1==b2:\n",
        "  print('both persons are of equal age')\n",
        "elif b1>b2:\n",
        "  print('the second perons is older than first person')\n",
        "else:\n",
        "  print('the first person is older than second person')"
      ],
      "metadata": {
        "colab": {
          "base_uri": "https://localhost:8080/"
        },
        "id": "wl9YR0xiu7d2",
        "outputId": "49860984-d3c1-4725-87a7-b6b5962baa3d"
      },
      "execution_count": null,
      "outputs": [
        {
          "output_type": "stream",
          "name": "stdout",
          "text": [
            "enter the date of birth of person1:10/1/1990\n",
            "enter the date of birth of person2:10/2/1989\n",
            "the second perons is older than first person\n"
          ]
        }
      ]
    },
    {
      "cell_type": "code",
      "source": [
        ""
      ],
      "metadata": {
        "id": "SCfMEft0yek0"
      },
      "execution_count": null,
      "outputs": []
    },
    {
      "cell_type": "markdown",
      "source": [
        "# sorting dates\n",
        "the best way to sort a group of dates is to store them into a list and then apply list's sort() method.\n"
      ],
      "metadata": {
        "id": "LsKPyQPkzCb1"
      }
    },
    {
      "cell_type": "code",
      "source": [
        "#sort  a group of given dates in ascending order\n",
        "from datetime import*\n",
        "#take an empty list\n",
        "group=[]\n",
        "# add today's date to list\n",
        "group.append(date.today())\n",
        "# add some more dates to the group\n",
        "group.append(date(2015,5,24))\n",
        "group.append(date(2014,3,4))\n",
        "group.append(date(2023,4,5))\n",
        "#sort the list\n",
        "group.sort()\n",
        "# display sorted dates\n",
        "for d in group:\n",
        "  print(d)"
      ],
      "metadata": {
        "colab": {
          "base_uri": "https://localhost:8080/"
        },
        "id": "9q474r_10yc9",
        "outputId": "cccfbfa3-10c4-4347-96f4-6b54cfe127dc"
      },
      "execution_count": null,
      "outputs": [
        {
          "output_type": "stream",
          "name": "stdout",
          "text": [
            "2014-03-04\n",
            "2015-05-24\n",
            "2022-02-23\n",
            "2023-04-05\n"
          ]
        }
      ]
    },
    {
      "cell_type": "code",
      "source": [
        ""
      ],
      "metadata": {
        "id": "YgPE10_83JIL"
      },
      "execution_count": null,
      "outputs": []
    },
    {
      "cell_type": "markdown",
      "source": [
        "# sleep() method:\n",
        "to delay the execution of program for a given amount of time we can use **sleep(seconds)** method of 'time' module.\n",
        "\n"
      ],
      "metadata": {
        "id": "BDvybEno3QbW"
      }
    },
    {
      "cell_type": "code",
      "source": [
        "# example\n",
        "import time\n",
        "for i in range(1,10):\n",
        "  print(i)\n",
        "  time.sleep(3)# delay the print function for 3 sec for each iteration."
      ],
      "metadata": {
        "colab": {
          "base_uri": "https://localhost:8080/"
        },
        "id": "rtVvpEEu4yyY",
        "outputId": "7da0022b-d15c-41e2-bcce-89d881749164"
      },
      "execution_count": null,
      "outputs": [
        {
          "output_type": "stream",
          "name": "stdout",
          "text": [
            "1\n",
            "2\n",
            "3\n",
            "4\n",
            "5\n",
            "6\n",
            "7\n",
            "8\n",
            "9\n"
          ]
        }
      ]
    },
    {
      "cell_type": "code",
      "source": [
        ""
      ],
      "metadata": {
        "id": "3ldciSeN5leK"
      },
      "execution_count": null,
      "outputs": []
    },
    {
      "cell_type": "markdown",
      "source": [
        "# knowing the time taken by a program(execution time)\n",
        "* perf_counter():\\\n",
        "to correctly measure the time taken by the programm.\n",
        "* process_time():\\\n",
        "to measure the time taken by the program + CPU's time in executing the program statements.\n"
      ],
      "metadata": {
        "id": "mmHfNvSH6CVW"
      }
    },
    {
      "cell_type": "code",
      "source": [
        "# find the execution time taken by the program\n",
        "from time import*\n",
        "t1=perf_counter() # note starting time\n",
        "#do some processing\n",
        "i, sum=0,0\n",
        "while(i<10000000):\n",
        "  sum+=i\n",
        "  i+=1\n",
        "#make the processor or PVM sleep for 3 seconds\n",
        "sleep(3)# this also measured by perf_counter()\n",
        "t2=perf_counter()# note ending time of counter\n",
        "\n",
        "#print execution time\n",
        "print('execution time=%f seconds'%(t2-t1))\n",
        "print(sum)\n"
      ],
      "metadata": {
        "colab": {
          "base_uri": "https://localhost:8080/"
        },
        "id": "qPrMEXOU7aK3",
        "outputId": "4f5b6e63-d02f-40f2-f1d5-8f2eb5b0e850"
      },
      "execution_count": null,
      "outputs": [
        {
          "output_type": "stream",
          "name": "stdout",
          "text": [
            "execution time=5.173002 seconds\n",
            "49999995000000\n"
          ]
        }
      ]
    },
    {
      "cell_type": "code",
      "source": [
        "# find the execution time taken by the program\n",
        "from time import*\n",
        "t1=process_time() # note starting time\n",
        "#do some processing\n",
        "i, sum=0,0\n",
        "while(i<10000000):\n",
        "  sum+=i\n",
        "  i+=1\n",
        "#make the processor or PVM sleep for 3 seconds\n",
        "sleep(3)# this also measured by perf_counter()\n",
        "t2=process_time()# note ending time of counter\n",
        "\n",
        "#print execution time\n",
        "print('execution time=%f seconds'%(t2-t1))\n",
        "print(sum)"
      ],
      "metadata": {
        "colab": {
          "base_uri": "https://localhost:8080/"
        },
        "id": "kk8QRvAg89Vj",
        "outputId": "132f61bd-5049-4916-f80b-0a40dcee670d"
      },
      "execution_count": null,
      "outputs": [
        {
          "output_type": "stream",
          "name": "stdout",
          "text": [
            "execution time=2.226569 seconds\n",
            "49999995000000\n"
          ]
        }
      ]
    },
    {
      "cell_type": "markdown",
      "source": [
        "# Calendar Module\n",
        "useful to create any month or any year, using this module we can also check whether a year is leap year or not, using **isleap()** function.\n",
        "\n"
      ],
      "metadata": {
        "id": "lq6rKm4g9OTx"
      }
    },
    {
      "cell_type": "code",
      "source": [
        "# check wether the given year is leap or not\n",
        "from calendar import*\n",
        "y=int(input('enter year:'))\n",
        "if(isleap(y)):\n",
        "  print('y, is leap year')\n",
        "else:\n",
        "  print('y, is not leap')"
      ],
      "metadata": {
        "colab": {
          "base_uri": "https://localhost:8080/"
        },
        "id": "iD6_zGKl--Yk",
        "outputId": "74d91e03-26cc-4fb4-e827-e88b0897da45"
      },
      "execution_count": null,
      "outputs": [
        {
          "output_type": "stream",
          "name": "stdout",
          "text": [
            "enter year:2000\n",
            "y, is leap year\n"
          ]
        }
      ]
    },
    {
      "cell_type": "markdown",
      "source": [
        "# month(year,month) function:"
      ],
      "metadata": {
        "id": "NzPp7UTeAU6i"
      }
    },
    {
      "cell_type": "code",
      "source": [
        "# print the calendar for the given month of year using month function\n",
        "from calendar import*\n",
        "# ask for month and year\n",
        "yy=int(input('enter year:'))\n",
        "mm=int(input('enter month:'))\n",
        "str1=month(yy,mm) # \n",
        "print(str1)"
      ],
      "metadata": {
        "colab": {
          "base_uri": "https://localhost:8080/"
        },
        "id": "R-fqdebE_l66",
        "outputId": "15a8ab72-3273-4a7f-b355-185022cba66a"
      },
      "execution_count": null,
      "outputs": [
        {
          "output_type": "stream",
          "name": "stdout",
          "text": [
            "enter year:2023\n",
            "enter month:8\n",
            "    August 2023\n",
            "Mo Tu We Th Fr Sa Su\n",
            "    1  2  3  4  5  6\n",
            " 7  8  9 10 11 12 13\n",
            "14 15 16 17 18 19 20\n",
            "21 22 23 24 25 26 27\n",
            "28 29 30 31\n",
            "\n"
          ]
        }
      ]
    },
    {
      "cell_type": "code",
      "source": [
        ""
      ],
      "metadata": {
        "id": "uoUtCZbfAdYK"
      },
      "execution_count": null,
      "outputs": []
    },
    {
      "cell_type": "markdown",
      "source": [
        "#calendar(year,w,l,c,m)\n",
        "prints the calendar of all months\n",
        "\n",
        "\n",
        "```\n",
        "w  represents the width between two columns\n",
        "l  represents the blank lines between two rows\n",
        "c  represents column wise space between two rows.\n",
        "m  represents number of months to be displayed in each row\n",
        "w,l,c,m are not optional\n",
        "```\n",
        "\n"
      ],
      "metadata": {
        "id": "Y0vdWuGZ82iw"
      }
    },
    {
      "cell_type": "code",
      "source": [
        "from calendar import*\n",
        "print(calendar(2023))"
      ],
      "metadata": {
        "colab": {
          "base_uri": "https://localhost:8080/"
        },
        "id": "F59ZmzbcBkGL",
        "outputId": "5c86d11a-8782-4a24-f366-53bb54c660c8"
      },
      "execution_count": null,
      "outputs": [
        {
          "output_type": "stream",
          "name": "stdout",
          "text": [
            "                                  2023\n",
            "\n",
            "      January                   February                   March\n",
            "Mo Tu We Th Fr Sa Su      Mo Tu We Th Fr Sa Su      Mo Tu We Th Fr Sa Su\n",
            "                   1             1  2  3  4  5             1  2  3  4  5\n",
            " 2  3  4  5  6  7  8       6  7  8  9 10 11 12       6  7  8  9 10 11 12\n",
            " 9 10 11 12 13 14 15      13 14 15 16 17 18 19      13 14 15 16 17 18 19\n",
            "16 17 18 19 20 21 22      20 21 22 23 24 25 26      20 21 22 23 24 25 26\n",
            "23 24 25 26 27 28 29      27 28                     27 28 29 30 31\n",
            "30 31\n",
            "\n",
            "       April                      May                       June\n",
            "Mo Tu We Th Fr Sa Su      Mo Tu We Th Fr Sa Su      Mo Tu We Th Fr Sa Su\n",
            "                1  2       1  2  3  4  5  6  7                1  2  3  4\n",
            " 3  4  5  6  7  8  9       8  9 10 11 12 13 14       5  6  7  8  9 10 11\n",
            "10 11 12 13 14 15 16      15 16 17 18 19 20 21      12 13 14 15 16 17 18\n",
            "17 18 19 20 21 22 23      22 23 24 25 26 27 28      19 20 21 22 23 24 25\n",
            "24 25 26 27 28 29 30      29 30 31                  26 27 28 29 30\n",
            "\n",
            "        July                     August                  September\n",
            "Mo Tu We Th Fr Sa Su      Mo Tu We Th Fr Sa Su      Mo Tu We Th Fr Sa Su\n",
            "                1  2          1  2  3  4  5  6                   1  2  3\n",
            " 3  4  5  6  7  8  9       7  8  9 10 11 12 13       4  5  6  7  8  9 10\n",
            "10 11 12 13 14 15 16      14 15 16 17 18 19 20      11 12 13 14 15 16 17\n",
            "17 18 19 20 21 22 23      21 22 23 24 25 26 27      18 19 20 21 22 23 24\n",
            "24 25 26 27 28 29 30      28 29 30 31               25 26 27 28 29 30\n",
            "31\n",
            "\n",
            "      October                   November                  December\n",
            "Mo Tu We Th Fr Sa Su      Mo Tu We Th Fr Sa Su      Mo Tu We Th Fr Sa Su\n",
            "                   1             1  2  3  4  5                   1  2  3\n",
            " 2  3  4  5  6  7  8       6  7  8  9 10 11 12       4  5  6  7  8  9 10\n",
            " 9 10 11 12 13 14 15      13 14 15 16 17 18 19      11 12 13 14 15 16 17\n",
            "16 17 18 19 20 21 22      20 21 22 23 24 25 26      18 19 20 21 22 23 24\n",
            "23 24 25 26 27 28 29      27 28 29 30               25 26 27 28 29 30 31\n",
            "30 31\n",
            "\n"
          ]
        }
      ]
    },
    {
      "cell_type": "code",
      "source": [
        "from calendar import*\n",
        "print(calendar(2024,4,5,6,8))"
      ],
      "metadata": {
        "colab": {
          "base_uri": "https://localhost:8080/"
        },
        "id": "IWvS7r7WBzcS",
        "outputId": "c31065d5-3ec9-4115-f671-dd0c6483f71a"
      },
      "execution_count": null,
      "outputs": [
        {
          "output_type": "stream",
          "name": "stdout",
          "text": [
            "                                                                                                                                                           2024\n",
            "\n",
            "\n",
            "\n",
            "\n",
            "\n",
            "\n",
            "\n",
            "\n",
            "\n",
            "             January                                 February                                 March                                   April                                    May                                     June                                    July                                   August\n",
            "\n",
            "\n",
            "\n",
            "\n",
            "Mon  Tue  Wed  Thu  Fri  Sat  Sun       Mon  Tue  Wed  Thu  Fri  Sat  Sun       Mon  Tue  Wed  Thu  Fri  Sat  Sun       Mon  Tue  Wed  Thu  Fri  Sat  Sun       Mon  Tue  Wed  Thu  Fri  Sat  Sun       Mon  Tue  Wed  Thu  Fri  Sat  Sun       Mon  Tue  Wed  Thu  Fri  Sat  Sun       Mon  Tue  Wed  Thu  Fri  Sat  Sun\n",
            "\n",
            "\n",
            "\n",
            "\n",
            "  1    2    3    4    5    6    7                        1    2    3    4                             1    2    3         1    2    3    4    5    6    7                   1    2    3    4    5                                  1    2         1    2    3    4    5    6    7                        1    2    3    4\n",
            "\n",
            "\n",
            "\n",
            "\n",
            "  8    9   10   11   12   13   14         5    6    7    8    9   10   11         4    5    6    7    8    9   10         8    9   10   11   12   13   14         6    7    8    9   10   11   12         3    4    5    6    7    8    9         8    9   10   11   12   13   14         5    6    7    8    9   10   11\n",
            "\n",
            "\n",
            "\n",
            "\n",
            " 15   16   17   18   19   20   21        12   13   14   15   16   17   18        11   12   13   14   15   16   17        15   16   17   18   19   20   21        13   14   15   16   17   18   19        10   11   12   13   14   15   16        15   16   17   18   19   20   21        12   13   14   15   16   17   18\n",
            "\n",
            "\n",
            "\n",
            "\n",
            " 22   23   24   25   26   27   28        19   20   21   22   23   24   25        18   19   20   21   22   23   24        22   23   24   25   26   27   28        20   21   22   23   24   25   26        17   18   19   20   21   22   23        22   23   24   25   26   27   28        19   20   21   22   23   24   25\n",
            "\n",
            "\n",
            "\n",
            "\n",
            " 29   30   31                            26   27   28   29                       25   26   27   28   29   30   31        29   30                                 27   28   29   30   31                  24   25   26   27   28   29   30        29   30   31                            26   27   28   29   30   31\n",
            "\n",
            "\n",
            "\n",
            "\n",
            "\n",
            "\n",
            "\n",
            "\n",
            "\n",
            "            September                                October                                 November                                December\n",
            "\n",
            "\n",
            "\n",
            "\n",
            "Mon  Tue  Wed  Thu  Fri  Sat  Sun       Mon  Tue  Wed  Thu  Fri  Sat  Sun       Mon  Tue  Wed  Thu  Fri  Sat  Sun       Mon  Tue  Wed  Thu  Fri  Sat  Sun\n",
            "\n",
            "\n",
            "\n",
            "\n",
            "                                1              1    2    3    4    5    6                             1    2    3                                       1\n",
            "\n",
            "\n",
            "\n",
            "\n",
            "  2    3    4    5    6    7    8         7    8    9   10   11   12   13         4    5    6    7    8    9   10         2    3    4    5    6    7    8\n",
            "\n",
            "\n",
            "\n",
            "\n",
            "  9   10   11   12   13   14   15        14   15   16   17   18   19   20        11   12   13   14   15   16   17         9   10   11   12   13   14   15\n",
            "\n",
            "\n",
            "\n",
            "\n",
            " 16   17   18   19   20   21   22        21   22   23   24   25   26   27        18   19   20   21   22   23   24        16   17   18   19   20   21   22\n",
            "\n",
            "\n",
            "\n",
            "\n",
            " 23   24   25   26   27   28   29        28   29   30   31                       25   26   27   28   29   30             23   24   25   26   27   28   29\n",
            "\n",
            "\n",
            "\n",
            "\n",
            " 30                                                                                                                      30   31\n",
            "\n",
            "\n",
            "\n",
            "\n",
            "\n"
          ]
        }
      ]
    },
    {
      "cell_type": "code",
      "source": [
        ""
      ],
      "metadata": {
        "id": "LQWzsAMPCDlB"
      },
      "execution_count": null,
      "outputs": []
    }
  ]
}