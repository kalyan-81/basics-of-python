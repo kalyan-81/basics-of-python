{
  "nbformat": 4,
  "nbformat_minor": 0,
  "metadata": {
    "colab": {
      "name": "basics of python overview part_1.ipynb",
      "provenance": [],
      "authorship_tag": "ABX9TyP1llDX4syQzZGcIDUACNY+",
      "include_colab_link": true
    },
    "kernelspec": {
      "name": "python3",
      "display_name": "Python 3"
    },
    "language_info": {
      "name": "python"
    }
  },
  "cells": [
    {
      "cell_type": "markdown",
      "metadata": {
        "id": "view-in-github",
        "colab_type": "text"
      },
      "source": [
        "<a href=\"https://colab.research.google.com/github/kalyan-81/basics-of-python/blob/main/basics_of_python_overview_part_1.ipynb\" target=\"_parent\"><img src=\"https://colab.research.google.com/assets/colab-badge.svg\" alt=\"Open In Colab\"/></a>"
      ]
    },
    {
      "cell_type": "code",
      "execution_count": null,
      "metadata": {
        "id": "6H9N1Pwsdtro"
      },
      "outputs": [],
      "source": [
        ""
      ]
    },
    {
      "cell_type": "markdown",
      "source": [
        "# **Python Programming Language**"
      ],
      "metadata": {
        "id": "cUZ0uiyNeA_p"
      }
    },
    {
      "cell_type": "markdown",
      "source": [
        "Python was developed by **Guido van Rossum** in the early **1990s**and its ***latest version is 3.7.1***, we can simply call it as Python3. Python 3.0 was released in 2008. and is **interpreted language** i.e it’s not compiled and the **interpreter will check the code line by line**"
      ],
      "metadata": {
        "id": "gQ6pm56JgUKa"
      }
    },
    {
      "cell_type": "markdown",
      "source": [
        "* Python is a high-level, general-purpose and a very popular programming language. \n",
        "\n",
        "* Python programming language (latest Python 3) is being used in web development, Machine Learning applications, along with all cutting edge technology in Software Industry. \n",
        "\n",
        "* Python Programming Language is very well suited for Beginners, also for experienced programmers with other programming languages like C++ and Java."
      ],
      "metadata": {
        "id": "qvWhHx4CeENU"
      }
    },
    {
      "cell_type": "markdown",
      "source": [
        "**some facts about Python Programming Language:**\n",
        "1. Python is currently the most widely used multi-purpose, high-level     programming language. \n",
        "2. Python allows programming in Object-Oriented and Procedural paradigms.\n",
        "3. Python programs generally are smaller than other programming languages like Java. \n",
        "4. Programmers have to type relatively less and indentation requirement of the language, makes them readable all the time.\n",
        "5. Python language is being used by almost all tech-giant companies like – Google, Amazon, Facebook, Instagram, Dropbox, Uber… etc.\n",
        "6. The biggest strength of Python is huge collection of standard library which can be used for the following:\n",
        "* Machine Learning\n",
        "* GUI Applications (like Kivy, Tkinter, PyQt etc. )\n",
        "* Web frameworks like Django (used by YouTube, Instagram, Dropbox)\n",
        "* Image processing (like OpenCV, Pillow)\n",
        "* Web scraping (like Scrapy, BeautifulSoup, Selenium)\n",
        "* Test frameworks\n",
        "* Multimedia\n",
        "* Scientific computing\n",
        "* Text processing and many more.."
      ],
      "metadata": {
        "id": "c7KO-KoUeWF3"
      }
    },
    {
      "cell_type": "markdown",
      "source": [
        "let’s do the most popular **‘HelloWorld’** tradition 😛 and hence compare **Python’s** **Syntax** with **C, C++, Java** ( I have taken these 3 because they are most famous and mostly used languages)."
      ],
      "metadata": {
        "id": "-rwwghoeg_NH"
      }
    },
    {
      "cell_type": "markdown",
      "source": [
        ""
      ],
      "metadata": {
        "id": "CIxpwFxFgEJf"
      }
    },
    {
      "cell_type": "code",
      "source": [
        "# Python code for \"Hello World\"\n",
        "# nothing else to type...see how simple is the syntax.\n",
        "  \n",
        "print(\"Hello World\")"
      ],
      "metadata": {
        "colab": {
          "base_uri": "https://localhost:8080/"
        },
        "id": "1RZCz-wuhVMF",
        "outputId": "c6878b64-7164-4d79-ac62-1720236ae07a"
      },
      "execution_count": 1,
      "outputs": [
        {
          "output_type": "stream",
          "name": "stdout",
          "text": [
            "Hello World\n"
          ]
        }
      ]
    },
    {
      "cell_type": "markdown",
      "source": [
        "**Note:** Please note that Python for its scope doesn’t depend on the braces ( { } ), instead it uses **indentation** for **its scope.**\n",
        "\n",
        "Now moving on further Lets start our basics of Python . I will be covering the basics in some small sections. Just go through them and trust me you’ll learn the basics of Python very easily."
      ],
      "metadata": {
        "id": "m5qYRAUwhm0U"
      }
    },
    {
      "cell_type": "markdown",
      "source": [
        "# **Variables and Data Structures**"
      ],
      "metadata": {
        "id": "6j3GJvuIh9U0"
      }
    },
    {
      "cell_type": "markdown",
      "source": [
        "In other programming languages like C, C++, and Java, you will need to declare the type of variables but in Python you don’t need to do that. \n",
        "\n",
        "Just type the variable and when values will be given to it, then **it will automatically know** whether the value given would be an **int, float, or char or even a String**."
      ],
      "metadata": {
        "id": "uuxiWGJ-iEU7"
      }
    },
    {
      "cell_type": "code",
      "source": [
        "# examples\n",
        "a=20\n",
        "b=55.98\n",
        "c=\"python\"\n",
        "print(a, type(a))\n",
        "print(b, type(b))\n",
        "print(c, type(c))"
      ],
      "metadata": {
        "colab": {
          "base_uri": "https://localhost:8080/"
        },
        "id": "SJv42m2dhwjp",
        "outputId": "350830a0-bafc-4e4d-9ff2-d6048d27b9d3"
      },
      "execution_count": 3,
      "outputs": [
        {
          "output_type": "stream",
          "name": "stdout",
          "text": [
            "20 <class 'int'>\n",
            "55.98 <class 'float'>\n",
            "python <class 'str'>\n"
          ]
        }
      ]
    },
    {
      "cell_type": "markdown",
      "source": [
        "See, how simple is it, just create a variable and assign it any value you want and then use the print function to print it"
      ],
      "metadata": {
        "id": "zbJMz8EUkCub"
      }
    },
    {
      "cell_type": "markdown",
      "source": [
        "# **Data structures**\n",
        "\n",
        "# Python have 4 types of built in Data Structures namely **List**, **Dictionary**, **Tuple** and **Set.**"
      ],
      "metadata": {
        "id": "4TEXFahKkMNf"
      }
    },
    {
      "cell_type": "markdown",
      "source": [
        "***List*** is the most basic Data Structure in python. \n",
        "* List is a mutable data structure i.e items can be added to list later after the list creation.\n",
        "\n",
        "It’s like you are going to shop at the local market and made a list of some items and later on you can add more and more items to the list\n",
        "\n",
        "* append() function is used to add data to the list."
      ],
      "metadata": {
        "id": "G4HRwr2mkhrQ"
      }
    },
    {
      "cell_type": "code",
      "source": [
        "# Python program to illustrate a list \n",
        "  \n",
        "# creates a empty list\n",
        "nums = [] \n",
        "  \n",
        "# appending data in list\n",
        "nums.append(21)\n",
        "nums.append(40.5)\n",
        "nums.append(\"python\")\n",
        "  \n",
        "print(nums)"
      ],
      "metadata": {
        "colab": {
          "base_uri": "https://localhost:8080/"
        },
        "id": "KLKzDI2tkgfz",
        "outputId": "63b0f1b4-fbc2-4373-f13f-eaad48fc101f"
      },
      "execution_count": 5,
      "outputs": [
        {
          "output_type": "stream",
          "name": "stdout",
          "text": [
            "[21, 40.5, 'python']\n"
          ]
        }
      ]
    },
    {
      "cell_type": "code",
      "source": [
        "# is used for single line comment in Python\n",
        "\"\"\" this is a comment  is used for multi line comments\"\"\"\n",
        "print(\"hello world\")"
      ],
      "metadata": {
        "colab": {
          "base_uri": "https://localhost:8080/"
        },
        "id": "cwfRA8D8lMgL",
        "outputId": "e412cb29-99f1-4e33-cc0f-695436bc2eb6"
      },
      "execution_count": 8,
      "outputs": [
        {
          "output_type": "stream",
          "name": "stdout",
          "text": [
            "hello world\n"
          ]
        }
      ]
    },
    {
      "cell_type": "markdown",
      "source": [
        "# **Input and Output**\n",
        "\n",
        "In this section, we will learn how to take input from the user and hence manipulate it or simply display it. **input()** function is used to take input from the user. **print()** function is to **output.**"
      ],
      "metadata": {
        "id": "G2PgQ88hl5LD"
      }
    },
    {
      "cell_type": "code",
      "source": [
        "# Python program to illustrate\n",
        "# getting input from user\n",
        "name = input(\"Enter your name: \") \n",
        "  \n",
        "# user entered the name 'pavan kalyan'\n",
        "print(\"hello\", name)"
      ],
      "metadata": {
        "colab": {
          "base_uri": "https://localhost:8080/"
        },
        "id": "mPyJIylEmRJt",
        "outputId": "f73e7da7-0802-46da-ec38-56f6aaac9f7c"
      },
      "execution_count": 9,
      "outputs": [
        {
          "output_type": "stream",
          "name": "stdout",
          "text": [
            "Enter your name: pavan kalyan\n",
            "hello pavan kalyan\n"
          ]
        }
      ]
    },
    {
      "cell_type": "code",
      "source": [
        "# Python3 program to get input from user\n",
        "  \n",
        "# accepting integer from the user\n",
        "# the return type of input() function is string ,\n",
        "# so we need to convert the input to integer\n",
        "num_1 = int(input(\"Enter num1: \"))\n",
        "num_2 = int(input(\"Enter num2: \"))\n",
        "  \n",
        "num_3 = num_1 * num_2\n",
        "print(\"Product is: \", num_5)"
      ],
      "metadata": {
        "colab": {
          "base_uri": "https://localhost:8080/"
        },
        "id": "sgmRtboVmu0d",
        "outputId": "8f4046d7-341a-450f-9e8e-da63862339ff"
      },
      "execution_count": 11,
      "outputs": [
        {
          "output_type": "stream",
          "name": "stdout",
          "text": [
            "Enter num1: 3\n",
            "Enter num2: 5\n",
            "Product is:  15\n"
          ]
        }
      ]
    },
    {
      "cell_type": "markdown",
      "source": [
        "# **Selection**\n",
        "# Selection in Python is made using the two keywords **‘if’** and **‘elif’** and else (elseif)"
      ],
      "metadata": {
        "id": "41AuHggam_JV"
      }
    },
    {
      "cell_type": "code",
      "source": [
        "# Python program to illustrate\n",
        "# selection statement\n",
        "  \n",
        "num1 = 34\n",
        "if(num1>12):\n",
        "    print(\"Num1 is greater than 12\")\n",
        "elif(num1>35):\n",
        "    print(\"Num is greater than 35\")\n",
        "else:\n",
        "    print(\"Num1 is less than 12 \")"
      ],
      "metadata": {
        "colab": {
          "base_uri": "https://localhost:8080/"
        },
        "id": "5CApJM5gnRK8",
        "outputId": "9183a4ae-684f-4f74-909e-3e3d4c3ba2fe"
      },
      "execution_count": 14,
      "outputs": [
        {
          "output_type": "stream",
          "name": "stdout",
          "text": [
            "Num1 is greater than 12\n"
          ]
        }
      ]
    },
    {
      "cell_type": "markdown",
      "source": [
        "# **Functions**\n",
        "You can think of functions like **a bunch of code** that is intended to do a particular task in the whole Python script. Python used the keyword **‘def’** to define a function.\n",
        "\n",
        "**syntax:**\n",
        "\n",
        "**def** function-name(**arguments**):\n",
        "            #function body"
      ],
      "metadata": {
        "id": "xAS6xA2VoREW"
      }
    },
    {
      "cell_type": "code",
      "source": [
        "# Python program to illustrate\n",
        "# functions\n",
        "def hello():\n",
        "    print(\"hello\")\n",
        "    print(\"hello again\")\n",
        "hello()\n",
        "  \n",
        "# calling function\n",
        "hello()   "
      ],
      "metadata": {
        "colab": {
          "base_uri": "https://localhost:8080/"
        },
        "id": "SrO2b-h8nhzr",
        "outputId": "b6d5e57e-23e1-4090-b09e-235de75c3447"
      },
      "execution_count": 15,
      "outputs": [
        {
          "output_type": "stream",
          "name": "stdout",
          "text": [
            "hello\n",
            "hello again\n",
            "hello\n",
            "hello again\n"
          ]
        }
      ]
    },
    {
      "cell_type": "markdown",
      "source": [
        "# **Iteration (Looping)**\n",
        "\n",
        "As the name suggests it calls repeating things again and again. We will use the most popular **‘for’** loop here."
      ],
      "metadata": {
        "id": "cHoOp_J6pxXW"
      }
    },
    {
      "cell_type": "code",
      "source": [
        "# Python program to illustrate\n",
        "# a simple for loop\n",
        "  \n",
        "for step in range(5):    \n",
        "    print(step)"
      ],
      "metadata": {
        "colab": {
          "base_uri": "https://localhost:8080/"
        },
        "id": "CPYnnhflqC1R",
        "outputId": "f41c7bc3-0961-4dd9-f68f-681def7b3193"
      },
      "execution_count": 16,
      "outputs": [
        {
          "output_type": "stream",
          "name": "stdout",
          "text": [
            "0\n",
            "1\n",
            "2\n",
            "3\n",
            "4\n"
          ]
        }
      ]
    },
    {
      "cell_type": "markdown",
      "source": [
        "# **Modules**\n",
        "\n",
        "Python has a very rich module library that has several functions to do many tasks. You can read more about Python’s standard library by using\n",
        "‘**import**’ keyword is used to import a particular module into your python code."
      ],
      "metadata": {
        "id": "5UqCXI7CqRd2"
      }
    },
    {
      "cell_type": "code",
      "source": [
        "#example\n",
        "import math\n",
        "a=9\n",
        "print(math.sqrt(a))"
      ],
      "metadata": {
        "colab": {
          "base_uri": "https://localhost:8080/"
        },
        "id": "WHSahEGUqN6q",
        "outputId": "298cef9e-39b1-4b1d-f8ab-a49e20aec816"
      },
      "execution_count": 18,
      "outputs": [
        {
          "output_type": "stream",
          "name": "stdout",
          "text": [
            "3.0\n"
          ]
        }
      ]
    }
  ]
}