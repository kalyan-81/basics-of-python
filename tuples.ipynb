{
  "nbformat": 4,
  "nbformat_minor": 0,
  "metadata": {
    "colab": {
      "name": "tuples.ipynb",
      "provenance": [],
      "collapsed_sections": [],
      "authorship_tag": "ABX9TyPOKxfrpNXlj0I2/wwkY7DL",
      "include_colab_link": true
    },
    "kernelspec": {
      "name": "python3",
      "display_name": "Python 3"
    },
    "language_info": {
      "name": "python"
    }
  },
  "cells": [
    {
      "cell_type": "markdown",
      "metadata": {
        "id": "view-in-github",
        "colab_type": "text"
      },
      "source": [
        "<a href=\"https://colab.research.google.com/github/kalyan-81/basics-of-python/blob/main/tuples.ipynb\" target=\"_parent\"><img src=\"https://colab.research.google.com/assets/colab-badge.svg\" alt=\"Open In Colab\"/></a>"
      ]
    },
    {
      "cell_type": "markdown",
      "source": [
        "# Lecture 11: Tuples\n",
        "Similar to list but immutable.\\\n",
        "Sequence data type.\\\n",
        "Supports indexing and slicing."
      ],
      "metadata": {
        "id": "4h0_L22FzsM9"
      }
    },
    {
      "cell_type": "code",
      "execution_count": null,
      "metadata": {
        "id": "gfbfXo2bzRzV",
        "colab": {
          "base_uri": "https://localhost:8080/"
        },
        "outputId": "1c38e6d9-7d6a-4289-ce8b-5d270fcfe2a7"
      },
      "outputs": [
        {
          "output_type": "stream",
          "name": "stdout",
          "text": [
            "<class 'tuple'>\n",
            "()\n"
          ]
        }
      ],
      "source": [
        "#initialization\n",
        "\n",
        "t = ()\n",
        "\n",
        "print(type(t))\n",
        "\n",
        "print(t)"
      ]
    },
    {
      "cell_type": "code",
      "source": [
        "t = tuple()\n",
        "\n",
        "print(type(t))\n",
        "print(t)"
      ],
      "metadata": {
        "id": "UnNKA2uGz94K",
        "colab": {
          "base_uri": "https://localhost:8080/"
        },
        "outputId": "2170127e-3388-4c41-fb88-530fb2dc0ca2"
      },
      "execution_count": null,
      "outputs": [
        {
          "output_type": "stream",
          "name": "stdout",
          "text": [
            "<class 'tuple'>\n",
            "()\n"
          ]
        }
      ]
    },
    {
      "cell_type": "code",
      "source": [
        "t = (1,2,3)\n",
        "\n",
        "print(t)"
      ],
      "metadata": {
        "id": "koM2_c8k0CIc",
        "colab": {
          "base_uri": "https://localhost:8080/"
        },
        "outputId": "b8d681f5-2a05-406b-966e-a18fd68cb44c"
      },
      "execution_count": null,
      "outputs": [
        {
          "output_type": "stream",
          "name": "stdout",
          "text": [
            "(1, 2, 3)\n"
          ]
        }
      ]
    },
    {
      "cell_type": "code",
      "source": [
        "t = (1, 'Python', 1.2, 'ThatAIGuy')\n",
        "\n",
        "print(t)"
      ],
      "metadata": {
        "id": "okBZDdcz0E95",
        "colab": {
          "base_uri": "https://localhost:8080/"
        },
        "outputId": "8533c5be-4432-4dd4-d90f-85ebfe0f30ac"
      },
      "execution_count": null,
      "outputs": [
        {
          "output_type": "stream",
          "name": "stdout",
          "text": [
            "(1, 'Python', 1.2, 'ThatAIGuy')\n"
          ]
        }
      ]
    },
    {
      "cell_type": "code",
      "source": [
        "t = (1, (1, 2, 3), [1, 2, 3])\n",
        "\n",
        "print(t)"
      ],
      "metadata": {
        "id": "mRI0-3oc0Hai",
        "colab": {
          "base_uri": "https://localhost:8080/"
        },
        "outputId": "f574a091-0560-4012-b211-27cff93ccb5e"
      },
      "execution_count": null,
      "outputs": [
        {
          "output_type": "stream",
          "name": "stdout",
          "text": [
            "(1, (1, 2, 3), [1, 2, 3])\n"
          ]
        }
      ]
    },
    {
      "cell_type": "code",
      "source": [
        "t1 = (1)\n",
        "\n",
        "print(type(t1))\n",
        "\n",
        "t2 = ('ThatAIGuy')\n",
        "\n",
        "print(type(t2))"
      ],
      "metadata": {
        "colab": {
          "base_uri": "https://localhost:8080/"
        },
        "id": "G87t2EXz0KXC",
        "outputId": "8e109c87-c6b2-410a-d8d7-dc1af18224b1"
      },
      "execution_count": null,
      "outputs": [
        {
          "output_type": "stream",
          "name": "stdout",
          "text": [
            "<class 'int'>\n",
            "<class 'str'>\n"
          ]
        }
      ]
    },
    {
      "cell_type": "code",
      "source": [
        "t = 1,2\n",
        "\n",
        "print(type(t))\n",
        "print(t)\n",
        "t = 'ThatAIGuy',2\n",
        "print(t)\n",
        "\n",
        "print(type(t))"
      ],
      "metadata": {
        "colab": {
          "base_uri": "https://localhost:8080/"
        },
        "id": "A8-6jbJC0QmH",
        "outputId": "e36cce35-652d-4e9e-e1a1-25df66860a4e"
      },
      "execution_count": null,
      "outputs": [
        {
          "output_type": "stream",
          "name": "stdout",
          "text": [
            "<class 'tuple'>\n",
            "(1, 2)\n",
            "('ThatAIGuy', 2)\n",
            "<class 'tuple'>\n"
          ]
        }
      ]
    },
    {
      "cell_type": "code",
      "source": [
        "# Accessing with index\n",
        "\n",
        "t = (1, 2, 3)\n",
        "\n",
        "print(t[-1])\n",
        "\n",
        "# Slicing\n",
        "\n",
        "print(t[1:30])"
      ],
      "metadata": {
        "colab": {
          "base_uri": "https://localhost:8080/"
        },
        "id": "6ihBBoxp0UrM",
        "outputId": "e37d3ad9-b93e-444b-88f6-094cb188133c"
      },
      "execution_count": null,
      "outputs": [
        {
          "output_type": "stream",
          "name": "stdout",
          "text": [
            "3\n",
            "(2, 3)\n"
          ]
        }
      ]
    },
    {
      "cell_type": "code",
      "source": [
        "# # # Tuples are Immutable\n",
        "\n",
        "t = (1, 2, 3, (4, 5), [6, 7, 8])\n",
        "\n",
        "t[2] = 'Hi'"
      ],
      "metadata": {
        "colab": {
          "base_uri": "https://localhost:8080/",
          "height": 200
        },
        "id": "4cpEHE-S0VlH",
        "outputId": "97088da4-88c3-488b-b8c8-fdd7a46e34bc"
      },
      "execution_count": null,
      "outputs": [
        {
          "output_type": "error",
          "ename": "TypeError",
          "evalue": "ignored",
          "traceback": [
            "\u001b[0;31m---------------------------------------------------------------------------\u001b[0m",
            "\u001b[0;31mTypeError\u001b[0m                                 Traceback (most recent call last)",
            "\u001b[0;32m<ipython-input-6-310f2d015465>\u001b[0m in \u001b[0;36m<module>\u001b[0;34m()\u001b[0m\n\u001b[1;32m      3\u001b[0m \u001b[0mt\u001b[0m \u001b[0;34m=\u001b[0m \u001b[0;34m(\u001b[0m\u001b[0;36m1\u001b[0m\u001b[0;34m,\u001b[0m \u001b[0;36m2\u001b[0m\u001b[0;34m,\u001b[0m \u001b[0;36m3\u001b[0m\u001b[0;34m,\u001b[0m \u001b[0;34m(\u001b[0m\u001b[0;36m4\u001b[0m\u001b[0;34m,\u001b[0m \u001b[0;36m5\u001b[0m\u001b[0;34m)\u001b[0m\u001b[0;34m,\u001b[0m \u001b[0;34m[\u001b[0m\u001b[0;36m6\u001b[0m\u001b[0;34m,\u001b[0m \u001b[0;36m7\u001b[0m\u001b[0;34m,\u001b[0m \u001b[0;36m8\u001b[0m\u001b[0;34m]\u001b[0m\u001b[0;34m)\u001b[0m\u001b[0;34m\u001b[0m\u001b[0;34m\u001b[0m\u001b[0m\n\u001b[1;32m      4\u001b[0m \u001b[0;34m\u001b[0m\u001b[0m\n\u001b[0;32m----> 5\u001b[0;31m \u001b[0mt\u001b[0m\u001b[0;34m[\u001b[0m\u001b[0;36m2\u001b[0m\u001b[0;34m]\u001b[0m \u001b[0;34m=\u001b[0m \u001b[0;34m'Hi'\u001b[0m\u001b[0;34m\u001b[0m\u001b[0;34m\u001b[0m\u001b[0m\n\u001b[0m",
            "\u001b[0;31mTypeError\u001b[0m: 'tuple' object does not support item assignment"
          ]
        }
      ]
    },
    {
      "cell_type": "code",
      "source": [
        "t = (1, 2, 3, 4, 5, 6, 7, 1, 2, 1, 7)\n",
        "\n",
        "# # count(element)\n",
        "print(t.count(1))\n",
        "\n",
        "# # index(element)\n",
        "print(t.index(7))\n",
        "\n",
        "# # len()\n",
        "print(len(t))\n",
        "\n",
        "# # min()\n",
        "print(min(t))\n",
        "\n",
        "# # max()\n",
        "print(max(t))\n",
        "\n",
        "# # sum()\n",
        "print(sum(t))"
      ],
      "metadata": {
        "colab": {
          "base_uri": "https://localhost:8080/"
        },
        "id": "OpCIaMWj0ZGa",
        "outputId": "46dd12e6-9902-487d-9654-afdb94f18109"
      },
      "execution_count": null,
      "outputs": [
        {
          "output_type": "stream",
          "name": "stdout",
          "text": [
            "3\n",
            "6\n",
            "11\n",
            "1\n",
            "7\n",
            "39\n"
          ]
        }
      ]
    },
    {
      "cell_type": "code",
      "source": [
        "# # del the tuple\n",
        "del t\n",
        "\n",
        "print(t)"
      ],
      "metadata": {
        "colab": {
          "base_uri": "https://localhost:8080/",
          "height": 200
        },
        "id": "VoMYIkUT0cmY",
        "outputId": "b86551e9-f38f-4669-dad8-1ac93da09949"
      },
      "execution_count": null,
      "outputs": [
        {
          "output_type": "error",
          "ename": "NameError",
          "evalue": "ignored",
          "traceback": [
            "\u001b[0;31m---------------------------------------------------------------------------\u001b[0m",
            "\u001b[0;31mNameError\u001b[0m                                 Traceback (most recent call last)",
            "\u001b[0;32m<ipython-input-13-c30efc94e630>\u001b[0m in \u001b[0;36m<module>\u001b[0;34m()\u001b[0m\n\u001b[1;32m      2\u001b[0m \u001b[0;32mdel\u001b[0m \u001b[0mt\u001b[0m\u001b[0;34m\u001b[0m\u001b[0;34m\u001b[0m\u001b[0m\n\u001b[1;32m      3\u001b[0m \u001b[0;34m\u001b[0m\u001b[0m\n\u001b[0;32m----> 4\u001b[0;31m \u001b[0mprint\u001b[0m\u001b[0;34m(\u001b[0m\u001b[0mt\u001b[0m\u001b[0;34m)\u001b[0m\u001b[0;34m\u001b[0m\u001b[0;34m\u001b[0m\u001b[0m\n\u001b[0m",
            "\u001b[0;31mNameError\u001b[0m: name 't' is not defined"
          ]
        }
      ]
    },
    {
      "cell_type": "code",
      "source": [
        "t1=(1,2,3)\n",
        "t2=(3,2,4)\n",
        "print(t1+t2)\n",
        "print(t2)"
      ],
      "metadata": {
        "colab": {
          "base_uri": "https://localhost:8080/"
        },
        "id": "cPCHuTAcW8Fz",
        "outputId": "f2d49e28-0b07-4906-ac56-a87aecb30168"
      },
      "execution_count": null,
      "outputs": [
        {
          "output_type": "stream",
          "name": "stdout",
          "text": [
            "(1, 2, 3, 3, 2, 4)\n",
            "(3, 2, 4)\n"
          ]
        }
      ]
    }
  ]
}