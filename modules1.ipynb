{
  "cells": [
    {
      "cell_type": "markdown",
      "metadata": {
        "id": "view-in-github",
        "colab_type": "text"
      },
      "source": [
        "<a href=\"https://colab.research.google.com/github/kalyan-81/basics-of-python/blob/main/modules1.ipynb\" target=\"_parent\"><img src=\"https://colab.research.google.com/assets/colab-badge.svg\" alt=\"Open In Colab\"/></a>"
      ]
    },
    {
      "cell_type": "markdown",
      "metadata": {
        "id": "xC6xNkONg-K5"
      },
      "source": [
        "## lecture 14: Some Common Modules in Python.\n",
        "**What are python modules?.**\n",
        "\n",
        "* Modules are simply files with the **“.py”** extension containing Python code.\n",
        "* a file that contains a set of functions that you want to include in your application.\n",
        "\n",
        "\n",
        "\n",
        "\n"
      ]
    },
    {
      "cell_type": "markdown",
      "source": [
        "Let’s try to gain more understanding of the concept with the help of an example:"
      ],
      "metadata": {
        "id": "vK79wTgMoJ3l"
      }
    },
    {
      "cell_type": "code",
      "source": [
        "#calculator.py\n",
        "def add():\n",
        "  #statements\n",
        "def sub():\n",
        "  #statements\n",
        "def mul():\n",
        "  #statements\n",
        "def div():\n",
        "  #statements\n",
        "def power():\n",
        "  #statements"
      ],
      "metadata": {
        "id": "L_91DcszoPmy"
      },
      "execution_count": null,
      "outputs": []
    },
    {
      "cell_type": "markdown",
      "metadata": {
        "id": "t61NO2sPg-K-"
      },
      "source": [
        "### The os and sys modules provide numerous tools to deal with filenames, paths, directories. The os module contains two sub-modules os.sys (same as sys) and os.path that are dedicated to the system and directories.\n",
        "\n",
        "### We can also use the functions provided by these modules for file, directory, and path manipulations. These modules are wrappers for platform-specific modules, so functions like `os.path.split` work on UNIX, Windows, Mac OS, and any other platform supported by Python.\n"
      ]
    },
    {
      "cell_type": "markdown",
      "metadata": {
        "id": "NBKRLCx0g-K_"
      },
      "source": [
        "### Os Module & Platform\n",
        "\n",
        "The OS module in Python provides functions for interacting with the operating system.\n",
        "\n",
        "The Platform module is used to retrieve as much possible information about the platform on which the program is being currently executed. Now by platform info, it means information about the device, it’s OS, node, OS version, Python version, etc."
      ]
    },
    {
      "cell_type": "code",
      "execution_count": null,
      "metadata": {
        "ExecuteTime": {
          "end_time": "2018-08-31T02:47:50.317538Z",
          "start_time": "2018-08-31T02:47:50.312539Z"
        },
        "colab": {
          "base_uri": "https://localhost:8080/"
        },
        "id": "9eHXZQMXg-K_",
        "outputId": "25c9a6f7-b90c-4f50-f48f-301caea58c33"
      },
      "outputs": [
        {
          "output_type": "stream",
          "name": "stdout",
          "text": [
            "posix\n"
          ]
        }
      ],
      "source": [
        " # Importing the operating system module...\n",
        " \"\"\"\n",
        "The listdir() function returns the content of a directory. Note, however,\n",
        " that it mixes directories and files.\n",
        "\"\"\"\n",
        "import os\n",
        "\n",
        "print(os.name)\n"
      ]
    },
    {
      "cell_type": "code",
      "source": [
        "print(\"The os.getcwd() returns the CWD Current Working Directory.\\n \",os.getcwd())   # Returns the Current Working Directory.\n",
        "# print()\n"
      ],
      "metadata": {
        "colab": {
          "base_uri": "https://localhost:8080/"
        },
        "id": "dQMvrE-dt-uT",
        "outputId": "70f4f6f6-47a7-4599-f420-79e0c12c274f"
      },
      "execution_count": null,
      "outputs": [
        {
          "output_type": "stream",
          "name": "stdout",
          "text": [
            "The os.getcwd() returns the CWD Current Working Directory.\n",
            "  /content\n"
          ]
        }
      ]
    },
    {
      "cell_type": "code",
      "source": [
        "# # printing absolute path\n",
        "import os.path\n",
        "print(\"The os.path.abspath('.') returns the Absolute path of the CWD.\\n \",os.path.abspath('.'))\n",
        "print('.'*8)\n",
        "print(\"The os.listdir('.') returns the list of All the directories \\\n",
        "present in current directory/Folder \\n \",os.listdir('.'))\n",
        "print('.'*8)\n",
        "print(os.environ)\n",
        "\n",
        "# print()\n"
      ],
      "metadata": {
        "colab": {
          "base_uri": "https://localhost:8080/"
        },
        "id": "uoAyR6ZXuKDx",
        "outputId": "b7221ace-e7b2-44f4-8531-307b86c311f9"
      },
      "execution_count": null,
      "outputs": [
        {
          "output_type": "stream",
          "name": "stdout",
          "text": [
            "The os.path.abspath('.') returns the Absolute path of the CWD.\n",
            "  /content\n",
            "........\n",
            "The os.listdir('.') returns the list of All the directories present in current directory/Folder \n",
            "  ['.config', 'sample_data']\n",
            "........\n",
            "environ({'NO_GCE_CHECK': 'True', 'GCS_READ_CACHE_BLOCK_SIZE_MB': '16', 'CLOUDSDK_CONFIG': '/content/.config', 'CUDA_VERSION': '11.1.1', 'PATH': '/usr/local/nvidia/bin:/usr/local/cuda/bin:/usr/local/sbin:/usr/local/bin:/usr/sbin:/usr/bin:/sbin:/bin:/tools/node/bin:/tools/google-cloud-sdk/bin:/opt/bin', 'HOME': '/root', 'LD_LIBRARY_PATH': '/usr/local/nvidia/lib:/usr/local/nvidia/lib64', 'LANG': 'en_US.UTF-8', 'SHELL': '/bin/bash', 'LIBRARY_PATH': '/usr/local/cuda/lib64/stubs', 'SHLVL': '0', 'GCE_METADATA_TIMEOUT': '0', 'NCCL_VERSION': '2.7.8', 'NVIDIA_VISIBLE_DEVICES': 'all', 'DEBIAN_FRONTEND': 'noninteractive', 'CUDNN_VERSION': '8.0.5.39', 'LAST_FORCED_REBUILD': '20220106', 'JPY_PARENT_PID': '45', 'PYTHONPATH': '/env/python', 'DATALAB_SETTINGS_OVERRIDES': '{\"kernelManagerProxyPort\":6000,\"kernelManagerProxyHost\":\"172.28.0.3\",\"jupyterArgs\":[\"--ip=\\\\\"172.28.0.2\\\\\"\"],\"debugAdapterMultiplexerPath\":\"/usr/local/bin/dap_multiplexer\",\"enableLsp\":true}', 'ENV': '/root/.bashrc', 'GLIBCXX_FORCE_NEW': '1', 'NVIDIA_DRIVER_CAPABILITIES': 'compute,utility', 'TF_FORCE_GPU_ALLOW_GROWTH': 'true', 'LD_PRELOAD': '/usr/lib/x86_64-linux-gnu/libtcmalloc.so.4', 'PYTHONWARNINGS': 'ignore:::pip._internal.cli.base_command', 'NVIDIA_REQUIRE_CUDA': 'cuda>=11.1 brand=tesla,driver>=418,driver<419 brand=tesla,driver>=440,driver<441 brand=tesla,driver>=450,driver<451', 'OLDPWD': '/', 'HOSTNAME': '73e0429a0470', 'COLAB_GPU': '0', 'PWD': '/', 'CLOUDSDK_PYTHON': 'python3', 'GLIBCPP_FORCE_NEW': '1', 'TBE_EPHEM_CREDS_ADDR': '172.28.0.1:8009', 'TBE_CREDS_ADDR': '172.28.0.1:8008', 'TERM': 'xterm-color', 'CLICOLOR': '1', 'PAGER': 'cat', 'GIT_PAGER': 'cat', 'MPLBACKEND': 'module://ipykernel.pylab.backend_inline', 'ENABLE_DIRECTORYPREFETCHER': '1', 'USE_EPHEM': '1', 'PYDEVD_USE_FRAME_EVAL': 'NO'})\n"
          ]
        }
      ]
    },
    {
      "cell_type": "code",
      "source": [
        "# # Importing the platform  module...\n",
        "import platform\n",
        "print(platform.version())\n",
        "print('*'*8)\n",
        "print(platform.system())\n",
        "print('*'*8)\n",
        "print(platform.release())\n",
        "print('*'*8)\n",
        "print(platform.win32_ver())\n",
        "print('*'*8)\n",
        "print(platform.platform())"
      ],
      "metadata": {
        "colab": {
          "base_uri": "https://localhost:8080/"
        },
        "id": "QLHMpYVduQgU",
        "outputId": "e205cc56-6be7-4e33-c76c-481e11a31ee3"
      },
      "execution_count": null,
      "outputs": [
        {
          "output_type": "stream",
          "name": "stdout",
          "text": [
            "#1 SMP Tue Dec 7 09:58:10 PST 2021\n",
            "********\n",
            "Linux\n",
            "********\n",
            "5.4.144+\n",
            "********\n",
            "('', '', '', '')\n",
            "********\n",
            "Linux-5.4.144+-x86_64-with-Ubuntu-18.04-bionic\n"
          ]
        }
      ]
    },
    {
      "cell_type": "markdown",
      "metadata": {
        "id": "QMUWVP0qg-LC"
      },
      "source": [
        "### Accessing environment variables\n"
      ]
    },
    {
      "cell_type": "code",
      "execution_count": null,
      "metadata": {
        "ExecuteTime": {
          "end_time": "2018-08-30T17:52:00.814861Z",
          "start_time": "2018-08-30T17:52:00.811881Z"
        },
        "colab": {
          "base_uri": "https://localhost:8080/"
        },
        "id": "NoBNhO_Pg-LC",
        "outputId": "8c9fd9c7-30c7-4175-8a4b-04d49ef345da"
      },
      "outputs": [
        {
          "output_type": "stream",
          "name": "stdout",
          "text": [
            "KeysView(environ({'NO_GCE_CHECK': 'True', 'GCS_READ_CACHE_BLOCK_SIZE_MB': '16', 'CLOUDSDK_CONFIG': '/content/.config', 'CUDA_VERSION': '11.1.1', 'PATH': '/usr/local/nvidia/bin:/usr/local/cuda/bin:/usr/local/sbin:/usr/local/bin:/usr/sbin:/usr/bin:/sbin:/bin:/tools/node/bin:/tools/google-cloud-sdk/bin:/opt/bin', 'HOME': '/root', 'LD_LIBRARY_PATH': '/usr/local/nvidia/lib:/usr/local/nvidia/lib64', 'LANG': 'en_US.UTF-8', 'SHELL': '/bin/bash', 'LIBRARY_PATH': '/usr/local/cuda/lib64/stubs', 'SHLVL': '0', 'GCE_METADATA_TIMEOUT': '0', 'NCCL_VERSION': '2.7.8', 'NVIDIA_VISIBLE_DEVICES': 'all', 'DEBIAN_FRONTEND': 'noninteractive', 'CUDNN_VERSION': '8.0.5.39', 'LAST_FORCED_REBUILD': '20220106', 'JPY_PARENT_PID': '45', 'PYTHONPATH': '/env/python', 'DATALAB_SETTINGS_OVERRIDES': '{\"kernelManagerProxyPort\":6000,\"kernelManagerProxyHost\":\"172.28.0.3\",\"jupyterArgs\":[\"--ip=\\\\\"172.28.0.2\\\\\"\"],\"debugAdapterMultiplexerPath\":\"/usr/local/bin/dap_multiplexer\",\"enableLsp\":true}', 'ENV': '/root/.bashrc', 'GLIBCXX_FORCE_NEW': '1', 'NVIDIA_DRIVER_CAPABILITIES': 'compute,utility', 'TF_FORCE_GPU_ALLOW_GROWTH': 'true', 'LD_PRELOAD': '/usr/lib/x86_64-linux-gnu/libtcmalloc.so.4', 'PYTHONWARNINGS': 'ignore:::pip._internal.cli.base_command', 'NVIDIA_REQUIRE_CUDA': 'cuda>=11.1 brand=tesla,driver>=418,driver<419 brand=tesla,driver>=440,driver<441 brand=tesla,driver>=450,driver<451', 'OLDPWD': '/', 'HOSTNAME': '73e0429a0470', 'COLAB_GPU': '0', 'PWD': 'VALUE', 'CLOUDSDK_PYTHON': 'python3', 'GLIBCPP_FORCE_NEW': '1', 'TBE_EPHEM_CREDS_ADDR': '172.28.0.1:8009', 'TBE_CREDS_ADDR': '172.28.0.1:8008', 'TERM': 'xterm-color', 'CLICOLOR': '1', 'PAGER': 'cat', 'GIT_PAGER': 'cat', 'MPLBACKEND': 'module://ipykernel.pylab.backend_inline', 'ENABLE_DIRECTORYPREFETCHER': '1', 'USE_EPHEM': '1', 'PYDEVD_USE_FRAME_EVAL': 'NO', 'NAME': 'KALYAN'}))\n"
          ]
        }
      ],
      "source": [
        "\"\"\"\n",
        "if you know what you are doing, you can add or replace a variable:\n",
        "\"\"\"\n",
        "import os\n",
        "print(os.environ.keys())\n",
        "\n",
        "\n",
        "#os.environ['NAME'] = 'KALYAN'\n",
        "#print(os.environ.keys())"
      ]
    },
    {
      "cell_type": "code",
      "execution_count": null,
      "metadata": {
        "colab": {
          "base_uri": "https://localhost:8080/",
          "height": 374
        },
        "id": "kKN155QVg-LD",
        "outputId": "abaca2f3-e0e4-40fe-e4d3-0ea511e275fd"
      },
      "outputs": [
        {
          "output_type": "stream",
          "name": "stdout",
          "text": [
            "True\n",
            "False\n",
            "True\n"
          ]
        },
        {
          "output_type": "error",
          "ename": "FileNotFoundError",
          "evalue": "ignored",
          "traceback": [
            "\u001b[0;31m---------------------------------------------------------------------------\u001b[0m",
            "\u001b[0;31mFileNotFoundError\u001b[0m                         Traceback (most recent call last)",
            "\u001b[0;32m<ipython-input-33-549858443e04>\u001b[0m in \u001b[0;36m<module>\u001b[0;34m()\u001b[0m\n\u001b[1;32m     14\u001b[0m \u001b[0mprint\u001b[0m\u001b[0;34m(\u001b[0m\u001b[0mos\u001b[0m\u001b[0;34m.\u001b[0m\u001b[0mpath\u001b[0m\u001b[0;34m.\u001b[0m\u001b[0misfile\u001b[0m\u001b[0;34m(\u001b[0m\u001b[0;34m\"common_modules.py\"\u001b[0m\u001b[0;34m)\u001b[0m\u001b[0;34m)\u001b[0m\u001b[0;34m\u001b[0m\u001b[0;34m\u001b[0m\u001b[0m\n\u001b[1;32m     15\u001b[0m \u001b[0mprint\u001b[0m\u001b[0;34m(\u001b[0m\u001b[0mos\u001b[0m\u001b[0;34m.\u001b[0m\u001b[0mpath\u001b[0m\u001b[0;34m.\u001b[0m\u001b[0mexists\u001b[0m\u001b[0;34m(\u001b[0m\u001b[0mos\u001b[0m\u001b[0;34m.\u001b[0m\u001b[0mgetcwd\u001b[0m\u001b[0;34m(\u001b[0m\u001b[0;34m)\u001b[0m\u001b[0;34m)\u001b[0m\u001b[0;34m)\u001b[0m\u001b[0;34m\u001b[0m\u001b[0;34m\u001b[0m\u001b[0m\n\u001b[0;32m---> 16\u001b[0;31m \u001b[0mprint\u001b[0m\u001b[0;34m(\u001b[0m\u001b[0mos\u001b[0m\u001b[0;34m.\u001b[0m\u001b[0mpath\u001b[0m\u001b[0;34m.\u001b[0m\u001b[0mgetsize\u001b[0m\u001b[0;34m(\u001b[0m\u001b[0;34m\"modules.ipynb\"\u001b[0m\u001b[0;34m)\u001b[0m\u001b[0;34m)\u001b[0m\u001b[0;34m\u001b[0m\u001b[0;34m\u001b[0m\u001b[0m\n\u001b[0m",
            "\u001b[0;32m/usr/lib/python3.7/genericpath.py\u001b[0m in \u001b[0;36mgetsize\u001b[0;34m(filename)\u001b[0m\n\u001b[1;32m     48\u001b[0m \u001b[0;32mdef\u001b[0m \u001b[0mgetsize\u001b[0m\u001b[0;34m(\u001b[0m\u001b[0mfilename\u001b[0m\u001b[0;34m)\u001b[0m\u001b[0;34m:\u001b[0m\u001b[0;34m\u001b[0m\u001b[0;34m\u001b[0m\u001b[0m\n\u001b[1;32m     49\u001b[0m     \u001b[0;34m\"\"\"Return the size of a file, reported by os.stat().\"\"\"\u001b[0m\u001b[0;34m\u001b[0m\u001b[0;34m\u001b[0m\u001b[0m\n\u001b[0;32m---> 50\u001b[0;31m     \u001b[0;32mreturn\u001b[0m \u001b[0mos\u001b[0m\u001b[0;34m.\u001b[0m\u001b[0mstat\u001b[0m\u001b[0;34m(\u001b[0m\u001b[0mfilename\u001b[0m\u001b[0;34m)\u001b[0m\u001b[0;34m.\u001b[0m\u001b[0mst_size\u001b[0m\u001b[0;34m\u001b[0m\u001b[0;34m\u001b[0m\u001b[0m\n\u001b[0m\u001b[1;32m     51\u001b[0m \u001b[0;34m\u001b[0m\u001b[0m\n\u001b[1;32m     52\u001b[0m \u001b[0;34m\u001b[0m\u001b[0m\n",
            "\u001b[0;31mFileNotFoundError\u001b[0m: [Errno 2] No such file or directory: 'modules.ipynb'"
          ]
        }
      ],
      "source": [
        "\"\"\"\n",
        "os.path provides methods to extract information about path and file names:\n",
        ">>> os.path.curdir # returns the current directory ('.')\n",
        ">>> os.path.isdir(dir) # returns True if dir exists\n",
        ">>> os.path.isfile(file) # returns True if file exists\n",
        ">>> os.path.islink(link) # returns True if link exists\n",
        ">>> os.path.exists(dir) # returns True if dir exists (full pathname or filename)\n",
        ">>> os.path.getsize(filename) # returns size of a file without opening it.\n",
        "\"\"\"\n",
        "\n",
        "import os\n",
        "import os.path\n",
        "print(os.path.isdir(os.getcwd()))\n",
        "print(os.path.isfile(\"common_modules.py\"))\n",
        "print(os.path.exists(os.getcwd()))\n",
        "print(os.path.getsize(\"modules.ipynb\"))\n"
      ]
    },
    {
      "cell_type": "markdown",
      "metadata": {
        "id": "qUJR4h9jg-LF"
      },
      "source": [
        "### mkdir() Function & rmdir() function."
      ]
    },
    {
      "cell_type": "code",
      "execution_count": null,
      "metadata": {
        "id": "PaMUDctpg-LG"
      },
      "outputs": [],
      "source": [
        "\"\"\"\n",
        "The mkdir() function creates a directory.\n",
        "It returns an error if the parent directory does not exist.\n",
        "If you want to create the parent directory as well, you should rather use makedirs():\n",
        "\n",
        "Once created, you can delete an empty directory with rmdir():\n",
        "\n",
        "You can remove all directories within a directory (if there are not empty) by using os.removedirs().\n",
        "If you want to delete a non-empty directory, use shutil.rmtree() (with cautious).\n",
        "\n",
        "To remove a file, use os.remove(). \n",
        "It raise the OSError exception if the file cannot be removed.\n",
        "Under Linux, you can also use os.unlink().\n",
        "\n",
        "\"\"\"\n",
        "import os\n",
        "#os.mkdir('Mukesh') # creates Mukesh directory inside the current directory\n",
        "os.rmdir('Mukesh') # Removes Mukesh directory inside the current directory\n",
        "\n",
        "\n",
        "\n"
      ]
    },
    {
      "cell_type": "markdown",
      "metadata": {
        "id": "leeow1bWg-LG"
      },
      "source": [
        "### Removing a file\n"
      ]
    },
    {
      "cell_type": "code",
      "execution_count": null,
      "metadata": {
        "id": "g5DzTMdBg-LH"
      },
      "outputs": [],
      "source": [
        "import os\n",
        "os.remove('/content/fruit_data_with_colors.txt')\n"
      ]
    },
    {
      "cell_type": "markdown",
      "metadata": {
        "id": "WKe_pZeXg-LH"
      },
      "source": [
        "### Renaming files or directories"
      ]
    },
    {
      "cell_type": "code",
      "execution_count": null,
      "metadata": {
        "colab": {
          "base_uri": "https://localhost:8080/",
          "height": 374
        },
        "id": "h1R_vUPkg-LI",
        "outputId": "2d3a25dd-d051-449a-e6e5-33fe11f41548"
      },
      "outputs": [
        {
          "output_type": "error",
          "ename": "FileNotFoundError",
          "evalue": "ignored",
          "traceback": [
            "\u001b[0;31m---------------------------------------------------------------------------\u001b[0m",
            "\u001b[0;31mFileNotFoundError\u001b[0m                         Traceback (most recent call last)",
            "\u001b[0;32m<ipython-input-39-8a99fce125ff>\u001b[0m in \u001b[0;36m<module>\u001b[0;34m()\u001b[0m\n\u001b[1;32m     10\u001b[0m \u001b[0;34m\u001b[0m\u001b[0m\n\u001b[1;32m     11\u001b[0m \u001b[0;34m\u001b[0m\u001b[0m\n\u001b[0;32m---> 12\u001b[0;31m \u001b[0mos\u001b[0m\u001b[0;34m.\u001b[0m\u001b[0mrenames\u001b[0m\u001b[0;34m(\u001b[0m\u001b[0;34m'common_modules.py'\u001b[0m\u001b[0;34m,\u001b[0m \u001b[0;34m'common_modules_renamed.py'\u001b[0m\u001b[0;34m)\u001b[0m\u001b[0;34m\u001b[0m\u001b[0;34m\u001b[0m\u001b[0m\n\u001b[0m\u001b[1;32m     13\u001b[0m \u001b[0;34m\u001b[0m\u001b[0m\n\u001b[1;32m     14\u001b[0m \u001b[0;31m# listing directories\u001b[0m\u001b[0;34m\u001b[0m\u001b[0;34m\u001b[0m\u001b[0;34m\u001b[0m\u001b[0m\n",
            "\u001b[0;32m/usr/lib/python3.7/os.py\u001b[0m in \u001b[0;36mrenames\u001b[0;34m(old, new)\u001b[0m\n\u001b[1;32m    268\u001b[0m     \u001b[0;32mif\u001b[0m \u001b[0mhead\u001b[0m \u001b[0;32mand\u001b[0m \u001b[0mtail\u001b[0m \u001b[0;32mand\u001b[0m \u001b[0;32mnot\u001b[0m \u001b[0mpath\u001b[0m\u001b[0;34m.\u001b[0m\u001b[0mexists\u001b[0m\u001b[0;34m(\u001b[0m\u001b[0mhead\u001b[0m\u001b[0;34m)\u001b[0m\u001b[0;34m:\u001b[0m\u001b[0;34m\u001b[0m\u001b[0;34m\u001b[0m\u001b[0m\n\u001b[1;32m    269\u001b[0m         \u001b[0mmakedirs\u001b[0m\u001b[0;34m(\u001b[0m\u001b[0mhead\u001b[0m\u001b[0;34m)\u001b[0m\u001b[0;34m\u001b[0m\u001b[0;34m\u001b[0m\u001b[0m\n\u001b[0;32m--> 270\u001b[0;31m     \u001b[0mrename\u001b[0m\u001b[0;34m(\u001b[0m\u001b[0mold\u001b[0m\u001b[0;34m,\u001b[0m \u001b[0mnew\u001b[0m\u001b[0;34m)\u001b[0m\u001b[0;34m\u001b[0m\u001b[0;34m\u001b[0m\u001b[0m\n\u001b[0m\u001b[1;32m    271\u001b[0m     \u001b[0mhead\u001b[0m\u001b[0;34m,\u001b[0m \u001b[0mtail\u001b[0m \u001b[0;34m=\u001b[0m \u001b[0mpath\u001b[0m\u001b[0;34m.\u001b[0m\u001b[0msplit\u001b[0m\u001b[0;34m(\u001b[0m\u001b[0mold\u001b[0m\u001b[0;34m)\u001b[0m\u001b[0;34m\u001b[0m\u001b[0;34m\u001b[0m\u001b[0m\n\u001b[1;32m    272\u001b[0m     \u001b[0;32mif\u001b[0m \u001b[0mhead\u001b[0m \u001b[0;32mand\u001b[0m \u001b[0mtail\u001b[0m\u001b[0;34m:\u001b[0m\u001b[0;34m\u001b[0m\u001b[0;34m\u001b[0m\u001b[0m\n",
            "\u001b[0;31mFileNotFoundError\u001b[0m: [Errno 2] No such file or directory: 'common_modules.py' -> 'common_modules_renamed.py'"
          ]
        }
      ],
      "source": [
        "\"\"\"\n",
        "You can rename a file from an old name to a new one by using os.rename(). See also os.renames().\n",
        "os.renames(old, new)\n",
        "\n",
        "\"\"\"\n",
        "\n",
        "\n",
        "\n",
        "import os, sys\n",
        "\n",
        "\n",
        "os.renames('common_modules.py', 'common_modules_renamed.py')\n",
        "\n",
        "# listing directories\n",
        "print(\"The dir is: %s\" %os.listdir(os.getcwd()))\n",
        "\n",
        "# renaming directory ''tutorialsdir\"\n",
        "os.rename(\"existingfilename\",\"newfileafterrename_name\")\n",
        "\n",
        "print( \"Successfully renamed.\")\n",
        "\n",
        "# listing directories after renaming \"tutorialsdir\"\n",
        "print(\"the dir is: %s\" %os.listdir(os.getcwd()))\n"
      ]
    },
    {
      "cell_type": "markdown",
      "metadata": {
        "id": "FzPBVUnLg-LI"
      },
      "source": [
        "### You can access to the time when a file was last modified. Nevertheless, the output is not friendly user. Under Unix it corresponds to the time since the Jan 1, 1970 (GMT) and under Mac OS since Jan 1, 1904 (GMT)Use the time module to make it easier to read:\n"
      ]
    },
    {
      "cell_type": "code",
      "execution_count": null,
      "metadata": {
        "id": "cffda3tcg-LI",
        "outputId": "1ec321e6-8177-4b96-b783-3ba0ad0a3f2f"
      },
      "outputs": [
        {
          "name": "stdout",
          "output_type": "stream",
          "text": [
            "1535620776.88\n",
            "Thu Aug 30 14:49:36 2018\n"
          ]
        }
      ],
      "source": [
        "import time\n",
        "mtime = os.path.getmtime(\"common_modules.py\") # returns time when the file was last modified\n",
        "print(mtime)\n",
        "\n",
        "\"\"\"\n",
        "The output is not really meaningful since it is expressed in seconds.\n",
        "You can use the time module to get a better layout of that time:\n",
        "\"\"\"\n",
        "\n",
        "print(time.ctime(mtime))\n"
      ]
    },
    {
      "cell_type": "markdown",
      "metadata": {
        "id": "QZa9eHVQg-LJ"
      },
      "source": [
        "### Python DateTime, TimeDelta, Strftime(Format) with Examples.\n",
        "\n",
        "In Python, date, time and datetime classes provides a number of function to deal with dates, times and time intervals. Date and datetime are an object in Python, so when you manipulate them, you are actually manipulating objects and not string or timestamps. Whenever you manipulate dates or time, you need to import datetime function.\n",
        "\n",
        "The datetime classes in Python are categorized into main 5 classes.\n",
        "* date – Manipulate just date ( Month, day, year)\n",
        "* time – Time independent of the day (Hour, minute, second, microsecond)\n",
        "* datetime – Combination of time and date (Month, day, year, hour, second, microsecond)\n",
        "* timedelta— A duration of time used for manipulating dates\n",
        "\n",
        "\n",
        "### We Learn The Following \n",
        "\n",
        "* How to Use Date & DateTime Class\n",
        "* Print Date using date.today()\n",
        "* Python Current Date and Time: now() today()\n",
        "* How to Format Date and Time Output with Strftime()\n",
        "* How to use Timedelta Objects\n",
        "\n"
      ]
    },
    {
      "cell_type": "markdown",
      "metadata": {
        "id": "fpXjknCIg-LJ"
      },
      "source": [
        "### Printing Today, Date Components,Weekdays"
      ]
    },
    {
      "cell_type": "code",
      "execution_count": null,
      "metadata": {
        "id": "YIbtN6agg-LK",
        "outputId": "3b0b7b12-214c-44d1-e1d5-0abd5f9e973e"
      },
      "outputs": [
        {
          "name": "stdout",
          "output_type": "stream",
          "text": [
            "Date Components  :-  30 8 2018\n",
            "Today's weekdays  :-  3\n"
          ]
        }
      ],
      "source": [
        "from datetime import date\n",
        "from datetime import time\n",
        "from datetime import datetime\n",
        "today = date.today()\n",
        "print(\"Today's Date is :- \", today)\n",
        "print(\"Date Components  :- \", today.day, today.month, today.year)\n",
        "print(\"Today's weekdays  :- \", today.weekday())"
      ]
    },
    {
      "cell_type": "markdown",
      "metadata": {
        "id": "1GkoajYhg-LK"
      },
      "source": [
        "## Aliasing or Renaming using as keyword"
      ]
    },
    {
      "cell_type": "code",
      "execution_count": null,
      "metadata": {
        "ExecuteTime": {
          "end_time": "2018-05-30T07:07:02.872806Z",
          "start_time": "2018-05-30T07:07:02.844739Z"
        },
        "id": "7CROL0XUg-LK",
        "outputId": "787947dc-ec1e-487d-e625-60e8b5dc03d8"
      },
      "outputs": [
        {
          "name": "stdout",
          "output_type": "stream",
          "text": [
            "2018-08-30 17:30:33.032000\n"
          ]
        }
      ],
      "source": [
        "import datetime as dt\n",
        "print(dt.datetime.now())"
      ]
    },
    {
      "cell_type": "markdown",
      "metadata": {
        "id": "BCLClKNmg-LL"
      },
      "source": [
        "## from Selected module  import Statement"
      ]
    },
    {
      "cell_type": "code",
      "execution_count": null,
      "metadata": {
        "ExecuteTime": {
          "end_time": "2018-05-29T17:29:58.939364Z",
          "start_time": "2018-05-29T17:29:58.930846Z"
        },
        "id": "JrJf0oHlg-LL",
        "outputId": "6aa05608-1c28-4320-bd23-e64db60ea9d9"
      },
      "outputs": [
        {
          "name": "stdout",
          "output_type": "stream",
          "text": [
            "2018-08-30 17:32:21.678000\n"
          ]
        }
      ],
      "source": [
        "from datetime import datetime\n",
        "print(datetime.now())"
      ]
    },
    {
      "cell_type": "markdown",
      "metadata": {
        "id": "Pt5EweXvg-LL"
      },
      "source": [
        "### Importing Everything from an module using `*`\n",
        "\n",
        "The from...import * Statement"
      ]
    },
    {
      "cell_type": "code",
      "execution_count": null,
      "metadata": {
        "ExecuteTime": {
          "end_time": "2018-05-29T17:38:44.091153Z",
          "start_time": "2018-05-29T17:38:44.084039Z"
        },
        "id": "FKGs0HzXg-LM",
        "outputId": "408f0a6d-ca26-4904-cf71-89054f231320"
      },
      "outputs": [
        {
          "name": "stdout",
          "output_type": "stream",
          "text": [
            "3.141592653589793\n"
          ]
        }
      ],
      "source": [
        "from math import *\n",
        "print(pi)"
      ]
    },
    {
      "cell_type": "markdown",
      "metadata": {
        "id": "9gJ9jNVIg-LM"
      },
      "source": [
        "### Python Current Date and Time: now() today()\n",
        "* It gives date along with time in hours, minutes, seconds and milliseconds.\n"
      ]
    },
    {
      "cell_type": "code",
      "execution_count": null,
      "metadata": {
        "id": "DBTxGhF7g-LM",
        "outputId": "606ffefd-6d17-4f99-84b6-e421576c81e6"
      },
      "outputs": [
        {
          "name": "stdout",
          "output_type": "stream",
          "text": [
            "The Current Date And Time is :-  2018-08-30 17:30:41.682000\n",
            "The Current Time is :-  17:30:41.682000\n"
          ]
        }
      ],
      "source": [
        "from datetime import datetime\n",
        "\n",
        "today= datetime.now()\n",
        "print(\"The Current Date And Time is :- \", today)   # Prints Date Along With Time.\n",
        "\n",
        "t= datetime.time(datetime.now())\n",
        "print(\"The Current Time is :- \", t)   # Prints time from datetime."
      ]
    },
    {
      "cell_type": "code",
      "execution_count": null,
      "metadata": {
        "id": "VJIxLe2Ng-LM",
        "outputId": "cf12f64d-afe2-49e0-823b-99957a6b164a"
      },
      "outputs": [
        {
          "name": "stdout",
          "output_type": "stream",
          "text": [
            "Today is day number 3\n",
            "which is a thursday\n"
          ]
        }
      ],
      "source": [
        "from datetime import date\n",
        "from datetime import time\n",
        "from datetime import datetime\n",
        "def main():\n",
        "    ##DATETIME OBJECTS\n",
        "    #Get today's date from datetime class\n",
        "    today=datetime.now()\n",
        "    #print (today)\n",
        "    # Get the current time\n",
        "    #t = datetime.time(datetime.now())\n",
        "    #print \"The current time is\", t\n",
        "    #weekday returns 0 (monday) through 6 (sunday)\n",
        "    wd=date.weekday(today)\n",
        "    #Days start at 0 for monday\n",
        "    days= [\"monday\",\"tuesday\",\"wednesday\",\"thursday\",\"friday\",\"saturday\",\"sunday\"]\n",
        "    print(\"Today is day number %d\" % wd)\n",
        "    print(\"which is a \" + days[wd])\n",
        "\n",
        "if __name__== \"__main__\":\n",
        "    main()"
      ]
    },
    {
      "cell_type": "code",
      "execution_count": null,
      "metadata": {
        "id": "m9bzZ6kqg-LN",
        "outputId": "5a5d6fdf-c8da-4bab-b8f2-b668a63b7935"
      },
      "outputs": [
        {
          "name": "stdout",
          "output_type": "stream",
          "text": [
            "1\n",
            "9999\n"
          ]
        }
      ],
      "source": [
        "import datetime as dt\n",
        "\n",
        "print(dt.MINYEAR)\n",
        "\n",
        "print(dt.MAXYEAR)\n"
      ]
    },
    {
      "cell_type": "code",
      "execution_count": null,
      "metadata": {
        "ExecuteTime": {
          "end_time": "2018-05-30T02:15:46.170834Z",
          "start_time": "2018-05-30T02:15:46.139942Z"
        },
        "id": "cLp3oYGog-LN",
        "outputId": "ae097945-b365-47b0-dbf9-aa26b4c5ef46"
      },
      "outputs": [
        {
          "name": "stdout",
          "output_type": "stream",
          "text": [
            "2018-10-10\n",
            "23:30:50\n",
            "2018-10-10 23:30:50\n",
            "23\n",
            "30\n",
            "50\n",
            "1999-02-10\n",
            "2011-01-11\n",
            "2018-08-30\n",
            "2018-05-30\n"
          ]
        }
      ],
      "source": [
        "my_date = dt.date(2018, 10, 10)\n",
        "\n",
        "my_time = dt.time(23, 30, 50)\n",
        "\n",
        "my_datetime = dt.datetime(2018, 10, 10, 23, 30, 50)\n",
        "\n",
        "print(my_date)\n",
        "\n",
        "print(my_time)\n",
        "\n",
        "print(my_datetime)\n",
        "\n",
        "print(my_time.hour)\n",
        "\n",
        "print(my_time.minute)\n",
        "\n",
        "print(my_time.second)\n",
        "\n",
        "print(dt.date(1999,2,10))\n",
        "\n",
        "from datetime import date\n",
        "\n",
        "print(date(2011, 1, 11))\n",
        "print(date.today())\n",
        "\n",
        "x = date(2018, 5, 30)\n",
        "\n",
        "print(x)\n",
        "\n",
        "print(x.year)\n",
        "\n",
        "print(x.month)\n",
        "\n",
        "print(x.day)"
      ]
    },
    {
      "cell_type": "markdown",
      "metadata": {
        "id": "toEUdI-Yg-LO"
      },
      "source": [
        "### How to Format Date and Time Output with Strftime()\n"
      ]
    },
    {
      "cell_type": "code",
      "execution_count": null,
      "metadata": {
        "id": "Jxav9CYog-LO",
        "outputId": "638d5d27-c4f8-4142-b944-b3deaa08c843"
      },
      "outputs": [
        {
          "name": "stdout",
          "output_type": "stream",
          "text": [
            "Thu Aug 30 17:20:00 2018\n",
            "08/30/18\n",
            "17:20:00\n",
            "05:20:00 PM\n",
            "17:20\n",
            "05:20\n"
          ]
        }
      ],
      "source": [
        "from datetime import datetime\n",
        "\n",
        "now= datetime.now() #get the current date and time\n",
        "\n",
        "#%c - local date and time, %x-local's date, %X- local's time\n",
        "print(now.strftime(\"%c\"))\n",
        "\n",
        "print(now.strftime(\"%x\"))\n",
        "\n",
        "print(now.strftime(\"%X\"))\n",
        "\n",
        "##### Time Formatting ####\n",
        "\n",
        "#%I/%H - 12/24 Hour, %M - minute, %S - second, %p - local's AM/PM\n",
        "\n",
        "print(now.strftime(\"%I:%M:%S %p\")) # 12-Hour:Minute:Second:AM\n",
        "\n",
        "print(now.strftime(\"%H:%M\")) # 24-Hour:Minute\n",
        "\n",
        "print(now.strftime(\"%I:%M\")) # 24-Hour:Minute"
      ]
    },
    {
      "cell_type": "markdown",
      "metadata": {
        "id": "Pf7Yb0G_g-LO"
      },
      "source": [
        "### How to use Timedelta Objects\n",
        "\n",
        "* With timedelta objects, you can estimate the time for both future and the past. In other words, it is a timespan to predict any special day, date or time.\n",
        "* Remember this function is not for printing out the time or date, but something to CALCULATE about the future or past."
      ]
    },
    {
      "cell_type": "code",
      "execution_count": null,
      "metadata": {
        "id": "-R5mJMaRg-LO",
        "outputId": "f584c4f4-cced-44f6-936a-dbd9e1b23d07"
      },
      "outputs": [
        {
          "name": "stdout",
          "output_type": "stream",
          "text": [
            "365 days, 8:15:00\n",
            "today is: 2018-08-30 17:25:07.072000\n",
            "one year from now it will be:2019-08-30 17:25:07.072000\n"
          ]
        }
      ],
      "source": [
        "# Example file for working with timedelta objects\n",
        "from datetime import date\n",
        "from datetime import time\n",
        "from datetime import datetime\n",
        "from datetime import timedelta\n",
        "\n",
        "# construct a basic timedelta and print it\n",
        "print (timedelta(days=365, hours=8, minutes=15))\n",
        "\n",
        "# print today's date\n",
        "print (\"today is: \" + str(datetime.now()))\n",
        "\n",
        "# print today's date one year from now\n",
        "print (\"one year from now it will be:\" + str(datetime.now() + timedelta(days=365)))\n"
      ]
    },
    {
      "cell_type": "code",
      "execution_count": null,
      "metadata": {
        "ExecuteTime": {
          "end_time": "2018-05-29T17:36:47.767345Z",
          "start_time": "2018-05-29T17:36:47.756170Z"
        },
        "id": "EM9x3OLag-LP",
        "outputId": "f4cccbce-4c9b-432f-8ede-9b8b462f1cf1"
      },
      "outputs": [
        {
          "name": "stdout",
          "output_type": "stream",
          "text": [
            "3.141592653589793\n",
            "2.718281828459045\n"
          ]
        }
      ],
      "source": [
        "import math\n",
        "print(math.pi)\n",
        "print(math.e)"
      ]
    },
    {
      "cell_type": "markdown",
      "metadata": {
        "id": "T0itIsltg-LP"
      },
      "source": [
        "## Using help() and dir()"
      ]
    },
    {
      "cell_type": "code",
      "execution_count": null,
      "metadata": {
        "ExecuteTime": {
          "end_time": "2018-05-30T03:07:36.071790Z",
          "start_time": "2018-05-30T03:07:36.051485Z"
        },
        "id": "Y1uhmgUYg-LP"
      },
      "outputs": [],
      "source": [
        "# dir(datetime)"
      ]
    },
    {
      "cell_type": "code",
      "execution_count": null,
      "metadata": {
        "ExecuteTime": {
          "end_time": "2018-05-30T03:07:39.053889Z",
          "start_time": "2018-05-30T03:07:39.010973Z"
        },
        "id": "XdoHXcS8g-LP"
      },
      "outputs": [],
      "source": [
        "# help(datetime)"
      ]
    },
    {
      "cell_type": "markdown",
      "metadata": {
        "id": "jYG0LeF7g-LQ"
      },
      "source": [
        "## Some Important Modules in Python"
      ]
    },
    {
      "cell_type": "markdown",
      "metadata": {
        "id": "IDgCQhvKg-LQ"
      },
      "source": [
        "### time module"
      ]
    },
    {
      "cell_type": "code",
      "execution_count": null,
      "metadata": {
        "ExecuteTime": {
          "end_time": "2018-05-30T07:19:33.849822Z",
          "start_time": "2018-05-30T07:19:33.845812Z"
        },
        "id": "U72AnOp4g-LQ",
        "outputId": "08fa2725-c289-4de6-bce6-e054c87aa3ef"
      },
      "outputs": [
        {
          "name": "stdout",
          "output_type": "stream",
          "text": [
            "1535630695.324\n"
          ]
        }
      ],
      "source": [
        "import time\n",
        "\n",
        "print(time.time())\n",
        "\n",
        "# Unix timestamp - number of seconds from the begining of time(epoch)\n",
        "# 1st Jan, 1970 @ 00:00:00"
      ]
    },
    {
      "cell_type": "code",
      "execution_count": null,
      "metadata": {
        "ExecuteTime": {
          "end_time": "2018-05-30T07:23:22.409144Z",
          "start_time": "2018-05-30T07:23:22.404631Z"
        },
        "id": "KCM7lNRdg-LQ",
        "outputId": "cbe44f83-651d-43aa-a096-a105fcbb1e0a"
      },
      "outputs": [
        {
          "name": "stdout",
          "output_type": "stream",
          "text": [
            "Wed May 30 12:49:33 2018\n"
          ]
        }
      ],
      "source": [
        "# see time, sec to original format\n",
        "\n",
        "print(time.ctime(1527664773.8468134))\n",
        "\n",
        "# ctime(sec)"
      ]
    },
    {
      "cell_type": "code",
      "execution_count": null,
      "metadata": {
        "ExecuteTime": {
          "end_time": "2018-05-30T02:56:02.425997Z",
          "start_time": "2018-05-30T02:56:02.410368Z"
        },
        "id": "HsmUICTTg-LQ",
        "outputId": "925f1410-40ac-4b3f-c11a-7fa467a98dfc"
      },
      "outputs": [
        {
          "name": "stdout",
          "output_type": "stream",
          "text": [
            "Wed May 30 08:26:02 2018\n"
          ]
        }
      ],
      "source": [
        "#ask time\n",
        "\n",
        "print(time.asctime())"
      ]
    },
    {
      "cell_type": "code",
      "execution_count": null,
      "metadata": {
        "ExecuteTime": {
          "end_time": "2018-05-30T07:24:56.901774Z",
          "start_time": "2018-05-30T07:24:56.895258Z"
        },
        "id": "h0ZwpkyLg-LR",
        "outputId": "03ce68f2-3509-4e25-9a3a-62f69f03dbae"
      },
      "outputs": [
        {
          "name": "stdout",
          "output_type": "stream",
          "text": [
            "time.struct_time(tm_year=2018, tm_mon=5, tm_mday=30, tm_hour=7, tm_min=24, tm_sec=56, tm_wday=2, tm_yday=150, tm_isdst=0)\n"
          ]
        }
      ],
      "source": [
        "print(time.gmtime())"
      ]
    },
    {
      "cell_type": "code",
      "execution_count": null,
      "metadata": {
        "ExecuteTime": {
          "end_time": "2018-05-30T02:57:55.028412Z",
          "start_time": "2018-05-30T02:57:55.015963Z"
        },
        "id": "60q5nMZqg-LR",
        "outputId": "f2a8bac3-7a00-423f-f24f-cb2584d2f947"
      },
      "outputs": [
        {
          "name": "stdout",
          "output_type": "stream",
          "text": [
            "Wed May 30 02:57:55 2018\n"
          ]
        }
      ],
      "source": [
        "# Formatting the gmtime\n",
        "\n",
        "print(time.asctime(time.gmtime()))"
      ]
    },
    {
      "cell_type": "code",
      "execution_count": null,
      "metadata": {
        "ExecuteTime": {
          "end_time": "2018-05-30T07:27:18.334641Z",
          "start_time": "2018-05-30T07:27:18.330666Z"
        },
        "id": "VrizGdkAg-LR",
        "outputId": "326de61f-bd90-42f4-ba3f-a523ccc4677b"
      },
      "outputs": [
        {
          "name": "stdout",
          "output_type": "stream",
          "text": [
            "time.struct_time(tm_year=2018, tm_mon=5, tm_mday=30, tm_hour=12, tm_min=57, tm_sec=18, tm_wday=2, tm_yday=150, tm_isdst=0)\n"
          ]
        }
      ],
      "source": [
        "print(time.localtime())"
      ]
    },
    {
      "cell_type": "code",
      "execution_count": null,
      "metadata": {
        "ExecuteTime": {
          "end_time": "2018-05-30T07:31:17.188387Z",
          "start_time": "2018-05-30T07:31:17.181869Z"
        },
        "id": "nzwl5yKAg-LS",
        "outputId": "a8e09364-6439-40f0-ec09-ed99cff24f78"
      },
      "outputs": [
        {
          "name": "stdout",
          "output_type": "stream",
          "text": [
            "Local current time : Wed May 30 13:01:17 2018\n"
          ]
        }
      ],
      "source": [
        "# formatted time\n",
        "\n",
        "import time, datetime\n",
        "\n",
        "localtime = time.asctime(time.localtime())\n",
        "\n",
        "print (\"Local current time :\", localtime)\n"
      ]
    },
    {
      "cell_type": "code",
      "execution_count": null,
      "metadata": {
        "ExecuteTime": {
          "end_time": "2018-05-30T02:08:07.348973Z",
          "start_time": "2018-05-30T02:08:07.344459Z"
        },
        "id": "pKt64Aj1g-LS",
        "outputId": "93cbc6bc-a4bb-4894-81b6-acab7207d3aa"
      },
      "outputs": [
        {
          "name": "stdout",
          "output_type": "stream",
          "text": [
            "Wednesday, May 30, 2018\n"
          ]
        }
      ],
      "source": [
        "# default format: yyyy-mm-dd\n",
        "\n",
        "# formatted date -> Day-Name(%A), Month-Name(%B), Day(%d), Year(%Y)\n",
        "\n",
        "print(x.strftime(\"%A, %B %d, %Y\"))"
      ]
    },
    {
      "cell_type": "code",
      "execution_count": null,
      "metadata": {
        "ExecuteTime": {
          "end_time": "2018-05-29T18:03:58.385934Z",
          "start_time": "2018-05-29T18:03:58.367897Z"
        },
        "id": "Vy0q3fAgg-LS",
        "outputId": "cd8c54a5-48c2-410d-e627-9ca5bcada3ea"
      },
      "outputs": [
        {
          "name": "stdout",
          "output_type": "stream",
          "text": [
            "1970-01-02\n",
            "0001-01-01\n",
            "9999-12-31\n"
          ]
        }
      ],
      "source": [
        "print(date.fromtimestamp(123123))\n",
        "\n",
        "print(date.min)\n",
        "\n",
        "print(date.max)"
      ]
    },
    {
      "cell_type": "markdown",
      "metadata": {
        "id": "bKFu9IWlg-LS"
      },
      "source": [
        "### Maths module\n",
        "* It provides access to the mathematical functions defined by the C standard."
      ]
    },
    {
      "cell_type": "code",
      "execution_count": null,
      "metadata": {
        "id": "cf-9E_Lfg-LS"
      },
      "outputs": [],
      "source": [
        "# Math module\n",
        "\"\"\"\n",
        "ceil(x)\tReturns the smallest integer greater than or equal to x.\n",
        "copysign(x, y)\tReturns x with the sign of y\n",
        "fabs(x)\tReturns the absolute value of x\n",
        "factorial(x)\tReturns the factorial of x\n",
        "floor(x)\tReturns the largest integer less than or equal to x\n",
        "fmod(x, y)\tReturns the remainder when x is divided by y\n",
        "frexp(x)\tReturns the mantissa and exponent of x as the pair (m, e)\n",
        "fsum(iterable)\tReturns an accurate floating point sum of values in the iterable\n",
        "isfinite(x)\tReturns True if x is neither an infinity nor a NaN (Not a Number)\n",
        "isinf(x)\tReturns True if x is a positive or negative infinity\n",
        "isnan(x)\tReturns True if x is a NaN\n",
        "ldexp(x, i)\tReturns x * (2**i)\n",
        "modf(x)\tReturns the fractional and integer parts of x\n",
        "trunc(x)\tReturns the truncated integer value of x\n",
        "exp(x)\tReturns e**x\n",
        "expm1(x)\tReturns e**x - 1\n",
        "log(x[, base])\tReturns the logarithm of x to the base (defaults to e)\n",
        "log1p(x)\tReturns the natural logarithm of 1+x\n",
        "log2(x)\tReturns the base-2 logarithm of x\n",
        "log10(x)\tReturns the base-10 logarithm of x\n",
        "pow(x, y)\tReturns x raised to the power y\n",
        "sqrt(x)\tReturns the square root of x\n",
        "acos(x)\tReturns the arc cosine of x\n",
        "asin(x)\tReturns the arc sine of x\n",
        "atan(x)\tReturns the arc tangent of x\n",
        "atan2(y, x)\tReturns atan(y / x)\n",
        "cos(x)\tReturns the cosine of x\n",
        "hypot(x, y)\tReturns the Euclidean norm, sqrt(x*x + y*y)\n",
        "sin(x)\tReturns the sine of x\n",
        "tan(x)\tReturns the tangent of x\n",
        "degrees(x)\tConverts angle x from radians to degrees\n",
        "radians(x)\tConverts angle x from degrees to radians\n",
        "acosh(x)\tReturns the inverse hyperbolic cosine of x\n",
        "asinh(x)\tReturns the inverse hyperbolic sine of x\n",
        "atanh(x)\tReturns the inverse hyperbolic tangent of x\n",
        "cosh(x)\tReturns the hyperbolic cosine of x\n",
        "sinh(x)\tReturns the hyperbolic cosine of x\n",
        "tanh(x)\tReturns the hyperbolic tangent of x\n",
        "erf(x)\tReturns the error function at x\n",
        "erfc(x)\tReturns the complementary error function at x\n",
        "gamma(x)\tReturns the Gamma function at x\n",
        "lgamma(x)\tReturns the natural logarithm of the absolute value of the Gamma function at x\n",
        "pi\tMathematical constant, the ratio of circumference of a circle to it's diameter (3.14159...)\n",
        "e\tmathematical constant e (2.71828...)\n",
        "\"\"\"\n",
        "\n",
        "import math\n",
        "print(math.ceil(4))\n",
        "print(math.ceil(4.5))\n",
        "print(math.fabs(-3))\n",
        "print(math.factorial(3))\n",
        "print(math.floor(3.5))\n",
        "print(math.fsum([0.14,0.1,0.1])) #Floating sum with precision\n",
        "print(math.gcd(4,8))\n",
        "print(math.exp(3))\n",
        "print(math.log(8,2))\n",
        "print(math.pow(2,3))\n",
        "print(math.cos(0))\n",
        "print(math.sin(0))\n",
        "print(math.tan(0))\n",
        "print(math.acos(0))\n",
        "print(math.asin(0))\n",
        "print(math.atan(0))\n",
        "print(math.pi)\n",
        "print(math.e)\n",
        "print(math.tau)\n",
        "print(math.inf)\n",
        "print(math.nan)\n",
        "f=math.nan\n",
        "print(float(\"inf\")-float(\"inf\"))\n"
      ]
    },
    {
      "cell_type": "code",
      "execution_count": null,
      "metadata": {
        "ExecuteTime": {
          "end_time": "2018-05-30T07:58:24.371424Z",
          "start_time": "2018-05-30T07:58:24.364406Z"
        },
        "scrolled": true,
        "id": "vpH_kflFg-LT",
        "outputId": "b27e2e5c-4f6e-48af-ee32-57741c04276d"
      },
      "outputs": [
        {
          "name": "stdout",
          "output_type": "stream",
          "text": [
            "124\n",
            "123\n",
            "720\n",
            "2.0\n"
          ]
        }
      ],
      "source": [
        "import math as m\n",
        "\n",
        "print(m.ceil(123.23))\n",
        "\n",
        "print(m.floor(123.23))\n",
        "\n",
        "\n",
        "print(m.factorial(6))\n",
        "\n",
        "print(m.sqrt(4))\n",
        "\n"
      ]
    },
    {
      "cell_type": "code",
      "execution_count": null,
      "metadata": {
        "ExecuteTime": {
          "end_time": "2018-05-29T18:10:53.807147Z",
          "start_time": "2018-05-29T18:10:53.797438Z"
        },
        "id": "jRPScymRg-LT",
        "outputId": "7816c348-a32a-48a6-9da6-3ac83abd777b"
      },
      "outputs": [
        {
          "name": "stdout",
          "output_type": "stream",
          "text": [
            "6.283185307179586\n",
            "inf\n",
            "nan\n"
          ]
        }
      ],
      "source": [
        "print(m.tau)\n",
        "\n",
        "print(m.inf)\n",
        "\n",
        "print(m.nan)"
      ]
    },
    {
      "cell_type": "code",
      "execution_count": null,
      "metadata": {
        "ExecuteTime": {
          "end_time": "2018-05-29T18:37:35.961746Z",
          "start_time": "2018-05-29T18:37:35.949713Z"
        },
        "id": "zYYLYIFRg-LT"
      },
      "outputs": [],
      "source": [
        "# help(math)"
      ]
    },
    {
      "cell_type": "markdown",
      "metadata": {
        "id": "4xAZN1jZg-LU"
      },
      "source": [
        "### Random module\n",
        "\n",
        "* When to use it ..?? -->  We want the computer to pick a random number in a given range"
      ]
    },
    {
      "cell_type": "code",
      "execution_count": null,
      "metadata": {
        "ExecuteTime": {
          "end_time": "2018-05-30T08:09:49.041346Z",
          "start_time": "2018-05-30T08:09:49.037331Z"
        },
        "id": "LvuhWWBwg-LU",
        "outputId": "2f327016-ea08-4400-de57-b6cdf89e6a7e"
      },
      "outputs": [
        {
          "name": "stdout",
          "output_type": "stream",
          "text": [
            "0.7178156228706927\n"
          ]
        }
      ],
      "source": [
        "from random import *\n",
        "\n",
        "print(random())\n",
        "\n",
        "# 0 and 1 (not inclusive)"
      ]
    },
    {
      "cell_type": "markdown",
      "metadata": {
        "id": "SlngQ9fHg-LU"
      },
      "source": [
        "### Random functions\n",
        "* The Random module contains some very useful functions\n",
        "\n",
        "### randint(a,b)\n",
        "\n",
        "* If we wanted a random integer, we can use the randint function\n",
        "\n",
        "* Randint accepts two parameters: a lowest and a highest number.\n",
        "* a and b inclusive"
      ]
    },
    {
      "cell_type": "code",
      "execution_count": null,
      "metadata": {
        "ExecuteTime": {
          "end_time": "2018-05-30T08:10:48.073232Z",
          "start_time": "2018-05-30T08:10:48.069218Z"
        },
        "id": "Ao3UrdCKg-LV",
        "outputId": "bc10f34a-51ff-4e89-badb-f35656d6d0b0"
      },
      "outputs": [
        {
          "name": "stdout",
          "output_type": "stream",
          "text": [
            "3\n"
          ]
        }
      ],
      "source": [
        "\n",
        "\"\"\"\n",
        "Generate integers between 1,5.\n",
        "The first value should be less than the second.\n",
        "\"\"\"\n",
        "import random\n",
        "print(random.randint(0, 5))\n",
        "\n",
        "# 0 and 5 are inclusive (Included)"
      ]
    },
    {
      "cell_type": "code",
      "execution_count": null,
      "metadata": {
        "id": "UOuuK0xvg-LV",
        "outputId": "aeb39ac9-b1ca-4aa0-b620-37f34d706cc2"
      },
      "outputs": [
        {
          "name": "stdout",
          "output_type": "stream",
          "text": [
            "4916\n"
          ]
        }
      ],
      "source": [
        "\"\"\"\n",
        "Generate integers between 1000,9999.\n",
        "The first value should be less than the second.\n",
        "\"\"\"\n",
        "import random\n",
        "from random import *\n",
        "print(randint(1000, 9999))\n",
        "\n",
        "# 1000 and 9999 (inclusive)"
      ]
    },
    {
      "cell_type": "markdown",
      "metadata": {
        "id": "Za0Lc-w7g-LV"
      },
      "source": [
        "### uniform(a, b) \n",
        "* Return a random floating point number between a and b inclusive"
      ]
    },
    {
      "cell_type": "code",
      "execution_count": null,
      "metadata": {
        "ExecuteTime": {
          "end_time": "2018-05-29T18:33:37.867771Z",
          "start_time": "2018-05-29T18:33:37.851910Z"
        },
        "id": "MvmxWOuag-LV",
        "outputId": "b19bd60e-4dc3-430b-83ea-ced7744ae500"
      },
      "outputs": [
        {
          "name": "stdout",
          "output_type": "stream",
          "text": [
            "8.234791377636977\n"
          ]
        }
      ],
      "source": [
        "print(uniform(1, 10))\n",
        "\n",
        "# float between 1 and 10 (not inclusive)"
      ]
    },
    {
      "cell_type": "markdown",
      "metadata": {
        "id": "YmyNmQmtg-LW"
      },
      "source": [
        "### Choice\n",
        "\n",
        "* it Generates a random value from the sequence sequence.\n",
        "\n",
        "\n",
        "* The choice function can often be used for choosing a random element from a list."
      ]
    },
    {
      "cell_type": "code",
      "execution_count": null,
      "metadata": {
        "ExecuteTime": {
          "end_time": "2018-05-30T08:12:18.949643Z",
          "start_time": "2018-05-30T08:12:18.944629Z"
        },
        "id": "bxuUM0iog-LW",
        "outputId": "f1c987de-3428-49cd-f33a-f3ed84c38cd0"
      },
      "outputs": [
        {
          "name": "stdout",
          "output_type": "stream",
          "text": [
            "482\n"
          ]
        }
      ],
      "source": [
        "import random\n",
        "myList = [2, 109, False, 10, \"Mukesh\", 482, \"Acadview\"]\n",
        "print(random.choice(myList))\n",
        "\n"
      ]
    },
    {
      "cell_type": "code",
      "execution_count": null,
      "metadata": {
        "id": "AGljcNC6g-LW",
        "outputId": "7308bd39-6a67-48ca-90da-8eab11ae08d3"
      },
      "outputs": [
        {
          "name": "stdout",
          "output_type": "stream",
          "text": [
            "c\n"
          ]
        }
      ],
      "source": [
        "import random\n",
        "from random import *\n",
        "lst = ['a', 'b', 'c', 'd', 'e', 'f', 'g', 'h']\n",
        "\n",
        "print(choice(lst))\n",
        "\n",
        "# return a random item from a list or tuple"
      ]
    },
    {
      "cell_type": "markdown",
      "metadata": {
        "id": "ezy9Nsn9g-LX"
      },
      "source": [
        "### Shuffle\n",
        "* The shuffle function, shuffles the elements in list in place, so they are in a\n",
        "random order."
      ]
    },
    {
      "cell_type": "code",
      "execution_count": null,
      "metadata": {
        "id": "_VsPCALRg-LX",
        "outputId": "e22d8062-a8b8-4756-dfef-3d1e531b827c"
      },
      "outputs": [
        {
          "name": "stdout",
          "output_type": "stream",
          "text": [
            "List Before Shuffling is  [0, 1, 2, 3, 4]\n",
            "List after Shuffling is  [4, 1, 3, 2, 0]\n"
          ]
        }
      ],
      "source": [
        "import random\n",
        "\n",
        "s=list(range(5))\n",
        "print(\"List Before Shuffling is \", s)\n",
        "random.shuffle(s) # << shuffle before print or assignment\n",
        "print(\"List after Shuffling is \",s)"
      ]
    },
    {
      "cell_type": "markdown",
      "metadata": {
        "id": "-Vi_KPWig-LX"
      },
      "source": [
        "### Randrange\n",
        "\n",
        "* Generate a randomly selected element from range(start, stop, step)\n",
        "\n",
        "* Syntax :- random.randrange(start, stop[, step])"
      ]
    },
    {
      "cell_type": "code",
      "execution_count": null,
      "metadata": {
        "id": "RoLIXkg3g-LX",
        "outputId": "aaf7d175-9696-4cec-f94f-d2d98e7a5820"
      },
      "outputs": [
        {
          "name": "stdout",
          "output_type": "stream",
          "text": [
            "15\n",
            "100\n",
            "70\n"
          ]
        }
      ],
      "source": [
        "import random\n",
        "for i in range(3):\n",
        "    print(random.randrange(0, 101, 5))"
      ]
    },
    {
      "cell_type": "markdown",
      "metadata": {
        "id": "8_S8lO8Cg-LY"
      },
      "source": [
        "### sample(population, k)\t\n",
        "* Return a k length list of unique elements chosen from the population sequence"
      ]
    },
    {
      "cell_type": "code",
      "execution_count": null,
      "metadata": {
        "id": "tSTY90Llg-LY",
        "outputId": "9385b97b-d08c-4c37-9f09-7b751f72f4a5"
      },
      "outputs": [
        {
          "name": "stdout",
          "output_type": "stream",
          "text": [
            "[0, 1, 2, 3, 4, 5, 6, 7, 8, 9, 10, 11, 12, 13, 14]\n",
            "[2, 1, 6, 9, 14]\n"
          ]
        }
      ],
      "source": [
        "import random\n",
        "c = list(range(0, 15))\n",
        "print(c)\n",
        "\n",
        "print(random.sample(c, 5))\n"
      ]
    },
    {
      "cell_type": "markdown",
      "metadata": {
        "id": "m9uOMfPag-LY"
      },
      "source": [
        "### Webbrowser module \n",
        "\n",
        "* The webbrowser module in Python provides an interface to display Web-based documents.\n",
        "* calling the `open()` function from this module will do the right thing. \n",
        "\n",
        "* Using `webbrowser.open_new_tab` A new browser tab will open with the search term in googles search field."
      ]
    },
    {
      "cell_type": "code",
      "execution_count": null,
      "metadata": {
        "id": "1-vwFwMNg-LZ",
        "outputId": "8f11afa4-07e5-4c9f-ec06-58f75bdf1e76"
      },
      "outputs": [
        {
          "name": "stdout",
          "output_type": "stream",
          "text": [
            "Enter Your Google search:Djpunjab.com\n"
          ]
        },
        {
          "data": {
            "text/plain": [
              "True"
            ]
          },
          "execution_count": 141,
          "metadata": {},
          "output_type": "execute_result"
        }
      ],
      "source": [
        "\"\"\"\n",
        "webbrowser.open_new(url)\n",
        "    Open url in a new window of the default browser, if possible, otherwise,\n",
        "    open url in the only browser window.\n",
        "\n",
        "webbrowser.open_new_tab(url)\n",
        "    Open url in a new page (“tab”) of the default browser, if possible, \n",
        "    otherwise equivalent to open_new().\n",
        "\"\"\"\n",
        "\n",
        "import webbrowser\n",
        "google = input('Enter Your Google search:')\n",
        "webbrowser.open_new_tab('http://www.google.com/search?btnG=1&q=%s' % google)"
      ]
    },
    {
      "cell_type": "markdown",
      "metadata": {
        "id": "9WHKKJmLg-LZ"
      },
      "source": [
        "### Calender Module\n",
        "* Displaying Month   :- The built-in function month() inside the Calender module takes in the year and the month and displays the calendar for that month of the year.\n",
        "\n",
        "\n",
        "* Displaying year :- The built-in function calender() inside the module takes in the year and displays the calendar for that year.\n"
      ]
    },
    {
      "cell_type": "code",
      "execution_count": null,
      "metadata": {
        "id": "sAVYebDAg-LZ",
        "outputId": "a9f09f76-0643-491b-cf92-cb7ee1234490"
      },
      "outputs": [
        {
          "name": "stdout",
          "output_type": "stream",
          "text": [
            "   November 2018\n",
            "Mo Tu We Th Fr Sa Su\n",
            "          1  2  3  4\n",
            " 5  6  7  8  9 10 11\n",
            "12 13 14 15 16 17 18\n",
            "19 20 21 22 23 24 25\n",
            "26 27 28 29 30\n",
            "\n"
          ]
        }
      ],
      "source": [
        "import calendar\n",
        "\n",
        "year = 2018\n",
        "month = 11\n",
        "\n",
        "# display the calendar\n",
        "print(calendar.month(year, month))"
      ]
    },
    {
      "cell_type": "code",
      "execution_count": null,
      "metadata": {
        "id": "X0mfGnlgg-LZ",
        "outputId": "9d8d9db4-183d-404e-b890-52957a542888"
      },
      "outputs": [
        {
          "name": "stdout",
          "output_type": "stream",
          "text": [
            "                                  2018\n",
            "\n",
            "      January                   February                   March\n",
            "Mo Tu We Th Fr Sa Su      Mo Tu We Th Fr Sa Su      Mo Tu We Th Fr Sa Su\n",
            " 1  2  3  4  5  6  7                1  2  3  4                1  2  3  4\n",
            " 8  9 10 11 12 13 14       5  6  7  8  9 10 11       5  6  7  8  9 10 11\n",
            "15 16 17 18 19 20 21      12 13 14 15 16 17 18      12 13 14 15 16 17 18\n",
            "22 23 24 25 26 27 28      19 20 21 22 23 24 25      19 20 21 22 23 24 25\n",
            "29 30 31                  26 27 28                  26 27 28 29 30 31\n",
            "\n",
            "       April                      May                       June\n",
            "Mo Tu We Th Fr Sa Su      Mo Tu We Th Fr Sa Su      Mo Tu We Th Fr Sa Su\n",
            "                   1          1  2  3  4  5  6                   1  2  3\n",
            " 2  3  4  5  6  7  8       7  8  9 10 11 12 13       4  5  6  7  8  9 10\n",
            " 9 10 11 12 13 14 15      14 15 16 17 18 19 20      11 12 13 14 15 16 17\n",
            "16 17 18 19 20 21 22      21 22 23 24 25 26 27      18 19 20 21 22 23 24\n",
            "23 24 25 26 27 28 29      28 29 30 31               25 26 27 28 29 30\n",
            "30\n",
            "\n",
            "        July                     August                  September\n",
            "Mo Tu We Th Fr Sa Su      Mo Tu We Th Fr Sa Su      Mo Tu We Th Fr Sa Su\n",
            "                   1             1  2  3  4  5                      1  2\n",
            " 2  3  4  5  6  7  8       6  7  8  9 10 11 12       3  4  5  6  7  8  9\n",
            " 9 10 11 12 13 14 15      13 14 15 16 17 18 19      10 11 12 13 14 15 16\n",
            "16 17 18 19 20 21 22      20 21 22 23 24 25 26      17 18 19 20 21 22 23\n",
            "23 24 25 26 27 28 29      27 28 29 30 31            24 25 26 27 28 29 30\n",
            "30 31\n",
            "\n",
            "      October                   November                  December\n",
            "Mo Tu We Th Fr Sa Su      Mo Tu We Th Fr Sa Su      Mo Tu We Th Fr Sa Su\n",
            " 1  2  3  4  5  6  7                1  2  3  4                      1  2\n",
            " 8  9 10 11 12 13 14       5  6  7  8  9 10 11       3  4  5  6  7  8  9\n",
            "15 16 17 18 19 20 21      12 13 14 15 16 17 18      10 11 12 13 14 15 16\n",
            "22 23 24 25 26 27 28      19 20 21 22 23 24 25      17 18 19 20 21 22 23\n",
            "29 30 31                  26 27 28 29 30            24 25 26 27 28 29 30\n",
            "                                                    31\n",
            "\n"
          ]
        }
      ],
      "source": [
        "import calendar\n",
        "from calendar import *\n",
        "\n",
        "year = 2018\n",
        "\n",
        "\n",
        "# display the calendar for year \n",
        "print(calendar(year))"
      ]
    },
    {
      "cell_type": "markdown",
      "metadata": {
        "id": "JV0fPAzBg-La"
      },
      "source": [
        "### Operations on calendar :\n",
        "\n",
        "1. calendar(year, w, l, c) :- This function displays the year, width of characters, no. of lines per week and column separations.\n",
        "\n",
        "2. firstweekday() :- This function returns the first week day number. By default 0 (Monday)."
      ]
    },
    {
      "cell_type": "code",
      "execution_count": null,
      "metadata": {
        "scrolled": false,
        "id": "fXu0TBaug-La",
        "outputId": "0a0048e7-3498-4c62-8621-ff39a321282a",
        "colab": {
          "base_uri": "https://localhost:8080/"
        }
      },
      "outputs": [
        {
          "output_type": "stream",
          "name": "stdout",
          "text": [
            "The calender of year 2012 is : \n",
            "                                   2012\n",
            "\n",
            "      January                    February                    March\n",
            "Mo Tu We Th Fr Sa Su       Mo Tu We Th Fr Sa Su       Mo Tu We Th Fr Sa Su\n",
            "                   1              1  2  3  4  5                 1  2  3  4\n",
            " 2  3  4  5  6  7  8        6  7  8  9 10 11 12        5  6  7  8  9 10 11\n",
            " 9 10 11 12 13 14 15       13 14 15 16 17 18 19       12 13 14 15 16 17 18\n",
            "16 17 18 19 20 21 22       20 21 22 23 24 25 26       19 20 21 22 23 24 25\n",
            "23 24 25 26 27 28 29       27 28 29                   26 27 28 29 30 31\n",
            "30 31\n",
            "\n",
            "       April                       May                        June\n",
            "Mo Tu We Th Fr Sa Su       Mo Tu We Th Fr Sa Su       Mo Tu We Th Fr Sa Su\n",
            "                   1           1  2  3  4  5  6                    1  2  3\n",
            " 2  3  4  5  6  7  8        7  8  9 10 11 12 13        4  5  6  7  8  9 10\n",
            " 9 10 11 12 13 14 15       14 15 16 17 18 19 20       11 12 13 14 15 16 17\n",
            "16 17 18 19 20 21 22       21 22 23 24 25 26 27       18 19 20 21 22 23 24\n",
            "23 24 25 26 27 28 29       28 29 30 31                25 26 27 28 29 30\n",
            "30\n",
            "\n",
            "        July                      August                   September\n",
            "Mo Tu We Th Fr Sa Su       Mo Tu We Th Fr Sa Su       Mo Tu We Th Fr Sa Su\n",
            "                   1              1  2  3  4  5                       1  2\n",
            " 2  3  4  5  6  7  8        6  7  8  9 10 11 12        3  4  5  6  7  8  9\n",
            " 9 10 11 12 13 14 15       13 14 15 16 17 18 19       10 11 12 13 14 15 16\n",
            "16 17 18 19 20 21 22       20 21 22 23 24 25 26       17 18 19 20 21 22 23\n",
            "23 24 25 26 27 28 29       27 28 29 30 31             24 25 26 27 28 29 30\n",
            "30 31\n",
            "\n",
            "      October                    November                   December\n",
            "Mo Tu We Th Fr Sa Su       Mo Tu We Th Fr Sa Su       Mo Tu We Th Fr Sa Su\n",
            " 1  2  3  4  5  6  7                 1  2  3  4                       1  2\n",
            " 8  9 10 11 12 13 14        5  6  7  8  9 10 11        3  4  5  6  7  8  9\n",
            "15 16 17 18 19 20 21       12 13 14 15 16 17 18       10 11 12 13 14 15 16\n",
            "22 23 24 25 26 27 28       19 20 21 22 23 24 25       17 18 19 20 21 22 23\n",
            "29 30 31                   26 27 28 29 30             24 25 26 27 28 29 30\n",
            "                                                      31\n",
            "\n",
            "The starting day number in calendar is : 0\n"
          ]
        }
      ],
      "source": [
        "# Python code to demonstrate the working of\n",
        "# calendar() and firstweeksday()\n",
        " \n",
        "# importing calendar module for calendar operations\n",
        "import calendar\n",
        " \n",
        "# using calender to print calendar of year\n",
        "# prints calendar of 2012\n",
        "print (\"The calender of year 2012 is : \")\n",
        "print (calendar.calendar(2012,1,1,7))\n",
        " \n",
        "#using firstweekday() to print starting day number\n",
        "print (\"The starting day number in calendar is : \",end=\"\")\n",
        "print (calendar.firstweekday())"
      ]
    },
    {
      "cell_type": "markdown",
      "metadata": {
        "id": "zLG_Joexg-La"
      },
      "source": [
        "#### 3. isleap (year) :- This function checks if year mentioned in argument is leap or not.\n",
        "\n",
        "#### 4. leapdays (year1, year2) :- This function returns the number of leap days between the specified years in arguments."
      ]
    },
    {
      "cell_type": "code",
      "execution_count": null,
      "metadata": {
        "id": "hi5ppGrug-La",
        "outputId": "8b2c6c97-1809-4204-91b2-a13a7147c654"
      },
      "outputs": [
        {
          "name": "stdout",
          "output_type": "stream",
          "text": [
            "The year is leap\n",
            "The leap days between 1950 and 2000 are : 12\n"
          ]
        }
      ],
      "source": [
        "# Python code to demonstrate the working of\n",
        "# isleap() and leapdays()\n",
        " \n",
        "# importing calendar module for calendar operations\n",
        "import calendar\n",
        " \n",
        "# using isleap() to check if year is leap or not\n",
        "if (calendar.isleap(2008)):\n",
        "       print (\"The year is leap\")\n",
        "else : print (\"The year is not leap\")\n",
        " \n",
        "#using leapdays() to print leap days between years \n",
        "print (\"The leap days between 1950 and 2000 are : \",end=\"\")\n",
        "print (calendar.leapdays(1950, 2000))\n"
      ]
    },
    {
      "cell_type": "markdown",
      "metadata": {
        "id": "xv0MSLf0g-Lb"
      },
      "source": [
        "#### 5. month (year, month, w, l) :- This function prints the month of a specific year mentioned in arguments. It takes 4 arguments, year, month, width of characters and no. of lines taken by a week."
      ]
    },
    {
      "cell_type": "code",
      "execution_count": null,
      "metadata": {
        "id": "LQq1GzhNg-Lb",
        "outputId": "762892b5-2759-43db-f80d-9a7bd2cb6a48"
      },
      "outputs": [
        {
          "name": "stdout",
          "output_type": "stream",
          "text": [
            "The month 5th of 2016 is :\n",
            "      May 2016\n",
            "Mo Tu We Th Fr Sa Su\n",
            "                   1\n",
            " 2  3  4  5  6  7  8\n",
            " 9 10 11 12 13 14 15\n",
            "16 17 18 19 20 21 22\n",
            "23 24 25 26 27 28 29\n",
            "30 31\n",
            "\n"
          ]
        }
      ],
      "source": [
        "# Python code to demonstrate the working of\n",
        "# month()\n",
        " \n",
        "# importing calendar module for calendar operations\n",
        "import calendar\n",
        " \n",
        "# using month() to display month of specific year\n",
        "print (\"The month 5th of 2016 is :\")\n",
        "print (calendar.month(2016,5,2,1))\n"
      ]
    },
    {
      "cell_type": "code",
      "execution_count": null,
      "metadata": {
        "id": "OBSV9YZkg-Lb",
        "colab": {
          "base_uri": "https://localhost:8080/"
        },
        "outputId": "4ff83ba0-17ae-4874-c34a-229ace5db6c3"
      },
      "outputs": [
        {
          "output_type": "stream",
          "name": "stdout",
          "text": [
            "['haha', 2, ['Now', 4], 5]\n",
            "[1, 2, ['Now', 4], 5]\n"
          ]
        }
      ],
      "source": [
        "lst_1 = [1,2,[3,4],5]\n",
        "\n",
        "lst_2 = lst_1.copy()\n",
        "\n",
        "lst_2[2][0] = 'Now'\n",
        "\n",
        "lst_1[0]='haha'\n",
        "\n",
        "print(lst_1)\n",
        "\n",
        "print(lst_2)"
      ]
    }
  ],
  "metadata": {
    "kernelspec": {
      "display_name": "Python 3",
      "language": "python",
      "name": "python3"
    },
    "language_info": {
      "codemirror_mode": {
        "name": "ipython",
        "version": 3
      },
      "file_extension": ".py",
      "mimetype": "text/x-python",
      "name": "python",
      "nbconvert_exporter": "python",
      "pygments_lexer": "ipython3",
      "version": "3.7.6"
    },
    "toc": {
      "nav_menu": {},
      "number_sections": true,
      "sideBar": true,
      "skip_h1_title": false,
      "title_cell": "Table of Contents",
      "title_sidebar": "Contents",
      "toc_cell": false,
      "toc_position": {},
      "toc_section_display": true,
      "toc_window_display": false
    },
    "varInspector": {
      "cols": {
        "lenName": 16,
        "lenType": 16,
        "lenVar": 40
      },
      "kernels_config": {
        "python": {
          "delete_cmd_postfix": "",
          "delete_cmd_prefix": "del ",
          "library": "var_list.py",
          "varRefreshCmd": "print(var_dic_list())"
        },
        "r": {
          "delete_cmd_postfix": ") ",
          "delete_cmd_prefix": "rm(",
          "library": "var_list.r",
          "varRefreshCmd": "cat(var_dic_list()) "
        }
      },
      "types_to_exclude": [
        "module",
        "function",
        "builtin_function_or_method",
        "instance",
        "_Feature"
      ],
      "window_display": false
    },
    "colab": {
      "name": "modules1.ipynb",
      "provenance": [],
      "collapsed_sections": [
        "QZa9eHVQg-LJ",
        "Pt5EweXvg-LL",
        "9gJ9jNVIg-LM",
        "toEUdI-Yg-LO",
        "Pf7Yb0G_g-LO",
        "IDgCQhvKg-LQ",
        "bKFu9IWlg-LS",
        "4xAZN1jZg-LU",
        "SlngQ9fHg-LU",
        "Za0Lc-w7g-LV",
        "YmyNmQmtg-LW",
        "ezy9Nsn9g-LX",
        "-Vi_KPWig-LX",
        "8_S8lO8Cg-LY",
        "m9uOMfPag-LY",
        "9WHKKJmLg-LZ",
        "JV0fPAzBg-La",
        "zLG_Joexg-La",
        "xv0MSLf0g-Lb"
      ],
      "include_colab_link": true
    }
  },
  "nbformat": 4,
  "nbformat_minor": 0
}