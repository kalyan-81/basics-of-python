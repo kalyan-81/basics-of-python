{
  "nbformat": 4,
  "nbformat_minor": 0,
  "metadata": {
    "colab": {
      "name": "lists and list methods.ipynb",
      "provenance": [],
      "authorship_tag": "ABX9TyPLXTea+qKSPL4NB8bRba+3",
      "include_colab_link": true
    },
    "kernelspec": {
      "name": "python3",
      "display_name": "Python 3"
    },
    "language_info": {
      "name": "python"
    }
  },
  "cells": [
    {
      "cell_type": "markdown",
      "metadata": {
        "id": "view-in-github",
        "colab_type": "text"
      },
      "source": [
        "<a href=\"https://colab.research.google.com/github/kalyan-81/basics-of-python/blob/main/lists_and_list_methods.ipynb\" target=\"_parent\"><img src=\"https://colab.research.google.com/assets/colab-badge.svg\" alt=\"Open In Colab\"/></a>"
      ]
    },
    {
      "cell_type": "markdown",
      "source": [
        "**Lists** are just like dynamically sized arrays. \n",
        "* Lists need not be homogeneous always which makes it the most powerful tool in Python. \n",
        "* A single list may contain DataTypes like Integers, Strings, as well as Objects. \n",
        "* Lists are mutable, and hence, they can be altered even after their creation.\n",
        "\n",
        "* List in Python are ordered and have a definite count. The elements in a list are indexed according to a definite sequence and the indexing of a list is done with 0 being the first index. \n",
        "* Each element in the list has its definite place in the list, which allows duplicating of elements in the list, with each element having its own distinct place."
      ],
      "metadata": {
        "id": "DKgYDAhh7xOk"
      }
    },
    {
      "cell_type": "code",
      "execution_count": null,
      "metadata": {
        "id": "d7fNokQg7oOP"
      },
      "outputs": [],
      "source": [
        "#Create a List:\n",
        "\n",
        "thislist = [\"apple\", \"banana\", \"cherry\"]\n",
        "\n",
        "print(thislist)\n"
      ]
    },
    {
      "cell_type": "code",
      "source": [
        "#String, int and boolean data types:\n",
        "\n",
        "list1 = [\"apple\", \"banana\", \"cherry\"]\n",
        "list2 = [1, 5, 7, 9, 3]\n",
        "list3 = [True, False, False]"
      ],
      "metadata": {
        "id": "epcZWZeJ-ny-"
      },
      "execution_count": null,
      "outputs": []
    },
    {
      "cell_type": "code",
      "source": [
        "#A list with strings, integers and boolean values:\n",
        "\n",
        "list1 = [\"abc\", 34, True, 40, \"male\"]"
      ],
      "metadata": {
        "id": "6qN-93mf-8KC"
      },
      "execution_count": null,
      "outputs": []
    },
    {
      "cell_type": "code",
      "source": [
        "#What is the data type of a list?\n",
        "\n",
        "mylist = [\"apple\", \"banana\", \"cherry\"]\n",
        "print(type(mylist))"
      ],
      "metadata": {
        "id": "hmk97xtX-8Uy"
      },
      "execution_count": null,
      "outputs": []
    },
    {
      "cell_type": "markdown",
      "source": [
        "# **The list() Constructor**\n",
        "It is also possible to use the list() constructor when creating a new list."
      ],
      "metadata": {
        "id": "xBu4MVcN-U3Q"
      }
    },
    {
      "cell_type": "code",
      "source": [
        "#Using the list() constructor to make a List:\n",
        "\n",
        "thislist = list((\"apple\", \"banana\", \"cherry\")) # note the double round-brackets\n",
        "print(thislist)"
      ],
      "metadata": {
        "id": "ub3-eyuk_Zg8"
      },
      "execution_count": null,
      "outputs": []
    },
    {
      "cell_type": "markdown",
      "source": [
        "# **Access Items**\n",
        "List items are indexed and you can access them by referring to the index number:"
      ],
      "metadata": {
        "id": "iNN9djhI_mMx"
      }
    },
    {
      "cell_type": "code",
      "source": [
        "#print the second item of the list:\n",
        "\n",
        "thislist = [\"apple\", \"banana\", \"cherry\"]\n",
        "print(thislist[1])"
      ],
      "metadata": {
        "id": "VOxUvVFh_eJO"
      },
      "execution_count": null,
      "outputs": []
    },
    {
      "cell_type": "markdown",
      "source": [
        "# **Negative Indexing**\n",
        "Negative indexing means start from the end\n",
        "\n",
        "-1 refers to the last item, -2 refers to the second last item etc."
      ],
      "metadata": {
        "id": "JLcd5Iq0ACmb"
      }
    },
    {
      "cell_type": "code",
      "source": [
        "#Print the last item of the list:\n",
        "\n",
        "thislist = [\"apple\", \"banana\", \"cherry\"]\n",
        "print(thislist[-1])"
      ],
      "metadata": {
        "id": "ALfsJGZrAFZK"
      },
      "execution_count": null,
      "outputs": []
    },
    {
      "cell_type": "code",
      "source": [
        "#This example returns the items from \"orange\" (-4) to, but NOT including \"mango\" (-1):\n",
        "\n",
        "thislist = [\"apple\", \"banana\", \"cherry\", \"orange\", \"kiwi\", \"melon\", \"mango\"]\n",
        "print(thislist[-4:-1]"
      ],
      "metadata": {
        "id": "_HYl_AxTApKX"
      },
      "execution_count": null,
      "outputs": []
    },
    {
      "cell_type": "markdown",
      "source": [
        "# **List methods**\n",
        "\n",
        "**append() Method**\n",
        "\n",
        "The append() method appends an element to the end of the list.\n",
        "\n",
        "**Syntax**\n",
        "\n",
        "list.append(elmnt)"
      ],
      "metadata": {
        "id": "YSklRT1YBGiR"
      }
    },
    {
      "cell_type": "code",
      "source": [
        "#Add an element to the fruits list:\n",
        "\n",
        "fruits = ['apple', 'banana', 'cherry']\n",
        "fruits.append(\"orange\")"
      ],
      "metadata": {
        "id": "oHCNOOy6BTnL"
      },
      "execution_count": null,
      "outputs": []
    },
    {
      "cell_type": "code",
      "source": [
        "#Add a list to a list:\n",
        "\n",
        "a = [\"apple\", \"banana\", \"cherry\"]\n",
        "b = [\"Ford\", \"BMW\", \"Volvo\"]\n",
        "a.append(b)"
      ],
      "metadata": {
        "id": "HP33DduzBs7u"
      },
      "execution_count": null,
      "outputs": []
    },
    {
      "cell_type": "code",
      "source": [
        ""
      ],
      "metadata": {
        "id": "buZ4BptbB3RA"
      },
      "execution_count": null,
      "outputs": []
    },
    {
      "cell_type": "markdown",
      "source": [
        "# **extend() Method**\n",
        "\n",
        "The extend() method adds the specified list elements (or any iterable) to the end of the current list.\n",
        "\n",
        "**Syntax**\n",
        "\n",
        "list.extend(iterable)\n",
        "\n",
        "\n"
      ],
      "metadata": {
        "id": "1LTI94WDEuXW"
      }
    },
    {
      "cell_type": "code",
      "source": [
        "#Add a tuple to the fruits list:\n",
        "\n",
        "fruits = ['apple', 'banana', 'cherry']\n",
        "\n",
        "points = (1, 4, 5, 9)\n",
        "\n",
        "fruits.extend(points)"
      ],
      "metadata": {
        "id": "mShhhbcjE66B"
      },
      "execution_count": null,
      "outputs": []
    },
    {
      "cell_type": "code",
      "source": [
        "#Add the elements of cars to the fruits list:\n",
        "\n",
        "fruits = ['apple', 'banana', 'cherry']\n",
        "\n",
        "cars = ['Ford', 'BMW', 'Volvo']\n",
        "\n",
        "fruits.extend(cars)\n"
      ],
      "metadata": {
        "id": "9SZKgZo5FN9S"
      },
      "execution_count": null,
      "outputs": []
    },
    {
      "cell_type": "markdown",
      "source": [
        "# **clear() Method**\n",
        "\n",
        "The **clear()** method removes all the elements from a list.\n",
        "\n",
        "**Syntax**\n",
        "\n",
        "list.clear()"
      ],
      "metadata": {
        "id": "DQPMrI5wBb3f"
      }
    },
    {
      "cell_type": "code",
      "source": [
        "Remove all elements from the fruits list:\n",
        "\n",
        "fruits = ['apple', 'banana', 'cherry', 'orange']\n",
        "\n",
        "fruits.clear()"
      ],
      "metadata": {
        "id": "9KYQD8spCF7K"
      },
      "execution_count": null,
      "outputs": []
    },
    {
      "cell_type": "markdown",
      "source": [
        "# **List copy() Method**\n",
        "\n",
        "The **copy()** method returns a copy of the specified list.\n",
        "\n",
        "**Syntax**\n",
        "\n",
        "list.copy()"
      ],
      "metadata": {
        "id": "1yn2RCnqCO3A"
      }
    },
    {
      "cell_type": "code",
      "source": [
        "#Copy the fruits list:\n",
        "\n",
        "fruits = ['apple', 'banana', 'cherry', 'orange']\n",
        "\n",
        "x = fruits.copy()"
      ],
      "metadata": {
        "id": "kosdnTQ_CnUo"
      },
      "execution_count": null,
      "outputs": []
    },
    {
      "cell_type": "markdown",
      "source": [
        "# **count() Method**\n",
        "\n",
        "The **count() **method returns the number of elements with the specified value.\n",
        "\n",
        "**Syntax**\n",
        "\n",
        "list.count(value)"
      ],
      "metadata": {
        "id": "pazbp5dTCr9e"
      }
    },
    {
      "cell_type": "code",
      "source": [
        "#Return the number of times the value 9 appears int the list:\n",
        "\n",
        "points = [1, 4, 2, 9, 7, 8, 9, 3, 1]\n",
        "\n",
        "x = points.count(9)"
      ],
      "metadata": {
        "id": "Q8_nkZ4hD8QU"
      },
      "execution_count": null,
      "outputs": []
    },
    {
      "cell_type": "markdown",
      "source": [
        "# **index() Method**\n",
        "\n",
        "The **index()** method returns the position at the first occurrence of the specified value.\n",
        "\n",
        "**Syntax**\n",
        "\n",
        "list.index(elmnt)"
      ],
      "metadata": {
        "id": "hqeNpXe1FZ8Z"
      }
    },
    {
      "cell_type": "code",
      "source": [
        "#What is the position of the value \"cherry\":\n",
        "\n",
        "fruits = ['apple', 'banana', 'cherry']\n",
        "\n",
        "x = fruits.index(\"cherry\")"
      ],
      "metadata": {
        "id": "flaE8L2iFk2R"
      },
      "execution_count": null,
      "outputs": []
    },
    {
      "cell_type": "code",
      "source": [
        "#What is the position of the value 32:\n",
        "\n",
        "fruits = [4, 55, 64, 32, 16, 32]\n",
        "\n",
        "x = fruits.index(32)"
      ],
      "metadata": {
        "id": "DK53PJpVFtRs"
      },
      "execution_count": null,
      "outputs": []
    },
    {
      "cell_type": "markdown",
      "source": [
        "# **insert() Method**\n",
        "\n",
        "The insert() method inserts the specified value at the specified position.\n",
        "\n",
        "**Syntax**\n",
        "\n",
        "list.insert(pos, elmnt)"
      ],
      "metadata": {
        "id": "XWUjaoB6GHVr"
      }
    },
    {
      "cell_type": "code",
      "source": [
        "#Insert the value \"orange\" as the second element of the fruit list:\n",
        "\n",
        "fruits = ['apple', 'banana', 'cherry']\n",
        "\n",
        "fruits.insert(1, \"orange\")"
      ],
      "metadata": {
        "id": "y7AmTyVBGMaV"
      },
      "execution_count": null,
      "outputs": []
    },
    {
      "cell_type": "markdown",
      "source": [
        "# **pop() Method**\n",
        "\n",
        "The **pop()** method removes the element at the specified position.\n",
        "\n",
        "**Syntax**\n",
        "\n",
        "list.pop(pos)"
      ],
      "metadata": {
        "id": "te4aufJuGHfZ"
      }
    },
    {
      "cell_type": "code",
      "source": [
        "#Return the removed element:\n",
        "\n",
        "fruits = ['apple', 'banana', 'cherry']\n",
        "\n",
        "x = fruits.pop(1)"
      ],
      "metadata": {
        "id": "nqOLxYhtG7o_"
      },
      "execution_count": null,
      "outputs": []
    },
    {
      "cell_type": "markdown",
      "source": [
        "# **remove() Method**\n",
        "\n",
        "The **remove()** method removes the first occurrence of the element with the specified value.\n",
        "\n",
        "**Syntax**\n",
        "\n",
        "list.remove(elmnt)"
      ],
      "metadata": {
        "id": "JJLmDFAOHXAw"
      }
    },
    {
      "cell_type": "code",
      "source": [
        "#Remove the \"banana\" element of the fruit list:\n",
        "\n",
        "fruits = ['apple', 'banana', 'cherry']\n",
        "\n",
        "fruits.remove(\"banana\")"
      ],
      "metadata": {
        "id": "buCiOubxHFHS"
      },
      "execution_count": null,
      "outputs": []
    },
    {
      "cell_type": "markdown",
      "source": [
        "# **reverse() Method**\n",
        "\n",
        "The **reverse()** method reverses the sorting order of the elements.\n",
        "\n",
        "**Syntax**\n",
        "\n",
        "list.reverse()"
      ],
      "metadata": {
        "id": "2zFHBFb1HueP"
      }
    },
    {
      "cell_type": "code",
      "source": [
        "#Reverse the order of the fruit list:\n",
        "\n",
        "fruits = ['apple', 'banana', 'cherry']\n",
        "\n",
        "fruits.reverse()"
      ],
      "metadata": {
        "id": "iWujARQ0H8Tf"
      },
      "execution_count": null,
      "outputs": []
    },
    {
      "cell_type": "markdown",
      "source": [
        "# **sort() Method**\n",
        "\n",
        "The **sort()** method sorts the list ascending by default.\n",
        "\n",
        "You can also make a function to decide the sorting criteria(s).\n",
        "\n",
        "**Syntax**\n",
        "\n",
        "list.sort(reverse=True|False, key=myFunc)"
      ],
      "metadata": {
        "id": "wANXEjKbIWQ6"
      }
    },
    {
      "cell_type": "code",
      "source": [
        "#Sort the list alphabetically:\n",
        "\n",
        "cars = ['Ford', 'BMW', 'Volvo']\n",
        "\n",
        "cars.sort()"
      ],
      "metadata": {
        "id": "MQ9ghXukIi7Z"
      },
      "execution_count": null,
      "outputs": []
    },
    {
      "cell_type": "code",
      "source": [
        "#Sort the list descending:\n",
        "\n",
        "cars = ['Ford', 'BMW', 'Volvo']\n",
        "\n",
        "cars.sort(reverse=True)"
      ],
      "metadata": {
        "id": "8Fq5i1nOIqP9"
      },
      "execution_count": null,
      "outputs": []
    },
    {
      "cell_type": "code",
      "source": [
        "#Sort the list by the length of the values:\n",
        "\n",
        "# A function that returns the length of the value:\n",
        "def myFunc(e):\n",
        "  return len(e)\n",
        "\n",
        "cars = ['Ford', 'Mitsubishi', 'BMW', 'VW']\n",
        "\n",
        "cars.sort(key=myFunc)"
      ],
      "metadata": {
        "id": "HNM3XObQIzqK"
      },
      "execution_count": null,
      "outputs": []
    },
    {
      "cell_type": "code",
      "source": [
        "#Sort a list of dictionaries based on the \"year\" value of the dictionaries:\n",
        "\n",
        "# A function that returns the 'year' value:\n",
        "def myFunc(e):\n",
        "  return e['year']\n",
        "\n",
        "cars = [\n",
        "  {'car': 'Ford', 'year': 2005},\n",
        "  {'car': 'Mitsubishi', 'year': 2000},\n",
        "  {'car': 'BMW', 'year': 2019},\n",
        "  {'car': 'VW', 'year': 2011}\n",
        "]\n",
        "\n",
        "cars.sort(key=myFunc)"
      ],
      "metadata": {
        "id": "L4Xzio2MI2O9"
      },
      "execution_count": null,
      "outputs": []
    },
    {
      "cell_type": "code",
      "source": [
        "#Sort the list by the length of the values and reversed:\n",
        "\n",
        "# A function that returns the length of the value:\n",
        "def myFunc(e):\n",
        "  return len(e)\n",
        "\n",
        "cars = ['Ford', 'Mitsubishi', 'BMW', 'VW']\n",
        "\n",
        "cars.sort(reverse=True, key=myFunc)"
      ],
      "metadata": {
        "id": "6b0J1_IeI8C_"
      },
      "execution_count": null,
      "outputs": []
    }
  ]
}