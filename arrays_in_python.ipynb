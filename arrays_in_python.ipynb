{
  "nbformat": 4,
  "nbformat_minor": 0,
  "metadata": {
    "colab": {
      "name": "arrays in python.ipynb",
      "provenance": [],
      "collapsed_sections": [],
      "authorship_tag": "ABX9TyPcMKPEzRRTsM+GuDz6h2yV",
      "include_colab_link": true
    },
    "kernelspec": {
      "name": "python3",
      "display_name": "Python 3"
    },
    "language_info": {
      "name": "python"
    }
  },
  "cells": [
    {
      "cell_type": "markdown",
      "metadata": {
        "id": "view-in-github",
        "colab_type": "text"
      },
      "source": [
        "<a href=\"https://colab.research.google.com/github/kalyan-81/basics-of-python/blob/main/arrays_in_python.ipynb\" target=\"_parent\"><img src=\"https://colab.research.google.com/assets/colab-badge.svg\" alt=\"Open In Colab\"/></a>"
      ]
    },
    {
      "cell_type": "markdown",
      "source": [
        "# **what is an array?**\n",
        "An array is an  object that stores a group of elements(or values) if same data type.\n",
        "* Array can store only one type of data. It means, only integer type or float type elements.\n",
        "* Array cannot store one integer, one float, one character type elements into the same array.\n",
        "* Arrays can increase or decrease their size dynamically. It means we need not to mention the size of an array.\n",
        "* when an element is added to the array, it will increase it's size and when an element is removed it will reduces it's size.\n",
        "* methods that are useful to process the elements of any array are available in 'array' module.\n",
        "\n",
        "# difference between arrays and lists\n",
        "* Arrays are similar to lists. But the main difference is that arrays can store only one type of elements. where as lists can store different types of elements.\n",
        "* arrays use  less memory than lists.\n",
        "* Arrays are faster execution than lists.\n",
        "\n"
      ],
      "metadata": {
        "id": "eZ0v3nQ7gwio"
      }
    },
    {
      "cell_type": "markdown",
      "source": [
        "# In python, there is a standard module name **'array'** using this we can create and use arrays\n",
        "\n",
        "# creating an Array\n",
        "**syntax**\n",
        " arrayname=array(type code,[elements])\n",
        " "
      ],
      "metadata": {
        "id": "Ikyc_C-mitOZ"
      }
    },
    {
      "cell_type": "code",
      "execution_count": null,
      "metadata": {
        "colab": {
          "base_uri": "https://localhost:8080/"
        },
        "id": "v3kdvk-PgtpQ",
        "outputId": "9b34165e-a7f0-499e-b548-a929448c9cba"
      },
      "outputs": [
        {
          "output_type": "stream",
          "name": "stdout",
          "text": [
            "array('i', [2, 3, 4, 5, 5])\n",
            "<class 'array.array'>\n"
          ]
        }
      ],
      "source": [
        "import array\n",
        "#type code 'b' for signed integer\n",
        "a=array.array('i',[2,3,4,5,5,])# first array represents module name, second array represents class name\n",
        "print(a)\n",
        "print(type(a))"
      ]
    },
    {
      "cell_type": "code",
      "source": [
        "import array as arr\n",
        "#type code 'b' for signed integer\n",
        "a=arr.array('i',[2,3,4,5,5,])\n",
        "print(a)\n",
        "print(type(a))"
      ],
      "metadata": {
        "colab": {
          "base_uri": "https://localhost:8080/"
        },
        "id": "svWuJhNCwqWJ",
        "outputId": "9de48835-a498-4349-e179-54ce5fbbea8e"
      },
      "execution_count": null,
      "outputs": [
        {
          "output_type": "stream",
          "name": "stdout",
          "text": [
            "array('i', [2, 3, 4, 5, 5])\n",
            "<class 'array.array'>\n"
          ]
        }
      ]
    },
    {
      "cell_type": "code",
      "source": [
        "from array import *\n",
        "#type code 'b' for signed integer\n",
        "a=array('i',[2,3,4,5,5,])# array represents class name\n",
        "print(a)\n",
        "print(type(a))"
      ],
      "metadata": {
        "colab": {
          "base_uri": "https://localhost:8080/"
        },
        "id": "NXm6UMLEwufs",
        "outputId": "99d95575-19d3-4303-f241-94e54c62d0ee"
      },
      "execution_count": null,
      "outputs": [
        {
          "output_type": "stream",
          "name": "stdout",
          "text": [
            "array('i', [2, 3, 4, 5, 5])\n",
            "<class 'array.array'>\n"
          ]
        }
      ]
    },
    {
      "cell_type": "markdown",
      "source": [
        "\n",
        "**b** -- signed integer, size=1\\\n",
        "**B** -- unsigned integer, size =1\\\n",
        "**i** --signed integer, size =2\\\n",
        "**I** --unsigned integer,  size=2\\\n",
        "**l** -- signed integer    size=4\\\n",
        "**L** -- unsigned integer  size=4\\\n",
        "**f** -- floating point   size =4\\\n",
        "**d** -- double precision floating point   size=8\\\n",
        "**u** -- unicode character    size=2\n"
      ],
      "metadata": {
        "id": "RIoZOoCIx-fl"
      }
    },
    {
      "cell_type": "code",
      "source": [
        "from array import *\n",
        "#type code 'b' for signed integer\n",
        "a=array('u',['k','a','l','y','a','n'])# array represents class name\n",
        "print(a)\n",
        "print(type(a))"
      ],
      "metadata": {
        "colab": {
          "base_uri": "https://localhost:8080/"
        },
        "id": "wMwDxF-yzl8a",
        "outputId": "e2823f7c-f4bf-49e8-f37f-6f18947766c5"
      },
      "execution_count": null,
      "outputs": [
        {
          "output_type": "stream",
          "name": "stdout",
          "text": [
            "array('u', 'kalyan')\n",
            "<class 'array.array'>\n"
          ]
        }
      ]
    },
    {
      "cell_type": "code",
      "source": [
        "for i in a:\n",
        "  print(i)"
      ],
      "metadata": {
        "colab": {
          "base_uri": "https://localhost:8080/"
        },
        "id": "gqkhGtV_zy09",
        "outputId": "c60e3358-3d4f-43f2-f77e-f33296d56b91"
      },
      "execution_count": null,
      "outputs": [
        {
          "output_type": "stream",
          "name": "stdout",
          "text": [
            "k\n",
            "a\n",
            "l\n",
            "y\n",
            "a\n",
            "n\n"
          ]
        }
      ]
    },
    {
      "cell_type": "code",
      "source": [
        "#creating one array from another array\n",
        "from array import*\n",
        "arr1=array('d',[1.5,2.5,-3.5])\n",
        "\n",
        "#use the same typecode and muliply each element of arr1 with 3\n",
        "arr2=array(arr1.typecode,(a*3 for a in arr1))\n",
        "\n",
        "for i in arr2:\n",
        "  print(i)"
      ],
      "metadata": {
        "colab": {
          "base_uri": "https://localhost:8080/"
        },
        "id": "rJNaLky_nnG0",
        "outputId": "196a5f8a-090f-4965-e3fd-adf745ce8d7b"
      },
      "execution_count": null,
      "outputs": [
        {
          "output_type": "stream",
          "name": "stdout",
          "text": [
            "4.5\n",
            "7.5\n",
            "-10.5\n"
          ]
        }
      ]
    },
    {
      "cell_type": "markdown",
      "source": [
        "# Indexing and slicing on Arrays\n"
      ],
      "metadata": {
        "id": "GJq00lpMo6Jf"
      }
    },
    {
      "cell_type": "code",
      "source": [
        "x=array('i',[10,20,304,50])\n",
        "print(len(x))\n",
        "print(x[1:3])# slicing"
      ],
      "metadata": {
        "colab": {
          "base_uri": "https://localhost:8080/"
        },
        "id": "TlsPljODo4Vd",
        "outputId": "2772d779-e098-41a4-e8a6-a78eb08429f6"
      },
      "execution_count": null,
      "outputs": [
        {
          "output_type": "stream",
          "name": "stdout",
          "text": [
            "4\n",
            "array('i', [20, 304])\n"
          ]
        }
      ]
    },
    {
      "cell_type": "code",
      "source": [
        "y=x[2:4]# slicing\n",
        "print(y)"
      ],
      "metadata": {
        "colab": {
          "base_uri": "https://localhost:8080/"
        },
        "id": "bw2aH0vGuh7w",
        "outputId": "4ae58310-2d73-4438-bc4a-6de90a4ad69b"
      },
      "execution_count": null,
      "outputs": [
        {
          "output_type": "stream",
          "name": "stdout",
          "text": [
            "array('i', [304, 50])\n"
          ]
        }
      ]
    },
    {
      "cell_type": "code",
      "source": [
        "x1=array('i',[1,2,3,4,5,6,7,8])\n",
        "y=x1[2:7:2]\n",
        "y"
      ],
      "metadata": {
        "colab": {
          "base_uri": "https://localhost:8080/"
        },
        "id": "GOcn2zcEurwV",
        "outputId": "37b4ff68-d3d6-46a3-8056-2155e67644ea"
      },
      "execution_count": null,
      "outputs": [
        {
          "output_type": "execute_result",
          "data": {
            "text/plain": [
              "array('i', [3, 5, 7])"
            ]
          },
          "metadata": {},
          "execution_count": 12
        }
      ]
    },
    {
      "cell_type": "code",
      "source": [
        "#replace the elements of array with slicing\n",
        "x1[1:3]=array('i',[9,10])\n",
        "x1\n"
      ],
      "metadata": {
        "colab": {
          "base_uri": "https://localhost:8080/"
        },
        "id": "ru57mVQ4uzbj",
        "outputId": "b4782c24-e058-4656-ae25-2f518817376a"
      },
      "execution_count": null,
      "outputs": [
        {
          "output_type": "execute_result",
          "data": {
            "text/plain": [
              "array('i', [1, 9, 10, 4, 5, 6, 7, 8])"
            ]
          },
          "metadata": {},
          "execution_count": 15
        }
      ]
    },
    {
      "cell_type": "code",
      "source": [
        "#retrieving using range of elements using slicing and for loop\n",
        "x2=array('i',[10,203,40,50,60,70,80,90])\n",
        "\n",
        "for i in x2[4:6]:\n",
        "  print(i)"
      ],
      "metadata": {
        "colab": {
          "base_uri": "https://localhost:8080/"
        },
        "id": "_Nj2C5I9uzdF",
        "outputId": "775e8f45-a030-46d2-ac01-5a19d65f3b16"
      },
      "execution_count": null,
      "outputs": [
        {
          "output_type": "stream",
          "name": "stdout",
          "text": [
            "60\n",
            "70\n"
          ]
        }
      ]
    },
    {
      "cell_type": "code",
      "source": [
        ""
      ],
      "metadata": {
        "id": "QlfmD0mmuzgZ"
      },
      "execution_count": null,
      "outputs": []
    },
    {
      "cell_type": "markdown",
      "source": [
        "# Array methods\n"
      ],
      "metadata": {
        "id": "M7I8QuFjyQoN"
      }
    },
    {
      "cell_type": "markdown",
      "source": [
        "#1. array.append(x):\n",
        "adds an element x at the end of the existing array."
      ],
      "metadata": {
        "id": "3QWGpPFeynEL"
      }
    },
    {
      "cell_type": "code",
      "source": [
        "from array import*\n",
        "a=array('i',[1,2,3,4,1,2,3,3,4,3])\n",
        "a.append(5)\n",
        "a"
      ],
      "metadata": {
        "colab": {
          "base_uri": "https://localhost:8080/"
        },
        "id": "1WQwOTnbyUj4",
        "outputId": "ddae3acc-1aed-49bc-c617-53dd0e4aae9c"
      },
      "execution_count": null,
      "outputs": [
        {
          "output_type": "execute_result",
          "data": {
            "text/plain": [
              "array('i', [1, 2, 3, 4, 1, 2, 3, 3, 4, 3, 5])"
            ]
          },
          "metadata": {},
          "execution_count": 24
        }
      ]
    },
    {
      "cell_type": "markdown",
      "source": [
        "#2.array.count(x):\n",
        "returns the number of occurrences of element x in the array."
      ],
      "metadata": {
        "id": "LdjHJlr6zG8S"
      }
    },
    {
      "cell_type": "code",
      "source": [
        "a.count(1)"
      ],
      "metadata": {
        "colab": {
          "base_uri": "https://localhost:8080/"
        },
        "id": "3t5qAMvtzVj3",
        "outputId": "505a93cc-e29d-4954-fd6e-fb46b6a7224a"
      },
      "execution_count": null,
      "outputs": [
        {
          "output_type": "execute_result",
          "data": {
            "text/plain": [
              "2"
            ]
          },
          "metadata": {},
          "execution_count": 25
        }
      ]
    },
    {
      "cell_type": "markdown",
      "source": [
        "#3.array.extend():\n",
        "appends x at the end of the array. 'x' can be another array or iterable object."
      ],
      "metadata": {
        "id": "0C_8jSTFzjvL"
      }
    },
    {
      "cell_type": "code",
      "source": [
        "a.extend([90,93,99])#iterable list\n",
        "a"
      ],
      "metadata": {
        "colab": {
          "base_uri": "https://localhost:8080/"
        },
        "id": "jam6GXeKziWR",
        "outputId": "c84c7490-3829-44be-9c44-e73028c1cc5f"
      },
      "execution_count": null,
      "outputs": [
        {
          "output_type": "execute_result",
          "data": {
            "text/plain": [
              "array('i', [1, 2, 3, 4, 1, 2, 3, 3, 4, 3, 5, 90, 93, 99])"
            ]
          },
          "metadata": {},
          "execution_count": 26
        }
      ]
    },
    {
      "cell_type": "code",
      "source": [
        "a.extend((22,23,24))# iterable tuple\n",
        "a"
      ],
      "metadata": {
        "colab": {
          "base_uri": "https://localhost:8080/"
        },
        "id": "58BPHvta0Ar_",
        "outputId": "ae297bf4-bc81-4a5d-ae85-aeed86486922"
      },
      "execution_count": null,
      "outputs": [
        {
          "output_type": "execute_result",
          "data": {
            "text/plain": [
              "array('i', [1, 2, 3, 4, 1, 2, 3, 3, 4, 3, 5, 90, 93, 99, 22, 23, 24])"
            ]
          },
          "metadata": {},
          "execution_count": 27
        }
      ]
    },
    {
      "cell_type": "code",
      "source": [
        "a.extend(45)\n",
        "a"
      ],
      "metadata": {
        "colab": {
          "base_uri": "https://localhost:8080/",
          "height": 190
        },
        "id": "yTepKlMZ0ahP",
        "outputId": "c279ea16-df16-4ceb-c773-9ddc2fdc3073"
      },
      "execution_count": null,
      "outputs": [
        {
          "output_type": "error",
          "ename": "TypeError",
          "evalue": "ignored",
          "traceback": [
            "\u001b[0;31m---------------------------------------------------------------------------\u001b[0m",
            "\u001b[0;31mTypeError\u001b[0m                                 Traceback (most recent call last)",
            "\u001b[0;32m<ipython-input-28-6dd18d87f920>\u001b[0m in \u001b[0;36m<module>\u001b[0;34m()\u001b[0m\n\u001b[0;32m----> 1\u001b[0;31m \u001b[0ma\u001b[0m\u001b[0;34m.\u001b[0m\u001b[0mextend\u001b[0m\u001b[0;34m(\u001b[0m\u001b[0;36m45\u001b[0m\u001b[0;34m)\u001b[0m\u001b[0;34m\u001b[0m\u001b[0;34m\u001b[0m\u001b[0m\n\u001b[0m\u001b[1;32m      2\u001b[0m \u001b[0ma\u001b[0m\u001b[0;34m\u001b[0m\u001b[0;34m\u001b[0m\u001b[0m\n",
            "\u001b[0;31mTypeError\u001b[0m: 'int' object is not iterable"
          ]
        }
      ]
    },
    {
      "cell_type": "markdown",
      "source": [
        "#4.array.fromfile(f,n):\n",
        "reads n items(in binary format) from the file object f and appends to the end of the array.'f' must be a file object. Raises' EOFError' if fewer than in items are read.\n",
        "\n",
        "**this will be explained in files class**"
      ],
      "metadata": {
        "id": "dMWkOqj50gbC"
      }
    },
    {
      "cell_type": "markdown",
      "source": [
        "#5.array.fromlist(lst):\n",
        "Appends items from the lst to the end of the array. 'lst' can be any list or iterable object.\n"
      ],
      "metadata": {
        "id": "jZ3ENTQ5A2mD"
      }
    },
    {
      "cell_type": "code",
      "source": [
        "from array import*\n",
        "arr=array('i',[1,2,3,4,5])\n",
        "arr.fromlist([6,7,8,9])\n",
        "arr\n",
        "\n"
      ],
      "metadata": {
        "colab": {
          "base_uri": "https://localhost:8080/"
        },
        "id": "MpGOGpMl0aJB",
        "outputId": "6284a558-1562-4dd2-9237-9a75dc59975a"
      },
      "execution_count": null,
      "outputs": [
        {
          "output_type": "execute_result",
          "data": {
            "text/plain": [
              "array('i', [1, 2, 3, 4, 5, 6, 7, 8, 9])"
            ]
          },
          "metadata": {},
          "execution_count": 29
        }
      ]
    },
    {
      "cell_type": "markdown",
      "source": [
        "#6.array.fromstring(s):\n",
        "appends items from string 's' to the end of the array."
      ],
      "metadata": {
        "id": "-5ojvs8mBj8r"
      }
    },
    {
      "cell_type": "code",
      "source": [
        ""
      ],
      "metadata": {
        "colab": {
          "base_uri": "https://localhost:8080/",
          "height": 227
        },
        "id": "p9Ms8OZnB2zD",
        "outputId": "e3d9da2c-51c2-4d97-9d81-a66a0072ce39"
      },
      "execution_count": null,
      "outputs": [
        {
          "output_type": "error",
          "ename": "ValueError",
          "evalue": "ignored",
          "traceback": [
            "\u001b[0;31m---------------------------------------------------------------------------\u001b[0m",
            "\u001b[0;31mValueError\u001b[0m                                Traceback (most recent call last)",
            "\u001b[0;32m<ipython-input-36-1291ab3dd0b6>\u001b[0m in \u001b[0;36m<module>\u001b[0;34m()\u001b[0m\n\u001b[1;32m      1\u001b[0m \u001b[0;32mfrom\u001b[0m \u001b[0marray\u001b[0m \u001b[0;32mimport\u001b[0m\u001b[0;34m*\u001b[0m\u001b[0;34m\u001b[0m\u001b[0;34m\u001b[0m\u001b[0m\n\u001b[1;32m      2\u001b[0m \u001b[0marr\u001b[0m\u001b[0;34m=\u001b[0m\u001b[0marray\u001b[0m\u001b[0;34m(\u001b[0m\u001b[0;34m'i'\u001b[0m\u001b[0;34m,\u001b[0m\u001b[0;34m[\u001b[0m\u001b[0;36m2\u001b[0m\u001b[0;34m,\u001b[0m\u001b[0;36m3\u001b[0m\u001b[0;34m,\u001b[0m\u001b[0;36m5\u001b[0m\u001b[0;34m]\u001b[0m\u001b[0;34m)\u001b[0m\u001b[0;34m\u001b[0m\u001b[0;34m\u001b[0m\u001b[0m\n\u001b[0;32m----> 3\u001b[0;31m \u001b[0marr\u001b[0m\u001b[0;34m.\u001b[0m\u001b[0mfromstring\u001b[0m\u001b[0;34m(\u001b[0m\u001b[0;34m'6'\u001b[0m\u001b[0;34m)\u001b[0m\u001b[0;34m\u001b[0m\u001b[0;34m\u001b[0m\u001b[0m\n\u001b[0m\u001b[1;32m      4\u001b[0m \u001b[0marr\u001b[0m\u001b[0;34m\u001b[0m\u001b[0;34m\u001b[0m\u001b[0m\n",
            "\u001b[0;31mValueError\u001b[0m: bytes length not a multiple of item size"
          ]
        }
      ]
    },
    {
      "cell_type": "markdown",
      "source": [
        "#7.array.index(x):\n",
        "returns the position number of the first occurrence of element x in the array.  Raises 'Value Error' if not found."
      ],
      "metadata": {
        "id": "S4vt4XSTDDnW"
      }
    },
    {
      "cell_type": "code",
      "source": [
        "from array import*\n",
        "arr=array('i',[1,2,3,4,5])\n",
        "arr.index(4)"
      ],
      "metadata": {
        "colab": {
          "base_uri": "https://localhost:8080/"
        },
        "id": "sufXROHKDgY2",
        "outputId": "9239c90e-4f9f-4533-e16c-180ea5b25fc2"
      },
      "execution_count": null,
      "outputs": [
        {
          "output_type": "execute_result",
          "data": {
            "text/plain": [
              "3"
            ]
          },
          "metadata": {},
          "execution_count": 37
        }
      ]
    },
    {
      "cell_type": "markdown",
      "source": [
        "#8.array.insert(index,element):\n",
        "inserts the element at the index position in the existed array.\n"
      ],
      "metadata": {
        "id": "xFgryu9pDzon"
      }
    },
    {
      "cell_type": "code",
      "source": [
        "from array import*\n",
        "arr=array('i',[1,2,3,4,5])\n",
        "arr.insert(0,100)# after insert remaining elements shifts to right\n",
        "arr"
      ],
      "metadata": {
        "colab": {
          "base_uri": "https://localhost:8080/"
        },
        "id": "-j3GUpWFEHhU",
        "outputId": "298a242d-0a58-41d8-95df-4c58841466ad"
      },
      "execution_count": null,
      "outputs": [
        {
          "output_type": "execute_result",
          "data": {
            "text/plain": [
              "array('i', [100, 1, 2, 3, 4, 5])"
            ]
          },
          "metadata": {},
          "execution_count": 38
        }
      ]
    },
    {
      "cell_type": "markdown",
      "source": [
        "#9.array.pop(x):\n",
        "removes the last item from the array. x is the index, by default it takes last index."
      ],
      "metadata": {
        "id": "smsDRn5JFJnq"
      }
    },
    {
      "cell_type": "code",
      "source": [
        "from array import*\n",
        "arr=array('i',[1,2,3,4,5])\n",
        "arr.pop()"
      ],
      "metadata": {
        "colab": {
          "base_uri": "https://localhost:8080/"
        },
        "id": "HuA0z1wkETv9",
        "outputId": "ce0f5bba-aace-475b-90a3-29101eb68792"
      },
      "execution_count": null,
      "outputs": [
        {
          "output_type": "execute_result",
          "data": {
            "text/plain": [
              "5"
            ]
          },
          "metadata": {},
          "execution_count": 39
        }
      ]
    },
    {
      "cell_type": "code",
      "source": [
        "arr"
      ],
      "metadata": {
        "colab": {
          "base_uri": "https://localhost:8080/"
        },
        "id": "-iXOQqkzFkcF",
        "outputId": "cba9a775-a325-4671-b5ed-de8556d101e5"
      },
      "execution_count": null,
      "outputs": [
        {
          "output_type": "execute_result",
          "data": {
            "text/plain": [
              "array('i', [1, 2, 3, 4])"
            ]
          },
          "metadata": {},
          "execution_count": 40
        }
      ]
    },
    {
      "cell_type": "code",
      "source": [
        "arr.pop(2)# 2 is the index\n",
        "arr"
      ],
      "metadata": {
        "colab": {
          "base_uri": "https://localhost:8080/"
        },
        "id": "8crAOpCNFlS2",
        "outputId": "e3c5aa49-c448-4bee-8f54-ddd3d7abf77f"
      },
      "execution_count": null,
      "outputs": [
        {
          "output_type": "execute_result",
          "data": {
            "text/plain": [
              "array('i', [1, 2, 4])"
            ]
          },
          "metadata": {},
          "execution_count": 41
        }
      ]
    },
    {
      "cell_type": "code",
      "source": [
        ""
      ],
      "metadata": {
        "id": "DOOhWReqFrAL"
      },
      "execution_count": null,
      "outputs": []
    },
    {
      "cell_type": "markdown",
      "source": [
        "#10 array.remove(x):\n",
        "removes the first occurence of x in the array. Raises 'Value Error' if not found.\n",
        "\n"
      ],
      "metadata": {
        "id": "_qylxC6HGRpM"
      }
    },
    {
      "cell_type": "code",
      "source": [
        "from array import*\n",
        "arr=array('i',[1,2,3,4,5,3,4,5])\n",
        "arr.remove(3)\n",
        "arr"
      ],
      "metadata": {
        "colab": {
          "base_uri": "https://localhost:8080/"
        },
        "id": "ToQGwhh0Gmzv",
        "outputId": "221baf3d-1086-4c7c-d574-1dff90535f6f"
      },
      "execution_count": null,
      "outputs": [
        {
          "output_type": "execute_result",
          "data": {
            "text/plain": [
              "array('i', [1, 2, 4, 5, 3, 4, 5])"
            ]
          },
          "metadata": {},
          "execution_count": 42
        }
      ]
    },
    {
      "cell_type": "code",
      "source": [
        ""
      ],
      "metadata": {
        "id": "fxOIA76VGvEq"
      },
      "execution_count": null,
      "outputs": []
    },
    {
      "cell_type": "markdown",
      "source": [
        "#11. array.reverse()\n",
        "reverses the order of the elements in an array.\n"
      ],
      "metadata": {
        "id": "gDoCVQPCGxeB"
      }
    },
    {
      "cell_type": "code",
      "source": [
        "from array import*\n",
        "arr=array('i',[1,2,3,4,5,3,4,5])\n",
        "arr.reverse()\n",
        "arr"
      ],
      "metadata": {
        "colab": {
          "base_uri": "https://localhost:8080/"
        },
        "id": "BQ0aaWkhG8R_",
        "outputId": "80a8c60d-0c13-41aa-b089-7fe15a933bf0"
      },
      "execution_count": null,
      "outputs": [
        {
          "output_type": "execute_result",
          "data": {
            "text/plain": [
              "array('i', [5, 4, 3, 5, 4, 3, 2, 1])"
            ]
          },
          "metadata": {},
          "execution_count": 44
        }
      ]
    },
    {
      "cell_type": "markdown",
      "source": [
        "#12 array.tofile(f)\n",
        "writes all elements to the file f.\n",
        "\n",
        "\n",
        "\n"
      ],
      "metadata": {
        "id": "5M6jlS6cHDYY"
      }
    },
    {
      "cell_type": "code",
      "source": [
        "#example"
      ],
      "metadata": {
        "id": "k-2RHTuyG-V8"
      },
      "execution_count": null,
      "outputs": []
    },
    {
      "cell_type": "markdown",
      "source": [
        ""
      ],
      "metadata": {
        "id": "GBR1mZJCHilU"
      }
    },
    {
      "cell_type": "markdown",
      "source": [
        "#13 array.tolist()\n",
        "converts the array into list\n"
      ],
      "metadata": {
        "id": "N-5CP3pSHinm"
      }
    },
    {
      "cell_type": "code",
      "source": [
        "from array import*\n",
        "arr=array('i',[1,2,3,4,5,3,4,5])\n",
        "arr.tolist()"
      ],
      "metadata": {
        "colab": {
          "base_uri": "https://localhost:8080/"
        },
        "id": "FSMWB8wGHhSy",
        "outputId": "8ed43559-93f0-4058-fbe2-b40fa1707431"
      },
      "execution_count": null,
      "outputs": [
        {
          "output_type": "execute_result",
          "data": {
            "text/plain": [
              "[1, 2, 3, 4, 5, 3, 4, 5]"
            ]
          },
          "metadata": {},
          "execution_count": 46
        }
      ]
    },
    {
      "cell_type": "markdown",
      "source": [
        "#14. array.tostring()\n",
        "converts the array into a string."
      ],
      "metadata": {
        "id": "EOA8XCuJHzog"
      }
    },
    {
      "cell_type": "code",
      "source": [
        "from array import*\n",
        "arr=array('i',[1,2,3,4,5,3,4,5])\n",
        "arr.tostring()"
      ],
      "metadata": {
        "colab": {
          "base_uri": "https://localhost:8080/"
        },
        "id": "68k8j4g6Huzn",
        "outputId": "1d373038-709e-41a2-c916-18f8655891c6"
      },
      "execution_count": null,
      "outputs": [
        {
          "output_type": "execute_result",
          "data": {
            "text/plain": [
              "b'\\x01\\x00\\x00\\x00\\x02\\x00\\x00\\x00\\x03\\x00\\x00\\x00\\x04\\x00\\x00\\x00\\x05\\x00\\x00\\x00\\x03\\x00\\x00\\x00\\x04\\x00\\x00\\x00\\x05\\x00\\x00\\x00'"
            ]
          },
          "metadata": {},
          "execution_count": 56
        }
      ]
    },
    {
      "cell_type": "code",
      "source": [
        "arr.typecode # returns the type code character used to create the array "
      ],
      "metadata": {
        "colab": {
          "base_uri": "https://localhost:8080/",
          "height": 36
        },
        "id": "qom5idWGIC5w",
        "outputId": "3dadbecb-b2e1-4c5a-c7dd-8856e202cb11"
      },
      "execution_count": null,
      "outputs": [
        {
          "output_type": "execute_result",
          "data": {
            "application/vnd.google.colaboratory.intrinsic+json": {
              "type": "string"
            },
            "text/plain": [
              "'i'"
            ]
          },
          "metadata": {},
          "execution_count": 57
        }
      ]
    },
    {
      "cell_type": "code",
      "source": [
        "arr.itemsize #returns size of the items stored in the array in bytes"
      ],
      "metadata": {
        "colab": {
          "base_uri": "https://localhost:8080/"
        },
        "id": "zFU9HJS_I5Z1",
        "outputId": "35f34ef8-6769-42a6-8324-45d6c096875f"
      },
      "execution_count": null,
      "outputs": [
        {
          "output_type": "execute_result",
          "data": {
            "text/plain": [
              "4"
            ]
          },
          "metadata": {},
          "execution_count": 58
        }
      ]
    },
    {
      "cell_type": "markdown",
      "source": [
        "# write python program to store the marks into array and find the total marks and average marks"
      ],
      "metadata": {
        "id": "U0gvJtOaDgMI"
      }
    },
    {
      "cell_type": "code",
      "source": [
        "marks_list=[int(i) for i in input('enter the marks:').split()]\n",
        "marks_list"
      ],
      "metadata": {
        "colab": {
          "base_uri": "https://localhost:8080/"
        },
        "id": "lZXfqBY5D2SZ",
        "outputId": "c47334f3-166a-4693-b52b-4a1a28f0a902"
      },
      "execution_count": null,
      "outputs": [
        {
          "name": "stdout",
          "output_type": "stream",
          "text": [
            "enter the marks:10 20 30 40 50 60 70 80 90\n"
          ]
        },
        {
          "output_type": "execute_result",
          "data": {
            "text/plain": [
              "[10, 20, 30, 40, 50, 60, 70, 80, 90]"
            ]
          },
          "metadata": {},
          "execution_count": 1
        }
      ]
    },
    {
      "cell_type": "code",
      "source": [
        "from array import*\n",
        "arr=array('i',marks_list)\n",
        "arr"
      ],
      "metadata": {
        "colab": {
          "base_uri": "https://localhost:8080/"
        },
        "id": "WPlCJJDFEhKm",
        "outputId": "ec7f4a06-4d4c-41b8-9f10-79cbd9fabd2b"
      },
      "execution_count": null,
      "outputs": [
        {
          "output_type": "execute_result",
          "data": {
            "text/plain": [
              "array('i', [10, 20, 30, 40, 50, 60, 70, 80, 90])"
            ]
          },
          "metadata": {},
          "execution_count": 2
        }
      ]
    },
    {
      "cell_type": "code",
      "source": [
        "sum=0\n",
        "for i in arr:\n",
        "  sum+=i\n",
        "\n",
        "sum"
      ],
      "metadata": {
        "colab": {
          "base_uri": "https://localhost:8080/"
        },
        "id": "q-1boazIEr0S",
        "outputId": "e704f9c3-7aad-42ca-a651-9afbe21ea02d"
      },
      "execution_count": null,
      "outputs": [
        {
          "output_type": "execute_result",
          "data": {
            "text/plain": [
              "450"
            ]
          },
          "metadata": {},
          "execution_count": 3
        }
      ]
    },
    {
      "cell_type": "code",
      "source": [
        "average=sum/len(arr)\n",
        "average"
      ],
      "metadata": {
        "colab": {
          "base_uri": "https://localhost:8080/"
        },
        "id": "LgjKRrf-E3Wm",
        "outputId": "64bcf648-acc1-4241-b36f-321425b52940"
      },
      "execution_count": null,
      "outputs": [
        {
          "output_type": "execute_result",
          "data": {
            "text/plain": [
              "50.0"
            ]
          },
          "metadata": {},
          "execution_count": 4
        }
      ]
    },
    {
      "cell_type": "markdown",
      "source": [
        "#write the program to sort the array using bubble sort algorithm"
      ],
      "metadata": {
        "id": "fZ8oTvLzFQC_"
      }
    },
    {
      "cell_type": "code",
      "source": [
        "from array import *\n",
        "x=array('i',[])\n",
        "n=int(input('enter the number of elements:'))\n",
        "for i in range(n):\n",
        "  ele=int(input('enter the element'))\n",
        "  x.append(ele)\n",
        "\n",
        "print('original array',x)"
      ],
      "metadata": {
        "colab": {
          "base_uri": "https://localhost:8080/"
        },
        "id": "11_wd_dAGCRf",
        "outputId": "3f8403a3-f840-4a90-e910-7e497ff2b5c8"
      },
      "execution_count": null,
      "outputs": [
        {
          "output_type": "stream",
          "name": "stdout",
          "text": [
            "enter the number of elements:10\n",
            "enter the element9\n",
            "enter the element8\n",
            "enter the element7\n",
            "enter the element7\n",
            "enter the element5\n",
            "enter the element4\n",
            "enter the element6\n",
            "enter the element3\n",
            "enter the element2\n",
            "enter the element1\n",
            "original array array('i', [9, 8, 7, 7, 5, 4, 6, 3, 2, 1])\n"
          ]
        }
      ]
    },
    {
      "cell_type": "code",
      "source": [
        "#bubble sort code\n",
        "x=array('i', [9, 8, 7, 7, 5, 4, 6, 3, 2, 1])\n",
        "for i in range(n-1):\n",
        "  for j in range(n-1-i):\n",
        "    if x[j]>x[j+1]:\n",
        "      x[j],x[j+1]=x[j+1],x[j] #swapping\n",
        "    print('inner loop ',j,'iteration',x)\n",
        "  print('---------------------------')\n",
        "  print('outer loop',i,'iteration',x)\n",
        "  \n",
        "\n",
        "print('sorted array',x)\n"
      ],
      "metadata": {
        "colab": {
          "base_uri": "https://localhost:8080/"
        },
        "id": "voldbAFnIyHf",
        "outputId": "2ae64dc0-05ff-41eb-8efd-7dce47a48f08"
      },
      "execution_count": null,
      "outputs": [
        {
          "output_type": "stream",
          "name": "stdout",
          "text": [
            "inner loop  0 iteration array('i', [8, 9, 7, 7, 5, 4, 6, 3, 2, 1])\n",
            "inner loop  1 iteration array('i', [8, 7, 9, 7, 5, 4, 6, 3, 2, 1])\n",
            "inner loop  2 iteration array('i', [8, 7, 7, 9, 5, 4, 6, 3, 2, 1])\n",
            "inner loop  3 iteration array('i', [8, 7, 7, 5, 9, 4, 6, 3, 2, 1])\n",
            "inner loop  4 iteration array('i', [8, 7, 7, 5, 4, 9, 6, 3, 2, 1])\n",
            "inner loop  5 iteration array('i', [8, 7, 7, 5, 4, 6, 9, 3, 2, 1])\n",
            "inner loop  6 iteration array('i', [8, 7, 7, 5, 4, 6, 3, 9, 2, 1])\n",
            "inner loop  7 iteration array('i', [8, 7, 7, 5, 4, 6, 3, 2, 9, 1])\n",
            "inner loop  8 iteration array('i', [8, 7, 7, 5, 4, 6, 3, 2, 1, 9])\n",
            "---------------------------\n",
            "outer loop 0 iteration array('i', [8, 7, 7, 5, 4, 6, 3, 2, 1, 9])\n",
            "inner loop  0 iteration array('i', [7, 8, 7, 5, 4, 6, 3, 2, 1, 9])\n",
            "inner loop  1 iteration array('i', [7, 7, 8, 5, 4, 6, 3, 2, 1, 9])\n",
            "inner loop  2 iteration array('i', [7, 7, 5, 8, 4, 6, 3, 2, 1, 9])\n",
            "inner loop  3 iteration array('i', [7, 7, 5, 4, 8, 6, 3, 2, 1, 9])\n",
            "inner loop  4 iteration array('i', [7, 7, 5, 4, 6, 8, 3, 2, 1, 9])\n",
            "inner loop  5 iteration array('i', [7, 7, 5, 4, 6, 3, 8, 2, 1, 9])\n",
            "inner loop  6 iteration array('i', [7, 7, 5, 4, 6, 3, 2, 8, 1, 9])\n",
            "inner loop  7 iteration array('i', [7, 7, 5, 4, 6, 3, 2, 1, 8, 9])\n",
            "---------------------------\n",
            "outer loop 1 iteration array('i', [7, 7, 5, 4, 6, 3, 2, 1, 8, 9])\n",
            "inner loop  0 iteration array('i', [7, 7, 5, 4, 6, 3, 2, 1, 8, 9])\n",
            "inner loop  1 iteration array('i', [7, 5, 7, 4, 6, 3, 2, 1, 8, 9])\n",
            "inner loop  2 iteration array('i', [7, 5, 4, 7, 6, 3, 2, 1, 8, 9])\n",
            "inner loop  3 iteration array('i', [7, 5, 4, 6, 7, 3, 2, 1, 8, 9])\n",
            "inner loop  4 iteration array('i', [7, 5, 4, 6, 3, 7, 2, 1, 8, 9])\n",
            "inner loop  5 iteration array('i', [7, 5, 4, 6, 3, 2, 7, 1, 8, 9])\n",
            "inner loop  6 iteration array('i', [7, 5, 4, 6, 3, 2, 1, 7, 8, 9])\n",
            "---------------------------\n",
            "outer loop 2 iteration array('i', [7, 5, 4, 6, 3, 2, 1, 7, 8, 9])\n",
            "inner loop  0 iteration array('i', [5, 7, 4, 6, 3, 2, 1, 7, 8, 9])\n",
            "inner loop  1 iteration array('i', [5, 4, 7, 6, 3, 2, 1, 7, 8, 9])\n",
            "inner loop  2 iteration array('i', [5, 4, 6, 7, 3, 2, 1, 7, 8, 9])\n",
            "inner loop  3 iteration array('i', [5, 4, 6, 3, 7, 2, 1, 7, 8, 9])\n",
            "inner loop  4 iteration array('i', [5, 4, 6, 3, 2, 7, 1, 7, 8, 9])\n",
            "inner loop  5 iteration array('i', [5, 4, 6, 3, 2, 1, 7, 7, 8, 9])\n",
            "---------------------------\n",
            "outer loop 3 iteration array('i', [5, 4, 6, 3, 2, 1, 7, 7, 8, 9])\n",
            "inner loop  0 iteration array('i', [4, 5, 6, 3, 2, 1, 7, 7, 8, 9])\n",
            "inner loop  1 iteration array('i', [4, 5, 6, 3, 2, 1, 7, 7, 8, 9])\n",
            "inner loop  2 iteration array('i', [4, 5, 3, 6, 2, 1, 7, 7, 8, 9])\n",
            "inner loop  3 iteration array('i', [4, 5, 3, 2, 6, 1, 7, 7, 8, 9])\n",
            "inner loop  4 iteration array('i', [4, 5, 3, 2, 1, 6, 7, 7, 8, 9])\n",
            "---------------------------\n",
            "outer loop 4 iteration array('i', [4, 5, 3, 2, 1, 6, 7, 7, 8, 9])\n",
            "inner loop  0 iteration array('i', [4, 5, 3, 2, 1, 6, 7, 7, 8, 9])\n",
            "inner loop  1 iteration array('i', [4, 3, 5, 2, 1, 6, 7, 7, 8, 9])\n",
            "inner loop  2 iteration array('i', [4, 3, 2, 5, 1, 6, 7, 7, 8, 9])\n",
            "inner loop  3 iteration array('i', [4, 3, 2, 1, 5, 6, 7, 7, 8, 9])\n",
            "---------------------------\n",
            "outer loop 5 iteration array('i', [4, 3, 2, 1, 5, 6, 7, 7, 8, 9])\n",
            "inner loop  0 iteration array('i', [3, 4, 2, 1, 5, 6, 7, 7, 8, 9])\n",
            "inner loop  1 iteration array('i', [3, 2, 4, 1, 5, 6, 7, 7, 8, 9])\n",
            "inner loop  2 iteration array('i', [3, 2, 1, 4, 5, 6, 7, 7, 8, 9])\n",
            "---------------------------\n",
            "outer loop 6 iteration array('i', [3, 2, 1, 4, 5, 6, 7, 7, 8, 9])\n",
            "inner loop  0 iteration array('i', [2, 3, 1, 4, 5, 6, 7, 7, 8, 9])\n",
            "inner loop  1 iteration array('i', [2, 1, 3, 4, 5, 6, 7, 7, 8, 9])\n",
            "---------------------------\n",
            "outer loop 7 iteration array('i', [2, 1, 3, 4, 5, 6, 7, 7, 8, 9])\n",
            "inner loop  0 iteration array('i', [1, 2, 3, 4, 5, 6, 7, 7, 8, 9])\n",
            "---------------------------\n",
            "outer loop 8 iteration array('i', [1, 2, 3, 4, 5, 6, 7, 7, 8, 9])\n",
            "sorted array array('i', [1, 2, 3, 4, 5, 6, 7, 7, 8, 9])\n"
          ]
        }
      ]
    },
    {
      "cell_type": "markdown",
      "source": [
        "# write a program to search the position of number in array\n"
      ],
      "metadata": {
        "id": "rKPKomHwUN8A"
      }
    },
    {
      "cell_type": "code",
      "source": [
        "x=array('i', [9, 8, 7, 7, 5, 4, 6, 3, 2, 1])\n",
        "#search for the posion of 4\n",
        "for i in range(len(x)):\n",
        "  if x[i]==4:\n",
        "    print('find at position',i+1)\n"
      ],
      "metadata": {
        "colab": {
          "base_uri": "https://localhost:8080/"
        },
        "id": "I8BRqM-yUdls",
        "outputId": "d0f01916-0517-4990-9baa-a242b90e48bb"
      },
      "execution_count": null,
      "outputs": [
        {
          "output_type": "stream",
          "name": "stdout",
          "text": [
            "find at position 6\n"
          ]
        }
      ]
    },
    {
      "cell_type": "code",
      "source": [
        "#using index method\n",
        "x=array('i', [9, 8, 7, 7, 5, 4, 6, 3, 2, 1])\n",
        "#search for the posion of 4\n",
        "pos=x.index(4)\n",
        "print('find at position',pos+1)"
      ],
      "metadata": {
        "colab": {
          "base_uri": "https://localhost:8080/"
        },
        "id": "SQcaShncU-zt",
        "outputId": "dc4898f2-583d-4c6b-8203-c8b85964516b"
      },
      "execution_count": null,
      "outputs": [
        {
          "output_type": "stream",
          "name": "stdout",
          "text": [
            "find at position 6\n"
          ]
        }
      ]
    },
    {
      "cell_type": "markdown",
      "source": [
        "# Types of Arrays\n",
        "* single dimensional\n",
        "* multi dimensional"
      ],
      "metadata": {
        "id": "1f0vBWrMVSpn"
      }
    },
    {
      "cell_type": "code",
      "source": [
        "#example for single or one dimensional array\n",
        "#marks of 5 subjects can be written as one dimensional array for one student\n",
        "from array import*\n",
        "marks=array('i',[50,56,78,97,55])\n",
        "print(marks)\n",
        "print(type(marks))\n"
      ],
      "metadata": {
        "colab": {
          "base_uri": "https://localhost:8080/"
        },
        "id": "jz-B9GHpYJDr",
        "outputId": "d88afcad-a61c-4570-9817-5e827d2f3299"
      },
      "execution_count": null,
      "outputs": [
        {
          "output_type": "stream",
          "name": "stdout",
          "text": [
            "array('i', [50, 56, 78, 97, 55])\n",
            "<class 'array.array'>\n"
          ]
        }
      ]
    },
    {
      "cell_type": "code",
      "source": [
        "#example for multi-dimensional array\n",
        "#multi dimesional arrays are combination of one dimensional arrays\n",
        "marks=array('i',[[20,30,40,50,60],\n",
        "                 [90,80,70,60,50],\n",
        "                 [86,67,53,56,45]]) #marks of 3 students\n",
        "marks"
      ],
      "metadata": {
        "colab": {
          "base_uri": "https://localhost:8080/",
          "height": 227
        },
        "id": "7jf3RznvYm10",
        "outputId": "f2a9752c-fe56-4521-8185-debeb031c6af"
      },
      "execution_count": null,
      "outputs": [
        {
          "output_type": "error",
          "ename": "TypeError",
          "evalue": "ignored",
          "traceback": [
            "\u001b[0;31m---------------------------------------------------------------------------\u001b[0m",
            "\u001b[0;31mTypeError\u001b[0m                                 Traceback (most recent call last)",
            "\u001b[0;32m<ipython-input-33-af63c0a3c28e>\u001b[0m in \u001b[0;36m<module>\u001b[0;34m()\u001b[0m\n\u001b[1;32m      3\u001b[0m marks=array('i',[[20,30,40,50,60],\n\u001b[1;32m      4\u001b[0m                  \u001b[0;34m[\u001b[0m\u001b[0;36m90\u001b[0m\u001b[0;34m,\u001b[0m\u001b[0;36m80\u001b[0m\u001b[0;34m,\u001b[0m\u001b[0;36m70\u001b[0m\u001b[0;34m,\u001b[0m\u001b[0;36m60\u001b[0m\u001b[0;34m,\u001b[0m\u001b[0;36m50\u001b[0m\u001b[0;34m]\u001b[0m\u001b[0;34m,\u001b[0m\u001b[0;34m\u001b[0m\u001b[0;34m\u001b[0m\u001b[0m\n\u001b[0;32m----> 5\u001b[0;31m                  [86,67,53,56,45]]) #marks of 3 students\n\u001b[0m\u001b[1;32m      6\u001b[0m \u001b[0mmarks\u001b[0m\u001b[0;34m\u001b[0m\u001b[0;34m\u001b[0m\u001b[0m\n",
            "\u001b[0;31mTypeError\u001b[0m: an integer is required (got type list)"
          ]
        }
      ]
    },
    {
      "cell_type": "markdown",
      "source": [
        "# Python does not support multidimensional arrays\n",
        "# But we can construct multidimensional arrays using third party packages **Numpy**\n"
      ],
      "metadata": {
        "id": "UQCB6gAzaHM8"
      }
    },
    {
      "cell_type": "code",
      "source": [
        "import numpy\n",
        "arr=numpy.array([10,20,30,40,50,60])\n",
        "print(arr)\n",
        "print(type(arr))"
      ],
      "metadata": {
        "colab": {
          "base_uri": "https://localhost:8080/"
        },
        "id": "Ow41FRb8ajd8",
        "outputId": "f34ae79a-0824-4f13-ae0d-ee63426c13e4"
      },
      "execution_count": null,
      "outputs": [
        {
          "output_type": "stream",
          "name": "stdout",
          "text": [
            "[10 20 30 40 50 60]\n",
            "<class 'numpy.ndarray'>\n"
          ]
        }
      ]
    },
    {
      "cell_type": "code",
      "source": [
        "import numpy as np\n",
        "arr=np.array([10,20,30,40,50,60])\n",
        "print(arr)\n",
        "print(type(arr))"
      ],
      "metadata": {
        "colab": {
          "base_uri": "https://localhost:8080/"
        },
        "id": "kXQ-OLG7cKmA",
        "outputId": "26a11363-096f-47b6-b436-36f1832763c9"
      },
      "execution_count": null,
      "outputs": [
        {
          "output_type": "stream",
          "name": "stdout",
          "text": [
            "[10 20 30 40 50 60]\n",
            "<class 'numpy.ndarray'>\n"
          ]
        }
      ]
    },
    {
      "cell_type": "code",
      "source": [
        "from numpy import *\n",
        "arr=array([20,30,40,50,60])\n",
        "print((arr))\n",
        "print(type(arr))"
      ],
      "metadata": {
        "colab": {
          "base_uri": "https://localhost:8080/"
        },
        "id": "ZBnoYl2TcQ01",
        "outputId": "7ddb5661-9b27-44f4-dd13-de337bedbf50"
      },
      "execution_count": null,
      "outputs": [
        {
          "output_type": "stream",
          "name": "stdout",
          "text": [
            "[20 30 40 50 60]\n",
            "<class 'numpy.ndarray'>\n"
          ]
        }
      ]
    },
    {
      "cell_type": "markdown",
      "source": [
        "#creation of arrays using numpy functions\n",
        "* using array() functions\n",
        "* using linspace() functions\n",
        "* using logspace() functions\n",
        "* using arange() functions\n",
        "* using zeros() and ones() functions "
      ],
      "metadata": {
        "id": "2wT_Znbtdru3"
      }
    },
    {
      "cell_type": "markdown",
      "source": [
        "# using array()"
      ],
      "metadata": {
        "id": "pRjVEdzme7k3"
      }
    },
    {
      "cell_type": "code",
      "source": [
        "# array()\n",
        "from numpy import *\n",
        "arr=array(['k','a','l','y','a','n'])\n",
        "print(arr)"
      ],
      "metadata": {
        "colab": {
          "base_uri": "https://localhost:8080/"
        },
        "id": "2tz0dpqveMSQ",
        "outputId": "e76ef2d6-03cd-4858-ed2f-8942363ae7c4"
      },
      "execution_count": null,
      "outputs": [
        {
          "output_type": "stream",
          "name": "stdout",
          "text": [
            "['k' 'a' 'l' 'y' 'a' 'n']\n"
          ]
        }
      ]
    },
    {
      "cell_type": "markdown",
      "source": [
        "# using linspace()\n",
        "the linspace() function is used to create an array with evenly spaced points between a starting point and ending point. \n",
        "* syntax\\\n",
        "linspace(start,stop,n)\\\n",
        "start...starting element\\\n",
        "stop....ending element\\\n",
        "n.....number of parts the elements should be divided\n"
      ],
      "metadata": {
        "id": "6yCEJxibe6Rv"
      }
    },
    {
      "cell_type": "code",
      "source": [
        "#linspace()\n",
        "from numpy import *\n",
        "arr=linspace(0,10,5)\n",
        "print(arr)"
      ],
      "metadata": {
        "colab": {
          "base_uri": "https://localhost:8080/"
        },
        "id": "ikjOUs74ejDL",
        "outputId": "b754cd20-c7e5-41e9-ece6-4cb43d42403d"
      },
      "execution_count": null,
      "outputs": [
        {
          "output_type": "stream",
          "name": "stdout",
          "text": [
            "[ 0.   2.5  5.   7.5 10. ]\n"
          ]
        }
      ]
    },
    {
      "cell_type": "code",
      "source": [
        "#linspace()\n",
        "from numpy import *\n",
        "arr=linspace(0,100,5)\n",
        "print(arr)"
      ],
      "metadata": {
        "colab": {
          "base_uri": "https://localhost:8080/"
        },
        "id": "pPAvlE-YgHpu",
        "outputId": "06e19607-4fa2-4cdb-b4ac-7421dbcbd3c9"
      },
      "execution_count": null,
      "outputs": [
        {
          "output_type": "stream",
          "name": "stdout",
          "text": [
            "[  0.  25.  50.  75. 100.]\n"
          ]
        }
      ]
    },
    {
      "cell_type": "markdown",
      "source": [
        "# using logspace()\n",
        "produces evenly spaced points on a logarithmically spaced scale.\n",
        "\n",
        "* syntax is similar to linspace()"
      ],
      "metadata": {
        "id": "oFruHyx9hJuT"
      }
    },
    {
      "cell_type": "code",
      "source": [
        "from numpy import*\n",
        "arr=logspace(1,4,5) # this represent the values 10^1 to 10^4 and divided into 5 equal points and stored in arr\n",
        "print(arr)"
      ],
      "metadata": {
        "colab": {
          "base_uri": "https://localhost:8080/"
        },
        "id": "I1hTiWR1hj1_",
        "outputId": "d1b76fdc-6ce4-4031-a947-75466a880a96"
      },
      "execution_count": null,
      "outputs": [
        {
          "output_type": "stream",
          "name": "stdout",
          "text": [
            "[   10.            56.23413252   316.22776602  1778.27941004\n",
            " 10000.        ]\n"
          ]
        }
      ]
    },
    {
      "cell_type": "markdown",
      "source": [
        "# using arange()\n",
        "arange() function in numpy is same as range() function in python."
      ],
      "metadata": {
        "id": "O58PGvMY7I9i"
      }
    },
    {
      "cell_type": "code",
      "source": [
        "from numpy import*\n",
        "arange(10)"
      ],
      "metadata": {
        "colab": {
          "base_uri": "https://localhost:8080/"
        },
        "id": "0EwVN-re64lv",
        "outputId": "56e672df-b870-4a06-c5e3-2067aca66910"
      },
      "execution_count": null,
      "outputs": [
        {
          "output_type": "execute_result",
          "data": {
            "text/plain": [
              "array([0, 1, 2, 3, 4, 5, 6, 7, 8, 9])"
            ]
          },
          "metadata": {},
          "execution_count": 2
        }
      ]
    },
    {
      "cell_type": "code",
      "source": [
        "arange(5,10)"
      ],
      "metadata": {
        "colab": {
          "base_uri": "https://localhost:8080/"
        },
        "id": "jgwQzwGt7gaU",
        "outputId": "e16ddf93-2443-44b1-a57c-cfbdbe8b5ba3"
      },
      "execution_count": null,
      "outputs": [
        {
          "output_type": "execute_result",
          "data": {
            "text/plain": [
              "array([5, 6, 7, 8, 9])"
            ]
          },
          "metadata": {},
          "execution_count": 3
        }
      ]
    },
    {
      "cell_type": "code",
      "source": [
        "arange(1,10,3)"
      ],
      "metadata": {
        "colab": {
          "base_uri": "https://localhost:8080/"
        },
        "id": "NYbScsZx7kEi",
        "outputId": "07f117e5-7ec5-4fbf-b5d7-34719bb9bff8"
      },
      "execution_count": null,
      "outputs": [
        {
          "output_type": "execute_result",
          "data": {
            "text/plain": [
              "array([1, 4, 7])"
            ]
          },
          "metadata": {},
          "execution_count": 4
        }
      ]
    },
    {
      "cell_type": "code",
      "source": [
        "arange(10,0,-1)"
      ],
      "metadata": {
        "colab": {
          "base_uri": "https://localhost:8080/"
        },
        "id": "Y52gDs7E7vG3",
        "outputId": "d1e23095-ccfd-40ab-8a22-892fc546118a"
      },
      "execution_count": null,
      "outputs": [
        {
          "output_type": "execute_result",
          "data": {
            "text/plain": [
              "array([10,  9,  8,  7,  6,  5,  4,  3,  2,  1])"
            ]
          },
          "metadata": {},
          "execution_count": 7
        }
      ]
    },
    {
      "cell_type": "code",
      "source": [
        "#create an array with even numbers upto 10\n",
        "from numpy import *\n",
        "even=arange(2,11,2)\n",
        "print(even)"
      ],
      "metadata": {
        "colab": {
          "base_uri": "https://localhost:8080/"
        },
        "id": "xgAl6wdB8MMp",
        "outputId": "51ba4a86-5702-4f3a-d067-f02b1072bf5c"
      },
      "execution_count": null,
      "outputs": [
        {
          "output_type": "stream",
          "name": "stdout",
          "text": [
            "[ 2  4  6  8 10]\n"
          ]
        }
      ]
    },
    {
      "cell_type": "code",
      "source": [
        "#create an array with odd numbers upto 20\n",
        "from numpy import *\n",
        "odd=arange(1,21,2)\n",
        "print(odd)"
      ],
      "metadata": {
        "colab": {
          "base_uri": "https://localhost:8080/"
        },
        "id": "F2KceM0V8hsy",
        "outputId": "611bfd57-c0d1-48b2-e7a4-a687560c637b"
      },
      "execution_count": null,
      "outputs": [
        {
          "output_type": "stream",
          "name": "stdout",
          "text": [
            "[ 1  3  5  7  9 11 13 15 17 19]\n"
          ]
        }
      ]
    },
    {
      "cell_type": "markdown",
      "source": [
        "# creating arrays using zeros() and ones() functions\n",
        "\n",
        "zeros(n,datatype)\\\n",
        "ones(n,datatype)"
      ],
      "metadata": {
        "id": "xNDD8egO9bnH"
      }
    },
    {
      "cell_type": "code",
      "source": [
        "zeros(5) #default data type is float"
      ],
      "metadata": {
        "colab": {
          "base_uri": "https://localhost:8080/"
        },
        "id": "Bj6tAsyG89CT",
        "outputId": "0d0a12b2-b02f-4bab-dd25-e1286839398d"
      },
      "execution_count": null,
      "outputs": [
        {
          "output_type": "execute_result",
          "data": {
            "text/plain": [
              "array([0., 0., 0., 0., 0.])"
            ]
          },
          "metadata": {},
          "execution_count": 12
        }
      ]
    },
    {
      "cell_type": "code",
      "source": [
        "zeros(5,int) #integer data type"
      ],
      "metadata": {
        "colab": {
          "base_uri": "https://localhost:8080/"
        },
        "id": "b86loRBh9urr",
        "outputId": "4accd3fb-0da2-4bf6-ca9b-d08d0e7bb1f2"
      },
      "execution_count": null,
      "outputs": [
        {
          "output_type": "execute_result",
          "data": {
            "text/plain": [
              "array([0, 0, 0, 0, 0])"
            ]
          },
          "metadata": {},
          "execution_count": 13
        }
      ]
    },
    {
      "cell_type": "code",
      "source": [
        "ones(5) #default data type is float"
      ],
      "metadata": {
        "colab": {
          "base_uri": "https://localhost:8080/"
        },
        "id": "nvFJgEyM91FY",
        "outputId": "a86bf616-e0bb-4e2d-8534-ac315b7be5f5"
      },
      "execution_count": null,
      "outputs": [
        {
          "output_type": "execute_result",
          "data": {
            "text/plain": [
              "array([1., 1., 1., 1., 1.])"
            ]
          },
          "metadata": {},
          "execution_count": 14
        }
      ]
    },
    {
      "cell_type": "code",
      "source": [
        "ones(5,int) # integer data type"
      ],
      "metadata": {
        "colab": {
          "base_uri": "https://localhost:8080/"
        },
        "id": "mxUPAKHJ9-sb",
        "outputId": "1081b8e8-934f-4fc5-864d-40e674109353"
      },
      "execution_count": null,
      "outputs": [
        {
          "output_type": "execute_result",
          "data": {
            "text/plain": [
              "array([1, 1, 1, 1, 1])"
            ]
          },
          "metadata": {},
          "execution_count": 15
        }
      ]
    },
    {
      "cell_type": "code",
      "source": [
        ""
      ],
      "metadata": {
        "id": "TFJOMP_K-IQP"
      },
      "execution_count": null,
      "outputs": []
    },
    {
      "cell_type": "markdown",
      "source": [
        "# mathematical operations on arrays"
      ],
      "metadata": {
        "id": "NywHF-nt-LPF"
      }
    },
    {
      "cell_type": "code",
      "source": [
        "from numpy import*\n",
        "arr=arange(0,11)\n",
        "print(arr)\n",
        "arr2=arr+5 # adding 5 to every element in an array\n",
        "print(arr2)"
      ],
      "metadata": {
        "colab": {
          "base_uri": "https://localhost:8080/"
        },
        "id": "8Vz6gjfA-OiJ",
        "outputId": "ae0a6af7-68d5-4c1e-8189-8c6f7ecad46d"
      },
      "execution_count": null,
      "outputs": [
        {
          "output_type": "stream",
          "name": "stdout",
          "text": [
            "[ 0  1  2  3  4  5  6  7  8  9 10]\n",
            "[ 5  6  7  8  9 10 11 12 13 14 15]\n"
          ]
        }
      ]
    },
    {
      "cell_type": "code",
      "source": [
        "from numpy import*\n",
        "arr1=arange(0,11,2)\n",
        "print('arr1=',arr1)\n",
        "arr2=arange(10,21,2)\n",
        "print('arr2=',arr2)\n",
        "print(arr1+arr2)\n",
        "# NOTE: given two arrays should be in same size"
      ],
      "metadata": {
        "colab": {
          "base_uri": "https://localhost:8080/"
        },
        "id": "YmnTcj1R-2VH",
        "outputId": "9bab946a-e5f9-4449-a9e7-8ee02133d178"
      },
      "execution_count": null,
      "outputs": [
        {
          "output_type": "stream",
          "name": "stdout",
          "text": [
            "arr1= [ 0  2  4  6  8 10]\n",
            "arr2= [10 12 14 16 18 20]\n",
            "[10 14 18 22 26 30]\n"
          ]
        }
      ]
    },
    {
      "cell_type": "code",
      "source": [
        "# thid program raises an error\n",
        "from numpy import*\n",
        "arr1=arange(0,11,2)\n",
        "print('arr1=',arr1)\n",
        "arr2=arange(10,21,1)\n",
        "print('arr2=',arr2)\n",
        "print(arr1+arr2)"
      ],
      "metadata": {
        "colab": {
          "base_uri": "https://localhost:8080/",
          "height": 245
        },
        "id": "W77d7LBQ_uyF",
        "outputId": "643639e8-2aa3-4759-aa86-e05b2b254d6f"
      },
      "execution_count": null,
      "outputs": [
        {
          "output_type": "stream",
          "name": "stdout",
          "text": [
            "arr1= [ 0  2  4  6  8 10]\n",
            "arr2= [10 11 12 13 14 15 16 17 18 19 20]\n"
          ]
        },
        {
          "output_type": "error",
          "ename": "ValueError",
          "evalue": "ignored",
          "traceback": [
            "\u001b[0;31m---------------------------------------------------------------------------\u001b[0m",
            "\u001b[0;31mValueError\u001b[0m                                Traceback (most recent call last)",
            "\u001b[0;32m<ipython-input-21-f816d97dea98>\u001b[0m in \u001b[0;36m<module>\u001b[0;34m()\u001b[0m\n\u001b[1;32m      5\u001b[0m \u001b[0marr2\u001b[0m\u001b[0;34m=\u001b[0m\u001b[0marange\u001b[0m\u001b[0;34m(\u001b[0m\u001b[0;36m10\u001b[0m\u001b[0;34m,\u001b[0m\u001b[0;36m21\u001b[0m\u001b[0;34m,\u001b[0m\u001b[0;36m1\u001b[0m\u001b[0;34m)\u001b[0m\u001b[0;34m\u001b[0m\u001b[0;34m\u001b[0m\u001b[0m\n\u001b[1;32m      6\u001b[0m \u001b[0mprint\u001b[0m\u001b[0;34m(\u001b[0m\u001b[0;34m'arr2='\u001b[0m\u001b[0;34m,\u001b[0m\u001b[0marr2\u001b[0m\u001b[0;34m)\u001b[0m\u001b[0;34m\u001b[0m\u001b[0;34m\u001b[0m\u001b[0m\n\u001b[0;32m----> 7\u001b[0;31m \u001b[0mprint\u001b[0m\u001b[0;34m(\u001b[0m\u001b[0marr1\u001b[0m\u001b[0;34m+\u001b[0m\u001b[0marr2\u001b[0m\u001b[0;34m)\u001b[0m\u001b[0;34m\u001b[0m\u001b[0;34m\u001b[0m\u001b[0m\n\u001b[0m",
            "\u001b[0;31mValueError\u001b[0m: operands could not be broadcast together with shapes (6,) (11,) "
          ]
        }
      ]
    },
    {
      "cell_type": "code",
      "source": [
        "from numpy import*\n",
        "arr1=arange(0,11,2)\n",
        "print('arr1=',arr1)\n",
        "arr2=arange(10,21,2)\n",
        "print('arr2=',arr2)\n",
        "print(arr1/arr2)"
      ],
      "metadata": {
        "colab": {
          "base_uri": "https://localhost:8080/"
        },
        "id": "4Gnrv-HRAKdW",
        "outputId": "cd775818-7eb1-468d-b652-215a4d2652d0"
      },
      "execution_count": null,
      "outputs": [
        {
          "output_type": "stream",
          "name": "stdout",
          "text": [
            "arr1= [ 0  2  4  6  8 10]\n",
            "arr2= [10 12 14 16 18 20]\n",
            "[0.         0.16666667 0.28571429 0.375      0.44444444 0.5       ]\n"
          ]
        }
      ]
    },
    {
      "cell_type": "code",
      "source": [
        ""
      ],
      "metadata": {
        "id": "XRK4CDO7BXKn"
      },
      "execution_count": null,
      "outputs": []
    },
    {
      "cell_type": "markdown",
      "source": [
        "# These kinds of operations are called vectorized operations since the entire array(or vector) is processed just like a variable.\n",
        "\n",
        "* vectorized operations are faster. Adding two arrays in the form of a+b is much faster than taking the corresponding elements of both the arrays and then adding them.\n",
        "* vectorized operations are syntactically clearer. To add two arrays, we can simply write a+b. This is clear than using loops and iterating through all the elements of the arrays while  adding them.\n",
        "* vectorized operations provide compact code.\n",
        "\n"
      ],
      "metadata": {
        "id": "fzK00HJP_3cD"
      }
    },
    {
      "cell_type": "markdown",
      "source": [
        "# mathematical functions in numpy"
      ],
      "metadata": {
        "id": "xtULR1brCwl6"
      }
    },
    {
      "cell_type": "code",
      "source": [
        "from numpy import *\n",
        "arr=arange(1,11)\n",
        "print(arr)"
      ],
      "metadata": {
        "colab": {
          "base_uri": "https://localhost:8080/"
        },
        "id": "WL-sMB59CuZG",
        "outputId": "38d520a9-d455-4a44-9313-17ffc6499046"
      },
      "execution_count": null,
      "outputs": [
        {
          "output_type": "stream",
          "name": "stdout",
          "text": [
            "[ 1  2  3  4  5  6  7  8  9 10]\n"
          ]
        }
      ]
    },
    {
      "cell_type": "code",
      "source": [
        "sin(arr) # all elements in array taken as radians"
      ],
      "metadata": {
        "colab": {
          "base_uri": "https://localhost:8080/"
        },
        "id": "WvXWS7IIDVaW",
        "outputId": "3bbfb6c9-ffe1-4dfb-8377-1de220dc796b"
      },
      "execution_count": null,
      "outputs": [
        {
          "output_type": "execute_result",
          "data": {
            "text/plain": [
              "array([ 0.84147098,  0.90929743,  0.14112001, -0.7568025 , -0.95892427,\n",
              "       -0.2794155 ,  0.6569866 ,  0.98935825,  0.41211849, -0.54402111])"
            ]
          },
          "metadata": {},
          "execution_count": 24
        }
      ]
    },
    {
      "cell_type": "code",
      "source": [
        "cos(arr)"
      ],
      "metadata": {
        "colab": {
          "base_uri": "https://localhost:8080/"
        },
        "id": "f_wjIundDY4u",
        "outputId": "757326e8-1712-451c-f71d-79eced5c71cd"
      },
      "execution_count": null,
      "outputs": [
        {
          "output_type": "execute_result",
          "data": {
            "text/plain": [
              "array([ 0.54030231, -0.41614684, -0.9899925 , -0.65364362,  0.28366219,\n",
              "        0.96017029,  0.75390225, -0.14550003, -0.91113026, -0.83907153])"
            ]
          },
          "metadata": {},
          "execution_count": 25
        }
      ]
    },
    {
      "cell_type": "code",
      "source": [
        "tan(arr)"
      ],
      "metadata": {
        "colab": {
          "base_uri": "https://localhost:8080/"
        },
        "id": "VY6XmKkUDas-",
        "outputId": "e1c94ea9-9ab2-4019-c977-043f960e5a5f"
      },
      "execution_count": null,
      "outputs": [
        {
          "output_type": "execute_result",
          "data": {
            "text/plain": [
              "array([ 1.55740772, -2.18503986, -0.14254654,  1.15782128, -3.38051501,\n",
              "       -0.29100619,  0.87144798, -6.79971146, -0.45231566,  0.64836083])"
            ]
          },
          "metadata": {},
          "execution_count": 26
        }
      ]
    },
    {
      "cell_type": "code",
      "source": [
        "arr1=arange(10,20,1.5)\n",
        "arcsin(arr1)"
      ],
      "metadata": {
        "colab": {
          "base_uri": "https://localhost:8080/"
        },
        "id": "e-4tjFC9Dcsi",
        "outputId": "7c750943-7241-447a-a4b3-d5d2dcd35e27"
      },
      "execution_count": null,
      "outputs": [
        {
          "output_type": "stream",
          "name": "stderr",
          "text": [
            "/usr/local/lib/python3.7/dist-packages/ipykernel_launcher.py:2: RuntimeWarning: invalid value encountered in arcsin\n",
            "  \n"
          ]
        },
        {
          "output_type": "execute_result",
          "data": {
            "text/plain": [
              "array([nan, nan, nan, nan, nan, nan, nan])"
            ]
          },
          "metadata": {},
          "execution_count": 33
        }
      ]
    },
    {
      "cell_type": "code",
      "source": [
        "arccos(arr1)"
      ],
      "metadata": {
        "colab": {
          "base_uri": "https://localhost:8080/"
        },
        "id": "TV47pTq_DhjJ",
        "outputId": "8f73c572-2547-424d-c485-f76e780c8e02"
      },
      "execution_count": null,
      "outputs": [
        {
          "output_type": "stream",
          "name": "stderr",
          "text": [
            "/usr/local/lib/python3.7/dist-packages/ipykernel_launcher.py:1: RuntimeWarning: invalid value encountered in arccos\n",
            "  \"\"\"Entry point for launching an IPython kernel.\n"
          ]
        },
        {
          "output_type": "execute_result",
          "data": {
            "text/plain": [
              "array([nan, nan, nan, nan, nan, nan, nan])"
            ]
          },
          "metadata": {},
          "execution_count": 35
        }
      ]
    },
    {
      "cell_type": "code",
      "source": [
        "arctan(arr1)"
      ],
      "metadata": {
        "colab": {
          "base_uri": "https://localhost:8080/"
        },
        "id": "SEWQtvoqEQyW",
        "outputId": "6f001c0e-05be-4f41-a33b-fa32de36981f"
      },
      "execution_count": null,
      "outputs": [
        {
          "output_type": "execute_result",
          "data": {
            "text/plain": [
              "array([1.47112767, 1.48405799, 1.49402444, 1.50193984, 1.50837752,\n",
              "       1.51371554, 1.51821327])"
            ]
          },
          "metadata": {},
          "execution_count": 36
        }
      ]
    },
    {
      "cell_type": "code",
      "source": [
        "log(arr1)"
      ],
      "metadata": {
        "colab": {
          "base_uri": "https://localhost:8080/"
        },
        "id": "_R4lr5nQEeh7",
        "outputId": "52048f6a-5ed5-4d88-d346-4e99470b7cce"
      },
      "execution_count": null,
      "outputs": [
        {
          "output_type": "execute_result",
          "data": {
            "text/plain": [
              "array([2.30258509, 2.44234704, 2.56494936, 2.67414865, 2.77258872,\n",
              "       2.86220088, 2.94443898])"
            ]
          },
          "metadata": {},
          "execution_count": 37
        }
      ]
    },
    {
      "cell_type": "code",
      "source": [
        "abs(arr1)"
      ],
      "metadata": {
        "colab": {
          "base_uri": "https://localhost:8080/"
        },
        "id": "FqoHKFEfEhbZ",
        "outputId": "65fb035d-be5f-4523-9c70-569ecfdfea5c"
      },
      "execution_count": null,
      "outputs": [
        {
          "output_type": "execute_result",
          "data": {
            "text/plain": [
              "array([10. , 11.5, 13. , 14.5, 16. , 17.5, 19. ])"
            ]
          },
          "metadata": {},
          "execution_count": 38
        }
      ]
    },
    {
      "cell_type": "code",
      "source": [
        "sqrt(arr1)"
      ],
      "metadata": {
        "colab": {
          "base_uri": "https://localhost:8080/"
        },
        "id": "Brk0JG9JEi8s",
        "outputId": "61e9a68b-f3d7-4c04-ea2c-3542d43566af"
      },
      "execution_count": null,
      "outputs": [
        {
          "output_type": "execute_result",
          "data": {
            "text/plain": [
              "array([3.16227766, 3.39116499, 3.60555128, 3.80788655, 4.        ,\n",
              "       4.18330013, 4.35889894])"
            ]
          },
          "metadata": {},
          "execution_count": 39
        }
      ]
    },
    {
      "cell_type": "code",
      "source": [
        "power(arr1,2)"
      ],
      "metadata": {
        "colab": {
          "base_uri": "https://localhost:8080/"
        },
        "id": "zc2rZ76XEnSN",
        "outputId": "bf500923-aaed-4c25-d5eb-1db05a461966"
      },
      "execution_count": null,
      "outputs": [
        {
          "output_type": "execute_result",
          "data": {
            "text/plain": [
              "array([100.  , 132.25, 169.  , 210.25, 256.  , 306.25, 361.  ])"
            ]
          },
          "metadata": {},
          "execution_count": 40
        }
      ]
    },
    {
      "cell_type": "code",
      "source": [
        "exp(arr1)"
      ],
      "metadata": {
        "colab": {
          "base_uri": "https://localhost:8080/"
        },
        "id": "Jyq0-fsfErSy",
        "outputId": "6e47cdf6-9e01-4265-befd-70ffdc8db44a"
      },
      "execution_count": null,
      "outputs": [
        {
          "output_type": "execute_result",
          "data": {
            "text/plain": [
              "array([2.20264658e+04, 9.87157710e+04, 4.42413392e+05, 1.98275926e+06,\n",
              "       8.88611052e+06, 3.98247844e+07, 1.78482301e+08])"
            ]
          },
          "metadata": {},
          "execution_count": 41
        }
      ]
    },
    {
      "cell_type": "code",
      "source": [
        "sum(arr1)"
      ],
      "metadata": {
        "colab": {
          "base_uri": "https://localhost:8080/"
        },
        "id": "fa1739aFEud9",
        "outputId": "c996942a-689c-4767-e4bf-0a8c4bbf57a7"
      },
      "execution_count": null,
      "outputs": [
        {
          "output_type": "execute_result",
          "data": {
            "text/plain": [
              "101.5"
            ]
          },
          "metadata": {},
          "execution_count": 42
        }
      ]
    },
    {
      "cell_type": "code",
      "source": [
        "prod(arr1)"
      ],
      "metadata": {
        "colab": {
          "base_uri": "https://localhost:8080/"
        },
        "id": "yNKN8xfaEwBI",
        "outputId": "0e364b21-77cb-4ff0-e00a-eda7f94412b5"
      },
      "execution_count": null,
      "outputs": [
        {
          "output_type": "execute_result",
          "data": {
            "text/plain": [
              "115324300.0"
            ]
          },
          "metadata": {},
          "execution_count": 43
        }
      ]
    },
    {
      "cell_type": "code",
      "source": [
        "min(arr1)"
      ],
      "metadata": {
        "colab": {
          "base_uri": "https://localhost:8080/"
        },
        "id": "vy_RPTiuExXc",
        "outputId": "d1a1a1f5-0f13-4b0e-b931-fbcabebe5594"
      },
      "execution_count": null,
      "outputs": [
        {
          "output_type": "execute_result",
          "data": {
            "text/plain": [
              "10.0"
            ]
          },
          "metadata": {},
          "execution_count": 44
        }
      ]
    },
    {
      "cell_type": "code",
      "source": [
        "max(arr1)"
      ],
      "metadata": {
        "colab": {
          "base_uri": "https://localhost:8080/"
        },
        "id": "bb7AqyxEEzv3",
        "outputId": "cc281bfb-89c7-4537-86da-6bc85e1b8da3"
      },
      "execution_count": null,
      "outputs": [
        {
          "output_type": "execute_result",
          "data": {
            "text/plain": [
              "19.0"
            ]
          },
          "metadata": {},
          "execution_count": 45
        }
      ]
    },
    {
      "cell_type": "code",
      "source": [
        "mean(arr1)"
      ],
      "metadata": {
        "colab": {
          "base_uri": "https://localhost:8080/"
        },
        "id": "ThF_3mOCE0-G",
        "outputId": "57bacd06-061c-4dcc-bcc1-5a2d2c6b7b2a"
      },
      "execution_count": null,
      "outputs": [
        {
          "output_type": "execute_result",
          "data": {
            "text/plain": [
              "14.5"
            ]
          },
          "metadata": {},
          "execution_count": 46
        }
      ]
    },
    {
      "cell_type": "code",
      "source": [
        "median(arr1)"
      ],
      "metadata": {
        "colab": {
          "base_uri": "https://localhost:8080/"
        },
        "id": "ZEEEu8vNE3jw",
        "outputId": "f4f1b014-c40b-48a8-b4dc-d632ba7d5dd0"
      },
      "execution_count": null,
      "outputs": [
        {
          "output_type": "execute_result",
          "data": {
            "text/plain": [
              "14.5"
            ]
          },
          "metadata": {},
          "execution_count": 47
        }
      ]
    },
    {
      "cell_type": "code",
      "source": [
        "var(arr)"
      ],
      "metadata": {
        "colab": {
          "base_uri": "https://localhost:8080/"
        },
        "id": "UP17A-MdE4qn",
        "outputId": "fff2cc0b-1f10-4f63-efa6-e0f06cd55fdf"
      },
      "execution_count": null,
      "outputs": [
        {
          "output_type": "execute_result",
          "data": {
            "text/plain": [
              "0.014466666666666664"
            ]
          },
          "metadata": {},
          "execution_count": 48
        }
      ]
    },
    {
      "cell_type": "code",
      "source": [
        "cov(arr)"
      ],
      "metadata": {
        "colab": {
          "base_uri": "https://localhost:8080/"
        },
        "id": "jG0HYDZOE6nY",
        "outputId": "148d1558-7538-48cc-ed77-c365b1e83f46"
      },
      "execution_count": null,
      "outputs": [
        {
          "output_type": "execute_result",
          "data": {
            "text/plain": [
              "array(0.0217)"
            ]
          },
          "metadata": {},
          "execution_count": 49
        }
      ]
    },
    {
      "cell_type": "code",
      "source": [
        "std(arr)"
      ],
      "metadata": {
        "colab": {
          "base_uri": "https://localhost:8080/"
        },
        "id": "wBRC4jrYE8ET",
        "outputId": "27a736e3-cdd7-49be-a74a-e0a8c5db0d62"
      },
      "execution_count": null,
      "outputs": [
        {
          "output_type": "execute_result",
          "data": {
            "text/plain": [
              "0.12027745701779143"
            ]
          },
          "metadata": {},
          "execution_count": 50
        }
      ]
    },
    {
      "cell_type": "code",
      "source": [
        "argmin(arr1) # returns the index of the minimum value"
      ],
      "metadata": {
        "colab": {
          "base_uri": "https://localhost:8080/"
        },
        "id": "H9qqyA5JE9hF",
        "outputId": "e8f4b6d4-4f91-4343-8a4d-9b0302739321"
      },
      "execution_count": null,
      "outputs": [
        {
          "output_type": "execute_result",
          "data": {
            "text/plain": [
              "0"
            ]
          },
          "metadata": {},
          "execution_count": 51
        }
      ]
    },
    {
      "cell_type": "code",
      "source": [
        "argmax(arr1) # return the index of max value"
      ],
      "metadata": {
        "colab": {
          "base_uri": "https://localhost:8080/"
        },
        "id": "tCgKvx3dE_xY",
        "outputId": "7023bdc7-4836-4746-e4c9-6e04f10a98a2"
      },
      "execution_count": null,
      "outputs": [
        {
          "output_type": "execute_result",
          "data": {
            "text/plain": [
              "6"
            ]
          },
          "metadata": {},
          "execution_count": 53
        }
      ]
    },
    {
      "cell_type": "code",
      "source": [
        "arr=array([1,2,3,2,1,2,3,4,5,6,7,8,9])\n",
        "unique((arr)) # returns the array that contains unique elements of arr"
      ],
      "metadata": {
        "colab": {
          "base_uri": "https://localhost:8080/"
        },
        "id": "XKdZdQEmFsor",
        "outputId": "21f3b320-0407-4622-8f33-456bf3ccd6f1"
      },
      "execution_count": null,
      "outputs": [
        {
          "output_type": "execute_result",
          "data": {
            "text/plain": [
              "array([1, 2, 3, 4, 5, 6, 7, 8, 9])"
            ]
          },
          "metadata": {},
          "execution_count": 54
        }
      ]
    },
    {
      "cell_type": "code",
      "source": [
        "sort(arr)"
      ],
      "metadata": {
        "colab": {
          "base_uri": "https://localhost:8080/"
        },
        "id": "S75MXTtkGEAM",
        "outputId": "db10e7ec-35bf-43dc-d847-1db14e308aaf"
      },
      "execution_count": null,
      "outputs": [
        {
          "output_type": "execute_result",
          "data": {
            "text/plain": [
              "array([1, 1, 2, 2, 2, 3, 3, 4, 5, 6, 7, 8, 9])"
            ]
          },
          "metadata": {},
          "execution_count": 55
        }
      ]
    },
    {
      "cell_type": "code",
      "source": [
        "arr=array([1,2,3,4])\n",
        "arr1=array([5,6,7,8])\n",
        "concatenate([arr,arr1])"
      ],
      "metadata": {
        "colab": {
          "base_uri": "https://localhost:8080/"
        },
        "id": "SwpsziOBGKOq",
        "outputId": "debbc3fe-f4db-4717-dbe9-e5a6e5dd96b4"
      },
      "execution_count": null,
      "outputs": [
        {
          "output_type": "execute_result",
          "data": {
            "text/plain": [
              "array([1, 2, 3, 4, 5, 6, 7, 8])"
            ]
          },
          "metadata": {},
          "execution_count": 57
        }
      ]
    },
    {
      "cell_type": "markdown",
      "source": [
        "#Comparing arrays\n",
        " compares the corresponding elements of the arrays and return another array with boolean type values."
      ],
      "metadata": {
        "id": "SDeJ9wH-LSIQ"
      }
    },
    {
      "cell_type": "code",
      "source": [
        "from numpy import*\n",
        "a=array([1,2,3,4])\n",
        "b=array([0,2,3,1])\n",
        "c=a==b\n",
        "print('result of a==b',c)\n",
        "c=a>b\n",
        "print('result of a>b',c)\n",
        "c=a<b\n",
        "print('result of a<b',c)"
      ],
      "metadata": {
        "colab": {
          "base_uri": "https://localhost:8080/"
        },
        "id": "0bSDbsWwGX6M",
        "outputId": "edbd9630-ad44-49c2-b17d-287d517e9c64"
      },
      "execution_count": null,
      "outputs": [
        {
          "output_type": "stream",
          "name": "stdout",
          "text": [
            "result of a==b [False  True  True False]\n",
            "result of a>b [ True False False  True]\n",
            "result of a<b [False False False False]\n"
          ]
        }
      ]
    },
    {
      "cell_type": "markdown",
      "source": [
        "# The any() function can be used to determine if any one element of the array is True.\n",
        "\n",
        "# The all() function can be used to determine whether all the elements in the array are True."
      ],
      "metadata": {
        "id": "EVVjd03CMxgU"
      }
    },
    {
      "cell_type": "code",
      "source": [
        "from numpy import *\n",
        "a=array([1,2,3,5,0])\n",
        "print(any(a))\n",
        "print(all(a))"
      ],
      "metadata": {
        "colab": {
          "base_uri": "https://localhost:8080/"
        },
        "id": "3Zsmkqx5L4vZ",
        "outputId": "72c6d335-c5d0-4e11-fe4b-cdf1476f4159"
      },
      "execution_count": null,
      "outputs": [
        {
          "output_type": "stream",
          "name": "stdout",
          "text": [
            "True\n",
            "False\n"
          ]
        }
      ]
    },
    {
      "cell_type": "code",
      "source": [
        "from numpy import *\n",
        "a=array([0,0,0,0,0])\n",
        "print(any(a))\n",
        "print(all(a))"
      ],
      "metadata": {
        "colab": {
          "base_uri": "https://localhost:8080/"
        },
        "id": "q4qw3dLMN158",
        "outputId": "5ff5e6c0-d895-4aee-f1f5-00636bd290a2"
      },
      "execution_count": null,
      "outputs": [
        {
          "output_type": "stream",
          "name": "stdout",
          "text": [
            "False\n",
            "False\n"
          ]
        }
      ]
    },
    {
      "cell_type": "code",
      "source": [
        "from numpy import *\n",
        "a=array([1,2,3,4,5])\n",
        "print(any(a))\n",
        "print(all(a))"
      ],
      "metadata": {
        "colab": {
          "base_uri": "https://localhost:8080/"
        },
        "id": "93un2qWwOFUa",
        "outputId": "755b6612-2b39-4d58-ceb0-c2bf165a3dfb"
      },
      "execution_count": null,
      "outputs": [
        {
          "output_type": "stream",
          "name": "stdout",
          "text": [
            "True\n",
            "True\n"
          ]
        }
      ]
    },
    {
      "cell_type": "code",
      "source": [
        "from numpy import*\n",
        "a=array([1,2,3,4])\n",
        "b=array([0,2,3,1])\n",
        "c=a>b\n",
        "print('result of a>b',c)\n",
        "print(any(c))\n",
        "\n",
        "c=a<b\n",
        "print('result of a<b',c)\n",
        "print(any(c))\n",
        "\n",
        "c=a==b\n",
        "print('result of a==b',c)\n",
        "print(any(c))"
      ],
      "metadata": {
        "colab": {
          "base_uri": "https://localhost:8080/"
        },
        "id": "L20JGQ0eOI6_",
        "outputId": "f65a7ac7-805d-492f-be7c-268874b25bfe"
      },
      "execution_count": null,
      "outputs": [
        {
          "output_type": "stream",
          "name": "stdout",
          "text": [
            "result of a>b [ True False False  True]\n",
            "True\n",
            "result of a<b [False False False False]\n",
            "False\n",
            "result of a==b [False  True  True False]\n",
            "True\n"
          ]
        }
      ]
    },
    {
      "cell_type": "markdown",
      "source": [
        "# logical functions on arrays"
      ],
      "metadata": {
        "id": "JLJudzxGPE9q"
      }
    },
    {
      "cell_type": "code",
      "source": [
        "#logical_and(), logical_or(), logical_not()\n",
        "from numpy import*\n",
        "a=array([1,2,3])\n",
        "b=array([0,2,3])\n",
        "c=logical_and(a>0,a<4)# applies on every element in array\n",
        "print(c)\n",
        "c=logical_or(b>=0,b==1)\n",
        "print(c)\n",
        "c=logical_not(b)\n",
        "print(c)"
      ],
      "metadata": {
        "colab": {
          "base_uri": "https://localhost:8080/"
        },
        "id": "pxRIkOtaOeC8",
        "outputId": "cca3ac6c-47aa-4ce2-a655-0918b8cf7867"
      },
      "execution_count": null,
      "outputs": [
        {
          "output_type": "stream",
          "name": "stdout",
          "text": [
            "[ True  True  True]\n",
            "[ True  True  True]\n",
            "[ True False False]\n"
          ]
        }
      ]
    },
    {
      "cell_type": "markdown",
      "source": [
        "# where() function can be used to create a new array based on whether a given condition is True or False.\n",
        "* syntax\\\n",
        "array=where(condtion, expression1 if True, expression2 if False)\n",
        "\n"
      ],
      "metadata": {
        "id": "mIs7fIYmQ9Yz"
      }
    },
    {
      "cell_type": "code",
      "source": [
        "#example \n",
        "from numpy import*\n",
        "a=array([10,25,30,43,50,54,60])\n",
        "b=where(a%2==0,a,0) # condtion applies on every element\n",
        "print(b)"
      ],
      "metadata": {
        "colab": {
          "base_uri": "https://localhost:8080/"
        },
        "id": "lSAdWEEzPSNp",
        "outputId": "93329b22-86f5-4be4-c23c-dd1d991d8ad7"
      },
      "execution_count": null,
      "outputs": [
        {
          "output_type": "stream",
          "name": "stdout",
          "text": [
            "[10  0 30  0 50 54 60]\n"
          ]
        }
      ]
    },
    {
      "cell_type": "markdown",
      "source": [
        "# nonzero() function is useful to know the position of elements which are nonzero."
      ],
      "metadata": {
        "id": "nX7EprzpSEGV"
      }
    },
    {
      "cell_type": "code",
      "source": [
        "#example\n",
        "from numpy import*\n",
        "a=array([10,25,30,0,50,54,0])\n",
        "print(nonzero(a))"
      ],
      "metadata": {
        "colab": {
          "base_uri": "https://localhost:8080/"
        },
        "id": "AXLf-XzNRru4",
        "outputId": "18dea411-97ed-48e8-9740-663742ef8578"
      },
      "execution_count": null,
      "outputs": [
        {
          "output_type": "stream",
          "name": "stdout",
          "text": [
            "(array([0, 1, 2, 4, 5]),)\n"
          ]
        }
      ]
    },
    {
      "cell_type": "code",
      "source": [
        "#to retrieving nonzero elements\n",
        "for i in nonzero(a):\n",
        "  print(a[i])"
      ],
      "metadata": {
        "colab": {
          "base_uri": "https://localhost:8080/"
        },
        "id": "HYlB_NLUSbgs",
        "outputId": "dcdd1fde-a85d-4836-850a-e6c5895a8e8a"
      },
      "execution_count": null,
      "outputs": [
        {
          "output_type": "stream",
          "name": "stdout",
          "text": [
            "[10 25 30 50 54]\n"
          ]
        }
      ]
    },
    {
      "cell_type": "markdown",
      "source": [
        "# Aliasing array()\n",
        "if a is an array, we can assign it to b as b =a.\\\n",
        "it means b is not a new array and memory is not allocated to b.\\\n",
        "also elements of a are not copied into b since there is no memory for b.\n",
        "aliasing means giving another name to the existing array.Hence any modification to the alias array will reflect in the existing array and vice versa.\n",
        "\n",
        "\n",
        "\n"
      ],
      "metadata": {
        "id": "8djFiMPzTnv9"
      }
    },
    {
      "cell_type": "code",
      "source": [
        "#example\n",
        "from numpy import*\n",
        "a=array([1,2,3,4,5])\n",
        "b=a\n",
        "print('original array',a)\n",
        "print('aliased array',b)"
      ],
      "metadata": {
        "colab": {
          "base_uri": "https://localhost:8080/"
        },
        "id": "E2UD3cdgTM8V",
        "outputId": "201fc468-ec1b-4c74-def8-b8fc428e877e"
      },
      "execution_count": null,
      "outputs": [
        {
          "output_type": "stream",
          "name": "stdout",
          "text": [
            "original array [1 2 3 4 5]\n",
            "aliased array [1 2 3 4 5]\n"
          ]
        }
      ]
    },
    {
      "cell_type": "code",
      "source": [
        "b[0]=55"
      ],
      "metadata": {
        "id": "96vD6i5JVYkg"
      },
      "execution_count": null,
      "outputs": []
    },
    {
      "cell_type": "code",
      "source": [
        "print('after modification original array',a)\n",
        "print('after modification alias array',b)"
      ],
      "metadata": {
        "colab": {
          "base_uri": "https://localhost:8080/"
        },
        "id": "1IdBqn5QVfju",
        "outputId": "9b8094cf-1ec2-4d9d-d8d1-91412ee105bb"
      },
      "execution_count": null,
      "outputs": [
        {
          "output_type": "stream",
          "name": "stdout",
          "text": [
            "after modification original array [55  2  3  4  5]\n",
            "after modification alias array [55  2  3  4  5]\n"
          ]
        }
      ]
    },
    {
      "cell_type": "markdown",
      "source": [
        "# viewing and copying arrays\n",
        "* viewing:\n",
        "viewing can create another array that is same as an existing array. This is done by view method().\n",
        "If the newly created array is modified, the original array will also be modified.\\\n",
        "Viewing is nothing but copying only. It is called shallow copying as the elements in the view when modified will also modify the elements in the original array."
      ],
      "metadata": {
        "id": "snQldrcmVwkQ"
      }
    },
    {
      "cell_type": "code",
      "source": [
        "#example for view()\n",
        "from numpy import *\n",
        "a=arange(1,6)\n",
        "b=a.view()\n",
        "print('original array',a)\n",
        "print('new array',b)"
      ],
      "metadata": {
        "colab": {
          "base_uri": "https://localhost:8080/"
        },
        "id": "Wwlk212PVrrf",
        "outputId": "cc714443-f0fa-4ed4-e037-b28a9da1e746"
      },
      "execution_count": null,
      "outputs": [
        {
          "output_type": "stream",
          "name": "stdout",
          "text": [
            "original array [1 2 3 4 5]\n",
            "new array [1 2 3 4 5]\n"
          ]
        }
      ]
    },
    {
      "cell_type": "code",
      "source": [
        "b[0]=90"
      ],
      "metadata": {
        "id": "7eO_2ZmaXTUg"
      },
      "execution_count": null,
      "outputs": []
    },
    {
      "cell_type": "code",
      "source": [
        "print('original after modificaiton',a)\n",
        "print('new array after modificaion',b)"
      ],
      "metadata": {
        "colab": {
          "base_uri": "https://localhost:8080/"
        },
        "id": "Q1WFzLFMXb3q",
        "outputId": "b91eac32-7810-45c2-f3d0-e0065a77f6b2"
      },
      "execution_count": null,
      "outputs": [
        {
          "output_type": "stream",
          "name": "stdout",
          "text": [
            "original after modificaiton [90  2  3  4  5]\n",
            "new array after modificaion [90  2  3  4  5]\n"
          ]
        }
      ]
    },
    {
      "cell_type": "markdown",
      "source": [
        "# copy() method\n",
        "If we want both the arrays to be independent and modifying one array should not affect another array, we should go for 'deep copying'. This is done by using copy() method."
      ],
      "metadata": {
        "id": "0arGecBzYkeH"
      }
    },
    {
      "cell_type": "code",
      "source": [
        "# example for deep copying\n",
        "from numpy import *\n",
        "a=arange(1,6)\n",
        "b=a.copy()\n",
        "print('original array',a)\n",
        "print('new array',b)\n",
        "\n",
        "b[1]=22\n",
        "\n",
        "print('original after modif',a)\n",
        "print('new array afte modif',b)"
      ],
      "metadata": {
        "colab": {
          "base_uri": "https://localhost:8080/"
        },
        "id": "ueNILwM9Xi6P",
        "outputId": "49ca9f5a-4d70-47e8-bc75-0ad2b2884409"
      },
      "execution_count": null,
      "outputs": [
        {
          "output_type": "stream",
          "name": "stdout",
          "text": [
            "original array [1 2 3 4 5]\n",
            "new array [1 2 3 4 5]\n",
            "original after modif [1 2 3 4 5]\n",
            "new array afte modif [ 1 22  3  4  5]\n"
          ]
        }
      ]
    },
    {
      "cell_type": "markdown",
      "source": [
        "# Slicing In numpy arrays:\n"
      ],
      "metadata": {
        "id": "bD_DWfSbaksq"
      }
    },
    {
      "cell_type": "code",
      "source": [
        "from numpy import*\n",
        "a=arange(1,20)\n",
        "print(a[5:9])"
      ],
      "metadata": {
        "colab": {
          "base_uri": "https://localhost:8080/"
        },
        "id": "igSLg9hvZj7n",
        "outputId": "16c8f090-e53b-4452-d2a7-a93ff574921d"
      },
      "execution_count": null,
      "outputs": [
        {
          "output_type": "stream",
          "name": "stdout",
          "text": [
            "[6 7 8 9]\n"
          ]
        }
      ]
    },
    {
      "cell_type": "code",
      "source": [
        "print(a[1:15:2])"
      ],
      "metadata": {
        "colab": {
          "base_uri": "https://localhost:8080/"
        },
        "id": "mg44Sy48a67g",
        "outputId": "15378069-1fd5-46cc-8b99-9cce030a6d6f"
      },
      "execution_count": null,
      "outputs": [
        {
          "output_type": "stream",
          "name": "stdout",
          "text": [
            "[ 2  4  6  8 10 12 14]\n"
          ]
        }
      ]
    },
    {
      "cell_type": "code",
      "source": [
        "print(a[1:15:-1])"
      ],
      "metadata": {
        "colab": {
          "base_uri": "https://localhost:8080/"
        },
        "id": "jqeW1l1da_2G",
        "outputId": "4870286a-bae1-4e69-fe5a-b182b97b8deb"
      },
      "execution_count": null,
      "outputs": [
        {
          "output_type": "stream",
          "name": "stdout",
          "text": [
            "[]\n"
          ]
        }
      ]
    },
    {
      "cell_type": "code",
      "source": [
        "print(a[-1:-15:-1])"
      ],
      "metadata": {
        "colab": {
          "base_uri": "https://localhost:8080/"
        },
        "id": "FEdXTQzVbFnR",
        "outputId": "db2876c6-1f31-4c97-aba0-42282400c6ea"
      },
      "execution_count": null,
      "outputs": [
        {
          "output_type": "stream",
          "name": "stdout",
          "text": [
            "[19 18 17 16 15 14 13 12 11 10  9  8  7  6]\n"
          ]
        }
      ]
    },
    {
      "cell_type": "code",
      "source": [
        "print(a[-1:-15:1])"
      ],
      "metadata": {
        "colab": {
          "base_uri": "https://localhost:8080/"
        },
        "id": "E0F0dMoxbMl9",
        "outputId": "55a19cb4-c987-4474-80a2-3e6ac406c77d"
      },
      "execution_count": null,
      "outputs": [
        {
          "output_type": "stream",
          "name": "stdout",
          "text": [
            "[]\n"
          ]
        }
      ]
    },
    {
      "cell_type": "code",
      "source": [
        "print(a[-15:-1:1])"
      ],
      "metadata": {
        "colab": {
          "base_uri": "https://localhost:8080/"
        },
        "id": "yVtpBfeTbRqB",
        "outputId": "5fcbb1fc-43a2-48a3-b07c-d7021c7bf803"
      },
      "execution_count": null,
      "outputs": [
        {
          "output_type": "stream",
          "name": "stdout",
          "text": [
            "[ 5  6  7  8  9 10 11 12 13 14 15 16 17 18]\n"
          ]
        }
      ]
    },
    {
      "cell_type": "markdown",
      "source": [
        "# Dimensions of Arrays"
      ],
      "metadata": {
        "id": "R1JVrUChfmOE"
      }
    },
    {
      "cell_type": "code",
      "source": [
        "#example for one dimensional(1D) arrays\n",
        "arr1=array([1,2,3,4,5]) #row vector \n",
        "print(arr1)"
      ],
      "metadata": {
        "colab": {
          "base_uri": "https://localhost:8080/"
        },
        "id": "HJdBBKkCbbWF",
        "outputId": "c2a80236-1404-4ef9-948d-722c0fe7974b"
      },
      "execution_count": null,
      "outputs": [
        {
          "output_type": "stream",
          "name": "stdout",
          "text": [
            "[1 2 3 4 5]\n"
          ]
        }
      ]
    },
    {
      "cell_type": "code",
      "source": [
        "arr2=array([1,\n",
        "            2,\n",
        "            3,\n",
        "            4]) #array with column\n",
        "print(arr2)"
      ],
      "metadata": {
        "colab": {
          "base_uri": "https://localhost:8080/"
        },
        "id": "OlEF-wM8gG5g",
        "outputId": "97c96631-6fd2-4bfd-d9b8-223b010cd410"
      },
      "execution_count": null,
      "outputs": [
        {
          "output_type": "stream",
          "name": "stdout",
          "text": [
            "[1 2 3 4]\n"
          ]
        }
      ]
    },
    {
      "cell_type": "code",
      "source": [
        "#example for 2D arrays which are combination of 1D arrays\n",
        "arr=array([[1,2,3,4],\n",
        "          [4,5,6,7],\n",
        "          [8,9,10,11]])\n",
        "print(arr)"
      ],
      "metadata": {
        "colab": {
          "base_uri": "https://localhost:8080/"
        },
        "id": "TKte9GflgN7k",
        "outputId": "31846b9d-cab5-4c0d-bd40-e6d6423213ba"
      },
      "execution_count": null,
      "outputs": [
        {
          "output_type": "stream",
          "name": "stdout",
          "text": [
            "[[ 1  2  3  4]\n",
            " [ 4  5  6  7]\n",
            " [ 8  9 10 11]]\n"
          ]
        }
      ]
    },
    {
      "cell_type": "markdown",
      "source": [
        "In the above example each row represents 1D array\n",
        "\n",
        "similarly we can imagine 3D array is combination of several 2D arrays"
      ],
      "metadata": {
        "id": "vhpCDHaMhGuJ"
      }
    },
    {
      "cell_type": "code",
      "source": [
        "# example for 3D arrays\n",
        "arr3=array([[[1,2,3],[4,5,6]],\n",
        "           [[7,8,9],[10,11,12]],\n",
        "            [[1,2,3],[4,5,6]]])\n",
        "print(arr3)"
      ],
      "metadata": {
        "colab": {
          "base_uri": "https://localhost:8080/"
        },
        "id": "rmODexI7g_c0",
        "outputId": "1fc346e1-2638-4a74-f9d1-0be544a7559a"
      },
      "execution_count": null,
      "outputs": [
        {
          "output_type": "stream",
          "name": "stdout",
          "text": [
            "[[[ 1  2  3]\n",
            "  [ 4  5  6]]\n",
            "\n",
            " [[ 7  8  9]\n",
            "  [10 11 12]]\n",
            "\n",
            " [[ 1  2  3]\n",
            "  [ 4  5  6]]]\n"
          ]
        }
      ]
    },
    {
      "cell_type": "markdown",
      "source": [
        "# Attributes of an array\n",
        "\n",
        "Numpy's array class is called ndarray. It is also known by alias name array.\n",
        "\n",
        "There is another class array in python that is different from the numpy's array class."
      ],
      "metadata": {
        "id": "BF8Fy8r8jjZA"
      }
    },
    {
      "cell_type": "markdown",
      "source": [
        "# ndim\n",
        "represents number of dimensions\n"
      ],
      "metadata": {
        "id": "MbfTD9zAkoQk"
      }
    },
    {
      "cell_type": "code",
      "source": [
        "arr1=array([1,2,3,4,5])\n",
        "print(arr1.ndim)"
      ],
      "metadata": {
        "colab": {
          "base_uri": "https://localhost:8080/"
        },
        "id": "jnvMqPahhzL-",
        "outputId": "1a59cbf2-2c90-475c-d3fd-ec94ea5ed1b1"
      },
      "execution_count": null,
      "outputs": [
        {
          "output_type": "stream",
          "name": "stdout",
          "text": [
            "1\n"
          ]
        }
      ]
    },
    {
      "cell_type": "code",
      "source": [
        "arr3=array([[[1,2,3],[4,5,6]],\n",
        "           [[7,8,9],[10,11,12]],\n",
        "            [[1,2,3],[4,5,6]]])\n",
        "print(arr3.ndim)"
      ],
      "metadata": {
        "colab": {
          "base_uri": "https://localhost:8080/"
        },
        "id": "ycrwHv8emD1Z",
        "outputId": "0de1831e-13f0-4a85-e439-24c4b2f8ec04"
      },
      "execution_count": null,
      "outputs": [
        {
          "output_type": "stream",
          "name": "stdout",
          "text": [
            "3\n"
          ]
        }
      ]
    },
    {
      "cell_type": "markdown",
      "source": [
        "# shape\n",
        "gives the shape of the array, for 1D it gives the number of elements \n",
        "\n",
        "for nD it gives the number of rows and coloumns\n"
      ],
      "metadata": {
        "id": "YWQZrMMgmLS2"
      }
    },
    {
      "cell_type": "code",
      "source": [
        "arr1=array([1,2,3,4,5])\n",
        "print(arr1.shape)"
      ],
      "metadata": {
        "colab": {
          "base_uri": "https://localhost:8080/"
        },
        "id": "SaCUtGnnnD4S",
        "outputId": "f9bc4991-4842-4006-988d-be9b5b6d50da"
      },
      "execution_count": null,
      "outputs": [
        {
          "output_type": "stream",
          "name": "stdout",
          "text": [
            "(5,)\n"
          ]
        }
      ]
    },
    {
      "cell_type": "code",
      "source": [
        "#for 2D array\n",
        "arr=array([[1,2,3,4],\n",
        "          [4,5,6,7],\n",
        "          [8,9,10,11]])\n",
        "print(arr.shape)"
      ],
      "metadata": {
        "colab": {
          "base_uri": "https://localhost:8080/"
        },
        "id": "ktPYtcFpnWA6",
        "outputId": "07429dd6-eacf-4dff-ace7-6981d8480e69"
      },
      "execution_count": null,
      "outputs": [
        {
          "output_type": "stream",
          "name": "stdout",
          "text": [
            "(3, 4)\n"
          ]
        }
      ]
    },
    {
      "cell_type": "code",
      "source": [
        "#for 3D array\n",
        "arr3=array([[[1,2,3,1],[4,5,6,4]],\n",
        "           [[7,8,9,7],[10,11,12,10]],\n",
        "            [[1,2,3,1],[4,5,6,4]]])\n",
        "print(arr3.shape)"
      ],
      "metadata": {
        "colab": {
          "base_uri": "https://localhost:8080/"
        },
        "id": "0QecbVjfmNTG",
        "outputId": "2099c647-893e-4287-8fe0-845b4ffb9a6b"
      },
      "execution_count": null,
      "outputs": [
        {
          "output_type": "stream",
          "name": "stdout",
          "text": [
            "(3, 2, 4)\n"
          ]
        }
      ]
    },
    {
      "cell_type": "code",
      "source": [
        "#we can change the shape of the array\n",
        "\n",
        "arr3.shape=(2,2,6)\n",
        "print(arr3)"
      ],
      "metadata": {
        "colab": {
          "base_uri": "https://localhost:8080/"
        },
        "id": "RPfmqiG0mWbm",
        "outputId": "c2667b1a-4ad3-45fb-ab9b-fefb51cc101c"
      },
      "execution_count": null,
      "outputs": [
        {
          "output_type": "stream",
          "name": "stdout",
          "text": [
            "[[[ 1  2  3  1  4  5]\n",
            "  [ 6  4  7  8  9  7]]\n",
            "\n",
            " [[10 11 12 10  1  2]\n",
            "  [ 3  1  4  5  6  4]]]\n"
          ]
        }
      ]
    },
    {
      "cell_type": "markdown",
      "source": [
        "# Size\n",
        "gives total number of elements in array"
      ],
      "metadata": {
        "id": "tWWfmkUUoHob"
      }
    },
    {
      "cell_type": "code",
      "source": [
        "print(arr3.size)"
      ],
      "metadata": {
        "colab": {
          "base_uri": "https://localhost:8080/"
        },
        "id": "XkbUC9Hjn5mZ",
        "outputId": "5418b54c-6a7d-40c6-b49d-48fa3471a647"
      },
      "execution_count": null,
      "outputs": [
        {
          "output_type": "stream",
          "name": "stdout",
          "text": [
            "24\n"
          ]
        }
      ]
    },
    {
      "cell_type": "markdown",
      "source": [
        "# itemsize\n",
        "gives the memory size of the array element in bytes.\n"
      ],
      "metadata": {
        "id": "g35oAqNvoiNF"
      }
    },
    {
      "cell_type": "code",
      "source": [
        "print(arr3.itemsize)"
      ],
      "metadata": {
        "colab": {
          "base_uri": "https://localhost:8080/"
        },
        "id": "2eJBM8r1oUEK",
        "outputId": "9577cf9b-7397-466d-88e8-b2c99a58ab0f"
      },
      "execution_count": null,
      "outputs": [
        {
          "output_type": "stream",
          "name": "stdout",
          "text": [
            "8\n"
          ]
        }
      ]
    },
    {
      "cell_type": "code",
      "source": [
        "from numpy import*\n",
        "arr1=array([2,3,4])\n",
        "print(arr1.itemsize)"
      ],
      "metadata": {
        "colab": {
          "base_uri": "https://localhost:8080/"
        },
        "id": "a2ItPsL4o1J1",
        "outputId": "29b6b4b5-b691-4b7c-d45e-ae0dab5d49d4"
      },
      "execution_count": null,
      "outputs": [
        {
          "output_type": "stream",
          "name": "stdout",
          "text": [
            "8\n"
          ]
        }
      ]
    },
    {
      "cell_type": "markdown",
      "source": [
        "# dtype\n",
        "gives the datatype of the elements in the array.\n"
      ],
      "metadata": {
        "id": "e7w_7_93pMvC"
      }
    },
    {
      "cell_type": "code",
      "source": [
        "print(arr1.dtype)"
      ],
      "metadata": {
        "colab": {
          "base_uri": "https://localhost:8080/"
        },
        "id": "hDD0dCPOpGtv",
        "outputId": "8c97a79a-4054-410b-ca7e-8710f3fcef31"
      },
      "execution_count": null,
      "outputs": [
        {
          "output_type": "stream",
          "name": "stdout",
          "text": [
            "int64\n"
          ]
        }
      ]
    },
    {
      "cell_type": "code",
      "source": [
        "arr=array([1.2,4.6,2.3,1])\n",
        "print(arr.dtype)"
      ],
      "metadata": {
        "colab": {
          "base_uri": "https://localhost:8080/"
        },
        "id": "tMZbI7DmpbHk",
        "outputId": "4ecf40fa-9979-4e55-d3eb-876b8737624e"
      },
      "execution_count": null,
      "outputs": [
        {
          "output_type": "stream",
          "name": "stdout",
          "text": [
            "float64\n"
          ]
        }
      ]
    },
    {
      "cell_type": "markdown",
      "source": [
        "#nbytes\n",
        "gives the total number of bytes occupied by an array.\\\n",
        "number of bytes= size of the array * item size of each element in the array"
      ],
      "metadata": {
        "id": "-AHyEuuRprq7"
      }
    },
    {
      "cell_type": "code",
      "source": [
        "print(arr.itemsize)\n",
        "print(arr.size)\n",
        "print(arr.nbytes)"
      ],
      "metadata": {
        "colab": {
          "base_uri": "https://localhost:8080/"
        },
        "id": "Zkp-NKXRpoHE",
        "outputId": "89144b6d-0a2a-4564-e98a-2ec754b347c8"
      },
      "execution_count": null,
      "outputs": [
        {
          "output_type": "stream",
          "name": "stdout",
          "text": [
            "8\n",
            "4\n",
            "32\n"
          ]
        }
      ]
    },
    {
      "cell_type": "code",
      "source": [
        ""
      ],
      "metadata": {
        "id": "x7Mkd_dWqD4a"
      },
      "execution_count": null,
      "outputs": []
    },
    {
      "cell_type": "markdown",
      "source": [
        "# reshape() method\n",
        "it is useful to change the shape of array.\n"
      ],
      "metadata": {
        "id": "Ie_wjTH8qsxS"
      }
    },
    {
      "cell_type": "code",
      "source": [
        "arr=arange(10)\n",
        "print(arr)\n",
        "print('after reshape')\n",
        "arr2=arr.reshape(2,5)\n",
        "print(arr2)"
      ],
      "metadata": {
        "colab": {
          "base_uri": "https://localhost:8080/"
        },
        "id": "MQ7qgEE3q2iH",
        "outputId": "2901afd6-b1a2-4bf1-ac8f-2a7fbce09a49"
      },
      "execution_count": null,
      "outputs": [
        {
          "output_type": "stream",
          "name": "stdout",
          "text": [
            "[0 1 2 3 4 5 6 7 8 9]\n",
            "after reshape\n",
            "[[0 1 2 3 4]\n",
            " [5 6 7 8 9]]\n"
          ]
        }
      ]
    },
    {
      "cell_type": "code",
      "source": [
        ""
      ],
      "metadata": {
        "id": "tb9srs80rBF0"
      },
      "execution_count": null,
      "outputs": []
    },
    {
      "cell_type": "markdown",
      "source": [
        "# flatten() method\n",
        " returns a copy of the array collapsed into one dimension."
      ],
      "metadata": {
        "id": "9qt0TbUBrZKF"
      }
    },
    {
      "cell_type": "code",
      "source": [
        "arr3=array([[[1,2,3,1],[4,5,6,4]],\n",
        "           [[7,8,9,7],[10,11,12,10]],\n",
        "            [[1,2,3,1],[4,5,6,4]]])\n",
        "\n",
        "arr4=arr3.flatten()\n",
        "print(arr4)"
      ],
      "metadata": {
        "colab": {
          "base_uri": "https://localhost:8080/"
        },
        "id": "K_at5B8erlRz",
        "outputId": "0d54cde2-5060-4b5b-b302-f4bcc5b724d6"
      },
      "execution_count": null,
      "outputs": [
        {
          "output_type": "stream",
          "name": "stdout",
          "text": [
            "[ 1  2  3  1  4  5  6  4  7  8  9  7 10 11 12 10  1  2  3  1  4  5  6  4]\n"
          ]
        }
      ]
    },
    {
      "cell_type": "code",
      "source": [
        ""
      ],
      "metadata": {
        "id": "vsXaVi0sr1PV"
      },
      "execution_count": null,
      "outputs": []
    },
    {
      "cell_type": "code",
      "source": [
        ""
      ],
      "metadata": {
        "id": "qSvWJ-94sa6c"
      },
      "execution_count": null,
      "outputs": []
    },
    {
      "cell_type": "markdown",
      "source": [
        "# Working with multi-dimensional arrays\n",
        "* using array() function\n",
        "* using ones() and zeros()\n",
        "* using eye() function\n",
        "* using reshape() function"
      ],
      "metadata": {
        "id": "bdLTY5vGsbfq"
      }
    },
    {
      "cell_type": "code",
      "source": [
        "#using array() function\n",
        "from numpy import*\n",
        "a=array([1,2,3,4]) # 1D\n",
        "b=array([[2,3,4],[6,7,8]]) # 2D\n",
        "\n",
        "print(a)\n",
        "print()\n",
        "print(b)"
      ],
      "metadata": {
        "colab": {
          "base_uri": "https://localhost:8080/"
        },
        "id": "nhcvBJ-9sxyi",
        "outputId": "a6c1fb15-555a-47e5-b77b-fd7a148211a5"
      },
      "execution_count": null,
      "outputs": [
        {
          "output_type": "stream",
          "name": "stdout",
          "text": [
            "[1 2 3 4]\n",
            "\n",
            "[[2 3 4]\n",
            " [6 7 8]]\n"
          ]
        }
      ]
    },
    {
      "cell_type": "code",
      "source": [
        "#using ones()\n",
        "#ones((rows,columns),dtype))\n",
        "ones((3,3),int)"
      ],
      "metadata": {
        "colab": {
          "base_uri": "https://localhost:8080/"
        },
        "id": "8_6CcRb-tNEo",
        "outputId": "c6dd7658-df69-4d23-b029-5ed9e384ae38"
      },
      "execution_count": null,
      "outputs": [
        {
          "output_type": "execute_result",
          "data": {
            "text/plain": [
              "array([[1, 1, 1],\n",
              "       [1, 1, 1],\n",
              "       [1, 1, 1]])"
            ]
          },
          "metadata": {},
          "execution_count": 124
        }
      ]
    },
    {
      "cell_type": "code",
      "source": [
        "ones((3,3),float)"
      ],
      "metadata": {
        "colab": {
          "base_uri": "https://localhost:8080/"
        },
        "id": "ddK1hYKHtj1U",
        "outputId": "b6bc88e2-98bb-49a3-de7c-ffe56e851351"
      },
      "execution_count": null,
      "outputs": [
        {
          "output_type": "execute_result",
          "data": {
            "text/plain": [
              "array([[1., 1., 1.],\n",
              "       [1., 1., 1.],\n",
              "       [1., 1., 1.]])"
            ]
          },
          "metadata": {},
          "execution_count": 125
        }
      ]
    },
    {
      "cell_type": "code",
      "source": [
        "#using zeros() function\n",
        "#zeros((rows,columns),dtype)\n",
        "zeros((2,3),int)"
      ],
      "metadata": {
        "colab": {
          "base_uri": "https://localhost:8080/"
        },
        "id": "YyamJUZctoPR",
        "outputId": "bb871929-f3c9-4df3-d343-aa516c275c0b"
      },
      "execution_count": null,
      "outputs": [
        {
          "output_type": "execute_result",
          "data": {
            "text/plain": [
              "array([[0, 0, 0],\n",
              "       [0, 0, 0]])"
            ]
          },
          "metadata": {},
          "execution_count": 126
        }
      ]
    },
    {
      "cell_type": "code",
      "source": [
        "#using eye() function, create ndim array with diagonal elements as 1's.\n",
        "#eye(n,dtype=datatype)\n",
        "eye(3,dtype=int)\n"
      ],
      "metadata": {
        "colab": {
          "base_uri": "https://localhost:8080/"
        },
        "id": "OT9T8bfBt2Uq",
        "outputId": "3640d7e1-dfc8-4ff9-91a4-e4631a3352ce"
      },
      "execution_count": null,
      "outputs": [
        {
          "output_type": "execute_result",
          "data": {
            "text/plain": [
              "array([[1, 0, 0],\n",
              "       [0, 1, 0],\n",
              "       [0, 0, 1]])"
            ]
          },
          "metadata": {},
          "execution_count": 129
        }
      ]
    },
    {
      "cell_type": "code",
      "source": [
        "eye(3,dtype=float)"
      ],
      "metadata": {
        "colab": {
          "base_uri": "https://localhost:8080/"
        },
        "id": "gTBcfX3KuYYb",
        "outputId": "526db9c1-9027-4eaf-814b-a3f99795afd8"
      },
      "execution_count": null,
      "outputs": [
        {
          "output_type": "execute_result",
          "data": {
            "text/plain": [
              "array([[1., 0., 0.],\n",
              "       [0., 1., 0.],\n",
              "       [0., 0., 1.]])"
            ]
          },
          "metadata": {},
          "execution_count": 130
        }
      ]
    },
    {
      "cell_type": "code",
      "source": [
        "eye(1,dtype=float)"
      ],
      "metadata": {
        "colab": {
          "base_uri": "https://localhost:8080/"
        },
        "id": "EU8fdoGTuoGw",
        "outputId": "e341fbd6-74ee-48e6-85ce-3d02602cf9e5"
      },
      "execution_count": null,
      "outputs": [
        {
          "output_type": "execute_result",
          "data": {
            "text/plain": [
              "array([[1.]])"
            ]
          },
          "metadata": {},
          "execution_count": 131
        }
      ]
    },
    {
      "cell_type": "code",
      "source": [
        "#using reshape() function\n",
        "#reshape(arr,(n,r,c)), n arrays with r rows and c columns\n",
        "\n",
        "a=arange(1,21)\n",
        "print(a)\n",
        "b=reshape(a,(2,2,5))\n",
        "print(b)\n"
      ],
      "metadata": {
        "colab": {
          "base_uri": "https://localhost:8080/"
        },
        "id": "0eeO79lgurNE",
        "outputId": "c0d95d20-277b-4118-ad83-2da7a369a930"
      },
      "execution_count": null,
      "outputs": [
        {
          "output_type": "stream",
          "name": "stdout",
          "text": [
            "[ 1  2  3  4  5  6  7  8  9 10 11 12 13 14 15 16 17 18 19 20]\n",
            "[[[ 1  2  3  4  5]\n",
            "  [ 6  7  8  9 10]]\n",
            "\n",
            " [[11 12 13 14 15]\n",
            "  [16 17 18 19 20]]]\n"
          ]
        }
      ]
    },
    {
      "cell_type": "markdown",
      "source": [
        "# Indexing in Multi-dimensional Arrays"
      ],
      "metadata": {
        "id": "W8k5n4auircP"
      }
    },
    {
      "cell_type": "code",
      "source": [
        "from numpy import *\n",
        "a=array([[1,2,3],\n",
        "          [4,5,6],\n",
        "          [7,8,9]])\n",
        "print(a)\n",
        "print()\n",
        "for i in range(len(a)):\n",
        "  print('row',i,a[i])"
      ],
      "metadata": {
        "colab": {
          "base_uri": "https://localhost:8080/"
        },
        "id": "B4aYpiWmvV3Z",
        "outputId": "65f48f77-4c71-4505-9629-8ff4d44bb0f4"
      },
      "execution_count": null,
      "outputs": [
        {
          "output_type": "stream",
          "name": "stdout",
          "text": [
            "[[1 2 3]\n",
            " [4 5 6]\n",
            " [7 8 9]]\n",
            "\n",
            "row 0 [1 2 3]\n",
            "row 1 [4 5 6]\n",
            "row 2 [7 8 9]\n"
          ]
        }
      ]
    },
    {
      "cell_type": "code",
      "source": [
        "for i in range(len(a)):\n",
        "  for j in range(len(a[i])):\n",
        "    print('row',i,'colum',j,'is',a[i][j])"
      ],
      "metadata": {
        "colab": {
          "base_uri": "https://localhost:8080/"
        },
        "id": "X8C-_tVGjuoo",
        "outputId": "88f1e09d-95a4-47a2-e9a1-62c023266378"
      },
      "execution_count": null,
      "outputs": [
        {
          "output_type": "stream",
          "name": "stdout",
          "text": [
            "row 0 colum 0 is 1\n",
            "row 0 colum 1 is 2\n",
            "row 0 colum 2 is 3\n",
            "row 1 colum 0 is 4\n",
            "row 1 colum 1 is 5\n",
            "row 1 colum 2 is 6\n",
            "row 2 colum 0 is 7\n",
            "row 2 colum 1 is 8\n",
            "row 2 colum 2 is 9\n"
          ]
        }
      ]
    },
    {
      "cell_type": "code",
      "source": [
        "# 3D array\n",
        "from numpy import *\n",
        "#create 3D array with size 2x2x3\n",
        "a=array([[[1,2,3],[1,2,3]],\n",
        "         [[4,5,6],[7,8,9]]])\n",
        "print(a.ndim)"
      ],
      "metadata": {
        "colab": {
          "base_uri": "https://localhost:8080/"
        },
        "id": "o24X7ol7ka-I",
        "outputId": "6824b968-278f-4a3b-c723-8a9fd87204e2"
      },
      "execution_count": null,
      "outputs": [
        {
          "output_type": "stream",
          "name": "stdout",
          "text": [
            "3\n"
          ]
        }
      ]
    },
    {
      "cell_type": "code",
      "source": [
        "for i in range(len(a)):\n",
        "  for j in range(len(a[i])):\n",
        "    for k in range(len(a[i][j])):\n",
        "      print(a[i][j][k],end=' ')\n",
        "    print()\n",
        "  print()"
      ],
      "metadata": {
        "colab": {
          "base_uri": "https://localhost:8080/"
        },
        "id": "XcjYqeEsmlTa",
        "outputId": "c3c765ff-d563-4e44-b99a-bf1952a44d9a"
      },
      "execution_count": null,
      "outputs": [
        {
          "output_type": "stream",
          "name": "stdout",
          "text": [
            "1 2 3 \n",
            "1 2 3 \n",
            "\n",
            "4 5 6 \n",
            "7 8 9 \n",
            "\n"
          ]
        }
      ]
    },
    {
      "cell_type": "markdown",
      "source": [
        "# slicing with multi-dimensional array\n"
      ],
      "metadata": {
        "id": "Py3M3FS-qJ7A"
      }
    },
    {
      "cell_type": "code",
      "source": [
        "from numpy import*\n",
        "a=array([[1,2,3],[4,5,6],[7,8,9]])\n",
        "print(a)"
      ],
      "metadata": {
        "colab": {
          "base_uri": "https://localhost:8080/"
        },
        "id": "HsJG71CSn3_4",
        "outputId": "8de82e63-3aa1-46f9-9cbc-c608b3c14ebc"
      },
      "execution_count": null,
      "outputs": [
        {
          "output_type": "stream",
          "name": "stdout",
          "text": [
            "[[1 2 3]\n",
            " [4 5 6]\n",
            " [7 8 9]]\n"
          ]
        }
      ]
    },
    {
      "cell_type": "code",
      "source": [
        "a[:,:] #this will  display the entire 2D array"
      ],
      "metadata": {
        "colab": {
          "base_uri": "https://localhost:8080/"
        },
        "id": "bZ4Jt1G9qer_",
        "outputId": "1dfd503b-3e39-4c33-c462-4904748c2997"
      },
      "execution_count": null,
      "outputs": [
        {
          "output_type": "execute_result",
          "data": {
            "text/plain": [
              "array([[1, 2, 3],\n",
              "       [4, 5, 6],\n",
              "       [7, 8, 9]])"
            ]
          },
          "metadata": {},
          "execution_count": 23
        }
      ]
    },
    {
      "cell_type": "code",
      "source": [
        "a[:] # this will  display the entire 2D array"
      ],
      "metadata": {
        "colab": {
          "base_uri": "https://localhost:8080/"
        },
        "id": "rKaScplYts69",
        "outputId": "a6b49ead-d389-4bcd-bfef-aa756bbc6922"
      },
      "execution_count": null,
      "outputs": [
        {
          "output_type": "execute_result",
          "data": {
            "text/plain": [
              "array([[1, 2, 3],\n",
              "       [4, 5, 6],\n",
              "       [7, 8, 9]])"
            ]
          },
          "metadata": {},
          "execution_count": 24
        }
      ]
    },
    {
      "cell_type": "code",
      "source": [
        "a[: :]# this will display the entire 2D array"
      ],
      "metadata": {
        "colab": {
          "base_uri": "https://localhost:8080/"
        },
        "id": "SA2hnj1OtkDl",
        "outputId": "c3f5907f-35d0-4826-e747-43046c457efc"
      },
      "execution_count": null,
      "outputs": [
        {
          "output_type": "execute_result",
          "data": {
            "text/plain": [
              "array([[1, 2, 3],\n",
              "       [4, 5, 6],\n",
              "       [7, 8, 9]])"
            ]
          },
          "metadata": {},
          "execution_count": 26
        }
      ]
    },
    {
      "cell_type": "code",
      "source": [
        "a[0,:] # 0 represents row number, : represents all column elements in that row"
      ],
      "metadata": {
        "colab": {
          "base_uri": "https://localhost:8080/"
        },
        "id": "JUVDP4wRt6bX",
        "outputId": "36463171-1dcd-4d8c-a4ec-27c218e49e94"
      },
      "execution_count": null,
      "outputs": [
        {
          "output_type": "execute_result",
          "data": {
            "text/plain": [
              "array([1, 2, 3])"
            ]
          },
          "metadata": {},
          "execution_count": 29
        }
      ]
    },
    {
      "cell_type": "code",
      "source": [
        "a[:,0] #  returns all the rows of 0th column"
      ],
      "metadata": {
        "colab": {
          "base_uri": "https://localhost:8080/"
        },
        "id": "ZqOhe5Qvvqj2",
        "outputId": "f8681c81-32ba-4fa9-8642-271b60ed3e5e"
      },
      "execution_count": null,
      "outputs": [
        {
          "output_type": "execute_result",
          "data": {
            "text/plain": [
              "array([1, 4, 7])"
            ]
          },
          "metadata": {},
          "execution_count": 32
        }
      ]
    },
    {
      "cell_type": "code",
      "source": [
        "a[:,1]# all the rows of 1st column"
      ],
      "metadata": {
        "colab": {
          "base_uri": "https://localhost:8080/"
        },
        "id": "YGEAosYwvw_S",
        "outputId": "cbf692d6-68e2-405b-f757-13711f0c0663"
      },
      "execution_count": null,
      "outputs": [
        {
          "output_type": "execute_result",
          "data": {
            "text/plain": [
              "array([2, 5, 8])"
            ]
          },
          "metadata": {},
          "execution_count": 33
        }
      ]
    },
    {
      "cell_type": "code",
      "source": [
        "a[:,2]# all the rows of 2nd column"
      ],
      "metadata": {
        "colab": {
          "base_uri": "https://localhost:8080/"
        },
        "id": "Ib2kxIMmv3gE",
        "outputId": "269da4c1-6aeb-468c-ead6-9f83b253f569"
      },
      "execution_count": null,
      "outputs": [
        {
          "output_type": "execute_result",
          "data": {
            "text/plain": [
              "array([3, 6, 9])"
            ]
          },
          "metadata": {},
          "execution_count": 40
        }
      ]
    },
    {
      "cell_type": "code",
      "source": [
        "a[0:1,0:1] #first row, first column"
      ],
      "metadata": {
        "colab": {
          "base_uri": "https://localhost:8080/"
        },
        "id": "zPKQ8f-ivPSk",
        "outputId": "db1202b9-9820-454b-dcd3-bd6abe19d399"
      },
      "execution_count": null,
      "outputs": [
        {
          "output_type": "execute_result",
          "data": {
            "text/plain": [
              "array([[1]])"
            ]
          },
          "metadata": {},
          "execution_count": 36
        }
      ]
    },
    {
      "cell_type": "code",
      "source": [
        "a[1:2,1:2]# 1st row, 1st column"
      ],
      "metadata": {
        "colab": {
          "base_uri": "https://localhost:8080/"
        },
        "id": "ZVpC04Nyv22i",
        "outputId": "48464350-5115-44c5-a891-adbccc3166d8"
      },
      "execution_count": null,
      "outputs": [
        {
          "output_type": "execute_result",
          "data": {
            "text/plain": [
              "array([[5]])"
            ]
          },
          "metadata": {},
          "execution_count": 41
        }
      ]
    },
    {
      "cell_type": "code",
      "source": [
        "a[2:3,1:2] # 2nd row and 1st column"
      ],
      "metadata": {
        "colab": {
          "base_uri": "https://localhost:8080/"
        },
        "id": "v0mv-ajUvwM3",
        "outputId": "3c6ad7a5-addc-4e84-a9d5-54abbae130b5"
      },
      "execution_count": null,
      "outputs": [
        {
          "output_type": "execute_result",
          "data": {
            "text/plain": [
              "array([[8]])"
            ]
          },
          "metadata": {},
          "execution_count": 42
        }
      ]
    },
    {
      "cell_type": "markdown",
      "source": [
        "# Matrices in numpy\n",
        "\n",
        "what is matrix?.\n",
        "\n",
        "matrix represents a rectangular array of elements arranged in rows and columns.\n",
        "\n",
        "* row matrix:\\\n",
        "if a matrix has 1 row, it is called a 'row matrix'.\n",
        "* column matrix:\\\n",
        "if a matrix has 1 column, it is called a 'column matrix'.\n",
        "\n",
        "# To work with numpy matrices, numpy provides a special object called **matrix**."
      ],
      "metadata": {
        "id": "v1QhMqrDyfuW"
      }
    },
    {
      "cell_type": "code",
      "source": [
        "from numpy import *\n",
        "arr=array([[1,2,3],[4,5,6],[7,8,9]])\n",
        "print(type(a))\n",
        "A=matrix(arr)\n",
        "print(type(A))"
      ],
      "metadata": {
        "colab": {
          "base_uri": "https://localhost:8080/"
        },
        "id": "IgNIVWWZve8X",
        "outputId": "d33b00af-cb3c-412e-9f34-c81ba3606c51"
      },
      "execution_count": null,
      "outputs": [
        {
          "output_type": "stream",
          "name": "stdout",
          "text": [
            "<class 'numpy.ndarray'>\n",
            "<class 'numpy.matrix'>\n"
          ]
        }
      ]
    },
    {
      "cell_type": "code",
      "source": [
        "print(A)"
      ],
      "metadata": {
        "colab": {
          "base_uri": "https://localhost:8080/"
        },
        "id": "05fRVhrz7S75",
        "outputId": "52efc214-7643-4b77-c5ab-82fe2a3b501e"
      },
      "execution_count": null,
      "outputs": [
        {
          "output_type": "stream",
          "name": "stdout",
          "text": [
            "[[1 2 3]\n",
            " [4 5 6]\n",
            " [7 8 9]]\n"
          ]
        }
      ]
    },
    {
      "cell_type": "code",
      "source": [
        "#we can also pass 2D array directly to matrix object as:\n",
        "B=matrix([[1,4,3],[4,5,6],[5,6,7]])\n",
        "print(B)"
      ],
      "metadata": {
        "colab": {
          "base_uri": "https://localhost:8080/"
        },
        "id": "YTtJUS407W2N",
        "outputId": "8dba3083-3bc7-4f2e-928c-28de5d899553"
      },
      "execution_count": null,
      "outputs": [
        {
          "output_type": "stream",
          "name": "stdout",
          "text": [
            "[[1 4 3]\n",
            " [4 5 6]\n",
            " [5 6 7]]\n"
          ]
        }
      ]
    },
    {
      "cell_type": "code",
      "source": [
        "B"
      ],
      "metadata": {
        "colab": {
          "base_uri": "https://localhost:8080/"
        },
        "id": "ctjOhAfL71Ua",
        "outputId": "ae7a45da-d979-48c8-a1d3-097a96cafd71"
      },
      "execution_count": null,
      "outputs": [
        {
          "output_type": "execute_result",
          "data": {
            "text/plain": [
              "matrix([[1, 4, 3],\n",
              "        [4, 5, 6],\n",
              "        [5, 6, 7]])"
            ]
          },
          "metadata": {},
          "execution_count": 50
        }
      ]
    },
    {
      "cell_type": "code",
      "source": [
        "# we can also pass string of elements \n",
        "str1='1 2 3;4 5 6;7 8 9' # semicolon is there after each row of elements\n",
        "b=matrix(str1)\n",
        "b"
      ],
      "metadata": {
        "colab": {
          "base_uri": "https://localhost:8080/"
        },
        "id": "SJX-NRRX8Bnh",
        "outputId": "9d2d1d4c-5c49-47e9-ef33-2d1071de2883"
      },
      "execution_count": null,
      "outputs": [
        {
          "output_type": "execute_result",
          "data": {
            "text/plain": [
              "matrix([[1, 2, 3],\n",
              "        [4, 5, 6],\n",
              "        [7, 8, 9]])"
            ]
          },
          "metadata": {},
          "execution_count": 53
        }
      ]
    },
    {
      "cell_type": "code",
      "source": [
        "print(b)"
      ],
      "metadata": {
        "colab": {
          "base_uri": "https://localhost:8080/"
        },
        "id": "n5NABZxH8XzU",
        "outputId": "b74c6183-4b4a-4c6f-e4af-75840a4fe726"
      },
      "execution_count": null,
      "outputs": [
        {
          "output_type": "stream",
          "name": "stdout",
          "text": [
            "[[1 2 3]\n",
            " [4 5 6]\n",
            " [7 8 9]]\n"
          ]
        }
      ]
    },
    {
      "cell_type": "code",
      "source": [
        "c=matrix('1 2 3;4 5 6;7 8 9')\n",
        "c"
      ],
      "metadata": {
        "colab": {
          "base_uri": "https://localhost:8080/"
        },
        "id": "SADRoZN38hT1",
        "outputId": "4e6a1243-29a1-44ac-e02a-334c4322d2c4"
      },
      "execution_count": null,
      "outputs": [
        {
          "output_type": "execute_result",
          "data": {
            "text/plain": [
              "matrix([[1, 2, 3],\n",
              "        [4, 5, 6],\n",
              "        [7, 8, 9]])"
            ]
          },
          "metadata": {},
          "execution_count": 55
        }
      ]
    },
    {
      "cell_type": "markdown",
      "source": [
        "# Getting diagonal elements of matrix\n",
        "\n",
        "using diagonal() function"
      ],
      "metadata": {
        "id": "lk_ltMtg9EyA"
      }
    },
    {
      "cell_type": "code",
      "source": [
        "d=diagonal(c)\n",
        "d"
      ],
      "metadata": {
        "colab": {
          "base_uri": "https://localhost:8080/"
        },
        "id": "2r8lEkpo89oU",
        "outputId": "be846698-aa56-413d-cc57-257b03db0b09"
      },
      "execution_count": null,
      "outputs": [
        {
          "output_type": "execute_result",
          "data": {
            "text/plain": [
              "array([1, 5, 9])"
            ]
          },
          "metadata": {},
          "execution_count": 57
        }
      ]
    },
    {
      "cell_type": "code",
      "source": [
        "print(d)"
      ],
      "metadata": {
        "colab": {
          "base_uri": "https://localhost:8080/"
        },
        "id": "B6fn8Tvd9dCo",
        "outputId": "5b4e71f8-0727-442f-bfae-34daee94c763"
      },
      "execution_count": null,
      "outputs": [
        {
          "output_type": "stream",
          "name": "stdout",
          "text": [
            "[1 5 9]\n"
          ]
        }
      ]
    },
    {
      "cell_type": "markdown",
      "source": [
        "# finding maximum and minimun elements\n",
        "\n",
        "using max() and min() methods"
      ],
      "metadata": {
        "id": "wCQvcUwd9s0I"
      }
    },
    {
      "cell_type": "code",
      "source": [
        "big=c.max()\n",
        "print('max is',big)\n",
        "small=c.min()\n",
        "print('min is',small)"
      ],
      "metadata": {
        "colab": {
          "base_uri": "https://localhost:8080/"
        },
        "id": "EdzAAwwk9mET",
        "outputId": "7163ee3b-7dc1-4d28-db05-3526680a8b4f"
      },
      "execution_count": null,
      "outputs": [
        {
          "output_type": "stream",
          "name": "stdout",
          "text": [
            "max is 9\n",
            "min is 1\n"
          ]
        }
      ]
    },
    {
      "cell_type": "markdown",
      "source": [
        "# finding sum and average of elements in matrix\n",
        "\n",
        "using sum() and mean() methods"
      ],
      "metadata": {
        "id": "oAOjaVW_-sxa"
      }
    },
    {
      "cell_type": "code",
      "source": [
        "print('sum of elements',c.sum())\n",
        "print('average of elements',c.mean())"
      ],
      "metadata": {
        "colab": {
          "base_uri": "https://localhost:8080/"
        },
        "id": "Xd-dzQqJ-ciZ",
        "outputId": "c327e8cf-b549-46ce-e6fd-53cb7c7600f1"
      },
      "execution_count": null,
      "outputs": [
        {
          "output_type": "stream",
          "name": "stdout",
          "text": [
            "sum of elements 45\n",
            "average of elements 5.0\n"
          ]
        }
      ]
    },
    {
      "cell_type": "markdown",
      "source": [
        "#product of Elements\n",
        "\n",
        "using prod() method"
      ],
      "metadata": {
        "id": "QkMXiXof_P8z"
      }
    },
    {
      "cell_type": "code",
      "source": [
        "m=matrix(arange(1,13).reshape(3,4))\n",
        "m"
      ],
      "metadata": {
        "colab": {
          "base_uri": "https://localhost:8080/"
        },
        "id": "2tEETIDt-9u1",
        "outputId": "1189d9c7-d02d-4a5d-fe73-d1299f92eed2"
      },
      "execution_count": null,
      "outputs": [
        {
          "output_type": "execute_result",
          "data": {
            "text/plain": [
              "matrix([[ 1,  2,  3,  4],\n",
              "        [ 5,  6,  7,  8],\n",
              "        [ 9, 10, 11, 12]])"
            ]
          },
          "metadata": {},
          "execution_count": 65
        }
      ]
    },
    {
      "cell_type": "code",
      "source": [
        "print('product of column elements:',m.prod(0))# 0 represents product of column elements"
      ],
      "metadata": {
        "colab": {
          "base_uri": "https://localhost:8080/"
        },
        "id": "WsSpeLOx_hNP",
        "outputId": "974e0f37-be5d-4c37-c56b-531c512abe71"
      },
      "execution_count": null,
      "outputs": [
        {
          "output_type": "stream",
          "name": "stdout",
          "text": [
            "product of elements: [[ 45 120 231 384]]\n"
          ]
        }
      ]
    },
    {
      "cell_type": "code",
      "source": [
        "print('product of row elements:',m.prod(1))# 1 represents product of row elements"
      ],
      "metadata": {
        "colab": {
          "base_uri": "https://localhost:8080/"
        },
        "id": "uBQHVuP6_nUW",
        "outputId": "23ba3069-6888-4d9f-e1b5-d7c914ce89a8"
      },
      "execution_count": null,
      "outputs": [
        {
          "output_type": "stream",
          "name": "stdout",
          "text": [
            "product of elements: [[   24]\n",
            " [ 1680]\n",
            " [11880]]\n"
          ]
        }
      ]
    },
    {
      "cell_type": "code",
      "source": [
        "print('product of all elements',m.prod())"
      ],
      "metadata": {
        "colab": {
          "base_uri": "https://localhost:8080/"
        },
        "id": "Cw0rBFmDAjBN",
        "outputId": "d020ede6-29f4-4cbb-ef78-74c4527ea90d"
      },
      "execution_count": null,
      "outputs": [
        {
          "output_type": "stream",
          "name": "stdout",
          "text": [
            "product of all elements 479001600\n"
          ]
        }
      ]
    },
    {
      "cell_type": "markdown",
      "source": [
        "# sorting the matrix\n",
        "\n",
        "using sort() function\n",
        "* syntax:\\\n",
        "sort(matrix,axis) axis=0 represents colum wise sort,1 for row wise, by default sorted row wise."
      ],
      "metadata": {
        "id": "FbXmXBOtBLtV"
      }
    },
    {
      "cell_type": "code",
      "source": [
        "m=matrix([[5,4,1],[2,7,0]])\n",
        "m"
      ],
      "metadata": {
        "colab": {
          "base_uri": "https://localhost:8080/"
        },
        "id": "DW42MqACA6aF",
        "outputId": "04bb68fc-0d37-4f94-a08c-c0dcbd83e08a"
      },
      "execution_count": null,
      "outputs": [
        {
          "output_type": "execute_result",
          "data": {
            "text/plain": [
              "matrix([[5, 4, 1],\n",
              "        [2, 7, 0]])"
            ]
          },
          "metadata": {},
          "execution_count": 72
        }
      ]
    },
    {
      "cell_type": "code",
      "source": [
        "print(sort(m))# defualt sorted row wise"
      ],
      "metadata": {
        "colab": {
          "base_uri": "https://localhost:8080/"
        },
        "id": "h2aojg8XBxLN",
        "outputId": "f117ea20-1f65-41cc-d171-5a8b9c977d6d"
      },
      "execution_count": null,
      "outputs": [
        {
          "output_type": "stream",
          "name": "stdout",
          "text": [
            "[[1 4 5]\n",
            " [0 2 7]]\n"
          ]
        }
      ]
    },
    {
      "cell_type": "code",
      "source": [
        "print(sort(m,axis=1)) # 1 represents row wise sorted"
      ],
      "metadata": {
        "colab": {
          "base_uri": "https://localhost:8080/"
        },
        "id": "uheTSJHWB3vp",
        "outputId": "9e19dd07-3a50-4139-941f-ed2a40399afd"
      },
      "execution_count": null,
      "outputs": [
        {
          "output_type": "stream",
          "name": "stdout",
          "text": [
            "[[1 4 5]\n",
            " [0 2 7]]\n"
          ]
        }
      ]
    },
    {
      "cell_type": "code",
      "source": [
        "print(sort(m,axis=0))# column wise sorted"
      ],
      "metadata": {
        "colab": {
          "base_uri": "https://localhost:8080/"
        },
        "id": "CONK_HRMB7Wf",
        "outputId": "a4abe198-eda6-4c4a-9860-b98cff097c9d"
      },
      "execution_count": null,
      "outputs": [
        {
          "output_type": "stream",
          "name": "stdout",
          "text": [
            "[[2 4 0]\n",
            " [5 7 1]]\n"
          ]
        }
      ]
    },
    {
      "cell_type": "markdown",
      "source": [
        "# Transpose of matrix\n",
        "using tranpose() and getT() methods"
      ],
      "metadata": {
        "id": "B55AoczNDeIi"
      }
    },
    {
      "cell_type": "code",
      "source": [
        "t=m.transpose()\n",
        "print('before transpose:')\n",
        "print(m)\n",
        "print('after transpose')\n",
        "print(t)"
      ],
      "metadata": {
        "colab": {
          "base_uri": "https://localhost:8080/"
        },
        "id": "ZBpF5LOwCLA9",
        "outputId": "cac0aab2-c1f4-4e8d-93e5-c1de3d8bb5ed"
      },
      "execution_count": null,
      "outputs": [
        {
          "output_type": "stream",
          "name": "stdout",
          "text": [
            "before transpose:\n",
            "[[5 4 1]\n",
            " [2 7 0]]\n",
            "after transpose\n",
            "[[5 2]\n",
            " [4 7]\n",
            " [1 0]]\n"
          ]
        }
      ]
    },
    {
      "cell_type": "code",
      "source": [
        "#using getT() method\n",
        "t1=m.getT()\n",
        "print('before transpose')\n",
        "print(m)\n",
        "print('after transpose')\n",
        "print(t1)"
      ],
      "metadata": {
        "colab": {
          "base_uri": "https://localhost:8080/"
        },
        "id": "gu0F6k7aGY7f",
        "outputId": "3b4b9bf7-6f74-44be-9387-c65045e14dd5"
      },
      "execution_count": null,
      "outputs": [
        {
          "output_type": "stream",
          "name": "stdout",
          "text": [
            "before transpose\n",
            "[[5 4 1]\n",
            " [2 7 0]]\n",
            "after transpose\n",
            "[[5 2]\n",
            " [4 7]\n",
            " [1 0]]\n"
          ]
        }
      ]
    },
    {
      "cell_type": "code",
      "source": [
        "# write a python program to accept a matrix from the keyboard and display transpose matrix\n",
        "from numpy import*\n",
        "# accept number of rows and columns into r,c\n",
        "r,c=[int(a) for a in input('enter rows, cols:').split()]\n",
        "# accept the matrix elements as a string into str\n",
        "st1=input('enter the matrix elements:')\n",
        "#convert the string into matrix with size rXc\n",
        "x=reshape(matrix(st1),(r,c))\n",
        "print('orignal matrix')\n",
        "print(x)\n",
        "print()\n",
        "print('transposed matrix')\n",
        "y=x.transpose()\n",
        "print(y)"
      ],
      "metadata": {
        "colab": {
          "base_uri": "https://localhost:8080/"
        },
        "id": "0C6IvSA0GxQ6",
        "outputId": "2cda257b-730b-4a99-d253-71d5a6a226b5"
      },
      "execution_count": null,
      "outputs": [
        {
          "output_type": "stream",
          "name": "stdout",
          "text": [
            "enter rows, cols:3 3\n",
            "enter the matrix elements:1 2 3 4 5 6 7 8 9\n",
            "orignal matrix\n",
            "[[1 2 3]\n",
            " [4 5 6]\n",
            " [7 8 9]]\n",
            "\n",
            "transposed matrix\n",
            "[[1 4 7]\n",
            " [2 5 8]\n",
            " [3 6 9]]\n"
          ]
        }
      ]
    },
    {
      "cell_type": "code",
      "source": [
        ""
      ],
      "metadata": {
        "id": "TyetVBhoILe4"
      },
      "execution_count": null,
      "outputs": []
    },
    {
      "cell_type": "markdown",
      "source": [
        "# matrix addition and multiplication\n"
      ],
      "metadata": {
        "id": "Ehoj5bXZJuyP"
      }
    },
    {
      "cell_type": "code",
      "source": [
        "from numpy import*\n",
        "A=matrix(arange(1,10).reshape(3,3))\n",
        "B=matrix(arange(4,13).reshape(3,3))\n",
        "print('matrix A is\\n',A)\n",
        "print('matrix B is\\n',B)"
      ],
      "metadata": {
        "colab": {
          "base_uri": "https://localhost:8080/"
        },
        "id": "LQf0kZ4xKX_v",
        "outputId": "6a050f84-cbca-4b1e-b069-1530f2918392"
      },
      "execution_count": null,
      "outputs": [
        {
          "output_type": "stream",
          "name": "stdout",
          "text": [
            "matrix A is\n",
            " [[1 2 3]\n",
            " [4 5 6]\n",
            " [7 8 9]]\n",
            "matrix B is\n",
            " [[ 4  5  6]\n",
            " [ 7  8  9]\n",
            " [10 11 12]]\n"
          ]
        }
      ]
    },
    {
      "cell_type": "code",
      "source": [
        "# addition\n",
        "print(A+B)# corresponding elements are added"
      ],
      "metadata": {
        "colab": {
          "base_uri": "https://localhost:8080/"
        },
        "id": "cSPJ3X1nMDsg",
        "outputId": "b4badaee-978d-43c8-ebee-576a223efc43"
      },
      "execution_count": null,
      "outputs": [
        {
          "output_type": "stream",
          "name": "stdout",
          "text": [
            "[[ 5  7  9]\n",
            " [11 13 15]\n",
            " [17 19 21]]\n"
          ]
        }
      ]
    },
    {
      "cell_type": "code",
      "source": [
        "# substraction\n",
        "print(A-B)# corresponding elements are substracted"
      ],
      "metadata": {
        "colab": {
          "base_uri": "https://localhost:8080/"
        },
        "id": "234wPQlWMYzF",
        "outputId": "e4e2621d-d10e-4d70-f98c-415cfde43698"
      },
      "execution_count": null,
      "outputs": [
        {
          "output_type": "stream",
          "name": "stdout",
          "text": [
            "[[-3 -3 -3]\n",
            " [-3 -3 -3]\n",
            " [-3 -3 -3]]\n"
          ]
        }
      ]
    },
    {
      "cell_type": "code",
      "source": [
        "#division\n",
        "print(A/B) #corresponding elements are divided."
      ],
      "metadata": {
        "colab": {
          "base_uri": "https://localhost:8080/"
        },
        "id": "95bJcqU5MSpr",
        "outputId": "7d5d41a0-8c11-42c4-c722-af332c601fd3"
      },
      "execution_count": null,
      "outputs": [
        {
          "output_type": "stream",
          "name": "stdout",
          "text": [
            "[[0.25       0.4        0.5       ]\n",
            " [0.57142857 0.625      0.66666667]\n",
            " [0.7        0.72727273 0.75      ]]\n"
          ]
        }
      ]
    },
    {
      "cell_type": "code",
      "source": [
        "from numpy import*\n",
        "A=matrix(arange(1,11).reshape(2,5))\n",
        "B=matrix(arange(4,13).reshape(3,3))\n",
        "print('matrix A is\\n',A)\n",
        "print('matrix B is\\n',B)"
      ],
      "metadata": {
        "colab": {
          "base_uri": "https://localhost:8080/"
        },
        "id": "RvMh5Ht3MkE6",
        "outputId": "d49b69c4-6d84-40c8-b925-6ef141795800"
      },
      "execution_count": null,
      "outputs": [
        {
          "output_type": "stream",
          "name": "stdout",
          "text": [
            "matrix A is\n",
            " [[ 1  2  3  4  5]\n",
            " [ 6  7  8  9 10]]\n",
            "matrix B is\n",
            " [[ 4  5  6]\n",
            " [ 7  8  9]\n",
            " [10 11 12]]\n"
          ]
        }
      ]
    },
    {
      "cell_type": "code",
      "source": [
        "print(A+B) # cannot perform add, sub, div because matrix size is not same"
      ],
      "metadata": {
        "colab": {
          "base_uri": "https://localhost:8080/",
          "height": 171
        },
        "id": "TkMNEhduNbTh",
        "outputId": "fcd71103-7392-4ae2-d2a0-24b135f75ec3"
      },
      "execution_count": null,
      "outputs": [
        {
          "output_type": "error",
          "ename": "ValueError",
          "evalue": "ignored",
          "traceback": [
            "\u001b[0;31m---------------------------------------------------------------------------\u001b[0m",
            "\u001b[0;31mValueError\u001b[0m                                Traceback (most recent call last)",
            "\u001b[0;32m<ipython-input-94-d4231d815df3>\u001b[0m in \u001b[0;36m<module>\u001b[0;34m()\u001b[0m\n\u001b[0;32m----> 1\u001b[0;31m \u001b[0mprint\u001b[0m\u001b[0;34m(\u001b[0m\u001b[0mA\u001b[0m\u001b[0;34m+\u001b[0m\u001b[0mB\u001b[0m\u001b[0;34m)\u001b[0m\u001b[0;34m\u001b[0m\u001b[0;34m\u001b[0m\u001b[0m\n\u001b[0m",
            "\u001b[0;31mValueError\u001b[0m: operands could not be broadcast together with shapes (2,5) (3,3) "
          ]
        }
      ]
    },
    {
      "cell_type": "markdown",
      "source": [
        "#Matrix Multiplication\n",
        "\n",
        "If we want to perform matrix multiplicaton between A and B.\n",
        "the number of columns in matrix A is equal to number of rows in matrix B.\n"
      ],
      "metadata": {
        "id": "KeEB9zIHNx6V"
      }
    },
    {
      "cell_type": "code",
      "source": [
        "from numpy import*\n",
        "A=matrix(arange(1,10).reshape(3,3))\n",
        "B=matrix(arange(4,13).reshape(3,3))\n",
        "print('matrix A is\\n',A)\n",
        "print('matrix B is\\n',B)"
      ],
      "metadata": {
        "colab": {
          "base_uri": "https://localhost:8080/"
        },
        "id": "P6a00CifNdMz",
        "outputId": "73add286-8c1c-42ae-d362-01dd53ae9440"
      },
      "execution_count": null,
      "outputs": [
        {
          "output_type": "stream",
          "name": "stdout",
          "text": [
            "matrix A is\n",
            " [[1 2 3]\n",
            " [4 5 6]\n",
            " [7 8 9]]\n",
            "matrix B is\n",
            " [[ 4  5  6]\n",
            " [ 7  8  9]\n",
            " [10 11 12]]\n"
          ]
        }
      ]
    },
    {
      "cell_type": "code",
      "source": [
        "print('product of two matrices A and B is\\n',A*B)"
      ],
      "metadata": {
        "colab": {
          "base_uri": "https://localhost:8080/"
        },
        "id": "lbIErQZMOadu",
        "outputId": "772b8509-96b2-4c7c-ea0b-9cb3abfb15fc"
      },
      "execution_count": null,
      "outputs": [
        {
          "output_type": "stream",
          "name": "stdout",
          "text": [
            "product of two matrices A and B is\n",
            " [[ 48  54  60]\n",
            " [111 126 141]\n",
            " [174 198 222]]\n"
          ]
        }
      ]
    },
    {
      "cell_type": "code",
      "source": [
        ""
      ],
      "metadata": {
        "id": "s1Vccat7OmGM"
      },
      "execution_count": null,
      "outputs": []
    },
    {
      "cell_type": "markdown",
      "source": [
        "# Random numbers\n",
        "using random is a moudule in numpy\n"
      ],
      "metadata": {
        "id": "JQLBKjmnUs-w"
      }
    },
    {
      "cell_type": "code",
      "source": [
        "random.rand()"
      ],
      "metadata": {
        "colab": {
          "base_uri": "https://localhost:8080/"
        },
        "id": "01YkJXkKU_Lj",
        "outputId": "d4af6708-12c8-48d4-a182-51ac9a5ad7a6"
      },
      "execution_count": null,
      "outputs": [
        {
          "output_type": "execute_result",
          "data": {
            "text/plain": [
              "0.9480478533031536"
            ]
          },
          "metadata": {},
          "execution_count": 97
        }
      ]
    },
    {
      "cell_type": "code",
      "source": [
        "random.rand(5)"
      ],
      "metadata": {
        "colab": {
          "base_uri": "https://localhost:8080/"
        },
        "id": "kvvv9oRkVCS0",
        "outputId": "3833c107-5367-4042-bb3d-8c1ce6e35b3c"
      },
      "execution_count": null,
      "outputs": [
        {
          "output_type": "execute_result",
          "data": {
            "text/plain": [
              "array([0.41883434, 0.80322005, 0.92109171, 0.66433804, 0.69410029])"
            ]
          },
          "metadata": {},
          "execution_count": 98
        }
      ]
    },
    {
      "cell_type": "code",
      "source": [
        "random.rand(2,4)"
      ],
      "metadata": {
        "colab": {
          "base_uri": "https://localhost:8080/"
        },
        "id": "WyIWO-pJVJb9",
        "outputId": "07cc39b9-e725-4949-d850-24e4135134e5"
      },
      "execution_count": null,
      "outputs": [
        {
          "output_type": "execute_result",
          "data": {
            "text/plain": [
              "array([[0.46490704, 0.45940492, 0.97673711, 0.96213842],\n",
              "       [0.48516573, 0.16015651, 0.98114865, 0.9922096 ]])"
            ]
          },
          "metadata": {},
          "execution_count": 99
        }
      ]
    },
    {
      "cell_type": "code",
      "source": [
        ""
      ],
      "metadata": {
        "id": "Een8YdtnVGy_"
      },
      "execution_count": null,
      "outputs": []
    }
  ]
}