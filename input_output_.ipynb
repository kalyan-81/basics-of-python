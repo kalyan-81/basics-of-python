{
  "nbformat": 4,
  "nbformat_minor": 0,
  "metadata": {
    "colab": {
      "name": "input /output .ipynb",
      "provenance": [],
      "authorship_tag": "ABX9TyM/kQP0X8NYs5HiELiUoGVt",
      "include_colab_link": true
    },
    "kernelspec": {
      "name": "python3",
      "display_name": "Python 3"
    },
    "language_info": {
      "name": "python"
    }
  },
  "cells": [
    {
      "cell_type": "markdown",
      "metadata": {
        "id": "view-in-github",
        "colab_type": "text"
      },
      "source": [
        "<a href=\"https://colab.research.google.com/github/kalyan-81/basics-of-python/blob/main/input_output_.ipynb\" target=\"_parent\"><img src=\"https://colab.research.google.com/assets/colab-badge.svg\" alt=\"Open In Colab\"/></a>"
      ]
    },
    {
      "cell_type": "markdown",
      "source": [
        "# **Taking input from user in python**\n",
        "using **input()** function"
      ],
      "metadata": {
        "id": "AlsXz88u9rey"
      }
    },
    {
      "cell_type": "code",
      "execution_count": 19,
      "metadata": {
        "id": "c7VVju1byrS6",
        "colab": {
          "base_uri": "https://localhost:8080/"
        },
        "outputId": "7465af0e-79bd-4ebf-bf42-1e075faee631"
      },
      "outputs": [
        {
          "output_type": "stream",
          "name": "stdout",
          "text": [
            "enter you value: 25\n",
            "25\n",
            "<class 'str'>\n"
          ]
        }
      ],
      "source": [
        "val=input(\"enter you value: \")\n",
        "print(val)\n",
        "print(type(val))"
      ]
    },
    {
      "cell_type": "code",
      "source": [
        "val1=input(\"enter your name: \")\n",
        "print(val1)\n",
        "print(type(val1))"
      ],
      "metadata": {
        "id": "_WgoJX9T-J2z",
        "colab": {
          "base_uri": "https://localhost:8080/"
        },
        "outputId": "6b0a30ac-2023-465f-9172-c26a0ebc1bba"
      },
      "execution_count": 20,
      "outputs": [
        {
          "output_type": "stream",
          "name": "stdout",
          "text": [
            "enter your name: kalyan\n",
            "kalyan\n",
            "<class 'str'>\n"
          ]
        }
      ]
    },
    {
      "cell_type": "code",
      "source": [
        "val1=input(\"enter your float num: \")\n",
        "print(val1)\n",
        "print(type(val1))"
      ],
      "metadata": {
        "colab": {
          "base_uri": "https://localhost:8080/"
        },
        "id": "Kdmd9V6jGkFL",
        "outputId": "076ee394-6aae-4e80-a7f8-ed7f8700d03f"
      },
      "execution_count": 21,
      "outputs": [
        {
          "output_type": "stream",
          "name": "stdout",
          "text": [
            "enter your float num: 50.84\n",
            "50.84\n",
            "<class 'str'>\n"
          ]
        }
      ]
    },
    {
      "cell_type": "code",
      "source": [
        "val1=input(\"enter your complex num: \")\n",
        "#print(val1)\n",
        "print(val1)\n",
        "print(type(val1))"
      ],
      "metadata": {
        "colab": {
          "base_uri": "https://localhost:8080/"
        },
        "id": "sxhT2Nn1GxqS",
        "outputId": "c28060f0-0e0b-4e9b-c15d-9a6842400376"
      },
      "execution_count": 24,
      "outputs": [
        {
          "output_type": "stream",
          "name": "stdout",
          "text": [
            "enter your complex num: 1+2j\n",
            "<class 'str'>\n"
          ]
        }
      ]
    },
    {
      "cell_type": "markdown",
      "source": [
        "# **Type casting**"
      ],
      "metadata": {
        "id": "wj-I4QHG-Sgk"
      }
    },
    {
      "cell_type": "code",
      "source": [
        "#type casting input to integer\n",
        "num1=input(\"enter the num1: \")\n",
        "num2=input(\"enter the num2: \")\n",
        "num3=int(num1)\n",
        "num4=int(num2)\n",
        "print(num3+num4)\n",
        "print(num1 + num2)"
      ],
      "metadata": {
        "id": "Ybd6eyxR-iGO",
        "colab": {
          "base_uri": "https://localhost:8080/"
        },
        "outputId": "39703c57-2abd-4917-e30e-0a11e032411c"
      },
      "execution_count": 26,
      "outputs": [
        {
          "output_type": "stream",
          "name": "stdout",
          "text": [
            "enter the num1: 4\n",
            "enter the num2: 5\n",
            "9\n",
            "45\n"
          ]
        }
      ]
    },
    {
      "cell_type": "code",
      "source": [
        "print(\"master\" +' '+ \"python\")"
      ],
      "metadata": {
        "colab": {
          "base_uri": "https://localhost:8080/"
        },
        "id": "Ty0avnlmJHBM",
        "outputId": "338bf4fb-b80a-4bd7-9fdd-43f52a2f64c5"
      },
      "execution_count": 28,
      "outputs": [
        {
          "output_type": "stream",
          "name": "stdout",
          "text": [
            "master python\n"
          ]
        }
      ]
    },
    {
      "cell_type": "code",
      "source": [
        "print(4 + 5)"
      ],
      "metadata": {
        "colab": {
          "base_uri": "https://localhost:8080/"
        },
        "id": "OtKYWEGhJcBK",
        "outputId": "d1fc5a6a-4fc8-4696-a1be-3be5141b808f"
      },
      "execution_count": 29,
      "outputs": [
        {
          "output_type": "stream",
          "name": "stdout",
          "text": [
            "9\n"
          ]
        }
      ]
    },
    {
      "cell_type": "code",
      "source": [
        "print('4' + \"6\")"
      ],
      "metadata": {
        "colab": {
          "base_uri": "https://localhost:8080/"
        },
        "id": "waKIN-HjJgVg",
        "outputId": "7cc79d3b-f54f-43e9-e1fd-dda299d87f63"
      },
      "execution_count": 30,
      "outputs": [
        {
          "output_type": "stream",
          "name": "stdout",
          "text": [
            "46\n"
          ]
        }
      ]
    },
    {
      "cell_type": "markdown",
      "source": [
        ""
      ],
      "metadata": {
        "id": "sZ-_zyn7JABi"
      }
    },
    {
      "cell_type": "code",
      "source": [
        "#type casting input to integer\n",
        "num1=int(input(\"enter num1: \"))\n",
        "num2=int(input(\"enter num2: \"))\n",
        "print(num1+num2)"
      ],
      "metadata": {
        "id": "uiNSn24S-U2T",
        "colab": {
          "base_uri": "https://localhost:8080/"
        },
        "outputId": "0befb7d6-ab29-4244-f013-0f03b1352460"
      },
      "execution_count": 31,
      "outputs": [
        {
          "output_type": "stream",
          "name": "stdout",
          "text": [
            "enter num1: 5\n",
            "enter num2: 10\n",
            "15\n"
          ]
        }
      ]
    },
    {
      "cell_type": "code",
      "source": [
        "#type casting input to float\n",
        "num1=float(input(\"enter the num1: \"))\n",
        "num2=float(input(\"enter the num2: \"))\n",
        "print(num1+num2)\n"
      ],
      "metadata": {
        "id": "O6kYnvAH_KNd",
        "colab": {
          "base_uri": "https://localhost:8080/"
        },
        "outputId": "d466c837-f7cb-4f90-8d61-7e6a3416b274"
      },
      "execution_count": 32,
      "outputs": [
        {
          "output_type": "stream",
          "name": "stdout",
          "text": [
            "enter the num1: 40.6\n",
            "enter the num2: 50.3\n",
            "90.9\n"
          ]
        }
      ]
    },
    {
      "cell_type": "code",
      "source": [
        "#type casting input to string\n",
        "text=str(input(\"enter the string value\"))\n",
        "print(text)\n",
        "type(text)"
      ],
      "metadata": {
        "id": "Y5TBqJVE_Xy_",
        "colab": {
          "base_uri": "https://localhost:8080/"
        },
        "outputId": "aa83d1e5-1aeb-4e63-8504-6307f388553e"
      },
      "execution_count": 34,
      "outputs": [
        {
          "output_type": "stream",
          "name": "stdout",
          "text": [
            "enter the string valuemaster python\n",
            "master python\n"
          ]
        },
        {
          "output_type": "execute_result",
          "data": {
            "text/plain": [
              "str"
            ]
          },
          "metadata": {},
          "execution_count": 34
        }
      ]
    },
    {
      "cell_type": "markdown",
      "source": [
        "# **Taking multiple inputs from user**\n",
        "\n",
        "using two methods\n",
        "* **split()**\n",
        "* **list comprehension**"
      ],
      "metadata": {
        "id": "0Mec6Qzn_yz3"
      }
    },
    {
      "cell_type": "code",
      "source": [
        "b,g=input(\"enter a two values with space separtion\").split()\n",
        "\n",
        "print(\"number of boys:\" ,b)\n",
        "print(\"number of girls: \",g)"
      ],
      "metadata": {
        "id": "r7_B_HkA_34I",
        "colab": {
          "base_uri": "https://localhost:8080/"
        },
        "outputId": "e50f430c-1b69-4e03-ab52-6046ad825042"
      },
      "execution_count": 40,
      "outputs": [
        {
          "output_type": "stream",
          "name": "stdout",
          "text": [
            "enter a two values with space separtion20 50\n",
            "number of boys: 20\n",
            "number of girls:  50\n"
          ]
        }
      ]
    },
    {
      "cell_type": "code",
      "source": [
        "b,g=input(\"enter a two values with space separtion\").split()\n",
        "\n",
        "#print(\"number of boys:\" ,b)\n",
        "#print(\"number of girls: \",g)\n",
        "print(\"number of boys are {} and number of girls are{}\".format(b,g))"
      ],
      "metadata": {
        "id": "ig6d4LykA1Nm",
        "colab": {
          "base_uri": "https://localhost:8080/"
        },
        "outputId": "fa240e18-f07d-4860-9be2-85c0b4d4f387"
      },
      "execution_count": 41,
      "outputs": [
        {
          "output_type": "stream",
          "name": "stdout",
          "text": [
            "enter a two values with space separtion30 50\n",
            "number of boys are 30 and number of girls are50\n"
          ]
        }
      ]
    },
    {
      "cell_type": "code",
      "source": [
        ""
      ],
      "metadata": {
        "id": "hkFpfXc9lnlH"
      },
      "execution_count": null,
      "outputs": []
    },
    {
      "cell_type": "code",
      "source": [
        "x,y=[2,5]\n",
        "print(x)\n",
        "print(y)"
      ],
      "metadata": {
        "colab": {
          "base_uri": "https://localhost:8080/"
        },
        "id": "o6JqG98Mm3w_",
        "outputId": "943d73c9-3f75-4bfa-b10e-f94f363cf86b"
      },
      "execution_count": 46,
      "outputs": [
        {
          "output_type": "stream",
          "name": "stdout",
          "text": [
            "2\n",
            "5\n"
          ]
        }
      ]
    },
    {
      "cell_type": "code",
      "source": [
        "a,b,c,d,e=[int (x) for x in input('enter the values').split()]\n",
        "print(a)\n",
        "print(b)\n",
        "print(c)"
      ],
      "metadata": {
        "colab": {
          "base_uri": "https://localhost:8080/"
        },
        "id": "QP3_--rM8BHc",
        "outputId": "1c0b1665-b52f-4cd2-bfe2-52f8e1187da4"
      },
      "execution_count": 50,
      "outputs": [
        {
          "output_type": "stream",
          "name": "stdout",
          "text": [
            "enter the values1 2 3 4 5\n",
            "1\n",
            "2\n",
            "3\n"
          ]
        }
      ]
    },
    {
      "cell_type": "code",
      "source": [
        "b=[int (x) for x in input('enter the values').split(\",\")]\n",
        "\n",
        "\n",
        "print(b)\n",
        "type(b)"
      ],
      "metadata": {
        "colab": {
          "base_uri": "https://localhost:8080/"
        },
        "id": "gQWhNnXPQlY8",
        "outputId": "fa6b8188-2dce-4c93-824b-27e1a7015db9"
      },
      "execution_count": 56,
      "outputs": [
        {
          "output_type": "stream",
          "name": "stdout",
          "text": [
            "enter the values1,2,3,4,5\n",
            "[1, 2, 3, 4, 5]\n"
          ]
        },
        {
          "output_type": "execute_result",
          "data": {
            "text/plain": [
              "list"
            ]
          },
          "metadata": {},
          "execution_count": 56
        }
      ]
    },
    {
      "cell_type": "code",
      "source": [
        "x=[int (x) for x in input('enter the values').split(\",\")]\n",
        "print(x)"
      ],
      "metadata": {
        "colab": {
          "base_uri": "https://localhost:8080/"
        },
        "id": "LugExG1s9M5o",
        "outputId": "2a830b20-d9f4-4872-8034-191a1a953a80"
      },
      "execution_count": 57,
      "outputs": [
        {
          "output_type": "stream",
          "name": "stdout",
          "text": [
            "enter the values1,2,3,4,5,6,7\n",
            "[1, 2, 3, 4, 5, 6, 7]\n"
          ]
        }
      ]
    },
    {
      "cell_type": "markdown",
      "source": [
        "# **Output the results using print() function**"
      ],
      "metadata": {
        "id": "pEeofP1J9slm"
      }
    },
    {
      "cell_type": "code",
      "source": [
        "print(\"master Python tutorial\\nis best for python content\\nkalyan\")"
      ],
      "metadata": {
        "colab": {
          "base_uri": "https://localhost:8080/"
        },
        "id": "NutBYOHs-Em9",
        "outputId": "12176ca9-d98b-46da-d30e-48f4037086d3"
      },
      "execution_count": 59,
      "outputs": [
        {
          "output_type": "stream",
          "name": "stdout",
          "text": [
            "master Python tutorial\n",
            "is best for python content\n",
            "kalyan\n"
          ]
        }
      ]
    },
    {
      "cell_type": "code",
      "source": [
        "print(\"master python tutorials\\t\\tis best for Python content\")\n"
      ],
      "metadata": {
        "colab": {
          "base_uri": "https://localhost:8080/"
        },
        "id": "_iuNcq5C-Qyi",
        "outputId": "e4d56238-171a-40c7-99bf-fc1b36ffbd59"
      },
      "execution_count": 63,
      "outputs": [
        {
          "output_type": "stream",
          "name": "stdout",
          "text": [
            "master python tutorials\t\tis best for Python content\n"
          ]
        }
      ]
    },
    {
      "cell_type": "code",
      "source": [
        "print(\"master python tutorials \\r is best for python content \\r super\")"
      ],
      "metadata": {
        "colab": {
          "base_uri": "https://localhost:8080/"
        },
        "id": "u9D6yvZb-aSj",
        "outputId": "88d038d4-2e35-442f-b804-a2db06208613"
      },
      "execution_count": 66,
      "outputs": [
        {
          "output_type": "stream",
          "name": "stdout",
          "text": [
            "master python tutorials \r is best for python content \r super\n"
          ]
        }
      ]
    },
    {
      "cell_type": "markdown",
      "source": [
        "# **end=\" \" statement**"
      ],
      "metadata": {
        "id": "4wKELpnt-ucR"
      }
    },
    {
      "cell_type": "code",
      "source": [
        "print(\"Hello\")\n",
        "print(\"welcome\")\n",
        "print(\"To\")\n",
        "print(\"My channel\")"
      ],
      "metadata": {
        "colab": {
          "base_uri": "https://localhost:8080/"
        },
        "id": "9sREGdCI-yUc",
        "outputId": "e0fd2387-7033-4799-fbe4-2db1d311404a"
      },
      "execution_count": 74,
      "outputs": [
        {
          "output_type": "stream",
          "name": "stdout",
          "text": [
            "Hello\n",
            "welcome\n",
            "To\n",
            "My channel\n"
          ]
        }
      ]
    },
    {
      "cell_type": "code",
      "source": [
        "print(\"Hello welcome To My channel\")"
      ],
      "metadata": {
        "colab": {
          "base_uri": "https://localhost:8080/"
        },
        "id": "L4_xLbLjVcvV",
        "outputId": "20a7717e-bde7-46f2-a101-936848cc4629"
      },
      "execution_count": 71,
      "outputs": [
        {
          "output_type": "stream",
          "name": "stdout",
          "text": [
            "Hello welcome To My channel\n"
          ]
        }
      ]
    },
    {
      "cell_type": "markdown",
      "source": [
        "# **Separator**"
      ],
      "metadata": {
        "id": "ggBDMY43BKog"
      }
    },
    {
      "cell_type": "code",
      "source": [
        "b=\"To\"\n",
        "print(\"Hello\",b,\"My world\",sep=\",\")"
      ],
      "metadata": {
        "colab": {
          "base_uri": "https://localhost:8080/"
        },
        "id": "o5AculLSBJfA",
        "outputId": "9a556e51-2d0f-4706-a3c7-85c2705a1598"
      },
      "execution_count": 76,
      "outputs": [
        {
          "output_type": "stream",
          "name": "stdout",
          "text": [
            "Hello,To,My world\n"
          ]
        }
      ]
    },
    {
      "cell_type": "code",
      "source": [
        "b=\"To\"\n",
        "print(\"Hello\",b,\"My world\")"
      ],
      "metadata": {
        "colab": {
          "base_uri": "https://localhost:8080/"
        },
        "id": "_etX--MLWIYt",
        "outputId": "dc6a8af0-2857-4e70-a2a1-cfed9e0a276b"
      },
      "execution_count": 77,
      "outputs": [
        {
          "output_type": "stream",
          "name": "stdout",
          "text": [
            "Hello To My world\n"
          ]
        }
      ]
    },
    {
      "cell_type": "code",
      "source": [
        "b=\"To\"\n",
        "print(\"Hello\",b,\"My world\",sep=\"#\")"
      ],
      "metadata": {
        "colab": {
          "base_uri": "https://localhost:8080/"
        },
        "id": "8NNFnRGsWOkX",
        "outputId": "34ecaf9c-d326-48e3-abcb-c13b9e2bc08b"
      },
      "execution_count": 78,
      "outputs": [
        {
          "output_type": "stream",
          "name": "stdout",
          "text": [
            "Hello#To#My world\n"
          ]
        }
      ]
    },
    {
      "cell_type": "code",
      "source": [
        "print(\"H\",\"e\",\"l\",\"l\",\"o\",sep='*')"
      ],
      "metadata": {
        "colab": {
          "base_uri": "https://localhost:8080/"
        },
        "id": "OTquUFmwBuRE",
        "outputId": "86782e33-50b2-480c-fecf-c58cd8acce45"
      },
      "execution_count": 83,
      "outputs": [
        {
          "output_type": "stream",
          "name": "stdout",
          "text": [
            "H*e*l*l*o\n"
          ]
        }
      ]
    }
  ]
}