{
  "nbformat": 4,
  "nbformat_minor": 0,
  "metadata": {
    "colab": {
      "name": "dictionary.ipynb",
      "provenance": [],
      "collapsed_sections": [],
      "authorship_tag": "ABX9TyMMmbNHqxpUVoe870QOajO9",
      "include_colab_link": true
    },
    "kernelspec": {
      "name": "python3",
      "display_name": "Python 3"
    },
    "language_info": {
      "name": "python"
    }
  },
  "cells": [
    {
      "cell_type": "markdown",
      "metadata": {
        "id": "view-in-github",
        "colab_type": "text"
      },
      "source": [
        "<a href=\"https://colab.research.google.com/github/kalyan-81/basics-of-python/blob/main/dictionary.ipynb\" target=\"_parent\"><img src=\"https://colab.research.google.com/assets/colab-badge.svg\" alt=\"Open In Colab\"/></a>"
      ]
    },
    {
      "cell_type": "markdown",
      "source": [
        "#Lecture 13: Dictionary\n",
        "Unordered collection of items i.e. can't be indexed\\\n",
        "Other compound data types have only values as an element, whereas a dictionary has a KEY:VALUE pair\\\n",
        "Keys are unique, values may not be unique\\\n",
        "Values can be of any data type, but key must be immutable."
      ],
      "metadata": {
        "id": "7ANaU-436nZU"
      }
    },
    {
      "cell_type": "code",
      "execution_count": null,
      "metadata": {
        "id": "CoGavFLz53Nm",
        "colab": {
          "base_uri": "https://localhost:8080/"
        },
        "outputId": "44eec740-7bf9-4653-f45e-a3c4bd390d09"
      },
      "outputs": [
        {
          "output_type": "stream",
          "name": "stdout",
          "text": [
            "<class 'dict'>\n",
            "<class 'set'>\n"
          ]
        }
      ],
      "source": [
        "# initialization\n",
        "\n",
        "d = {} #dict\n",
        "k={1,2}# set\n",
        "\n",
        "print(type(d))\n",
        "print(type(k))"
      ]
    },
    {
      "cell_type": "code",
      "source": [
        "d = {1:'abc', 2:'efg', 'name':'xyz'}\n",
        "\n",
        "print(d)\n",
        "print(type(d))"
      ],
      "metadata": {
        "id": "s5pGpcQ57Pnz",
        "colab": {
          "base_uri": "https://localhost:8080/"
        },
        "outputId": "a3c8d3fa-b8a8-4227-e443-352d22f8ebbd"
      },
      "execution_count": null,
      "outputs": [
        {
          "output_type": "stream",
          "name": "stdout",
          "text": [
            "{1: 'abc', 2: 'efg', 'name': 'xyz'}\n",
            "<class 'dict'>\n"
          ]
        }
      ]
    },
    {
      "cell_type": "code",
      "source": [
        "# Accessing values\n",
        "\n",
        "print(d[1])\n",
        "\n",
        "print(d['name'])"
      ],
      "metadata": {
        "id": "fFAK0rXS7SMt",
        "colab": {
          "base_uri": "https://localhost:8080/"
        },
        "outputId": "75accf49-840f-480b-e622-c2eb6d409834"
      },
      "execution_count": null,
      "outputs": [
        {
          "output_type": "stream",
          "name": "stdout",
          "text": [
            "abc\n",
            "xyz\n"
          ]
        }
      ]
    },
    {
      "cell_type": "code",
      "source": [
        "print(d[3])"
      ],
      "metadata": {
        "id": "-RclnxDi7UxK",
        "colab": {
          "base_uri": "https://localhost:8080/",
          "height": 165
        },
        "outputId": "98c67241-a12a-4f79-ce35-ee48e7aeae81"
      },
      "execution_count": null,
      "outputs": [
        {
          "output_type": "error",
          "ename": "KeyError",
          "evalue": "ignored",
          "traceback": [
            "\u001b[0;31m---------------------------------------------------------------------------\u001b[0m",
            "\u001b[0;31mKeyError\u001b[0m                                  Traceback (most recent call last)",
            "\u001b[0;32m<ipython-input-43-ab75bc92d469>\u001b[0m in \u001b[0;36m<module>\u001b[0;34m()\u001b[0m\n\u001b[0;32m----> 1\u001b[0;31m \u001b[0mprint\u001b[0m\u001b[0;34m(\u001b[0m\u001b[0md\u001b[0m\u001b[0;34m[\u001b[0m\u001b[0;36m3\u001b[0m\u001b[0;34m]\u001b[0m\u001b[0;34m)\u001b[0m\u001b[0;34m\u001b[0m\u001b[0;34m\u001b[0m\u001b[0m\n\u001b[0m",
            "\u001b[0;31mKeyError\u001b[0m: 3"
          ]
        }
      ]
    },
    {
      "cell_type": "code",
      "source": [
        "# # updating dictionary\n",
        "\n",
        "print(d)\n",
        "\n",
        "d['name'] = 'lmn'\n",
        "\n",
        "d['age'] = 20\n",
        "\n",
        "print(d)"
      ],
      "metadata": {
        "id": "PND_3D8S7Xgn",
        "colab": {
          "base_uri": "https://localhost:8080/"
        },
        "outputId": "80741730-1c54-4109-82e5-a2cba77fa20a"
      },
      "execution_count": null,
      "outputs": [
        {
          "output_type": "stream",
          "name": "stdout",
          "text": [
            "{1: 'abc', 2: 'efg', 'name': 'xyz'}\n",
            "{1: 'abc', 2: 'efg', 'name': 'lmn', 'age': 20}\n"
          ]
        }
      ]
    },
    {
      "cell_type": "code",
      "source": [
        "# Deleting elements\n",
        "\n",
        "del d['name']\n",
        "print(d)\n",
        "\n",
        "d.clear()\n",
        "print(d)"
      ],
      "metadata": {
        "id": "fmPDsp9j7bSB",
        "colab": {
          "base_uri": "https://localhost:8080/"
        },
        "outputId": "09c10c2b-e55a-4d11-de60-5ec14a4fda04"
      },
      "execution_count": null,
      "outputs": [
        {
          "output_type": "stream",
          "name": "stdout",
          "text": [
            "{1: 'abc', 2: 'efg', 'age': 20}\n",
            "{}\n"
          ]
        }
      ]
    },
    {
      "cell_type": "code",
      "source": [
        "del d\n",
        "\n",
        "print(d)"
      ],
      "metadata": {
        "id": "b4UMgHIN7XjX",
        "colab": {
          "base_uri": "https://localhost:8080/",
          "height": 200
        },
        "outputId": "e6e097a9-fc56-4324-c2a0-dd9d75175222"
      },
      "execution_count": null,
      "outputs": [
        {
          "output_type": "error",
          "ename": "NameError",
          "evalue": "ignored",
          "traceback": [
            "\u001b[0;31m---------------------------------------------------------------------------\u001b[0m",
            "\u001b[0;31mNameError\u001b[0m                                 Traceback (most recent call last)",
            "\u001b[0;32m<ipython-input-44-b527d1cd5553>\u001b[0m in \u001b[0;36m<module>\u001b[0;34m()\u001b[0m\n\u001b[1;32m      1\u001b[0m \u001b[0;32mdel\u001b[0m \u001b[0md\u001b[0m\u001b[0;34m\u001b[0m\u001b[0;34m\u001b[0m\u001b[0m\n\u001b[1;32m      2\u001b[0m \u001b[0;34m\u001b[0m\u001b[0m\n\u001b[0;32m----> 3\u001b[0;31m \u001b[0mprint\u001b[0m\u001b[0;34m(\u001b[0m\u001b[0md\u001b[0m\u001b[0;34m)\u001b[0m\u001b[0;34m\u001b[0m\u001b[0;34m\u001b[0m\u001b[0m\n\u001b[0m",
            "\u001b[0;31mNameError\u001b[0m: name 'd' is not defined"
          ]
        }
      ]
    },
    {
      "cell_type": "code",
      "source": [
        "# # Key must immutable\n",
        "\n",
        "d = {1:'abc', 2:'efg', ['name']:'xyz'}\n",
        "\n",
        "print(d)"
      ],
      "metadata": {
        "id": "LYWy79yx7XyR",
        "colab": {
          "base_uri": "https://localhost:8080/",
          "height": 234
        },
        "outputId": "caac966a-7021-45f7-cf75-20ee4a2fdee5"
      },
      "execution_count": null,
      "outputs": [
        {
          "output_type": "error",
          "ename": "TypeError",
          "evalue": "ignored",
          "traceback": [
            "\u001b[0;31m---------------------------------------------------------------------------\u001b[0m",
            "\u001b[0;31mTypeError\u001b[0m                                 Traceback (most recent call last)",
            "\u001b[0;32m<ipython-input-7-e0b1bcdf5ea7>\u001b[0m in \u001b[0;36m<module>\u001b[0;34m()\u001b[0m\n\u001b[1;32m      1\u001b[0m \u001b[0;31m# # Key must immutable\u001b[0m\u001b[0;34m\u001b[0m\u001b[0;34m\u001b[0m\u001b[0;34m\u001b[0m\u001b[0m\n\u001b[1;32m      2\u001b[0m \u001b[0;34m\u001b[0m\u001b[0m\n\u001b[0;32m----> 3\u001b[0;31m \u001b[0md\u001b[0m \u001b[0;34m=\u001b[0m \u001b[0;34m{\u001b[0m\u001b[0;36m1\u001b[0m\u001b[0;34m:\u001b[0m\u001b[0;34m'abc'\u001b[0m\u001b[0;34m,\u001b[0m \u001b[0;36m2\u001b[0m\u001b[0;34m:\u001b[0m\u001b[0;34m'efg'\u001b[0m\u001b[0;34m,\u001b[0m \u001b[0;34m[\u001b[0m\u001b[0;34m'name'\u001b[0m\u001b[0;34m]\u001b[0m\u001b[0;34m:\u001b[0m\u001b[0;34m'xyz'\u001b[0m\u001b[0;34m}\u001b[0m\u001b[0;34m\u001b[0m\u001b[0;34m\u001b[0m\u001b[0m\n\u001b[0m\u001b[1;32m      4\u001b[0m \u001b[0;34m\u001b[0m\u001b[0m\n\u001b[1;32m      5\u001b[0m \u001b[0mprint\u001b[0m\u001b[0;34m(\u001b[0m\u001b[0md\u001b[0m\u001b[0;34m)\u001b[0m\u001b[0;34m\u001b[0m\u001b[0;34m\u001b[0m\u001b[0m\n",
            "\u001b[0;31mTypeError\u001b[0m: unhashable type: 'list'"
          ]
        }
      ]
    },
    {
      "cell_type": "code",
      "source": [
        "# # Key must immutable\n",
        "\n",
        "d = {1:'abc', 2:'efg', 'name':['xyz']}\n",
        "\n",
        "print(d)"
      ],
      "metadata": {
        "colab": {
          "base_uri": "https://localhost:8080/"
        },
        "id": "Ll7_kA2d4W8d",
        "outputId": "ffd9e1bf-d9f7-4469-a521-e2dacc151c5a"
      },
      "execution_count": null,
      "outputs": [
        {
          "output_type": "stream",
          "name": "stdout",
          "text": [
            "{1: 'abc', 2: 'efg', 'name': ['xyz']}\n"
          ]
        }
      ]
    },
    {
      "cell_type": "code",
      "source": [
        "\n",
        "d = {1:'abc', 2:'efg', 'name':{'xyz':33,'kln':54,'ram':56}}\n",
        "\n",
        "print(d)"
      ],
      "metadata": {
        "colab": {
          "base_uri": "https://localhost:8080/"
        },
        "id": "H0FDv6JT5AkE",
        "outputId": "11b8d844-5676-46d2-a8a1-cb8c8ab66c48"
      },
      "execution_count": null,
      "outputs": [
        {
          "output_type": "stream",
          "name": "stdout",
          "text": [
            "{1: 'abc', 2: 'efg', 'name': {'xyz': 33, 'kln': 54, 'ram': 56}}\n"
          ]
        }
      ]
    },
    {
      "cell_type": "markdown",
      "source": [
        "#dictionary methods"
      ],
      "metadata": {
        "id": "reaO3buX5RQe"
      }
    },
    {
      "cell_type": "markdown",
      "source": [
        "#1. clear()\n",
        "Remove all elements from the dictionary"
      ],
      "metadata": {
        "id": "VFl9ODQG5Xcn"
      }
    },
    {
      "cell_type": "code",
      "source": [
        "human={'name':'kalyan','age':24,\"height in cm\":162}\n",
        "print(human)\n",
        "\n",
        "human.clear()\n",
        "\n",
        "print(human)"
      ],
      "metadata": {
        "colab": {
          "base_uri": "https://localhost:8080/"
        },
        "id": "0f6oL6OU5mlk",
        "outputId": "3c983dc9-c06a-4e8a-b2ea-24069b2d35b8"
      },
      "execution_count": null,
      "outputs": [
        {
          "output_type": "stream",
          "name": "stdout",
          "text": [
            "{'name': 'kalyan', 'age': 24, 'height in cm': 162}\n",
            "{}\n"
          ]
        }
      ]
    },
    {
      "cell_type": "markdown",
      "source": [
        "#2.copy() \n",
        "copy the human dictionary\n"
      ],
      "metadata": {
        "id": "hl-Z9gOd6Hii"
      }
    },
    {
      "cell_type": "code",
      "source": [
        "human={'name':'kalyan','age':24,\"height in cm\":162}\n",
        "print(human)\n",
        "human2=human.copy()\n",
        "print(human2)"
      ],
      "metadata": {
        "colab": {
          "base_uri": "https://localhost:8080/"
        },
        "id": "XhMOStgf6VfF",
        "outputId": "7ef8e5a2-b9cd-4ee8-e92b-abfbfaf424c1"
      },
      "execution_count": null,
      "outputs": [
        {
          "output_type": "stream",
          "name": "stdout",
          "text": [
            "{'name': 'kalyan', 'age': 24, 'height in cm': 162}\n",
            "{'name': 'kalyan', 'age': 24, 'height in cm': 162}\n"
          ]
        }
      ]
    },
    {
      "cell_type": "markdown",
      "source": [
        "#3. fromkeys()\n",
        "Returns a dictionary with the specified keys and value"
      ],
      "metadata": {
        "id": "1NCSiWK-6ii3"
      }
    },
    {
      "cell_type": "code",
      "source": [
        "x = ('key1', 'key2', 'key3')\n",
        "y = 0,2,3\n",
        "\n",
        "thisdict = dict.fromkeys(x, y)\n",
        "\n",
        "print(thisdict)"
      ],
      "metadata": {
        "colab": {
          "base_uri": "https://localhost:8080/"
        },
        "id": "sSIsU4xc6qi9",
        "outputId": "e27327c9-769f-4cf0-9200-164f72247759"
      },
      "execution_count": null,
      "outputs": [
        {
          "output_type": "stream",
          "name": "stdout",
          "text": [
            "{'key1': (0, 2, 3), 'key2': (0, 2, 3), 'key3': (0, 2, 3)}\n"
          ]
        }
      ]
    },
    {
      "cell_type": "markdown",
      "source": [
        "#4. get()\n",
        "The get() method returns the value of the item with the specified key."
      ],
      "metadata": {
        "id": "5XpbNZJm8PSh"
      }
    },
    {
      "cell_type": "code",
      "source": [
        "human={'name':'kalyan','age':24,\"height in cm\":162}\n",
        "human.get('name')"
      ],
      "metadata": {
        "colab": {
          "base_uri": "https://localhost:8080/",
          "height": 35
        },
        "id": "OE2CCf8R8ThU",
        "outputId": "45f3c0ab-edc8-4a3f-8241-fed21fe9c350"
      },
      "execution_count": null,
      "outputs": [
        {
          "output_type": "execute_result",
          "data": {
            "application/vnd.google.colaboratory.intrinsic+json": {
              "type": "string"
            },
            "text/plain": [
              "'kalyan'"
            ]
          },
          "metadata": {},
          "execution_count": 21
        }
      ]
    },
    {
      "cell_type": "markdown",
      "source": [
        "#5. items()\n",
        "returns key,value pairs of dictionary as tuples in a list"
      ],
      "metadata": {
        "id": "LmfGpHsP8eJ8"
      }
    },
    {
      "cell_type": "code",
      "source": [
        "human={'name':'kalyan','age':24,\"height in cm\":162}\n",
        "human.items()"
      ],
      "metadata": {
        "colab": {
          "base_uri": "https://localhost:8080/"
        },
        "id": "keCaAPVu8sEF",
        "outputId": "7330dcdb-d4de-4ef9-941b-1b0a003a785d"
      },
      "execution_count": null,
      "outputs": [
        {
          "output_type": "execute_result",
          "data": {
            "text/plain": [
              "dict_items([('name', 'kalyan'), ('age', 24), ('height in cm', 162)])"
            ]
          },
          "metadata": {},
          "execution_count": 23
        }
      ]
    },
    {
      "cell_type": "markdown",
      "source": [
        "#6.keys()\n",
        "return keys of dictionary as a list"
      ],
      "metadata": {
        "id": "_LJESUm09JZa"
      }
    },
    {
      "cell_type": "code",
      "source": [
        "human.keys()"
      ],
      "metadata": {
        "colab": {
          "base_uri": "https://localhost:8080/"
        },
        "id": "BvjxCic69ap2",
        "outputId": "1c85e469-e4ce-40e0-f578-98633f12c37d"
      },
      "execution_count": null,
      "outputs": [
        {
          "output_type": "execute_result",
          "data": {
            "text/plain": [
              "dict_keys(['name', 'age', 'height in cm'])"
            ]
          },
          "metadata": {},
          "execution_count": 24
        }
      ]
    },
    {
      "cell_type": "markdown",
      "source": [
        "#7.pop()\n",
        "Removes the element with the specified key"
      ],
      "metadata": {
        "id": "P7H-oBbn9mn2"
      }
    },
    {
      "cell_type": "code",
      "source": [
        "human={'name':'kalyan','age':24,\"height in cm\":162}\n",
        "print(human.pop('age'))\n",
        "print(human)"
      ],
      "metadata": {
        "id": "cci5w6uv7X2u",
        "colab": {
          "base_uri": "https://localhost:8080/"
        },
        "outputId": "77803909-5824-4f67-d214-2a3303202983"
      },
      "execution_count": null,
      "outputs": [
        {
          "output_type": "stream",
          "name": "stdout",
          "text": [
            "24\n",
            "{'name': 'kalyan', 'height in cm': 162}\n"
          ]
        }
      ]
    },
    {
      "cell_type": "markdown",
      "source": [
        "#8.popitem()\t\n",
        "Removes the last inserted key-value pair"
      ],
      "metadata": {
        "id": "_s68ONWA978m"
      }
    },
    {
      "cell_type": "code",
      "source": [
        "human={'name':'kalyan','age':24,\"height in cm\":162}\n",
        "print(human.popitem())\n",
        "print(human)"
      ],
      "metadata": {
        "colab": {
          "base_uri": "https://localhost:8080/"
        },
        "id": "Ni9mJaHw-B5C",
        "outputId": "d2687433-6de2-4e2b-96fb-04864f0cc9c9"
      },
      "execution_count": null,
      "outputs": [
        {
          "output_type": "stream",
          "name": "stdout",
          "text": [
            "('height in cm', 162)\n",
            "{'name': 'kalyan', 'age': 24}\n"
          ]
        }
      ]
    },
    {
      "cell_type": "code",
      "source": [
        ""
      ],
      "metadata": {
        "id": "3FYRw1tK-OkN"
      },
      "execution_count": null,
      "outputs": []
    },
    {
      "cell_type": "markdown",
      "source": [
        "#9.setdefault()\t\n",
        "Returns the value of the specified key. \n",
        "If the key does not exist: insert the key, with the specified value"
      ],
      "metadata": {
        "id": "NJ8HBlIB-O-g"
      }
    },
    {
      "cell_type": "code",
      "source": [
        "human={'name':'kalyan','age':24,\"height in cm\":162}\n",
        "human.setdefault('name')\n"
      ],
      "metadata": {
        "colab": {
          "base_uri": "https://localhost:8080/",
          "height": 35
        },
        "id": "l9fBjQhi-pz_",
        "outputId": "9afb8400-b4f3-46ed-e897-3b4208253116"
      },
      "execution_count": null,
      "outputs": [
        {
          "output_type": "execute_result",
          "data": {
            "application/vnd.google.colaboratory.intrinsic+json": {
              "type": "string"
            },
            "text/plain": [
              "'kalyan'"
            ]
          },
          "metadata": {},
          "execution_count": 31
        }
      ]
    },
    {
      "cell_type": "code",
      "source": [
        "human={'name':'kalyan','age':24,\"height in cm\":162}\n",
        "human.setdefault(\"father\",'ramaswamy')\n",
        "print(human)"
      ],
      "metadata": {
        "colab": {
          "base_uri": "https://localhost:8080/"
        },
        "id": "xsQYunVO-5-d",
        "outputId": "b8837d29-4cf0-41bf-8a38-1ea8b47cfa32"
      },
      "execution_count": null,
      "outputs": [
        {
          "output_type": "stream",
          "name": "stdout",
          "text": [
            "{'name': 'kalyan', 'age': 24, 'height in cm': 162, 'father': 'ramaswamy'}\n"
          ]
        }
      ]
    },
    {
      "cell_type": "markdown",
      "source": [
        "#10. The update()\n",
        "method inserts the specified items to the dictionary.\\\n",
        "The specified items can be a dictionary, or an iterable object with key value pairs."
      ],
      "metadata": {
        "id": "LyqEsPyF_VH8"
      }
    },
    {
      "cell_type": "code",
      "source": [
        "human={'name':'kalyan','age':24,\"height in cm\":162}\n",
        "human.update({'father':'ramswamy'})\n",
        "print(human)"
      ],
      "metadata": {
        "colab": {
          "base_uri": "https://localhost:8080/"
        },
        "id": "0VuiyI33_fmp",
        "outputId": "fb8f285f-bbc7-4ce0-a779-acf1dadd656c"
      },
      "execution_count": null,
      "outputs": [
        {
          "output_type": "stream",
          "name": "stdout",
          "text": [
            "{'name': 'kalyan', 'age': 24, 'height in cm': 162, 'father': 'ramswamy'}\n"
          ]
        }
      ]
    },
    {
      "cell_type": "markdown",
      "source": [
        "#11.values()\t\n",
        "Returns a list of all the values in the dictionary"
      ],
      "metadata": {
        "id": "hEBRe1S1AQFY"
      }
    },
    {
      "cell_type": "code",
      "source": [
        "human.values()"
      ],
      "metadata": {
        "colab": {
          "base_uri": "https://localhost:8080/"
        },
        "id": "fKdMaO1nAWsS",
        "outputId": "e3577416-13e1-4250-cbda-08b7679e62e9"
      },
      "execution_count": null,
      "outputs": [
        {
          "output_type": "execute_result",
          "data": {
            "text/plain": [
              "dict_values(['kalyan', 24, 162])"
            ]
          },
          "metadata": {},
          "execution_count": 42
        }
      ]
    },
    {
      "cell_type": "code",
      "source": [
        "# order dictionaries"
      ],
      "metadata": {
        "id": "ez7TVpbEh7Gl"
      },
      "execution_count": null,
      "outputs": []
    },
    {
      "cell_type": "markdown",
      "source": [
        "# Order Dictionaries\n",
        "\n",
        "An ordered dictionary is a dctionary but it will keep the order of the elements."
      ],
      "metadata": {
        "id": "MCBbQAvGiBX4"
      }
    },
    {
      "cell_type": "code",
      "source": [
        "from collections import OrderedDict\n",
        "\n",
        "d=OrderedDict()\n",
        "d['a']='apple'\n",
        "d['b']='ball'\n",
        "d['c']='call'\n",
        "print(d)\n",
        "for i, j in d.items():\n",
        "  print(i,j)"
      ],
      "metadata": {
        "colab": {
          "base_uri": "https://localhost:8080/"
        },
        "id": "3R-4OXsrijDh",
        "outputId": "f04522da-d8c1-4899-8487-747ea93ef8ca"
      },
      "execution_count": null,
      "outputs": [
        {
          "output_type": "stream",
          "name": "stdout",
          "text": [
            "OrderedDict([('a', 'apple'), ('b', 'ball'), ('c', 'call')])\n",
            "a apple\n",
            "b ball\n",
            "c call\n"
          ]
        }
      ]
    },
    {
      "cell_type": "code",
      "source": [
        "#converting string in to dictionary\n",
        "str1='vijay=20,ganesh=40,kalyan=90,nikhil=40'\n",
        "#break the string at comma, and equal signs\n",
        "lst1=str1.split(',')\n",
        "print(lst1)\n",
        "lst2=str(lst1).split('=')\n",
        "print(lst2)\n",
        "\n",
        "lst=[]\n",
        "for x in str1.split(','):\n",
        "  y=x.split('=')\n",
        "  lst.append(y)\n",
        "print(lst)\n",
        "  \n",
        "d=dict(lst)\n",
        "print(d)"
      ],
      "metadata": {
        "colab": {
          "base_uri": "https://localhost:8080/"
        },
        "id": "clzKTvFuktTt",
        "outputId": "73b0b49a-98b1-4fac-b5ea-fca72994b002"
      },
      "execution_count": null,
      "outputs": [
        {
          "output_type": "stream",
          "name": "stdout",
          "text": [
            "['vijay=20', 'ganesh=40', 'kalyan=90', 'nikhil=40']\n",
            "[\"['vijay\", \"20', 'ganesh\", \"40', 'kalyan\", \"90', 'nikhil\", \"40']\"]\n",
            "[['vijay', '20'], ['ganesh', '40'], ['kalyan', '90'], ['nikhil', '40']]\n",
            "{'vijay': '20', 'ganesh': '40', 'kalyan': '90', 'nikhil': '40'}\n"
          ]
        }
      ]
    },
    {
      "cell_type": "code",
      "source": [
        "#create a new dictionary with name as string and value as intger\n",
        "d1={}\n",
        "for k,v in d.items():\n",
        "  d1[k]=int(v)\n",
        "\n",
        "print(d1)"
      ],
      "metadata": {
        "colab": {
          "base_uri": "https://localhost:8080/"
        },
        "id": "x7Jr3s9MmPEP",
        "outputId": "3074a2dc-0051-4130-d8d8-be9b410380be"
      },
      "execution_count": null,
      "outputs": [
        {
          "output_type": "stream",
          "name": "stdout",
          "text": [
            "{'vijay': 20, 'ganesh': 40, 'kalyan': 90, 'nikhil': 40}\n"
          ]
        }
      ]
    },
    {
      "cell_type": "code",
      "source": [
        ""
      ],
      "metadata": {
        "id": "tTd61UO3maw4"
      },
      "execution_count": null,
      "outputs": []
    },
    {
      "cell_type": "markdown",
      "source": [
        "# converting list into dictionary"
      ],
      "metadata": {
        "id": "FkJfr8RYm5nq"
      }
    },
    {
      "cell_type": "code",
      "source": [
        "countries=['usa','india','germany','france']\n",
        "cities=['washington','new delhi','berlin','paris']\n",
        "\n",
        "z=zip(countries,cities)\n",
        "d=dict(z)\n",
        "print(d)"
      ],
      "metadata": {
        "colab": {
          "base_uri": "https://localhost:8080/"
        },
        "id": "rz06Msodm-9N",
        "outputId": "25b40290-20b2-485f-fee1-d04b670e3bcd"
      },
      "execution_count": null,
      "outputs": [
        {
          "output_type": "stream",
          "name": "stdout",
          "text": [
            "{'usa': 'washington', 'india': 'new delhi', 'germany': 'berlin', 'france': 'paris'}\n"
          ]
        }
      ]
    },
    {
      "cell_type": "code",
      "source": [
        ""
      ],
      "metadata": {
        "id": "Oun7XZ5X11Np"
      },
      "execution_count": null,
      "outputs": []
    },
    {
      "cell_type": "markdown",
      "source": [
        "# sorting the elements of a dictionary using lambda function:"
      ],
      "metadata": {
        "id": "LSMXitA43ZCj"
      }
    },
    {
      "cell_type": "code",
      "source": [
        "#sorting a dictionary using key or value pairs\n",
        "colors={10:'red',35:'green',45:'blue'}\n",
        "#sort the dictionary using key..that is color code\n",
        "cl=sorted(colors.items(),key=lambda t:t[0])\n",
        "print(cl)\n",
        "#sort the dictionary using value that is color name\n",
        "cl1=sorted(colors.items(),key=lambda x:x[1])\n",
        "print(cl1)"
      ],
      "metadata": {
        "colab": {
          "base_uri": "https://localhost:8080/"
        },
        "id": "a2mIV0HC3hDn",
        "outputId": "6f90224e-ec77-4dc5-878d-cb80d7348135"
      },
      "execution_count": null,
      "outputs": [
        {
          "output_type": "stream",
          "name": "stdout",
          "text": [
            "[(10, 'red'), (35, 'green'), (45, 'blue')]\n",
            "[(45, 'blue'), (35, 'green'), (10, 'red')]\n"
          ]
        }
      ]
    },
    {
      "cell_type": "code",
      "source": [
        ""
      ],
      "metadata": {
        "id": "R-3O8wlP5Scr"
      },
      "execution_count": null,
      "outputs": []
    },
    {
      "cell_type": "markdown",
      "source": [
        "# find the number of occurrences of each letter in a string using dictionary\n"
      ],
      "metadata": {
        "id": "wxa9jwx55UDT"
      }
    },
    {
      "cell_type": "code",
      "source": [
        "st1='book'\n",
        "d={}\n",
        "for x in st1:\n",
        "  d[x]=d.get(x,0)+1\n",
        "\n",
        "for k,v in d.items():\n",
        "    print('key={}\\t its occurence={}'.format(k,v))"
      ],
      "metadata": {
        "colab": {
          "base_uri": "https://localhost:8080/"
        },
        "id": "lJ-rdmsO5doV",
        "outputId": "3a27360c-38f6-44d6-b124-cac0eca0b983"
      },
      "execution_count": null,
      "outputs": [
        {
          "output_type": "stream",
          "name": "stdout",
          "text": [
            "key=b\t its occurence=1\n",
            "key=o\t its occurence=2\n",
            "key=k\t its occurence=1\n"
          ]
        }
      ]
    },
    {
      "cell_type": "code",
      "source": [
        ""
      ],
      "metadata": {
        "id": "WPy-FzRU61AM"
      },
      "execution_count": null,
      "outputs": []
    }
  ]
}