{
  "nbformat": 4,
  "nbformat_minor": 0,
  "metadata": {
    "colab": {
      "name": "Exceptions.ipynb",
      "provenance": [],
      "authorship_tag": "ABX9TyNmjRpg3y2Pikvgjw/enInb",
      "include_colab_link": true
    },
    "kernelspec": {
      "name": "python3",
      "display_name": "Python 3"
    },
    "language_info": {
      "name": "python"
    }
  },
  "cells": [
    {
      "cell_type": "markdown",
      "metadata": {
        "id": "view-in-github",
        "colab_type": "text"
      },
      "source": [
        "<a href=\"https://colab.research.google.com/github/kalyan-81/basics-of-python/blob/main/Exceptions.ipynb\" target=\"_parent\"><img src=\"https://colab.research.google.com/assets/colab-badge.svg\" alt=\"Open In Colab\"/></a>"
      ]
    },
    {
      "cell_type": "markdown",
      "source": [
        "# Lecture 16 Exceptions\n",
        "\n",
        "* As a human being, we commit several errors.\n",
        "* A software developer is also a human being and hence prone to commit errors in the design of software.\n",
        "* The errors in the software are called **bugs** and the process of removing them is called **debugging**\n",
        "\n",
        "# Errors in a python program\n",
        "* compile-time error\n",
        "* runtime errors\n",
        "* logical errors\n",
        "\n",
        "\n"
      ],
      "metadata": {
        "id": "I_lsiqpTVSN0"
      }
    },
    {
      "cell_type": "markdown",
      "source": [
        "# compile-time errors\n",
        "These are syntactical errors found in the code.\\\n",
        "**Examples**\n",
        "\n",
        "forgetting a colon in the statements like if, while, for, def, etc.\n",
        "\n",
        "such errors are detected by python compiler and the line number along with error description is displayed by the python compiler.\n"
      ],
      "metadata": {
        "id": "EfUoBUjkW3v1"
      }
    },
    {
      "cell_type": "code",
      "execution_count": null,
      "metadata": {
        "colab": {
          "base_uri": "https://localhost:8080/",
          "height": 135
        },
        "id": "jVnLuI_bUyfy",
        "outputId": "e44e6a4f-1c94-44a1-9874-43a6d8268eb9"
      },
      "outputs": [
        {
          "output_type": "error",
          "ename": "SyntaxError",
          "evalue": "ignored",
          "traceback": [
            "\u001b[0;36m  File \u001b[0;32m\"<ipython-input-1-ab72883cd23e>\"\u001b[0;36m, line \u001b[0;32m3\u001b[0m\n\u001b[0;31m    if x==1\u001b[0m\n\u001b[0m           ^\u001b[0m\n\u001b[0;31mSyntaxError\u001b[0m\u001b[0;31m:\u001b[0m invalid syntax\n"
          ]
        }
      ],
      "source": [
        "# example for syntax error\n",
        "x=1\n",
        "if x==1\n",
        "   print('x is equal to 1')"
      ]
    },
    {
      "cell_type": "code",
      "source": [
        "#another example\n",
        "a=10\n",
        "if a%2==0:\n",
        "  print(a,'is divisible by 2')\n",
        "     print(a,'is even number')"
      ],
      "metadata": {
        "colab": {
          "base_uri": "https://localhost:8080/",
          "height": 135
        },
        "id": "V9R1AYMWbFOc",
        "outputId": "2727f887-8d3d-4d01-db14-6be47f11f7c8"
      },
      "execution_count": null,
      "outputs": [
        {
          "output_type": "error",
          "ename": "IndentationError",
          "evalue": "ignored",
          "traceback": [
            "\u001b[0;36m  File \u001b[0;32m\"<ipython-input-3-239d733802c0>\"\u001b[0;36m, line \u001b[0;32m5\u001b[0m\n\u001b[0;31m    print(a,'is even number')\u001b[0m\n\u001b[0m    ^\u001b[0m\n\u001b[0;31mIndentationError\u001b[0m\u001b[0;31m:\u001b[0m unexpected indent\n"
          ]
        }
      ]
    },
    {
      "cell_type": "markdown",
      "source": [
        "# Runtime Errors\n",
        "Runtime Errors are not detected by the python compiler, they are detected by the PVM(Python Virtual Machine),only at runtime.\n",
        "\n",
        "when PVM cannot execute the byte code,  it flags runtime error.\n"
      ],
      "metadata": {
        "id": "rXsFTwP0eMuj"
      }
    },
    {
      "cell_type": "code",
      "source": [
        "#Example for runtime error\n",
        "a='kalyan'\n",
        "b=3\n",
        "print(a+b)\n",
        "\n"
      ],
      "metadata": {
        "colab": {
          "base_uri": "https://localhost:8080/",
          "height": 208
        },
        "id": "FY1f-59TcrkB",
        "outputId": "de163f96-3bf7-4f8e-e5fe-49198c12d2e8"
      },
      "execution_count": null,
      "outputs": [
        {
          "output_type": "error",
          "ename": "TypeError",
          "evalue": "ignored",
          "traceback": [
            "\u001b[0;31m---------------------------------------------------------------------------\u001b[0m",
            "\u001b[0;31mTypeError\u001b[0m                                 Traceback (most recent call last)",
            "\u001b[0;32m<ipython-input-4-f68f5101bdae>\u001b[0m in \u001b[0;36m<module>\u001b[0;34m()\u001b[0m\n\u001b[1;32m      2\u001b[0m \u001b[0ma\u001b[0m\u001b[0;34m=\u001b[0m\u001b[0;34m'kalyan'\u001b[0m\u001b[0;34m\u001b[0m\u001b[0;34m\u001b[0m\u001b[0m\n\u001b[1;32m      3\u001b[0m \u001b[0mb\u001b[0m\u001b[0;34m=\u001b[0m\u001b[0;36m3\u001b[0m\u001b[0;34m\u001b[0m\u001b[0;34m\u001b[0m\u001b[0m\n\u001b[0;32m----> 4\u001b[0;31m \u001b[0mprint\u001b[0m\u001b[0;34m(\u001b[0m\u001b[0ma\u001b[0m\u001b[0;34m+\u001b[0m\u001b[0mb\u001b[0m\u001b[0;34m)\u001b[0m\u001b[0;34m\u001b[0m\u001b[0;34m\u001b[0m\u001b[0m\n\u001b[0m",
            "\u001b[0;31mTypeError\u001b[0m: can only concatenate str (not \"int\") to str"
          ]
        }
      ]
    },
    {
      "cell_type": "markdown",
      "source": [
        "since the data types are not same 'PVM' shows 'Type Error'\\\n",
        "In Python, compiler will not check data types. Type checking is done by PVM during runtime."
      ],
      "metadata": {
        "id": "IVcQA2J5gY49"
      }
    },
    {
      "cell_type": "code",
      "source": [
        "#another example for runtime error\n",
        "l=[1,2,3,4,5]\n",
        "print(l[8])"
      ],
      "metadata": {
        "colab": {
          "base_uri": "https://localhost:8080/",
          "height": 208
        },
        "id": "j4d2vRKVfd7x",
        "outputId": "24cda566-c446-4716-b19c-e5481df9ae50"
      },
      "execution_count": null,
      "outputs": [
        {
          "output_type": "error",
          "ename": "IndexError",
          "evalue": "ignored",
          "traceback": [
            "\u001b[0;31m---------------------------------------------------------------------------\u001b[0m",
            "\u001b[0;31mIndexError\u001b[0m                                Traceback (most recent call last)",
            "\u001b[0;32m<ipython-input-5-a6b81253aed0>\u001b[0m in \u001b[0;36m<module>\u001b[0;34m()\u001b[0m\n\u001b[1;32m      1\u001b[0m \u001b[0;31m#another example for runtime error\u001b[0m\u001b[0;34m\u001b[0m\u001b[0;34m\u001b[0m\u001b[0;34m\u001b[0m\u001b[0m\n\u001b[1;32m      2\u001b[0m \u001b[0ml\u001b[0m\u001b[0;34m=\u001b[0m\u001b[0;34m[\u001b[0m\u001b[0;36m1\u001b[0m\u001b[0;34m,\u001b[0m\u001b[0;36m2\u001b[0m\u001b[0;34m,\u001b[0m\u001b[0;36m3\u001b[0m\u001b[0;34m,\u001b[0m\u001b[0;36m4\u001b[0m\u001b[0;34m,\u001b[0m\u001b[0;36m5\u001b[0m\u001b[0;34m]\u001b[0m\u001b[0;34m\u001b[0m\u001b[0;34m\u001b[0m\u001b[0m\n\u001b[0;32m----> 3\u001b[0;31m \u001b[0mprint\u001b[0m\u001b[0;34m(\u001b[0m\u001b[0ml\u001b[0m\u001b[0;34m[\u001b[0m\u001b[0;36m8\u001b[0m\u001b[0;34m]\u001b[0m\u001b[0;34m)\u001b[0m\u001b[0;34m\u001b[0m\u001b[0;34m\u001b[0m\u001b[0m\n\u001b[0m",
            "\u001b[0;31mIndexError\u001b[0m: list index out of range"
          ]
        }
      ]
    },
    {
      "cell_type": "markdown",
      "source": [
        "# most of the runtime errors can be eliminated by following the message given by PVM.\n",
        "* But some runtime errors cannot be eliminated.In that case we should handle those errors using **'exception handling mechanism'** of python.\n",
        "\n",
        "\n"
      ],
      "metadata": {
        "id": "msjwGTnrmX7r"
      }
    },
    {
      "cell_type": "markdown",
      "source": [
        "# Logical Errors\n",
        "These errors depict flaws in the logic of the program. The programmer be using a wrong formula or the design of the program itself is wrong.\n",
        "\n",
        "Logical errors are not detected by python compiler or PVM.\n",
        "\n",
        "The programmer is solely responsible for them."
      ],
      "metadata": {
        "id": "ZWIM97QqoNji"
      }
    },
    {
      "cell_type": "code",
      "source": [
        "# example for logical Error\n",
        "def increment(sal):\n",
        "  sal=sal*15/100 # actual logic is 'sal+sal*15/100'\n",
        "  return sal\n",
        "\n",
        "#function calling\n",
        "incsal=increment(5000)\n",
        "print(incsal)# this finding percentage value but not increment sal. This is logical error"
      ],
      "metadata": {
        "colab": {
          "base_uri": "https://localhost:8080/"
        },
        "id": "-j3KSBOGjpFZ",
        "outputId": "c219ba39-8c2b-47c4-ee08-4859c2db90ca"
      },
      "execution_count": null,
      "outputs": [
        {
          "output_type": "stream",
          "name": "stdout",
          "text": [
            "750.0\n"
          ]
        }
      ]
    },
    {
      "cell_type": "markdown",
      "source": [
        "#Exceptions\n",
        "compile time errors and logical errors can be eliminated by the programmer by modifying the program source code.\n",
        "\n",
        "In case of runtime errors, when the programmer knows which type of error occurs, he has to handle them using exception handling mechanism.\n",
        "\n",
        "The runtime errors which handled by the programmer are called exceptions.\n",
        "\n",
        "understand that we cannot handle all errors. we can handle only some type of errors which are called exceptions."
      ],
      "metadata": {
        "id": "jTIePNT-xpTv"
      }
    },
    {
      "cell_type": "code",
      "source": [
        "print(10/2) # there is no error"
      ],
      "metadata": {
        "colab": {
          "base_uri": "https://localhost:8080/"
        },
        "id": "u8SD-8lwwM_z",
        "outputId": "d9cd13d2-67ca-4a66-93e9-b4555383e2cf"
      },
      "execution_count": null,
      "outputs": [
        {
          "output_type": "stream",
          "name": "stdout",
          "text": [
            "5.0\n"
          ]
        }
      ]
    },
    {
      "cell_type": "code",
      "source": [
        "print(2/0) # raises an error 'ZeroDivisionError'"
      ],
      "metadata": {
        "colab": {
          "base_uri": "https://localhost:8080/",
          "height": 171
        },
        "id": "JZxY9vbo42Ly",
        "outputId": "3f5c4aee-2c5e-4ecd-f6c7-76cfabe914c5"
      },
      "execution_count": null,
      "outputs": [
        {
          "output_type": "error",
          "ename": "ZeroDivisionError",
          "evalue": "ignored",
          "traceback": [
            "\u001b[0;31m---------------------------------------------------------------------------\u001b[0m",
            "\u001b[0;31mZeroDivisionError\u001b[0m                         Traceback (most recent call last)",
            "\u001b[0;32m<ipython-input-9-f9e0aec4b35a>\u001b[0m in \u001b[0;36m<module>\u001b[0;34m()\u001b[0m\n\u001b[0;32m----> 1\u001b[0;31m \u001b[0mprint\u001b[0m\u001b[0;34m(\u001b[0m\u001b[0;36m2\u001b[0m\u001b[0;34m/\u001b[0m\u001b[0;36m0\u001b[0m\u001b[0;34m)\u001b[0m \u001b[0;31m# raises an error\u001b[0m\u001b[0;34m\u001b[0m\u001b[0;34m\u001b[0m\u001b[0m\n\u001b[0m",
            "\u001b[0;31mZeroDivisionError\u001b[0m: division by zero"
          ]
        }
      ]
    },
    {
      "cell_type": "markdown",
      "source": [
        "if the programmer can guess an error in the program and he can do something to eliminate the harm caused by that error, then it is called **exception.**\n",
        "\n",
        "if the programmer cannot do anything in case of an error, then it is called an 'error' and not an exception.\n",
        "\n",
        "# All exceptions are represented as classes in python.\n",
        "* built-in exceptions\n",
        "* user-defined exceptions\n",
        "\n",
        "The base class(parent class) for all built-in  exceptions is **BaseException** class.\n",
        "From **BaseException** class, the subclass **Exception** is derived.\n",
        "\n",
        "From **Exception** class, the subclasses of **StandardError** and **warnings** are derived.\n",
        " * all errors are defined as sub classes of **standardError**.\n",
        " * all warnings are derived as sub classes from **warning** class.\n",
        "\n",
        "**user defined exceptions**\n",
        "\n",
        "when the programmer wants to create his own exception class, he should derive his class from **Exception** class and not from **BaseException** class."
      ],
      "metadata": {
        "id": "pxBW1EM85Rur"
      }
    },
    {
      "cell_type": "markdown",
      "source": [
        "# Exception Handling.\n",
        "* syntax\n",
        "\n",
        "\n",
        "```\n",
        "try:\n",
        "  statements\n",
        "except exception_name:\n",
        "  statements\n",
        "finally:\n",
        "  statements\n",
        "```\n",
        "\n"
      ],
      "metadata": {
        "id": "xz5Y_5xwDJj1"
      }
    },
    {
      "cell_type": "code",
      "source": [
        "a=5\n",
        "b=0\n",
        "print(a/b)"
      ],
      "metadata": {
        "colab": {
          "base_uri": "https://localhost:8080/",
          "height": 208
        },
        "id": "wh4zCy3MEtpL",
        "outputId": "56423ead-1bb3-4435-d6fe-a049e6201579"
      },
      "execution_count": null,
      "outputs": [
        {
          "output_type": "error",
          "ename": "ZeroDivisionError",
          "evalue": "ignored",
          "traceback": [
            "\u001b[0;31m---------------------------------------------------------------------------\u001b[0m",
            "\u001b[0;31mZeroDivisionError\u001b[0m                         Traceback (most recent call last)",
            "\u001b[0;32m<ipython-input-10-42e7a38cd427>\u001b[0m in \u001b[0;36m<module>\u001b[0;34m()\u001b[0m\n\u001b[1;32m      1\u001b[0m \u001b[0ma\u001b[0m\u001b[0;34m=\u001b[0m\u001b[0;36m5\u001b[0m\u001b[0;34m\u001b[0m\u001b[0;34m\u001b[0m\u001b[0m\n\u001b[1;32m      2\u001b[0m \u001b[0mb\u001b[0m\u001b[0;34m=\u001b[0m\u001b[0;36m0\u001b[0m\u001b[0;34m\u001b[0m\u001b[0;34m\u001b[0m\u001b[0m\n\u001b[0;32m----> 3\u001b[0;31m \u001b[0mprint\u001b[0m\u001b[0;34m(\u001b[0m\u001b[0ma\u001b[0m\u001b[0;34m/\u001b[0m\u001b[0mb\u001b[0m\u001b[0;34m)\u001b[0m\u001b[0;34m\u001b[0m\u001b[0;34m\u001b[0m\u001b[0m\n\u001b[0m",
            "\u001b[0;31mZeroDivisionError\u001b[0m: division by zero"
          ]
        }
      ]
    },
    {
      "cell_type": "code",
      "source": [
        "# let's handle simple zero division Error\n",
        "a=int(input('enter value a:'))\n",
        "b=int(input('enter value b:'))\n",
        "try:\n",
        "  c=a/b\n",
        "  print(c)\n",
        "except:\n",
        "  print('enter correct values')\n",
        "finally:\n",
        "  print('this is always prints')\n"
      ],
      "metadata": {
        "colab": {
          "base_uri": "https://localhost:8080/"
        },
        "id": "nBSY-HZy46Q2",
        "outputId": "15e30134-901c-4fd8-8884-7996c379e24e"
      },
      "execution_count": null,
      "outputs": [
        {
          "output_type": "stream",
          "name": "stdout",
          "text": [
            "enter value a:3\n",
            "enter value b:5\n",
            "0.6\n",
            "this is always prints\n"
          ]
        }
      ]
    },
    {
      "cell_type": "code",
      "source": [
        "#\n",
        "a=int(input('enter value a:'))\n",
        "b=int(input('enter value b:'))\n",
        "try:\n",
        "  c=a/b\n",
        "  print(c)\n",
        "except ZeroDivisionError:\n",
        "  print('Division by zero is happened')\n",
        "  print('please do not enter 0 in input')\n",
        "\n",
        "finally:\n",
        "  print('this is always prints')"
      ],
      "metadata": {
        "colab": {
          "base_uri": "https://localhost:8080/"
        },
        "id": "O7xzXjTPFkPd",
        "outputId": "ea519dd5-6476-409e-dcc1-c8c4e5d4b688"
      },
      "execution_count": null,
      "outputs": [
        {
          "output_type": "stream",
          "name": "stdout",
          "text": [
            "enter value a:4\n",
            "enter value b:0\n",
            "Division by zero is happened\n",
            "please do not enter 0 in input\n",
            "this is always prints\n"
          ]
        }
      ]
    },
    {
      "cell_type": "markdown",
      "source": [
        "# complete exception handling syntax\n",
        "\n",
        "\n",
        "```\n",
        "try:\n",
        "  statements\n",
        "except Exceptoion1:\n",
        "  handler1\n",
        "except Exception2:\n",
        "  handler2\n",
        "else:\n",
        "  statements\n",
        "finally:\n",
        "  statements\n",
        "\n",
        "```\n",
        "\n",
        "\n",
        "**try block** \n",
        "\n",
        "block contains the statements where there may be one or more exceptions(to be handle).\n",
        " \n",
        "**except block**\n",
        "The subsequent 'except' blocks handle these exceptions.\\\n",
        "when exception1 occurs 'handler1' statements are executed.\\\n",
        "when exception2 occurs 'handler2' statements are executed.\n",
        "\n",
        "**else block**\n",
        "\n",
        "if no exception is raised, the statements inside the 'else' block are executed.\n",
        "\n",
        "**finally block**\n",
        "\n",
        "even if the exception occur or does not occur, the code inside 'finally' block is always executed.\n"
      ],
      "metadata": {
        "id": "FEqZB5iISash"
      }
    },
    {
      "cell_type": "code",
      "source": [
        "#example:\n",
        "try:\n",
        "  a=5/0\n",
        "  b=(5 + 'master')\n",
        "except ZeroDivisionError:\n",
        "  print('zero divison error')\n",
        "except TypeError:\n",
        "  print('data type is not same')\n",
        "else:\n",
        "  print('no error in try block')\n",
        "finally:\n",
        "  print('program end')"
      ],
      "metadata": {
        "colab": {
          "base_uri": "https://localhost:8080/"
        },
        "id": "oLXsegLwFGcY",
        "outputId": "e3276d3c-3a02-4c39-f894-25e388e710d1"
      },
      "execution_count": null,
      "outputs": [
        {
          "output_type": "stream",
          "name": "stdout",
          "text": [
            "zero divison error\n",
            "program end\n"
          ]
        }
      ]
    },
    {
      "cell_type": "code",
      "source": [
        "try:\n",
        "  a=5/0\n",
        "  b=(5 + 'master')\n",
        "except (ZeroDivisionError,TypeError):\n",
        "  print('either ZeroDivisionError or TypeErrorerror occured')\n",
        "else:\n",
        "  print('no error in try block')\n",
        "finally:\n",
        "  print('program end')"
      ],
      "metadata": {
        "colab": {
          "base_uri": "https://localhost:8080/"
        },
        "id": "7egZVTfrYaE0",
        "outputId": "633c7087-4fc6-41bd-8e01-66502f78b7d5"
      },
      "execution_count": null,
      "outputs": [
        {
          "output_type": "stream",
          "name": "stdout",
          "text": [
            "either ZeroDivisionError or TypeErrorerror occured\n",
            "program end\n"
          ]
        }
      ]
    },
    {
      "cell_type": "code",
      "source": [
        "try:\n",
        "  a=5/0\n",
        "  b=(5 + 'master')\n",
        "except:\n",
        "  print('some exception occured')\n",
        "else:\n",
        "  print('no error in try block')\n",
        "finally:\n",
        "  print('program end')"
      ],
      "metadata": {
        "colab": {
          "base_uri": "https://localhost:8080/"
        },
        "id": "sx___uR-gGMI",
        "outputId": "4f68b591-e57f-47b2-8e0d-8fd86d5c5cb2"
      },
      "execution_count": null,
      "outputs": [
        {
          "output_type": "stream",
          "name": "stdout",
          "text": [
            "some exception occured\n",
            "program end\n"
          ]
        }
      ]
    },
    {
      "cell_type": "markdown",
      "source": [
        "#Important points to remember\n",
        "* A single try block can be followed by several except blocks\n",
        "* multiple except blocks can be used to handle multiple exceptions\n",
        "* we cannot write except block without a try block\n",
        "* we can write a try block without any except blocks\n",
        "* else block and finally blocks are not compulsory.\n",
        "* when there is no exception, else block is executed after try block.\n",
        "* finally block is always executed."
      ],
      "metadata": {
        "id": "Xn7JS4vSZr4f"
      }
    },
    {
      "cell_type": "markdown",
      "source": [
        "#some important built-in exceptions\n",
        "* Exception\n",
        "* ArithmeticError\n",
        "* AssertionError\n",
        "* AttributeError\n",
        "* EOFError\n",
        "* FloatingPointError\n",
        "* GeneratorExit\n",
        "* IOError\n",
        "* ImportError\n",
        "* IndexError\n",
        "* KeyError\n",
        "* KeyboardInterrupt\n",
        "* NameError\n",
        "* NotImplementError\n",
        "* OverflowError\n",
        "* RuntimeError\n",
        "* StopIteration\n",
        "* SyntaxError\n",
        "* IndentationError\n",
        "* SystemExit\n",
        "* TypeError\n",
        "* UnboundLocalError\n",
        "* ValueError\n",
        "* ZeroDivisionError"
      ],
      "metadata": {
        "id": "e5xuE31DdpFL"
      }
    },
    {
      "cell_type": "code",
      "source": [
        "\n"
      ],
      "metadata": {
        "id": "VscTYcjGYb3X"
      },
      "execution_count": null,
      "outputs": []
    },
    {
      "cell_type": "markdown",
      "source": [
        "# The assert Statement\n",
        "The assert statement is useful to ensure that a given condition is True. If it is not, it raises AssertionError. The syntax is as follows.\n",
        "* syntax\n",
        "\n",
        "assert condition, message"
      ],
      "metadata": {
        "id": "RlZAJKmiga2c"
      }
    },
    {
      "cell_type": "code",
      "source": [
        "assert 5>0,'true'"
      ],
      "metadata": {
        "id": "pHMdC8_bgaHO"
      },
      "execution_count": null,
      "outputs": []
    },
    {
      "cell_type": "code",
      "source": [
        "#raises an error with message\n",
        "assert 0>5,'false'"
      ],
      "metadata": {
        "colab": {
          "base_uri": "https://localhost:8080/",
          "height": 171
        },
        "id": "MphlLKghhOw2",
        "outputId": "6a87b47f-612d-4e46-e135-5211fd5ca813"
      },
      "execution_count": null,
      "outputs": [
        {
          "output_type": "error",
          "ename": "AssertionError",
          "evalue": "ignored",
          "traceback": [
            "\u001b[0;31m---------------------------------------------------------------------------\u001b[0m",
            "\u001b[0;31mAssertionError\u001b[0m                            Traceback (most recent call last)",
            "\u001b[0;32m<ipython-input-27-ab390061b4ca>\u001b[0m in \u001b[0;36m<module>\u001b[0;34m()\u001b[0m\n\u001b[0;32m----> 1\u001b[0;31m \u001b[0;32massert\u001b[0m \u001b[0;36m0\u001b[0m\u001b[0;34m>\u001b[0m\u001b[0;36m5\u001b[0m\u001b[0;34m,\u001b[0m\u001b[0;34m'false'\u001b[0m\u001b[0;34m\u001b[0m\u001b[0;34m\u001b[0m\u001b[0m\n\u001b[0m",
            "\u001b[0;31mAssertionError\u001b[0m: false"
          ]
        }
      ]
    },
    {
      "cell_type": "code",
      "source": [
        "#handle assertion error\n",
        "try:\n",
        "  assert 0>5\n",
        "except:\n",
        "  print('false condition')"
      ],
      "metadata": {
        "colab": {
          "base_uri": "https://localhost:8080/"
        },
        "id": "_9uDo5OWhTug",
        "outputId": "36fcaf43-6dd6-4781-c9b2-7197dcf01bca"
      },
      "execution_count": null,
      "outputs": [
        {
          "output_type": "stream",
          "name": "stdout",
          "text": [
            "false condition\n"
          ]
        }
      ]
    },
    {
      "cell_type": "code",
      "source": [
        "#handling assertion error with msg\n",
        "try:\n",
        "  assert 0>5,'wrong'\n",
        "except:\n",
        "  print('write correct condition')"
      ],
      "metadata": {
        "colab": {
          "base_uri": "https://localhost:8080/"
        },
        "id": "sWMTiFe9hzw4",
        "outputId": "b4ca976d-b74c-412c-f953-ad8aa0e5dbce"
      },
      "execution_count": null,
      "outputs": [
        {
          "output_type": "stream",
          "name": "stdout",
          "text": [
            "write correct condition\n"
          ]
        }
      ]
    },
    {
      "cell_type": "code",
      "source": [
        "#handling assertion error with msg\n",
        "try:\n",
        "  assert 0>5,'wrong'\n",
        "except AssertionError as obj: # we can catch the exception as an object that contains some description about the exception\n",
        "  print(obj)"
      ],
      "metadata": {
        "colab": {
          "base_uri": "https://localhost:8080/"
        },
        "id": "Eg94b6KYiHSG",
        "outputId": "872b43f0-0881-4138-96be-7d687335f38b"
      },
      "execution_count": null,
      "outputs": [
        {
          "output_type": "stream",
          "name": "stdout",
          "text": [
            "wrong\n"
          ]
        }
      ]
    },
    {
      "cell_type": "markdown",
      "source": [
        "# User-Defined Exceptions\n",
        "In some situations where none of the built-in exceptions in python are useful for the programmer. In that case programmer has to create his own exception and raise it. which are called **user-defined exceptions**\n",
        "\n",
        "\n",
        "\n",
        "# steps to follow the user-defined exceptions\n",
        "1. since all exceptions are classes, the programmer is supposed to create his own exception as a class. Also, he should make his class as a sub class to the inbuilt 'Exception' class."
      ],
      "metadata": {
        "id": "tyyfh1h-sxJE"
      }
    },
    {
      "cell_type": "code",
      "source": [
        "class MyException(Exception):\n",
        "  def __init__(self,arg):\n",
        "    self.msg=arg"
      ],
      "metadata": {
        "id": "Q7VTKlORiVrO"
      },
      "execution_count": null,
      "outputs": []
    },
    {
      "cell_type": "markdown",
      "source": [
        "2. When the programmer suspects the possibility of exception, he should raise his own exception(Error) using **'raise'** statement as:\n"
      ],
      "metadata": {
        "id": "FwxVP91nv8Yg"
      }
    },
    {
      "cell_type": "code",
      "source": [
        "raise MyException('message')"
      ],
      "metadata": {
        "colab": {
          "base_uri": "https://localhost:8080/",
          "height": 171
        },
        "id": "1zF_sz6vv7QD",
        "outputId": "19998aed-2e34-4ae4-9641-a7f2169fd3c6"
      },
      "execution_count": null,
      "outputs": [
        {
          "output_type": "error",
          "ename": "MyException",
          "evalue": "ignored",
          "traceback": [
            "\u001b[0;31m---------------------------------------------------------------------------\u001b[0m",
            "\u001b[0;31mMyException\u001b[0m                               Traceback (most recent call last)",
            "\u001b[0;32m<ipython-input-43-b0920d86bae6>\u001b[0m in \u001b[0;36m<module>\u001b[0;34m()\u001b[0m\n\u001b[0;32m----> 1\u001b[0;31m \u001b[0;32mraise\u001b[0m \u001b[0mMyException\u001b[0m\u001b[0;34m(\u001b[0m\u001b[0;34m'message'\u001b[0m\u001b[0;34m)\u001b[0m\u001b[0;34m\u001b[0m\u001b[0;34m\u001b[0m\u001b[0m\n\u001b[0m",
            "\u001b[0;31mMyException\u001b[0m: message"
          ]
        }
      ]
    },
    {
      "cell_type": "markdown",
      "source": [
        "3. The programmer can insert the code inside the try block and catch the exception using except block."
      ],
      "metadata": {
        "id": "I9rQzBVKxOUf"
      }
    },
    {
      "cell_type": "code",
      "source": [
        "try:\n",
        "  #code\n",
        "  pass\n",
        "except MyException as me:\n",
        "  print(me)"
      ],
      "metadata": {
        "id": "Wj8HAcRnwrBN"
      },
      "execution_count": null,
      "outputs": []
    },
    {
      "cell_type": "code",
      "source": [
        "# example for user-defined exception\n",
        "class MyException(Exception):\n",
        "  def __init__(self,arg):\n",
        "    self.msg=arg\n",
        "# write the code where exception may raise\n",
        "# to raise the exception, use raise statement\n",
        "def check(dict):\n",
        "  for k,v in dict.items():\n",
        "    print('Name={:15s} Balance = {:10.2f}'.format(k,v))\n",
        "    if(v<2000.00):\n",
        "      raise MyException('Balance amount is less in the account of'+k)\n",
        "\n",
        "bank={'raj':5000.00,'vani':8900.00,'ajay':1900.00,'naresh':3000.00}\n",
        "\n",
        "#our own exception is handled using try and except blocks\n",
        "\n",
        "try:\n",
        "  check(bank)\n",
        "except MyException as me:\n",
        "  print(me)"
      ],
      "metadata": {
        "colab": {
          "base_uri": "https://localhost:8080/"
        },
        "id": "GtPFcXGuxK1c",
        "outputId": "559684d4-c800-4859-9243-12feb7b2b907"
      },
      "execution_count": null,
      "outputs": [
        {
          "output_type": "stream",
          "name": "stdout",
          "text": [
            "Name=raj             Balance =    5000.00\n",
            "Name=vani            Balance =    8900.00\n",
            "Name=ajay            Balance =    1900.00\n",
            "Balance amount is less in the account ofajay\n"
          ]
        }
      ]
    },
    {
      "cell_type": "markdown",
      "source": [
        "# Logging the Exceptions\n",
        "The file which stores the messages, especially of errors or exceptions is called a 'log' file and this technique is called **logging**.\n",
        "\n",
        "* we can open a log file and read it and take print of the file later to pin point the errors and also rectify them easily.\n",
        "* So logging helps in debugging the programs.\n",
        "\n",
        "Python provides a module **logging** that is useful to create a log file that  can store all error messages that may occur while executing a program."
      ],
      "metadata": {
        "id": "Pq-SI3uT0Vun"
      }
    },
    {
      "cell_type": "code",
      "source": [
        "import logging"
      ],
      "metadata": {
        "id": "k6xhklrfy506"
      },
      "execution_count": null,
      "outputs": []
    },
    {
      "cell_type": "code",
      "source": [
        "from logging import *"
      ],
      "metadata": {
        "id": "gBhmxZH04KHe"
      },
      "execution_count": null,
      "outputs": []
    },
    {
      "cell_type": "markdown",
      "source": [
        "\n",
        "\n",
        "```\n",
        "level                numeric value                 description\n",
        "\n",
        "CRITICAL                50              very serious error that needs high attention\n",
        "ERROR                  40                         serous error\n",
        "WARNING                30              a warning msg, some caution is needed\n",
        "INFO                   20               a msg with some important informaion.\n",
        "DEBUG                  10             a msg with debugging information\n",
        "NOTSET                 0            represent the level is not set\n",
        "```\n",
        "\n"
      ],
      "metadata": {
        "id": "__TRE7St4Oli"
      }
    },
    {
      "cell_type": "code",
      "source": [
        "import logging\n",
        "logging.basicConfig(filename='mylog.txt',level=logging.ERROR)"
      ],
      "metadata": {
        "id": "RvDkOjtZ5cMj"
      },
      "execution_count": null,
      "outputs": []
    },
    {
      "cell_type": "markdown",
      "source": [
        "In the above code the log file name is given as 'mylog.txt'. The level is set to ERROR. Hence the messages whose level will be at ERROR or above(i.e ERROR or CRITICAL) will only be stored into the log file.\n",
        "\n",
        "# we can add the messages to the 'mylog.txt' file as\n",
        "\n",
        "logging.methodname('message')\n",
        "\n",
        "methodnames can be critical(),error(),warning(),info() and debug().\n"
      ],
      "metadata": {
        "id": "kvx4FmE96KDy"
      }
    },
    {
      "cell_type": "code",
      "source": [
        "logging.critical('system crash- immediate attention is required')\n",
        "\n",
        "#this error msg is stored into the log file.i.e 'mylog.txt'"
      ],
      "metadata": {
        "id": "GIvdoWBb6ISe"
      },
      "execution_count": null,
      "outputs": []
    },
    {
      "cell_type": "code",
      "source": [
        "# example to create a log file with errors and critical messages\n",
        "import logging\n",
        "logging.basicConfig(filename='mylog.txt',level=logging.ERROR)\n",
        "#These messages are stored into the file\n",
        "logging.error('there is an error in the program')\n",
        "logging.critical('there is a problem in the design')\n",
        "\n",
        "#these are not stored\n",
        "logging.warning('the program is running slow')\n",
        "logging.info('u r a junior programmer')\n",
        "logging.debug('line 1o contains syntax error')"
      ],
      "metadata": {
        "id": "AX-kOtbl7xqd"
      },
      "execution_count": null,
      "outputs": []
    },
    {
      "cell_type": "code",
      "source": [
        "#example to store the messages released by an exception into log file.\n",
        "import logging\n",
        "logging.basicConfig(filename='mylog.txt',level=logging.ERROR)\n",
        "try:\n",
        "  a=int(input('enter number:'))\n",
        "  b=int(input('enter number:'))\n",
        "  c=a/b\n",
        "except Exception as e:\n",
        "  logging.exception(e)\n",
        "else:\n",
        "  print('the result of the division is:',c)"
      ],
      "metadata": {
        "id": "7ofMyohD9JAh",
        "colab": {
          "base_uri": "https://localhost:8080/"
        },
        "outputId": "42f34316-11fb-41df-9e80-744e67251aad"
      },
      "execution_count": null,
      "outputs": [
        {
          "output_type": "stream",
          "name": "stdout",
          "text": [
            "enter number:10\n",
            "enter number:2\n",
            "the result of the division is: 5.0\n"
          ]
        }
      ]
    },
    {
      "cell_type": "code",
      "source": [
        ""
      ],
      "metadata": {
        "id": "aRPqC6Yr_5Kq"
      },
      "execution_count": null,
      "outputs": []
    }
  ]
}